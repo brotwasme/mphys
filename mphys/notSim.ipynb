{
 "cells": [
  {
   "cell_type": "code",
   "execution_count": 1,
   "metadata": {},
   "outputs": [
    {
     "name": "stdout",
     "output_type": "stream",
     "text": [
      "refnx: 0.1.9\n",
      "scipy: 1.3.0\n",
      "numpy: 1.16.4\n"
     ]
    }
   ],
   "source": [
    "import os.path\n",
    "import numpy as np\n",
    "import matplotlib.pyplot as plt\n",
    "import scipy\n",
    "import refnx\n",
    "from refnx.dataset import ReflectDataset, Data1D\n",
    "from refnx.analysis import Transform, CurveFitter, Objective, Model, Parameter, GlobalObjective\n",
    "from refnx.reflect import SLD, Slab, ReflectModel, LipidLeaflet\n",
    "# from sepObjectiveGO import getObjective as gO\n",
    "from dynesty import DynamicNestedSampler\n",
    "from dynesty import plotting as dyplot\n",
    "# from CFitter import CFitter\n",
    "# import make_sim_data as msd\n",
    "# import lipidBilayerAsGiven.SLD_maker \n",
    "import data_in as di\n",
    "import lipidBilayerAsGiven.Bilayer as bl\n",
    "import lipidBilayerAsGiven.Popg as Pg\n",
    "import lipidBilayerAsGiven.Popc as Pc\n",
    "import lipidBilayerAsGiven.Dodab as ml\n",
    "\n",
    "print('refnx: %s\\nscipy: %s\\nnumpy: %s' % (refnx.version.version,\n",
    "                   scipy.version.version, np.version.version))\n",
    "%matplotlib inline\n",
    "SEED = 12345"
   ]
  },
  {
   "cell_type": "code",
   "execution_count": 2,
   "metadata": {},
   "outputs": [
    {
     "name": "stdout",
     "output_type": "stream",
     "text": [
      "csv\n",
      "cvs-collecting\n",
      "csv\n",
      "cvs-collecting\n"
     ]
    },
    {
     "data": {
      "image/png": "[encoded data removed]",
      "text/plain": [
       "<Figure size 432x288 with 1 Axes>"
      ]
     },
     "metadata": {
      "needs_background": "light"
     },
     "output_type": "display_data"
    }
   ],
   "source": [
    "dataD2o = Data1D(data=di.data_in(\"lipidBilayerData/54696_97_edit.txt\"))\n",
    "dataPmw = Data1D(data=di.data_in(\"lipidBilayerData/54699_00_edit.txt\"))\n",
    "\n",
    "plt.plot(dataD2o.data[0],dataD2o.data[1])\n",
    "plt.plot(dataPmw.data[0],dataPmw.data[1])\n",
    "plt.yscale(\"log\")\n",
    "plt.show()"
   ]
  },
  {
   "cell_type": "code",
   "execution_count": 3,
   "metadata": {},
   "outputs": [],
   "source": [
    "\n",
    "\n",
    "d2o = SLD(6.07, \"D2O\")\n",
    "pmw = SLD(2.35, \"Protein Matched Water\")\n",
    "air = SLD(0.00, \"Air\")\n",
    "\n",
    "p_Popc = Pc.Popc(pmw)\n",
    "p_Popg = Pg.Popg(pmw)\n",
    "\n",
    "d_Popc = Pc.Popc(d2o)\n",
    "d_Popg = Pg.Popg(d2o)\n",
    "\n",
    "bilayer_d2o = bl.Bilayer(d_Popc, d_Popg)\n",
    "bilayer_pmw = bl.Bilayer(p_Popc, p_Popg)\n",
    "\n",
    "bilayer_d2o2 = bl.Bilayer(Pc.Popc(d2o),Pg.Popg(d2o), name=\"Bilayer2\")\n",
    "bilayer_pmw2 = bl.Bilayer(Pc.Popc(pmw),Pg.Popg(pmw), name=\"Bilayer2\")\n",
    "\n",
    "dodab_d2o = ml.Dodab(d2o)\n",
    "dodab_pmw = ml.Dodab(pmw)"
   ]
  },
  {
   "cell_type": "code",
   "execution_count": 4,
   "metadata": {},
   "outputs": [],
   "source": [
    "structure_d2o = air(0, 0) | dodab_d2o | d2o(0, 0) | bilayer_d2o | d2o(0, 0) | bilayer_d2o2 | d2o(0, 0)\n",
    "structure_pmw = air(0, 0) | dodab_pmw | pmw(0, 0) | bilayer_pmw | pmw(0, 0) | bilayer_pmw2 | pmw(0, 0)\n",
    "\n",
    "d2o.real.setp(6.07, vary=True, bounds=(5.35, 6.35))\n",
    "pmw.real.setp(2.34, vary=True, bounds=(1.35, 3.35))\n",
    "structure_d2o[2].thick.setp(14.3, vary=True, bounds=(6, 20))\n",
    "structure_d2o[2].rough.setp(4.6, vary=True, bounds=(3, 20))"
   ]
  },
  {
   "cell_type": "code",
   "execution_count": null,
   "metadata": {},
   "outputs": [],
   "source": [
    "model1 = ReflectModel(structure_d2o)\n",
    "model1.scale.setp(0.75, vary=True, bounds=(0.5, 1.5))\n",
    "model1.bkg.setp(dataD2o.y.min(),vary=True,bounds=(dataD2o.y.min() * 0.2, dataD2o.y.min() * 1.8))\n",
    "\n",
    "model2 = ReflectModel(structure_pmw)\n",
    "model2.scale.setp(0.75, vary=True, bounds=(0.5, 1.5))\n",
    "model2.bkg.setp(dataPmw.y.min(),vary=True,bounds=(dataPmw.y.min() * 0.2, dataPmw.y.min() * 1.8))\n",
    "\n",
    "objective1 = Objective(model1, dataD2o)#, transform=Transform(\"logY\"))\n",
    "objective2 = Objective(model2, dataPmw)#, transform=Transform(\"logY\"))\n",
    "gobjective = GlobalObjective([objective1,objective2])\n",
    "\n",
    "if True:\n",
    "    fitter = CurveFitter(gobjective)\n",
    "    fitter.fit(\"differential_evolution\", target=\"nlpost\")#, seed=SEED)\n",
    "    # fitter.sample(200, random_state=SEED)\n",
    "    # fitter.sampler.reset()\n",
    "    # fitter.sample(200, random_state=SEED,\n",
    "    #             f=\"lipidBilayerAsGiven/outputs/nbilayer_chain.txt\")\n",
    "    # file_o = open('lipidBilayerAsGiven/outputs/nbilayer.txt', 'w')\n",
    "    # file_o.write(\"{}\".format(gobjective))\n",
    "    # file_o.close()"
   ]
  },
  {
   "cell_type": "code",
   "execution_count": null,
   "metadata": {},
   "outputs": [],
   "source": [
    "objective1.plot()\n",
    "plt.yscale('log')\n",
    "plt.xlabel('Q')\n",
    "plt.ylabel('Reflectivity')\n",
    "# plt.legend();"
   ]
  },
  {
   "cell_type": "code",
   "execution_count": null,
   "metadata": {},
   "outputs": [],
   "source": [
    "gobjective.plot()\n",
    "plt.yscale('log')\n",
    "plt.xlabel('Q')\n",
    "plt.ylabel('Reflectivity')"
   ]
  }
 ],
 "metadata": {
  "kernelspec": {
   "display_name": "Python 3",
   "language": "python",
   "name": "python3"
  },
  "language_info": {
   "codemirror_mode": {
    "name": "ipython",
    "version": 3
   },
   "file_extension": ".py",
   "mimetype": "text/x-python",
   "name": "python",
   "nbconvert_exporter": "python",
   "pygments_lexer": "ipython3",
   "version": "3.7.3"
  }
 },
 "nbformat": 4,
 "nbformat_minor": 2
}
