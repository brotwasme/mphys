{
 "cells": [
  {
   "cell_type": "code",
   "execution_count": 1,
   "metadata": {},
   "outputs": [
    {
     "name": "stdout",
     "output_type": "stream",
     "text": [
      "refnx: 0.1.9\n",
      "scipy: 1.3.0\n",
      "numpy: 1.16.4\n"
     ]
    }
   ],
   "source": [
    "import os.path\n",
    "import numpy as np\n",
    "import matplotlib.pyplot as plt\n",
    "import scipy\n",
    "import refnx\n",
    "from refnx.dataset import ReflectDataset, Data1D\n",
    "from refnx.analysis import Transform, CurveFitter, Objective, Model, Parameter, GlobalObjective\n",
    "from refnx.reflect import SLD, Slab, ReflectModel\n",
    "# from sepObjectiveGO import getObjective as gO\n",
    "# import make_sim_data as msd\n",
    "# import lipidBilayerAsGiven.SLD_maker \n",
    "import data_in as di\n",
    "from lipidBilayerAsGiven.LipidLeaflet_WaterPer_builtOn3 import LipidLeafletWithWaterPer as LipidLeaflet\n",
    "from protein.protrusion2 import Protrusion\n",
    "\n",
    "from refnx._lib import flatten\n",
    "from refnx._lib import unique as f_unique\n",
    "\n",
    "print('refnx: %s\\nscipy: %s\\nnumpy: %s' % (refnx.version.version,\n",
    "                   scipy.version.version, np.version.version))\n",
    "%matplotlib inline\n",
    "SEED = 12345"
   ]
  },
  {
   "cell_type": "code",
   "execution_count": 2,
   "metadata": {},
   "outputs": [
    {
     "name": "stdout",
     "output_type": "stream",
     "text": [
      "csv\n",
      "cvs-collecting\n",
      "csv\n",
      "cvs-collecting\n",
      "csv\n",
      "cvs-collecting\n"
     ]
    },
    {
     "data": {
      "image/png": "[encoded data removed]",
      "text/plain": [
       "<Figure size 432x288 with 1 Axes>"
      ]
     },
     "metadata": {
      "needs_background": "light"
     },
     "output_type": "display_data"
    }
   ],
   "source": [
    "# dataD2o = Data1D(data=di.data_in(\"lipidBilayerData/54696_97_edit.txt\"))\n",
    "# dataD2o.name=\"d2o\"\n",
    "# dataPmw = Data1D(data=di.data_in(\"lipidBilayerData/54699_00_edit.txt\"))\n",
    "# dataPmw.name=\"pmw\"\n",
    "\n",
    "dataAcmw = Data1D(data=di.data_in(\"protein/54613_14edit.txt\"))\n",
    "dataAcmw.name=\"acm\"\n",
    "dataPmw = Data1D(data=di.data_in(\"protein/54616_17edit.txt\"))\n",
    "dataPmw.name=\"pmw\"\n",
    "dataD2o = Data1D(data=di.data_in(\"protein/10_11_d2o.txt\"))\n",
    "dataD2o.name=\"d2o\"\n",
    "plt.errorbar(dataAcmw.data[0],dataAcmw.data[1],dataAcmw.data[2])\n",
    "plt.errorbar(dataPmw.data[0],dataPmw.data[1],dataPmw.data[2])\n",
    "plt.errorbar(dataD2o.data[0],dataD2o.data[1],dataD2o.data[2])\n",
    "plt.yscale(\"log\")\n",
    "plt.show()"
   ]
  },
  {
   "cell_type": "code",
   "execution_count": 3,
   "metadata": {},
   "outputs": [],
   "source": [
    "name = \"bilayer\"\n",
    "\n",
    "d2o = SLD(6.34, \"D2O\")\n",
    "pmw = SLD(2.35, \"Protein Matched Water\")\n",
    "acmw = SLD(0.00, \"ACMW\")\n",
    "air = SLD(0.00, \"Air\")\n",
    "\n",
    "d2o.real.setp(vary=True, bounds=(5.35, 6.35)) # bounds=(5.9, 6.35))\n",
    "pmw.real.setp(vary=True, bounds=(1.35, 3.35))\n",
    "acmw.real.setp(vary=True, bounds=(-0.56, 1))\n",
    "\n",
    "apm = Parameter(value=101, name='%s - area_per_molecule' % name,\n",
    "                bounds=(100, 200), vary=False)\n",
    "\n",
    "#Define all the neutron b's\n",
    "bc = 0.6646e-4  #Carbon\n",
    "bo = 0.5804e-4  #Oxygen\n",
    "bh = -0.3739e-4 #Hydrogen\n",
    "bp = 0.513e-4   #Phosphorus\n",
    "bn = 0.936e-4   #Nitrogen\n",
    "bd = 0.6671e-4  #Deuterium\n",
    "\n",
    "#Formulae of the molecule sections...\n",
    "CH2 = (1*bc) + (2*bh)\n",
    "CH = (1*bc) + (1*bh)\n",
    "CH3 = (1*bc) + (3*bh)\n",
    "D2O = (2*bd) + (1*bo)\n",
    "H2O = (2*bh) + (1*bo)\n",
    "\n",
    "# Calculate mole fraction of D2O from the bulk SLD..\n",
    "# d2o_molfr = (1/D2O-H2O)*(contrast*27.64)-H2O\n",
    "# wMol = (d2o_molfr * D2O) + ((1-d2o_molfr)*H2O)\n",
    "\n",
    "#sum b's of all the different fragments\n",
    "b_tails = Parameter(value=(28*CH2) + (2*CH) + (2*CH3),\n",
    "                       name='%s - b_tails_real' % name)\n",
    "\n",
    "sum_popc_heads = (8*bo) + (1*bp) + (1*bn) + (2*bc) + (4*CH2) + (3*CH3) + (1*CH)\n",
    "sum_popg_heads = (10*bo) + (1*bp) + (2*bc) + (4*CH2) + (2*CH) + (2*bh)\n",
    "b_heads = Parameter(value=(3*(sum_popc_heads) + (sum_popg_heads))/4,\n",
    "                        name='%s - b_heads_real' % name)\n",
    "\n",
    "#monolayer compositions\n",
    "#sum_m_tails = (34*CH2) + (2*CH3);\n",
    "#sum_m_heads = (1*bn) + (2*CH3) + (Waters_per_headD * wMol);\n",
    "\n",
    "#volumes of each fragment\n",
    "vCH2 = 27.7\n",
    "nCH2 = 30\n",
    "vCH3 = 54.6\n",
    "vm_tails = Parameter(value=(nCH2 * vCH2) + (2 * vCH3),\n",
    "            name='%s - volume_tails' % name) #\n",
    "vm_heads = Parameter(value=331,\n",
    "            name='%s - volume_heads' % name)  #\n",
    "vm_water = Parameter(value=29.7,\n",
    "            name='%s - water_vm' % name)\n",
    "\n",
    "#thickness\n",
    "thickness_tails = Parameter(11, # 6., #value=vm_tails.value/apm.value,\n",
    "            name='%s - thickness_tails' % name,\n",
    "            bounds=(1,30),  #3, #(1-0.75)*vm_tails.value/apm.value,\n",
    "                      #9), #(1+0.75)*vm_tails.value/apm.value),\n",
    "               vary=True)\n",
    "thickness_heads = Parameter(value= 6, #11., #vm_heads.value/apm.value,\n",
    "            name='%s - thickness_heads' % name,\n",
    "            bounds=(1,30),  #  9, #(1-0.75)*vm_heads.value/apm.value,\n",
    "                      # 20), #(1+0.75)*vm_heads.value/apm.value),\n",
    "               vary=True)\n",
    "\n",
    "rough_head_tail = Parameter(value=2,\n",
    "            name='%s - roughs' % name,\n",
    "            bounds=(0,10), vary=True)\n",
    "\n",
    "rough_top = Parameter(value=2,\n",
    "            name='%s - roughs' % name,\n",
    "            bounds=(0,10), vary=True)\n",
    "# rough_bot = rough_top\n",
    "# rough_head_ = Parameter(value=2.0,\n",
    "#             name='%s - rough_bot' % name,\n",
    "#             bounds=(0,10), vary=True)\n",
    "\n",
    "waters_per_head = Parameter(\n",
    "            value=2.8,\n",
    "            name=\"{} - Waters Per Head\".format(name),\n",
    "            bounds=(0, 20), vary=True)\n",
    "\n",
    "waters_per_tail = Parameter(\n",
    "            value=1,\n",
    "            name=\"{} - Waters Per Tail\".format(name),\n",
    "            bounds=(0, 10), vary=True)\n",
    "\n",
    "# b_mscl = Parameter(\n",
    "#             value= ,\n",
    "#             name=\"{} - b_protein_real\".format(name),\n",
    "#             vary=False)\n",
    "\n",
    "vm_mscl = Parameter(\n",
    "            value=74937.5 + 19749,\n",
    "            name=\"{} - volume_protein\".format(name),\n",
    "            vary=False)\n",
    "\n",
    "PLRatio = Parameter(\n",
    "            value= 0.75,\n",
    "            name=\"{} - ratio protein to bilayer\".format(name),\n",
    "            bounds=(0.5, 1),vary=True)\n"
   ]
  },
  {
   "cell_type": "code",
   "execution_count": 4,
   "metadata": {},
   "outputs": [],
   "source": [
    "# apm, b_heads, vm_heads, thickness_heads\n",
    "# b_tails, vm_tails, thickness_tails, rough_head_tail\n",
    "# rough_preceding_mono, head_solvent\n",
    "\n",
    "\n",
    "# head_solvent_d2o = SLD(6.07, \"D2O in bilayer\")\n",
    "# head_solvent_d2o.real.setp(6.07, vary=True, bounds=(5.35, 6.35))\n",
    "upper_lipid_d2o = LipidLeaflet(apm, b_heads, vm_heads, thickness_heads,\n",
    "    b_tails, vm_tails, thickness_tails, rough_top, rough_top,\n",
    "    vm_water, waters_per_head, waters_per_tail,\n",
    "#     vm_mscl, PLRatio,\n",
    "                               d2o, d2o,\n",
    "    reverse_monolayer=False, name=\"upper_lipid_d2o\")\n",
    "\n",
    "lower_lipid_d2o = LipidLeaflet(apm, b_heads, vm_heads, thickness_heads,\n",
    "    b_tails, vm_tails, thickness_tails, rough_top, rough_top,\n",
    "    vm_water, waters_per_head, waters_per_tail,\n",
    "#     vm_mscl, PLRatio,\n",
    "                               d2o, d2o,\n",
    "    reverse_monolayer=True, name=\"lower_lipid_d2o\")\n",
    "\n",
    "\n",
    "# head_solvent_pmw = SLD(2.35, \"Protein Matched Water in bilayer\")\n",
    "# head_solvent_pmw.real.setp(2.34, vary=True, bounds=(1.35, 3.35))\n",
    "upper_lipid_pmw = LipidLeaflet(apm, b_heads, vm_heads, thickness_heads,\n",
    "    b_tails, vm_tails, thickness_tails, rough_top, rough_top,\n",
    "    vm_water, waters_per_head, waters_per_tail,\n",
    "#     vm_mscl, PLRatio,\n",
    "                               pmw, pmw,\n",
    "    reverse_monolayer=False, name=\"upper_lipid_pmw\")\n",
    "\n",
    "lower_lipid_pmw = LipidLeaflet(apm, b_heads, vm_heads, thickness_heads,\n",
    "    b_tails, vm_tails, thickness_tails, rough_top, rough_top,\n",
    "    vm_water, waters_per_head, waters_per_tail,\n",
    "#     vm_mscl, PLRatio,\n",
    "                               pmw, pmw,\n",
    "    reverse_monolayer=True, name=\"lower_lipid_pmw\")\n",
    "\n",
    "\n",
    "upper_lipid_acmw = LipidLeaflet(apm, b_heads, vm_heads, thickness_heads,\n",
    "    b_tails, vm_tails, thickness_tails, rough_top, rough_top,\n",
    "    vm_water, waters_per_head, waters_per_tail,\n",
    "#     vm_mscl, PLRatio,\n",
    "                                acmw, acmw,\n",
    "    reverse_monolayer=False, name=\"upper_lipid_acmw\")\n",
    "\n",
    "lower_lipid_acmw = LipidLeaflet(apm, b_heads, vm_heads, thickness_heads,\n",
    "    b_tails, vm_tails, thickness_tails, rough_top, rough_top,\n",
    "    vm_water, waters_per_head, waters_per_tail,\n",
    "#     vm_mscl, PLRatio,\n",
    "                                acmw, acmw,\n",
    "    reverse_monolayer=True, name=\"lower_lipid_acmw\")"
   ]
  },
  {
   "cell_type": "code",
   "execution_count": null,
   "metadata": {},
   "outputs": [],
   "source": []
  },
  {
   "cell_type": "code",
   "execution_count": null,
   "metadata": {},
   "outputs": [],
   "source": []
  },
  {
   "cell_type": "code",
   "execution_count": 5,
   "metadata": {
    "scrolled": true
   },
   "outputs": [
    {
     "data": {
      "image/png": "[encoded data removed]",
      "text/plain": [
       "<Figure size 432x288 with 1 Axes>"
      ]
     },
     "metadata": {
      "needs_background": "light"
     },
     "output_type": "display_data"
    },
    {
     "name": "stdout",
     "output_type": "stream",
     "text": [
      "________________________________________________________________________________\n",
      "Parameters: 'Structure - d2o'\n",
      "________________________________________________________________________________\n",
      "Parameters:      'Air'     \n",
      "<Parameter: 'Air - thick' , value=0 (fixed)  , bounds=[-inf, inf]>\n",
      "<Parameter:  'Air - sld'  , value=0 (fixed)  , bounds=[-inf, inf]>\n",
      "<Parameter: 'Air - isld'  , value=0 (fixed)  , bounds=[-inf, inf]>\n",
      "<Parameter: 'Air - rough' , value=0 (fixed)  , bounds=[-inf, inf]>\n",
      "<Parameter:'Air - volfrac solvent', value=0 (fixed)  , bounds=[-inf, inf]>\n",
      "________________________________________________________________________________\n",
      "Parameters:      'D2O'     \n",
      "<Parameter:'thickness_solution', value=14.3          , bounds=[6, 25]>\n",
      "<Parameter:  'D2O - sld'  , value=6.34          , bounds=[5.35, 6.35]>\n",
      "<Parameter: 'D2O - isld'  , value=0 (fixed)  , bounds=[-inf, inf]>\n",
      "<Parameter:'rough_preceding_solution', value=4.6          , bounds=[0, 20]>\n",
      "<Parameter:'D2O - volfrac solvent', value=0 (fixed)  , bounds=[-inf, inf]>\n",
      "________________________________________________________________________________\n",
      "Parameters: 'upper_lipid_d2o'\n",
      "<Parameter:'bilayer - area_per_molecule', value=81.4153 (fixed)  , bounds=[100, 200]>\n",
      "<Parameter:'bilayer - b_heads_real', value=0.000629275 (fixed)  , bounds=[-inf, inf]>\n",
      "<Parameter:'upper_lipid_d2o - b_heads_imag', value=0 (fixed)  , bounds=[-inf, inf]>\n",
      "<Parameter:'bilayer - volume_heads', value=331 (fixed)  , bounds=[-inf, inf]>\n",
      "<Parameter:'bilayer - thickness_heads', value=6          , bounds=[1, 30]>\n",
      "<Parameter:'bilayer - b_tails_real', value=-0.00026624 (fixed)  , bounds=[-inf, inf]>\n",
      "<Parameter:'upper_lipid_d2o - b_tails_imag', value=0 (fixed)  , bounds=[-inf, inf]>\n",
      "<Parameter:'bilayer - volume_tails', value=940.2 (fixed)  , bounds=[-inf, inf]>\n",
      "<Parameter:'bilayer - thickness_tails', value=11          , bounds=[1, 30]>\n",
      "<Parameter:'bilayer - roughs', value=2          , bounds=[0, 10]>\n",
      "<Parameter:'bilayer - roughs', value=2          , bounds=[0, 10]>\n",
      "________________________________________________________________________________\n",
      "Parameters:       ''       \n",
      "<Parameter:  'D2O - sld'  , value=6.34          , bounds=[5.35, 6.35]>\n",
      "<Parameter: 'D2O - isld'  , value=0 (fixed)  , bounds=[-inf, inf]>\n",
      "________________________________________________________________________________\n",
      "Parameters:       ''       \n",
      "<Parameter:  'D2O - sld'  , value=6.34          , bounds=[5.35, 6.35]>\n",
      "<Parameter: 'D2O - isld'  , value=0 (fixed)  , bounds=[-inf, inf]>\n",
      "<Parameter:'bilayer - water_vm', value=29.7 (fixed)  , bounds=[-inf, inf]>\n",
      "<Parameter:'bilayer - Waters Per Head', value=2.8          , bounds=[0, 20]>\n",
      "<Parameter:'bilayer - Waters Per Tail', value=1          , bounds=[0, 10]>\n",
      "<Parameter:'bilayer - Waters Per Head', value=2.8          , bounds=[0, 20]>\n",
      "<Parameter:'bilayer - Waters Per Tail', value=1          , bounds=[0, 10]>\n",
      "________________________________________________________________________________\n",
      "Parameters: 'lower_lipid_d2o'\n",
      "<Parameter:'bilayer - area_per_molecule', value=81.4153 (fixed)  , bounds=[100, 200]>\n",
      "<Parameter:'bilayer - b_heads_real', value=0.000629275 (fixed)  , bounds=[-inf, inf]>\n",
      "<Parameter:'lower_lipid_d2o - b_heads_imag', value=0 (fixed)  , bounds=[-inf, inf]>\n",
      "<Parameter:'bilayer - volume_heads', value=331 (fixed)  , bounds=[-inf, inf]>\n",
      "<Parameter:'bilayer - thickness_heads', value=6          , bounds=[1, 30]>\n",
      "<Parameter:'bilayer - b_tails_real', value=-0.00026624 (fixed)  , bounds=[-inf, inf]>\n",
      "<Parameter:'lower_lipid_d2o - b_tails_imag', value=0 (fixed)  , bounds=[-inf, inf]>\n",
      "<Parameter:'bilayer - volume_tails', value=940.2 (fixed)  , bounds=[-inf, inf]>\n",
      "<Parameter:'bilayer - thickness_tails', value=11          , bounds=[1, 30]>\n",
      "<Parameter:'bilayer - roughs', value=2          , bounds=[0, 10]>\n",
      "<Parameter:'bilayer - roughs', value=2          , bounds=[0, 10]>\n",
      "________________________________________________________________________________\n",
      "Parameters:       ''       \n",
      "<Parameter:  'D2O - sld'  , value=6.34          , bounds=[5.35, 6.35]>\n",
      "<Parameter: 'D2O - isld'  , value=0 (fixed)  , bounds=[-inf, inf]>\n",
      "________________________________________________________________________________\n",
      "Parameters:       ''       \n",
      "<Parameter:  'D2O - sld'  , value=6.34          , bounds=[5.35, 6.35]>\n",
      "<Parameter: 'D2O - isld'  , value=0 (fixed)  , bounds=[-inf, inf]>\n",
      "<Parameter:'bilayer - water_vm', value=29.7 (fixed)  , bounds=[-inf, inf]>\n",
      "<Parameter:'bilayer - Waters Per Head', value=2.8          , bounds=[0, 20]>\n",
      "<Parameter:'bilayer - Waters Per Tail', value=1          , bounds=[0, 10]>\n",
      "<Parameter:'bilayer - Waters Per Head', value=2.8          , bounds=[0, 20]>\n",
      "<Parameter:'bilayer - Waters Per Tail', value=1          , bounds=[0, 10]>\n",
      "________________________________________________________________________________\n",
      "Parameters:      'D2O'     \n",
      "<Parameter:'thickness_solution', value=14.3          , bounds=[6, 25]>\n",
      "<Parameter:  'D2O - sld'  , value=6.34          , bounds=[5.35, 6.35]>\n",
      "<Parameter: 'D2O - isld'  , value=0 (fixed)  , bounds=[-inf, inf]>\n",
      "<Parameter:'bilayer - roughs', value=2          , bounds=[0, 10]>\n",
      "<Parameter:'D2O - volfrac solvent', value=0 (fixed)  , bounds=[-inf, inf]>\n",
      "________________________________________________________________________________\n",
      "Parameters: 'Structure - protein matched water'\n",
      "________________________________________________________________________________\n",
      "Parameters:      'Air'     \n",
      "<Parameter: 'Air - thick' , value=0 (fixed)  , bounds=[-inf, inf]>\n",
      "<Parameter:  'Air - sld'  , value=0 (fixed)  , bounds=[-inf, inf]>\n",
      "<Parameter: 'Air - isld'  , value=0 (fixed)  , bounds=[-inf, inf]>\n",
      "<Parameter: 'Air - rough' , value=0 (fixed)  , bounds=[-inf, inf]>\n",
      "<Parameter:'Air - volfrac solvent', value=0 (fixed)  , bounds=[-inf, inf]>\n",
      "________________________________________________________________________________\n",
      "Parameters: 'Protein Matched Water'\n",
      "<Parameter:'thickness_solution', value=14.3          , bounds=[6, 25]>\n",
      "<Parameter:'Protein Matched Water - sld', value=2.35          , bounds=[1.35, 3.35]>\n",
      "<Parameter:'Protein Matched Water - isld', value=0 (fixed)  , bounds=[-inf, inf]>\n",
      "<Parameter:'rough_preceding_solution', value=4.6          , bounds=[0, 20]>\n",
      "<Parameter:'Protein Matched Water - volfrac solvent', value=0 (fixed)  , bounds=[-inf, inf]>\n",
      "________________________________________________________________________________\n",
      "Parameters: 'upper_lipid_pmw'\n",
      "<Parameter:'bilayer - area_per_molecule', value=81.4153 (fixed)  , bounds=[100, 200]>\n",
      "<Parameter:'bilayer - b_heads_real', value=0.000629275 (fixed)  , bounds=[-inf, inf]>\n",
      "<Parameter:'upper_lipid_pmw - b_heads_imag', value=0 (fixed)  , bounds=[-inf, inf]>\n",
      "<Parameter:'bilayer - volume_heads', value=331 (fixed)  , bounds=[-inf, inf]>\n",
      "<Parameter:'bilayer - thickness_heads', value=6          , bounds=[1, 30]>\n",
      "<Parameter:'bilayer - b_tails_real', value=-0.00026624 (fixed)  , bounds=[-inf, inf]>\n",
      "<Parameter:'upper_lipid_pmw - b_tails_imag', value=0 (fixed)  , bounds=[-inf, inf]>\n",
      "<Parameter:'bilayer - volume_tails', value=940.2 (fixed)  , bounds=[-inf, inf]>\n",
      "<Parameter:'bilayer - thickness_tails', value=11          , bounds=[1, 30]>\n",
      "<Parameter:'bilayer - roughs', value=2          , bounds=[0, 10]>\n",
      "<Parameter:'bilayer - roughs', value=2          , bounds=[0, 10]>\n",
      "________________________________________________________________________________\n",
      "Parameters:       ''       \n",
      "<Parameter:'Protein Matched Water - sld', value=2.35          , bounds=[1.35, 3.35]>\n",
      "<Parameter:'Protein Matched Water - isld', value=0 (fixed)  , bounds=[-inf, inf]>\n",
      "________________________________________________________________________________\n",
      "Parameters:       ''       \n",
      "<Parameter:'Protein Matched Water - sld', value=2.35          , bounds=[1.35, 3.35]>\n",
      "<Parameter:'Protein Matched Water - isld', value=0 (fixed)  , bounds=[-inf, inf]>\n",
      "<Parameter:'bilayer - water_vm', value=29.7 (fixed)  , bounds=[-inf, inf]>\n",
      "<Parameter:'bilayer - Waters Per Head', value=2.8          , bounds=[0, 20]>\n",
      "<Parameter:'bilayer - Waters Per Tail', value=1          , bounds=[0, 10]>\n",
      "<Parameter:'bilayer - Waters Per Head', value=2.8          , bounds=[0, 20]>\n",
      "<Parameter:'bilayer - Waters Per Tail', value=1          , bounds=[0, 10]>\n",
      "________________________________________________________________________________\n",
      "Parameters: 'lower_lipid_pmw'\n",
      "<Parameter:'bilayer - area_per_molecule', value=81.4153 (fixed)  , bounds=[100, 200]>\n",
      "<Parameter:'bilayer - b_heads_real', value=0.000629275 (fixed)  , bounds=[-inf, inf]>\n",
      "<Parameter:'lower_lipid_pmw - b_heads_imag', value=0 (fixed)  , bounds=[-inf, inf]>\n",
      "<Parameter:'bilayer - volume_heads', value=331 (fixed)  , bounds=[-inf, inf]>\n",
      "<Parameter:'bilayer - thickness_heads', value=6          , bounds=[1, 30]>\n",
      "<Parameter:'bilayer - b_tails_real', value=-0.00026624 (fixed)  , bounds=[-inf, inf]>\n",
      "<Parameter:'lower_lipid_pmw - b_tails_imag', value=0 (fixed)  , bounds=[-inf, inf]>\n",
      "<Parameter:'bilayer - volume_tails', value=940.2 (fixed)  , bounds=[-inf, inf]>\n",
      "<Parameter:'bilayer - thickness_tails', value=11          , bounds=[1, 30]>\n",
      "<Parameter:'bilayer - roughs', value=2          , bounds=[0, 10]>\n",
      "<Parameter:'bilayer - roughs', value=2          , bounds=[0, 10]>\n",
      "________________________________________________________________________________\n",
      "Parameters:       ''       \n",
      "<Parameter:'Protein Matched Water - sld', value=2.35          , bounds=[1.35, 3.35]>\n",
      "<Parameter:'Protein Matched Water - isld', value=0 (fixed)  , bounds=[-inf, inf]>\n",
      "________________________________________________________________________________\n",
      "Parameters:       ''       \n",
      "<Parameter:'Protein Matched Water - sld', value=2.35          , bounds=[1.35, 3.35]>\n",
      "<Parameter:'Protein Matched Water - isld', value=0 (fixed)  , bounds=[-inf, inf]>\n",
      "<Parameter:'bilayer - water_vm', value=29.7 (fixed)  , bounds=[-inf, inf]>\n",
      "<Parameter:'bilayer - Waters Per Head', value=2.8          , bounds=[0, 20]>\n",
      "<Parameter:'bilayer - Waters Per Tail', value=1          , bounds=[0, 10]>\n",
      "<Parameter:'bilayer - Waters Per Head', value=2.8          , bounds=[0, 20]>\n",
      "<Parameter:'bilayer - Waters Per Tail', value=1          , bounds=[0, 10]>\n",
      "________________________________________________________________________________\n",
      "Parameters: 'Protein Matched Water'\n",
      "<Parameter:'thickness_solution', value=14.3          , bounds=[6, 25]>\n",
      "<Parameter:'Protein Matched Water - sld', value=2.35          , bounds=[1.35, 3.35]>\n",
      "<Parameter:'Protein Matched Water - isld', value=0 (fixed)  , bounds=[-inf, inf]>\n",
      "<Parameter:'bilayer - roughs', value=2          , bounds=[0, 10]>\n"
     ]
    },
    {
     "name": "stdout",
     "output_type": "stream",
     "text": [
      "<Parameter:'Protein Matched Water - volfrac solvent', value=0 (fixed)  , bounds=[-inf, inf]>\n",
      "________________________________________________________________________________\n",
      "Parameters: 'Structure - ACMW'\n",
      "________________________________________________________________________________\n",
      "Parameters:      'Air'     \n",
      "<Parameter: 'Air - thick' , value=0 (fixed)  , bounds=[-inf, inf]>\n",
      "<Parameter:  'Air - sld'  , value=0 (fixed)  , bounds=[-inf, inf]>\n",
      "<Parameter: 'Air - isld'  , value=0 (fixed)  , bounds=[-inf, inf]>\n",
      "<Parameter: 'Air - rough' , value=0 (fixed)  , bounds=[-inf, inf]>\n",
      "<Parameter:'Air - volfrac solvent', value=0 (fixed)  , bounds=[-inf, inf]>\n",
      "________________________________________________________________________________\n",
      "Parameters:     'ACMW'     \n",
      "<Parameter:'thickness_solution', value=14.3          , bounds=[6, 25]>\n",
      "<Parameter: 'ACMW - sld'  , value=0          , bounds=[-0.56, 1]>\n",
      "<Parameter: 'ACMW - isld' , value=0 (fixed)  , bounds=[-inf, inf]>\n",
      "<Parameter:'rough_preceding_solution', value=4.6          , bounds=[0, 20]>\n",
      "<Parameter:'ACMW - volfrac solvent', value=0 (fixed)  , bounds=[-inf, inf]>\n",
      "________________________________________________________________________________\n",
      "Parameters: 'upper_lipid_acmw'\n",
      "<Parameter:'bilayer - area_per_molecule', value=81.4153 (fixed)  , bounds=[100, 200]>\n",
      "<Parameter:'bilayer - b_heads_real', value=0.000629275 (fixed)  , bounds=[-inf, inf]>\n",
      "<Parameter:'upper_lipid_acmw - b_heads_imag', value=0 (fixed)  , bounds=[-inf, inf]>\n",
      "<Parameter:'bilayer - volume_heads', value=331 (fixed)  , bounds=[-inf, inf]>\n",
      "<Parameter:'bilayer - thickness_heads', value=6          , bounds=[1, 30]>\n",
      "<Parameter:'bilayer - b_tails_real', value=-0.00026624 (fixed)  , bounds=[-inf, inf]>\n",
      "<Parameter:'upper_lipid_acmw - b_tails_imag', value=0 (fixed)  , bounds=[-inf, inf]>\n",
      "<Parameter:'bilayer - volume_tails', value=940.2 (fixed)  , bounds=[-inf, inf]>\n",
      "<Parameter:'bilayer - thickness_tails', value=11          , bounds=[1, 30]>\n",
      "<Parameter:'bilayer - roughs', value=2          , bounds=[0, 10]>\n",
      "<Parameter:'bilayer - roughs', value=2          , bounds=[0, 10]>\n",
      "________________________________________________________________________________\n",
      "Parameters:       ''       \n",
      "<Parameter: 'ACMW - sld'  , value=0          , bounds=[-0.56, 1]>\n",
      "<Parameter: 'ACMW - isld' , value=0 (fixed)  , bounds=[-inf, inf]>\n",
      "________________________________________________________________________________\n",
      "Parameters:       ''       \n",
      "<Parameter: 'ACMW - sld'  , value=0          , bounds=[-0.56, 1]>\n",
      "<Parameter: 'ACMW - isld' , value=0 (fixed)  , bounds=[-inf, inf]>\n",
      "<Parameter:'bilayer - water_vm', value=29.7 (fixed)  , bounds=[-inf, inf]>\n",
      "<Parameter:'bilayer - Waters Per Head', value=2.8          , bounds=[0, 20]>\n",
      "<Parameter:'bilayer - Waters Per Tail', value=1          , bounds=[0, 10]>\n",
      "<Parameter:'bilayer - Waters Per Head', value=2.8          , bounds=[0, 20]>\n",
      "<Parameter:'bilayer - Waters Per Tail', value=1          , bounds=[0, 10]>\n",
      "________________________________________________________________________________\n",
      "Parameters: 'lower_lipid_acmw'\n",
      "<Parameter:'bilayer - area_per_molecule', value=81.4153 (fixed)  , bounds=[100, 200]>\n",
      "<Parameter:'bilayer - b_heads_real', value=0.000629275 (fixed)  , bounds=[-inf, inf]>\n",
      "<Parameter:'lower_lipid_acmw - b_heads_imag', value=0 (fixed)  , bounds=[-inf, inf]>\n",
      "<Parameter:'bilayer - volume_heads', value=331 (fixed)  , bounds=[-inf, inf]>\n",
      "<Parameter:'bilayer - thickness_heads', value=6          , bounds=[1, 30]>\n",
      "<Parameter:'bilayer - b_tails_real', value=-0.00026624 (fixed)  , bounds=[-inf, inf]>\n",
      "<Parameter:'lower_lipid_acmw - b_tails_imag', value=0 (fixed)  , bounds=[-inf, inf]>\n",
      "<Parameter:'bilayer - volume_tails', value=940.2 (fixed)  , bounds=[-inf, inf]>\n",
      "<Parameter:'bilayer - thickness_tails', value=11          , bounds=[1, 30]>\n",
      "<Parameter:'bilayer - roughs', value=2          , bounds=[0, 10]>\n",
      "<Parameter:'bilayer - roughs', value=2          , bounds=[0, 10]>\n",
      "________________________________________________________________________________\n",
      "Parameters:       ''       \n",
      "<Parameter: 'ACMW - sld'  , value=0          , bounds=[-0.56, 1]>\n",
      "<Parameter: 'ACMW - isld' , value=0 (fixed)  , bounds=[-inf, inf]>\n",
      "________________________________________________________________________________\n",
      "Parameters:       ''       \n",
      "<Parameter: 'ACMW - sld'  , value=0          , bounds=[-0.56, 1]>\n",
      "<Parameter: 'ACMW - isld' , value=0 (fixed)  , bounds=[-inf, inf]>\n",
      "<Parameter:'bilayer - water_vm', value=29.7 (fixed)  , bounds=[-inf, inf]>\n",
      "<Parameter:'bilayer - Waters Per Head', value=2.8          , bounds=[0, 20]>\n",
      "<Parameter:'bilayer - Waters Per Tail', value=1          , bounds=[0, 10]>\n",
      "<Parameter:'bilayer - Waters Per Head', value=2.8          , bounds=[0, 20]>\n",
      "<Parameter:'bilayer - Waters Per Tail', value=1          , bounds=[0, 10]>\n",
      "________________________________________________________________________________\n",
      "Parameters:     'ACMW'     \n",
      "<Parameter:'thickness_solution', value=14.3          , bounds=[6, 25]>\n",
      "<Parameter: 'ACMW - sld'  , value=0          , bounds=[-0.56, 1]>\n",
      "<Parameter: 'ACMW - isld' , value=0 (fixed)  , bounds=[-inf, inf]>\n",
      "<Parameter:'bilayer - roughs', value=2          , bounds=[0, 10]>\n",
      "<Parameter:'ACMW - volfrac solvent', value=0 (fixed)  , bounds=[-inf, inf]>\n"
     ]
    }
   ],
   "source": [
    "# to changing to\n",
    "solution_thickness = Parameter(value=14.3, bounds=(6, 25), vary=True,\n",
    "            name='thickness_solution')\n",
    "\n",
    "# rough_preceding_solution = Parameter(value=4.6, bounds=(0, 20), vary=True,\n",
    "#             name='rough_preceding_solution')\n",
    "\n",
    "\n",
    "rough_preceding_solution = Parameter(value=4.6, bounds=(0, 20), vary=True,\n",
    "            name='rough_preceding_solution')#, constraint=)\n",
    "\n",
    "\n",
    "structure_d2o  = air(0, 0) | d2o(solution_thickness, rough_preceding_solution)  | upper_lipid_d2o  | lower_lipid_d2o  | d2o(solution_thickness, rough_top)\n",
    "structure_pmw  = air(0, 0) | pmw(solution_thickness, rough_preceding_solution)  | upper_lipid_pmw  | lower_lipid_pmw  | pmw(solution_thickness, rough_top)\n",
    "structure_acmw = air(0, 0) | acmw(solution_thickness, rough_preceding_solution) | upper_lipid_acmw | lower_lipid_acmw | acmw(solution_thickness, rough_top)\n",
    "\n",
    "# structure_d2o  = air(0, 0) | d2o(solution_thickness, rough_preceding_solution)  | upper_lipid_d2o  | lower_lipid_d2o  | d2o(solution_thickness, rough_preceding_solution)\n",
    "# structure_pmw  = air(0, 0) | pmw(solution_thickness, rough_preceding_solution)  | upper_lipid_pmw  | lower_lipid_pmw  | pmw(solution_thickness, rough_preceding_solution)\n",
    "# structure_acmw = air(0, 0) | acmw(solution_thickness, rough_preceding_solution) | upper_lipid_acmw | lower_lipid_acmw | acmw(solution_thickness, rough_preceding_solution)\n",
    "\n",
    "structure_d2o.name = \"d2o\"\n",
    "structure_pmw.name = \"protein matched water\"\n",
    "structure_acmw.name = \"ACMW\"\n",
    "\n",
    "plt.plot(*structure_d2o.sld_profile(),label=\"structure_d2o\")\n",
    "plt.ylabel('SLD /$10^{-6} \\AA^{-2}$')\n",
    "plt.xlabel('distance / $\\AA$')\n",
    "plt.plot(*structure_pmw.sld_profile(),label=\"structure_pmw\")\n",
    "plt.ylabel('SLD /$10^{-6} \\AA^{-2}$')\n",
    "plt.xlabel('distance / $\\AA$')\n",
    "plt.plot(*structure_acmw.sld_profile(),label=\"structure_acmw\")\n",
    "plt.ylabel('SLD /$10^{-6} \\AA^{-2}$')\n",
    "plt.xlabel('distance / $\\AA$')\n",
    "plt.show();\n",
    "print(structure_d2o.parameters)\n",
    "print(structure_pmw.parameters)\n",
    "print(structure_acmw.parameters)"
   ]
  },
  {
   "cell_type": "code",
   "execution_count": 6,
   "metadata": {
    "scrolled": true
   },
   "outputs": [],
   "source": [
    "# right_protrusion_d2o.parameters"
   ]
  },
  {
   "cell_type": "code",
   "execution_count": 7,
   "metadata": {
    "scrolled": true
   },
   "outputs": [],
   "source": [
    "# print(structure_acmw.slabs())\n",
    "# print(structure_pmw.slabs())\n",
    "# print(structure_d2o.slabs())\n",
    "\n",
    "def logp_extra(model, data):\n",
    "    returns = 0\n",
    "    if rough_top.value > thickness_heads.value:\n",
    "        returns += -np.inf\n",
    "#         print(\"rough, thickness: \", rough_top.value, thickness_heads.value)\n",
    "    return returns\n"
   ]
  },
  {
   "cell_type": "code",
   "execution_count": 8,
   "metadata": {},
   "outputs": [
    {
     "name": "stdout",
     "output_type": "stream",
     "text": [
      "0.562 0.0655 0.000924\n",
      "1.8e-06 3.02e-06 1.73e-06\n"
     ]
    }
   ],
   "source": [
    "scale=0.5538\n",
    "print(dataD2o.y.max(), dataPmw.y.max(), dataAcmw.y.max())\n",
    "print(dataD2o.y.min(), dataPmw.y.min(), dataAcmw.y.min())\n",
    "model1 = ReflectModel(structure_d2o)\n",
    "model1.scale.setp(scale, vary=False)#0.5, vary=True, bounds=(0.5, 0.6))#0.25, 1)) #1./dataD2o.y.max()\n",
    "if dataD2o.y.min()<0:\n",
    "    d2oUpBound = dataD2o.y.min() * 0.2\n",
    "    d2oLoBound = dataD2o.y.min() * 1.8\n",
    "else:\n",
    "    d2oUpBound = dataD2o.y.min() * 1.8\n",
    "    d2oLoBound = dataD2o.y.min() * 0.2\n",
    "model1.bkg.setp(dataD2o.y.min(),vary=True,bounds=(d2oLoBound, d2oUpBound))\n",
    "\n",
    "model2 = ReflectModel(structure_pmw)\n",
    "model2.scale.setp(scale, vary=False)#0.5, vary=True, bounds=(0.5, 0.6))#0.25, 1))#(1./dataPmw.y.max(), vary=False)\n",
    "if dataPmw.y.min()<0:\n",
    "    pmwUpBound = dataPmw.y.min() * 0.2\n",
    "    pmwLoBound = dataPmw.y.min() * 1.8\n",
    "else:\n",
    "    pmwUpBound = dataPmw.y.min() * 1.8\n",
    "    pmwLoBound = dataPmw.y.min() * 0.2\n",
    "model2.bkg.setp(dataPmw.y.min(),vary=True,bounds=(pmwLoBound, pmwUpBound))\n",
    "\n",
    "model3 = ReflectModel(structure_acmw)\n",
    "model3.scale.setp(scale, vary=False)#0.5, vary=True, bounds=(0.5, 0.6))#0.25, 1)) #1./dataAcmw.y.max(), vary=False)\n",
    "if dataAcmw.y.min()<0:\n",
    "    acmwUpBound = dataAcmw.y.min() * 0.2\n",
    "    acmwLoBound = dataAcmw.y.min() * 1.8\n",
    "else:\n",
    "    acmwUpBound = dataAcmw.y.min() * 1.8\n",
    "    acmwLoBound = dataAcmw.y.min() * 0.2\n",
    "model3.bkg.setp(dataAcmw.y.min(),vary=True,bounds=(acmwLoBound, acmwUpBound))\n",
    "\n",
    "\n",
    "\n",
    "objective1 = Objective(model1, dataD2o, transform=Transform(\"logY\"))#, logp_extra =logp_extra)\n",
    "objective2 = Objective(model2, dataPmw, transform=Transform(\"logY\"))#, logp_extra =logp_extra)\n",
    "objective3 = Objective(model3, dataAcmw, transform=Transform(\"logY\"))#, logp_extra =logp_extra)\n",
    "gobjective = GlobalObjective([objective1,objective2,objective3])"
   ]
  },
  {
   "cell_type": "code",
   "execution_count": 9,
   "metadata": {},
   "outputs": [
    {
     "name": "stdout",
     "output_type": "stream",
     "text": [
      "\n",
      "logp: -24.16947323717074\n",
      "0 bkg: 1.8e-06 [3.6e-07, 3.24e-06] logp: 12.75772026381642\n",
      "1 thickness_solution: 14.3 [6, 25] logp: -2.9444389791664407\n",
      "2 D2O - sld: 6.34 [5.35, 6.35] logp: 0.0\n",
      "3 rough_preceding_solution: 4.6 [0, 20] logp: -2.995732273553991\n",
      "4 bilayer - thickness_heads: 6.0 [1, 30] logp: -3.367295829986474\n",
      "5 bilayer - thickness_tails: 11.0 [1, 30] logp: -3.367295829986474\n",
      "6 bilayer - roughs: 2.0 [0, 10] logp: -2.3025850929940455\n",
      "7 bilayer - Waters Per Head: 2.8 [0, 20] logp: -2.995732273553991\n",
      "8 bilayer - Waters Per Tail: 1.0 [0, 10] logp: -2.3025850929940455\n",
      "9 bkg: 3.02e-06 [6.040000000000001e-07, 5.436e-06] logp: 12.24025009733176\n",
      "10 Protein Matched Water - sld: 2.35 [1.35, 3.35] logp: -0.6931471805599453\n",
      "11 bkg: 1.73e-06 [3.46e-07, 3.114e-06] logp: 12.79738552020885\n",
      "12 ACMW - sld: 0.0 [-0.56, 1] logp: -0.4446858212614458\n",
      "\n",
      "[Parameter(value=81.41529411764705, name='bilayer - area_per_molecule', vary=False, bounds=Interval(lb=100, ub=200), constraint=None)]\n"
     ]
    }
   ],
   "source": [
    "print(\"\")\n",
    "print(\"logp:\",gobjective.logp())\n",
    "[[print(i,param.name+\":\",param.value, param.bounds,\"logp:\", param.logp())] for i,param in enumerate(gobjective.varying_parameters())];\n",
    "# print\n",
    "# [[print(i,param)] for i,param in enumerate(gobjective.parameters)];# if \"area_per_molecule\" in param.name];\n",
    "# gobjective.parameters\n",
    "print()\n",
    "# [[print(i,param.name)] for i,param in enumerate(gobjective.parameters)];# if \"area\" in param\n",
    "print(list(f_unique(p for p in flatten(gobjective.parameters) if \"area\" in p.name)))"
   ]
  },
  {
   "cell_type": "code",
   "execution_count": 10,
   "metadata": {
    "scrolled": true
   },
   "outputs": [
    {
     "name": "stdout",
     "output_type": "stream",
     "text": [
      "done\n",
      "Wall time: 4min 37s\n"
     ]
    }
   ],
   "source": [
    "%%time\n",
    "choose = 0\n",
    "if choose==0:\n",
    "    fitter = CurveFitter(gobjective)\n",
    "    res = fitter.fit(\"differential_evolution\", target=\"nlpost\")#, seed=SEED)\n",
    "if choose==1:\n",
    "    fitter = CurveFitter(gobjective)\n",
    "    fitter.sample(400)\n",
    "    fitter.reset()\n",
    "    res = fitter.sample(15, nthin=100)\n",
    "if choose==2:\n",
    "    from dynesty import DynamicNestedSampler\n",
    "    from dynesty import plotting as dyplot\n",
    "    from CFitter import CFitter\n",
    "    fitter = CFitter(gobjective)\n",
    "    # DynamicNestedSampler\n",
    "    DNSampler = DynamicNestedSampler(fitter.logl, fitter.priorTransform, fitter.nDim())\n",
    "    DNSampler.run_nested(dlogz_init=0.05) # was 0.01\n",
    "    res1 = DNSampler.results\n",
    "print(\"done\")"
   ]
  },
  {
   "cell_type": "code",
   "execution_count": 11,
   "metadata": {
    "scrolled": true
   },
   "outputs": [
    {
     "name": "stdout",
     "output_type": "stream",
     "text": [
      "________________________________________________________________________________\n",
      "Parameters:       ''       \n",
      "________________________________________________________________________________\n",
      "Parameters: 'instrument parameters'\n",
      "<Parameter:    'scale'    , value=0.5538 (fixed)  , bounds=[-inf, inf]>\n",
      "<Parameter:     'bkg'     , value=1.10277e-06 +/- 2.63e-07, bounds=[3.6e-07, 3.24e-06]>\n",
      "<Parameter:'dq - resolution', value=5 (fixed)  , bounds=[-inf, inf]>\n",
      "________________________________________________________________________________\n",
      "Parameters: 'Structure - d2o'\n",
      "________________________________________________________________________________\n",
      "Parameters:      'Air'     \n",
      "<Parameter: 'Air - thick' , value=0 (fixed)  , bounds=[-inf, inf]>\n",
      "<Parameter:  'Air - sld'  , value=0 (fixed)  , bounds=[-inf, inf]>\n",
      "<Parameter: 'Air - isld'  , value=0 (fixed)  , bounds=[-inf, inf]>\n",
      "<Parameter: 'Air - rough' , value=0 (fixed)  , bounds=[-inf, inf]>\n",
      "<Parameter:'Air - volfrac solvent', value=0 (fixed)  , bounds=[-inf, inf]>\n",
      "________________________________________________________________________________\n",
      "Parameters:      'D2O'     \n",
      "<Parameter:'thickness_solution', value=11.0189 +/- 0.106, bounds=[6, 25]>\n",
      "<Parameter:  'D2O - sld'  , value=6.09976 +/- 0.00349, bounds=[5.35, 6.35]>\n",
      "<Parameter: 'D2O - isld'  , value=0 (fixed)  , bounds=[-inf, inf]>\n",
      "<Parameter:'rough_preceding_solution', value=2.35005  +/- 0.9 , bounds=[0, 20]>\n",
      "<Parameter:'D2O - volfrac solvent', value=0 (fixed)  , bounds=[-inf, inf]>\n",
      "________________________________________________________________________________\n",
      "Parameters: 'upper_lipid_d2o'\n",
      "<Parameter:'bilayer - area_per_molecule', value=95.8996 (fixed)  , bounds=[100, 200]>\n",
      "<Parameter:'bilayer - b_heads_real', value=0.000629275 (fixed)  , bounds=[-inf, inf]>\n",
      "<Parameter:'upper_lipid_d2o - b_heads_imag', value=0 (fixed)  , bounds=[-inf, inf]>\n",
      "<Parameter:'bilayer - volume_heads', value=331 (fixed)  , bounds=[-inf, inf]>\n",
      "<Parameter:'bilayer - thickness_heads', value=1.00054 +/- 1.52 , bounds=[1, 30]>\n",
      "<Parameter:'bilayer - b_tails_real', value=-0.00026624 (fixed)  , bounds=[-inf, inf]>\n",
      "<Parameter:'upper_lipid_d2o - b_tails_imag', value=0 (fixed)  , bounds=[-inf, inf]>\n",
      "<Parameter:'bilayer - volume_tails', value=940.2 (fixed)  , bounds=[-inf, inf]>\n",
      "<Parameter:'bilayer - thickness_tails', value=20.6111 +/- 1.45 , bounds=[1, 30]>\n",
      "<Parameter:'bilayer - roughs', value=6.34496 +/- 0.149, bounds=[0, 10]>\n",
      "<Parameter:'bilayer - roughs', value=6.34496 +/- 0.149, bounds=[0, 10]>\n",
      "________________________________________________________________________________\n",
      "Parameters:       ''       \n",
      "<Parameter:  'D2O - sld'  , value=6.09976 +/- 0.00349, bounds=[5.35, 6.35]>\n",
      "<Parameter: 'D2O - isld'  , value=0 (fixed)  , bounds=[-inf, inf]>\n",
      "________________________________________________________________________________\n",
      "Parameters:       ''       \n",
      "<Parameter:  'D2O - sld'  , value=6.09976 +/- 0.00349, bounds=[5.35, 6.35]>\n",
      "<Parameter: 'D2O - isld'  , value=0 (fixed)  , bounds=[-inf, inf]>\n",
      "<Parameter:'bilayer - water_vm', value=29.7 (fixed)  , bounds=[-inf, inf]>\n",
      "<Parameter:'bilayer - Waters Per Head', value=17.8623 +/- 1.11e+08, bounds=[0, 20]>\n",
      "<Parameter:'bilayer - Waters Per Tail', value=9.11889 +/- 1.11e+08, bounds=[0, 10]>\n",
      "<Parameter:'bilayer - Waters Per Head', value=17.8623 +/- 1.11e+08, bounds=[0, 20]>\n",
      "<Parameter:'bilayer - Waters Per Tail', value=9.11889 +/- 1.11e+08, bounds=[0, 10]>\n",
      "________________________________________________________________________________\n",
      "Parameters: 'lower_lipid_d2o'\n",
      "<Parameter:'bilayer - area_per_molecule', value=95.8996 (fixed)  , bounds=[100, 200]>\n",
      "<Parameter:'bilayer - b_heads_real', value=0.000629275 (fixed)  , bounds=[-inf, inf]>\n",
      "<Parameter:'lower_lipid_d2o - b_heads_imag', value=0 (fixed)  , bounds=[-inf, inf]>\n",
      "<Parameter:'bilayer - volume_heads', value=331 (fixed)  , bounds=[-inf, inf]>\n",
      "<Parameter:'bilayer - thickness_heads', value=1.00054 +/- 1.52 , bounds=[1, 30]>\n",
      "<Parameter:'bilayer - b_tails_real', value=-0.00026624 (fixed)  , bounds=[-inf, inf]>\n",
      "<Parameter:'lower_lipid_d2o - b_tails_imag', value=0 (fixed)  , bounds=[-inf, inf]>\n",
      "<Parameter:'bilayer - volume_tails', value=940.2 (fixed)  , bounds=[-inf, inf]>\n",
      "<Parameter:'bilayer - thickness_tails', value=20.6111 +/- 1.45 , bounds=[1, 30]>\n",
      "<Parameter:'bilayer - roughs', value=6.34496 +/- 0.149, bounds=[0, 10]>\n",
      "<Parameter:'bilayer - roughs', value=6.34496 +/- 0.149, bounds=[0, 10]>\n",
      "________________________________________________________________________________\n",
      "Parameters:       ''       \n",
      "<Parameter:  'D2O - sld'  , value=6.09976 +/- 0.00349, bounds=[5.35, 6.35]>\n",
      "<Parameter: 'D2O - isld'  , value=0 (fixed)  , bounds=[-inf, inf]>\n",
      "________________________________________________________________________________\n",
      "Parameters:       ''       \n",
      "<Parameter:  'D2O - sld'  , value=6.09976 +/- 0.00349, bounds=[5.35, 6.35]>\n",
      "<Parameter: 'D2O - isld'  , value=0 (fixed)  , bounds=[-inf, inf]>\n",
      "<Parameter:'bilayer - water_vm', value=29.7 (fixed)  , bounds=[-inf, inf]>\n",
      "<Parameter:'bilayer - Waters Per Head', value=17.8623 +/- 1.11e+08, bounds=[0, 20]>\n",
      "<Parameter:'bilayer - Waters Per Tail', value=9.11889 +/- 1.11e+08, bounds=[0, 10]>\n",
      "<Parameter:'bilayer - Waters Per Head', value=17.8623 +/- 1.11e+08, bounds=[0, 20]>\n",
      "<Parameter:'bilayer - Waters Per Tail', value=9.11889 +/- 1.11e+08, bounds=[0, 10]>\n",
      "________________________________________________________________________________\n",
      "Parameters:      'D2O'     \n",
      "<Parameter:'thickness_solution', value=11.0189 +/- 0.106, bounds=[6, 25]>\n",
      "<Parameter:  'D2O - sld'  , value=6.09976 +/- 0.00349, bounds=[5.35, 6.35]>\n",
      "<Parameter: 'D2O - isld'  , value=0 (fixed)  , bounds=[-inf, inf]>\n",
      "<Parameter:'bilayer - roughs', value=6.34496 +/- 0.149, bounds=[0, 10]>\n",
      "<Parameter:'D2O - volfrac solvent', value=0 (fixed)  , bounds=[-inf, inf]>\n",
      "________________________________________________________________________________\n",
      "Parameters:       ''       \n",
      "________________________________________________________________________________\n",
      "Parameters: 'instrument parameters'\n",
      "<Parameter:    'scale'    , value=0.5538 (fixed)  , bounds=[-inf, inf]>\n",
      "<Parameter:     'bkg'     , value=3.55512e-06 +/- 8.91e-08, bounds=[6.040000000000001e-07, 5.436e-06]>\n",
      "<Parameter:'dq - resolution', value=5 (fixed)  , bounds=[-inf, inf]>\n",
      "________________________________________________________________________________\n",
      "Parameters: 'Structure - protein matched water'\n",
      "________________________________________________________________________________\n",
      "Parameters:      'Air'     \n",
      "<Parameter: 'Air - thick' , value=0 (fixed)  , bounds=[-inf, inf]>\n",
      "<Parameter:  'Air - sld'  , value=0 (fixed)  , bounds=[-inf, inf]>\n",
      "<Parameter: 'Air - isld'  , value=0 (fixed)  , bounds=[-inf, inf]>\n",
      "<Parameter: 'Air - rough' , value=0 (fixed)  , bounds=[-inf, inf]>\n",
      "<Parameter:'Air - volfrac solvent', value=0 (fixed)  , bounds=[-inf, inf]>\n",
      "________________________________________________________________________________\n",
      "Parameters: 'Protein Matched Water'\n",
      "<Parameter:'thickness_solution', value=11.0189 +/- 0.106, bounds=[6, 25]>\n",
      "<Parameter:'Protein Matched Water - sld', value=1.78408 +/- 0.00577, bounds=[1.35, 3.35]>\n",
      "<Parameter:'Protein Matched Water - isld', value=0 (fixed)  , bounds=[-inf, inf]>\n",
      "<Parameter:'rough_preceding_solution', value=2.35005  +/- 0.9 , bounds=[0, 20]>\n",
      "<Parameter:'Protein Matched Water - volfrac solvent', value=0 (fixed)  , bounds=[-inf, inf]>\n",
      "________________________________________________________________________________\n",
      "Parameters: 'upper_lipid_pmw'\n",
      "<Parameter:'bilayer - area_per_molecule', value=95.8996 (fixed)  , bounds=[100, 200]>\n",
      "<Parameter:'bilayer - b_heads_real', value=0.000629275 (fixed)  , bounds=[-inf, inf]>\n",
      "<Parameter:'upper_lipid_pmw - b_heads_imag', value=0 (fixed)  , bounds=[-inf, inf]>\n",
      "<Parameter:'bilayer - volume_heads', value=331 (fixed)  , bounds=[-inf, inf]>\n",
      "<Parameter:'bilayer - thickness_heads', value=1.00054 +/- 1.52 , bounds=[1, 30]>\n",
      "<Parameter:'bilayer - b_tails_real', value=-0.00026624 (fixed)  , bounds=[-inf, inf]>\n",
      "<Parameter:'upper_lipid_pmw - b_tails_imag', value=0 (fixed)  , bounds=[-inf, inf]>\n",
      "<Parameter:'bilayer - volume_tails', value=940.2 (fixed)  , bounds=[-inf, inf]>\n",
      "<Parameter:'bilayer - thickness_tails', value=20.6111 +/- 1.45 , bounds=[1, 30]>\n",
      "<Parameter:'bilayer - roughs', value=6.34496 +/- 0.149, bounds=[0, 10]>\n",
      "<Parameter:'bilayer - roughs', value=6.34496 +/- 0.149, bounds=[0, 10]>\n",
      "________________________________________________________________________________\n",
      "Parameters:       ''       \n",
      "<Parameter:'Protein Matched Water - sld', value=1.78408 +/- 0.00577, bounds=[1.35, 3.35]>\n",
      "<Parameter:'Protein Matched Water - isld', value=0 (fixed)  , bounds=[-inf, inf]>\n",
      "________________________________________________________________________________\n",
      "Parameters:       ''       \n",
      "<Parameter:'Protein Matched Water - sld', value=1.78408 +/- 0.00577, bounds=[1.35, 3.35]>\n",
      "<Parameter:'Protein Matched Water - isld', value=0 (fixed)  , bounds=[-inf, inf]>\n",
      "<Parameter:'bilayer - water_vm', value=29.7 (fixed)  , bounds=[-inf, inf]>\n",
      "<Parameter:'bilayer - Waters Per Head', value=17.8623 +/- 1.11e+08, bounds=[0, 20]>\n",
      "<Parameter:'bilayer - Waters Per Tail', value=9.11889 +/- 1.11e+08, bounds=[0, 10]>\n",
      "<Parameter:'bilayer - Waters Per Head', value=17.8623 +/- 1.11e+08, bounds=[0, 20]>\n",
      "<Parameter:'bilayer - Waters Per Tail', value=9.11889 +/- 1.11e+08, bounds=[0, 10]>\n",
      "________________________________________________________________________________\n",
      "Parameters: 'lower_lipid_pmw'\n",
      "<Parameter:'bilayer - area_per_molecule', value=95.8996 (fixed)  , bounds=[100, 200]>\n",
      "<Parameter:'bilayer - b_heads_real', value=0.000629275 (fixed)  , bounds=[-inf, inf]>\n",
      "<Parameter:'lower_lipid_pmw - b_heads_imag', value=0 (fixed)  , bounds=[-inf, inf]>\n",
      "<Parameter:'bilayer - volume_heads', value=331 (fixed)  , bounds=[-inf, inf]>\n",
      "<Parameter:'bilayer - thickness_heads', value=1.00054 +/- 1.52 , bounds=[1, 30]>\n",
      "<Parameter:'bilayer - b_tails_real', value=-0.00026624 (fixed)  , bounds=[-inf, inf]>\n",
      "<Parameter:'lower_lipid_pmw - b_tails_imag', value=0 (fixed)  , bounds=[-inf, inf]>\n",
      "<Parameter:'bilayer - volume_tails', value=940.2 (fixed)  , bounds=[-inf, inf]>\n",
      "<Parameter:'bilayer - thickness_tails', value=20.6111 +/- 1.45 , bounds=[1, 30]>\n",
      "<Parameter:'bilayer - roughs', value=6.34496 +/- 0.149, bounds=[0, 10]>\n",
      "<Parameter:'bilayer - roughs', value=6.34496 +/- 0.149, bounds=[0, 10]>\n",
      "________________________________________________________________________________\n",
      "Parameters:       ''       \n",
      "<Parameter:'Protein Matched Water - sld', value=1.78408 +/- 0.00577, bounds=[1.35, 3.35]>\n",
      "<Parameter:'Protein Matched Water - isld', value=0 (fixed)  , bounds=[-inf, inf]>\n",
      "________________________________________________________________________________\n",
      "Parameters:       ''       \n",
      "<Parameter:'Protein Matched Water - sld', value=1.78408 +/- 0.00577, bounds=[1.35, 3.35]>\n",
      "<Parameter:'Protein Matched Water - isld', value=0 (fixed)  , bounds=[-inf, inf]>\n",
      "<Parameter:'bilayer - water_vm', value=29.7 (fixed)  , bounds=[-inf, inf]>\n",
      "<Parameter:'bilayer - Waters Per Head', value=17.8623 +/- 1.11e+08, bounds=[0, 20]>\n",
      "<Parameter:'bilayer - Waters Per Tail', value=9.11889 +/- 1.11e+08, bounds=[0, 10]>\n",
      "<Parameter:'bilayer - Waters Per Head', value=17.8623 +/- 1.11e+08, bounds=[0, 20]>\n",
      "<Parameter:'bilayer - Waters Per Tail', value=9.11889 +/- 1.11e+08, bounds=[0, 10]>\n",
      "________________________________________________________________________________\n",
      "Parameters: 'Protein Matched Water'\n",
      "<Parameter:'thickness_solution', value=11.0189 +/- 0.106, bounds=[6, 25]>\n",
      "<Parameter:'Protein Matched Water - sld', value=1.78408 +/- 0.00577, bounds=[1.35, 3.35]>\n",
      "<Parameter:'Protein Matched Water - isld', value=0 (fixed)  , bounds=[-inf, inf]>\n",
      "<Parameter:'bilayer - roughs', value=6.34496 +/- 0.149, bounds=[0, 10]>\n"
     ]
    },
    {
     "name": "stdout",
     "output_type": "stream",
     "text": [
      "<Parameter:'Protein Matched Water - volfrac solvent', value=0 (fixed)  , bounds=[-inf, inf]>\n",
      "________________________________________________________________________________\n",
      "Parameters:       ''       \n",
      "________________________________________________________________________________\n",
      "Parameters: 'instrument parameters'\n",
      "<Parameter:    'scale'    , value=0.5538 (fixed)  , bounds=[-inf, inf]>\n",
      "<Parameter:     'bkg'     , value=2.63341e-06 +/- 6.37e-08, bounds=[3.46e-07, 3.114e-06]>\n",
      "<Parameter:'dq - resolution', value=5 (fixed)  , bounds=[-inf, inf]>\n",
      "________________________________________________________________________________\n",
      "Parameters: 'Structure - ACMW'\n",
      "________________________________________________________________________________\n",
      "Parameters:      'Air'     \n",
      "<Parameter: 'Air - thick' , value=0 (fixed)  , bounds=[-inf, inf]>\n",
      "<Parameter:  'Air - sld'  , value=0 (fixed)  , bounds=[-inf, inf]>\n",
      "<Parameter: 'Air - isld'  , value=0 (fixed)  , bounds=[-inf, inf]>\n",
      "<Parameter: 'Air - rough' , value=0 (fixed)  , bounds=[-inf, inf]>\n",
      "<Parameter:'Air - volfrac solvent', value=0 (fixed)  , bounds=[-inf, inf]>\n",
      "________________________________________________________________________________\n",
      "Parameters:     'ACMW'     \n",
      "<Parameter:'thickness_solution', value=11.0189 +/- 0.106, bounds=[6, 25]>\n",
      "<Parameter: 'ACMW - sld'  , value=0.474512 +/- 0.0095, bounds=[-0.56, 1]>\n",
      "<Parameter: 'ACMW - isld' , value=0 (fixed)  , bounds=[-inf, inf]>\n",
      "<Parameter:'rough_preceding_solution', value=2.35005  +/- 0.9 , bounds=[0, 20]>\n",
      "<Parameter:'ACMW - volfrac solvent', value=0 (fixed)  , bounds=[-inf, inf]>\n",
      "________________________________________________________________________________\n",
      "Parameters: 'upper_lipid_acmw'\n",
      "<Parameter:'bilayer - area_per_molecule', value=95.8996 (fixed)  , bounds=[100, 200]>\n",
      "<Parameter:'bilayer - b_heads_real', value=0.000629275 (fixed)  , bounds=[-inf, inf]>\n",
      "<Parameter:'upper_lipid_acmw - b_heads_imag', value=0 (fixed)  , bounds=[-inf, inf]>\n",
      "<Parameter:'bilayer - volume_heads', value=331 (fixed)  , bounds=[-inf, inf]>\n",
      "<Parameter:'bilayer - thickness_heads', value=1.00054 +/- 1.52 , bounds=[1, 30]>\n",
      "<Parameter:'bilayer - b_tails_real', value=-0.00026624 (fixed)  , bounds=[-inf, inf]>\n",
      "<Parameter:'upper_lipid_acmw - b_tails_imag', value=0 (fixed)  , bounds=[-inf, inf]>\n",
      "<Parameter:'bilayer - volume_tails', value=940.2 (fixed)  , bounds=[-inf, inf]>\n",
      "<Parameter:'bilayer - thickness_tails', value=20.6111 +/- 1.45 , bounds=[1, 30]>\n",
      "<Parameter:'bilayer - roughs', value=6.34496 +/- 0.149, bounds=[0, 10]>\n",
      "<Parameter:'bilayer - roughs', value=6.34496 +/- 0.149, bounds=[0, 10]>\n",
      "________________________________________________________________________________\n",
      "Parameters:       ''       \n",
      "<Parameter: 'ACMW - sld'  , value=0.474512 +/- 0.0095, bounds=[-0.56, 1]>\n",
      "<Parameter: 'ACMW - isld' , value=0 (fixed)  , bounds=[-inf, inf]>\n",
      "________________________________________________________________________________\n",
      "Parameters:       ''       \n",
      "<Parameter: 'ACMW - sld'  , value=0.474512 +/- 0.0095, bounds=[-0.56, 1]>\n",
      "<Parameter: 'ACMW - isld' , value=0 (fixed)  , bounds=[-inf, inf]>\n",
      "<Parameter:'bilayer - water_vm', value=29.7 (fixed)  , bounds=[-inf, inf]>\n",
      "<Parameter:'bilayer - Waters Per Head', value=17.8623 +/- 1.11e+08, bounds=[0, 20]>\n",
      "<Parameter:'bilayer - Waters Per Tail', value=9.11889 +/- 1.11e+08, bounds=[0, 10]>\n",
      "<Parameter:'bilayer - Waters Per Head', value=17.8623 +/- 1.11e+08, bounds=[0, 20]>\n",
      "<Parameter:'bilayer - Waters Per Tail', value=9.11889 +/- 1.11e+08, bounds=[0, 10]>\n",
      "________________________________________________________________________________\n",
      "Parameters: 'lower_lipid_acmw'\n",
      "<Parameter:'bilayer - area_per_molecule', value=95.8996 (fixed)  , bounds=[100, 200]>\n",
      "<Parameter:'bilayer - b_heads_real', value=0.000629275 (fixed)  , bounds=[-inf, inf]>\n",
      "<Parameter:'lower_lipid_acmw - b_heads_imag', value=0 (fixed)  , bounds=[-inf, inf]>\n",
      "<Parameter:'bilayer - volume_heads', value=331 (fixed)  , bounds=[-inf, inf]>\n",
      "<Parameter:'bilayer - thickness_heads', value=1.00054 +/- 1.52 , bounds=[1, 30]>\n",
      "<Parameter:'bilayer - b_tails_real', value=-0.00026624 (fixed)  , bounds=[-inf, inf]>\n",
      "<Parameter:'lower_lipid_acmw - b_tails_imag', value=0 (fixed)  , bounds=[-inf, inf]>\n",
      "<Parameter:'bilayer - volume_tails', value=940.2 (fixed)  , bounds=[-inf, inf]>\n",
      "<Parameter:'bilayer - thickness_tails', value=20.6111 +/- 1.45 , bounds=[1, 30]>\n",
      "<Parameter:'bilayer - roughs', value=6.34496 +/- 0.149, bounds=[0, 10]>\n",
      "<Parameter:'bilayer - roughs', value=6.34496 +/- 0.149, bounds=[0, 10]>\n",
      "________________________________________________________________________________\n",
      "Parameters:       ''       \n",
      "<Parameter: 'ACMW - sld'  , value=0.474512 +/- 0.0095, bounds=[-0.56, 1]>\n",
      "<Parameter: 'ACMW - isld' , value=0 (fixed)  , bounds=[-inf, inf]>\n",
      "________________________________________________________________________________\n",
      "Parameters:       ''       \n",
      "<Parameter: 'ACMW - sld'  , value=0.474512 +/- 0.0095, bounds=[-0.56, 1]>\n",
      "<Parameter: 'ACMW - isld' , value=0 (fixed)  , bounds=[-inf, inf]>\n",
      "<Parameter:'bilayer - water_vm', value=29.7 (fixed)  , bounds=[-inf, inf]>\n",
      "<Parameter:'bilayer - Waters Per Head', value=17.8623 +/- 1.11e+08, bounds=[0, 20]>\n",
      "<Parameter:'bilayer - Waters Per Tail', value=9.11889 +/- 1.11e+08, bounds=[0, 10]>\n",
      "<Parameter:'bilayer - Waters Per Head', value=17.8623 +/- 1.11e+08, bounds=[0, 20]>\n",
      "<Parameter:'bilayer - Waters Per Tail', value=9.11889 +/- 1.11e+08, bounds=[0, 10]>\n",
      "________________________________________________________________________________\n",
      "Parameters:     'ACMW'     \n",
      "<Parameter:'thickness_solution', value=11.0189 +/- 0.106, bounds=[6, 25]>\n",
      "<Parameter: 'ACMW - sld'  , value=0.474512 +/- 0.0095, bounds=[-0.56, 1]>\n",
      "<Parameter: 'ACMW - isld' , value=0 (fixed)  , bounds=[-inf, inf]>\n",
      "<Parameter:'bilayer - roughs', value=6.34496 +/- 0.149, bounds=[0, 10]>\n",
      "<Parameter:'ACMW - volfrac solvent', value=0 (fixed)  , bounds=[-inf, inf]>\n",
      "<Parameter:     'bkg'     , value=1.10277e-06 +/- 2.63e-07, bounds=[3.6e-07, 3.24e-06]>\n",
      "<Parameter:'thickness_solution', value=11.0189 +/- 0.106, bounds=[6, 25]>\n",
      "<Parameter:  'D2O - sld'  , value=6.09976 +/- 0.00349, bounds=[5.35, 6.35]>\n",
      "<Parameter:'rough_preceding_solution', value=2.35005  +/- 0.9 , bounds=[0, 20]>\n",
      "<Parameter:'bilayer - thickness_heads', value=1.00054 +/- 1.52 , bounds=[1, 30]>\n",
      "<Parameter:'bilayer - thickness_tails', value=20.6111 +/- 1.45 , bounds=[1, 30]>\n",
      "<Parameter:'bilayer - roughs', value=6.34496 +/- 0.149, bounds=[0, 10]>\n",
      "<Parameter:'bilayer - Waters Per Head', value=17.8623 +/- 1.11e+08, bounds=[0, 20]>\n",
      "<Parameter:'bilayer - Waters Per Tail', value=9.11889 +/- 1.11e+08, bounds=[0, 10]>\n",
      "<Parameter:     'bkg'     , value=3.55512e-06 +/- 8.91e-08, bounds=[6.040000000000001e-07, 5.436e-06]>\n",
      "<Parameter:'Protein Matched Water - sld', value=1.78408 +/- 0.00577, bounds=[1.35, 3.35]>\n",
      "<Parameter:     'bkg'     , value=2.63341e-06 +/- 6.37e-08, bounds=[3.46e-07, 3.114e-06]>\n",
      "<Parameter: 'ACMW - sld'  , value=0.474512 +/- 0.0095, bounds=[-0.56, 1]>\n"
     ]
    }
   ],
   "source": [
    "# print(gobjective.parameters,\"\\n++++++++++++++++++++++++++++++++++++++++++++++++++++\")\n",
    "\n",
    "[[print(param)] for param in gobjective.parameters]#varying_parameters()]\n",
    "\n",
    "[[print(param)] for param in gobjective.varying_parameters()];"
   ]
  },
  {
   "cell_type": "code",
   "execution_count": 12,
   "metadata": {
    "scrolled": true
   },
   "outputs": [
    {
     "name": "stdout",
     "output_type": "stream",
     "text": [
      "   covar: array([[ 6.93091901e-14,  1.23766505e-08,  3.87164494e-11,\n",
      "         2.21319224e-07, -8.93332199e-08,  5.47331891e-08,\n",
      "        -1.74466791e-08, -7.44889395e-01,  7.44889381e-01,\n",
      "         6.05032565e-15, -1.51636800e-11,  4.42709776e-16,\n",
      "        -9.39717446e-11],\n",
      "       [ 1.23766505e-08,  1.11963943e-02,  6.37487810e-05,\n",
      "         4.91915351e-02, -4.30503420e-02,  3.08965154e-02,\n",
      "        -2.85224097e-03, -9.94824949e+04,  9.94827119e+04,\n",
      "         2.55201813e-09,  4.44578988e-05,  1.28794544e-09,\n",
      "         2.22762161e-05],\n",
      "       [ 3.87164494e-11,  6.37487810e-05,  1.21473015e-05,\n",
      "         1.46699241e-04, -2.59955630e-04,  2.30334480e-04,\n",
      "         7.86064409e-05, -4.79204133e+03,  4.79204148e+03,\n",
      "         1.22901685e-11,  8.25084461e-07,  4.06783228e-12,\n",
      "         7.38139967e-08],\n",
      "       [ 2.21319224e-07,  4.91915351e-02,  1.46699241e-04,\n",
      "         8.09779940e-01, -3.36725299e-01,  2.03362016e-01,\n",
      "        -7.43175059e-02, -5.59106812e+06,  5.59106821e+06,\n",
      "         2.12256891e-08, -1.16595073e-04,  2.19899401e-09,\n",
      "        -3.24365568e-04],\n",
      "       [-8.93332199e-08, -4.30503420e-02, -2.59955630e-04,\n",
      "        -3.36725299e-01,  2.30272459e+00, -2.18525689e+00,\n",
      "        -5.44917247e-02, -3.26988237e+07,  3.26988218e+07,\n",
      "        -3.69996092e-09,  1.68624640e-03,  1.39788104e-08,\n",
      "         3.85615196e-03],\n",
      "       [ 5.47331891e-08,  3.08965154e-02,  2.30334480e-04,\n",
      "         2.03362016e-01, -2.18525689e+00,  2.09697622e+00,\n",
      "         6.88563205e-02,  3.31571909e+07, -3.31571893e+07,\n",
      "        -6.85562476e-10, -1.62715235e-03, -1.51834246e-08,\n",
      "        -3.75112067e-03],\n",
      "       [-1.74466791e-08, -2.85224097e-03,  7.86064409e-05,\n",
      "        -7.43175059e-02, -5.44917247e-02,  6.88563205e-02,\n",
      "         2.21418273e-02,  3.19412490e+06, -3.19412505e+06,\n",
      "        -2.32797769e-09,  3.92116879e-05, -1.69274184e-09,\n",
      "        -1.36888928e-04],\n",
      "       [-7.44889395e-01, -9.94824949e+04, -4.79204133e+03,\n",
      "        -5.59106812e+06, -3.26988237e+07,  3.31571909e+07,\n",
      "         3.19412490e+06,  1.22114134e+16, -1.22114133e+16,\n",
      "         5.08646730e-01,  5.66466234e+04, -1.02111795e+00,\n",
      "        -9.73145411e+04],\n",
      "       [ 7.44889381e-01,  9.94827119e+04,  4.79204148e+03,\n",
      "         5.59106821e+06,  3.26988218e+07, -3.31571893e+07,\n",
      "        -3.19412505e+06, -1.22114133e+16,  1.22114133e+16,\n",
      "        -5.08646634e-01, -5.66466246e+04,  1.02111802e+00,\n",
      "         9.73145415e+04],\n",
      "       [ 6.05032565e-15,  2.55201813e-09,  1.22901685e-11,\n",
      "         2.12256891e-08, -3.69996092e-09, -6.85562476e-10,\n",
      "        -2.32797769e-09,  5.08646730e-01, -5.08646634e-01,\n",
      "         7.93539012e-15, -4.76210809e-11,  6.78568123e-16,\n",
      "         2.43403742e-11],\n",
      "       [-1.51636800e-11,  4.44578988e-05,  8.25084461e-07,\n",
      "        -1.16595073e-04,  1.68624640e-03, -1.62715235e-03,\n",
      "         3.92116879e-05,  5.66466234e+04, -5.66466246e+04,\n",
      "        -4.76210809e-11,  3.32906557e-05,  1.15991254e-11,\n",
      "         3.16536739e-06],\n",
      "       [ 4.42709776e-16,  1.28794544e-09,  4.06783228e-12,\n",
      "         2.19899401e-09,  1.39788104e-08, -1.51834246e-08,\n",
      "        -1.69274184e-09, -1.02111795e+00,  1.02111802e+00,\n",
      "         6.78568123e-16,  1.15991254e-11,  4.06213731e-15,\n",
      "        -1.18063005e-10],\n",
      "       [-9.39717446e-11,  2.22762161e-05,  7.38139967e-08,\n",
      "        -3.24365568e-04,  3.85615196e-03, -3.75112067e-03,\n",
      "        -1.36888928e-04, -9.73145411e+04,  9.73145415e+04,\n",
      "         2.43403742e-11,  3.16536739e-06, -1.18063005e-10,\n",
      "         9.03180200e-05]])\n",
      "     fun: 7.491076664869745\n",
      " message: 'Optimization terminated successfully.'\n",
      "    nfev: 39432\n",
      "     nit: 201\n",
      "  stderr: array([2.63266386e-07, 1.05813016e-01, 3.48529791e-03, 8.99877736e-01,\n",
      "       1.51747309e+00, 1.44809399e+00, 1.48801301e-01, 1.10505264e+08,\n",
      "       1.10505264e+08, 8.90808067e-08, 5.76980551e-03, 6.37348987e-08,\n",
      "       9.50357932e-03])\n",
      " success: True\n",
      "       x: array([1.10277329e-06, 1.10189066e+01, 6.09975866e+00, 2.35004664e+00,\n",
      "       1.00053819e+00, 2.06110523e+01, 6.34496238e+00, 1.78623355e+01,\n",
      "       9.11889110e+00, 3.55512321e-06, 1.78407929e+00, 2.63341208e-06,\n",
      "       4.74512256e-01])\n"
     ]
    }
   ],
   "source": [
    "if choose==2:\n",
    "    print(res1)\n",
    "else:\n",
    "    print(res)\n",
    "# [['bkg', nan],\n",
    "#  ['thickness_solution', nan],\n",
    "#  ['D2O - sld', nan],\n",
    "#  ['rough_preceding_solution', nan],\n",
    "#  ['bilayer - area_per_molecule', nan],\n",
    "#  ['bilayer - thickness_heads', nan],\n",
    "#  ['bilayer - thickness_tails', nan],\n",
    "#  ['bilayer - rough_top', nan],\n",
    "#  ['bilayer - Waters Per Head', nan],\n",
    "#  ['bilayer - Waters Per Tail', nan],\n",
    "#  ['bilayer - ratio protein to bilayer', nan],\n",
    "#  ['bkg', nan],\n",
    "#  ['Protein Matched Water - sld', nan],\n",
    "#  ['bkg', nan],\n",
    "#  ['ACMW - sld', nan]]"
   ]
  },
  {
   "cell_type": "code",
   "execution_count": 13,
   "metadata": {
    "scrolled": true
   },
   "outputs": [
    {
     "name": "stdout",
     "output_type": "stream",
     "text": [
      "[[ 0.          0.          0.          0.          0.        ]\n",
      " [11.01890665  0.47451226  0.          2.35004664  0.        ]\n",
      " [ 1.00053819  6.55828103  0.          6.34496238  0.        ]\n",
      " [20.61105232 -0.13469626  0.          6.34496238  0.        ]\n",
      " [20.61105232 -0.13469626  0.          6.34496238  0.        ]\n",
      " [ 1.00053819  6.55828103  0.          6.34496238  0.        ]\n",
      " [11.01890665  0.47451226  0.          6.34496238  0.        ]]\n",
      "[[ 0.          0.          0.          0.          0.        ]\n",
      " [11.01890665  1.78407929  0.          2.35004664  0.        ]\n",
      " [ 1.00053819  6.55827778  0.          6.34496238  0.        ]\n",
      " [20.61105232 -0.13469557  0.          6.34496238  0.        ]\n",
      " [20.61105232 -0.13469557  0.          6.34496238  0.        ]\n",
      " [ 1.00053819  6.55827778  0.          6.34496238  0.        ]\n",
      " [11.01890665  1.78407929  0.          6.34496238  0.        ]]\n",
      "[[ 0.          0.          0.          0.          0.        ]\n",
      " [11.01890665  6.09975866  0.          2.35004664  0.        ]\n",
      " [ 1.00053819  6.55826708  0.          6.34496238  0.        ]\n",
      " [20.61105232 -0.13469328  0.          6.34496238  0.        ]\n",
      " [20.61105232 -0.13469328  0.          6.34496238  0.        ]\n",
      " [ 1.00053819  6.55826708  0.          6.34496238  0.        ]\n",
      " [11.01890665  6.09975866  0.          6.34496238  0.        ]]\n"
     ]
    }
   ],
   "source": [
    "print(structure_acmw.slabs())\n",
    "print(structure_pmw.slabs())\n",
    "print(structure_d2o.slabs())"
   ]
  },
  {
   "cell_type": "code",
   "execution_count": 14,
   "metadata": {},
   "outputs": [
    {
     "data": {
      "image/png": "[encoded data removed]",
      "text/plain": [
       "<Figure size 432x288 with 1 Axes>"
      ]
     },
     "metadata": {
      "needs_background": "light"
     },
     "output_type": "display_data"
    }
   ],
   "source": [
    "# structure_d2o\n",
    "# structure_pmw\n",
    "plt.plot(*structure_d2o.sld_profile(),label=\"structure_d2o\")\n",
    "# structure_d2o.plot()\n",
    "# plt.ylabel('SLD ($10^{-6} \\AA^{-2})$')\n",
    "# plt.xlabel('distance  $(\\AA)$')\n",
    "\n",
    "plt.plot(*structure_pmw.sld_profile(),label=\"structure_pmw\")\n",
    "# structure_pmw.plot()\n",
    "plt.ylabel('SLD ($10^{-6} \\AA^{-2})$')\n",
    "plt.xlabel('distance  $(\\AA)$')\n",
    "\n",
    "plt.plot(*structure_acmw.sld_profile(),label=\"structure_acmw\")\n",
    "# structure_pmw.plot()\n",
    "plt.ylabel('SLD ($10^{-6} \\AA^{-2})$')\n",
    "plt.xlabel('distance  $(\\AA)$')\n",
    "plt.legend()\n",
    "plt.show();"
   ]
  },
  {
   "cell_type": "code",
   "execution_count": 15,
   "metadata": {},
   "outputs": [
    {
     "data": {
      "image/png": "[encoded data removed]",
      "text/plain": [
       "<Figure size 432x288 with 1 Axes>"
      ]
     },
     "metadata": {
      "needs_background": "light"
     },
     "output_type": "display_data"
    }
   ],
   "source": [
    "if choose==1:\n",
    "    gobjective.plot(samples=300)\n",
    "else:\n",
    "    gobjective.plot()\n",
    "# plt.yscale('log')\n",
    "plt.xlabel('Q')\n",
    "plt.ylabel('Reflectivity')\n",
    "plt.legend();"
   ]
  },
  {
   "cell_type": "code",
   "execution_count": 16,
   "metadata": {},
   "outputs": [
    {
     "data": {
      "image/png": "[encoded data removed]",
      "text/plain": [
       "<Figure size 432x288 with 1 Axes>"
      ]
     },
     "metadata": {
      "needs_background": "light"
     },
     "output_type": "display_data"
    }
   ],
   "source": [
    "if choose==1:\n",
    "    objective1.plot(samples=300)\n",
    "else:\n",
    "    objective1.plot()\n",
    "# plt.yscale('log')\n",
    "plt.xlabel('Q')\n",
    "plt.ylabel('Reflectivity')\n",
    "plt.legend();"
   ]
  },
  {
   "cell_type": "code",
   "execution_count": 17,
   "metadata": {},
   "outputs": [
    {
     "data": {
      "image/png": "[encoded data removed]",
      "text/plain": [
       "<Figure size 432x288 with 1 Axes>"
      ]
     },
     "metadata": {
      "needs_background": "light"
     },
     "output_type": "display_data"
    }
   ],
   "source": [
    "if choose==1:\n",
    "    objective2.plot(samples=300)\n",
    "else:\n",
    "    objective2.plot()\n",
    "# plt.yscale('log')\n",
    "plt.xlabel('Q')\n",
    "plt.ylabel('Reflectivity')\n",
    "plt.legend();"
   ]
  },
  {
   "cell_type": "code",
   "execution_count": 18,
   "metadata": {},
   "outputs": [
    {
     "data": {
      "image/png": "[encoded data removed]",
      "text/plain": [
       "<Figure size 432x288 with 1 Axes>"
      ]
     },
     "metadata": {
      "needs_background": "light"
     },
     "output_type": "display_data"
    }
   ],
   "source": [
    "if choose==1:\n",
    "    objective3.plot(samples=300)\n",
    "else:\n",
    "    objective3.plot()\n",
    "# plt.yscale('log')\n",
    "plt.xlabel('Q')\n",
    "plt.ylabel('Reflectivity')\n",
    "plt.legend();"
   ]
  },
  {
   "cell_type": "code",
   "execution_count": 19,
   "metadata": {},
   "outputs": [
    {
     "name": "stdout",
     "output_type": "stream",
     "text": [
      "model1: d2o <Parameter:    'scale'    , value=0.5538 (fixed)  , bounds=[-inf, inf]> <Parameter:     'bkg'     , value=1.10277e-06 +/- 2.63e-07, bounds=[3.6e-07, 3.24e-06]>\n",
      "model2: pmw <Parameter:    'scale'    , value=0.5538 (fixed)  , bounds=[-inf, inf]> <Parameter:     'bkg'     , value=3.55512e-06 +/- 8.91e-08, bounds=[6.040000000000001e-07, 5.436e-06]>\n",
      "model3: acmw <Parameter:    'scale'    , value=0.5538 (fixed)  , bounds=[-inf, inf]> <Parameter:     'bkg'     , value=2.63341e-06 +/- 6.37e-08, bounds=[3.46e-07, 3.114e-06]>\n"
     ]
    }
   ],
   "source": [
    "print(\"model1: d2o\", model1.scale, model1.bkg)\n",
    "print(\"model2: pmw\", model2.scale, model2.bkg)\n",
    "print(\"model3: acmw\", model3.scale, model3.bkg)"
   ]
  },
  {
   "cell_type": "code",
   "execution_count": 20,
   "metadata": {
    "scrolled": true
   },
   "outputs": [],
   "source": [
    "# print(structure_d2o)"
   ]
  },
  {
   "cell_type": "code",
   "execution_count": 21,
   "metadata": {
    "scrolled": true
   },
   "outputs": [],
   "source": [
    "# print(structure_pmw)"
   ]
  },
  {
   "cell_type": "code",
   "execution_count": 22,
   "metadata": {
    "scrolled": true
   },
   "outputs": [],
   "source": [
    "# print(structure_acmw)"
   ]
  },
  {
   "cell_type": "code",
   "execution_count": 23,
   "metadata": {},
   "outputs": [
    {
     "name": "stdout",
     "output_type": "stream",
     "text": [
      "[[ 0.          0.          0.          0.          0.        ]\n",
      " [11.01890665  6.09975866  0.          2.35004664  0.        ]\n",
      " [ 1.00053819  6.55826708  0.          6.34496238  0.        ]\n",
      " [20.61105232 -0.13469328  0.          6.34496238  0.        ]\n",
      " [20.61105232 -0.13469328  0.          6.34496238  0.        ]\n",
      " [ 1.00053819  6.55826708  0.          6.34496238  0.        ]\n",
      " [11.01890665  6.09975866  0.          6.34496238  0.        ]]\n"
     ]
    }
   ],
   "source": [
    "print(structure_d2o.slabs())"
   ]
  },
  {
   "cell_type": "code",
   "execution_count": 24,
   "metadata": {},
   "outputs": [
    {
     "name": "stdout",
     "output_type": "stream",
     "text": [
      "[[ 0.          0.          0.          0.          0.        ]\n",
      " [11.01890665  1.78407929  0.          2.35004664  0.        ]\n",
      " [ 1.00053819  6.55827778  0.          6.34496238  0.        ]\n",
      " [20.61105232 -0.13469557  0.          6.34496238  0.        ]\n",
      " [20.61105232 -0.13469557  0.          6.34496238  0.        ]\n",
      " [ 1.00053819  6.55827778  0.          6.34496238  0.        ]\n",
      " [11.01890665  1.78407929  0.          6.34496238  0.        ]]\n"
     ]
    }
   ],
   "source": [
    "print(structure_pmw.slabs())"
   ]
  },
  {
   "cell_type": "code",
   "execution_count": 25,
   "metadata": {},
   "outputs": [
    {
     "name": "stdout",
     "output_type": "stream",
     "text": [
      "[[ 0.          0.          0.          0.          0.        ]\n",
      " [11.01890665  0.47451226  0.          2.35004664  0.        ]\n",
      " [ 1.00053819  6.55828103  0.          6.34496238  0.        ]\n",
      " [20.61105232 -0.13469626  0.          6.34496238  0.        ]\n",
      " [20.61105232 -0.13469626  0.          6.34496238  0.        ]\n",
      " [ 1.00053819  6.55828103  0.          6.34496238  0.        ]\n",
      " [11.01890665  0.47451226  0.          6.34496238  0.        ]]\n"
     ]
    }
   ],
   "source": [
    "print(structure_acmw.slabs())"
   ]
  },
  {
   "cell_type": "code",
   "execution_count": 26,
   "metadata": {},
   "outputs": [],
   "source": [
    "if choose==2:\n",
    "    # span = [(0,5000),(0,1.5),(0,0.4),(-10**3,10**3)] #span=span\n",
    "    fig, axes = dyplot.runplot(res1, color='black', mark_final_live=False,\n",
    "                               logplot=False)"
   ]
  },
  {
   "cell_type": "code",
   "execution_count": 27,
   "metadata": {},
   "outputs": [],
   "source": [
    "if choose==2:\n",
    "    print(\"max(-ln(X)) =\", -min(res1[\"logvol\"])) # -min(res1[\"logvol\"] = max(-ln(X))\n",
    "    print(\"max(logz), evidence =\", max(res1[\"logz\"]))"
   ]
  },
  {
   "cell_type": "code",
   "execution_count": 28,
   "metadata": {},
   "outputs": [
    {
     "name": "stdout",
     "output_type": "stream",
     "text": [
      "logp: -24.16947323717074\n",
      "logpost: -7.491076664869745\n",
      "model1: d2o <Parameter:    'scale'    , value=0.5538 (fixed)  , bounds=[-inf, inf]> <Parameter:     'bkg'     , value=1.10277e-06 +/- 2.63e-07, bounds=[3.6e-07, 3.24e-06]>\n",
      "model2: pmw <Parameter:    'scale'    , value=0.5538 (fixed)  , bounds=[-inf, inf]> <Parameter:     'bkg'     , value=3.55512e-06 +/- 8.91e-08, bounds=[6.040000000000001e-07, 5.436e-06]>\n",
      "model3: acmw <Parameter:    'scale'    , value=0.5538 (fixed)  , bounds=[-inf, inf]> <Parameter:     'bkg'     , value=2.63341e-06 +/- 6.37e-08, bounds=[3.46e-07, 3.114e-06]>\n",
      "\n",
      "0 bkg: 1.102773292005011e-06 [3.6e-07, 3.24e-06]\n",
      "1 thickness_solution: 11.018906646377232 [6, 25]\n",
      "2 D2O - sld: 6.099758657117629 [5.35, 6.35]\n",
      "3 rough_preceding_solution: 2.350046640656867 [0, 20]\n",
      "4 bilayer - thickness_heads: 1.000538189111202 [1, 30]\n",
      "5 bilayer - thickness_tails: 20.611052322394478 [1, 30]\n",
      "6 bilayer - roughs: 6.344962380848101 [0, 10]\n",
      "7 bilayer - Waters Per Head: 17.862335474815367 [0, 20]\n",
      "8 bilayer - Waters Per Tail: 9.118891095086692 [0, 10]\n",
      "9 bkg: 3.5551232133828897e-06 [6.040000000000001e-07, 5.436e-06]\n",
      "10 Protein Matched Water - sld: 1.7840792877969123 [1.35, 3.35]\n",
      "11 bkg: 2.6334120815365007e-06 [3.46e-07, 3.114e-06]\n",
      "12 ACMW - sld: 0.4745122557186167 [-0.56, 1]\n",
      "\n",
      "[Parameter(value=95.89957888674142, name='bilayer - area_per_molecule', vary=False, bounds=Interval(lb=100, ub=200), constraint=None)]\n"
     ]
    }
   ],
   "source": [
    "#gobjective.varying_parameters()\n",
    "print(\"logp:\",gobjective.logp())\n",
    "print(\"logpost:\",gobjective.logpost())\n",
    "print(\"model1: d2o\", model1.scale, model1.bkg)\n",
    "print(\"model2: pmw\", model2.scale, model2.bkg)\n",
    "print(\"model3: acmw\", model3.scale, model3.bkg)\n",
    "print()\n",
    "[[print(i,param.name+\":\",param.value, param.bounds)] for i,param in enumerate(gobjective.varying_parameters())];\n",
    "print()\n",
    "print(list(f_unique(p for p in flatten(gobjective.parameters) if \"area\" in p.name)))"
   ]
  },
  {
   "cell_type": "code",
   "execution_count": 29,
   "metadata": {},
   "outputs": [
    {
     "name": "stdout",
     "output_type": "stream",
     "text": [
      "4145.084858252183 \n",
      " (1.9011329305135953, -0.28317379281004046) \n",
      " 1.9011329305135953 \n",
      " -0.28317379281004046 \n",
      " <Parameter:'bilayer - b_heads_real', value=0.000629275 (fixed)  , bounds=[-inf, inf]> \n",
      " <Parameter:'bilayer - b_tails_real', value=-0.00026624 (fixed)  , bounds=[-inf, inf]>\n"
     ]
    }
   ],
   "source": [
    "print(upper_lipid_d2o.total_vm(),\"\\n\",\n",
    "upper_lipid_d2o.sld_r(),\"\\n\",\n",
    "      float(upper_lipid_d2o.b_heads_real) / float(upper_lipid_d2o.vm_heads.value) * 1.e6,\"\\n\",\n",
    "      float(upper_lipid_d2o.b_tails_real) / float(upper_lipid_d2o.vm_tails.value) * 1.e6,\"\\n\",\n",
    "upper_lipid_d2o.b_heads_real,\"\\n\",\n",
    "     upper_lipid_d2o.b_tails_real)"
   ]
  },
  {
   "cell_type": "markdown",
   "metadata": {},
   "source": [
    "<!-- I believe correct values, leaflet roughness between head and tail is the same as the roughness preceeding the leaflet\\\n",
    "class used is a modified version of the LipidLeaflet class native to refnx, its in the file\\\n",
    "\"protein\" and called \"LipidLeafletWithProtien\"\\\n",
    "volumes of head and tails are indirectly varied by changes in waters per head/tail\\\n",
    "so the tails do not change volume\\\n",
    "0 scale: 0.5521883304658243 [0.5, 0.6]\\\n",
    "1 bkg: 3.8668280301251303e-07 [3.6e-07, 3.24e-06]\\\n",
    "2 thickness_solution: 10.788185214150985 [6, 25]\\\n",
    "3 D2O - sld: 6.120774383877097 [5.35, 6.35]\\\n",
    "4 rough_preceding_solution: 3.939327435493368 [0, 20]\\\n",
    "5 bilayer - area_per_molecule: 149.83843268748353 [60, 150]\\\n",
    "6 bilayer - thickness_heads: 2.2131024442953855 [1, 30]\\\n",
    "7 bilayer - thickness_tails: 19.19114563662231 [1, 30]\\\n",
    "8 bilayer - rough_top: 0.15555337800548585 [0, 10]\\\n",
    "9 bilayer - Waters Per Head: 0.017922237590786594 [0, 20]\\\n",
    "10 bilayer - Waters Per Tail: 0.02927203409960022 [0, 10]\\\n",
    "11 bilayer - ratio protein to bilayer: 0.7498017765068212 [0.25, 0.75]\\\n",
    "12 Protrusion - protrusion thickness: 6.090177488208205 [5, 100]\\\n",
    "13 Protrusion - protrusion roughness: 7.445463122283828 [0, 20]\\\n",
    "14 Protrusion - protrusion volfrac: 0.9963095809664922 [0, 1]\\\n",
    "15 scale: 0.5990025735918081 [0.5, 0.6]\\\n",
    "16 bkg: 3.5880504074107574e-06 [6.040000000000001e-07, 5.436e-06]\\\n",
    "17 Protein Matched Water - sld: 1.757984633375042 [1.35, 3.35]\\\n",
    "18 scale: 0.5907367476195101 [0.5, 0.6]\\\n",
    "19 bkg: 2.831535701386751e-06 [3.46e-07, 3.114e-06]\\\n",
    "20 ACMW - sld: 0.4132210895757328 [-0.56, 1] -->"
   ]
  },
  {
   "cell_type": "code",
   "execution_count": 30,
   "metadata": {
    "scrolled": false
   },
   "outputs": [],
   "source": [
    "if choose==2:\n",
    "    labels = [param.name for param in gobjective.varying_parameters()]\n",
    "\n",
    "    fig, axes = dyplot.traceplot(res1, labels = labels, #truths=np.zeros(fitter.nDim()),\n",
    "                                 show_titles=True, trace_cmap='plasma',\n",
    "                                 quantiles=[0.025, 0.5, 0.975])\n",
    "    fig.tight_layout()"
   ]
  },
  {
   "cell_type": "code",
   "execution_count": 31,
   "metadata": {},
   "outputs": [],
   "source": [
    "if choose==2:\n",
    "    labels = [param.name for param in gobjective.varying_parameters()]\n",
    "\n",
    "    fig, axes = dyplot.cornerpoints(res1, labels = labels#, #truths=np.zeros(fitter.nDim()),\n",
    "                                 #show_titles=True,\n",
    "                                 #trace_cmap='plasma',\n",
    "                                 #quantiles=[0.025, 0.5, 0.975]\n",
    "                                   )\n",
    "    fig.tight_layout()"
   ]
  },
  {
   "cell_type": "code",
   "execution_count": null,
   "metadata": {},
   "outputs": [],
   "source": []
  }
 ],
 "metadata": {
  "kernelspec": {
   "display_name": "Python 3",
   "language": "python",
   "name": "python3"
  },
  "language_info": {
   "codemirror_mode": {
    "name": "ipython",
    "version": 3
   },
   "file_extension": ".py",
   "mimetype": "text/x-python",
   "name": "python",
   "nbconvert_exporter": "python",
   "pygments_lexer": "ipython3",
   "version": "3.7.3"
  }
 },
 "nbformat": 4,
 "nbformat_minor": 2
}
