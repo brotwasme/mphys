{
 "cells": [
  {
   "cell_type": "code",
   "execution_count": 1,
   "metadata": {},
   "outputs": [
    {
     "name": "stdout",
     "output_type": "stream",
     "text": [
      "refnx: 0.1.9\n",
      "scipy: 1.3.0\n",
      "numpy: 1.16.4\n"
     ]
    }
   ],
   "source": [
    "import os.path\n",
    "import numpy as np\n",
    "import matplotlib.pyplot as plt\n",
    "import scipy\n",
    "import refnx\n",
    "from refnx.dataset import ReflectDataset, Data1D\n",
    "from refnx.analysis import Transform, CurveFitter, Objective, Model, Parameter, GlobalObjective\n",
    "from refnx.reflect import SLD, Slab, ReflectModel\n",
    "# from sepObjectiveGO import getObjective as gO\n",
    "from dynesty import DynamicNestedSampler\n",
    "from dynesty import plotting as dyplot\n",
    "from CFitter import CFitter\n",
    "# import make_sim_data as msd\n",
    "# import lipidBilayerAsGiven.SLD_maker \n",
    "import data_in as di\n",
    "from lipidBilayerAsGiven.LipidLeaflet_WaterPer_builtOn import LipidLeafletWithWaterPer as LipidLeaflet\n",
    "\n",
    "\n",
    "print('refnx: %s\\nscipy: %s\\nnumpy: %s' % (refnx.version.version,\n",
    "                   scipy.version.version, np.version.version))\n",
    "%matplotlib inline\n",
    "SEED = 12345"
   ]
  },
  {
   "cell_type": "code",
   "execution_count": 2,
   "metadata": {},
   "outputs": [
    {
     "name": "stdout",
     "output_type": "stream",
     "text": [
      "csv\n",
      "cvs-collecting\n",
      "csv\n",
      "cvs-collecting\n"
     ]
    },
    {
     "data": {
      "image/png": "[encoded data removed]",
      "text/plain": [
       "<Figure size 432x288 with 1 Axes>"
      ]
     },
     "metadata": {
      "needs_background": "light"
     },
     "output_type": "display_data"
    }
   ],
   "source": [
    "dataD2o = Data1D(data=di.data_in(\"lipidBilayerData/54696_97_edit.txt\"))\n",
    "dataD2o.name=\"d2o\"\n",
    "dataPmw = Data1D(data=di.data_in(\"lipidBilayerData/54699_00_edit.txt\"))\n",
    "dataPmw.name=\"pmw\"\n",
    "\n",
    "plt.errorbar(dataD2o.data[0],dataD2o.data[1],dataD2o.data[2])\n",
    "plt.errorbar(dataPmw.data[0],dataPmw.data[1],dataPmw.data[2])\n",
    "plt.yscale(\"log\")\n",
    "plt.show()"
   ]
  },
  {
   "cell_type": "code",
   "execution_count": 3,
   "metadata": {},
   "outputs": [],
   "source": [
    "name = \"bilayer\"\n",
    "\n",
    "d2o = SLD(6.07, \"D2O\")\n",
    "pmw = SLD(2.35, \"Protein Matched Water\")\n",
    "air = SLD(0.00, \"Air\")\n",
    "\n",
    "d2o.real.setp(vary=True, bounds=(5.35, 6.35))\n",
    "pmw.real.setp(vary=True, bounds=(1.35, 3.35))\n",
    "\n",
    "\n",
    "apm = Parameter(value=62, name='%s - area_per_molecule' % name,\n",
    "                bounds=(60, 150), vary=True)\n",
    "\n",
    "#Define all the neutron b's\n",
    "bc = 0.6646e-4  #Carbon\n",
    "bo = 0.5804e-4  #Oxygen\n",
    "bh = -0.3739e-4 #Hydrogen\n",
    "bp = 0.513e-4   #Phosphorus\n",
    "bn = 0.936e-4   #Nitrogen\n",
    "bd = 0.6671e-4  #Deuterium\n",
    "\n",
    "#Formulae of the molecule sections...\n",
    "CH2 = (1*bc) + (2*bh)\n",
    "CH = (1*bc) + (1*bh)\n",
    "CH3 = (1*bc) + (3*bh)\n",
    "D2O = (2*bd) + (1*bo)\n",
    "H2O = (2*bh) + (1*bo)\n",
    "\n",
    "# Calculate mole fraction of D2O from the bulk SLD..\n",
    "# d2o_molfr = (1/D2O-H2O)*(contrast*27.64)-H2O\n",
    "# wMol = (d2o_molfr * D2O) + ((1-d2o_molfr)*H2O)\n",
    "\n",
    "#sum b's of all the different fragments\n",
    "b_tails = Parameter(value=(28*CH2) + (2*CH) + (2*CH3),\n",
    "                       name='%s - b_tails_real' % name)\n",
    "\n",
    "sum_popc_heads = (8*bo) + (1*bp) + (1*bn) + (2*bc) + (4*CH2) + (3*CH3) + (1*CH)\n",
    "sum_popg_heads = (10*bo) + (1*bp) + (2*bc) + (4*CH2) + (2*CH) + (2*bh)\n",
    "b_heads = Parameter(value=(3*(sum_popc_heads) + (sum_popg_heads))/4,\n",
    "                        name='%s - b_heads_real' % name)\n",
    "\n",
    "#monolayer compositions\n",
    "#sum_m_tails = (34*CH2) + (2*CH3);\n",
    "#sum_m_heads = (1*bn) + (2*CH3) + (Waters_per_headD * wMol);\n",
    "\n",
    "#volumes of each fragment\n",
    "vCH2 = 27.7\n",
    "nCH2 = 30\n",
    "vCH3 = 54.6\n",
    "vm_tails = Parameter(value=(nCH2 * vCH2) + (2 * vCH3),\n",
    "            name='%s - volume_tails' % name) #\n",
    "vm_heads = Parameter(value=331,\n",
    "            name='%s - volume_heads' % name)  #\n",
    "vm_water = Parameter(value=29.7,\n",
    "            name='%s - water_vm' % name)\n",
    "\n",
    "#thickness\n",
    "thickness_tails = Parameter(value=vm_tails.value/apm.value,\n",
    "            name='%s - thickness_tails' % name,\n",
    "            bounds=((1-0.75)*vm_tails.value/apm.value,\n",
    "                    (1+0.75)*vm_tails.value/apm.value),\n",
    "               vary=True)\n",
    "thickness_heads = Parameter(value=vm_heads.value/apm.value,\n",
    "            name='%s - thickness_heads' % name,\n",
    "            bounds=((1-0.75)*vm_heads.value/apm.value,\n",
    "                    (1+0.75)*vm_heads.value/apm.value),\n",
    "               vary=True)\n",
    "\n",
    "rough_top = Parameter(value=12.0,\n",
    "            name='%s - rough_top' % name,\n",
    "            bounds=(0,20), vary=True)\n",
    "rough_bot = Parameter(value=10.3,\n",
    "            name='%s - rough_bot' % name,\n",
    "            bounds=(0,15), vary=True)\n",
    "\n",
    "waters_per_head = Parameter(\n",
    "            value=2.8,\n",
    "            name=\"{} Waters Per Head\".format(name),\n",
    "            vary=True,\n",
    "            bounds=(0, 5))\n",
    "waters_per_tail = Parameter(\n",
    "            value=0.,\n",
    "            name=\"{} Waters Per Tail\".format(name),\n",
    "            vary=False)\n"
   ]
  },
  {
   "cell_type": "code",
   "execution_count": 4,
   "metadata": {},
   "outputs": [],
   "source": [
    "# apm, b_heads, vm_heads, thickness_heads\n",
    "# b_tails, vm_tails, thickness_tails, rough_head_tail\n",
    "# rough_preceding_mono, head_solvent\n",
    "\n",
    "\n",
    "head_solvent_d2o = SLD(6.07, \"D2O in bilayer\")\n",
    "head_solvent_d2o.real.setp(6.07, vary=True, bounds=(5.35, 6.35))\n",
    "upper_lipid_d2o = LipidLeaflet(apm, b_heads, vm_heads, thickness_heads,\n",
    "    b_tails, vm_tails, thickness_tails, rough_top, rough_top,\n",
    "    vm_water, waters_per_head, waters_per_tail,\n",
    "    head_solvent_d2o, reverse_monolayer=False)\n",
    "\n",
    "lower_lipid_d2o = LipidLeaflet(apm, b_heads, vm_heads, thickness_heads,\n",
    "    b_tails, vm_tails, thickness_tails, rough_top, rough_top,\n",
    "    vm_water, waters_per_head, waters_per_tail,\n",
    "    head_solvent_d2o, reverse_monolayer=True)\n",
    "\n",
    "\n",
    "head_solvent_pmw = SLD(2.35, \"Protein Matched Water in bilayer\")\n",
    "head_solvent_pmw.real.setp(2.34, vary=True, bounds=(1.35, 3.35))\n",
    "upper_lipid_pmw = LipidLeaflet(apm, b_heads, vm_heads, thickness_heads,\n",
    "    b_tails, vm_tails, thickness_tails, rough_bot, rough_bot,\n",
    "    vm_water, waters_per_head, waters_per_tail, head_solvent_pmw,\n",
    "    reverse_monolayer=False)\n",
    "\n",
    "lower_lipid_pmw = LipidLeaflet(apm, b_heads, vm_heads, thickness_heads,\n",
    "    b_tails, vm_tails, thickness_tails, rough_bot, rough_bot,\n",
    "    vm_water, waters_per_head, waters_per_tail, head_solvent_pmw,\n",
    "    reverse_monolayer=True)\n"
   ]
  },
  {
   "cell_type": "code",
   "execution_count": 5,
   "metadata": {},
   "outputs": [],
   "source": [
    "name_m = \"mono, dodab\"\n",
    "APMD = Parameter(value=48, name='%s - area_per_molecule' % name_m,\n",
    "        bounds=(30,120), vary=True)\n",
    "\n",
    "# monolayer compositions\n",
    "m_tails = Parameter(value=(34*CH2) + (2*CH3),\n",
    "            name='%s - b_tails_real' % name_m)\n",
    "m_heads = Parameter(value=(1*bn) + (2*CH3),\n",
    "            name='%s - b_heads_real' % name_m)\n",
    "\n",
    "# monolayer volumes\n",
    "vm_m_tails = Parameter(value=vCH2*36,\n",
    "            name='%s - volume_tails' % name)\n",
    "vm_m_heads = Parameter(value=54.6,\n",
    "            name='%s - volume_heads' % name)\n",
    "\n",
    "# monolayer thicknesses\n",
    "tail_thick_m = Parameter(value=vm_m_tails.value / APMD.value,\n",
    "            name='%s - thickness_tails' % name,\n",
    "            bounds=((1-0.75)*vm_m_tails.value / APMD.value,\n",
    "                    (1+0.75)*vm_m_tails.value / APMD.value),\n",
    "               vary=True)\n",
    "head_thick_m = Parameter(value=vm_m_heads.value / APMD.value,\n",
    "            name='%s - thickness heads' % name,\n",
    "            bounds=((1-0.75)*vm_m_heads.value / APMD.value,\n",
    "                    (1+0.75)*vm_m_heads.value / APMD.value),\n",
    "               vary=True)\n",
    "\n",
    "roughness_m =  Parameter(value=5.8,\n",
    "            name='%s - roughness' % name,\n",
    "            bounds=(0,10), vary=True)\n",
    "\n",
    "\n",
    "water_vm_m = Parameter(value=vm_water,\n",
    "            name='%s - water_vm' % name)\n",
    "waters_per_head_m = Parameter(\n",
    "            value=2.8,\n",
    "            name=\"{} Waters Per Head\".format(name),\n",
    "            vary=True,\n",
    "            bounds=(1, 20))\n",
    "waters_per_tail_m = Parameter(\n",
    "            value=0.,\n",
    "            name=\"{} Waters Per Tail\".format(name),\n",
    "            vary=False)"
   ]
  },
  {
   "cell_type": "code",
   "execution_count": 6,
   "metadata": {},
   "outputs": [],
   "source": [
    "\n",
    "m_head_solvent_pmw=SLD(2.35, \"mono, dodab - Protein Matched Water in head\")\n",
    "m_head_solvent_pmw.real.setp(2.34, vary=True, bounds=(1.35, 3.35))\n",
    "m_air_in_tail=SLD(0, \"mono, dodab - air in tail\")\n",
    "\n",
    "dodab_pmw = LipidLeaflet(apm=APMD, b_heads=m_heads, vm_heads=vm_m_heads,\n",
    "    thickness_heads=head_thick_m, b_tails=m_tails, vm_tails=vm_m_tails,\n",
    "    thickness_tails=tail_thick_m, rough_head_tail=roughness_m,\n",
    "    rough_preceding_mono=roughness_m,\n",
    "    water_vm=vm_water, waters_per_head=waters_per_head_m,\n",
    "    waters_per_tail=waters_per_tail_m,\n",
    "    head_solvent=m_head_solvent_pmw, tail_solvent=m_air_in_tail) #mono\n",
    "\n",
    "m_head_solvent_d2o=SLD(6.07, \"mono, dodab - D2O in head\")\n",
    "m_head_solvent_d2o.real.setp(6.07, vary=True, bounds=(5.35, 6.35))\n",
    "dodab_d2o = LipidLeaflet(apm=APMD, b_heads=m_heads, vm_heads=vm_m_heads,\n",
    "    thickness_heads=head_thick_m, b_tails=m_tails, vm_tails=vm_m_tails,\n",
    "    thickness_tails=tail_thick_m, rough_head_tail=roughness_m,\n",
    "    water_vm=vm_water, waters_per_head=waters_per_head_m,\n",
    "    waters_per_tail=waters_per_tail_m,\n",
    "    rough_preceding_mono=roughness_m, head_solvent=m_head_solvent_d2o,\n",
    "                         tail_solvent=m_air_in_tail) #mono"
   ]
  },
  {
   "cell_type": "code",
   "execution_count": 7,
   "metadata": {
    "scrolled": true
   },
   "outputs": [
    {
     "data": {
      "image/png": "[encoded data removed]",
      "text/plain": [
       "<Figure size 432x288 with 1 Axes>"
      ]
     },
     "metadata": {
      "needs_background": "light"
     },
     "output_type": "display_data"
    },
    {
     "name": "stdout",
     "output_type": "stream",
     "text": [
      "________________________________________________________________________________\n",
      "Structure:                \n",
      "solvent: None\n",
      "reverse structure: False\n",
      "contract: 0\n",
      "\n",
      "________________________________________________________________________________\n",
      "Parameters:      'Air'     \n",
      "<Parameter: 'Air - thick' , value=0 (fixed)  , bounds=[-inf, inf]>\n",
      "<Parameter:  'Air - sld'  , value=0 (fixed)  , bounds=[-inf, inf]>\n",
      "<Parameter: 'Air - isld'  , value=0 (fixed)  , bounds=[-inf, inf]>\n",
      "<Parameter: 'Air - rough' , value=0 (fixed)  , bounds=[-inf, inf]>\n",
      "<Parameter:'Air - volfrac solvent', value=0 (fixed)  , bounds=[-inf, inf]>\n",
      "LipidLeaflet(Parameter(value=48.0, name='mono, dodab - area_per_molecule', vary=True, bounds=Interval(lb=30, ub=120), constraint=None), SLD([Parameter(value=2.1799999999999825e-06, name='mono, dodab - b_heads_real', vary=False, bounds=Interval(lb=-np.inf, ub=np.inf), constraint=None), Parameter(value=0.0, name=' - b_heads_imag', vary=False, bounds=Interval(lb=-np.inf, ub=np.inf), constraint=None)], name=''), Parameter(value=54.6, name='bilayer - volume_heads', vary=False, bounds=Interval(lb=-np.inf, ub=np.inf), constraint=None), Parameter(value=1.1375, name='bilayer - thickness heads', vary=True, bounds=Interval(lb=0.284375, ub=1.9906249999999999), constraint=None), SLD([Parameter(value=-0.00037430000000000005, name='mono, dodab - b_tails_real', vary=False, bounds=Interval(lb=-np.inf, ub=np.inf), constraint=None), Parameter(value=0.0, name=' - b_tails_imag', vary=False, bounds=Interval(lb=-np.inf, ub=np.inf), constraint=None)], name=''), Parameter(value=997.1999999999999, name='bilayer - volume_tails', vary=False, bounds=Interval(lb=-np.inf, ub=np.inf), constraint=None), Parameter(value=20.775, name='bilayer - thickness_tails', vary=True, bounds=Interval(lb=5.19375, ub=36.356249999999996), constraint=None), Parameter(value=5.8, name='bilayer - roughness', vary=True, bounds=Interval(lb=0, ub=10), constraint=None), Parameter(value=5.8, name='bilayer - roughness', vary=True, bounds=Interval(lb=0, ub=10), constraint=None), head_solvent=SLD([Parameter(value=2.34, name='mono, dodab - Protein Matched Water in head - sld', vary=True, bounds=Interval(lb=1.35, ub=3.35), constraint=None), Parameter(value=0.0, name='mono, dodab - Protein Matched Water in head - isld', vary=False, bounds=Interval(lb=-np.inf, ub=np.inf), constraint=None)], name=''), tail_solvent=SLD([Parameter(value=0.0, name='mono, dodab - air in tail - sld', vary=False, bounds=Interval(lb=-np.inf, ub=np.inf), constraint=None), Parameter(value=0.0, name='mono, dodab - air in tail - isld', vary=False, bounds=Interval(lb=-np.inf, ub=np.inf), constraint=None)], name=''), reverse_monolayer=False, name='')\n",
      "________________________________________________________________________________\n",
      "Parameters: 'Protein Matched Water'\n",
      "<Parameter:'Protein Matched Water - thick', value=0 (fixed)  , bounds=[-inf, inf]>\n",
      "<Parameter:'Protein Matched Water - sld', value=2.35          , bounds=[1.35, 3.35]>\n",
      "<Parameter:'Protein Matched Water - isld', value=0 (fixed)  , bounds=[-inf, inf]>\n",
      "<Parameter:'Protein Matched Water - rough', value=0 (fixed)  , bounds=[-inf, inf]>\n",
      "<Parameter:'Protein Matched Water - volfrac solvent', value=0 (fixed)  , bounds=[-inf, inf]>\n",
      "LipidLeaflet(Parameter(value=62.0, name='bilayer - area_per_molecule', vary=True, bounds=Interval(lb=60, ub=150), constraint=None), SLD([Parameter(value=0.0006292750000000001, name='bilayer - b_heads_real', vary=False, bounds=Interval(lb=-np.inf, ub=np.inf), constraint=None), Parameter(value=0.0, name=' - b_heads_imag', vary=False, bounds=Interval(lb=-np.inf, ub=np.inf), constraint=None)], name=''), Parameter(value=331.0, name='bilayer - volume_heads', vary=False, bounds=Interval(lb=-np.inf, ub=np.inf), constraint=None), Parameter(value=5.338709677419355, name='bilayer - thickness_heads', vary=True, bounds=Interval(lb=1.3346774193548387, ub=9.34274193548387), constraint=None), SLD([Parameter(value=-0.00026624000000000005, name='bilayer - b_tails_real', vary=False, bounds=Interval(lb=-np.inf, ub=np.inf), constraint=None), Parameter(value=0.0, name=' - b_tails_imag', vary=False, bounds=Interval(lb=-np.inf, ub=np.inf), constraint=None)], name=''), Parameter(value=940.2, name='bilayer - volume_tails', vary=False, bounds=Interval(lb=-np.inf, ub=np.inf), constraint=None), Parameter(value=15.16451612903226, name='bilayer - thickness_tails', vary=True, bounds=Interval(lb=3.791129032258065, ub=26.537903225806453), constraint=None), Parameter(value=10.3, name='bilayer - rough_bot', vary=True, bounds=Interval(lb=0, ub=15), constraint=None), Parameter(value=10.3, name='bilayer - rough_bot', vary=True, bounds=Interval(lb=0, ub=15), constraint=None), head_solvent=SLD([Parameter(value=2.34, name='Protein Matched Water in bilayer - sld', vary=True, bounds=Interval(lb=1.35, ub=3.35), constraint=None), Parameter(value=0.0, name='Protein Matched Water in bilayer - isld', vary=False, bounds=Interval(lb=-np.inf, ub=np.inf), constraint=None)], name=''), tail_solvent=None, reverse_monolayer=False, name='')\n",
      "LipidLeaflet(Parameter(value=62.0, name='bilayer - area_per_molecule', vary=True, bounds=Interval(lb=60, ub=150), constraint=None), SLD([Parameter(value=0.0006292750000000001, name='bilayer - b_heads_real', vary=False, bounds=Interval(lb=-np.inf, ub=np.inf), constraint=None), Parameter(value=0.0, name=' - b_heads_imag', vary=False, bounds=Interval(lb=-np.inf, ub=np.inf), constraint=None)], name=''), Parameter(value=331.0, name='bilayer - volume_heads', vary=False, bounds=Interval(lb=-np.inf, ub=np.inf), constraint=None), Parameter(value=5.338709677419355, name='bilayer - thickness_heads', vary=True, bounds=Interval(lb=1.3346774193548387, ub=9.34274193548387), constraint=None), SLD([Parameter(value=-0.00026624000000000005, name='bilayer - b_tails_real', vary=False, bounds=Interval(lb=-np.inf, ub=np.inf), constraint=None), Parameter(value=0.0, name=' - b_tails_imag', vary=False, bounds=Interval(lb=-np.inf, ub=np.inf), constraint=None)], name=''), Parameter(value=940.2, name='bilayer - volume_tails', vary=False, bounds=Interval(lb=-np.inf, ub=np.inf), constraint=None), Parameter(value=15.16451612903226, name='bilayer - thickness_tails', vary=True, bounds=Interval(lb=3.791129032258065, ub=26.537903225806453), constraint=None), Parameter(value=10.3, name='bilayer - rough_bot', vary=True, bounds=Interval(lb=0, ub=15), constraint=None), Parameter(value=10.3, name='bilayer - rough_bot', vary=True, bounds=Interval(lb=0, ub=15), constraint=None), head_solvent=SLD([Parameter(value=2.34, name='Protein Matched Water in bilayer - sld', vary=True, bounds=Interval(lb=1.35, ub=3.35), constraint=None), Parameter(value=0.0, name='Protein Matched Water in bilayer - isld', vary=False, bounds=Interval(lb=-np.inf, ub=np.inf), constraint=None)], name=''), tail_solvent=None, reverse_monolayer=True, name='')\n",
      "________________________________________________________________________________\n",
      "Parameters: 'Protein Matched Water'\n",
      "<Parameter:'Protein Matched Water - thick', value=0 (fixed)  , bounds=[-inf, inf]>\n",
      "<Parameter:'Protein Matched Water - sld', value=2.35          , bounds=[1.35, 3.35]>\n",
      "<Parameter:'Protein Matched Water - isld', value=0 (fixed)  , bounds=[-inf, inf]>\n",
      "<Parameter:'Protein Matched Water - rough', value=0 (fixed)  , bounds=[-inf, inf]>\n",
      "<Parameter:'Protein Matched Water - volfrac solvent', value=0 (fixed)  , bounds=[-inf, inf]>\n"
     ]
    }
   ],
   "source": [
    "structure_d2o = air(0, 0) | dodab_d2o | d2o(0, 0) | upper_lipid_d2o | lower_lipid_d2o | d2o(0, 0)\n",
    "structure_pmw = air(0, 0) | dodab_pmw | pmw(0, 0) | upper_lipid_pmw | lower_lipid_pmw | pmw(0, 0)\n",
    "\n",
    "\n",
    "solution_thickness = Parameter(value=14.3, bounds=(6, 20), vary=True,\n",
    "            name='%s - thickness_solution' % name)\n",
    "\n",
    "rough_preceding_solution = Parameter(value=4.6, bounds=(0, 20), vary=True,\n",
    "            name='%s - rough_preceding_solution' % name)\n",
    "\n",
    "structure_d2o[2].thick=solution_thickness#.setp(14.3, vary=True, bounds=(6, 20))\n",
    "structure_d2o[2].rough=rough_preceding_solution#.setp(4.6, vary=True, bounds=(3, 20))\n",
    "structure_pmw[2].thick=solution_thickness\n",
    "structure_pmw[2].rough=rough_preceding_solution\n",
    "\n",
    "structure_d2o[5].thick=solution_thickness\n",
    "structure_d2o[5].rough=rough_preceding_solution\n",
    "structure_pmw[5].thick=solution_thickness\n",
    "structure_pmw[5].rough=rough_preceding_solution\n",
    "\n",
    "# structure_d2o\n",
    "# structure_pmw\n",
    "\n",
    "plt.plot(*structure_d2o.sld_profile(),label=structure_d2o)\n",
    "plt.ylabel('SLD /$10^{-6} \\AA^{-2}$')\n",
    "plt.xlabel('distance / $\\AA$')\n",
    "plt.plot(*structure_pmw.sld_profile(),label=structure_pmw)\n",
    "plt.ylabel('SLD /$10^{-6} \\AA^{-2}$')\n",
    "plt.xlabel('distance / $\\AA$')\n",
    "plt.show();\n",
    "# print(structure_d2o)\n",
    "print(structure_pmw)"
   ]
  },
  {
   "cell_type": "code",
   "execution_count": 8,
   "metadata": {},
   "outputs": [],
   "source": [
    "model1 = ReflectModel(structure_d2o)\n",
    "model1.scale.setp(0.75, vary=True, bounds=(0.5, 1.5))\n",
    "model1.bkg.setp(dataD2o.y.min(),vary=True,bounds=(dataD2o.y.min() * 0.2, dataD2o.y.min() * 1.8))\n",
    "\n",
    "model2 = ReflectModel(structure_pmw)\n",
    "model2.scale.setp(0.75, vary=True, bounds=(0.5, 1.5))\n",
    "model2.bkg.setp(dataPmw.y.min(),vary=True,bounds=(dataPmw.y.min() * 0.2, dataPmw.y.min() * 1.8))\n",
    "\n",
    "objective1 = Objective(model1, dataD2o, transform=Transform(\"logY\"))\n",
    "objective2 = Objective(model2, dataPmw, transform=Transform(\"logY\"))\n",
    "gobjective = GlobalObjective([objective1,objective2])\n",
    "\n",
    "if True:\n",
    "    fitter = CurveFitter(gobjective)\n",
    "    fitter.fit(\"differential_evolution\", target=\"nlpost\")#, seed=SEED)\n",
    "\n",
    "# fitter = CFitter(gobjective)\n",
    "# DynamicNestedSampler\n",
    "# DNSampler = DynamicNestedSampler(fitter.logl, fitter.priorTransform, fitter.nDim())\n",
    "# DNSampler.run_nested(dlogz_init=0.05) # was 0.01\n",
    "# res1 = DNSampler.results"
   ]
  },
  {
   "cell_type": "code",
   "execution_count": 9,
   "metadata": {},
   "outputs": [
    {
     "data": {
      "image/png": "[encoded data removed]",
      "text/plain": [
       "<Figure size 432x288 with 1 Axes>"
      ]
     },
     "metadata": {
      "needs_background": "light"
     },
     "output_type": "display_data"
    }
   ],
   "source": [
    "# structure_d2o\n",
    "# structure_pmw\n",
    "plt.plot(*structure_d2o.sld_profile(),label=\"structure_d2o\")\n",
    "# structure_d2o.plot()\n",
    "# plt.ylabel('SLD ($10^{-6} \\AA^{-2})$')\n",
    "# plt.xlabel('distance  $(\\AA)$')\n",
    "\n",
    "plt.plot(*structure_pmw.sld_profile(),label=\"structure_pmw\")\n",
    "# structure_pmw.plot()\n",
    "plt.ylabel('SLD ($10^{-6} \\AA^{-2})$')\n",
    "plt.xlabel('distance  $(\\AA)$')\n",
    "plt.legend()\n",
    "plt.show();"
   ]
  },
  {
   "cell_type": "code",
   "execution_count": 10,
   "metadata": {},
   "outputs": [
    {
     "data": {
      "image/png": "[encoded data removed]",
      "text/plain": [
       "<Figure size 432x288 with 1 Axes>"
      ]
     },
     "metadata": {
      "needs_background": "light"
     },
     "output_type": "display_data"
    }
   ],
   "source": [
    "gobjective.plot()\n",
    "# plt.yscale('log')\n",
    "plt.xlabel('Q')\n",
    "plt.ylabel('Reflectivity')\n",
    "plt.legend();"
   ]
  },
  {
   "cell_type": "code",
   "execution_count": 11,
   "metadata": {},
   "outputs": [
    {
     "data": {
      "image/png": "[encoded data removed]",
      "text/plain": [
       "<Figure size 432x288 with 1 Axes>"
      ]
     },
     "metadata": {
      "needs_background": "light"
     },
     "output_type": "display_data"
    }
   ],
   "source": [
    "objective1.plot()\n",
    "# plt.yscale('log')\n",
    "plt.xlabel('Q')\n",
    "plt.ylabel('Reflectivity')\n",
    "plt.legend();"
   ]
  },
  {
   "cell_type": "code",
   "execution_count": 12,
   "metadata": {},
   "outputs": [
    {
     "data": {
      "image/png": "[encoded data removed]",
      "text/plain": [
       "<Figure size 432x288 with 1 Axes>"
      ]
     },
     "metadata": {
      "needs_background": "light"
     },
     "output_type": "display_data"
    }
   ],
   "source": [
    "objective2.plot()\n",
    "# plt.yscale('log')\n",
    "plt.xlabel('Q')\n",
    "plt.ylabel('Reflectivity')\n",
    "plt.legend();"
   ]
  },
  {
   "cell_type": "code",
   "execution_count": 19,
   "metadata": {},
   "outputs": [
    {
     "name": "stdout",
     "output_type": "stream",
     "text": [
      "model1: d2o <Parameter:    'scale'    , value=0.780411 +/- 0.00204, bounds=[0.5, 1.5]> <Parameter:     'bkg'     , value=3.20231e-06 +/- 5.39e-07, bounds=[3.72e-07, 3.348e-06]>\n",
      "model2: pmw <Parameter:    'scale'    , value=0.662701 +/- 0.0114, bounds=[0.5, 1.5]> <Parameter:     'bkg'     , value=4.00111e-06 +/- 3.08e-07, bounds=[6.74e-07, 6.066e-06]>\n"
     ]
    }
   ],
   "source": [
    "print(\"model1: d2o\", model1.scale, model1.bkg)\n",
    "print(\"model2: pmw\", model2.scale, model2.bkg)"
   ]
  },
  {
   "cell_type": "code",
   "execution_count": 20,
   "metadata": {},
   "outputs": [
    {
     "name": "stdout",
     "output_type": "stream",
     "text": [
      "________________________________________________________________________________\n",
      "Structure:                \n",
      "solvent: None\n",
      "reverse structure: False\n",
      "contract: 0\n",
      "\n",
      "________________________________________________________________________________\n",
      "Parameters:      'Air'     \n",
      "<Parameter: 'Air - thick' , value=0 (fixed)  , bounds=[-inf, inf]>\n",
      "<Parameter:  'Air - sld'  , value=0 (fixed)  , bounds=[-inf, inf]>\n",
      "<Parameter: 'Air - isld'  , value=0 (fixed)  , bounds=[-inf, inf]>\n",
      "<Parameter: 'Air - rough' , value=0 (fixed)  , bounds=[-inf, inf]>\n",
      "<Parameter:'Air - volfrac solvent', value=0 (fixed)  , bounds=[-inf, inf]>\n",
      "LipidLeaflet(Parameter(value=113.41552469577064, name='mono, dodab - area_per_molecule', vary=True, bounds=Interval(lb=30, ub=120), constraint=None), SLD([Parameter(value=2.1799999999999825e-06, name='mono, dodab - b_heads_real', vary=False, bounds=Interval(lb=-np.inf, ub=np.inf), constraint=None), Parameter(value=0.0, name=' - b_heads_imag', vary=False, bounds=Interval(lb=-np.inf, ub=np.inf), constraint=None)], name=''), Parameter(value=54.6, name='bilayer - volume_heads', vary=False, bounds=Interval(lb=-np.inf, ub=np.inf), constraint=None), Parameter(value=1.9888404848279642, name='bilayer - thickness heads', vary=True, bounds=Interval(lb=0.284375, ub=1.9906249999999999), constraint=None), SLD([Parameter(value=-0.00037430000000000005, name='mono, dodab - b_tails_real', vary=False, bounds=Interval(lb=-np.inf, ub=np.inf), constraint=None), Parameter(value=0.0, name=' - b_tails_imag', vary=False, bounds=Interval(lb=-np.inf, ub=np.inf), constraint=None)], name=''), Parameter(value=997.1999999999999, name='bilayer - volume_tails', vary=False, bounds=Interval(lb=-np.inf, ub=np.inf), constraint=None), Parameter(value=8.976834367095028, name='bilayer - thickness_tails', vary=True, bounds=Interval(lb=5.19375, ub=36.356249999999996), constraint=None), Parameter(value=0.013950222975320337, name='bilayer - roughness', vary=True, bounds=Interval(lb=0, ub=10), constraint=None), Parameter(value=0.013950222975320337, name='bilayer - roughness', vary=True, bounds=Interval(lb=0, ub=10), constraint=None), head_solvent=SLD([Parameter(value=6.113024256177791, name='mono, dodab - D2O in head - sld', vary=True, bounds=Interval(lb=5.35, ub=6.35), constraint=None), Parameter(value=0.0, name='mono, dodab - D2O in head - isld', vary=False, bounds=Interval(lb=-np.inf, ub=np.inf), constraint=None)], name=''), tail_solvent=SLD([Parameter(value=0.0, name='mono, dodab - air in tail - sld', vary=False, bounds=Interval(lb=-np.inf, ub=np.inf), constraint=None), Parameter(value=0.0, name='mono, dodab - air in tail - isld', vary=False, bounds=Interval(lb=-np.inf, ub=np.inf), constraint=None)], name=''), reverse_monolayer=False, name='')\n",
      "________________________________________________________________________________\n",
      "Parameters:      'D2O'     \n",
      "<Parameter: 'D2O - thick' , value=0 (fixed)  , bounds=[-inf, inf]>\n",
      "<Parameter:  'D2O - sld'  , value=6.06237 +/- 0.00656, bounds=[5.35, 6.35]>\n",
      "<Parameter: 'D2O - isld'  , value=0 (fixed)  , bounds=[-inf, inf]>\n",
      "<Parameter: 'D2O - rough' , value=0 (fixed)  , bounds=[-inf, inf]>\n",
      "<Parameter:'D2O - volfrac solvent', value=0 (fixed)  , bounds=[-inf, inf]>\n",
      "LipidLeaflet(Parameter(value=74.69562881512552, name='bilayer - area_per_molecule', vary=True, bounds=Interval(lb=60, ub=150), constraint=None), SLD([Parameter(value=0.0006292750000000001, name='bilayer - b_heads_real', vary=False, bounds=Interval(lb=-np.inf, ub=np.inf), constraint=None), Parameter(value=0.0, name=' - b_heads_imag', vary=False, bounds=Interval(lb=-np.inf, ub=np.inf), constraint=None)], name=''), Parameter(value=331.0, name='bilayer - volume_heads', vary=False, bounds=Interval(lb=-np.inf, ub=np.inf), constraint=None), Parameter(value=9.033708969751839, name='bilayer - thickness_heads', vary=True, bounds=Interval(lb=1.3346774193548387, ub=9.34274193548387), constraint=None), SLD([Parameter(value=-0.00026624000000000005, name='bilayer - b_tails_real', vary=False, bounds=Interval(lb=-np.inf, ub=np.inf), constraint=None), Parameter(value=0.0, name=' - b_tails_imag', vary=False, bounds=Interval(lb=-np.inf, ub=np.inf), constraint=None)], name=''), Parameter(value=940.2, name='bilayer - volume_tails', vary=False, bounds=Interval(lb=-np.inf, ub=np.inf), constraint=None), Parameter(value=12.59053532261234, name='bilayer - thickness_tails', vary=True, bounds=Interval(lb=3.791129032258065, ub=26.537903225806453), constraint=None), Parameter(value=10.845715815706436, name='bilayer - rough_top', vary=True, bounds=Interval(lb=0, ub=20), constraint=None), Parameter(value=10.845715815706436, name='bilayer - rough_top', vary=True, bounds=Interval(lb=0, ub=20), constraint=None), head_solvent=SLD([Parameter(value=6.265171635528974, name='D2O in bilayer - sld', vary=True, bounds=Interval(lb=5.35, ub=6.35), constraint=None), Parameter(value=0.0, name='D2O in bilayer - isld', vary=False, bounds=Interval(lb=-np.inf, ub=np.inf), constraint=None)], name=''), tail_solvent=None, reverse_monolayer=False, name='')\n",
      "LipidLeaflet(Parameter(value=74.69562881512552, name='bilayer - area_per_molecule', vary=True, bounds=Interval(lb=60, ub=150), constraint=None), SLD([Parameter(value=0.0006292750000000001, name='bilayer - b_heads_real', vary=False, bounds=Interval(lb=-np.inf, ub=np.inf), constraint=None), Parameter(value=0.0, name=' - b_heads_imag', vary=False, bounds=Interval(lb=-np.inf, ub=np.inf), constraint=None)], name=''), Parameter(value=331.0, name='bilayer - volume_heads', vary=False, bounds=Interval(lb=-np.inf, ub=np.inf), constraint=None), Parameter(value=9.033708969751839, name='bilayer - thickness_heads', vary=True, bounds=Interval(lb=1.3346774193548387, ub=9.34274193548387), constraint=None), SLD([Parameter(value=-0.00026624000000000005, name='bilayer - b_tails_real', vary=False, bounds=Interval(lb=-np.inf, ub=np.inf), constraint=None), Parameter(value=0.0, name=' - b_tails_imag', vary=False, bounds=Interval(lb=-np.inf, ub=np.inf), constraint=None)], name=''), Parameter(value=940.2, name='bilayer - volume_tails', vary=False, bounds=Interval(lb=-np.inf, ub=np.inf), constraint=None), Parameter(value=12.59053532261234, name='bilayer - thickness_tails', vary=True, bounds=Interval(lb=3.791129032258065, ub=26.537903225806453), constraint=None), Parameter(value=10.845715815706436, name='bilayer - rough_top', vary=True, bounds=Interval(lb=0, ub=20), constraint=None), Parameter(value=10.845715815706436, name='bilayer - rough_top', vary=True, bounds=Interval(lb=0, ub=20), constraint=None), head_solvent=SLD([Parameter(value=6.265171635528974, name='D2O in bilayer - sld', vary=True, bounds=Interval(lb=5.35, ub=6.35), constraint=None), Parameter(value=0.0, name='D2O in bilayer - isld', vary=False, bounds=Interval(lb=-np.inf, ub=np.inf), constraint=None)], name=''), tail_solvent=None, reverse_monolayer=True, name='')\n",
      "________________________________________________________________________________\n",
      "Parameters:      'D2O'     \n",
      "<Parameter: 'D2O - thick' , value=0 (fixed)  , bounds=[-inf, inf]>\n",
      "<Parameter:  'D2O - sld'  , value=6.06237 +/- 0.00656, bounds=[5.35, 6.35]>\n",
      "<Parameter: 'D2O - isld'  , value=0 (fixed)  , bounds=[-inf, inf]>\n",
      "<Parameter: 'D2O - rough' , value=0 (fixed)  , bounds=[-inf, inf]>\n",
      "<Parameter:'D2O - volfrac solvent', value=0 (fixed)  , bounds=[-inf, inf]>\n"
     ]
    }
   ],
   "source": [
    "print(structure_d2o)"
   ]
  },
  {
   "cell_type": "code",
   "execution_count": 21,
   "metadata": {},
   "outputs": [
    {
     "name": "stdout",
     "output_type": "stream",
     "text": [
      "________________________________________________________________________________\n",
      "Structure:                \n",
      "solvent: None\n",
      "reverse structure: False\n",
      "contract: 0\n",
      "\n",
      "________________________________________________________________________________\n",
      "Parameters:      'Air'     \n",
      "<Parameter: 'Air - thick' , value=0 (fixed)  , bounds=[-inf, inf]>\n",
      "<Parameter:  'Air - sld'  , value=0 (fixed)  , bounds=[-inf, inf]>\n",
      "<Parameter: 'Air - isld'  , value=0 (fixed)  , bounds=[-inf, inf]>\n",
      "<Parameter: 'Air - rough' , value=0 (fixed)  , bounds=[-inf, inf]>\n",
      "<Parameter:'Air - volfrac solvent', value=0 (fixed)  , bounds=[-inf, inf]>\n",
      "LipidLeaflet(Parameter(value=113.41552469577064, name='mono, dodab - area_per_molecule', vary=True, bounds=Interval(lb=30, ub=120), constraint=None), SLD([Parameter(value=2.1799999999999825e-06, name='mono, dodab - b_heads_real', vary=False, bounds=Interval(lb=-np.inf, ub=np.inf), constraint=None), Parameter(value=0.0, name=' - b_heads_imag', vary=False, bounds=Interval(lb=-np.inf, ub=np.inf), constraint=None)], name=''), Parameter(value=54.6, name='bilayer - volume_heads', vary=False, bounds=Interval(lb=-np.inf, ub=np.inf), constraint=None), Parameter(value=1.9888404848279642, name='bilayer - thickness heads', vary=True, bounds=Interval(lb=0.284375, ub=1.9906249999999999), constraint=None), SLD([Parameter(value=-0.00037430000000000005, name='mono, dodab - b_tails_real', vary=False, bounds=Interval(lb=-np.inf, ub=np.inf), constraint=None), Parameter(value=0.0, name=' - b_tails_imag', vary=False, bounds=Interval(lb=-np.inf, ub=np.inf), constraint=None)], name=''), Parameter(value=997.1999999999999, name='bilayer - volume_tails', vary=False, bounds=Interval(lb=-np.inf, ub=np.inf), constraint=None), Parameter(value=8.976834367095028, name='bilayer - thickness_tails', vary=True, bounds=Interval(lb=5.19375, ub=36.356249999999996), constraint=None), Parameter(value=0.013950222975320337, name='bilayer - roughness', vary=True, bounds=Interval(lb=0, ub=10), constraint=None), Parameter(value=0.013950222975320337, name='bilayer - roughness', vary=True, bounds=Interval(lb=0, ub=10), constraint=None), head_solvent=SLD([Parameter(value=2.855303872058277, name='mono, dodab - Protein Matched Water in head - sld', vary=True, bounds=Interval(lb=1.35, ub=3.35), constraint=None), Parameter(value=0.0, name='mono, dodab - Protein Matched Water in head - isld', vary=False, bounds=Interval(lb=-np.inf, ub=np.inf), constraint=None)], name=''), tail_solvent=SLD([Parameter(value=0.0, name='mono, dodab - air in tail - sld', vary=False, bounds=Interval(lb=-np.inf, ub=np.inf), constraint=None), Parameter(value=0.0, name='mono, dodab - air in tail - isld', vary=False, bounds=Interval(lb=-np.inf, ub=np.inf), constraint=None)], name=''), reverse_monolayer=False, name='')\n",
      "________________________________________________________________________________\n",
      "Parameters: 'Protein Matched Water'\n",
      "<Parameter:'Protein Matched Water - thick', value=0 (fixed)  , bounds=[-inf, inf]>\n",
      "<Parameter:'Protein Matched Water - sld', value=2.29347 +/- 0.00634, bounds=[1.35, 3.35]>\n",
      "<Parameter:'Protein Matched Water - isld', value=0 (fixed)  , bounds=[-inf, inf]>\n",
      "<Parameter:'Protein Matched Water - rough', value=0 (fixed)  , bounds=[-inf, inf]>\n",
      "<Parameter:'Protein Matched Water - volfrac solvent', value=0 (fixed)  , bounds=[-inf, inf]>\n",
      "LipidLeaflet(Parameter(value=74.69562881512552, name='bilayer - area_per_molecule', vary=True, bounds=Interval(lb=60, ub=150), constraint=None), SLD([Parameter(value=0.0006292750000000001, name='bilayer - b_heads_real', vary=False, bounds=Interval(lb=-np.inf, ub=np.inf), constraint=None), Parameter(value=0.0, name=' - b_heads_imag', vary=False, bounds=Interval(lb=-np.inf, ub=np.inf), constraint=None)], name=''), Parameter(value=331.0, name='bilayer - volume_heads', vary=False, bounds=Interval(lb=-np.inf, ub=np.inf), constraint=None), Parameter(value=9.033708969751839, name='bilayer - thickness_heads', vary=True, bounds=Interval(lb=1.3346774193548387, ub=9.34274193548387), constraint=None), SLD([Parameter(value=-0.00026624000000000005, name='bilayer - b_tails_real', vary=False, bounds=Interval(lb=-np.inf, ub=np.inf), constraint=None), Parameter(value=0.0, name=' - b_tails_imag', vary=False, bounds=Interval(lb=-np.inf, ub=np.inf), constraint=None)], name=''), Parameter(value=940.2, name='bilayer - volume_tails', vary=False, bounds=Interval(lb=-np.inf, ub=np.inf), constraint=None), Parameter(value=12.59053532261234, name='bilayer - thickness_tails', vary=True, bounds=Interval(lb=3.791129032258065, ub=26.537903225806453), constraint=None), Parameter(value=6.923265030893733, name='bilayer - rough_bot', vary=True, bounds=Interval(lb=0, ub=15), constraint=None), Parameter(value=6.923265030893733, name='bilayer - rough_bot', vary=True, bounds=Interval(lb=0, ub=15), constraint=None), head_solvent=SLD([Parameter(value=1.4208295308570114, name='Protein Matched Water in bilayer - sld', vary=True, bounds=Interval(lb=1.35, ub=3.35), constraint=None), Parameter(value=0.0, name='Protein Matched Water in bilayer - isld', vary=False, bounds=Interval(lb=-np.inf, ub=np.inf), constraint=None)], name=''), tail_solvent=None, reverse_monolayer=False, name='')\n",
      "LipidLeaflet(Parameter(value=74.69562881512552, name='bilayer - area_per_molecule', vary=True, bounds=Interval(lb=60, ub=150), constraint=None), SLD([Parameter(value=0.0006292750000000001, name='bilayer - b_heads_real', vary=False, bounds=Interval(lb=-np.inf, ub=np.inf), constraint=None), Parameter(value=0.0, name=' - b_heads_imag', vary=False, bounds=Interval(lb=-np.inf, ub=np.inf), constraint=None)], name=''), Parameter(value=331.0, name='bilayer - volume_heads', vary=False, bounds=Interval(lb=-np.inf, ub=np.inf), constraint=None), Parameter(value=9.033708969751839, name='bilayer - thickness_heads', vary=True, bounds=Interval(lb=1.3346774193548387, ub=9.34274193548387), constraint=None), SLD([Parameter(value=-0.00026624000000000005, name='bilayer - b_tails_real', vary=False, bounds=Interval(lb=-np.inf, ub=np.inf), constraint=None), Parameter(value=0.0, name=' - b_tails_imag', vary=False, bounds=Interval(lb=-np.inf, ub=np.inf), constraint=None)], name=''), Parameter(value=940.2, name='bilayer - volume_tails', vary=False, bounds=Interval(lb=-np.inf, ub=np.inf), constraint=None), Parameter(value=12.59053532261234, name='bilayer - thickness_tails', vary=True, bounds=Interval(lb=3.791129032258065, ub=26.537903225806453), constraint=None), Parameter(value=6.923265030893733, name='bilayer - rough_bot', vary=True, bounds=Interval(lb=0, ub=15), constraint=None), Parameter(value=6.923265030893733, name='bilayer - rough_bot', vary=True, bounds=Interval(lb=0, ub=15), constraint=None), head_solvent=SLD([Parameter(value=1.4208295308570114, name='Protein Matched Water in bilayer - sld', vary=True, bounds=Interval(lb=1.35, ub=3.35), constraint=None), Parameter(value=0.0, name='Protein Matched Water in bilayer - isld', vary=False, bounds=Interval(lb=-np.inf, ub=np.inf), constraint=None)], name=''), tail_solvent=None, reverse_monolayer=True, name='')\n",
      "________________________________________________________________________________\n",
      "Parameters: 'Protein Matched Water'\n",
      "<Parameter:'Protein Matched Water - thick', value=0 (fixed)  , bounds=[-inf, inf]>\n",
      "<Parameter:'Protein Matched Water - sld', value=2.29347 +/- 0.00634, bounds=[1.35, 3.35]>\n",
      "<Parameter:'Protein Matched Water - isld', value=0 (fixed)  , bounds=[-inf, inf]>\n",
      "<Parameter:'Protein Matched Water - rough', value=0 (fixed)  , bounds=[-inf, inf]>\n",
      "<Parameter:'Protein Matched Water - volfrac solvent', value=0 (fixed)  , bounds=[-inf, inf]>\n"
     ]
    }
   ],
   "source": [
    "print(structure_pmw)"
   ]
  },
  {
   "cell_type": "code",
   "execution_count": 22,
   "metadata": {},
   "outputs": [
    {
     "name": "stdout",
     "output_type": "stream",
     "text": [
      "[[ 0.00000000e+00  0.00000000e+00  0.00000000e+00  0.00000000e+00\n",
      "   0.00000000e+00]\n",
      " [ 1.98884048e+00  1.60263169e+00  0.00000000e+00  1.39502230e-02\n",
      "   0.00000000e+00]\n",
      " [ 8.97683437e+00 -3.67641144e-01  0.00000000e+00  1.39502230e-02\n",
      "   0.00000000e+00]\n",
      " [ 1.43000000e+01  6.06237360e+00  0.00000000e+00  4.60000000e+00\n",
      "   0.00000000e+00]\n",
      " [ 9.03370897e+00  1.45863931e+00  0.00000000e+00  1.08457158e+01\n",
      "   0.00000000e+00]\n",
      " [ 1.25905353e+01 -2.81433308e-01  0.00000000e+00  1.08457158e+01\n",
      "   2.74284502e-04]\n",
      " [ 1.25905353e+01 -2.81433308e-01  0.00000000e+00  1.08457158e+01\n",
      "   2.74284502e-04]\n",
      " [ 9.03370897e+00  1.45863931e+00  0.00000000e+00  1.08457158e+01\n",
      "   0.00000000e+00]\n",
      " [ 1.43000000e+01  6.06237360e+00  0.00000000e+00  4.60000000e+00\n",
      "   0.00000000e+00]]\n"
     ]
    }
   ],
   "source": [
    "print(structure_d2o.slabs())"
   ]
  },
  {
   "cell_type": "code",
   "execution_count": 23,
   "metadata": {},
   "outputs": [
    {
     "name": "stdout",
     "output_type": "stream",
     "text": [
      "[[ 0.00000000e+00  0.00000000e+00  0.00000000e+00  0.00000000e+00\n",
      "   0.00000000e+00]\n",
      " [ 1.98884048e+00  7.53716147e-01  0.00000000e+00  1.39502230e-02\n",
      "   0.00000000e+00]\n",
      " [ 8.97683437e+00 -3.67641144e-01  0.00000000e+00  1.39502230e-02\n",
      "   0.00000000e+00]\n",
      " [ 1.43000000e+01  2.29347258e+00  0.00000000e+00  4.60000000e+00\n",
      "   0.00000000e+00]\n",
      " [ 9.03370897e+00  1.05186944e+00  0.00000000e+00  6.92326503e+00\n",
      "   0.00000000e+00]\n",
      " [ 1.25905353e+01 -2.82467059e-01  0.00000000e+00  6.92326503e+00\n",
      "   2.74284502e-04]\n",
      " [ 1.25905353e+01 -2.82467059e-01  0.00000000e+00  6.92326503e+00\n",
      "   2.74284502e-04]\n",
      " [ 9.03370897e+00  1.05186944e+00  0.00000000e+00  6.92326503e+00\n",
      "   0.00000000e+00]\n",
      " [ 1.43000000e+01  2.29347258e+00  0.00000000e+00  4.60000000e+00\n",
      "   0.00000000e+00]]\n"
     ]
    }
   ],
   "source": [
    "print(structure_pmw.slabs())"
   ]
  },
  {
   "cell_type": "markdown",
   "metadata": {},
   "source": [
    "# dynesty"
   ]
  },
  {
   "cell_type": "code",
   "execution_count": null,
   "metadata": {},
   "outputs": [],
   "source": [
    "model11 = ReflectModel(structure_d2o)\n",
    "model11.scale.setp(0.75, vary=True, bounds=(0.5, 1.5))\n",
    "model11.bkg.setp(dataD2o.y.min(),vary=True,bounds=(dataD2o.y.min() * 0.2, dataD2o.y.min() * 1.8))\n",
    "\n",
    "model21 = ReflectModel(structure_pmw)\n",
    "model21.scale.setp(0.75, vary=True, bounds=(0.5, 1.5))\n",
    "model21.bkg.setp(dataPmw.y.min(),vary=True,bounds=(dataPmw.y.min() * 0.2, dataPmw.y.min() * 1.8))\n",
    "\n",
    "objective11 = Objective(model11, dataD2o, transform=Transform(\"logY\"))\n",
    "objective21 = Objective(model21, dataPmw, transform=Transform(\"logY\"))\n",
    "gobjective1 = GlobalObjective([objective11,objective21])\n",
    "\n",
    "# if True:\n",
    "#     fitter = CurveFitter(gobjective)\n",
    "#     fitter.fit(\"differential_evolution\", target=\"nlpost\")#, seed=SEED)\n",
    "\n",
    "fitter1 = CFitter(gobjective1)\n",
    "DynamicNestedSampler\n",
    "DNSampler = DynamicNestedSampler(fitter1.logl, fitter1.priorTransform, fitter1.nDim())\n",
    "DNSampler.run_nested(dlogz_init=0.05) # was 0.01\n",
    "res1 = DNSampler.results"
   ]
  },
  {
   "cell_type": "code",
   "execution_count": 13,
   "metadata": {},
   "outputs": [],
   "source": [
    "\n",
    "span = [(0,5000),(0,1.5),(0,0.4),(-10**3,10**3)]\n",
    "fig, axes = dyplot.runplot(res1,span=span, color='black', mark_final_live=False,\n",
    "                           logplot=False)"
   ]
  },
  {
   "cell_type": "code",
   "execution_count": 14,
   "metadata": {},
   "outputs": [],
   "source": [
    "print(-min(res1[\"logvol\"]))"
   ]
  },
  {
   "cell_type": "code",
   "execution_count": 15,
   "metadata": {},
   "outputs": [],
   "source": [
    "fig, axes = dyplot.traceplot(res1, #truths=np.zeros(fitter.nDim()),\n",
    "                             show_titles=True, trace_cmap='plasma',\n",
    "                             quantiles=[0.025, 0.5, 0.975])\n",
    "fig.tight_layout()"
   ]
  },
  {
   "cell_type": "code",
   "execution_count": 16,
   "metadata": {},
   "outputs": [
    {
     "name": "stdout",
     "output_type": "stream",
     "text": [
      "model1: d2o <Parameter:    'scale'    , value=0.780411 +/- 0.00204, bounds=[0.5, 1.5]> <Parameter:     'bkg'     , value=3.20231e-06 +/- 5.39e-07, bounds=[3.72e-07, 3.348e-06]>\n",
      "model2: pmw <Parameter:    'scale'    , value=0.662701 +/- 0.0114, bounds=[0.5, 1.5]> <Parameter:     'bkg'     , value=4.00111e-06 +/- 3.08e-07, bounds=[6.74e-07, 6.066e-06]>\n"
     ]
    }
   ],
   "source": [
    "print(\"model1: d2o\", model11.scale, model11.bkg)\n",
    "print(\"model2: pmw\", model21.scale, model21.bkg)"
   ]
  },
  {
   "cell_type": "code",
   "execution_count": 17,
   "metadata": {},
   "outputs": [
    {
     "name": "stdout",
     "output_type": "stream",
     "text": [
      "________________________________________________________________________________\n",
      "Structure:                \n",
      "solvent: None\n",
      "reverse structure: False\n",
      "contract: 0\n",
      "\n",
      "________________________________________________________________________________\n",
      "Parameters:      'Air'     \n",
      "<Parameter: 'Air - thick' , value=0 (fixed)  , bounds=[-inf, inf]>\n",
      "<Parameter:  'Air - sld'  , value=0 (fixed)  , bounds=[-inf, inf]>\n",
      "<Parameter: 'Air - isld'  , value=0 (fixed)  , bounds=[-inf, inf]>\n",
      "<Parameter: 'Air - rough' , value=0 (fixed)  , bounds=[-inf, inf]>\n",
      "<Parameter:'Air - volfrac solvent', value=0 (fixed)  , bounds=[-inf, inf]>\n",
      "LipidLeaflet(Parameter(value=113.41552469577064, name='mono, dodab - area_per_molecule', vary=True, bounds=Interval(lb=30, ub=120), constraint=None), SLD([Parameter(value=2.1799999999999825e-06, name='mono, dodab - b_heads_real', vary=False, bounds=Interval(lb=-np.inf, ub=np.inf), constraint=None), Parameter(value=0.0, name=' - b_heads_imag', vary=False, bounds=Interval(lb=-np.inf, ub=np.inf), constraint=None)], name=''), Parameter(value=54.6, name='bilayer - volume_heads', vary=False, bounds=Interval(lb=-np.inf, ub=np.inf), constraint=None), Parameter(value=1.9888404848279642, name='bilayer - thickness heads', vary=True, bounds=Interval(lb=0.284375, ub=1.9906249999999999), constraint=None), SLD([Parameter(value=-0.00037430000000000005, name='mono, dodab - b_tails_real', vary=False, bounds=Interval(lb=-np.inf, ub=np.inf), constraint=None), Parameter(value=0.0, name=' - b_tails_imag', vary=False, bounds=Interval(lb=-np.inf, ub=np.inf), constraint=None)], name=''), Parameter(value=997.1999999999999, name='bilayer - volume_tails', vary=False, bounds=Interval(lb=-np.inf, ub=np.inf), constraint=None), Parameter(value=8.976834367095028, name='bilayer - thickness_tails', vary=True, bounds=Interval(lb=5.19375, ub=36.356249999999996), constraint=None), Parameter(value=0.013950222975320337, name='bilayer - roughness', vary=True, bounds=Interval(lb=0, ub=10), constraint=None), Parameter(value=0.013950222975320337, name='bilayer - roughness', vary=True, bounds=Interval(lb=0, ub=10), constraint=None), head_solvent=SLD([Parameter(value=6.113024256177791, name='mono, dodab - D2O in head - sld', vary=True, bounds=Interval(lb=5.35, ub=6.35), constraint=None), Parameter(value=0.0, name='mono, dodab - D2O in head - isld', vary=False, bounds=Interval(lb=-np.inf, ub=np.inf), constraint=None)], name=''), tail_solvent=SLD([Parameter(value=0.0, name='mono, dodab - air in tail - sld', vary=False, bounds=Interval(lb=-np.inf, ub=np.inf), constraint=None), Parameter(value=0.0, name='mono, dodab - air in tail - isld', vary=False, bounds=Interval(lb=-np.inf, ub=np.inf), constraint=None)], name=''), reverse_monolayer=False, name='')\n",
      "________________________________________________________________________________\n",
      "Parameters:      'D2O'     \n",
      "<Parameter: 'D2O - thick' , value=0 (fixed)  , bounds=[-inf, inf]>\n",
      "<Parameter:  'D2O - sld'  , value=6.06237 +/- 0.00656, bounds=[5.35, 6.35]>\n",
      "<Parameter: 'D2O - isld'  , value=0 (fixed)  , bounds=[-inf, inf]>\n",
      "<Parameter: 'D2O - rough' , value=0 (fixed)  , bounds=[-inf, inf]>\n",
      "<Parameter:'D2O - volfrac solvent', value=0 (fixed)  , bounds=[-inf, inf]>\n",
      "LipidLeaflet(Parameter(value=74.69562881512552, name='bilayer - area_per_molecule', vary=True, bounds=Interval(lb=60, ub=150), constraint=None), SLD([Parameter(value=0.0006292750000000001, name='bilayer - b_heads_real', vary=False, bounds=Interval(lb=-np.inf, ub=np.inf), constraint=None), Parameter(value=0.0, name=' - b_heads_imag', vary=False, bounds=Interval(lb=-np.inf, ub=np.inf), constraint=None)], name=''), Parameter(value=331.0, name='bilayer - volume_heads', vary=False, bounds=Interval(lb=-np.inf, ub=np.inf), constraint=None), Parameter(value=9.033708969751839, name='bilayer - thickness_heads', vary=True, bounds=Interval(lb=1.3346774193548387, ub=9.34274193548387), constraint=None), SLD([Parameter(value=-0.00026624000000000005, name='bilayer - b_tails_real', vary=False, bounds=Interval(lb=-np.inf, ub=np.inf), constraint=None), Parameter(value=0.0, name=' - b_tails_imag', vary=False, bounds=Interval(lb=-np.inf, ub=np.inf), constraint=None)], name=''), Parameter(value=940.2, name='bilayer - volume_tails', vary=False, bounds=Interval(lb=-np.inf, ub=np.inf), constraint=None), Parameter(value=12.59053532261234, name='bilayer - thickness_tails', vary=True, bounds=Interval(lb=3.791129032258065, ub=26.537903225806453), constraint=None), Parameter(value=10.845715815706436, name='bilayer - rough_top', vary=True, bounds=Interval(lb=0, ub=20), constraint=None), Parameter(value=10.845715815706436, name='bilayer - rough_top', vary=True, bounds=Interval(lb=0, ub=20), constraint=None), head_solvent=SLD([Parameter(value=6.265171635528974, name='D2O in bilayer - sld', vary=True, bounds=Interval(lb=5.35, ub=6.35), constraint=None), Parameter(value=0.0, name='D2O in bilayer - isld', vary=False, bounds=Interval(lb=-np.inf, ub=np.inf), constraint=None)], name=''), tail_solvent=None, reverse_monolayer=False, name='')\n",
      "LipidLeaflet(Parameter(value=74.69562881512552, name='bilayer - area_per_molecule', vary=True, bounds=Interval(lb=60, ub=150), constraint=None), SLD([Parameter(value=0.0006292750000000001, name='bilayer - b_heads_real', vary=False, bounds=Interval(lb=-np.inf, ub=np.inf), constraint=None), Parameter(value=0.0, name=' - b_heads_imag', vary=False, bounds=Interval(lb=-np.inf, ub=np.inf), constraint=None)], name=''), Parameter(value=331.0, name='bilayer - volume_heads', vary=False, bounds=Interval(lb=-np.inf, ub=np.inf), constraint=None), Parameter(value=9.033708969751839, name='bilayer - thickness_heads', vary=True, bounds=Interval(lb=1.3346774193548387, ub=9.34274193548387), constraint=None), SLD([Parameter(value=-0.00026624000000000005, name='bilayer - b_tails_real', vary=False, bounds=Interval(lb=-np.inf, ub=np.inf), constraint=None), Parameter(value=0.0, name=' - b_tails_imag', vary=False, bounds=Interval(lb=-np.inf, ub=np.inf), constraint=None)], name=''), Parameter(value=940.2, name='bilayer - volume_tails', vary=False, bounds=Interval(lb=-np.inf, ub=np.inf), constraint=None), Parameter(value=12.59053532261234, name='bilayer - thickness_tails', vary=True, bounds=Interval(lb=3.791129032258065, ub=26.537903225806453), constraint=None), Parameter(value=10.845715815706436, name='bilayer - rough_top', vary=True, bounds=Interval(lb=0, ub=20), constraint=None), Parameter(value=10.845715815706436, name='bilayer - rough_top', vary=True, bounds=Interval(lb=0, ub=20), constraint=None), head_solvent=SLD([Parameter(value=6.265171635528974, name='D2O in bilayer - sld', vary=True, bounds=Interval(lb=5.35, ub=6.35), constraint=None), Parameter(value=0.0, name='D2O in bilayer - isld', vary=False, bounds=Interval(lb=-np.inf, ub=np.inf), constraint=None)], name=''), tail_solvent=None, reverse_monolayer=True, name='')\n",
      "________________________________________________________________________________\n",
      "Parameters:      'D2O'     \n",
      "<Parameter: 'D2O - thick' , value=0 (fixed)  , bounds=[-inf, inf]>\n",
      "<Parameter:  'D2O - sld'  , value=6.06237 +/- 0.00656, bounds=[5.35, 6.35]>\n",
      "<Parameter: 'D2O - isld'  , value=0 (fixed)  , bounds=[-inf, inf]>\n",
      "<Parameter: 'D2O - rough' , value=0 (fixed)  , bounds=[-inf, inf]>\n",
      "<Parameter:'D2O - volfrac solvent', value=0 (fixed)  , bounds=[-inf, inf]>\n"
     ]
    }
   ],
   "source": [
    "print(structure_d2o)"
   ]
  },
  {
   "cell_type": "code",
   "execution_count": 18,
   "metadata": {},
   "outputs": [
    {
     "name": "stdout",
     "output_type": "stream",
     "text": [
      "________________________________________________________________________________\n",
      "Structure:                \n",
      "solvent: None\n",
      "reverse structure: False\n",
      "contract: 0\n",
      "\n",
      "________________________________________________________________________________\n",
      "Parameters:      'Air'     \n",
      "<Parameter: 'Air - thick' , value=0 (fixed)  , bounds=[-inf, inf]>\n",
      "<Parameter:  'Air - sld'  , value=0 (fixed)  , bounds=[-inf, inf]>\n",
      "<Parameter: 'Air - isld'  , value=0 (fixed)  , bounds=[-inf, inf]>\n",
      "<Parameter: 'Air - rough' , value=0 (fixed)  , bounds=[-inf, inf]>\n",
      "<Parameter:'Air - volfrac solvent', value=0 (fixed)  , bounds=[-inf, inf]>\n",
      "LipidLeaflet(Parameter(value=113.41552469577064, name='mono, dodab - area_per_molecule', vary=True, bounds=Interval(lb=30, ub=120), constraint=None), SLD([Parameter(value=2.1799999999999825e-06, name='mono, dodab - b_heads_real', vary=False, bounds=Interval(lb=-np.inf, ub=np.inf), constraint=None), Parameter(value=0.0, name=' - b_heads_imag', vary=False, bounds=Interval(lb=-np.inf, ub=np.inf), constraint=None)], name=''), Parameter(value=54.6, name='bilayer - volume_heads', vary=False, bounds=Interval(lb=-np.inf, ub=np.inf), constraint=None), Parameter(value=1.9888404848279642, name='bilayer - thickness heads', vary=True, bounds=Interval(lb=0.284375, ub=1.9906249999999999), constraint=None), SLD([Parameter(value=-0.00037430000000000005, name='mono, dodab - b_tails_real', vary=False, bounds=Interval(lb=-np.inf, ub=np.inf), constraint=None), Parameter(value=0.0, name=' - b_tails_imag', vary=False, bounds=Interval(lb=-np.inf, ub=np.inf), constraint=None)], name=''), Parameter(value=997.1999999999999, name='bilayer - volume_tails', vary=False, bounds=Interval(lb=-np.inf, ub=np.inf), constraint=None), Parameter(value=8.976834367095028, name='bilayer - thickness_tails', vary=True, bounds=Interval(lb=5.19375, ub=36.356249999999996), constraint=None), Parameter(value=0.013950222975320337, name='bilayer - roughness', vary=True, bounds=Interval(lb=0, ub=10), constraint=None), Parameter(value=0.013950222975320337, name='bilayer - roughness', vary=True, bounds=Interval(lb=0, ub=10), constraint=None), head_solvent=SLD([Parameter(value=2.855303872058277, name='mono, dodab - Protein Matched Water in head - sld', vary=True, bounds=Interval(lb=1.35, ub=3.35), constraint=None), Parameter(value=0.0, name='mono, dodab - Protein Matched Water in head - isld', vary=False, bounds=Interval(lb=-np.inf, ub=np.inf), constraint=None)], name=''), tail_solvent=SLD([Parameter(value=0.0, name='mono, dodab - air in tail - sld', vary=False, bounds=Interval(lb=-np.inf, ub=np.inf), constraint=None), Parameter(value=0.0, name='mono, dodab - air in tail - isld', vary=False, bounds=Interval(lb=-np.inf, ub=np.inf), constraint=None)], name=''), reverse_monolayer=False, name='')\n",
      "________________________________________________________________________________\n",
      "Parameters: 'Protein Matched Water'\n",
      "<Parameter:'Protein Matched Water - thick', value=0 (fixed)  , bounds=[-inf, inf]>\n",
      "<Parameter:'Protein Matched Water - sld', value=2.29347 +/- 0.00634, bounds=[1.35, 3.35]>\n",
      "<Parameter:'Protein Matched Water - isld', value=0 (fixed)  , bounds=[-inf, inf]>\n",
      "<Parameter:'Protein Matched Water - rough', value=0 (fixed)  , bounds=[-inf, inf]>\n",
      "<Parameter:'Protein Matched Water - volfrac solvent', value=0 (fixed)  , bounds=[-inf, inf]>\n",
      "LipidLeaflet(Parameter(value=74.69562881512552, name='bilayer - area_per_molecule', vary=True, bounds=Interval(lb=60, ub=150), constraint=None), SLD([Parameter(value=0.0006292750000000001, name='bilayer - b_heads_real', vary=False, bounds=Interval(lb=-np.inf, ub=np.inf), constraint=None), Parameter(value=0.0, name=' - b_heads_imag', vary=False, bounds=Interval(lb=-np.inf, ub=np.inf), constraint=None)], name=''), Parameter(value=331.0, name='bilayer - volume_heads', vary=False, bounds=Interval(lb=-np.inf, ub=np.inf), constraint=None), Parameter(value=9.033708969751839, name='bilayer - thickness_heads', vary=True, bounds=Interval(lb=1.3346774193548387, ub=9.34274193548387), constraint=None), SLD([Parameter(value=-0.00026624000000000005, name='bilayer - b_tails_real', vary=False, bounds=Interval(lb=-np.inf, ub=np.inf), constraint=None), Parameter(value=0.0, name=' - b_tails_imag', vary=False, bounds=Interval(lb=-np.inf, ub=np.inf), constraint=None)], name=''), Parameter(value=940.2, name='bilayer - volume_tails', vary=False, bounds=Interval(lb=-np.inf, ub=np.inf), constraint=None), Parameter(value=12.59053532261234, name='bilayer - thickness_tails', vary=True, bounds=Interval(lb=3.791129032258065, ub=26.537903225806453), constraint=None), Parameter(value=6.923265030893733, name='bilayer - rough_bot', vary=True, bounds=Interval(lb=0, ub=15), constraint=None), Parameter(value=6.923265030893733, name='bilayer - rough_bot', vary=True, bounds=Interval(lb=0, ub=15), constraint=None), head_solvent=SLD([Parameter(value=1.4208295308570114, name='Protein Matched Water in bilayer - sld', vary=True, bounds=Interval(lb=1.35, ub=3.35), constraint=None), Parameter(value=0.0, name='Protein Matched Water in bilayer - isld', vary=False, bounds=Interval(lb=-np.inf, ub=np.inf), constraint=None)], name=''), tail_solvent=None, reverse_monolayer=False, name='')\n",
      "LipidLeaflet(Parameter(value=74.69562881512552, name='bilayer - area_per_molecule', vary=True, bounds=Interval(lb=60, ub=150), constraint=None), SLD([Parameter(value=0.0006292750000000001, name='bilayer - b_heads_real', vary=False, bounds=Interval(lb=-np.inf, ub=np.inf), constraint=None), Parameter(value=0.0, name=' - b_heads_imag', vary=False, bounds=Interval(lb=-np.inf, ub=np.inf), constraint=None)], name=''), Parameter(value=331.0, name='bilayer - volume_heads', vary=False, bounds=Interval(lb=-np.inf, ub=np.inf), constraint=None), Parameter(value=9.033708969751839, name='bilayer - thickness_heads', vary=True, bounds=Interval(lb=1.3346774193548387, ub=9.34274193548387), constraint=None), SLD([Parameter(value=-0.00026624000000000005, name='bilayer - b_tails_real', vary=False, bounds=Interval(lb=-np.inf, ub=np.inf), constraint=None), Parameter(value=0.0, name=' - b_tails_imag', vary=False, bounds=Interval(lb=-np.inf, ub=np.inf), constraint=None)], name=''), Parameter(value=940.2, name='bilayer - volume_tails', vary=False, bounds=Interval(lb=-np.inf, ub=np.inf), constraint=None), Parameter(value=12.59053532261234, name='bilayer - thickness_tails', vary=True, bounds=Interval(lb=3.791129032258065, ub=26.537903225806453), constraint=None), Parameter(value=6.923265030893733, name='bilayer - rough_bot', vary=True, bounds=Interval(lb=0, ub=15), constraint=None), Parameter(value=6.923265030893733, name='bilayer - rough_bot', vary=True, bounds=Interval(lb=0, ub=15), constraint=None), head_solvent=SLD([Parameter(value=1.4208295308570114, name='Protein Matched Water in bilayer - sld', vary=True, bounds=Interval(lb=1.35, ub=3.35), constraint=None), Parameter(value=0.0, name='Protein Matched Water in bilayer - isld', vary=False, bounds=Interval(lb=-np.inf, ub=np.inf), constraint=None)], name=''), tail_solvent=None, reverse_monolayer=True, name='')\n",
      "________________________________________________________________________________\n",
      "Parameters: 'Protein Matched Water'\n",
      "<Parameter:'Protein Matched Water - thick', value=0 (fixed)  , bounds=[-inf, inf]>\n",
      "<Parameter:'Protein Matched Water - sld', value=2.29347 +/- 0.00634, bounds=[1.35, 3.35]>\n",
      "<Parameter:'Protein Matched Water - isld', value=0 (fixed)  , bounds=[-inf, inf]>\n",
      "<Parameter:'Protein Matched Water - rough', value=0 (fixed)  , bounds=[-inf, inf]>\n",
      "<Parameter:'Protein Matched Water - volfrac solvent', value=0 (fixed)  , bounds=[-inf, inf]>\n"
     ]
    }
   ],
   "source": [
    "print(structure_pmw)"
   ]
  },
  {
   "cell_type": "code",
   "execution_count": null,
   "metadata": {},
   "outputs": [],
   "source": [
    "print(structure_d2o.slabs())"
   ]
  },
  {
   "cell_type": "code",
   "execution_count": null,
   "metadata": {},
   "outputs": [],
   "source": [
    "print(structure_pmw.slabs())"
   ]
  }
 ],
 "metadata": {
  "kernelspec": {
   "display_name": "Python 3",
   "language": "python",
   "name": "python3"
  },
  "language_info": {
   "codemirror_mode": {
    "name": "ipython",
    "version": 3
   },
   "file_extension": ".py",
   "mimetype": "text/x-python",
   "name": "python",
   "nbconvert_exporter": "python",
   "pygments_lexer": "ipython3",
   "version": "3.7.3"
  }
 },
 "nbformat": 4,
 "nbformat_minor": 2
}
