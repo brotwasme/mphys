{
 "cells": [
  {
   "cell_type": "code",
   "execution_count": 1,
   "metadata": {},
   "outputs": [
    {
     "name": "stdout",
     "output_type": "stream",
     "text": [
      "refnx: 0.1.9\n",
      "scipy: 1.3.0\n",
      "numpy: 1.16.4\n"
     ]
    }
   ],
   "source": [
    "import os.path\n",
    "import numpy as np\n",
    "import matplotlib.pyplot as plt\n",
    "import scipy\n",
    "import refnx\n",
    "from refnx.dataset import ReflectDataset, Data1D\n",
    "from refnx.analysis import Transform, CurveFitter, Objective, Model, Parameter, GlobalObjective\n",
    "from refnx.reflect import SLD, Slab, ReflectModel, LipidLeaflet\n",
    "# from sepObjectiveGO import getObjective as gO\n",
    "from dynesty import DynamicNestedSampler\n",
    "from dynesty import plotting as dyplot\n",
    "from CFitter import CFitter\n",
    "# import make_sim_data as msd\n",
    "# import lipidBilayerAsGiven.SLD_maker \n",
    "import data_in as di\n",
    "import lipidBilayerAsGiven.Bilayer as bl\n",
    "import lipidBilayerAsGiven.Popg as Pg\n",
    "import lipidBilayerAsGiven.Popc as Pc\n",
    "import lipidBilayerAsGiven.Dodab as ml\n",
    "\n",
    "print('refnx: %s\\nscipy: %s\\nnumpy: %s' % (refnx.version.version,\n",
    "                   scipy.version.version, np.version.version))\n",
    "%matplotlib inline\n",
    "SEED = 12345\n",
    "figI = 0"
   ]
  },
  {
   "cell_type": "code",
   "execution_count": 2,
   "metadata": {},
   "outputs": [
    {
     "name": "stdout",
     "output_type": "stream",
     "text": [
      "csv\n",
      "cvs-collecting\n",
      "csv\n",
      "cvs-collecting\n"
     ]
    },
    {
     "data": {
      "image/png": "[encoded data removed]",
      "text/plain": [
       "<Figure size 432x288 with 1 Axes>"
      ]
     },
     "metadata": {
      "needs_background": "light"
     },
     "output_type": "display_data"
    }
   ],
   "source": [
    "dataD2o = Data1D(data=di.data_in(\"lipidBilayerData/54696_97_edit.txt\"))\n",
    "dataD2o.name=\"d2o\"\n",
    "dataPmw = Data1D(data=di.data_in(\"lipidBilayerData/54699_00_edit.txt\"))\n",
    "dataPmw.name=\"pmw\"\n",
    "\n",
    "plt.errorbar(dataD2o.data[0],dataD2o.data[1],dataD2o.data[2])\n",
    "plt.errorbar(dataPmw.data[0],dataPmw.data[1],dataPmw.data[2])\n",
    "plt.xlabel('Q')\n",
    "plt.ylabel('Reflectivity')\n",
    "plt.yscale(\"log\")\n",
    "plt.show()"
   ]
  },
  {
   "cell_type": "code",
   "execution_count": 3,
   "metadata": {},
   "outputs": [],
   "source": [
    "d2o = SLD(6.07, \"D2O\")\n",
    "pmw = SLD(2.35, \"Protein Matched Water\")\n",
    "air = SLD(0.00, \"Air\")\n",
    "\n",
    "p_Popc = Pc.Popc(pmw)\n",
    "p_Popg = Pg.Popg(pmw)\n",
    "\n",
    "d_Popc = Pc.Popc(d2o)\n",
    "d_Popg = Pg.Popg(d2o)\n",
    "\n",
    "bilayer_d2o = bl.Bilayer(d_Popc, d_Popg)\n",
    "bilayer_pmw = bl.Bilayer(p_Popc, p_Popg)\n",
    "\n",
    "bilayer_d2o2 = bl.Bilayer(Pc.Popc(d2o),Pg.Popg(d2o), name=\"Bilayer2\")\n",
    "bilayer_pmw2 = bl.Bilayer(Pc.Popc(pmw),Pg.Popg(pmw), name=\"Bilayer2\")\n",
    "\n",
    "dodab_d2o = ml.Dodab(d2o)\n",
    "dodab_pmw = ml.Dodab(pmw)"
   ]
  },
  {
   "cell_type": "code",
   "execution_count": 4,
   "metadata": {},
   "outputs": [],
   "source": [
    "structure_d2o = air(0, 0) | dodab_d2o | d2o(0, 0) | bilayer_d2o | d2o(0, 0) | bilayer_d2o2 | d2o(0, 0)\n",
    "structure_pmw = air(0, 0) | dodab_pmw | pmw(0, 0) | bilayer_pmw | pmw(0, 0) | bilayer_pmw2 | pmw(0, 0)\n",
    "\n",
    "d2o.real.setp(6.07, vary=True, bounds=(5.35, 6.35))\n",
    "pmw.real.setp(2.34, vary=True, bounds=(1.35, 3.35))\n",
    "structure_d2o[2].thick.setp(14.3, vary=True, bounds=(6, 20))\n",
    "structure_d2o[2].rough.setp(4.6, vary=True, bounds=(3, 20))"
   ]
  },
  {
   "cell_type": "code",
   "execution_count": 5,
   "metadata": {},
   "outputs": [],
   "source": [
    "\n",
    "model1 = ReflectModel(structure_d2o)\n",
    "model1.scale.setp(0.75, vary=True, bounds=(0.5, 1.5))\n",
    "model1.bkg.setp(dataD2o.y.min(),vary=True,bounds=(dataD2o.y.min() * 0.2, dataD2o.y.min() * 1.8))\n",
    "\n",
    "model2 = ReflectModel(structure_pmw)\n",
    "model2.scale.setp(0.75, vary=True, bounds=(0.5, 1.5))\n",
    "model2.bkg.setp(dataPmw.y.min(),vary=True,bounds=(dataPmw.y.min() * 0.2, dataPmw.y.min() * 1.8))\n",
    "\n",
    "objective1 = Objective(model1, dataD2o)#, transform=Transform(\"logY\"))\n",
    "objective2 = Objective(model2, dataPmw)#, transform=Transform(\"logY\"))\n",
    "gobjective = GlobalObjective([objective1,objective2])\n",
    "\n",
    "# if True:\n",
    "#     fitter = CurveFitter(gobjective)\n",
    "#     fitter.fit(\"differential_evolution\", target=\"nlpost\")#, seed=SEED)\n",
    "    # fitter.sample(200, random_state=SEED)\n",
    "    # fitter.sampler.reset()\n",
    "    # fitter.sample(200, random_state=SEED,\n",
    "    #             f=\"lipidBilayerAsGiven/outputs/nbilayer_chain.txt\")\n",
    "    # file_o = open('lipidBilayerAsGiven/outputs/nbilayer.txt', 'w')\n",
    "    # file_o.write(\"{}\".format(gobjective))\n",
    "    # file_o.close()"
   ]
  },
  {
   "cell_type": "code",
   "execution_count": 6,
   "metadata": {},
   "outputs": [
    {
     "name": "stderr",
     "output_type": "stream",
     "text": [
      "2002it [16:21,  5.56s/it, batch: 0 | bound: 5 | nc: 944 | ncall: 173941 | eff(%):  1.148 | loglstar:   -inf <   -inf <    inf | logz:   -inf +/-    nan | dlogz:    inf >  0.050] "
     ]
    },
    {
     "name": "stdout",
     "output_type": "stream",
     "text": [
      "Exception while calling loglikelihood function:\n",
      "  params: [5.38993554e-01 5.63524968e-07 7.50248619e+00 1.04962986e+02\n",
      " 3.78336649e+00 1.28227617e+01 6.02190932e+00 4.32883163e+00\n",
      " 3.27915301e+00 2.26797284e+00 9.43077447e+01 1.33572974e+01\n",
      " 1.27289233e+01 4.02953653e+00 3.31993937e+00 1.00419178e+02\n",
      " 1.69786976e+01 4.35092453e+00 5.31431365e-01 4.74127409e-06\n",
      " 1.16214798e+01 1.10586077e+02 6.19277334e+00 2.27803534e+00\n",
      " 4.89881334e+00 9.28376437e-01 1.20976394e+02 9.38703605e+00\n",
      " 8.96061787e+00 2.44215961e+00 4.71257390e+00 6.39926595e+01\n",
      " 5.48649342e+00 1.48744130e+01]\n",
      "  args: []\n",
      "  kwargs: {}\n",
      "  exception:\n"
     ]
    },
    {
     "name": "stderr",
     "output_type": "stream",
     "text": [
      "Traceback (most recent call last):\n",
      "  File \"C:\\Users\\John\\Anaconda3\\envs\\refnx\\lib\\site-packages\\dynesty\\dynesty.py\", line 860, in __call__\n",
      "    return self.func(x, *self.args, **self.kwargs)\n",
      "  File \"C:\\Users\\John\\Documents\\programing\\mphys\\CFitter.py\", line 61, in logl\n",
      "    return self.objective.logl(pvalues)#self.pValues)\n",
      "  File \"C:\\Users\\John\\Anaconda3\\envs\\refnx\\lib\\site-packages\\refnx\\analysis\\objective.py\", line 936, in logl\n",
      "    logl += objective.logl()\n",
      "  File \"C:\\Users\\John\\Anaconda3\\envs\\refnx\\lib\\site-packages\\refnx\\analysis\\objective.py\", line 526, in logl\n",
      "    model = self.model(self.data.x, x_err=self.data.x_err)\n",
      "  File \"C:\\Users\\John\\Anaconda3\\envs\\refnx\\lib\\site-packages\\refnx\\reflect\\reflect_model.py\", line 183, in __call__\n",
      "    return self.model(x, p=p, x_err=x_err)\n",
      "  File \"C:\\Users\\John\\Anaconda3\\envs\\refnx\\lib\\site-packages\\refnx\\reflect\\reflect_model.py\", line 267, in model\n",
      "    quad_order=self.quad_order)\n",
      "  File \"C:\\Users\\John\\Anaconda3\\envs\\refnx\\lib\\site-packages\\refnx\\reflect\\reflect_model.py\", line 414, in reflectivity\n",
      "    threads=threads)) + bkg\n",
      "  File \"C:\\Users\\John\\Anaconda3\\envs\\refnx\\lib\\site-packages\\refnx\\reflect\\reflect_model.py\", line 681, in _smeared_abeles_constant\n",
      "    smeared_rvals = np.convolve(rvals, gauss_y, mode='same')\n",
      "  File \"C:\\Users\\John\\Anaconda3\\envs\\refnx\\lib\\site-packages\\numpy\\core\\numeric.py\", line 1114, in convolve\n",
      "    return multiarray.correlate(a, v[::-1], mode)\n",
      "KeyboardInterrupt\n",
      "2002it [16:23,  2.04it/s, batch: 0 | bound: 5 | nc: 944 | ncall: 173941 | eff(%):  1.148 | loglstar:   -inf <   -inf <    inf | logz:   -inf +/-    nan | dlogz:    inf >  0.050]\n"
     ]
    },
    {
     "ename": "KeyboardInterrupt",
     "evalue": "",
     "output_type": "error",
     "traceback": [
      "\u001b[1;31m---------------------------------------------------------------------------\u001b[0m",
      "\u001b[1;31mKeyboardInterrupt\u001b[0m                         Traceback (most recent call last)",
      "\u001b[1;32m<ipython-input-6-2e69afb9b0d3>\u001b[0m in \u001b[0;36m<module>\u001b[1;34m\u001b[0m\n\u001b[0;32m      1\u001b[0m \u001b[0mfitter\u001b[0m \u001b[1;33m=\u001b[0m \u001b[0mCFitter\u001b[0m\u001b[1;33m(\u001b[0m\u001b[0mgobjective\u001b[0m\u001b[1;33m)\u001b[0m\u001b[1;33m\u001b[0m\u001b[1;33m\u001b[0m\u001b[0m\n\u001b[0;32m      2\u001b[0m \u001b[0mDNSampler\u001b[0m \u001b[1;33m=\u001b[0m \u001b[0mDynamicNestedSampler\u001b[0m\u001b[1;33m(\u001b[0m\u001b[0mfitter\u001b[0m\u001b[1;33m.\u001b[0m\u001b[0mlogl\u001b[0m\u001b[1;33m,\u001b[0m \u001b[0mfitter\u001b[0m\u001b[1;33m.\u001b[0m\u001b[0mpriorTransform\u001b[0m\u001b[1;33m,\u001b[0m \u001b[0mfitter\u001b[0m\u001b[1;33m.\u001b[0m\u001b[0mnDim\u001b[0m\u001b[1;33m(\u001b[0m\u001b[1;33m)\u001b[0m\u001b[1;33m)\u001b[0m\u001b[1;33m\u001b[0m\u001b[1;33m\u001b[0m\u001b[0m\n\u001b[1;32m----> 3\u001b[1;33m \u001b[0mDNSampler\u001b[0m\u001b[1;33m.\u001b[0m\u001b[0mrun_nested\u001b[0m\u001b[1;33m(\u001b[0m\u001b[0mdlogz_init\u001b[0m\u001b[1;33m=\u001b[0m\u001b[1;36m0.05\u001b[0m\u001b[1;33m)\u001b[0m \u001b[1;31m# was 0.01\u001b[0m\u001b[1;33m\u001b[0m\u001b[1;33m\u001b[0m\u001b[0m\n\u001b[0m\u001b[0;32m      4\u001b[0m \u001b[0mres11\u001b[0m \u001b[1;33m=\u001b[0m \u001b[0mDNSampler\u001b[0m\u001b[1;33m.\u001b[0m\u001b[0mresults\u001b[0m\u001b[1;33m\u001b[0m\u001b[1;33m\u001b[0m\u001b[0m\n",
      "\u001b[1;32mC:\\Users\\John\\Anaconda3\\envs\\refnx\\lib\\site-packages\\dynesty\\dynamicsampler.py\u001b[0m in \u001b[0;36mrun_nested\u001b[1;34m(self, nlive_init, maxiter_init, maxcall_init, dlogz_init, logl_max_init, n_effective_init, nlive_batch, wt_function, wt_kwargs, maxiter_batch, maxcall_batch, maxiter, maxcall, maxbatch, n_effective, stop_function, stop_kwargs, use_stop, save_bounds, print_progress, print_func, live_points)\u001b[0m\n\u001b[0;32m   1588\u001b[0m                                                    \u001b[0mlogl_max\u001b[0m\u001b[1;33m=\u001b[0m\u001b[0mlogl_max_init\u001b[0m\u001b[1;33m,\u001b[0m\u001b[1;33m\u001b[0m\u001b[1;33m\u001b[0m\u001b[0m\n\u001b[0;32m   1589\u001b[0m                                                    \u001b[0mn_effective\u001b[0m\u001b[1;33m=\u001b[0m\u001b[0mn_effective_init\u001b[0m\u001b[1;33m,\u001b[0m\u001b[1;33m\u001b[0m\u001b[1;33m\u001b[0m\u001b[0m\n\u001b[1;32m-> 1590\u001b[1;33m                                                    live_points=live_points):\n\u001b[0m\u001b[0;32m   1591\u001b[0m                     (worst, ustar, vstar, loglstar, logvol,\n\u001b[0;32m   1592\u001b[0m                      \u001b[0mlogwt\u001b[0m\u001b[1;33m,\u001b[0m \u001b[0mlogz\u001b[0m\u001b[1;33m,\u001b[0m \u001b[0mlogzvar\u001b[0m\u001b[1;33m,\u001b[0m \u001b[0mh\u001b[0m\u001b[1;33m,\u001b[0m \u001b[0mnc\u001b[0m\u001b[1;33m,\u001b[0m \u001b[0mworst_it\u001b[0m\u001b[1;33m,\u001b[0m\u001b[1;33m\u001b[0m\u001b[1;33m\u001b[0m\u001b[0m\n",
      "\u001b[1;32mC:\\Users\\John\\Anaconda3\\envs\\refnx\\lib\\site-packages\\dynesty\\dynamicsampler.py\u001b[0m in \u001b[0;36msample_initial\u001b[1;34m(self, nlive, update_interval, first_update, maxiter, maxcall, logl_max, dlogz, n_effective, live_points)\u001b[0m\n\u001b[0;32m    804\u001b[0m                                          \u001b[0msave_samples\u001b[0m\u001b[1;33m=\u001b[0m\u001b[1;32mFalse\u001b[0m\u001b[1;33m,\u001b[0m\u001b[1;33m\u001b[0m\u001b[1;33m\u001b[0m\u001b[0m\n\u001b[0;32m    805\u001b[0m                                          \u001b[0mmaxcall\u001b[0m\u001b[1;33m=\u001b[0m\u001b[0mmaxcall\u001b[0m\u001b[1;33m,\u001b[0m \u001b[0mdlogz\u001b[0m\u001b[1;33m=\u001b[0m\u001b[0mdlogz\u001b[0m\u001b[1;33m,\u001b[0m\u001b[1;33m\u001b[0m\u001b[1;33m\u001b[0m\u001b[0m\n\u001b[1;32m--> 806\u001b[1;33m                                          n_effective=n_effective)):\n\u001b[0m\u001b[0;32m    807\u001b[0m                 \u001b[1;31m# Grab results.\u001b[0m\u001b[1;33m\u001b[0m\u001b[1;33m\u001b[0m\u001b[1;33m\u001b[0m\u001b[0m\n\u001b[0;32m    808\u001b[0m                 (worst, ustar, vstar, loglstar, logvol, logwt,\n",
      "\u001b[1;32mC:\\Users\\John\\Anaconda3\\envs\\refnx\\lib\\site-packages\\dynesty\\sampler.py\u001b[0m in \u001b[0;36msample\u001b[1;34m(self, maxiter, maxcall, dlogz, logl_max, n_effective, add_live, save_bounds, save_samples)\u001b[0m\n\u001b[0;32m    760\u001b[0m             \u001b[1;31m# `logl > loglstar` using the bounding distribution and sampling\u001b[0m\u001b[1;33m\u001b[0m\u001b[1;33m\u001b[0m\u001b[1;33m\u001b[0m\u001b[0m\n\u001b[0;32m    761\u001b[0m             \u001b[1;31m# method from our sampler.\u001b[0m\u001b[1;33m\u001b[0m\u001b[1;33m\u001b[0m\u001b[1;33m\u001b[0m\u001b[0m\n\u001b[1;32m--> 762\u001b[1;33m             \u001b[0mu\u001b[0m\u001b[1;33m,\u001b[0m \u001b[0mv\u001b[0m\u001b[1;33m,\u001b[0m \u001b[0mlogl\u001b[0m\u001b[1;33m,\u001b[0m \u001b[0mnc\u001b[0m \u001b[1;33m=\u001b[0m \u001b[0mself\u001b[0m\u001b[1;33m.\u001b[0m\u001b[0m_new_point\u001b[0m\u001b[1;33m(\u001b[0m\u001b[0mloglstar_new\u001b[0m\u001b[1;33m,\u001b[0m \u001b[0mlogvol\u001b[0m\u001b[1;33m)\u001b[0m\u001b[1;33m\u001b[0m\u001b[1;33m\u001b[0m\u001b[0m\n\u001b[0m\u001b[0;32m    763\u001b[0m             \u001b[0mncall\u001b[0m \u001b[1;33m+=\u001b[0m \u001b[0mnc\u001b[0m\u001b[1;33m\u001b[0m\u001b[1;33m\u001b[0m\u001b[0m\n\u001b[0;32m    764\u001b[0m             \u001b[0mself\u001b[0m\u001b[1;33m.\u001b[0m\u001b[0mncall\u001b[0m \u001b[1;33m+=\u001b[0m \u001b[0mnc\u001b[0m\u001b[1;33m\u001b[0m\u001b[1;33m\u001b[0m\u001b[0m\n",
      "\u001b[1;32mC:\\Users\\John\\Anaconda3\\envs\\refnx\\lib\\site-packages\\dynesty\\sampler.py\u001b[0m in \u001b[0;36m_new_point\u001b[1;34m(self, loglstar, logvol)\u001b[0m\n\u001b[0;32m    358\u001b[0m         \u001b[1;32mwhile\u001b[0m \u001b[1;32mTrue\u001b[0m\u001b[1;33m:\u001b[0m\u001b[1;33m\u001b[0m\u001b[1;33m\u001b[0m\u001b[0m\n\u001b[0;32m    359\u001b[0m             \u001b[1;31m# Get the next point from the queue\u001b[0m\u001b[1;33m\u001b[0m\u001b[1;33m\u001b[0m\u001b[1;33m\u001b[0m\u001b[0m\n\u001b[1;32m--> 360\u001b[1;33m             \u001b[0mu\u001b[0m\u001b[1;33m,\u001b[0m \u001b[0mv\u001b[0m\u001b[1;33m,\u001b[0m \u001b[0mlogl\u001b[0m\u001b[1;33m,\u001b[0m \u001b[0mnc\u001b[0m\u001b[1;33m,\u001b[0m \u001b[0mblob\u001b[0m \u001b[1;33m=\u001b[0m \u001b[0mself\u001b[0m\u001b[1;33m.\u001b[0m\u001b[0m_get_point_value\u001b[0m\u001b[1;33m(\u001b[0m\u001b[0mloglstar\u001b[0m\u001b[1;33m)\u001b[0m\u001b[1;33m\u001b[0m\u001b[1;33m\u001b[0m\u001b[0m\n\u001b[0m\u001b[0;32m    361\u001b[0m             \u001b[0mncall\u001b[0m \u001b[1;33m+=\u001b[0m \u001b[0mnc\u001b[0m\u001b[1;33m\u001b[0m\u001b[1;33m\u001b[0m\u001b[0m\n\u001b[0;32m    362\u001b[0m \u001b[1;33m\u001b[0m\u001b[0m\n",
      "\u001b[1;32mC:\\Users\\John\\Anaconda3\\envs\\refnx\\lib\\site-packages\\dynesty\\sampler.py\u001b[0m in \u001b[0;36m_get_point_value\u001b[1;34m(self, loglstar)\u001b[0m\n\u001b[0;32m    342\u001b[0m         \u001b[1;31m# If the queue is empty, refill it.\u001b[0m\u001b[1;33m\u001b[0m\u001b[1;33m\u001b[0m\u001b[1;33m\u001b[0m\u001b[0m\n\u001b[0;32m    343\u001b[0m         \u001b[1;32mif\u001b[0m \u001b[0mself\u001b[0m\u001b[1;33m.\u001b[0m\u001b[0mnqueue\u001b[0m \u001b[1;33m<=\u001b[0m \u001b[1;36m0\u001b[0m\u001b[1;33m:\u001b[0m\u001b[1;33m\u001b[0m\u001b[1;33m\u001b[0m\u001b[0m\n\u001b[1;32m--> 344\u001b[1;33m             \u001b[0mself\u001b[0m\u001b[1;33m.\u001b[0m\u001b[0m_fill_queue\u001b[0m\u001b[1;33m(\u001b[0m\u001b[0mloglstar\u001b[0m\u001b[1;33m)\u001b[0m\u001b[1;33m\u001b[0m\u001b[1;33m\u001b[0m\u001b[0m\n\u001b[0m\u001b[0;32m    345\u001b[0m \u001b[1;33m\u001b[0m\u001b[0m\n\u001b[0;32m    346\u001b[0m         \u001b[1;31m# Grab the earliest entry.\u001b[0m\u001b[1;33m\u001b[0m\u001b[1;33m\u001b[0m\u001b[1;33m\u001b[0m\u001b[0m\n",
      "\u001b[1;32mC:\\Users\\John\\Anaconda3\\envs\\refnx\\lib\\site-packages\\dynesty\\sampler.py\u001b[0m in \u001b[0;36m_fill_queue\u001b[1;34m(self, loglstar)\u001b[0m\n\u001b[0;32m    331\u001b[0m         \u001b[1;32mif\u001b[0m \u001b[0mself\u001b[0m\u001b[1;33m.\u001b[0m\u001b[0muse_pool_evolve\u001b[0m\u001b[1;33m:\u001b[0m\u001b[1;33m\u001b[0m\u001b[1;33m\u001b[0m\u001b[0m\n\u001b[0;32m    332\u001b[0m             \u001b[1;31m# Use the pool to propose (\"evolve\") a new live point.\u001b[0m\u001b[1;33m\u001b[0m\u001b[1;33m\u001b[0m\u001b[1;33m\u001b[0m\u001b[0m\n\u001b[1;32m--> 333\u001b[1;33m             \u001b[0mself\u001b[0m\u001b[1;33m.\u001b[0m\u001b[0mqueue\u001b[0m \u001b[1;33m=\u001b[0m \u001b[0mlist\u001b[0m\u001b[1;33m(\u001b[0m\u001b[0mself\u001b[0m\u001b[1;33m.\u001b[0m\u001b[0mM\u001b[0m\u001b[1;33m(\u001b[0m\u001b[0mevolve_point\u001b[0m\u001b[1;33m,\u001b[0m \u001b[0margs\u001b[0m\u001b[1;33m)\u001b[0m\u001b[1;33m)\u001b[0m\u001b[1;33m\u001b[0m\u001b[1;33m\u001b[0m\u001b[0m\n\u001b[0m\u001b[0;32m    334\u001b[0m         \u001b[1;32melse\u001b[0m\u001b[1;33m:\u001b[0m\u001b[1;33m\u001b[0m\u001b[1;33m\u001b[0m\u001b[0m\n\u001b[0;32m    335\u001b[0m             \u001b[1;31m# Propose (\"evolve\") a new live point using the default `map`\u001b[0m\u001b[1;33m\u001b[0m\u001b[1;33m\u001b[0m\u001b[1;33m\u001b[0m\u001b[0m\n",
      "\u001b[1;32mC:\\Users\\John\\Anaconda3\\envs\\refnx\\lib\\site-packages\\dynesty\\sampling.py\u001b[0m in \u001b[0;36msample_slice\u001b[1;34m(args)\u001b[0m\n\u001b[0;32m    547\u001b[0m                 \u001b[1;32mif\u001b[0m \u001b[0munitcheck\u001b[0m\u001b[1;33m(\u001b[0m\u001b[0mu_prop\u001b[0m\u001b[1;33m,\u001b[0m \u001b[0mnonperiodic\u001b[0m\u001b[1;33m)\u001b[0m\u001b[1;33m:\u001b[0m\u001b[1;33m\u001b[0m\u001b[1;33m\u001b[0m\u001b[0m\n\u001b[0;32m    548\u001b[0m                     \u001b[0mv_prop\u001b[0m \u001b[1;33m=\u001b[0m \u001b[0mprior_transform\u001b[0m\u001b[1;33m(\u001b[0m\u001b[0mnp\u001b[0m\u001b[1;33m.\u001b[0m\u001b[0marray\u001b[0m\u001b[1;33m(\u001b[0m\u001b[0mu_prop\u001b[0m\u001b[1;33m)\u001b[0m\u001b[1;33m)\u001b[0m\u001b[1;33m\u001b[0m\u001b[1;33m\u001b[0m\u001b[0m\n\u001b[1;32m--> 549\u001b[1;33m                     \u001b[0mlogl_prop\u001b[0m \u001b[1;33m=\u001b[0m \u001b[0mloglikelihood\u001b[0m\u001b[1;33m(\u001b[0m\u001b[0mnp\u001b[0m\u001b[1;33m.\u001b[0m\u001b[0marray\u001b[0m\u001b[1;33m(\u001b[0m\u001b[0mv_prop\u001b[0m\u001b[1;33m)\u001b[0m\u001b[1;33m)\u001b[0m\u001b[1;33m\u001b[0m\u001b[1;33m\u001b[0m\u001b[0m\n\u001b[0m\u001b[0;32m    550\u001b[0m                 \u001b[1;32melse\u001b[0m\u001b[1;33m:\u001b[0m\u001b[1;33m\u001b[0m\u001b[1;33m\u001b[0m\u001b[0m\n\u001b[0;32m    551\u001b[0m                     \u001b[0mlogl_prop\u001b[0m \u001b[1;33m=\u001b[0m \u001b[1;33m-\u001b[0m\u001b[0mnp\u001b[0m\u001b[1;33m.\u001b[0m\u001b[0minf\u001b[0m\u001b[1;33m\u001b[0m\u001b[1;33m\u001b[0m\u001b[0m\n",
      "\u001b[1;32mC:\\Users\\John\\Anaconda3\\envs\\refnx\\lib\\site-packages\\dynesty\\dynesty.py\u001b[0m in \u001b[0;36m__call__\u001b[1;34m(self, x)\u001b[0m\n\u001b[0;32m    858\u001b[0m     \u001b[1;32mdef\u001b[0m \u001b[0m__call__\u001b[0m\u001b[1;33m(\u001b[0m\u001b[0mself\u001b[0m\u001b[1;33m,\u001b[0m \u001b[0mx\u001b[0m\u001b[1;33m)\u001b[0m\u001b[1;33m:\u001b[0m\u001b[1;33m\u001b[0m\u001b[1;33m\u001b[0m\u001b[0m\n\u001b[0;32m    859\u001b[0m         \u001b[1;32mtry\u001b[0m\u001b[1;33m:\u001b[0m\u001b[1;33m\u001b[0m\u001b[1;33m\u001b[0m\u001b[0m\n\u001b[1;32m--> 860\u001b[1;33m             \u001b[1;32mreturn\u001b[0m \u001b[0mself\u001b[0m\u001b[1;33m.\u001b[0m\u001b[0mfunc\u001b[0m\u001b[1;33m(\u001b[0m\u001b[0mx\u001b[0m\u001b[1;33m,\u001b[0m \u001b[1;33m*\u001b[0m\u001b[0mself\u001b[0m\u001b[1;33m.\u001b[0m\u001b[0margs\u001b[0m\u001b[1;33m,\u001b[0m \u001b[1;33m**\u001b[0m\u001b[0mself\u001b[0m\u001b[1;33m.\u001b[0m\u001b[0mkwargs\u001b[0m\u001b[1;33m)\u001b[0m\u001b[1;33m\u001b[0m\u001b[1;33m\u001b[0m\u001b[0m\n\u001b[0m\u001b[0;32m    861\u001b[0m         \u001b[1;32mexcept\u001b[0m\u001b[1;33m:\u001b[0m\u001b[1;33m\u001b[0m\u001b[1;33m\u001b[0m\u001b[0m\n\u001b[0;32m    862\u001b[0m             \u001b[1;32mimport\u001b[0m \u001b[0mtraceback\u001b[0m\u001b[1;33m\u001b[0m\u001b[1;33m\u001b[0m\u001b[0m\n",
      "\u001b[1;32m~\\mphys\\CFitter.py\u001b[0m in \u001b[0;36mlogl\u001b[1;34m(self, pvalues)\u001b[0m\n\u001b[0;32m     59\u001b[0m     \u001b[1;32mdef\u001b[0m \u001b[0mlogl\u001b[0m\u001b[1;33m(\u001b[0m\u001b[0mself\u001b[0m\u001b[1;33m,\u001b[0m \u001b[0mpvalues\u001b[0m\u001b[1;33m)\u001b[0m\u001b[1;33m:\u001b[0m\u001b[1;33m\u001b[0m\u001b[1;33m\u001b[0m\u001b[0m\n\u001b[0;32m     60\u001b[0m \u001b[1;31m#         self.pVals(pvalues)\u001b[0m\u001b[1;33m\u001b[0m\u001b[1;33m\u001b[0m\u001b[1;33m\u001b[0m\u001b[0m\n\u001b[1;32m---> 61\u001b[1;33m         \u001b[1;32mreturn\u001b[0m \u001b[0mself\u001b[0m\u001b[1;33m.\u001b[0m\u001b[0mobjective\u001b[0m\u001b[1;33m.\u001b[0m\u001b[0mlogl\u001b[0m\u001b[1;33m(\u001b[0m\u001b[0mpvalues\u001b[0m\u001b[1;33m)\u001b[0m\u001b[1;31m#self.pValues)\u001b[0m\u001b[1;33m\u001b[0m\u001b[1;33m\u001b[0m\u001b[0m\n\u001b[0m\u001b[0;32m     62\u001b[0m \u001b[1;33m\u001b[0m\u001b[0m\n\u001b[0;32m     63\u001b[0m     \u001b[1;32mdef\u001b[0m \u001b[0mfit\u001b[0m\u001b[1;33m(\u001b[0m\u001b[0mself\u001b[0m\u001b[1;33m)\u001b[0m\u001b[1;33m:\u001b[0m\u001b[1;33m\u001b[0m\u001b[1;33m\u001b[0m\u001b[0m\n",
      "\u001b[1;32mC:\\Users\\John\\Anaconda3\\envs\\refnx\\lib\\site-packages\\refnx\\analysis\\objective.py\u001b[0m in \u001b[0;36mlogl\u001b[1;34m(self, pvals)\u001b[0m\n\u001b[0;32m    934\u001b[0m \u001b[1;33m\u001b[0m\u001b[0m\n\u001b[0;32m    935\u001b[0m         \u001b[1;32mfor\u001b[0m \u001b[0mobjective\u001b[0m \u001b[1;32min\u001b[0m \u001b[0mself\u001b[0m\u001b[1;33m.\u001b[0m\u001b[0mobjectives\u001b[0m\u001b[1;33m:\u001b[0m\u001b[1;33m\u001b[0m\u001b[1;33m\u001b[0m\u001b[0m\n\u001b[1;32m--> 936\u001b[1;33m             \u001b[0mlogl\u001b[0m \u001b[1;33m+=\u001b[0m \u001b[0mobjective\u001b[0m\u001b[1;33m.\u001b[0m\u001b[0mlogl\u001b[0m\u001b[1;33m(\u001b[0m\u001b[1;33m)\u001b[0m\u001b[1;33m\u001b[0m\u001b[1;33m\u001b[0m\u001b[0m\n\u001b[0m\u001b[0;32m    937\u001b[0m \u001b[1;33m\u001b[0m\u001b[0m\n\u001b[0;32m    938\u001b[0m         \u001b[1;32mreturn\u001b[0m \u001b[0mlogl\u001b[0m\u001b[1;33m\u001b[0m\u001b[1;33m\u001b[0m\u001b[0m\n",
      "\u001b[1;32mC:\\Users\\John\\Anaconda3\\envs\\refnx\\lib\\site-packages\\refnx\\analysis\\objective.py\u001b[0m in \u001b[0;36mlogl\u001b[1;34m(self, pvals)\u001b[0m\n\u001b[0;32m    524\u001b[0m         \u001b[0mself\u001b[0m\u001b[1;33m.\u001b[0m\u001b[0msetp\u001b[0m\u001b[1;33m(\u001b[0m\u001b[0mpvals\u001b[0m\u001b[1;33m)\u001b[0m\u001b[1;33m\u001b[0m\u001b[1;33m\u001b[0m\u001b[0m\n\u001b[0;32m    525\u001b[0m \u001b[1;33m\u001b[0m\u001b[0m\n\u001b[1;32m--> 526\u001b[1;33m         \u001b[0mmodel\u001b[0m \u001b[1;33m=\u001b[0m \u001b[0mself\u001b[0m\u001b[1;33m.\u001b[0m\u001b[0mmodel\u001b[0m\u001b[1;33m(\u001b[0m\u001b[0mself\u001b[0m\u001b[1;33m.\u001b[0m\u001b[0mdata\u001b[0m\u001b[1;33m.\u001b[0m\u001b[0mx\u001b[0m\u001b[1;33m,\u001b[0m \u001b[0mx_err\u001b[0m\u001b[1;33m=\u001b[0m\u001b[0mself\u001b[0m\u001b[1;33m.\u001b[0m\u001b[0mdata\u001b[0m\u001b[1;33m.\u001b[0m\u001b[0mx_err\u001b[0m\u001b[1;33m)\u001b[0m\u001b[1;33m\u001b[0m\u001b[1;33m\u001b[0m\u001b[0m\n\u001b[0m\u001b[0;32m    527\u001b[0m \u001b[1;33m\u001b[0m\u001b[0m\n\u001b[0;32m    528\u001b[0m         \u001b[0mlogl\u001b[0m \u001b[1;33m=\u001b[0m \u001b[1;36m0.\u001b[0m\u001b[1;33m\u001b[0m\u001b[1;33m\u001b[0m\u001b[0m\n",
      "\u001b[1;32mC:\\Users\\John\\Anaconda3\\envs\\refnx\\lib\\site-packages\\refnx\\reflect\\reflect_model.py\u001b[0m in \u001b[0;36m__call__\u001b[1;34m(self, x, p, x_err)\u001b[0m\n\u001b[0;32m    181\u001b[0m             \u001b[0mCalculated\u001b[0m \u001b[0mreflectivity\u001b[0m\u001b[1;33m\u001b[0m\u001b[1;33m\u001b[0m\u001b[0m\n\u001b[0;32m    182\u001b[0m         \"\"\"\n\u001b[1;32m--> 183\u001b[1;33m         \u001b[1;32mreturn\u001b[0m \u001b[0mself\u001b[0m\u001b[1;33m.\u001b[0m\u001b[0mmodel\u001b[0m\u001b[1;33m(\u001b[0m\u001b[0mx\u001b[0m\u001b[1;33m,\u001b[0m \u001b[0mp\u001b[0m\u001b[1;33m=\u001b[0m\u001b[0mp\u001b[0m\u001b[1;33m,\u001b[0m \u001b[0mx_err\u001b[0m\u001b[1;33m=\u001b[0m\u001b[0mx_err\u001b[0m\u001b[1;33m)\u001b[0m\u001b[1;33m\u001b[0m\u001b[1;33m\u001b[0m\u001b[0m\n\u001b[0m\u001b[0;32m    184\u001b[0m \u001b[1;33m\u001b[0m\u001b[0m\n\u001b[0;32m    185\u001b[0m     \u001b[1;32mdef\u001b[0m \u001b[0m__repr__\u001b[0m\u001b[1;33m(\u001b[0m\u001b[0mself\u001b[0m\u001b[1;33m)\u001b[0m\u001b[1;33m:\u001b[0m\u001b[1;33m\u001b[0m\u001b[1;33m\u001b[0m\u001b[0m\n",
      "\u001b[1;32mC:\\Users\\John\\Anaconda3\\envs\\refnx\\lib\\site-packages\\refnx\\reflect\\reflect_model.py\u001b[0m in \u001b[0;36mmodel\u001b[1;34m(self, x, p, x_err)\u001b[0m\n\u001b[0;32m    265\u001b[0m                             \u001b[0mdq\u001b[0m\u001b[1;33m=\u001b[0m\u001b[0mx_err\u001b[0m\u001b[1;33m,\u001b[0m\u001b[1;33m\u001b[0m\u001b[1;33m\u001b[0m\u001b[0m\n\u001b[0;32m    266\u001b[0m                             \u001b[0mthreads\u001b[0m\u001b[1;33m=\u001b[0m\u001b[0mself\u001b[0m\u001b[1;33m.\u001b[0m\u001b[0mthreads\u001b[0m\u001b[1;33m,\u001b[0m\u001b[1;33m\u001b[0m\u001b[1;33m\u001b[0m\u001b[0m\n\u001b[1;32m--> 267\u001b[1;33m                             quad_order=self.quad_order)\n\u001b[0m\u001b[0;32m    268\u001b[0m \u001b[1;33m\u001b[0m\u001b[0m\n\u001b[0;32m    269\u001b[0m     \u001b[1;32mdef\u001b[0m \u001b[0mlogp\u001b[0m\u001b[1;33m(\u001b[0m\u001b[0mself\u001b[0m\u001b[1;33m)\u001b[0m\u001b[1;33m:\u001b[0m\u001b[1;33m\u001b[0m\u001b[1;33m\u001b[0m\u001b[0m\n",
      "\u001b[1;32mC:\\Users\\John\\Anaconda3\\envs\\refnx\\lib\\site-packages\\refnx\\reflect\\reflect_model.py\u001b[0m in \u001b[0;36mreflectivity\u001b[1;34m(q, slabs, scale, bkg, dq, quad_order, threads)\u001b[0m\n\u001b[0;32m    412\u001b[0m                                          \u001b[0mslabs\u001b[0m\u001b[1;33m,\u001b[0m\u001b[1;33m\u001b[0m\u001b[1;33m\u001b[0m\u001b[0m\n\u001b[0;32m    413\u001b[0m                                          \u001b[0mdq\u001b[0m\u001b[1;33m,\u001b[0m\u001b[1;33m\u001b[0m\u001b[1;33m\u001b[0m\u001b[0m\n\u001b[1;32m--> 414\u001b[1;33m                                          threads=threads)) + bkg\n\u001b[0m\u001b[0;32m    415\u001b[0m \u001b[1;33m\u001b[0m\u001b[0m\n\u001b[0;32m    416\u001b[0m     \u001b[1;31m# point by point resolution smearing (each q point has different dq/q)\u001b[0m\u001b[1;33m\u001b[0m\u001b[1;33m\u001b[0m\u001b[1;33m\u001b[0m\u001b[0m\n",
      "\u001b[1;32mC:\\Users\\John\\Anaconda3\\envs\\refnx\\lib\\site-packages\\refnx\\reflect\\reflect_model.py\u001b[0m in \u001b[0;36m_smeared_abeles_constant\u001b[1;34m(q, w, resolution, threads)\u001b[0m\n\u001b[0;32m    679\u001b[0m \u001b[1;33m\u001b[0m\u001b[0m\n\u001b[0;32m    680\u001b[0m     \u001b[0mrvals\u001b[0m \u001b[1;33m=\u001b[0m \u001b[0mabeles\u001b[0m\u001b[1;33m(\u001b[0m\u001b[0mxlin\u001b[0m\u001b[1;33m,\u001b[0m \u001b[0mw\u001b[0m\u001b[1;33m,\u001b[0m \u001b[0mthreads\u001b[0m\u001b[1;33m=\u001b[0m\u001b[0mthreads\u001b[0m\u001b[1;33m)\u001b[0m\u001b[1;33m\u001b[0m\u001b[1;33m\u001b[0m\u001b[0m\n\u001b[1;32m--> 681\u001b[1;33m     \u001b[0msmeared_rvals\u001b[0m \u001b[1;33m=\u001b[0m \u001b[0mnp\u001b[0m\u001b[1;33m.\u001b[0m\u001b[0mconvolve\u001b[0m\u001b[1;33m(\u001b[0m\u001b[0mrvals\u001b[0m\u001b[1;33m,\u001b[0m \u001b[0mgauss_y\u001b[0m\u001b[1;33m,\u001b[0m \u001b[0mmode\u001b[0m\u001b[1;33m=\u001b[0m\u001b[1;34m'same'\u001b[0m\u001b[1;33m)\u001b[0m\u001b[1;33m\u001b[0m\u001b[1;33m\u001b[0m\u001b[0m\n\u001b[0m\u001b[0;32m    682\u001b[0m     \u001b[0msmeared_rvals\u001b[0m \u001b[1;33m*=\u001b[0m \u001b[0mgauss_x\u001b[0m\u001b[1;33m[\u001b[0m\u001b[1;36m1\u001b[0m\u001b[1;33m]\u001b[0m \u001b[1;33m-\u001b[0m \u001b[0mgauss_x\u001b[0m\u001b[1;33m[\u001b[0m\u001b[1;36m0\u001b[0m\u001b[1;33m]\u001b[0m\u001b[1;33m\u001b[0m\u001b[1;33m\u001b[0m\u001b[0m\n\u001b[0;32m    683\u001b[0m \u001b[1;33m\u001b[0m\u001b[0m\n",
      "\u001b[1;32mC:\\Users\\John\\Anaconda3\\envs\\refnx\\lib\\site-packages\\numpy\\core\\numeric.py\u001b[0m in \u001b[0;36mconvolve\u001b[1;34m(a, v, mode)\u001b[0m\n\u001b[0;32m   1112\u001b[0m         \u001b[1;32mraise\u001b[0m \u001b[0mValueError\u001b[0m\u001b[1;33m(\u001b[0m\u001b[1;34m'v cannot be empty'\u001b[0m\u001b[1;33m)\u001b[0m\u001b[1;33m\u001b[0m\u001b[1;33m\u001b[0m\u001b[0m\n\u001b[0;32m   1113\u001b[0m     \u001b[0mmode\u001b[0m \u001b[1;33m=\u001b[0m \u001b[0m_mode_from_name\u001b[0m\u001b[1;33m(\u001b[0m\u001b[0mmode\u001b[0m\u001b[1;33m)\u001b[0m\u001b[1;33m\u001b[0m\u001b[1;33m\u001b[0m\u001b[0m\n\u001b[1;32m-> 1114\u001b[1;33m     \u001b[1;32mreturn\u001b[0m \u001b[0mmultiarray\u001b[0m\u001b[1;33m.\u001b[0m\u001b[0mcorrelate\u001b[0m\u001b[1;33m(\u001b[0m\u001b[0ma\u001b[0m\u001b[1;33m,\u001b[0m \u001b[0mv\u001b[0m\u001b[1;33m[\u001b[0m\u001b[1;33m:\u001b[0m\u001b[1;33m:\u001b[0m\u001b[1;33m-\u001b[0m\u001b[1;36m1\u001b[0m\u001b[1;33m]\u001b[0m\u001b[1;33m,\u001b[0m \u001b[0mmode\u001b[0m\u001b[1;33m)\u001b[0m\u001b[1;33m\u001b[0m\u001b[1;33m\u001b[0m\u001b[0m\n\u001b[0m\u001b[0;32m   1115\u001b[0m \u001b[1;33m\u001b[0m\u001b[0m\n\u001b[0;32m   1116\u001b[0m \u001b[1;33m\u001b[0m\u001b[0m\n",
      "\u001b[1;31mKeyboardInterrupt\u001b[0m: "
     ]
    }
   ],
   "source": [
    "fitter = CFitter(gobjective)\n",
    "DNSampler = DynamicNestedSampler(fitter.logl, fitter.priorTransform, fitter.nDim())\n",
    "DNSampler.run_nested(dlogz_init=0.05) # was 0.01\n",
    "res11 = DNSampler.results"
   ]
  },
  {
   "cell_type": "code",
   "execution_count": null,
   "metadata": {},
   "outputs": [],
   "source": [
    "fig, ax = gobjective.plot()\n",
    "plt.yscale('log')\n",
    "plt.xlabel('Q')\n",
    "plt.ylabel('Reflectivity')\n",
    "figI+=1\n",
    "plt.figure(figI)\n",
    "figI+=1\n",
    "plt.plot(*structure1.sld_profile())\n",
    "plt.ylabel('SLD /$10^{-6} \\AA^{-2}$')\n",
    "plt.xlabel('distance / $\\AA$');"
   ]
  },
  {
   "cell_type": "code",
   "execution_count": null,
   "metadata": {},
   "outputs": [],
   "source": [
    "# span = [(0,5000),(0,1.5),(0,0.4),(-10**1,10**1)]\n",
    "# fig, axes = dyplot.runplot(res11,span=span, color='black', mark_final_live=False,\n",
    "#                            logplot=False)\n",
    "# fig.tight_layout()"
   ]
  },
  {
   "cell_type": "code",
   "execution_count": null,
   "metadata": {},
   "outputs": [],
   "source": [
    "fig, axes = dyplot.traceplot(res11, #truths=np.zeros(fitter.nDim()),\n",
    "                             show_titles=True, trace_cmap='plasma',\n",
    "                             quantiles=None)\n",
    "fig.tight_layout()"
   ]
  }
 ],
 "metadata": {
  "kernelspec": {
   "display_name": "Python 3",
   "language": "python",
   "name": "python3"
  },
  "language_info": {
   "codemirror_mode": {
    "name": "ipython",
    "version": 3
   },
   "file_extension": ".py",
   "mimetype": "text/x-python",
   "name": "python",
   "nbconvert_exporter": "python",
   "pygments_lexer": "ipython3",
   "version": "3.7.3"
  }
 },
 "nbformat": 4,
 "nbformat_minor": 2
}
