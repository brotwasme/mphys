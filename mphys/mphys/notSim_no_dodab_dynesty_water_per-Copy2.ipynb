{
 "cells": [
  {
   "cell_type": "code",
   "execution_count": 1,
   "metadata": {},
   "outputs": [
    {
     "name": "stdout",
     "output_type": "stream",
     "text": [
      "refnx: 0.1.9\n",
      "scipy: 1.3.0\n",
      "numpy: 1.16.4\n"
     ]
    }
   ],
   "source": [
    "import os.path\n",
    "import numpy as np\n",
    "import matplotlib.pyplot as plt\n",
    "import scipy\n",
    "import refnx\n",
    "from refnx.dataset import ReflectDataset, Data1D\n",
    "from refnx.analysis import Transform, CurveFitter, Objective, Model, Parameter, GlobalObjective\n",
    "from refnx.reflect import SLD, Slab, ReflectModel\n",
    "# from sepObjectiveGO import getObjective as gO\n",
    "# import make_sim_data as msd\n",
    "# import lipidBilayerAsGiven.SLD_maker \n",
    "import data_in as di\n",
    "from lipidBilayerAsGiven.LipidLeaflet_WaterPer_builtOn3 import LipidLeafletWithWaterPer as LipidLeaflet\n",
    "\n",
    "\n",
    "print('refnx: %s\\nscipy: %s\\nnumpy: %s' % (refnx.version.version,\n",
    "                   scipy.version.version, np.version.version))\n",
    "%matplotlib inline\n",
    "SEED = 12345"
   ]
  },
  {
   "cell_type": "code",
   "execution_count": 2,
   "metadata": {},
   "outputs": [
    {
     "name": "stdout",
     "output_type": "stream",
     "text": [
      "csv\n",
      "cvs-collecting\n",
      "csv\n",
      "cvs-collecting\n"
     ]
    },
    {
     "data": {
      "image/png": "[encoded data removed]",
      "text/plain": [
       "<Figure size 432x288 with 1 Axes>"
      ]
     },
     "metadata": {
      "needs_background": "light"
     },
     "output_type": "display_data"
    }
   ],
   "source": [
    "dataD2o = Data1D(data=di.data_in(\"lipidBilayerData/54696_97_edit.txt\"))\n",
    "dataD2o.name=\"d2o\"\n",
    "dataPmw = Data1D(data=di.data_in(\"lipidBilayerData/54699_00_edit.txt\"))\n",
    "dataPmw.name=\"pmw\"\n",
    "\n",
    "plt.errorbar(dataD2o.data[0],dataD2o.data[1],dataD2o.data[2])\n",
    "plt.errorbar(dataPmw.data[0],dataPmw.data[1],dataPmw.data[2])\n",
    "plt.yscale(\"log\")\n",
    "plt.show()"
   ]
  },
  {
   "cell_type": "code",
   "execution_count": 3,
   "metadata": {},
   "outputs": [],
   "source": [
    "name = \"bilayer\"\n",
    "\n",
    "d2o = SLD(6.07, \"D2O\")\n",
    "pmw = SLD(2.35, \"Protein Matched Water\")\n",
    "air = SLD(0.00, \"Air\")\n",
    "\n",
    "d2o.real.setp(vary=True, bounds=(5.35, 6.35))\n",
    "pmw.real.setp(vary=True, bounds=(1.35, 3.35))\n",
    "\n",
    "\n",
    "apm = Parameter(value=140, name='%s - area_per_molecule' % name,\n",
    "                bounds=(100, 180), vary=True) #bounds=(60, 150), vary=True)\n",
    "\n",
    "#Define all the neutron b's\n",
    "bc = 0.6646e-4  #Carbon\n",
    "bo = 0.5804e-4  #Oxygen\n",
    "bh = -0.3739e-4 #Hydrogen\n",
    "bp = 0.513e-4   #Phosphorus\n",
    "bn = 0.936e-4   #Nitrogen\n",
    "bd = 0.6671e-4  #Deuterium\n",
    "\n",
    "#Formulae of the molecule sections...\n",
    "CH2 = (1*bc) + (2*bh)\n",
    "CH = (1*bc) + (1*bh)\n",
    "CH3 = (1*bc) + (3*bh)\n",
    "D2O = (2*bd) + (1*bo)\n",
    "H2O = (2*bh) + (1*bo)\n",
    "\n",
    "# Calculate mole fraction of D2O from the bulk SLD..\n",
    "# d2o_molfr = (1/D2O-H2O)*(contrast*27.64)-H2O\n",
    "# wMol = (d2o_molfr * D2O) + ((1-d2o_molfr)*H2O)\n",
    "\n",
    "#sum b's of all the different fragments\n",
    "b_tails = Parameter(value=(28*CH2) + (2*CH) + (2*CH3),\n",
    "                       name='%s - b_tails_real' % name)\n",
    "\n",
    "sum_popc_heads = (8*bo) + (1*bp) + (1*bn) + (2*bc) + (4*CH2) + (3*CH3) + (1*CH)\n",
    "sum_popg_heads = (10*bo) + (1*bp) + (2*bc) + (4*CH2) + (2*CH) + (2*bh)\n",
    "b_heads = Parameter(value=(3*(sum_popc_heads) + (sum_popg_heads))/4,\n",
    "                        name='%s - b_heads_real' % name)\n",
    "\n",
    "#monolayer compositions\n",
    "#sum_m_tails = (34*CH2) + (2*CH3);\n",
    "#sum_m_heads = (1*bn) + (2*CH3) + (Waters_per_headD * wMol);\n",
    "\n",
    "#volumes of each fragment\n",
    "vCH2 = 27.7\n",
    "nCH2 = 30\n",
    "vCH3 = 54.6\n",
    "vm_tails = Parameter(value=(nCH2 * vCH2) + (2 * vCH3),\n",
    "            name='%s - volume_tails' % name) #\n",
    "vm_heads = Parameter(value=331,\n",
    "            name='%s - volume_heads' % name)  #\n",
    "vm_water = Parameter(value=29.7,\n",
    "            name='%s - water_vm' % name)\n",
    "\n",
    "#thickness\n",
    "thickness_tails = Parameter(6., #value=vm_tails.value/apm.value,\n",
    "            name='%s - thickness_tails' % name,\n",
    "            bounds=(3, #(1-0.75)*vm_tails.value/apm.value,\n",
    "                    9), #(1+0.75)*vm_tails.value/apm.value),\n",
    "               vary=True)\n",
    "thickness_heads = Parameter(value= 11., #vm_heads.value/apm.value,\n",
    "            name='%s - thickness_heads' % name,\n",
    "            bounds=(9, #(1-0.75)*vm_heads.value/apm.value,\n",
    "                    15), #(1+0.75)*vm_heads.value/apm.value),\n",
    "               vary=True)\n",
    "\n",
    "rough_top = Parameter(value=12.0,\n",
    "            name='%s - rough_top' % name,\n",
    "            bounds=(0,20), vary=True)\n",
    "rough_bot = Parameter(value=10.3,\n",
    "            name='%s - rough_bot' % name,\n",
    "            bounds=(0,15), vary=True)\n",
    "\n",
    "waters_per_head = Parameter(\n",
    "            value=2.8,\n",
    "            name=\"{} - Waters Per Head\".format(name),\n",
    "            bounds=(0, 4), vary=True)\n",
    "waters_per_tail = Parameter(\n",
    "            value=0.,\n",
    "            name=\"{} - Waters Per Tail\".format(name),\n",
    "            vary=False)\n"
   ]
  },
  {
   "cell_type": "code",
   "execution_count": 4,
   "metadata": {},
   "outputs": [],
   "source": [
    "# apm, b_heads, vm_heads, thickness_heads\n",
    "# b_tails, vm_tails, thickness_tails, rough_head_tail\n",
    "# rough_preceding_mono, head_solvent\n",
    "\n",
    "\n",
    "# head_solvent_d2o = SLD(6.07, \"D2O in bilayer\")\n",
    "# head_solvent_d2o.real.setp(6.07, vary=True, bounds=(5.35, 6.35))\n",
    "upper_lipid_d2o = LipidLeaflet(apm, b_heads, vm_heads, thickness_heads,\n",
    "    b_tails, vm_tails, thickness_tails, rough_top, rough_top,\n",
    "    vm_water, waters_per_head, waters_per_tail,\n",
    "    d2o, reverse_monolayer=False, name=\"upper_lipid_d2o\")\n",
    "\n",
    "lower_lipid_d2o = LipidLeaflet(apm, b_heads, vm_heads, thickness_heads,\n",
    "    b_tails, vm_tails, thickness_tails, rough_top, rough_top,\n",
    "    vm_water, waters_per_head, waters_per_tail,\n",
    "    d2o, reverse_monolayer=True, name=\"lower_lipid_d2o\")\n",
    "\n",
    "\n",
    "# head_solvent_pmw = SLD(2.35, \"Protein Matched Water in bilayer\")\n",
    "# head_solvent_pmw.real.setp(2.34, vary=True, bounds=(1.35, 3.35))\n",
    "upper_lipid_pmw = LipidLeaflet(apm, b_heads, vm_heads, thickness_heads,\n",
    "    b_tails, vm_tails, thickness_tails, rough_bot, rough_bot,\n",
    "    vm_water, waters_per_head, waters_per_tail, pmw,\n",
    "    reverse_monolayer=False, name=\"upper_lipid_pmw\")\n",
    "\n",
    "lower_lipid_pmw = LipidLeaflet(apm, b_heads, vm_heads, thickness_heads,\n",
    "    b_tails, vm_tails, thickness_tails, rough_bot, rough_bot,\n",
    "    vm_water, waters_per_head, waters_per_tail, pmw,\n",
    "    reverse_monolayer=True, name=\"lower_lipid_pmw\")\n"
   ]
  },
  {
   "cell_type": "code",
   "execution_count": 5,
   "metadata": {},
   "outputs": [],
   "source": [
    "# name_m = \"mono, dodab\"\n",
    "# APMD = Parameter(value=48, name='%s - area_per_molecule' % name_m,\n",
    "#         bounds=(30,120), vary=True)\n",
    "\n",
    "# # monolayer compositions\n",
    "# m_tails = Parameter(value=(34*CH2) + (2*CH3),\n",
    "#             name='%s - b_tails_real' % name_m)\n",
    "# m_heads = Parameter(value=(1*bn) + (2*CH3),\n",
    "#             name='%s - b_heads_real' % name_m)\n",
    "\n",
    "# # monolayer volumes\n",
    "# vm_m_tails = Parameter(value=vCH2*36,\n",
    "#             name='%s - volume_tails' % name_m)\n",
    "# vm_m_heads = Parameter(value=54.6,\n",
    "#             name='%s - volume_heads' % name_m)\n",
    "\n",
    "# # monolayer thicknesses\n",
    "# tail_thick_m = Parameter(value=vm_m_tails.value / APMD.value,\n",
    "#             name='%s - thickness_tails' % name_m,\n",
    "#             bounds=((1-0.75)*vm_m_tails.value / APMD.value,\n",
    "#                     (1+0.75)*vm_m_tails.value / APMD.value),\n",
    "#                vary=True)\n",
    "# head_thick_m = Parameter(value=vm_m_heads.value / APMD.value,\n",
    "#             name='%s - thickness heads' % name_m,\n",
    "#             bounds=((1-0.75)*vm_m_heads.value / APMD.value,\n",
    "#                     (1+0.75)*vm_m_heads.value / APMD.value),\n",
    "#                vary=True)\n",
    "\n",
    "# roughness_m =  Parameter(value=5.8,\n",
    "#             name='%s - roughness' % name_m,\n",
    "#             bounds=(0,10), vary=True)\n",
    "\n",
    "\n",
    "# water_vm_m = Parameter(value=vm_water,\n",
    "#             name='%s - water_vm' % name_m)\n",
    "# waters_per_head_m = Parameter(\n",
    "#             value=2.8,\n",
    "#             name=\"{} Waters Per Head\".format(name_m),\n",
    "#             vary=True,\n",
    "#             bounds=(1, 20))\n",
    "# waters_per_tail_m = Parameter(\n",
    "#             value=0.,\n",
    "#             name=\"{} Waters Per Tail\".format(name_m),\n",
    "#             vary=False)"
   ]
  },
  {
   "cell_type": "code",
   "execution_count": 6,
   "metadata": {},
   "outputs": [],
   "source": [
    "# m_head_solvent_pmw=SLD(2.35, \"mono, dodab - Protein Matched Water in head\")\n",
    "# m_head_solvent_pmw.real.setp(2.34, vary=True, bounds=(1.35, 3.35))\n",
    "# m_air_in_tail=SLD(0, \"mono, dodab - air in tail\")\n",
    "\n",
    "# dodab_pmw = LipidLeaflet(apm=APMD, b_heads=m_heads, vm_heads=vm_m_heads,\n",
    "#     thickness_heads=head_thick_m, b_tails=m_tails, vm_tails=vm_m_tails,\n",
    "#     thickness_tails=tail_thick_m, rough_head_tail=roughness_m,\n",
    "#     rough_preceding_mono=roughness_m,\n",
    "#     water_vm=vm_water, waters_per_head=waters_per_head_m,\n",
    "#     waters_per_tail=waters_per_tail_m,\n",
    "#     head_solvent=m_head_solvent_pmw, tail_solvent=m_air_in_tail) #mono\n",
    "\n",
    "# m_head_solvent_d2o=SLD(6.07, \"mono, dodab - D2O in head\")\n",
    "# m_head_solvent_d2o.real.setp(6.07, vary=True, bounds=(5.35, 6.35))\n",
    "# dodab_d2o = LipidLeaflet(apm=APMD, b_heads=m_heads, vm_heads=vm_m_heads,\n",
    "#     thickness_heads=head_thick_m, b_tails=m_tails, vm_tails=vm_m_tails,\n",
    "#     thickness_tails=tail_thick_m, rough_head_tail=roughness_m,\n",
    "#     water_vm=vm_water, waters_per_head=waters_per_head_m,\n",
    "#     waters_per_tail=waters_per_tail_m,\n",
    "#     rough_preceding_mono=roughness_m, head_solvent=m_head_solvent_d2o,\n",
    "#                          tail_solvent=m_air_in_tail) #mono"
   ]
  },
  {
   "cell_type": "code",
   "execution_count": 7,
   "metadata": {
    "scrolled": true
   },
   "outputs": [
    {
     "data": {
      "image/png": "[encoded data removed]",
      "text/plain": [
       "<Figure size 432x288 with 1 Axes>"
      ]
     },
     "metadata": {
      "needs_background": "light"
     },
     "output_type": "display_data"
    },
    {
     "name": "stdout",
     "output_type": "stream",
     "text": [
      "________________________________________________________________________________\n",
      "Structure:       d2o      \n",
      "solvent: None\n",
      "reverse structure: False\n",
      "contract: 0\n",
      "\n",
      "________________________________________________________________________________\n",
      "Parameters:      'Air'     \n",
      "<Parameter: 'Air - thick' , value=0 (fixed)  , bounds=[-inf, inf]>\n",
      "<Parameter:  'Air - sld'  , value=0 (fixed)  , bounds=[-inf, inf]>\n",
      "<Parameter: 'Air - isld'  , value=0 (fixed)  , bounds=[-inf, inf]>\n",
      "<Parameter: 'Air - rough' , value=0 (fixed)  , bounds=[-inf, inf]>\n",
      "<Parameter:'Air - volfrac solvent', value=0 (fixed)  , bounds=[-inf, inf]>\n",
      "________________________________________________________________________________\n",
      "Parameters:      'D2O'     \n",
      "<Parameter:'thickness_solution', value=14.3          , bounds=[6, 20]>\n",
      "<Parameter:  'D2O - sld'  , value=6.07          , bounds=[5.35, 6.35]>\n",
      "<Parameter: 'D2O - isld'  , value=0 (fixed)  , bounds=[-inf, inf]>\n",
      "<Parameter:'rough_preceding_solution', value=4.6          , bounds=[0, 20]>\n",
      "<Parameter:'D2O - volfrac solvent', value=0 (fixed)  , bounds=[-inf, inf]>\n",
      "LipidLeaflet(Parameter(value=140.0, name='bilayer - area_per_molecule', vary=True, bounds=Interval(lb=100, ub=180), constraint=None), SLD([Parameter(value=0.0006292750000000001, name='bilayer - b_heads_real', vary=False, bounds=Interval(lb=-np.inf, ub=np.inf), constraint=None), Parameter(value=0.0, name='upper_lipid_d2o - b_heads_imag', vary=False, bounds=Interval(lb=-np.inf, ub=np.inf), constraint=None)], name=''), Parameter(value=331.0, name='bilayer - volume_heads', vary=False, bounds=Interval(lb=-np.inf, ub=np.inf), constraint=None), Parameter(value=11.0, name='bilayer - thickness_heads', vary=True, bounds=Interval(lb=9, ub=15), constraint=None), SLD([Parameter(value=-0.00026624000000000005, name='bilayer - b_tails_real', vary=False, bounds=Interval(lb=-np.inf, ub=np.inf), constraint=None), Parameter(value=0.0, name='upper_lipid_d2o - b_tails_imag', vary=False, bounds=Interval(lb=-np.inf, ub=np.inf), constraint=None)], name=''), Parameter(value=940.2, name='bilayer - volume_tails', vary=False, bounds=Interval(lb=-np.inf, ub=np.inf), constraint=None), Parameter(value=6.0, name='bilayer - thickness_tails', vary=True, bounds=Interval(lb=3, ub=9), constraint=None), Parameter(value=12.0, name='bilayer - rough_top', vary=True, bounds=Interval(lb=0, ub=20), constraint=None), Parameter(value=12.0, name='bilayer - rough_top', vary=True, bounds=Interval(lb=0, ub=20), constraint=None), head_solvent=SLD([Parameter(value=6.07, name='D2O - sld', vary=True, bounds=Interval(lb=5.35, ub=6.35), constraint=None), Parameter(value=0.0, name='D2O - isld', vary=False, bounds=Interval(lb=-np.inf, ub=np.inf), constraint=None)], name=''), tail_solvent=None, reverse_monolayer=False, name='upper_lipid_d2o')\n",
      "LipidLeaflet(Parameter(value=140.0, name='bilayer - area_per_molecule', vary=True, bounds=Interval(lb=100, ub=180), constraint=None), SLD([Parameter(value=0.0006292750000000001, name='bilayer - b_heads_real', vary=False, bounds=Interval(lb=-np.inf, ub=np.inf), constraint=None), Parameter(value=0.0, name='lower_lipid_d2o - b_heads_imag', vary=False, bounds=Interval(lb=-np.inf, ub=np.inf), constraint=None)], name=''), Parameter(value=331.0, name='bilayer - volume_heads', vary=False, bounds=Interval(lb=-np.inf, ub=np.inf), constraint=None), Parameter(value=11.0, name='bilayer - thickness_heads', vary=True, bounds=Interval(lb=9, ub=15), constraint=None), SLD([Parameter(value=-0.00026624000000000005, name='bilayer - b_tails_real', vary=False, bounds=Interval(lb=-np.inf, ub=np.inf), constraint=None), Parameter(value=0.0, name='lower_lipid_d2o - b_tails_imag', vary=False, bounds=Interval(lb=-np.inf, ub=np.inf), constraint=None)], name=''), Parameter(value=940.2, name='bilayer - volume_tails', vary=False, bounds=Interval(lb=-np.inf, ub=np.inf), constraint=None), Parameter(value=6.0, name='bilayer - thickness_tails', vary=True, bounds=Interval(lb=3, ub=9), constraint=None), Parameter(value=12.0, name='bilayer - rough_top', vary=True, bounds=Interval(lb=0, ub=20), constraint=None), Parameter(value=12.0, name='bilayer - rough_top', vary=True, bounds=Interval(lb=0, ub=20), constraint=None), head_solvent=SLD([Parameter(value=6.07, name='D2O - sld', vary=True, bounds=Interval(lb=5.35, ub=6.35), constraint=None), Parameter(value=0.0, name='D2O - isld', vary=False, bounds=Interval(lb=-np.inf, ub=np.inf), constraint=None)], name=''), tail_solvent=None, reverse_monolayer=True, name='lower_lipid_d2o')\n",
      "________________________________________________________________________________\n",
      "Parameters:      'D2O'     \n",
      "<Parameter:'thickness_solution', value=14.3          , bounds=[6, 20]>\n",
      "<Parameter:  'D2O - sld'  , value=6.07          , bounds=[5.35, 6.35]>\n",
      "<Parameter: 'D2O - isld'  , value=0 (fixed)  , bounds=[-inf, inf]>\n",
      "<Parameter:'rough_preceding_solution', value=4.6          , bounds=[0, 20]>\n",
      "<Parameter:'D2O - volfrac solvent', value=0 (fixed)  , bounds=[-inf, inf]>\n",
      "________________________________________________________________________________\n",
      "Structure: protein matched water\n",
      "solvent: None\n",
      "reverse structure: False\n",
      "contract: 0\n",
      "\n",
      "________________________________________________________________________________\n",
      "Parameters:      'Air'     \n",
      "<Parameter: 'Air - thick' , value=0 (fixed)  , bounds=[-inf, inf]>\n",
      "<Parameter:  'Air - sld'  , value=0 (fixed)  , bounds=[-inf, inf]>\n",
      "<Parameter: 'Air - isld'  , value=0 (fixed)  , bounds=[-inf, inf]>\n",
      "<Parameter: 'Air - rough' , value=0 (fixed)  , bounds=[-inf, inf]>\n",
      "<Parameter:'Air - volfrac solvent', value=0 (fixed)  , bounds=[-inf, inf]>\n",
      "________________________________________________________________________________\n",
      "Parameters: 'Protein Matched Water'\n",
      "<Parameter:'thickness_solution', value=14.3          , bounds=[6, 20]>\n",
      "<Parameter:'Protein Matched Water - sld', value=2.35          , bounds=[1.35, 3.35]>\n",
      "<Parameter:'Protein Matched Water - isld', value=0 (fixed)  , bounds=[-inf, inf]>\n",
      "<Parameter:'rough_preceding_solution', value=4.6          , bounds=[0, 20]>\n",
      "<Parameter:'Protein Matched Water - volfrac solvent', value=0 (fixed)  , bounds=[-inf, inf]>\n",
      "LipidLeaflet(Parameter(value=140.0, name='bilayer - area_per_molecule', vary=True, bounds=Interval(lb=100, ub=180), constraint=None), SLD([Parameter(value=0.0006292750000000001, name='bilayer - b_heads_real', vary=False, bounds=Interval(lb=-np.inf, ub=np.inf), constraint=None), Parameter(value=0.0, name='upper_lipid_pmw - b_heads_imag', vary=False, bounds=Interval(lb=-np.inf, ub=np.inf), constraint=None)], name=''), Parameter(value=331.0, name='bilayer - volume_heads', vary=False, bounds=Interval(lb=-np.inf, ub=np.inf), constraint=None), Parameter(value=11.0, name='bilayer - thickness_heads', vary=True, bounds=Interval(lb=9, ub=15), constraint=None), SLD([Parameter(value=-0.00026624000000000005, name='bilayer - b_tails_real', vary=False, bounds=Interval(lb=-np.inf, ub=np.inf), constraint=None), Parameter(value=0.0, name='upper_lipid_pmw - b_tails_imag', vary=False, bounds=Interval(lb=-np.inf, ub=np.inf), constraint=None)], name=''), Parameter(value=940.2, name='bilayer - volume_tails', vary=False, bounds=Interval(lb=-np.inf, ub=np.inf), constraint=None), Parameter(value=6.0, name='bilayer - thickness_tails', vary=True, bounds=Interval(lb=3, ub=9), constraint=None), Parameter(value=10.3, name='bilayer - rough_bot', vary=True, bounds=Interval(lb=0, ub=15), constraint=None), Parameter(value=10.3, name='bilayer - rough_bot', vary=True, bounds=Interval(lb=0, ub=15), constraint=None), head_solvent=SLD([Parameter(value=2.35, name='Protein Matched Water - sld', vary=True, bounds=Interval(lb=1.35, ub=3.35), constraint=None), Parameter(value=0.0, name='Protein Matched Water - isld', vary=False, bounds=Interval(lb=-np.inf, ub=np.inf), constraint=None)], name=''), tail_solvent=None, reverse_monolayer=False, name='upper_lipid_pmw')\n",
      "LipidLeaflet(Parameter(value=140.0, name='bilayer - area_per_molecule', vary=True, bounds=Interval(lb=100, ub=180), constraint=None), SLD([Parameter(value=0.0006292750000000001, name='bilayer - b_heads_real', vary=False, bounds=Interval(lb=-np.inf, ub=np.inf), constraint=None), Parameter(value=0.0, name='lower_lipid_pmw - b_heads_imag', vary=False, bounds=Interval(lb=-np.inf, ub=np.inf), constraint=None)], name=''), Parameter(value=331.0, name='bilayer - volume_heads', vary=False, bounds=Interval(lb=-np.inf, ub=np.inf), constraint=None), Parameter(value=11.0, name='bilayer - thickness_heads', vary=True, bounds=Interval(lb=9, ub=15), constraint=None), SLD([Parameter(value=-0.00026624000000000005, name='bilayer - b_tails_real', vary=False, bounds=Interval(lb=-np.inf, ub=np.inf), constraint=None), Parameter(value=0.0, name='lower_lipid_pmw - b_tails_imag', vary=False, bounds=Interval(lb=-np.inf, ub=np.inf), constraint=None)], name=''), Parameter(value=940.2, name='bilayer - volume_tails', vary=False, bounds=Interval(lb=-np.inf, ub=np.inf), constraint=None), Parameter(value=6.0, name='bilayer - thickness_tails', vary=True, bounds=Interval(lb=3, ub=9), constraint=None), Parameter(value=10.3, name='bilayer - rough_bot', vary=True, bounds=Interval(lb=0, ub=15), constraint=None), Parameter(value=10.3, name='bilayer - rough_bot', vary=True, bounds=Interval(lb=0, ub=15), constraint=None), head_solvent=SLD([Parameter(value=2.35, name='Protein Matched Water - sld', vary=True, bounds=Interval(lb=1.35, ub=3.35), constraint=None), Parameter(value=0.0, name='Protein Matched Water - isld', vary=False, bounds=Interval(lb=-np.inf, ub=np.inf), constraint=None)], name=''), tail_solvent=None, reverse_monolayer=True, name='lower_lipid_pmw')\n",
      "________________________________________________________________________________\n",
      "Parameters: 'Protein Matched Water'\n",
      "<Parameter:'thickness_solution', value=14.3          , bounds=[6, 20]>\n",
      "<Parameter:'Protein Matched Water - sld', value=2.35          , bounds=[1.35, 3.35]>\n",
      "<Parameter:'Protein Matched Water - isld', value=0 (fixed)  , bounds=[-inf, inf]>\n",
      "<Parameter:'rough_preceding_solution', value=4.6          , bounds=[0, 20]>\n"
     ]
    },
    {
     "name": "stdout",
     "output_type": "stream",
     "text": [
      "<Parameter:'Protein Matched Water - volfrac solvent', value=0 (fixed)  , bounds=[-inf, inf]>\n"
     ]
    }
   ],
   "source": [
    "# structure_d2o = air(0, 0) | dodab_d2o | d2o(0, 0) | upper_lipid_d2o | lower_lipid_d2o | d2o(0, 0)\n",
    "# structure_pmw = air(0, 0) | dodab_pmw | pmw(0, 0) | upper_lipid_pmw | lower_lipid_pmw | pmw(0, 0)\n",
    "# structure_d2o = air(0, 0) | d2o(0, 0) | upper_lipid_d2o | lower_lipid_d2o | d2o(0, 0)\n",
    "# structure_pmw = air(0, 0) | pmw(0, 0) | upper_lipid_pmw | lower_lipid_pmw | pmw(0, 0)\n",
    "#\n",
    "#\n",
    "# solution_thickness = Parameter(value=14.3, bounds=(6, 20), vary=True,\n",
    "#             name='%s - thickness_solution' % name)\n",
    "\n",
    "# rough_preceding_solution = Parameter(value=4.6, bounds=(0, 20), vary=True,\n",
    "#             name='%s - rough_preceding_solution' % name)\n",
    "# \n",
    "# structure_d2o[2].thick=solution_thickness#.setp(14.3, vary=True, bounds=(6, 20))\n",
    "# structure_d2o[2].rough=rough_preceding_solution#.setp(4.6, vary=True, bounds=(3, 20))\n",
    "# structure_pmw[2].thick=solution_thickness\n",
    "# structure_pmw[2].rough=rough_preceding_solution\n",
    "#\n",
    "# structure_d2o[5].thick=solution_thickness\n",
    "# structure_d2o[5].rough=rough_preceding_solution\n",
    "# structure_pmw[5].thick=solution_thickness\n",
    "# structure_pmw[5].rough=rough_preceding_solution\n",
    "\n",
    "# to changing to\n",
    "solution_thickness = Parameter(value=14.3, bounds=(6, 20), vary=True,\n",
    "            name='thickness_solution')\n",
    "\n",
    "rough_preceding_solution = Parameter(value=4.6, bounds=(0, 20), vary=True,\n",
    "            name='rough_preceding_solution')\n",
    "\n",
    "structure_d2o = air(0, 0) | d2o(solution_thickness, rough_preceding_solution) | upper_lipid_d2o | lower_lipid_d2o | d2o(solution_thickness, rough_preceding_solution)\n",
    "structure_pmw = air(0, 0) | pmw(solution_thickness, rough_preceding_solution) | upper_lipid_pmw | lower_lipid_pmw | pmw(solution_thickness, rough_preceding_solution)\n",
    "\n",
    "structure_d2o.name = \"d2o\"\n",
    "structure_pmw.name = \"protein matched water\"\n",
    "\n",
    "plt.plot(*structure_d2o.sld_profile(),label=structure_d2o)\n",
    "plt.ylabel('SLD /$10^{-6} \\AA^{-2}$')\n",
    "plt.xlabel('distance / $\\AA$')\n",
    "plt.plot(*structure_pmw.sld_profile(),label=structure_pmw)\n",
    "plt.ylabel('SLD /$10^{-6} \\AA^{-2}$')\n",
    "plt.xlabel('distance / $\\AA$')\n",
    "plt.show();\n",
    "print(structure_d2o)\n",
    "print(structure_pmw)"
   ]
  },
  {
   "cell_type": "code",
   "execution_count": 8,
   "metadata": {
    "scrolled": true
   },
   "outputs": [],
   "source": [
    "model1 = ReflectModel(structure_d2o)\n",
    "model1.scale.setp(1./dataD2o.y.max(), vary=False)\n",
    "model1.bkg.setp(dataD2o.y.min(),vary=True,bounds=(dataD2o.y.min() * 0.2, dataD2o.y.min() * 1.8))\n",
    "\n",
    "model2 = ReflectModel(structure_pmw)\n",
    "model2.scale.setp(1./dataPmw.y.max(), vary=False)\n",
    "model2.bkg.setp(dataPmw.y.min(),vary=True,bounds=(dataPmw.y.min() * 0.2, dataPmw.y.min() * 1.8))\n",
    "\n",
    "objective1 = Objective(model1, dataD2o, transform=Transform(\"logY\"))\n",
    "objective2 = Objective(model2, dataPmw, transform=Transform(\"logY\"))\n",
    "gobjective = GlobalObjective([objective1,objective2])\n",
    "choose = 0\n",
    "if choose==0:\n",
    "    fitter = CurveFitter(gobjective)\n",
    "    fitter.fit(\"differential_evolution\", target=\"nlpost\")#, seed=SEED)\n",
    "if choose==1:\n",
    "    fitter = CurveFitter(gobjective)\n",
    "    fitter.sample(400)\n",
    "    fitter.reset()\n",
    "    res = fitter.sample(15, nthin=100)\n",
    "if choose==2:\n",
    "    from dynesty import DynamicNestedSampler\n",
    "    from dynesty import plotting as dyplot\n",
    "    from CFitter import CFitter\n",
    "    fitter = CFitter(gobjective)\n",
    "    # DynamicNestedSampler\n",
    "    DNSampler = DynamicNestedSampler(fitter.logl, fitter.priorTransform, fitter.nDim())\n",
    "    DNSampler.run_nested(dlogz_init=0.05) # was 0.01\n",
    "    res1 = DNSampler.results"
   ]
  },
  {
   "cell_type": "code",
   "execution_count": 9,
   "metadata": {},
   "outputs": [
    {
     "data": {
      "image/png": "[encoded data removed]",
      "text/plain": [
       "<Figure size 432x288 with 1 Axes>"
      ]
     },
     "metadata": {
      "needs_background": "light"
     },
     "output_type": "display_data"
    }
   ],
   "source": [
    "# structure_d2o\n",
    "# structure_pmw\n",
    "plt.plot(*structure_d2o.sld_profile(),label=\"structure_d2o\")\n",
    "# structure_d2o.plot()\n",
    "# plt.ylabel('SLD ($10^{-6} \\AA^{-2})$')\n",
    "# plt.xlabel('distance  $(\\AA)$')\n",
    "\n",
    "plt.plot(*structure_pmw.sld_profile(),label=\"structure_pmw\")\n",
    "# structure_pmw.plot()\n",
    "plt.ylabel('SLD ($10^{-6} \\AA^{-2})$')\n",
    "plt.xlabel('distance  $(\\AA)$')\n",
    "plt.legend()\n",
    "plt.show();"
   ]
  },
  {
   "cell_type": "code",
   "execution_count": 10,
   "metadata": {},
   "outputs": [
    {
     "data": {
      "image/png": "[encoded data removed]",
      "text/plain": [
       "<Figure size 432x288 with 1 Axes>"
      ]
     },
     "metadata": {
      "needs_background": "light"
     },
     "output_type": "display_data"
    }
   ],
   "source": [
    "if choose==1:\n",
    "    gobjective.plot(samples=300)\n",
    "else:\n",
    "    gobjective.plot()\n",
    "# plt.yscale('log')\n",
    "plt.xlabel('Q')\n",
    "plt.ylabel('Reflectivity')\n",
    "plt.legend();"
   ]
  },
  {
   "cell_type": "code",
   "execution_count": 11,
   "metadata": {},
   "outputs": [
    {
     "data": {
      "image/png": "[encoded data removed]",
      "text/plain": [
       "<Figure size 432x288 with 1 Axes>"
      ]
     },
     "metadata": {
      "needs_background": "light"
     },
     "output_type": "display_data"
    }
   ],
   "source": [
    "if choose==1:\n",
    "    objective1.plot(samples=300)\n",
    "else:\n",
    "    objective1.plot()\n",
    "# plt.yscale('log')\n",
    "plt.xlabel('Q')\n",
    "plt.ylabel('Reflectivity')\n",
    "plt.legend();"
   ]
  },
  {
   "cell_type": "code",
   "execution_count": 12,
   "metadata": {},
   "outputs": [
    {
     "data": {
      "image/png": "[encoded data removed]",
      "text/plain": [
       "<Figure size 432x288 with 1 Axes>"
      ]
     },
     "metadata": {
      "needs_background": "light"
     },
     "output_type": "display_data"
    }
   ],
   "source": [
    "if choose==1:\n",
    "    objective2.plot(samples=300)\n",
    "else:\n",
    "    objective2.plot()\n",
    "# plt.yscale('log')\n",
    "plt.xlabel('Q')\n",
    "plt.ylabel('Reflectivity')\n",
    "plt.legend();"
   ]
  },
  {
   "cell_type": "code",
   "execution_count": 13,
   "metadata": {},
   "outputs": [
    {
     "name": "stdout",
     "output_type": "stream",
     "text": [
      "model1: d2o <Parameter:    'scale'    , value=1.23916 (fixed)  , bounds=[-inf, inf]> <Parameter:     'bkg'     , value=2.84738e-06 +/- 2.23e-07, bounds=[3.72e-07, 3.348e-06]>\n",
      "model2: pmw <Parameter:    'scale'    , value=1.84843 (fixed)  , bounds=[-inf, inf]> <Parameter:     'bkg'     , value=4.2635e-06 +/- 1.33e-07, bounds=[6.74e-07, 6.066e-06]>\n"
     ]
    }
   ],
   "source": [
    "print(\"model1: d2o\", model1.scale, model1.bkg)\n",
    "print(\"model2: pmw\", model2.scale, model2.bkg)"
   ]
  },
  {
   "cell_type": "code",
   "execution_count": 14,
   "metadata": {
    "scrolled": true
   },
   "outputs": [
    {
     "name": "stdout",
     "output_type": "stream",
     "text": [
      "________________________________________________________________________________\n",
      "Structure:       d2o      \n",
      "solvent: None\n",
      "reverse structure: False\n",
      "contract: 0\n",
      "\n",
      "________________________________________________________________________________\n",
      "Parameters:      'Air'     \n",
      "<Parameter: 'Air - thick' , value=0 (fixed)  , bounds=[-inf, inf]>\n",
      "<Parameter:  'Air - sld'  , value=0 (fixed)  , bounds=[-inf, inf]>\n",
      "<Parameter: 'Air - isld'  , value=0 (fixed)  , bounds=[-inf, inf]>\n",
      "<Parameter: 'Air - rough' , value=0 (fixed)  , bounds=[-inf, inf]>\n",
      "<Parameter:'Air - volfrac solvent', value=0 (fixed)  , bounds=[-inf, inf]>\n",
      "________________________________________________________________________________\n",
      "Parameters:      'D2O'     \n",
      "<Parameter:'thickness_solution', value=15.4524 +/- 2.59 , bounds=[6, 20]>\n",
      "<Parameter:  'D2O - sld'  , value=5.64063 +/- 0.00347, bounds=[5.35, 6.35]>\n",
      "<Parameter: 'D2O - isld'  , value=0 (fixed)  , bounds=[-inf, inf]>\n",
      "<Parameter:'rough_preceding_solution', value=12.3385 +/- 1.03 , bounds=[0, 20]>\n",
      "<Parameter:'D2O - volfrac solvent', value=0 (fixed)  , bounds=[-inf, inf]>\n",
      "LipidLeaflet(Parameter(value=120.84626598418028, name='bilayer - area_per_molecule', vary=True, bounds=Interval(lb=100, ub=180), constraint=None), SLD([Parameter(value=0.0006292750000000001, name='bilayer - b_heads_real', vary=False, bounds=Interval(lb=-np.inf, ub=np.inf), constraint=None), Parameter(value=0.0, name='upper_lipid_d2o - b_heads_imag', vary=False, bounds=Interval(lb=-np.inf, ub=np.inf), constraint=None)], name=''), Parameter(value=331.0, name='bilayer - volume_heads', vary=False, bounds=Interval(lb=-np.inf, ub=np.inf), constraint=None), Parameter(value=10.912605618527111, name='bilayer - thickness_heads', vary=True, bounds=Interval(lb=9, ub=15), constraint=None), SLD([Parameter(value=-0.00026624000000000005, name='bilayer - b_tails_real', vary=False, bounds=Interval(lb=-np.inf, ub=np.inf), constraint=None), Parameter(value=0.0, name='upper_lipid_d2o - b_tails_imag', vary=False, bounds=Interval(lb=-np.inf, ub=np.inf), constraint=None)], name=''), Parameter(value=940.2, name='bilayer - volume_tails', vary=False, bounds=Interval(lb=-np.inf, ub=np.inf), constraint=None), Parameter(value=7.818052424919595, name='bilayer - thickness_tails', vary=True, bounds=Interval(lb=3, ub=9), constraint=None), Parameter(value=5.486190624140487, name='bilayer - rough_top', vary=True, bounds=Interval(lb=0, ub=20), constraint=None), Parameter(value=5.486190624140487, name='bilayer - rough_top', vary=True, bounds=Interval(lb=0, ub=20), constraint=None), head_solvent=SLD([Parameter(value=5.640632078668706, name='D2O - sld', vary=True, bounds=Interval(lb=5.35, ub=6.35), constraint=None), Parameter(value=0.0, name='D2O - isld', vary=False, bounds=Interval(lb=-np.inf, ub=np.inf), constraint=None)], name=''), tail_solvent=None, reverse_monolayer=False, name='upper_lipid_d2o')\n",
      "LipidLeaflet(Parameter(value=120.84626598418028, name='bilayer - area_per_molecule', vary=True, bounds=Interval(lb=100, ub=180), constraint=None), SLD([Parameter(value=0.0006292750000000001, name='bilayer - b_heads_real', vary=False, bounds=Interval(lb=-np.inf, ub=np.inf), constraint=None), Parameter(value=0.0, name='lower_lipid_d2o - b_heads_imag', vary=False, bounds=Interval(lb=-np.inf, ub=np.inf), constraint=None)], name=''), Parameter(value=331.0, name='bilayer - volume_heads', vary=False, bounds=Interval(lb=-np.inf, ub=np.inf), constraint=None), Parameter(value=10.912605618527111, name='bilayer - thickness_heads', vary=True, bounds=Interval(lb=9, ub=15), constraint=None), SLD([Parameter(value=-0.00026624000000000005, name='bilayer - b_tails_real', vary=False, bounds=Interval(lb=-np.inf, ub=np.inf), constraint=None), Parameter(value=0.0, name='lower_lipid_d2o - b_tails_imag', vary=False, bounds=Interval(lb=-np.inf, ub=np.inf), constraint=None)], name=''), Parameter(value=940.2, name='bilayer - volume_tails', vary=False, bounds=Interval(lb=-np.inf, ub=np.inf), constraint=None), Parameter(value=7.818052424919595, name='bilayer - thickness_tails', vary=True, bounds=Interval(lb=3, ub=9), constraint=None), Parameter(value=5.486190624140487, name='bilayer - rough_top', vary=True, bounds=Interval(lb=0, ub=20), constraint=None), Parameter(value=5.486190624140487, name='bilayer - rough_top', vary=True, bounds=Interval(lb=0, ub=20), constraint=None), head_solvent=SLD([Parameter(value=5.640632078668706, name='D2O - sld', vary=True, bounds=Interval(lb=5.35, ub=6.35), constraint=None), Parameter(value=0.0, name='D2O - isld', vary=False, bounds=Interval(lb=-np.inf, ub=np.inf), constraint=None)], name=''), tail_solvent=None, reverse_monolayer=True, name='lower_lipid_d2o')\n",
      "________________________________________________________________________________\n",
      "Parameters:      'D2O'     \n",
      "<Parameter:'thickness_solution', value=15.4524 +/- 2.59 , bounds=[6, 20]>\n",
      "<Parameter:  'D2O - sld'  , value=5.64063 +/- 0.00347, bounds=[5.35, 6.35]>\n",
      "<Parameter: 'D2O - isld'  , value=0 (fixed)  , bounds=[-inf, inf]>\n",
      "<Parameter:'rough_preceding_solution', value=12.3385 +/- 1.03 , bounds=[0, 20]>\n",
      "<Parameter:'D2O - volfrac solvent', value=0 (fixed)  , bounds=[-inf, inf]>\n"
     ]
    }
   ],
   "source": [
    "print(structure_d2o)"
   ]
  },
  {
   "cell_type": "code",
   "execution_count": 15,
   "metadata": {
    "scrolled": true
   },
   "outputs": [
    {
     "name": "stdout",
     "output_type": "stream",
     "text": [
      "________________________________________________________________________________\n",
      "Structure: protein matched water\n",
      "solvent: None\n",
      "reverse structure: False\n",
      "contract: 0\n",
      "\n",
      "________________________________________________________________________________\n",
      "Parameters:      'Air'     \n",
      "<Parameter: 'Air - thick' , value=0 (fixed)  , bounds=[-inf, inf]>\n",
      "<Parameter:  'Air - sld'  , value=0 (fixed)  , bounds=[-inf, inf]>\n",
      "<Parameter: 'Air - isld'  , value=0 (fixed)  , bounds=[-inf, inf]>\n",
      "<Parameter: 'Air - rough' , value=0 (fixed)  , bounds=[-inf, inf]>\n",
      "<Parameter:'Air - volfrac solvent', value=0 (fixed)  , bounds=[-inf, inf]>\n",
      "________________________________________________________________________________\n",
      "Parameters: 'Protein Matched Water'\n",
      "<Parameter:'thickness_solution', value=15.4524 +/- 2.59 , bounds=[6, 20]>\n",
      "<Parameter:'Protein Matched Water - sld', value=1.83047 +/- 0.00436, bounds=[1.35, 3.35]>\n",
      "<Parameter:'Protein Matched Water - isld', value=0 (fixed)  , bounds=[-inf, inf]>\n",
      "<Parameter:'rough_preceding_solution', value=12.3385 +/- 1.03 , bounds=[0, 20]>\n",
      "<Parameter:'Protein Matched Water - volfrac solvent', value=0 (fixed)  , bounds=[-inf, inf]>\n",
      "LipidLeaflet(Parameter(value=120.84626598418028, name='bilayer - area_per_molecule', vary=True, bounds=Interval(lb=100, ub=180), constraint=None), SLD([Parameter(value=0.0006292750000000001, name='bilayer - b_heads_real', vary=False, bounds=Interval(lb=-np.inf, ub=np.inf), constraint=None), Parameter(value=0.0, name='upper_lipid_pmw - b_heads_imag', vary=False, bounds=Interval(lb=-np.inf, ub=np.inf), constraint=None)], name=''), Parameter(value=331.0, name='bilayer - volume_heads', vary=False, bounds=Interval(lb=-np.inf, ub=np.inf), constraint=None), Parameter(value=10.912605618527111, name='bilayer - thickness_heads', vary=True, bounds=Interval(lb=9, ub=15), constraint=None), SLD([Parameter(value=-0.00026624000000000005, name='bilayer - b_tails_real', vary=False, bounds=Interval(lb=-np.inf, ub=np.inf), constraint=None), Parameter(value=0.0, name='upper_lipid_pmw - b_tails_imag', vary=False, bounds=Interval(lb=-np.inf, ub=np.inf), constraint=None)], name=''), Parameter(value=940.2, name='bilayer - volume_tails', vary=False, bounds=Interval(lb=-np.inf, ub=np.inf), constraint=None), Parameter(value=7.818052424919595, name='bilayer - thickness_tails', vary=True, bounds=Interval(lb=3, ub=9), constraint=None), Parameter(value=6.959260786712434, name='bilayer - rough_bot', vary=True, bounds=Interval(lb=0, ub=15), constraint=None), Parameter(value=6.959260786712434, name='bilayer - rough_bot', vary=True, bounds=Interval(lb=0, ub=15), constraint=None), head_solvent=SLD([Parameter(value=1.8304730261673408, name='Protein Matched Water - sld', vary=True, bounds=Interval(lb=1.35, ub=3.35), constraint=None), Parameter(value=0.0, name='Protein Matched Water - isld', vary=False, bounds=Interval(lb=-np.inf, ub=np.inf), constraint=None)], name=''), tail_solvent=None, reverse_monolayer=False, name='upper_lipid_pmw')\n",
      "LipidLeaflet(Parameter(value=120.84626598418028, name='bilayer - area_per_molecule', vary=True, bounds=Interval(lb=100, ub=180), constraint=None), SLD([Parameter(value=0.0006292750000000001, name='bilayer - b_heads_real', vary=False, bounds=Interval(lb=-np.inf, ub=np.inf), constraint=None), Parameter(value=0.0, name='lower_lipid_pmw - b_heads_imag', vary=False, bounds=Interval(lb=-np.inf, ub=np.inf), constraint=None)], name=''), Parameter(value=331.0, name='bilayer - volume_heads', vary=False, bounds=Interval(lb=-np.inf, ub=np.inf), constraint=None), Parameter(value=10.912605618527111, name='bilayer - thickness_heads', vary=True, bounds=Interval(lb=9, ub=15), constraint=None), SLD([Parameter(value=-0.00026624000000000005, name='bilayer - b_tails_real', vary=False, bounds=Interval(lb=-np.inf, ub=np.inf), constraint=None), Parameter(value=0.0, name='lower_lipid_pmw - b_tails_imag', vary=False, bounds=Interval(lb=-np.inf, ub=np.inf), constraint=None)], name=''), Parameter(value=940.2, name='bilayer - volume_tails', vary=False, bounds=Interval(lb=-np.inf, ub=np.inf), constraint=None), Parameter(value=7.818052424919595, name='bilayer - thickness_tails', vary=True, bounds=Interval(lb=3, ub=9), constraint=None), Parameter(value=6.959260786712434, name='bilayer - rough_bot', vary=True, bounds=Interval(lb=0, ub=15), constraint=None), Parameter(value=6.959260786712434, name='bilayer - rough_bot', vary=True, bounds=Interval(lb=0, ub=15), constraint=None), head_solvent=SLD([Parameter(value=1.8304730261673408, name='Protein Matched Water - sld', vary=True, bounds=Interval(lb=1.35, ub=3.35), constraint=None), Parameter(value=0.0, name='Protein Matched Water - isld', vary=False, bounds=Interval(lb=-np.inf, ub=np.inf), constraint=None)], name=''), tail_solvent=None, reverse_monolayer=True, name='lower_lipid_pmw')\n",
      "________________________________________________________________________________\n",
      "Parameters: 'Protein Matched Water'\n",
      "<Parameter:'thickness_solution', value=15.4524 +/- 2.59 , bounds=[6, 20]>\n",
      "<Parameter:'Protein Matched Water - sld', value=1.83047 +/- 0.00436, bounds=[1.35, 3.35]>\n",
      "<Parameter:'Protein Matched Water - isld', value=0 (fixed)  , bounds=[-inf, inf]>\n",
      "<Parameter:'rough_preceding_solution', value=12.3385 +/- 1.03 , bounds=[0, 20]>\n",
      "<Parameter:'Protein Matched Water - volfrac solvent', value=0 (fixed)  , bounds=[-inf, inf]>\n"
     ]
    }
   ],
   "source": [
    "print(structure_pmw)"
   ]
  },
  {
   "cell_type": "code",
   "execution_count": 16,
   "metadata": {},
   "outputs": [
    {
     "name": "stdout",
     "output_type": "stream",
     "text": [
      "[[ 0.00000000e+00  0.00000000e+00  0.00000000e+00  0.00000000e+00\n",
      "   0.00000000e+00]\n",
      " [ 1.54523679e+01  5.64063208e+00  0.00000000e+00  1.23384959e+01\n",
      "   0.00000000e+00]\n",
      " [ 1.09126056e+01  1.07520800e+00  5.18654598e-09  5.48619062e+00\n",
      "   0.00000000e+00]\n",
      " [ 7.81805242e+00 -2.54441780e-01  0.00000000e+00  5.48619062e+00\n",
      "   4.85026247e-03]\n",
      " [ 7.81805242e+00 -2.54441780e-01  0.00000000e+00  5.48619062e+00\n",
      "   4.85026247e-03]\n",
      " [ 1.09126056e+01  1.07520800e+00  5.18654598e-09  5.48619062e+00\n",
      "   0.00000000e+00]\n",
      " [ 1.54523679e+01  5.64063208e+00  0.00000000e+00  1.23384959e+01\n",
      "   0.00000000e+00]]\n"
     ]
    }
   ],
   "source": [
    "print(structure_d2o.slabs())"
   ]
  },
  {
   "cell_type": "code",
   "execution_count": 17,
   "metadata": {},
   "outputs": [
    {
     "name": "stdout",
     "output_type": "stream",
     "text": [
      "[[ 0.00000000e+00  0.00000000e+00  0.00000000e+00  0.00000000e+00\n",
      "   0.00000000e+00]\n",
      " [ 1.54523679e+01  1.83047303e+00  0.00000000e+00  1.23384959e+01\n",
      "   0.00000000e+00]\n",
      " [ 1.09126056e+01  6.71246851e-01  5.18654598e-09  6.95926079e+00\n",
      "   0.00000000e+00]\n",
      " [ 7.81805242e+00 -2.72922051e-01  0.00000000e+00  6.95926079e+00\n",
      "   4.85026247e-03]\n",
      " [ 7.81805242e+00 -2.72922051e-01  0.00000000e+00  6.95926079e+00\n",
      "   4.85026247e-03]\n",
      " [ 1.09126056e+01  6.71246851e-01  5.18654598e-09  6.95926079e+00\n",
      "   0.00000000e+00]\n",
      " [ 1.54523679e+01  1.83047303e+00  0.00000000e+00  1.23384959e+01\n",
      "   0.00000000e+00]]\n"
     ]
    }
   ],
   "source": [
    "print(structure_pmw.slabs())"
   ]
  },
  {
   "cell_type": "code",
   "execution_count": 18,
   "metadata": {},
   "outputs": [],
   "source": [
    "if choose==2:\n",
    "    # span = [(0,5000),(0,1.5),(0,0.4),(-10**3,10**3)] #span=span\n",
    "    fig, axes = dyplot.runplot(res1, color='black', mark_final_live=False,\n",
    "                               logplot=False)"
   ]
  },
  {
   "cell_type": "code",
   "execution_count": 19,
   "metadata": {},
   "outputs": [],
   "source": [
    "if choose==2:\n",
    "    print(-min(res1[\"logvol\"])) # ?"
   ]
  },
  {
   "cell_type": "code",
   "execution_count": 20,
   "metadata": {},
   "outputs": [
    {
     "data": {
      "text/plain": [
       "[['bkg', 2.847381472657008e-06],\n",
       " ['thickness_solution', 15.452367929259324],\n",
       " ['D2O - sld', 5.640632078668706],\n",
       " ['rough_preceding_solution', 12.338495874465469],\n",
       " ['bilayer - area_per_molecule', 120.84626598418028],\n",
       " ['bilayer - thickness_heads', 10.912605618527111],\n",
       " ['bilayer - thickness_tails', 7.818052424919595],\n",
       " ['bilayer - rough_top', 5.486190624140487],\n",
       " ['bilayer - Waters Per Head', 1.9440308241297026],\n",
       " ['bkg', 4.263503108298631e-06],\n",
       " ['Protein Matched Water - sld', 1.8304730261673408],\n",
       " ['bilayer - rough_bot', 6.959260786712434]]"
      ]
     },
     "execution_count": 20,
     "metadata": {},
     "output_type": "execute_result"
    }
   ],
   "source": [
    "#gobjective.varying_parameters()\n",
    "[[param.name,param.value] for param in gobjective.varying_parameters()]"
   ]
  },
  {
   "cell_type": "markdown",
   "metadata": {},
   "source": [
    "I believe correct values, leaflet roughness between head and tail is the same as the roughness preceeding the leaflet\\\n",
    "class used is a modified version of the LipidLeaflet class native to refnx, its in the file\\\n",
    "\"lipidBilayerAsGiven\" and called \"LipidLeaflet_WaterPer_builtOn2\"\\\n",
    "volumes of head and tails are indirectly varied by changes in waters per head/tail\\\n",
    "so the tails do not change volume\\\n",
    "1 'scale',\\\n",
    "2 'bkg',\\\n",
    "3 'mono, dodab - area_per_molecule',\\\n",
    "4 'mono, dodab - thickness heads',\\\n",
    "5 'mono, dodab - thickness_tails',\\\n",
    "6 'mono, dodab - roughness',\\\n",
    "7 'mono, dodab - D2O in head - sld',\\\n",
    "8 'mono, dodab Waters Per Head',\\\n",
    "9 'D2O - sld',\\\n",
    "10 'bilayer - area_per_molecule',\\\n",
    "11 'bilayer - thickness_heads',\\\n",
    "12 'bilayer - thickness_tails',\\\n",
    "13 'bilayer - rough_top',\\\n",
    "14 'D2O in bilayer - sld',\\\n",
    "15 'bilayer Waters Per Head',\\\n",
    "16 'scale',\\\n",
    "17 'bkg',\\\n",
    "18 'mono, dodab - Protein Matched Water in head - sld',\\\n",
    "19 'Protein Matched Water - sld',\\\n",
    "20 'bilayer - rough_bot',\\\n",
    "21 'Protein Matched Water in bilayer - sld'"
   ]
  },
  {
   "cell_type": "code",
   "execution_count": 21,
   "metadata": {
    "scrolled": true
   },
   "outputs": [],
   "source": [
    "if choose==2:\n",
    "    labels = [param.name for param in gobjective.varying_parameters()]\n",
    "\n",
    "    fig, axes = dyplot.traceplot(res1, labels = labels, #truths=np.zeros(fitter.nDim()),\n",
    "                                 show_titles=True, trace_cmap='plasma',\n",
    "                                 quantiles=[0.025, 0.5, 0.975])\n",
    "    fig.tight_layout()"
   ]
  },
  {
   "cell_type": "code",
   "execution_count": 22,
   "metadata": {},
   "outputs": [],
   "source": [
    "if choose==2:\n",
    "    labels = [param.name for param in gobjective.varying_parameters()]\n",
    "\n",
    "    fig, axes = dyplot.cornerpoints(res1, labels = labels#, #truths=np.zeros(fitter.nDim()),\n",
    "                                 #show_titles=True,\n",
    "                                 #trace_cmap='plasma',\n",
    "                                 #quantiles=[0.025, 0.5, 0.975]\n",
    "                                   )\n",
    "    fig.tight_layout()"
   ]
  },
  {
   "cell_type": "code",
   "execution_count": null,
   "metadata": {},
   "outputs": [],
   "source": []
  }
 ],
 "metadata": {
  "kernelspec": {
   "display_name": "Python 3",
   "language": "python",
   "name": "python3"
  },
  "language_info": {
   "codemirror_mode": {
    "name": "ipython",
    "version": 3
   },
   "file_extension": ".py",
   "mimetype": "text/x-python",
   "name": "python",
   "nbconvert_exporter": "python",
   "pygments_lexer": "ipython3",
   "version": "3.7.3"
  }
 },
 "nbformat": 4,
 "nbformat_minor": 2
}
