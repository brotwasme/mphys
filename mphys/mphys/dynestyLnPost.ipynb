{
 "cells": [
  {
   "cell_type": "code",
   "execution_count": null,
   "metadata": {},
   "outputs": [],
   "source": [
    "import os.path\n",
    "import numpy as np\n",
    "import matplotlib.pyplot as plt\n",
    "import scipy\n",
    "import refnx\n",
    "from refnx.dataset import ReflectDataset, Data1D\n",
    "from refnx.analysis import Transform, CurveFitter, Objective, Model, Parameter\n",
    "from refnx.reflect import SLD, Slab, ReflectModel\n",
    "from sepObjective import getObjective as gO\n",
    "from dynesty import DynamicNestedSampler\n",
    "from dynesty import plotting as dyplot\n",
    "from CFitter import CFitter\n",
    "import make_sim_data as msd\n",
    "print('refnx: %s\\nscipy: %s\\nnumpy: %s' % (refnx.version.version,\n",
    "                   scipy.version.version, np.version.version))\n"
   ]
  },
  {
   "cell_type": "code",
   "execution_count": null,
   "metadata": {},
   "outputs": [],
   "source": [
    "def aPlotter(res, interestingNo, spacesize, figI):\n",
    "    print(figI)\n",
    "    # no = -1000\n",
    "    # slc = slice(no-1000,no)\n",
    "    useAbleLow=0.1\n",
    "    useAbleHigh=10.\n",
    "    xall=np.linspace(0,spacesize,len(res[\"logz\"]))\n",
    "    print(\"len\",len(res[\"logz\"]), \"space size\", spacesize)\n",
    "    useable=np.transpose(np.array([[x,y] for y,x in zip(res[\"logz\"],xall) if np.exp(y)>useAbleLow and np.exp(y)<=useAbleHigh]))\n",
    "    # print(len(res[\"logz\"]),res[\"logz\"][slc])#summary()\n",
    "    interesting = np.transpose(np.array([[x,y] for y,x in zip(res[\"logz\"],xall) if x>=float(interestingNo)]))#.reshape((2,-2))\n",
    "    print(\"len 2\", len(interesting[0]), len(interesting), interesting[0,:3])\n",
    "    print(\"logz max: \",max(res[\"logz\"]),\",min: \",min(res[\"logz\"]))\n",
    "    print(\"z max: \",max(np.exp(res[\"logz\"])),\",min: \",min(np.exp(res[\"logz\"])))\n",
    "#     print(res[\"logz\"][:5],interesting[1,:5],useable[1,:5])\n",
    "    # print(\"interesting\")\n",
    "#     xall=np.linspace(0,spacesize,len(res[\"logz\"]))\n",
    "#     xusable=np.linspace(0,spacesize,len(useable))\n",
    "    plt.figure(figI)\n",
    "    figI+=1\n",
    "    plt.plot(xall,res[\"logz\"])\n",
    "    plt.title(\"ln(evidence) log scaled vs -ln(X)\")\n",
    "    # plt.yscale(\"log\")\n",
    "    plt.figure(figI)\n",
    "    figI+=1\n",
    "    plt.plot(interesting[0],interesting[1])\n",
    "    plt.title(r\"interesting values ln(evidence)  vs -ln(X) $\\geq %d$\" % interestingNo)\n",
    "    if len(useable)>=2:\n",
    "        plt.figure(figI)\n",
    "        figI+=1\n",
    "        plt.plot(useable[0],useable[1])\n",
    "        plt.title(r\"usful values ln(%.3f<evidence $\\leq$ %.3f)  vs -ln(X)\"%(useAbleLow,useAbleHigh))\n",
    "    print(figI)\n",
    "    return figI"
   ]
  },
  {
   "cell_type": "code",
   "execution_count": null,
   "metadata": {},
   "outputs": [],
   "source": [
    "figI = 0\n",
    "# simple structure\n",
    "thicks_true = [10,120,100,130,10]\n",
    "bs_true = [0,5,4.5,5,10]\n",
    "roughs_true = [0,0,0,0,0]\n",
    "# bs = [5,4.5,5]\n",
    "# thicks = [120,100,130]\n",
    "# roughs = [0,0,0]\n",
    "bs = bs_true\n",
    "thicks = thicks_true\n",
    "roughs = roughs_true\n",
    "loss = 1.\n",
    "no_layers = len(bs)\n",
    "no_layers = len(bs_true)\n",
    "# no_layers = 3\n",
    "layers = []\n",
    "names = []\n",
    "#names = ['layer1','layer2']\n",
    "for i in range(no_layers):\n",
    "    names.append('layer'+str(i))\n",
    "for i in range(no_layers):\n",
    "        sld = SLD(bs[i],name=names[i])\n",
    "        layers.append(sld(thicks[i],roughs[i]))\n",
    "structure = layers[0]\n",
    "for layer in layers[1:]:\n",
    "    structure|=layer\n",
    "print(\"done\")"
   ]
  },
  {
   "cell_type": "code",
   "execution_count": null,
   "metadata": {},
   "outputs": [],
   "source": [
    "%matplotlib inline\n",
    "plt.rcParams['figure.figsize'] = [9.5, 6]\n",
    "#notebook\n",
    "plt.figure(figI)\n",
    "figI+=1\n",
    "plt.plot(*structure.sld_profile())\n",
    "plt.ylabel('SLD /$10^{-6} \\AA^{-2}$')\n",
    "plt.xlabel('distance / $\\AA$');\n",
    "print(\"done\")"
   ]
  },
  {
   "cell_type": "code",
   "execution_count": null,
   "metadata": {},
   "outputs": [],
   "source": [
    "resolution = 5.\n",
    "model = ReflectModel(structure, bkg=3e-6, dq=resolution)"
   ]
  },
  {
   "cell_type": "code",
   "execution_count": null,
   "metadata": {},
   "outputs": [],
   "source": [
    "q = np.linspace(0.005, 0.3, 1001)\n",
    "plt.figure(figI)\n",
    "figI+=1\n",
    "R = model(q, x_err=resolution)\n",
    "plt.plot(q, R)\n",
    "plt.xlabel('Q')\n",
    "plt.ylabel('Reflectivity')\n",
    "plt.yscale('log')\n",
    "sim_dR = msd.main(sim_q=q,sim_R=R)*10\n",
    "R = model(q, x_err=resolution)\n",
    "plt.errorbar(q,R,sim_dR, alpha=0.4)"
   ]
  },
  {
   "cell_type": "code",
   "execution_count": null,
   "metadata": {},
   "outputs": [],
   "source": [
    "data = Data1D(data= (q,R,sim_dR))"
   ]
  },
  {
   "cell_type": "code",
   "execution_count": null,
   "metadata": {},
   "outputs": [],
   "source": [
    "objective = gO(data, 3)\n",
    "fitter = CFitter(objective)\n",
    "DNSampler = DynamicNestedSampler(fitter.logl, fitter.priorTransform, fitter.nDim())\n",
    "DNSampler.run_nested(dlogz_init=1)#0.01)\n",
    "res3 = DNSampler.results"
   ]
  },
  {
   "cell_type": "code",
   "execution_count": null,
   "metadata": {},
   "outputs": [],
   "source": [
    "fig, ax = objective.plot()\n",
    "figI+=1\n",
    "plt.figure(figI)\n",
    "figI+=1\n",
    "plt.plot(*structure.sld_profile())\n",
    "plt.ylabel('SLD /$10^{-6} \\AA^{-2}$')\n",
    "plt.xlabel('distance / $\\AA$');"
   ]
  },
  {
   "cell_type": "code",
   "execution_count": null,
   "metadata": {},
   "outputs": [],
   "source": [
    "span = [(0,5000),(0,1.5),(0,0.4),(10**0,10**1)]\n",
    "fig, axes = dyplot.runplot(res3,span=span, color='black', mark_final_live=False,\n",
    "                           logplot=False)\n",
    "fig.tight_layout()"
   ]
  },
  {
   "cell_type": "code",
   "execution_count": null,
   "metadata": {},
   "outputs": [],
   "source": [
    "figI = aPlotter(res3, 19, 35, figI)"
   ]
  },
  {
   "cell_type": "code",
   "execution_count": null,
   "metadata": {},
   "outputs": [],
   "source": [
    "fig, axes = dyplot.traceplot(res3, truths=np.zeros(fitter.nDim()),\n",
    "                             show_titles=True, trace_cmap='plasma',\n",
    "                             quantiles=None)\n",
    "fig.tight_layout()"
   ]
  },
  {
   "cell_type": "markdown",
   "metadata": {},
   "source": [
    "log Posterior\n",
    "possibly using basic calsulations\n",
    "could use fitter to store logl for this"
   ]
  },
  {
   "cell_type": "code",
   "execution_count": null,
   "metadata": {},
   "outputs": [],
   "source": [
    "# lnPost1 = res3[\"logl\"]+res3[\"\"] - res3[\"logz\"]"
   ]
  },
  {
   "cell_type": "markdown",
   "metadata": {},
   "source": [
    "log Posterior Estimation\n",
    "using importance weights \n",
    "https://dynesty.readthedocs.io/en/latest/overview.html#bayesian-inference"
   ]
  },
  {
   "cell_type": "code",
   "execution_count": null,
   "metadata": {},
   "outputs": [],
   "source": [
    "lnPost2 = np.array(res3[\"logwt\"]) - np.array(res3[\"logz\"])\n",
    "print(lnPost2, sum(lnPost2))"
   ]
  }
 ],
 "metadata": {
  "kernelspec": {
   "display_name": "Python 3",
   "language": "python",
   "name": "python3"
  },
  "language_info": {
   "codemirror_mode": {
    "name": "ipython",
    "version": 3
   },
   "file_extension": ".py",
   "mimetype": "text/x-python",
   "name": "python",
   "nbconvert_exporter": "python",
   "pygments_lexer": "ipython3",
   "version": "3.7.3"
  }
 },
 "nbformat": 4,
 "nbformat_minor": 2
}
