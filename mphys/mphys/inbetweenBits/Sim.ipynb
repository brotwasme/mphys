{
 "cells": [
  {
   "cell_type": "code",
   "execution_count": 1,
   "metadata": {},
   "outputs": [
    {
     "name": "stdout",
     "output_type": "stream",
     "text": "refnx: 0.1.9\nscipy: 1.3.0\nnumpy: 1.16.4\n"
    }
   ],
   "source": [
    "import os.path\n",
    "import numpy as np\n",
    "import matplotlib.pyplot as plt\n",
    "import scipy\n",
    "import refnx\n",
    "from refnx.dataset import ReflectDataset, Data1D\n",
    "from refnx.analysis import Transform, CurveFitter, Objective, Model, Parameter\n",
    "from refnx.reflect import SLD, Slab, ReflectModel\n",
    "# from sepObjectiveGO import getObjective as gO\n",
    "from dynesty import DynamicNestedSampler\n",
    "from dynesty import plotting as dyplot\n",
    "import data_in as di\n",
    "# from CFitter import CFitter\n",
    "# import make_sim_data as msd\n",
    "print('refnx: %s\\nscipy: %s\\nnumpy: %s' % (refnx.version.version,\n",
    "                   scipy.version.version, np.version.version))\n"
   ]
  },
  {
   "cell_type": "code",
   "execution_count": 2,
   "metadata": {},
   "outputs": [],
   "source": [
    "def min_interesting_lnX(res):\n",
    "    returns = None\n",
    "    for lnX, logz in zip(res[\"logvol\"], res['logz']):\n",
    "        if logz >= 0.:\n",
    "            break\n",
    "        else:\n",
    "            returns = -lnX\n",
    "#     returns = min([-lnX for lnX, wt in zip(res[\"logvol\"], np.exp(res['logwt'] - res['logz'][-1])) if wt>0])\n",
    "    return returns\n",
    "\n",
    "# maxLength = 350\n",
    "def logp_extra(model, data=None):\n",
    "    returns = 0\n",
    "    if sum(model.structure.slabs()[1:-1,0])>maxLength:\n",
    "        returns = -np.inf\n",
    "    return returns"
   ]
  },
  {
   "cell_type": "code",
   "execution_count": 3,
   "metadata": {},
   "outputs": [
    {
     "ename": "FileNotFoundError",
     "evalue": "[Errno 2] No such file or directory: 'lipidBilayerData/54696_97_edit.txt'",
     "output_type": "error",
     "traceback": [
      "\u001b[1;31m---------------------------------------------------------------------------\u001b[0m",
      "\u001b[1;31mFileNotFoundError\u001b[0m                         Traceback (most recent call last)",
      "\u001b[1;32m<ipython-input-3-d347732752b8>\u001b[0m in \u001b[0;36m<module>\u001b[1;34m\u001b[0m\n\u001b[0;32m      1\u001b[0m \u001b[1;31m# data = helper.get_data('./data/bilayer/',\u001b[0m\u001b[1;33m\u001b[0m\u001b[1;33m\u001b[0m\u001b[1;33m\u001b[0m\u001b[0m\n\u001b[0;32m      2\u001b[0m \u001b[1;31m#                            ['54696_97_edit.txt', '54699_00_edit.txt'])\u001b[0m\u001b[1;33m\u001b[0m\u001b[1;33m\u001b[0m\u001b[1;33m\u001b[0m\u001b[0m\n\u001b[1;32m----> 3\u001b[1;33m \u001b[0mdata1\u001b[0m \u001b[1;33m=\u001b[0m \u001b[0mdi\u001b[0m\u001b[1;33m.\u001b[0m\u001b[0mdata_in\u001b[0m\u001b[1;33m(\u001b[0m\u001b[1;34m\"lipidBilayerData/54696_97_edit.txt\"\u001b[0m\u001b[1;33m)\u001b[0m\u001b[1;33m\u001b[0m\u001b[1;33m\u001b[0m\u001b[0m\n\u001b[0m\u001b[0;32m      4\u001b[0m \u001b[0mdata2\u001b[0m\u001b[1;33m=\u001b[0m \u001b[0mdi\u001b[0m\u001b[1;33m.\u001b[0m\u001b[0mdata_in\u001b[0m\u001b[1;33m(\u001b[0m\u001b[1;34m\"lipidBilayerData/54699_00_edit.txt\"\u001b[0m\u001b[1;33m)\u001b[0m\u001b[1;33m\u001b[0m\u001b[1;33m\u001b[0m\u001b[0m\n\u001b[0;32m      5\u001b[0m \u001b[0md2o\u001b[0m \u001b[1;33m=\u001b[0m \u001b[0mSLD\u001b[0m\u001b[1;33m(\u001b[0m\u001b[1;36m6.07\u001b[0m\u001b[1;33m,\u001b[0m \u001b[1;34m\"D2O\"\u001b[0m\u001b[1;33m)\u001b[0m\u001b[1;33m\u001b[0m\u001b[1;33m\u001b[0m\u001b[0m\n",
      "\u001b[1;32mc:\\Users\\John\\Documents\\programing\\mphys\\lipid bilayer as given\\data_in.py\u001b[0m in \u001b[0;36mdata_in\u001b[1;34m(file)\u001b[0m\n\u001b[0;32m     34\u001b[0m \u001b[1;32mdef\u001b[0m \u001b[0mdata_in\u001b[0m\u001b[1;33m(\u001b[0m\u001b[0mfile\u001b[0m\u001b[1;33m)\u001b[0m\u001b[1;33m:\u001b[0m\u001b[1;33m\u001b[0m\u001b[1;33m\u001b[0m\u001b[0m\n\u001b[0;32m     35\u001b[0m     \u001b[0mdata\u001b[0m \u001b[1;33m=\u001b[0m \u001b[1;33m[\u001b[0m\u001b[1;33m]\u001b[0m\u001b[1;33m\u001b[0m\u001b[1;33m\u001b[0m\u001b[0m\n\u001b[1;32m---> 36\u001b[1;33m     \u001b[0mcheck\u001b[0m \u001b[1;33m=\u001b[0m \u001b[0mcheck_csv\u001b[0m\u001b[1;33m(\u001b[0m\u001b[0mfile\u001b[0m\u001b[1;33m)\u001b[0m\u001b[1;33m\u001b[0m\u001b[1;33m\u001b[0m\u001b[0m\n\u001b[0m\u001b[0;32m     37\u001b[0m     \u001b[1;32mif\u001b[0m \u001b[0mcheck\u001b[0m\u001b[1;33m:\u001b[0m\u001b[1;33m\u001b[0m\u001b[1;33m\u001b[0m\u001b[0m\n\u001b[0;32m     38\u001b[0m         \u001b[0mdata\u001b[0m \u001b[1;33m=\u001b[0m \u001b[0mwith_csv\u001b[0m\u001b[1;33m(\u001b[0m\u001b[0mfile\u001b[0m\u001b[1;33m)\u001b[0m\u001b[1;33m\u001b[0m\u001b[1;33m\u001b[0m\u001b[0m\n",
      "\u001b[1;32mc:\\Users\\John\\Documents\\programing\\mphys\\lipid bilayer as given\\data_in.py\u001b[0m in \u001b[0;36mcheck_csv\u001b[1;34m(file)\u001b[0m\n\u001b[0;32m      6\u001b[0m     \u001b[0mdata\u001b[0m \u001b[1;33m=\u001b[0m \u001b[1;33m[\u001b[0m\u001b[1;33m]\u001b[0m\u001b[1;33m\u001b[0m\u001b[1;33m\u001b[0m\u001b[0m\n\u001b[0;32m      7\u001b[0m     \u001b[0manswer\u001b[0m \u001b[1;33m=\u001b[0m \u001b[1;32mTrue\u001b[0m\u001b[1;33m\u001b[0m\u001b[1;33m\u001b[0m\u001b[0m\n\u001b[1;32m----> 8\u001b[1;33m     \u001b[1;32mwith\u001b[0m \u001b[0mopen\u001b[0m\u001b[1;33m(\u001b[0m\u001b[0mfile\u001b[0m\u001b[1;33m,\u001b[0m \u001b[1;34m'r'\u001b[0m\u001b[1;33m)\u001b[0m \u001b[1;32mas\u001b[0m \u001b[0mdata_file\u001b[0m\u001b[1;33m:\u001b[0m\u001b[1;33m\u001b[0m\u001b[1;33m\u001b[0m\u001b[0m\n\u001b[0m\u001b[0;32m      9\u001b[0m         \u001b[0mdata\u001b[0m \u001b[1;33m=\u001b[0m \u001b[0mdata_file\u001b[0m\u001b[1;33m.\u001b[0m\u001b[0mread\u001b[0m\u001b[1;33m(\u001b[0m\u001b[1;33m)\u001b[0m\u001b[1;33m\u001b[0m\u001b[1;33m\u001b[0m\u001b[0m\n\u001b[0;32m     10\u001b[0m         \u001b[1;32mif\u001b[0m \u001b[1;34m','\u001b[0m \u001b[1;32min\u001b[0m \u001b[0mdata\u001b[0m\u001b[1;33m:\u001b[0m\u001b[1;33m\u001b[0m\u001b[1;33m\u001b[0m\u001b[0m\n",
      "\u001b[1;31mFileNotFoundError\u001b[0m: [Errno 2] No such file or directory: 'lipidBilayerData/54696_97_edit.txt'"
     ]
    }
   ],
   "source": [
    "# data = helper.get_data('./data/bilayer/',\n",
    "#                            ['54696_97_edit.txt', '54699_00_edit.txt'])\n",
    "data1 = di.data_in(\"lipidBilayerData/54696_97_edit.txt\")\n",
    "data2= di.data_in(\"lipidBilayerData/54699_00_edit.txt\")\n",
    "d2o = SLD(6.07, \"D2O\")\n",
    "pmw = SLD(2.35, \"Protein Matched Water\")\n",
    "air = SLD(0.00, \"Air\")\n",
    "\n",
    "bilayer_d2o = bl.Bilayer(d2o)\n",
    "bilayer_pmw = bl.Bilayer(pmw)\n",
    "#bilayer_d2o2 = bl.Bilayer(d2o, name=\"Bilayer2\")\n",
    "#bilayer_pmw2 = bl.Bilayer(pmw, name=\"Bilayer2\")\n",
    "dodab_d2o = ml.Dodab(d2o)\n",
    "dodab_pmw = ml.Dodab(pmw)\n",
    "\n",
    "structure_d2o = air(0, 0) | dodab_d2o | d2o(\n",
    "0, 0) | bilayer_d2o | d2o(0, 0) #| bilayer_d2o2 | d2o(0, 0)\n",
    "structure_pmw = air(0, 0) | dodab_pmw | pmw(\n",
    "0, 0) | bilayer_pmw | pmw(0, 0) #| bilayer_pmw2 | pmw(0, 0)\n",
    "\n",
    "d2o.real.setp(6.07, vary=True, bounds=(5.35, 6.35))\n",
    "pmw.real.setp(2.34, vary=True, bounds=(1.35, 3.35))\n",
    "# #bilayer_d2o2.presence.setp(0.5, vary=True, bounds=(0.01, 0.99))\n",
    "# #bilayer_pmw2.presence.setp(constraint=bilayer_d2o2.presence)\n",
    "\n",
    "# # All of the necessary constraints for the model\n",
    "# bilayer_d2o.popg.water_per_lipid_head.constraint = (\n",
    "# bilayer_d2o.popc.water_per_lipid_head)\n",
    "# bilayer_pmw.popg.water_per_lipid_head.constraint = (\n",
    "# bilayer_d2o.popc.water_per_lipid_head)\n",
    "# bilayer_pmw.popc.water_per_lipid_head.constraint = (\n",
    "# bilayer_d2o.popc.water_per_lipid_head)\n",
    "\n",
    "structure_d2o[2].thick.setp(14.3, vary=True, bounds=(6, 20))\n",
    "# # structure_d2o[4].thick.setp(14.3, vary=True, bounds=(4, 40))\n",
    "structure_d2o[2].rough.setp(4.6, vary=True, bounds=(3, 20))\n",
    "# #structure_d2o[4].rough.setp(4.6, vary=True, bounds=(3, 20))\n",
    "\n",
    "# structure_pmw[2].thick.constraint = structure_d2o[2].thick\n",
    "# structure_pmw[2].rough.constraint = structure_d2o[2].rough\n",
    "\n",
    "# #structure_pmw[4].thick.constraint = structure_d2o[4].thick\n",
    "# #structure_pmw[4].rough.constraint = structure_d2o[4].rough\n",
    "\n",
    "# bilayer_d2o.popc.s_sld.constraint = d2o.real\n",
    "# bilayer_d2o.popg.s_sld.constraint = d2o.real\n",
    "# bilayer_pmw.popc.s_sld.constraint = d2o.real\n",
    "# bilayer_pmw.popg.s_sld.constraint = pmw.real\n",
    "# dodab_d2o.roughness.constraint = structure_d2o[2].rough\n",
    "# dodab_pmw.roughness.constraint = structure_d2o[2].rough\n",
    "# dodab_d2o.apm.constraint = dodab_pmw.apm\n",
    "# dodab_d2o.water_per_lipid_head.constraint = dodab_pmw.water_per_lipid_head\n",
    "# bilayer_d2o.roughness_bottom.constraint = bilayer_d2o.roughness_top\n",
    "# bilayer_pmw.roughness_top.constraint = bilayer_d2o.roughness_top\n",
    "# bilayer_pmw.roughness_bottom.constraint = bilayer_d2o.roughness_top\n",
    "# structure_d2o[-1].rough.constraint = bilayer_d2o.roughness_bottom\n",
    "# structure_pmw[-1].rough.constraint = bilayer_d2o.roughness_bottom\n",
    "# bilayer_pmw.apm.constraint = bilayer_d2o.apm\n",
    "\n",
    "# #bilayer_d2o2.popc.s_sld.constraint = d2o.real\n",
    "# #bilayer_d2o2.popg.s_sld.constraint = d2o.real\n",
    "# #bilayer_pmw2.popc.s_sld.constraint = d2o.real\n",
    "# #bilayer_pmw2.popg.s_sld.constraint = pmw.real\n",
    "# #bilayer_d2o2.roughness_top.constraint = bilayer_d2o.roughness_top\n",
    "# #bilayer_d2o2.roughness_bottom.constraint = bilayer_d2o.roughness_top\n",
    "# #bilayer_pmw2.roughness_top.constraint = bilayer_d2o.roughness_top\n",
    "# #bilayer_pmw2.roughness_bottom.constraint = bilayer_d2o.roughness_top\n",
    "# #bilayer_pmw2.apm.constraint = bilayer_d2o.apm\n",
    "# #bilayer_d2o2.apm.constraint = bilayer_d2o.apm\n",
    "# #bilayer_d2o2.popg.water_per_lipid_head.constraint = (\n",
    "# #    bilayer_d2o.popc.water_per_lipid_head)\n",
    "# #bilayer_d2o2.popc.water_per_lipid_head.constraint = (\n",
    "\n",
    "# #    bilayer_d2o.popc.water_per_lipid_head)\n",
    "# #bilayer_pmw2.popg.water_per_lipid_head.constraint = (\n",
    "# #    bilayer_d2o.popc.water_per_lipid_head)\n",
    "# #bilayer_pmw2.popc.water_per_lipid_head.constraint = (\n",
    "# #    bilayer_d2o.popc.water_per_lipid_head)\n"
   ]
  },
  {
   "cell_type": "code",
   "execution_count": null,
   "metadata": {},
   "outputs": [],
   "source": []
  },
  {
   "cell_type": "code",
   "execution_count": null,
   "metadata": {},
   "outputs": [],
   "source": []
  }
 ],
 "metadata": {
  "kernelspec": {
   "display_name": "Python 3",
   "language": "python",
   "name": "python3"
  },
  "language_info": {
   "codemirror_mode": {
    "name": "ipython",
    "version": 3
   },
   "file_extension": ".py",
   "mimetype": "text/x-python",
   "name": "python",
   "nbconvert_exporter": "python",
   "pygments_lexer": "ipython3",
   "version": "3.7.3-final"
  }
 },
 "nbformat": 4,
 "nbformat_minor": 2
}