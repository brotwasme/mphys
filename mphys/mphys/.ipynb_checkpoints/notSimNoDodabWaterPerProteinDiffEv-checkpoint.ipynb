{
 "cells": [
  {
   "cell_type": "code",
   "execution_count": 1,
   "metadata": {},
   "outputs": [
    {
     "name": "stdout",
     "output_type": "stream",
     "text": [
      "refnx: 0.1.9\n",
      "scipy: 1.3.0\n",
      "numpy: 1.16.4\n"
     ]
    }
   ],
   "source": [
    "import os.path\n",
    "import numpy as np\n",
    "import matplotlib.pyplot as plt\n",
    "import scipy\n",
    "import refnx\n",
    "from refnx.dataset import ReflectDataset, Data1D\n",
    "from refnx.analysis import Transform, CurveFitter, Objective, Model, Parameter, GlobalObjective\n",
    "from refnx.reflect import SLD, Slab, ReflectModel\n",
    "# from sepObjectiveGO import getObjective as gO\n",
    "# import make_sim_data as msd\n",
    "# import lipidBilayerAsGiven.SLD_maker \n",
    "import data_in as di\n",
    "from protein.LipidLeafletWithProtein_builtOn2 import LipidLeafletWithProtien as LipidLeaflet\n",
    "from protein.protrusion2 import Protrusion\n",
    "\n",
    "print('refnx: %s\\nscipy: %s\\nnumpy: %s' % (refnx.version.version,\n",
    "                   scipy.version.version, np.version.version))\n",
    "%matplotlib inline\n",
    "SEED = 12345"
   ]
  },
  {
   "cell_type": "code",
   "execution_count": 2,
   "metadata": {},
   "outputs": [
    {
     "name": "stdout",
     "output_type": "stream",
     "text": [
      "csv\n",
      "cvs-collecting\n",
      "csv\n",
      "cvs-collecting\n",
      "csv\n",
      "cvs-collecting\n"
     ]
    },
    {
     "data": {
      "image/png": "[encoded data removed]",
      "text/plain": [
       "<Figure size 432x288 with 1 Axes>"
      ]
     },
     "metadata": {
      "needs_background": "light"
     },
     "output_type": "display_data"
    }
   ],
   "source": [
    "# dataD2o = Data1D(data=di.data_in(\"lipidBilayerData/54696_97_edit.txt\"))\n",
    "# dataD2o.name=\"d2o\"\n",
    "# dataPmw = Data1D(data=di.data_in(\"lipidBilayerData/54699_00_edit.txt\"))\n",
    "# dataPmw.name=\"pmw\"\n",
    "\n",
    "dataAcmw = Data1D(data=di.data_in(\"protein/54613_14edit.txt\"))\n",
    "dataAcmw.name=\"acm\"\n",
    "dataPmw = Data1D(data=di.data_in(\"protein/54616_17edit.txt\"))\n",
    "dataPmw.name=\"pmw\"\n",
    "dataD2o = Data1D(data=di.data_in(\"protein/10_11_d2o.txt\"))\n",
    "dataD2o.name=\"d2o\"\n",
    "plt.errorbar(dataAcmw.data[0],dataAcmw.data[1],dataAcmw.data[2])\n",
    "plt.errorbar(dataPmw.data[0],dataPmw.data[1],dataPmw.data[2])\n",
    "plt.errorbar(dataD2o.data[0],dataD2o.data[1],dataD2o.data[2])\n",
    "plt.yscale(\"log\")\n",
    "plt.show()"
   ]
  },
  {
   "cell_type": "code",
   "execution_count": 3,
   "metadata": {},
   "outputs": [],
   "source": [
    "name = \"bilayer\"\n",
    "\n",
    "d2o = SLD(6.34, \"D2O\")\n",
    "pmw = SLD(2.35, \"Protein Matched Water\")\n",
    "acmw = SLD(0.00, \"ACMW\")\n",
    "air = SLD(0.00, \"Air\")\n",
    "\n",
    "d2o.real.setp(vary=True, bounds=(5.35, 6.35)) # bounds=(5.9, 6.35))\n",
    "pmw.real.setp(vary=True, bounds=(1.35, 3.35))\n",
    "acmw.real.setp(vary=True, bounds=(-0.56, 1))\n",
    "\n",
    "apm = Parameter(value=101, name='%s - area_per_molecule' % name,\n",
    "                bounds=(100, 200), vary=True)\n",
    "\n",
    "#Define all the neutron b's\n",
    "bc = 0.6646e-4  #Carbon\n",
    "bo = 0.5804e-4  #Oxygen\n",
    "bh = -0.3739e-4 #Hydrogen\n",
    "bp = 0.513e-4   #Phosphorus\n",
    "bn = 0.936e-4   #Nitrogen\n",
    "bd = 0.6671e-4  #Deuterium\n",
    "\n",
    "#Formulae of the molecule sections...\n",
    "CH2 = (1*bc) + (2*bh)\n",
    "CH = (1*bc) + (1*bh)\n",
    "CH3 = (1*bc) + (3*bh)\n",
    "D2O = (2*bd) + (1*bo)\n",
    "H2O = (2*bh) + (1*bo)\n",
    "\n",
    "# Calculate mole fraction of D2O from the bulk SLD..\n",
    "# d2o_molfr = (1/D2O-H2O)*(contrast*27.64)-H2O\n",
    "# wMol = (d2o_molfr * D2O) + ((1-d2o_molfr)*H2O)\n",
    "\n",
    "#sum b's of all the different fragments\n",
    "b_tails = Parameter(value=(28*CH2) + (2*CH) + (2*CH3),\n",
    "                       name='%s - b_tails_real' % name)\n",
    "\n",
    "sum_popc_heads = (8*bo) + (1*bp) + (1*bn) + (2*bc) + (4*CH2) + (3*CH3) + (1*CH)\n",
    "sum_popg_heads = (10*bo) + (1*bp) + (2*bc) + (4*CH2) + (2*CH) + (2*bh)\n",
    "b_heads = Parameter(value=(3*(sum_popc_heads) + (sum_popg_heads))/4,\n",
    "                        name='%s - b_heads_real' % name)\n",
    "\n",
    "#monolayer compositions\n",
    "#sum_m_tails = (34*CH2) + (2*CH3);\n",
    "#sum_m_heads = (1*bn) + (2*CH3) + (Waters_per_headD * wMol);\n",
    "\n",
    "#volumes of each fragment\n",
    "vCH2 = 27.7\n",
    "nCH2 = 30\n",
    "vCH3 = 54.6\n",
    "vm_tails = Parameter(value=(nCH2 * vCH2) + (2 * vCH3),\n",
    "            name='%s - volume_tails' % name) #\n",
    "vm_heads = Parameter(value=331,\n",
    "            name='%s - volume_heads' % name)  #\n",
    "vm_water = Parameter(value=29.7,\n",
    "            name='%s - water_vm' % name)\n",
    "\n",
    "#thickness\n",
    "thickness_tails = Parameter(11, # 6., #value=vm_tails.value/apm.value,\n",
    "            name='%s - thickness_tails' % name,\n",
    "            bounds=(1,30),  #3, #(1-0.75)*vm_tails.value/apm.value,\n",
    "                      #9), #(1+0.75)*vm_tails.value/apm.value),\n",
    "               vary=True)\n",
    "thickness_heads = Parameter(value= 6, #11., #vm_heads.value/apm.value,\n",
    "            name='%s - thickness_heads' % name,\n",
    "            bounds=(1,30),  #  9, #(1-0.75)*vm_heads.value/apm.value,\n",
    "                      # 20), #(1+0.75)*vm_heads.value/apm.value),\n",
    "               vary=True)\n",
    "\n",
    "rough_top = Parameter(value=2,\n",
    "            name='%s - roughs' % name,\n",
    "            bounds=(0,10), vary=True)\n",
    "rough_bot = rough_top\n",
    "# rough_bot = Parameter(value=2.0,\n",
    "#             name='%s - rough_bot' % name,\n",
    "#             bounds=(0,10), vary=True)\n",
    "\n",
    "waters_per_head = Parameter(\n",
    "            value=2.8,\n",
    "            name=\"{} - Waters Per Head\".format(name),\n",
    "            bounds=(0, 20), vary=True)\n",
    "\n",
    "waters_per_tail = Parameter(\n",
    "            value=1,\n",
    "            name=\"{} - Waters Per Tail\".format(name),\n",
    "            bounds=(0, 10), vary=True)\n",
    "\n",
    "# b_mscl = Parameter(\n",
    "#             value= ,\n",
    "#             name=\"{} - b_protein_real\".format(name),\n",
    "#             vary=False)\n",
    "\n",
    "vm_mscl = Parameter(\n",
    "            value=74937.5, # + 19749\n",
    "            name=\"{} - volume_protein\".format(name),\n",
    "            vary=False)\n",
    "\n",
    "PLRatio = Parameter(\n",
    "            value= 0.75,\n",
    "            name=\"{} - PLRatio, fraction lipid to protein\".format(name),\n",
    "            bounds=(0.5, 1),vary=True)\n"
   ]
  },
  {
   "cell_type": "code",
   "execution_count": 4,
   "metadata": {},
   "outputs": [],
   "source": [
    "# apm, b_heads, vm_heads, thickness_heads\n",
    "# b_tails, vm_tails, thickness_tails, rough_head_tail\n",
    "# rough_preceding_mono, head_solvent\n",
    "\n",
    "\n",
    "# head_solvent_d2o = SLD(6.07, \"D2O in bilayer\")\n",
    "# head_solvent_d2o.real.setp(6.07, vary=True, bounds=(5.35, 6.35))\n",
    "upper_lipid_d2o = LipidLeaflet(apm, b_heads, vm_heads, thickness_heads,\n",
    "    b_tails, vm_tails, thickness_tails, rough_top, rough_top,\n",
    "    vm_water, waters_per_head, waters_per_tail,\n",
    "    vm_mscl, PLRatio, d2o, d2o,\n",
    "    reverse_monolayer=False, name=\"upper_lipid_d2o\")\n",
    "\n",
    "lower_lipid_d2o = LipidLeaflet(apm, b_heads, vm_heads, thickness_heads,\n",
    "    b_tails, vm_tails, thickness_tails, rough_top, rough_top,\n",
    "    vm_water, waters_per_head, waters_per_tail,\n",
    "    vm_mscl, PLRatio, d2o, d2o,\n",
    "    reverse_monolayer=True, name=\"lower_lipid_d2o\")\n",
    "\n",
    "\n",
    "# head_solvent_pmw = SLD(2.35, \"Protein Matched Water in bilayer\")\n",
    "# head_solvent_pmw.real.setp(2.34, vary=True, bounds=(1.35, 3.35))\n",
    "upper_lipid_pmw = LipidLeaflet(apm, b_heads, vm_heads, thickness_heads,\n",
    "    b_tails, vm_tails, thickness_tails, rough_bot, rough_bot,\n",
    "    vm_water, waters_per_head, waters_per_tail,\n",
    "    vm_mscl, PLRatio, pmw, pmw,\n",
    "    reverse_monolayer=False, name=\"upper_lipid_pmw\")\n",
    "\n",
    "lower_lipid_pmw = LipidLeaflet(apm, b_heads, vm_heads, thickness_heads,\n",
    "    b_tails, vm_tails, thickness_tails, rough_bot, rough_bot,\n",
    "    vm_water, waters_per_head, waters_per_tail,\n",
    "    vm_mscl, PLRatio, pmw, pmw,\n",
    "    reverse_monolayer=True, name=\"lower_lipid_pmw\")\n",
    "\n",
    "\n",
    "upper_lipid_acmw = LipidLeaflet(apm, b_heads, vm_heads, thickness_heads,\n",
    "    b_tails, vm_tails, thickness_tails, rough_bot, rough_bot,\n",
    "    vm_water, waters_per_head, waters_per_tail,\n",
    "    vm_mscl, PLRatio, acmw, acmw,\n",
    "    reverse_monolayer=False, name=\"upper_lipid_acmw\")\n",
    "\n",
    "lower_lipid_acmw = LipidLeaflet(apm, b_heads, vm_heads, thickness_heads,\n",
    "    b_tails, vm_tails, thickness_tails, rough_bot, rough_bot,\n",
    "    vm_water, waters_per_head, waters_per_tail,\n",
    "    vm_mscl, PLRatio, acmw, acmw,\n",
    "    reverse_monolayer=True, name=\"lower_lipid_acmw\")"
   ]
  },
  {
   "cell_type": "code",
   "execution_count": null,
   "metadata": {},
   "outputs": [],
   "source": []
  },
  {
   "cell_type": "code",
   "execution_count": null,
   "metadata": {},
   "outputs": [],
   "source": []
  },
  {
   "cell_type": "code",
   "execution_count": 5,
   "metadata": {
    "scrolled": true
   },
   "outputs": [
    {
     "data": {
      "image/png": "[encoded data removed]",
      "text/plain": [
       "<Figure size 432x288 with 1 Axes>"
      ]
     },
     "metadata": {
      "needs_background": "light"
     },
     "output_type": "display_data"
    },
    {
     "name": "stdout",
     "output_type": "stream",
     "text": [
      "________________________________________________________________________________\n",
      "Parameters: 'Structure - d2o'\n",
      "________________________________________________________________________________\n",
      "Parameters:      'Air'     \n",
      "<Parameter: 'Air - thick' , value=0 (fixed)  , bounds=[-inf, inf]>\n",
      "<Parameter:  'Air - sld'  , value=0 (fixed)  , bounds=[-inf, inf]>\n",
      "<Parameter: 'Air - isld'  , value=0 (fixed)  , bounds=[-inf, inf]>\n",
      "<Parameter: 'Air - rough' , value=0 (fixed)  , bounds=[-inf, inf]>\n",
      "<Parameter:'Air - volfrac solvent', value=0 (fixed)  , bounds=[-inf, inf]>\n",
      "________________________________________________________________________________\n",
      "Parameters:      'D2O'     \n",
      "<Parameter:'thickness_solution', value=14.3          , bounds=[6, 25]>\n",
      "<Parameter:  'D2O - sld'  , value=6.34          , bounds=[5.35, 6.35]>\n",
      "<Parameter: 'D2O - isld'  , value=0 (fixed)  , bounds=[-inf, inf]>\n",
      "<Parameter:'rough_preceding_solution', value=4.6          , bounds=[0, 20]>\n",
      "<Parameter:'D2O - volfrac solvent', value=0 (fixed)  , bounds=[-inf, inf]>\n",
      "________________________________________________________________________________\n",
      "Parameters: 'upper_lipid_d2o'\n",
      "<Parameter:'bilayer - area_per_molecule', value=101          , bounds=[100, 200]>\n",
      "<Parameter:'bilayer - b_heads_real', value=0.000629275 (fixed)  , bounds=[-inf, inf]>\n",
      "<Parameter:'upper_lipid_d2o - b_heads_imag', value=0 (fixed)  , bounds=[-inf, inf]>\n",
      "<Parameter:'bilayer - volume_heads', value=331 (fixed)  , bounds=[-inf, inf]>\n",
      "<Parameter:'bilayer - thickness_heads', value=6          , bounds=[1, 30]>\n",
      "<Parameter:'bilayer - b_tails_real', value=-0.00026624 (fixed)  , bounds=[-inf, inf]>\n",
      "<Parameter:'upper_lipid_d2o - b_tails_imag', value=0 (fixed)  , bounds=[-inf, inf]>\n",
      "<Parameter:'bilayer - volume_tails', value=940.2 (fixed)  , bounds=[-inf, inf]>\n",
      "<Parameter:'bilayer - thickness_tails', value=11          , bounds=[1, 30]>\n",
      "<Parameter:'bilayer - roughs', value=2          , bounds=[0, 10]>\n",
      "<Parameter:'bilayer - roughs', value=2          , bounds=[0, 10]>\n",
      "________________________________________________________________________________\n",
      "Parameters:       ''       \n",
      "<Parameter:  'D2O - sld'  , value=6.34          , bounds=[5.35, 6.35]>\n",
      "<Parameter: 'D2O - isld'  , value=0 (fixed)  , bounds=[-inf, inf]>\n",
      "________________________________________________________________________________\n",
      "Parameters:       ''       \n",
      "<Parameter:  'D2O - sld'  , value=6.34          , bounds=[5.35, 6.35]>\n",
      "<Parameter: 'D2O - isld'  , value=0 (fixed)  , bounds=[-inf, inf]>\n",
      "<Parameter:'bilayer - water_vm', value=29.7 (fixed)  , bounds=[-inf, inf]>\n",
      "<Parameter:'bilayer - Waters Per Head', value=2.8          , bounds=[0, 20]>\n",
      "<Parameter:'bilayer - Waters Per Tail', value=1          , bounds=[0, 10]>\n",
      "<Parameter:'bilayer - Waters Per Head', value=2.8          , bounds=[0, 20]>\n",
      "<Parameter:'bilayer - Waters Per Tail', value=1          , bounds=[0, 10]>\n",
      "<Parameter:'bilayer - volume_protein', value=74937.5 (fixed)  , bounds=[-inf, inf]>\n",
      "<Parameter:'bilayer - ratio protein to bilayer', value=0.75          , bounds=[0.5, 1]>\n",
      "________________________________________________________________________________\n",
      "Parameters: 'lower_lipid_d2o'\n",
      "<Parameter:'bilayer - area_per_molecule', value=101          , bounds=[100, 200]>\n",
      "<Parameter:'bilayer - b_heads_real', value=0.000629275 (fixed)  , bounds=[-inf, inf]>\n",
      "<Parameter:'lower_lipid_d2o - b_heads_imag', value=0 (fixed)  , bounds=[-inf, inf]>\n",
      "<Parameter:'bilayer - volume_heads', value=331 (fixed)  , bounds=[-inf, inf]>\n",
      "<Parameter:'bilayer - thickness_heads', value=6          , bounds=[1, 30]>\n",
      "<Parameter:'bilayer - b_tails_real', value=-0.00026624 (fixed)  , bounds=[-inf, inf]>\n",
      "<Parameter:'lower_lipid_d2o - b_tails_imag', value=0 (fixed)  , bounds=[-inf, inf]>\n",
      "<Parameter:'bilayer - volume_tails', value=940.2 (fixed)  , bounds=[-inf, inf]>\n",
      "<Parameter:'bilayer - thickness_tails', value=11          , bounds=[1, 30]>\n",
      "<Parameter:'bilayer - roughs', value=2          , bounds=[0, 10]>\n",
      "<Parameter:'bilayer - roughs', value=2          , bounds=[0, 10]>\n",
      "________________________________________________________________________________\n",
      "Parameters:       ''       \n",
      "<Parameter:  'D2O - sld'  , value=6.34          , bounds=[5.35, 6.35]>\n",
      "<Parameter: 'D2O - isld'  , value=0 (fixed)  , bounds=[-inf, inf]>\n",
      "________________________________________________________________________________\n",
      "Parameters:       ''       \n",
      "<Parameter:  'D2O - sld'  , value=6.34          , bounds=[5.35, 6.35]>\n",
      "<Parameter: 'D2O - isld'  , value=0 (fixed)  , bounds=[-inf, inf]>\n",
      "<Parameter:'bilayer - water_vm', value=29.7 (fixed)  , bounds=[-inf, inf]>\n",
      "<Parameter:'bilayer - Waters Per Head', value=2.8          , bounds=[0, 20]>\n",
      "<Parameter:'bilayer - Waters Per Tail', value=1          , bounds=[0, 10]>\n",
      "<Parameter:'bilayer - Waters Per Head', value=2.8          , bounds=[0, 20]>\n",
      "<Parameter:'bilayer - Waters Per Tail', value=1          , bounds=[0, 10]>\n",
      "<Parameter:'bilayer - volume_protein', value=74937.5 (fixed)  , bounds=[-inf, inf]>\n",
      "<Parameter:'bilayer - ratio protein to bilayer', value=0.75          , bounds=[0.5, 1]>\n",
      "________________________________________________________________________________\n",
      "Parameters:      'D2O'     \n",
      "<Parameter:'thickness_solution', value=14.3          , bounds=[6, 25]>\n",
      "<Parameter:  'D2O - sld'  , value=6.34          , bounds=[5.35, 6.35]>\n",
      "<Parameter: 'D2O - isld'  , value=0 (fixed)  , bounds=[-inf, inf]>\n",
      "<Parameter:'rough_preceding_solution', value=4.6          , bounds=[0, 20]>\n",
      "<Parameter:'D2O - volfrac solvent', value=0 (fixed)  , bounds=[-inf, inf]>\n",
      "________________________________________________________________________________\n",
      "Parameters: 'Structure - protein matched water'\n",
      "________________________________________________________________________________\n",
      "Parameters:      'Air'     \n",
      "<Parameter: 'Air - thick' , value=0 (fixed)  , bounds=[-inf, inf]>\n",
      "<Parameter:  'Air - sld'  , value=0 (fixed)  , bounds=[-inf, inf]>\n",
      "<Parameter: 'Air - isld'  , value=0 (fixed)  , bounds=[-inf, inf]>\n",
      "<Parameter: 'Air - rough' , value=0 (fixed)  , bounds=[-inf, inf]>\n",
      "<Parameter:'Air - volfrac solvent', value=0 (fixed)  , bounds=[-inf, inf]>\n",
      "________________________________________________________________________________\n",
      "Parameters: 'Protein Matched Water'\n",
      "<Parameter:'thickness_solution', value=14.3          , bounds=[6, 25]>\n",
      "<Parameter:'Protein Matched Water - sld', value=2.35          , bounds=[1.35, 3.35]>\n",
      "<Parameter:'Protein Matched Water - isld', value=0 (fixed)  , bounds=[-inf, inf]>\n",
      "<Parameter:'rough_preceding_solution', value=4.6          , bounds=[0, 20]>\n",
      "<Parameter:'Protein Matched Water - volfrac solvent', value=0 (fixed)  , bounds=[-inf, inf]>\n",
      "________________________________________________________________________________\n",
      "Parameters: 'upper_lipid_pmw'\n",
      "<Parameter:'bilayer - area_per_molecule', value=101          , bounds=[100, 200]>\n",
      "<Parameter:'bilayer - b_heads_real', value=0.000629275 (fixed)  , bounds=[-inf, inf]>\n",
      "<Parameter:'upper_lipid_pmw - b_heads_imag', value=0 (fixed)  , bounds=[-inf, inf]>\n",
      "<Parameter:'bilayer - volume_heads', value=331 (fixed)  , bounds=[-inf, inf]>\n",
      "<Parameter:'bilayer - thickness_heads', value=6          , bounds=[1, 30]>\n",
      "<Parameter:'bilayer - b_tails_real', value=-0.00026624 (fixed)  , bounds=[-inf, inf]>\n",
      "<Parameter:'upper_lipid_pmw - b_tails_imag', value=0 (fixed)  , bounds=[-inf, inf]>\n",
      "<Parameter:'bilayer - volume_tails', value=940.2 (fixed)  , bounds=[-inf, inf]>\n",
      "<Parameter:'bilayer - thickness_tails', value=11          , bounds=[1, 30]>\n",
      "<Parameter:'bilayer - roughs', value=2          , bounds=[0, 10]>\n",
      "<Parameter:'bilayer - roughs', value=2          , bounds=[0, 10]>\n",
      "________________________________________________________________________________\n",
      "Parameters:       ''       \n",
      "<Parameter:'Protein Matched Water - sld', value=2.35          , bounds=[1.35, 3.35]>\n",
      "<Parameter:'Protein Matched Water - isld', value=0 (fixed)  , bounds=[-inf, inf]>\n",
      "________________________________________________________________________________\n",
      "Parameters:       ''       \n",
      "<Parameter:'Protein Matched Water - sld', value=2.35          , bounds=[1.35, 3.35]>\n",
      "<Parameter:'Protein Matched Water - isld', value=0 (fixed)  , bounds=[-inf, inf]>\n",
      "<Parameter:'bilayer - water_vm', value=29.7 (fixed)  , bounds=[-inf, inf]>\n",
      "<Parameter:'bilayer - Waters Per Head', value=2.8          , bounds=[0, 20]>\n",
      "<Parameter:'bilayer - Waters Per Tail', value=1          , bounds=[0, 10]>\n",
      "<Parameter:'bilayer - Waters Per Head', value=2.8          , bounds=[0, 20]>\n",
      "<Parameter:'bilayer - Waters Per Tail', value=1          , bounds=[0, 10]>\n",
      "<Parameter:'bilayer - volume_protein', value=74937.5 (fixed)  , bounds=[-inf, inf]>\n",
      "<Parameter:'bilayer - ratio protein to bilayer', value=0.75          , bounds=[0.5, 1]>\n",
      "________________________________________________________________________________\n",
      "Parameters: 'lower_lipid_pmw'\n",
      "<Parameter:'bilayer - area_per_molecule', value=101          , bounds=[100, 200]>\n",
      "<Parameter:'bilayer - b_heads_real', value=0.000629275 (fixed)  , bounds=[-inf, inf]>\n",
      "<Parameter:'lower_lipid_pmw - b_heads_imag', value=0 (fixed)  , bounds=[-inf, inf]>\n",
      "<Parameter:'bilayer - volume_heads', value=331 (fixed)  , bounds=[-inf, inf]>\n",
      "<Parameter:'bilayer - thickness_heads', value=6          , bounds=[1, 30]>\n",
      "<Parameter:'bilayer - b_tails_real', value=-0.00026624 (fixed)  , bounds=[-inf, inf]>\n",
      "<Parameter:'lower_lipid_pmw - b_tails_imag', value=0 (fixed)  , bounds=[-inf, inf]>\n",
      "<Parameter:'bilayer - volume_tails', value=940.2 (fixed)  , bounds=[-inf, inf]>\n",
      "<Parameter:'bilayer - thickness_tails', value=11          , bounds=[1, 30]>\n",
      "<Parameter:'bilayer - roughs', value=2          , bounds=[0, 10]>\n",
      "<Parameter:'bilayer - roughs', value=2          , bounds=[0, 10]>\n",
      "________________________________________________________________________________\n",
      "Parameters:       ''       \n",
      "<Parameter:'Protein Matched Water - sld', value=2.35          , bounds=[1.35, 3.35]>\n",
      "<Parameter:'Protein Matched Water - isld', value=0 (fixed)  , bounds=[-inf, inf]>\n",
      "________________________________________________________________________________\n",
      "Parameters:       ''       \n",
      "<Parameter:'Protein Matched Water - sld', value=2.35          , bounds=[1.35, 3.35]>\n",
      "<Parameter:'Protein Matched Water - isld', value=0 (fixed)  , bounds=[-inf, inf]>\n",
      "<Parameter:'bilayer - water_vm', value=29.7 (fixed)  , bounds=[-inf, inf]>\n",
      "<Parameter:'bilayer - Waters Per Head', value=2.8          , bounds=[0, 20]>\n",
      "<Parameter:'bilayer - Waters Per Tail', value=1          , bounds=[0, 10]>\n",
      "<Parameter:'bilayer - Waters Per Head', value=2.8          , bounds=[0, 20]>\n",
      "<Parameter:'bilayer - Waters Per Tail', value=1          , bounds=[0, 10]>\n",
      "<Parameter:'bilayer - volume_protein', value=74937.5 (fixed)  , bounds=[-inf, inf]>\n",
      "<Parameter:'bilayer - ratio protein to bilayer', value=0.75          , bounds=[0.5, 1]>\n",
      "________________________________________________________________________________\n",
      "Parameters: 'Protein Matched Water'\n",
      "<Parameter:'thickness_solution', value=14.3          , bounds=[6, 25]>\n",
      "<Parameter:'Protein Matched Water - sld', value=2.35          , bounds=[1.35, 3.35]>\n",
      "<Parameter:'Protein Matched Water - isld', value=0 (fixed)  , bounds=[-inf, inf]>\n",
      "<Parameter:'rough_preceding_solution', value=4.6          , bounds=[0, 20]>\n"
     ]
    },
    {
     "name": "stdout",
     "output_type": "stream",
     "text": [
      "<Parameter:'Protein Matched Water - volfrac solvent', value=0 (fixed)  , bounds=[-inf, inf]>\n",
      "________________________________________________________________________________\n",
      "Parameters: 'Structure - ACMW'\n",
      "________________________________________________________________________________\n",
      "Parameters:      'Air'     \n",
      "<Parameter: 'Air - thick' , value=0 (fixed)  , bounds=[-inf, inf]>\n",
      "<Parameter:  'Air - sld'  , value=0 (fixed)  , bounds=[-inf, inf]>\n",
      "<Parameter: 'Air - isld'  , value=0 (fixed)  , bounds=[-inf, inf]>\n",
      "<Parameter: 'Air - rough' , value=0 (fixed)  , bounds=[-inf, inf]>\n",
      "<Parameter:'Air - volfrac solvent', value=0 (fixed)  , bounds=[-inf, inf]>\n",
      "________________________________________________________________________________\n",
      "Parameters:     'ACMW'     \n",
      "<Parameter:'thickness_solution', value=14.3          , bounds=[6, 25]>\n",
      "<Parameter: 'ACMW - sld'  , value=0          , bounds=[-0.56, 1]>\n",
      "<Parameter: 'ACMW - isld' , value=0 (fixed)  , bounds=[-inf, inf]>\n",
      "<Parameter:'rough_preceding_solution', value=4.6          , bounds=[0, 20]>\n",
      "<Parameter:'ACMW - volfrac solvent', value=0 (fixed)  , bounds=[-inf, inf]>\n",
      "________________________________________________________________________________\n",
      "Parameters: 'upper_lipid_acmw'\n",
      "<Parameter:'bilayer - area_per_molecule', value=101          , bounds=[100, 200]>\n",
      "<Parameter:'bilayer - b_heads_real', value=0.000629275 (fixed)  , bounds=[-inf, inf]>\n",
      "<Parameter:'upper_lipid_acmw - b_heads_imag', value=0 (fixed)  , bounds=[-inf, inf]>\n",
      "<Parameter:'bilayer - volume_heads', value=331 (fixed)  , bounds=[-inf, inf]>\n",
      "<Parameter:'bilayer - thickness_heads', value=6          , bounds=[1, 30]>\n",
      "<Parameter:'bilayer - b_tails_real', value=-0.00026624 (fixed)  , bounds=[-inf, inf]>\n",
      "<Parameter:'upper_lipid_acmw - b_tails_imag', value=0 (fixed)  , bounds=[-inf, inf]>\n",
      "<Parameter:'bilayer - volume_tails', value=940.2 (fixed)  , bounds=[-inf, inf]>\n",
      "<Parameter:'bilayer - thickness_tails', value=11          , bounds=[1, 30]>\n",
      "<Parameter:'bilayer - roughs', value=2          , bounds=[0, 10]>\n",
      "<Parameter:'bilayer - roughs', value=2          , bounds=[0, 10]>\n",
      "________________________________________________________________________________\n",
      "Parameters:       ''       \n",
      "<Parameter: 'ACMW - sld'  , value=0          , bounds=[-0.56, 1]>\n",
      "<Parameter: 'ACMW - isld' , value=0 (fixed)  , bounds=[-inf, inf]>\n",
      "________________________________________________________________________________\n",
      "Parameters:       ''       \n",
      "<Parameter: 'ACMW - sld'  , value=0          , bounds=[-0.56, 1]>\n",
      "<Parameter: 'ACMW - isld' , value=0 (fixed)  , bounds=[-inf, inf]>\n",
      "<Parameter:'bilayer - water_vm', value=29.7 (fixed)  , bounds=[-inf, inf]>\n",
      "<Parameter:'bilayer - Waters Per Head', value=2.8          , bounds=[0, 20]>\n",
      "<Parameter:'bilayer - Waters Per Tail', value=1          , bounds=[0, 10]>\n",
      "<Parameter:'bilayer - Waters Per Head', value=2.8          , bounds=[0, 20]>\n",
      "<Parameter:'bilayer - Waters Per Tail', value=1          , bounds=[0, 10]>\n",
      "<Parameter:'bilayer - volume_protein', value=74937.5 (fixed)  , bounds=[-inf, inf]>\n",
      "<Parameter:'bilayer - ratio protein to bilayer', value=0.75          , bounds=[0.5, 1]>\n",
      "________________________________________________________________________________\n",
      "Parameters: 'lower_lipid_acmw'\n",
      "<Parameter:'bilayer - area_per_molecule', value=101          , bounds=[100, 200]>\n",
      "<Parameter:'bilayer - b_heads_real', value=0.000629275 (fixed)  , bounds=[-inf, inf]>\n",
      "<Parameter:'lower_lipid_acmw - b_heads_imag', value=0 (fixed)  , bounds=[-inf, inf]>\n",
      "<Parameter:'bilayer - volume_heads', value=331 (fixed)  , bounds=[-inf, inf]>\n",
      "<Parameter:'bilayer - thickness_heads', value=6          , bounds=[1, 30]>\n",
      "<Parameter:'bilayer - b_tails_real', value=-0.00026624 (fixed)  , bounds=[-inf, inf]>\n",
      "<Parameter:'lower_lipid_acmw - b_tails_imag', value=0 (fixed)  , bounds=[-inf, inf]>\n",
      "<Parameter:'bilayer - volume_tails', value=940.2 (fixed)  , bounds=[-inf, inf]>\n",
      "<Parameter:'bilayer - thickness_tails', value=11          , bounds=[1, 30]>\n",
      "<Parameter:'bilayer - roughs', value=2          , bounds=[0, 10]>\n",
      "<Parameter:'bilayer - roughs', value=2          , bounds=[0, 10]>\n",
      "________________________________________________________________________________\n",
      "Parameters:       ''       \n",
      "<Parameter: 'ACMW - sld'  , value=0          , bounds=[-0.56, 1]>\n",
      "<Parameter: 'ACMW - isld' , value=0 (fixed)  , bounds=[-inf, inf]>\n",
      "________________________________________________________________________________\n",
      "Parameters:       ''       \n",
      "<Parameter: 'ACMW - sld'  , value=0          , bounds=[-0.56, 1]>\n",
      "<Parameter: 'ACMW - isld' , value=0 (fixed)  , bounds=[-inf, inf]>\n",
      "<Parameter:'bilayer - water_vm', value=29.7 (fixed)  , bounds=[-inf, inf]>\n",
      "<Parameter:'bilayer - Waters Per Head', value=2.8          , bounds=[0, 20]>\n",
      "<Parameter:'bilayer - Waters Per Tail', value=1          , bounds=[0, 10]>\n",
      "<Parameter:'bilayer - Waters Per Head', value=2.8          , bounds=[0, 20]>\n",
      "<Parameter:'bilayer - Waters Per Tail', value=1          , bounds=[0, 10]>\n",
      "<Parameter:'bilayer - volume_protein', value=74937.5 (fixed)  , bounds=[-inf, inf]>\n",
      "<Parameter:'bilayer - ratio protein to bilayer', value=0.75          , bounds=[0.5, 1]>\n",
      "________________________________________________________________________________\n",
      "Parameters:     'ACMW'     \n",
      "<Parameter:'thickness_solution', value=14.3          , bounds=[6, 25]>\n",
      "<Parameter: 'ACMW - sld'  , value=0          , bounds=[-0.56, 1]>\n",
      "<Parameter: 'ACMW - isld' , value=0 (fixed)  , bounds=[-inf, inf]>\n",
      "<Parameter:'rough_preceding_solution', value=4.6          , bounds=[0, 20]>\n",
      "<Parameter:'ACMW - volfrac solvent', value=0 (fixed)  , bounds=[-inf, inf]>\n"
     ]
    }
   ],
   "source": [
    "# to changing to\n",
    "solution_thickness = Parameter(value=14.3, bounds=(6, 25), vary=True,\n",
    "            name='thickness_solution')\n",
    "\n",
    "rough_preceding_solution = Parameter(value=4.6, bounds=(0, 20), vary=True,\n",
    "            name='rough_preceding_solution')\n",
    "\n",
    "structure_d2o  = air(0, 0) | d2o(solution_thickness, rough_preceding_solution)  | upper_lipid_d2o  | lower_lipid_d2o  | d2o(solution_thickness, rough_preceding_solution)\n",
    "structure_pmw  = air(0, 0) | pmw(solution_thickness, rough_preceding_solution)  | upper_lipid_pmw  | lower_lipid_pmw  | pmw(solution_thickness, rough_preceding_solution)\n",
    "structure_acmw = air(0, 0) | acmw(solution_thickness, rough_preceding_solution) | upper_lipid_acmw | lower_lipid_acmw | acmw(solution_thickness, rough_preceding_solution)\n",
    "\n",
    "# structure_d2o  = air(0, 0) | d2o(solution_thickness, rough_preceding_solution)  | upper_lipid_d2o  | lower_lipid_d2o  | d2o(solution_thickness, rough_preceding_solution)\n",
    "# structure_pmw  = air(0, 0) | pmw(solution_thickness, rough_preceding_solution)  | upper_lipid_pmw  | lower_lipid_pmw  | pmw(solution_thickness, rough_preceding_solution)\n",
    "# structure_acmw = air(0, 0) | acmw(solution_thickness, rough_preceding_solution) | upper_lipid_acmw | lower_lipid_acmw | acmw(solution_thickness, rough_preceding_solution)\n",
    "\n",
    "structure_d2o.name = \"d2o\"\n",
    "structure_pmw.name = \"protein matched water\"\n",
    "structure_acmw.name = \"ACMW\"\n",
    "\n",
    "plt.plot(*structure_d2o.sld_profile(),label=\"structure_d2o\")\n",
    "plt.ylabel('SLD /$10^{-6} \\AA^{-2}$')\n",
    "plt.xlabel('distance / $\\AA$')\n",
    "plt.plot(*structure_pmw.sld_profile(),label=\"structure_pmw\")\n",
    "plt.ylabel('SLD /$10^{-6} \\AA^{-2}$')\n",
    "plt.xlabel('distance / $\\AA$')\n",
    "plt.plot(*structure_acmw.sld_profile(),label=\"structure_acmw\")\n",
    "plt.ylabel('SLD /$10^{-6} \\AA^{-2}$')\n",
    "plt.xlabel('distance / $\\AA$')\n",
    "plt.show();\n",
    "print(structure_d2o.parameters)\n",
    "print(structure_pmw.parameters)\n",
    "print(structure_acmw.parameters)"
   ]
  },
  {
   "cell_type": "code",
   "execution_count": 6,
   "metadata": {
    "scrolled": true
   },
   "outputs": [],
   "source": [
    "# right_protrusion_d2o.parameters"
   ]
  },
  {
   "cell_type": "code",
   "execution_count": 7,
   "metadata": {
    "scrolled": true
   },
   "outputs": [],
   "source": [
    "# print(structure_acmw.slabs())\n",
    "# print(structure_pmw.slabs())\n",
    "# print(structure_d2o.slabs())"
   ]
  },
  {
   "cell_type": "code",
   "execution_count": 8,
   "metadata": {},
   "outputs": [
    {
     "name": "stdout",
     "output_type": "stream",
     "text": [
      "0.562 0.0655 0.000924\n",
      "1.8e-06 3.02e-06 1.73e-06\n"
     ]
    }
   ],
   "source": [
    "print(dataD2o.y.max(), dataPmw.y.max(), dataAcmw.y.max())\n",
    "print(dataD2o.y.min(), dataPmw.y.min(), dataAcmw.y.min())\n",
    "model1 = ReflectModel(structure_d2o)\n",
    "model1.scale.setp(0.5, vary=True, bounds=(0.5, 0.6))#0.25, 1)) #1./dataD2o.y.max()\n",
    "if dataD2o.y.min()<0:\n",
    "    d2oUpBound = dataD2o.y.min() * 0.2\n",
    "    d2oLoBound = dataD2o.y.min() * 1.8\n",
    "else:\n",
    "    d2oUpBound = dataD2o.y.min() * 1.8\n",
    "    d2oLoBound = dataD2o.y.min() * 0.2\n",
    "model1.bkg.setp(dataD2o.y.min(),vary=True,bounds=(d2oLoBound, d2oUpBound))\n",
    "\n",
    "model2 = ReflectModel(structure_pmw)\n",
    "model2.scale.setp(0.5, vary=True, bounds=(0.5, 0.6))#0.25, 1))#(1./dataPmw.y.max(), vary=False)\n",
    "if dataPmw.y.min()<0:\n",
    "    pmwUpBound = dataPmw.y.min() * 0.2\n",
    "    pmwLoBound = dataPmw.y.min() * 1.8\n",
    "else:\n",
    "    pmwUpBound = dataPmw.y.min() * 1.8\n",
    "    pmwLoBound = dataPmw.y.min() * 0.2\n",
    "model2.bkg.setp(dataPmw.y.min(),vary=True,bounds=(pmwLoBound, pmwUpBound))\n",
    "\n",
    "model3 = ReflectModel(structure_acmw)\n",
    "model3.scale.setp(0.5, vary=True, bounds=(0.5, 0.6))#0.25, 1)) #1./dataAcmw.y.max(), vary=False)\n",
    "if dataAcmw.y.min()<0:\n",
    "    acmwUpBound = dataAcmw.y.min() * 0.2\n",
    "    acmwLoBound = dataAcmw.y.min() * 1.8\n",
    "else:\n",
    "    acmwUpBound = dataAcmw.y.min() * 1.8\n",
    "    acmwLoBound = dataAcmw.y.min() * 0.2\n",
    "model3.bkg.setp(dataAcmw.y.min(),vary=True,bounds=(acmwLoBound, acmwUpBound))\n",
    "\n",
    "objective1 = Objective(model1, dataD2o, transform=Transform(\"logY\"))\n",
    "objective2 = Objective(model2, dataPmw, transform=Transform(\"logY\"))\n",
    "objective3 = Objective(model3, dataAcmw, transform=Transform(\"logY\"))\n",
    "gobjective = GlobalObjective([objective1,objective2,objective3])"
   ]
  },
  {
   "cell_type": "code",
   "execution_count": 9,
   "metadata": {},
   "outputs": [
    {
     "name": "stdout",
     "output_type": "stream",
     "text": [
      "\n",
      "logp: -28.997786974473037\n",
      "0 scale: 0.5 [0.5, 0.6] logp: 2.302585092994046\n",
      "1 bkg: 1.8e-06 [3.6e-07, 3.24e-06] logp: 12.75772026381642\n",
      "2 thickness_solution: 14.3 [6, 25] logp: -2.9444389791664407\n",
      "3 D2O - sld: 6.34 [5.35, 6.35] logp: 0.0\n",
      "4 rough_preceding_solution: 4.6 [0, 20] logp: -2.995732273553991\n",
      "5 bilayer - area_per_molecule: 101.0 [100, 200] logp: -4.605170185988091\n",
      "6 bilayer - thickness_heads: 6.0 [1, 30] logp: -3.367295829986474\n",
      "7 bilayer - thickness_tails: 11.0 [1, 30] logp: -3.367295829986474\n",
      "8 bilayer - roughs: 2.0 [0, 10] logp: -2.3025850929940455\n",
      "9 bilayer - Waters Per Head: 2.8 [0, 20] logp: -2.995732273553991\n",
      "10 bilayer - Waters Per Tail: 1.0 [0, 10] logp: -2.3025850929940455\n",
      "11 bilayer - ratio protein to bilayer: 0.75 [0.5, 1] logp: 0.6931471805599453\n",
      "12 scale: 0.5 [0.5, 0.6] logp: 2.302585092994046\n",
      "13 bkg: 3.02e-06 [6.040000000000001e-07, 5.436e-06] logp: 12.24025009733176\n",
      "14 Protein Matched Water - sld: 2.35 [1.35, 3.35] logp: -0.6931471805599453\n",
      "15 scale: 0.5 [0.5, 0.6] logp: 2.302585092994046\n",
      "16 bkg: 1.73e-06 [3.46e-07, 3.114e-06] logp: 12.79738552020885\n",
      "17 ACMW - sld: 0.0 [-0.56, 1] logp: -0.4446858212614458\n"
     ]
    }
   ],
   "source": [
    "print(\"\")\n",
    "print(\"logp:\",gobjective.logp())\n",
    "[[print(i,param.name+\":\",param.value, param.bounds,\"logp:\", param.logp())] for i,param in enumerate(gobjective.varying_parameters())];\n"
   ]
  },
  {
   "cell_type": "code",
   "execution_count": 10,
   "metadata": {
    "scrolled": true
   },
   "outputs": [
    {
     "name": "stdout",
     "output_type": "stream",
     "text": [
      "done\n",
      "Wall time: 5min 17s\n"
     ]
    }
   ],
   "source": [
    "%%time\n",
    "choose = 0\n",
    "if choose==0:\n",
    "    fitter = CurveFitter(gobjective)\n",
    "    res = fitter.fit(\"differential_evolution\", target=\"nlpost\")#, seed=SEED)\n",
    "if choose==1:\n",
    "    fitter = CurveFitter(gobjective)\n",
    "    fitter.sample(400)\n",
    "    fitter.reset()\n",
    "    res = fitter.sample(15, nthin=100)\n",
    "if choose==2:\n",
    "    from dynesty import DynamicNestedSampler\n",
    "    from dynesty import plotting as dyplot\n",
    "    from CFitter import CFitter\n",
    "    fitter = CFitter(gobjective)\n",
    "    # DynamicNestedSampler\n",
    "    DNSampler = DynamicNestedSampler(fitter.logl, fitter.priorTransform, fitter.nDim())\n",
    "    DNSampler.run_nested(dlogz_init=0.05) # was 0.01\n",
    "    res1 = DNSampler.results\n",
    "print(\"done\")"
   ]
  },
  {
   "cell_type": "code",
   "execution_count": 11,
   "metadata": {
    "scrolled": false
   },
   "outputs": [
    {
     "name": "stdout",
     "output_type": "stream",
     "text": [
      "<Parameter:    'scale'    , value=0.549839 +/- 0.00158, bounds=[0.5, 0.6]>\n",
      "<Parameter:     'bkg'     , value=1.3265e-06 +/- 7.21e-07, bounds=[3.6e-07, 3.24e-06]>\n",
      "<Parameter:'thickness_solution', value=11.5843 +/- 0.289, bounds=[6, 25]>\n",
      "<Parameter:  'D2O - sld'  , value=6.1185 +/- 0.00615, bounds=[5.35, 6.35]>\n",
      "<Parameter:'rough_preceding_solution', value=7.80728 +/- 0.415, bounds=[0, 20]>\n",
      "<Parameter:'bilayer - area_per_molecule', value=199.907 +/- 1.59e+03, bounds=[100, 200]>\n",
      "<Parameter:'bilayer - thickness_heads', value=1.65985 +/- 0.728, bounds=[1, 30]>\n",
      "<Parameter:'bilayer - thickness_tails', value=17.8163 +/- 0.522, bounds=[1, 30]>\n",
      "<Parameter:'bilayer - roughs', value=0.251914 +/- 19.9 , bounds=[0, 10]>\n",
      "<Parameter:'bilayer - Waters Per Head', value=0.015305 +/- 2.56e+05, bounds=[0, 20]>\n",
      "<Parameter:'bilayer - Waters Per Tail', value=0.330717 +/- 6.77e+05, bounds=[0, 10]>\n",
      "<Parameter:'bilayer - ratio protein to bilayer', value=0.999648 +/- 7.58 , bounds=[0.5, 1]>\n",
      "<Parameter:    'scale'    , value=0.599726 +/- 0.0284, bounds=[0.5, 0.6]>\n",
      "<Parameter:     'bkg'     , value=3.46726e-06 +/- 1.06e-07, bounds=[6.040000000000001e-07, 5.436e-06]>\n",
      "<Parameter:'Protein Matched Water - sld', value=1.71598 +/- 0.0278, bounds=[1.35, 3.35]>\n",
      "<Parameter:    'scale'    , value=0.59794 +/- 0.147, bounds=[0.5, 0.6]>\n",
      "<Parameter:     'bkg'     , value=2.43054e-06 +/- 8.19e-08, bounds=[3.46e-07, 3.114e-06]>\n",
      "<Parameter: 'ACMW - sld'  , value=0.419344 +/- 0.0501, bounds=[-0.56, 1]>\n"
     ]
    }
   ],
   "source": [
    "# print(gobjective.parameters,\"\\n++++++++++++++++++++++++++++++++++++++++++++++++++++\")\n",
    "\n",
    "# [[print(param)] for param in gobjective.parameters]#varying_parameters()]\n",
    "\n",
    "[[print(param)] for param in gobjective.varying_parameters()];"
   ]
  },
  {
   "cell_type": "code",
   "execution_count": 12,
   "metadata": {},
   "outputs": [
    {
     "name": "stdout",
     "output_type": "stream",
     "text": [
      "   covar: array([[ 2.49186798e-06, -5.22721866e-11, -4.83614411e-05,\n",
      "        -4.50494261e-06,  1.81490436e-05,  3.83740935e-01,\n",
      "         1.25500795e-04, -8.42677348e-05, -1.75984333e-03,\n",
      "         6.14510759e+01,  1.64834550e+02,  1.84111430e-03,\n",
      "         2.29603906e-06, -3.86008166e-12, -1.75813813e-06,\n",
      "         7.03576164e-06, -8.07352298e-13, -1.64669754e-06],\n",
      "       [-5.22721866e-11,  5.19427355e-13,  6.46608574e-08,\n",
      "        -1.94274679e-10,  7.05379942e-09, -1.91361561e-04,\n",
      "        -1.89424449e-07,  2.44223225e-07,  1.39656311e-05,\n",
      "        -2.85957400e-02, -1.01120381e-01, -1.09288239e-06,\n",
      "        -1.24165201e-09,  3.92838760e-14,  9.41480099e-10,\n",
      "        -1.80992217e-08,  1.65197010e-14,  5.36807678e-09],\n",
      "       [-4.83614411e-05,  6.46608574e-08,  8.34992033e-02,\n",
      "         8.69091274e-05,  2.17223928e-02, -4.13641801e+02,\n",
      "        -1.87539768e-01,  1.15736099e-01,  2.16470708e+00,\n",
      "        -6.66994480e+04, -1.75112741e+05, -1.96378274e+00,\n",
      "        -1.89455358e-03,  6.15419259e-09,  1.44291876e-03,\n",
      "        -1.19512710e-02, -8.73897560e-10,  2.56523508e-03],\n",
      "       [-4.50494261e-06, -1.94274679e-10,  8.69091274e-05,\n",
      "         3.78125875e-05,  3.13780315e-04, -7.87170493e-02,\n",
      "        -6.57677546e-05, -6.03589232e-05, -6.91427433e-03,\n",
      "        -1.52440590e+01, -4.54515272e+01, -5.15050885e-04,\n",
      "         4.28211677e-06, -9.81822760e-12, -3.13814746e-06,\n",
      "         1.18864761e-05, -1.15684452e-11, -5.31678634e-06],\n",
      "       [ 1.81490436e-05,  7.05379942e-09,  2.17223928e-02,\n",
      "         3.13780315e-04,  1.72414505e-01, -2.33667462e+02,\n",
      "        -1.06735444e-01,  4.03936544e-02, -9.92014638e-01,\n",
      "        -3.81169988e+04, -1.12645925e+05, -1.25037445e+00,\n",
      "        -1.22428080e-03, -7.62457772e-11,  9.54425139e-04,\n",
      "        -7.49264806e-03, -4.07558969e-09,  1.12255147e-03],\n",
      "       [ 3.83740935e-01, -1.91361561e-04, -4.13641801e+02,\n",
      "        -7.87170493e-02, -2.33667462e+02,  2.52130740e+06,\n",
      "         1.04257617e+03, -5.90222462e+02, -6.38052763e+03,\n",
      "         4.06725105e+08,  1.07060629e+09,  1.20105357e+04,\n",
      "         1.09106281e+01, -1.69232144e-05, -8.18283790e+00,\n",
      "         7.30684264e+01,  1.13358834e-05, -1.64897143e+01],\n",
      "       [ 1.25500795e-04, -1.89424449e-07, -1.87539768e-01,\n",
      "        -6.57677546e-05, -1.06735444e-01,  1.04257617e+03,\n",
      "         5.29843867e-01, -3.47459970e-01, -5.43583270e+00,\n",
      "         1.68402879e+05,  4.48217017e+05,  5.02304577e+00,\n",
      "         5.99619609e-03, -1.56933350e-08, -4.53396785e-03,\n",
      "         3.47075489e-02,  4.18058073e-09, -7.30701037e-03],\n",
      "       [-8.42677348e-05,  2.44223225e-07,  1.15736099e-01,\n",
      "        -6.03589232e-05,  4.03936544e-02, -5.90222462e+02,\n",
      "        -3.47459970e-01,  2.72862516e-01,  6.86214802e+00,\n",
      "        -9.48103122e+04, -2.57972055e+05, -2.88296516e+00,\n",
      "        -3.67375061e-03,  1.93115494e-08,  2.77646473e-03,\n",
      "        -2.33401745e-02,  2.15333779e-09,  5.29308854e-03],\n",
      "       [-1.75984333e-03,  1.39656311e-05,  2.16470708e+00,\n",
      "        -6.91427433e-03, -9.92014638e-01, -6.38052763e+03,\n",
      "        -5.43583270e+00,  6.86214802e+00,  3.94036503e+02,\n",
      "        -9.64278674e+05, -3.12794261e+06, -3.40699322e+01,\n",
      "        -3.66115319e-02,  1.08678688e-06,  2.76327288e-02,\n",
      "        -5.06405261e-01,  4.67458720e-07,  1.52466168e-01],\n",
      "       [ 6.14510759e+01, -2.85957400e-02, -6.66994480e+04,\n",
      "        -1.52440590e+01, -3.81169988e+04,  4.06725105e+08,\n",
      "         1.68402879e+05, -9.48103122e+04, -9.64278674e+05,\n",
      "         6.56363473e+10,  1.72722347e+11,  1.93779101e+06,\n",
      "         1.72581000e+03, -2.65436617e-03, -1.28718658e+03,\n",
      "         1.14565014e+04,  1.94008377e-03, -2.53989536e+03],\n",
      "       [ 1.64834550e+02, -1.01120381e-01, -1.75112741e+05,\n",
      "        -4.54515272e+01, -1.12645925e+05,  1.07060629e+09,\n",
      "         4.48217017e+05, -2.57972055e+05, -3.12794261e+06,\n",
      "         1.72722347e+11,  4.57688825e+11,  5.13046670e+06,\n",
      "         4.15791748e+03, -9.58112067e-03, -3.03913027e+03,\n",
      "         2.84008854e+04,  4.27932875e-03, -6.08614250e+03],\n",
      "       [ 1.84111430e-03, -1.09288239e-06, -1.96378274e+00,\n",
      "        -5.15050885e-04, -1.25037445e+00,  1.20105357e+04,\n",
      "         5.02304577e+00, -2.88296516e+00, -3.40699322e+01,\n",
      "         1.93779101e+06,  5.13046670e+06,  5.75166744e+01,\n",
      "         4.71261403e-02, -1.03320605e-07, -3.45347435e-02,\n",
      "         3.20994007e-01,  4.94423277e-08, -6.90856167e-02],\n",
      "       [ 2.29603906e-06, -1.24165201e-09, -1.89455358e-03,\n",
      "         4.28211677e-06, -1.22428080e-03,  1.09106281e+01,\n",
      "         5.99619609e-03, -3.67375061e-03, -3.66115319e-02,\n",
      "         1.72581000e+03,  4.15791748e+03,  4.71261403e-02,\n",
      "         8.07445491e-04,  2.12339307e-12, -7.69881844e-04,\n",
      "         2.38076576e-03,  1.71703791e-10, -7.16627166e-04],\n",
      "       [-3.86008166e-12,  3.92838760e-14,  6.15419259e-09,\n",
      "        -9.81822760e-12, -7.62457772e-11, -1.69232144e-05,\n",
      "        -1.56933350e-08,  1.93115494e-08,  1.08678688e-06,\n",
      "        -2.65436617e-03, -9.58112067e-03, -1.03320605e-07,\n",
      "         2.12339307e-12,  1.11837576e-14, -5.42431350e-12,\n",
      "         2.33323644e-09,  1.31579340e-15, -8.29534670e-10],\n",
      "       [-1.75813813e-06,  9.41480099e-10,  1.44291876e-03,\n",
      "        -3.13814746e-06,  9.54425139e-04, -8.18283790e+00,\n",
      "        -4.53396785e-03,  2.77646473e-03,  2.76327288e-02,\n",
      "        -1.28718658e+03, -3.03913027e+03, -3.45347435e-02,\n",
      "        -7.69881844e-04, -5.42431350e-12,  7.72986984e-04,\n",
      "        -2.10404985e-03, -1.38236706e-10,  6.40822380e-04],\n",
      "       [ 7.03576164e-06, -1.80992217e-08, -1.19512710e-02,\n",
      "         1.18864761e-05, -7.49264806e-03,  7.30684264e+01,\n",
      "         3.47075489e-02, -2.33401745e-02, -5.06405261e-01,\n",
      "         1.14565014e+04,  2.84008854e+04,  3.20994007e-01,\n",
      "         2.38076576e-03,  2.33323644e-09, -2.10404985e-03,\n",
      "         2.16884805e-02, -4.11900115e-09, -7.19235486e-03],\n",
      "       [-8.07352298e-13,  1.65197010e-14, -8.73897560e-10,\n",
      "        -1.15684452e-11, -4.07558969e-09,  1.13358834e-05,\n",
      "         4.18058073e-09,  2.15333779e-09,  4.67458720e-07,\n",
      "         1.94008377e-03,  4.27932875e-03,  4.94423277e-08,\n",
      "         1.71703791e-10,  1.31579340e-15, -1.38236706e-10,\n",
      "        -4.11900115e-09,  6.71272900e-15,  1.51419982e-09],\n",
      "       [-1.64669754e-06,  5.36807678e-09,  2.56523508e-03,\n",
      "        -5.31678634e-06,  1.12255147e-03, -1.64897143e+01,\n",
      "        -7.30701037e-03,  5.29308854e-03,  1.52466168e-01,\n",
      "        -2.53989536e+03, -6.08614250e+03, -6.90856167e-02,\n",
      "        -7.16627166e-04, -8.29534670e-10,  6.40822380e-04,\n",
      "        -7.19235486e-03,  1.51419982e-09,  2.50859873e-03]])\n",
      "     fun: -106.68823345774882\n",
      " message: 'Optimization terminated successfully.'\n",
      "    nfev: 69717\n",
      "     nit: 257\n",
      "  stderr: array([1.57856517e-03, 7.20713088e-07, 2.88962287e-01, 6.14919405e-03,\n",
      "       4.15228257e-01, 1.58786253e+03, 7.27903748e-01, 5.22362438e-01,\n",
      "       1.98503527e+01, 2.56195916e+05, 6.76527032e+05, 7.58397484e+00,\n",
      "       2.84155854e-02, 1.05753287e-07, 2.78026435e-02, 1.47270094e-01,\n",
      "       8.19312456e-08, 5.00859135e-02])\n",
      " success: True\n",
      "       x: array([5.49839129e-01, 1.32649909e-06, 1.15843389e+01, 6.11850101e+00,\n",
      "       7.80727729e+00, 1.99907277e+02, 1.65985160e+00, 1.78162994e+01,\n",
      "       2.51914069e-01, 1.53050442e-02, 3.30716509e-01, 9.99647569e-01,\n",
      "       5.99726346e-01, 3.46726107e-06, 1.71598284e+00, 5.97939755e-01,\n",
      "       2.43054062e-06, 4.19344103e-01])\n"
     ]
    }
   ],
   "source": [
    "if choose==2:\n",
    "    print(res1)\n",
    "else:\n",
    "    print(res)\n",
    "# [['bkg', nan],\n",
    "#  ['thickness_solution', nan],\n",
    "#  ['D2O - sld', nan],\n",
    "#  ['rough_preceding_solution', nan],\n",
    "#  ['bilayer - area_per_molecule', nan],\n",
    "#  ['bilayer - thickness_heads', nan],\n",
    "#  ['bilayer - thickness_tails', nan],\n",
    "#  ['bilayer - rough_top', nan],\n",
    "#  ['bilayer - Waters Per Head', nan],\n",
    "#  ['bilayer - Waters Per Tail', nan],\n",
    "#  ['bilayer - ratio protein to bilayer', nan],\n",
    "#  ['bkg', nan],\n",
    "#  ['Protein Matched Water - sld', nan],\n",
    "#  ['bkg', nan],\n",
    "#  ['ACMW - sld', nan]]"
   ]
  },
  {
   "cell_type": "code",
   "execution_count": 13,
   "metadata": {},
   "outputs": [
    {
     "name": "stdout",
     "output_type": "stream",
     "text": [
      "[[ 0.00000000e+00  0.00000000e+00  0.00000000e+00  0.00000000e+00\n",
      "   0.00000000e+00]\n",
      " [ 1.15843389e+01  4.19344103e-01  0.00000000e+00  7.80727729e+00\n",
      "   0.00000000e+00]\n",
      " [ 1.65985160e+00  1.89643426e+00  7.40545703e-14  2.51914069e-01\n",
      "   0.00000000e+00]\n",
      " [ 1.78162994e+01 -7.45535515e-02  3.75392959e-10  2.51914069e-01\n",
      "   0.00000000e+00]\n",
      " [ 1.78162994e+01 -7.45535515e-02  3.75392959e-10  2.51914069e-01\n",
      "   0.00000000e+00]\n",
      " [ 1.65985160e+00  1.89643426e+00  7.40545703e-14  2.51914069e-01\n",
      "   0.00000000e+00]\n",
      " [ 1.15843389e+01  4.19344103e-01  0.00000000e+00  7.80727729e+00\n",
      "   0.00000000e+00]]\n",
      "[[ 0.00000000e+00  0.00000000e+00  0.00000000e+00  0.00000000e+00\n",
      "   0.00000000e+00]\n",
      " [ 1.15843389e+01  1.71598284e+00  0.00000000e+00  7.80727729e+00\n",
      "   0.00000000e+00]\n",
      " [ 1.65985160e+00  1.89650203e+00  7.40545703e-14  2.51914069e-01\n",
      "   0.00000000e+00]\n",
      " [ 1.78162994e+01 -7.45354461e-02  3.75392959e-10  2.51914069e-01\n",
      "   0.00000000e+00]\n",
      " [ 1.78162994e+01 -7.45354461e-02  3.75392959e-10  2.51914069e-01\n",
      "   0.00000000e+00]\n",
      " [ 1.65985160e+00  1.89650203e+00  7.40545703e-14  2.51914069e-01\n",
      "   0.00000000e+00]\n",
      " [ 1.15843389e+01  1.71598284e+00  0.00000000e+00  7.80727729e+00\n",
      "   0.00000000e+00]]\n",
      "[[ 0.00000000e+00  0.00000000e+00  0.00000000e+00  0.00000000e+00\n",
      "   0.00000000e+00]\n",
      " [ 1.15843389e+01  6.11850101e+00  0.00000000e+00  7.80727729e+00\n",
      "   0.00000000e+00]\n",
      " [ 1.65985160e+00  1.89673211e+00  7.40545703e-14  2.51914069e-01\n",
      "   0.00000000e+00]\n",
      " [ 1.78162994e+01 -7.44739721e-02  3.75392959e-10  2.51914069e-01\n",
      "   0.00000000e+00]\n",
      " [ 1.78162994e+01 -7.44739721e-02  3.75392959e-10  2.51914069e-01\n",
      "   0.00000000e+00]\n",
      " [ 1.65985160e+00  1.89673211e+00  7.40545703e-14  2.51914069e-01\n",
      "   0.00000000e+00]\n",
      " [ 1.15843389e+01  6.11850101e+00  0.00000000e+00  7.80727729e+00\n",
      "   0.00000000e+00]]\n"
     ]
    }
   ],
   "source": [
    "print(structure_acmw.slabs())\n",
    "print(structure_pmw.slabs())\n",
    "print(structure_d2o.slabs())"
   ]
  },
  {
   "cell_type": "code",
   "execution_count": 14,
   "metadata": {},
   "outputs": [
    {
     "data": {
      "image/png": "[encoded data removed]",
      "text/plain": [
       "<Figure size 432x288 with 1 Axes>"
      ]
     },
     "metadata": {
      "needs_background": "light"
     },
     "output_type": "display_data"
    }
   ],
   "source": [
    "# structure_d2o\n",
    "# structure_pmw\n",
    "plt.plot(*structure_d2o.sld_profile(),label=\"structure_d2o\")\n",
    "# structure_d2o.plot()\n",
    "# plt.ylabel('SLD ($10^{-6} \\AA^{-2})$')\n",
    "# plt.xlabel('distance  $(\\AA)$')\n",
    "\n",
    "plt.plot(*structure_pmw.sld_profile(),label=\"structure_pmw\")\n",
    "# structure_pmw.plot()\n",
    "plt.ylabel('SLD ($10^{-6} \\AA^{-2})$')\n",
    "plt.xlabel('distance  $(\\AA)$')\n",
    "\n",
    "plt.plot(*structure_acmw.sld_profile(),label=\"structure_acmw\")\n",
    "# structure_pmw.plot()\n",
    "plt.ylabel('SLD ($10^{-6} \\AA^{-2})$')\n",
    "plt.xlabel('distance  $(\\AA)$')\n",
    "plt.legend()\n",
    "plt.show();"
   ]
  },
  {
   "cell_type": "code",
   "execution_count": 15,
   "metadata": {},
   "outputs": [
    {
     "data": {
      "image/png": "[encoded data removed]",
      "text/plain": [
       "<Figure size 432x288 with 1 Axes>"
      ]
     },
     "metadata": {
      "needs_background": "light"
     },
     "output_type": "display_data"
    }
   ],
   "source": [
    "if choose==1:\n",
    "    gobjective.plot(samples=300)\n",
    "else:\n",
    "    gobjective.plot()\n",
    "# plt.yscale('log')\n",
    "plt.xlabel('Q')\n",
    "plt.ylabel('Reflectivity')\n",
    "plt.legend();"
   ]
  },
  {
   "cell_type": "code",
   "execution_count": 16,
   "metadata": {},
   "outputs": [
    {
     "data": {
      "image/png": "[encoded data removed]",
      "text/plain": [
       "<Figure size 432x288 with 1 Axes>"
      ]
     },
     "metadata": {
      "needs_background": "light"
     },
     "output_type": "display_data"
    }
   ],
   "source": [
    "if choose==1:\n",
    "    objective1.plot(samples=300)\n",
    "else:\n",
    "    objective1.plot()\n",
    "# plt.yscale('log')\n",
    "plt.xlabel('Q')\n",
    "plt.ylabel('Reflectivity')\n",
    "plt.legend();"
   ]
  },
  {
   "cell_type": "code",
   "execution_count": 17,
   "metadata": {},
   "outputs": [
    {
     "data": {
      "image/png": "[encoded data removed]",
      "text/plain": [
       "<Figure size 432x288 with 1 Axes>"
      ]
     },
     "metadata": {
      "needs_background": "light"
     },
     "output_type": "display_data"
    }
   ],
   "source": [
    "if choose==1:\n",
    "    objective2.plot(samples=300)\n",
    "else:\n",
    "    objective2.plot()\n",
    "# plt.yscale('log')\n",
    "plt.xlabel('Q')\n",
    "plt.ylabel('Reflectivity')\n",
    "plt.legend();"
   ]
  },
  {
   "cell_type": "code",
   "execution_count": 18,
   "metadata": {},
   "outputs": [
    {
     "data": {
      "image/png": "[encoded data removed]",
      "text/plain": [
       "<Figure size 432x288 with 1 Axes>"
      ]
     },
     "metadata": {
      "needs_background": "light"
     },
     "output_type": "display_data"
    }
   ],
   "source": [
    "if choose==1:\n",
    "    objective3.plot(samples=300)\n",
    "else:\n",
    "    objective3.plot()\n",
    "# plt.yscale('log')\n",
    "plt.xlabel('Q')\n",
    "plt.ylabel('Reflectivity')\n",
    "plt.legend();"
   ]
  },
  {
   "cell_type": "code",
   "execution_count": 19,
   "metadata": {},
   "outputs": [
    {
     "name": "stdout",
     "output_type": "stream",
     "text": [
      "model1: d2o <Parameter:    'scale'    , value=0.549839 +/- 0.00158, bounds=[0.5, 0.6]> <Parameter:     'bkg'     , value=1.3265e-06 +/- 7.21e-07, bounds=[3.6e-07, 3.24e-06]>\n",
      "model2: pmw <Parameter:    'scale'    , value=0.599726 +/- 0.0284, bounds=[0.5, 0.6]> <Parameter:     'bkg'     , value=3.46726e-06 +/- 1.06e-07, bounds=[6.040000000000001e-07, 5.436e-06]>\n",
      "model3: acmw <Parameter:    'scale'    , value=0.59794 +/- 0.147, bounds=[0.5, 0.6]> <Parameter:     'bkg'     , value=2.43054e-06 +/- 8.19e-08, bounds=[3.46e-07, 3.114e-06]>\n"
     ]
    }
   ],
   "source": [
    "print(\"model1: d2o\", model1.scale, model1.bkg)\n",
    "print(\"model2: pmw\", model2.scale, model2.bkg)\n",
    "print(\"model3: acmw\", model3.scale, model3.bkg)"
   ]
  },
  {
   "cell_type": "code",
   "execution_count": 20,
   "metadata": {
    "scrolled": true
   },
   "outputs": [],
   "source": [
    "# print(structure_d2o)"
   ]
  },
  {
   "cell_type": "code",
   "execution_count": 21,
   "metadata": {
    "scrolled": true
   },
   "outputs": [],
   "source": [
    "# print(structure_pmw)"
   ]
  },
  {
   "cell_type": "code",
   "execution_count": 22,
   "metadata": {
    "scrolled": true
   },
   "outputs": [],
   "source": [
    "# print(structure_acmw)"
   ]
  },
  {
   "cell_type": "code",
   "execution_count": 23,
   "metadata": {},
   "outputs": [
    {
     "name": "stdout",
     "output_type": "stream",
     "text": [
      "[[ 0.00000000e+00  0.00000000e+00  0.00000000e+00  0.00000000e+00\n",
      "   0.00000000e+00]\n",
      " [ 1.15843389e+01  6.11850101e+00  0.00000000e+00  7.80727729e+00\n",
      "   0.00000000e+00]\n",
      " [ 1.65985160e+00  1.89673211e+00  7.40545703e-14  2.51914069e-01\n",
      "   0.00000000e+00]\n",
      " [ 1.78162994e+01 -7.44739721e-02  3.75392959e-10  2.51914069e-01\n",
      "   0.00000000e+00]\n",
      " [ 1.78162994e+01 -7.44739721e-02  3.75392959e-10  2.51914069e-01\n",
      "   0.00000000e+00]\n",
      " [ 1.65985160e+00  1.89673211e+00  7.40545703e-14  2.51914069e-01\n",
      "   0.00000000e+00]\n",
      " [ 1.15843389e+01  6.11850101e+00  0.00000000e+00  7.80727729e+00\n",
      "   0.00000000e+00]]\n"
     ]
    }
   ],
   "source": [
    "print(structure_d2o.slabs())"
   ]
  },
  {
   "cell_type": "code",
   "execution_count": 24,
   "metadata": {},
   "outputs": [
    {
     "name": "stdout",
     "output_type": "stream",
     "text": [
      "[[ 0.00000000e+00  0.00000000e+00  0.00000000e+00  0.00000000e+00\n",
      "   0.00000000e+00]\n",
      " [ 1.15843389e+01  1.71598284e+00  0.00000000e+00  7.80727729e+00\n",
      "   0.00000000e+00]\n",
      " [ 1.65985160e+00  1.89650203e+00  7.40545703e-14  2.51914069e-01\n",
      "   0.00000000e+00]\n",
      " [ 1.78162994e+01 -7.45354461e-02  3.75392959e-10  2.51914069e-01\n",
      "   0.00000000e+00]\n",
      " [ 1.78162994e+01 -7.45354461e-02  3.75392959e-10  2.51914069e-01\n",
      "   0.00000000e+00]\n",
      " [ 1.65985160e+00  1.89650203e+00  7.40545703e-14  2.51914069e-01\n",
      "   0.00000000e+00]\n",
      " [ 1.15843389e+01  1.71598284e+00  0.00000000e+00  7.80727729e+00\n",
      "   0.00000000e+00]]\n"
     ]
    }
   ],
   "source": [
    "print(structure_pmw.slabs())"
   ]
  },
  {
   "cell_type": "code",
   "execution_count": 25,
   "metadata": {},
   "outputs": [
    {
     "name": "stdout",
     "output_type": "stream",
     "text": [
      "[[ 0.00000000e+00  0.00000000e+00  0.00000000e+00  0.00000000e+00\n",
      "   0.00000000e+00]\n",
      " [ 1.15843389e+01  4.19344103e-01  0.00000000e+00  7.80727729e+00\n",
      "   0.00000000e+00]\n",
      " [ 1.65985160e+00  1.89643426e+00  7.40545703e-14  2.51914069e-01\n",
      "   0.00000000e+00]\n",
      " [ 1.78162994e+01 -7.45535515e-02  3.75392959e-10  2.51914069e-01\n",
      "   0.00000000e+00]\n",
      " [ 1.78162994e+01 -7.45535515e-02  3.75392959e-10  2.51914069e-01\n",
      "   0.00000000e+00]\n",
      " [ 1.65985160e+00  1.89643426e+00  7.40545703e-14  2.51914069e-01\n",
      "   0.00000000e+00]\n",
      " [ 1.15843389e+01  4.19344103e-01  0.00000000e+00  7.80727729e+00\n",
      "   0.00000000e+00]]\n"
     ]
    }
   ],
   "source": [
    "print(structure_acmw.slabs())"
   ]
  },
  {
   "cell_type": "code",
   "execution_count": 26,
   "metadata": {},
   "outputs": [],
   "source": [
    "if choose==2:\n",
    "    # span = [(0,5000),(0,1.5),(0,0.4),(-10**3,10**3)] #span=span\n",
    "    fig, axes = dyplot.runplot(res1, color='black', mark_final_live=False,\n",
    "                               logplot=False)"
   ]
  },
  {
   "cell_type": "code",
   "execution_count": 27,
   "metadata": {},
   "outputs": [],
   "source": [
    "if choose==2:\n",
    "    print(\"max(-ln(X)) =\", -min(res1[\"logvol\"])) # -min(res1[\"logvol\"] = max(-ln(X))\n",
    "    print(\"max(logz), evidence =\", max(res1[\"logz\"]))"
   ]
  },
  {
   "cell_type": "code",
   "execution_count": 28,
   "metadata": {},
   "outputs": [
    {
     "name": "stdout",
     "output_type": "stream",
     "text": [
      "model1: d2o <Parameter:    'scale'    , value=0.549839 +/- 0.00158, bounds=[0.5, 0.6]> <Parameter:     'bkg'     , value=1.3265e-06 +/- 7.21e-07, bounds=[3.6e-07, 3.24e-06]>\n",
      "model2: pmw <Parameter:    'scale'    , value=0.599726 +/- 0.0284, bounds=[0.5, 0.6]> <Parameter:     'bkg'     , value=3.46726e-06 +/- 1.06e-07, bounds=[6.040000000000001e-07, 5.436e-06]>\n",
      "model3: acmw <Parameter:    'scale'    , value=0.59794 +/- 0.147, bounds=[0.5, 0.6]> <Parameter:     'bkg'     , value=2.43054e-06 +/- 8.19e-08, bounds=[3.46e-07, 3.114e-06]>\n",
      "\n",
      "0 scale: 0.5498391293525082 [0.5, 0.6]\n",
      "1 bkg: 1.3264990889834141e-06 [3.6e-07, 3.24e-06]\n",
      "2 thickness_solution: 11.584338926914771 [6, 25]\n",
      "3 D2O - sld: 6.118501005640814 [5.35, 6.35]\n",
      "4 rough_preceding_solution: 7.80727728767213 [0, 20]\n",
      "5 bilayer - area_per_molecule: 199.90727650213714 [100, 200]\n",
      "6 bilayer - thickness_heads: 1.6598516048316991 [1, 30]\n",
      "7 bilayer - thickness_tails: 17.81629937599385 [1, 30]\n",
      "8 bilayer - roughs: 0.2519140688601045 [0, 10]\n",
      "9 bilayer - Waters Per Head: 0.015305044236397336 [0, 20]\n",
      "10 bilayer - Waters Per Tail: 0.33071650908584616 [0, 10]\n",
      "11 bilayer - ratio protein to bilayer: 0.9996475693886364 [0.5, 1]\n",
      "12 scale: 0.5997263460112704 [0.5, 0.6]\n",
      "13 bkg: 3.4672610710587783e-06 [6.040000000000001e-07, 5.436e-06]\n",
      "14 Protein Matched Water - sld: 1.715982836886734 [1.35, 3.35]\n",
      "15 scale: 0.5979397551709225 [0.5, 0.6]\n",
      "16 bkg: 2.4305406197418415e-06 [3.46e-07, 3.114e-06]\n",
      "17 ACMW - sld: 0.41934410263651284 [-0.56, 1]\n"
     ]
    }
   ],
   "source": [
    "#gobjective.varying_parameters()\n",
    "print(\"model1: d2o\", model1.scale, model1.bkg)\n",
    "print(\"model2: pmw\", model2.scale, model2.bkg)\n",
    "print(\"model3: acmw\", model3.scale, model3.bkg)\n",
    "print()\n",
    "[[print(i,param.name+\":\",param.value, param.bounds)] for i,param in enumerate(gobjective.varying_parameters())];"
   ]
  },
  {
   "cell_type": "markdown",
   "metadata": {},
   "source": [
    "I believe correct values, leaflet roughness between head and tail is the same as the roughness preceeding the leaflet\\\n",
    "class used is a modified version of the LipidLeaflet class native to refnx, its in the file\\\n",
    "\"protein\" and called \"LipidLeafletWithProtien\"\\\n",
    "volumes of head and tails are indirectly varied by changes in waters per head/tail\\\n",
    "so the tails do not change volume\\\n",
    "0 scale: 0.5521883304658243 [0.5, 0.6]\\\n",
    "1 bkg: 3.8668280301251303e-07 [3.6e-07, 3.24e-06]\\\n",
    "2 thickness_solution: 10.788185214150985 [6, 25]\\\n",
    "3 D2O - sld: 6.120774383877097 [5.35, 6.35]\\\n",
    "4 rough_preceding_solution: 3.939327435493368 [0, 20]\\\n",
    "5 bilayer - area_per_molecule: 149.83843268748353 [60, 150]\\\n",
    "6 bilayer - thickness_heads: 2.2131024442953855 [1, 30]\\\n",
    "7 bilayer - thickness_tails: 19.19114563662231 [1, 30]\\\n",
    "8 bilayer - rough_top: 0.15555337800548585 [0, 10]\\\n",
    "9 bilayer - Waters Per Head: 0.017922237590786594 [0, 20]\\\n",
    "10 bilayer - Waters Per Tail: 0.02927203409960022 [0, 10]\\\n",
    "11 bilayer - ratio protein to bilayer: 0.7498017765068212 [0.25, 0.75]\\\n",
    "12 Protrusion - protrusion thickness: 6.090177488208205 [5, 100]\\\n",
    "13 Protrusion - protrusion roughness: 7.445463122283828 [0, 20]\\\n",
    "14 Protrusion - protrusion volfrac: 0.9963095809664922 [0, 1]\\\n",
    "15 scale: 0.5990025735918081 [0.5, 0.6]\\\n",
    "16 bkg: 3.5880504074107574e-06 [6.040000000000001e-07, 5.436e-06]\\\n",
    "17 Protein Matched Water - sld: 1.757984633375042 [1.35, 3.35]\\\n",
    "18 scale: 0.5907367476195101 [0.5, 0.6]\\\n",
    "19 bkg: 2.831535701386751e-06 [3.46e-07, 3.114e-06]\\\n",
    "20 ACMW - sld: 0.4132210895757328 [-0.56, 1]"
   ]
  },
  {
   "cell_type": "code",
   "execution_count": 29,
   "metadata": {
    "scrolled": false
   },
   "outputs": [],
   "source": [
    "if choose==2:\n",
    "    labels = [param.name for param in gobjective.varying_parameters()]\n",
    "\n",
    "    fig, axes = dyplot.traceplot(res1, labels = labels, #truths=np.zeros(fitter.nDim()),\n",
    "                                 show_titles=True, trace_cmap='plasma',\n",
    "                                 quantiles=[0.025, 0.5, 0.975])\n",
    "    fig.tight_layout()"
   ]
  },
  {
   "cell_type": "code",
   "execution_count": 30,
   "metadata": {},
   "outputs": [],
   "source": [
    "if choose==2:\n",
    "    labels = [param.name for param in gobjective.varying_parameters()]\n",
    "\n",
    "    fig, axes = dyplot.cornerpoints(res1, labels = labels#, #truths=np.zeros(fitter.nDim()),\n",
    "                                 #show_titles=True,\n",
    "                                 #trace_cmap='plasma',\n",
    "                                 #quantiles=[0.025, 0.5, 0.975]\n",
    "                                   )\n",
    "    fig.tight_layout()"
   ]
  },
  {
   "cell_type": "code",
   "execution_count": null,
   "metadata": {},
   "outputs": [],
   "source": []
  }
 ],
 "metadata": {
  "kernelspec": {
   "display_name": "Python 3",
   "language": "python",
   "name": "python3"
  },
  "language_info": {
   "codemirror_mode": {
    "name": "ipython",
    "version": 3
   },
   "file_extension": ".py",
   "mimetype": "text/x-python",
   "name": "python",
   "nbconvert_exporter": "python",
   "pygments_lexer": "ipython3",
   "version": "3.7.3"
  }
 },
 "nbformat": 4,
 "nbformat_minor": 2
}
