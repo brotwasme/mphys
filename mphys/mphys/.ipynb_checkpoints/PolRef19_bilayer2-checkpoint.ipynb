{
 "cells": [
  {
   "cell_type": "code",
   "execution_count": 1,
   "metadata": {},
   "outputs": [],
   "source": [
    "%matplotlib inline\n",
    "import os.path\n",
    "import numpy as np\n",
    "import matplotlib.pyplot as plt\n",
    "import scipy\n",
    "\n",
    "import refnx\n",
    "from refnx.dataset import ReflectDataset, Data1D\n",
    "from refnx.analysis import Transform, CurveFitter, Objective, GlobalObjective, Model, Parameter\n",
    "from refnx.reflect import SLD, Slab, ReflectModel, LipidLeaflet"
   ]
  },
  {
   "cell_type": "code",
   "execution_count": 2,
   "metadata": {},
   "outputs": [],
   "source": [
    "#Define all the neutron b's\n",
    "bc = 0.6646e-4 #Carbon\n",
    "bo = 0.5843e-4 #Oxygen\n",
    "bh = -0.3739e-4 #Hydrogen\n",
    "bp = 0.513e-4 #Phosphorus\n",
    "bn = 0.936e-4; #Nitrogen\n",
    "bd = 0.6671e-4; #Deuterium\n",
    "\n",
    "#Formulae of the molecule sections...\n",
    "CH2 = (1*bc) + (2*bh)\n",
    "CH3 = (1*bc) + (3*bh)\n",
    "D2O = (2*bd) + (1*bo)\n",
    "H2O = (2*bh) + (1*bo)\n",
    "\n",
    "#sum b's of all the different fragments\n",
    "sum_b_tails = (32*CH2) + (2*CH3)\n",
    "sum_b_methyl = 4*CH3\n",
    "sum_b_heads = (6*bo) + (1*bp) + (1*bn) + (4*CH2) + (3*CH3) #+ (Waters_per_head * wMol)\n",
    "#sum_m_tails = (34*CH2) + (2*CH3)\n",
    "#sum_m_heads = (1*bn) + (2*CH3) #+ (Waters_per_headD * wMol)\n",
    "popc_b_head= (9*bc)+(12*bh)+(8*bo)+(bp)\n",
    "popc_b_tails=(33*bc)+(70*bh)\n",
    "popc_vol_tails = 886.4\n",
    "#volumes of each fragment\n",
    "vCH2 = 27.7\n",
    "nCH2 = 32\n",
    "volume_tails = nCH2 * vCH2\n",
    "volume_methyl = 214\n",
    "volume_heads = 331"
   ]
  },
  {
   "cell_type": "code",
   "execution_count": 3,
   "metadata": {},
   "outputs": [
    {
     "name": "stdout",
     "output_type": "stream",
     "text": [
      "886.4\n",
      "0.00032506999999999995\n",
      "-0.0003576600000000001\n",
      "9.82084592145015e-07\n",
      "-4.0349729241877267e-07\n",
      "2.018731117824773e-06\n",
      "-4.784747292418773e-07\n"
     ]
    }
   ],
   "source": [
    "print(volume_tails)\n",
    "print(sum_b_heads)\n",
    "print(sum_b_tails)\n",
    "print(sum_b_heads/volume_heads)\n",
    "print(sum_b_tails/volume_tails)\n",
    "print(popc_b_head/volume_heads)\n",
    "print(popc_b_tails/popc_vol_tails)"
   ]
  },
  {
   "cell_type": "code",
   "execution_count": 4,
   "metadata": {},
   "outputs": [
    {
     "name": "stdout",
     "output_type": "stream",
     "text": [
      "refnx: 0.1.9\n",
      "scipy: 1.3.1\n",
      "numpy: 1.17.2\n"
     ]
    }
   ],
   "source": [
    "print('refnx: %s\\nscipy: %s\\nnumpy: %s' % (refnx.version.version, scipy.version.version, np.version.version))"
   ]
  },
  {
   "cell_type": "code",
   "execution_count": 5,
   "metadata": {},
   "outputs": [],
   "source": [
    "data1=ReflectDataset('/Users/simontitmuss/Documents/refnx_data/PolRef19/IvsQ_binned_29895_0_u.dat')\n",
    "data2=ReflectDataset('/Users/simontitmuss/Documents/refnx_data/PolRef19/IvsQ_binned_29895_0_d.dat')"
   ]
  },
  {
   "cell_type": "code",
   "execution_count": 6,
   "metadata": {},
   "outputs": [],
   "source": [
    "si = SLD(2.07, name='Si')\n",
    "sio2 = SLD(3.47, name='SiO2')\n",
    "PA = SLD(10.8, name='PA')\n",
    "PA1 = SLD(7.2, name='PA1')\n",
    "PA2 = SLD(10.3, name='PA2')\n",
    "gold = SLD(4.5, name='gold')\n",
    "#PDP = SLD(,name='PDP')\n",
    "peg = SLD(0.56, name='peg')\n",
    "#DSPE_h = SLD()\n",
    "#DSPE_t = SLD()\n",
    "d2o = SLD(6.36, name='d2o')\n",
    "h2o = SLD(-0.56, name='h2o')\n",
    "gmw= SLD(4.5, name='gmw')"
   ]
  },
  {
   "cell_type": "code",
   "execution_count": 7,
   "metadata": {},
   "outputs": [],
   "source": [
    "sio2_layer = sio2(17.4, 7)\n",
    "sio2_layer.thick.setp(vary=False, bounds=(2, 30))\n",
    "sio2_layer.thick.name = 'sio2 thickness'\n",
    "sio2_layer.rough.setp(vary=False, bounds=(0, 7))\n",
    "sio2_layer.rough.name = name='sio2 roughness'\n",
    "sio2_layer.vfsolv.setp(0.024, vary=False, bounds=(0., 0.5))\n",
    "sio2_layer.vfsolv.name = 'sio2 solvation'"
   ]
  },
  {
   "cell_type": "code",
   "execution_count": 8,
   "metadata": {},
   "outputs": [],
   "source": [
    "solv_roughness = Parameter(3, 'bilayer/solvent roughness')\n",
    "solv_roughness.setp(vary=True, bounds=(0, 5))\n",
    "d2o_layer = d2o(0, solv_roughness)\n",
    "h2o_layer = h2o(0,solv_roughness)\n",
    "gmw_layer = gmw(0,solv_roughness)"
   ]
  },
  {
   "cell_type": "code",
   "execution_count": 9,
   "metadata": {},
   "outputs": [],
   "source": [
    "# we're going to share the PA thickness \n",
    "PA_thick = Parameter(129.1, 'PA_thick')\n",
    "PA_rough=Parameter(9.9,'PA_rough')\n",
    "PA1_layer = PA1(PA_thick, PA_rough)\n",
    "PA2_layer = PA2(PA_thick, PA_rough)\n",
    "PA1_layer.thick.setp(vary=False, bounds=(120,150))\n",
    "PA2_layer.thick.setp(vary=False, bounds=(120,150))\n",
    "PA1_layer.rough.setp(vary=False, bounds=(4,10))\n",
    "PA2_layer.rough.setp(vary=False, bounds=(4,10))\n",
    "PA1_layer.sld.real.setp(vary=False, bounds=(9, 10.9))\n",
    "PA2_layer.sld.real.setp(vary=False, bounds=(7.2, 9))"
   ]
  },
  {
   "cell_type": "code",
   "execution_count": 10,
   "metadata": {},
   "outputs": [],
   "source": [
    "gold_layer=gold(131.5,5)\n",
    "gold_layer.thick.setp(vary=False, bounds=(130,160))\n",
    "gold_layer.rough.setp(vary=False, bounds=(4,10))"
   ]
  },
  {
   "cell_type": "code",
   "execution_count": 11,
   "metadata": {},
   "outputs": [],
   "source": [
    "peg_layer_i=peg(34,3.7)\n",
    "peg_layer_i.thick.setp(vary=True, bounds=(20, 50))\n",
    "peg_layer_i.rough.setp(vary=True, bounds=(3, 10))\n",
    "peg_layer_i.vfsolv.setp(0.56, vary=True, bounds=(0, 1))"
   ]
  },
  {
   "cell_type": "code",
   "execution_count": 12,
   "metadata": {},
   "outputs": [],
   "source": [
    "peg_layer_o=peg(40,9)\n",
    "peg_layer_o.thick.setp(vary=True, bounds=(20, 60))\n",
    "peg_layer_o.rough.setp(vary=True, bounds=(3, 10))\n",
    "peg_layer_o.vfsolv.setp(0.95, vary=True, bounds=(0.8, 1))"
   ]
  },
  {
   "cell_type": "code",
   "execution_count": 13,
   "metadata": {},
   "outputs": [],
   "source": [
    "# Parameter for the area per molecule each DMPC molecule occupies at the surface. We\n",
    "# use the same area per molecule for the inner and outer leaflets.\n",
    "apm = Parameter(60, 'area per molecule', vary=True, bounds=(52, 120))\n",
    "\n",
    "# the sum of scattering lengths for the lipid head and tail in Angstrom.\n",
    "b_heads = Parameter(popc_b_head, 'b_heads')\n",
    "b_tails = Parameter(popc_b_tails, 'b_tails')\n",
    "\n",
    "# the volume occupied by the head and tail groups in cubic Angstrom.\n",
    "v_heads = Parameter(331, 'v_heads')\n",
    "v_tails = Parameter(886, 'v_tails')\n",
    "\n",
    "# the head and tail group thicknesses.\n",
    "inner_head_thickness = Parameter(9, 'inner_head_thickness', vary=True, bounds=(4, 11))\n",
    "outer_head_thickness = Parameter(9, 'outer_head_thickness', vary=True, bounds=(4, 11))\n",
    "tail_thickness = Parameter(14, 'tail_thickness', vary=True, bounds=(10, 17))\n",
    "\n",
    "# finally construct a `LipidLeaflet` object for the inner and outer leaflets.\n",
    "# Note that here the inner and outer leaflets use the same area per molecule,\n",
    "# same tail thickness, etc, but this is not necessary if the inner and outer\n",
    "# leaflets are different.\n",
    "inner_leaflet = LipidLeaflet(apm,\n",
    "                             b_heads, v_heads, inner_head_thickness,\n",
    "                             b_tails, v_tails, tail_thickness,\n",
    "                             10, 10, head_solvent=d2o, tail_solvent=d2o)\n",
    "\n",
    "# we reverse the monolayer for the outer leaflet because the tail groups face upwards\n",
    "outer_leaflet = LipidLeaflet(apm,\n",
    "                             b_heads, v_heads, outer_head_thickness,\n",
    "                             b_tails, v_tails, tail_thickness,\n",
    "                             10, 0, head_solvent=d2o, tail_solvent=d2o, reverse_monolayer=True)"
   ]
  },
  {
   "cell_type": "code",
   "execution_count": 14,
   "metadata": {},
   "outputs": [],
   "source": [
    "structure1 = si | sio2_layer | PA1_layer | gold_layer | peg_layer_i | peg_layer_o | inner_leaflet | outer_leaflet | d2o_layer\n",
    "structure2 = si | sio2_layer | PA2_layer | gold_layer | peg_layer_i | peg_layer_o | inner_leaflet | outer_leaflet | d2o_layer"
   ]
  },
  {
   "cell_type": "code",
   "execution_count": 15,
   "metadata": {},
   "outputs": [],
   "source": [
    "model1 = ReflectModel(structure1, bkg=3e-6, dq=3)\n",
    "model1.scale.setp(bounds=(0.85, 1.2), vary=True)\n",
    "model1.bkg.setp(bounds=(1e-9, 9e-6), vary=True)\n",
    "model2 = ReflectModel(structure2, bkg=3e-6, dq=3)\n",
    "model2.scale.setp(bounds=(0.85, 1.2), vary=True)\n",
    "model2.bkg.setp(bounds=(1e-9, 9e-6), vary=True)"
   ]
  },
  {
   "cell_type": "code",
   "execution_count": 16,
   "metadata": {},
   "outputs": [],
   "source": [
    "objective1 = Objective(model2, data1, transform=Transform('logY'))\n",
    "objective2 = Objective(model1, data2, transform=Transform('logY'))"
   ]
  },
  {
   "cell_type": "code",
   "execution_count": 17,
   "metadata": {},
   "outputs": [],
   "source": [
    "global_objective = GlobalObjective([objective1, objective2])"
   ]
  },
  {
   "cell_type": "code",
   "execution_count": 24,
   "metadata": {},
   "outputs": [],
   "source": [
    "# create the fit instance\n",
    "fitter = CurveFitter(global_objective)\n",
    "fitter.fit('differential_evolution');"
   ]
  },
  {
   "cell_type": "code",
   "execution_count": 19,
   "metadata": {},
   "outputs": [
    {
     "data": {
      "image/png": "[encoded data removed]",
      "text/plain": [
       "<Figure size 432x288 with 1 Axes>"
      ]
     },
     "metadata": {
      "needs_background": "light"
     },
     "output_type": "display_data"
    }
   ],
   "source": [
    "global_objective.plot()\n",
    "#plt.legend()\n",
    "plt.xlabel('Q')\n",
    "plt.ylabel('log R')\n",
    "plt.xscale('log');"
   ]
  },
  {
   "cell_type": "code",
   "execution_count": 20,
   "metadata": {},
   "outputs": [
    {
     "data": {
      "image/png": "[encoded data removed]",
      "text/plain": [
       "<Figure size 432x288 with 1 Axes>"
      ]
     },
     "metadata": {
      "needs_background": "light"
     },
     "output_type": "display_data"
    }
   ],
   "source": [
    "objective1.plot()\n",
    "#plt.legend()\n",
    "plt.ylabel('log R')\n",
    "plt.xscale('log');"
   ]
  },
  {
   "cell_type": "code",
   "execution_count": 21,
   "metadata": {},
   "outputs": [
    {
     "data": {
      "image/png": "[encoded data removed]",
      "text/plain": [
       "<Figure size 432x288 with 1 Axes>"
      ]
     },
     "metadata": {
      "needs_background": "light"
     },
     "output_type": "display_data"
    }
   ],
   "source": [
    "objective2.plot()\n",
    "#plt.legend()\n",
    "plt.xlabel('Q')\n",
    "plt.ylabel('log R')\n",
    "plt.xscale('log');"
   ]
  },
  {
   "cell_type": "code",
   "execution_count": 22,
   "metadata": {},
   "outputs": [
    {
     "data": {
      "text/plain": [
       "[<matplotlib.lines.Line2D at 0x1a16f6c210>]"
      ]
     },
     "execution_count": 22,
     "metadata": {},
     "output_type": "execute_result"
    },
    {
     "data": {
      "image/png": "[encoded data removed]",
      "text/plain": [
       "<Figure size 432x288 with 1 Axes>"
      ]
     },
     "metadata": {
      "needs_background": "light"
     },
     "output_type": "display_data"
    }
   ],
   "source": [
    "plt.plot(*structure1.sld_profile())\n",
    "plt.plot(*structure2.sld_profile())"
   ]
  },
  {
   "cell_type": "code",
   "execution_count": 23,
   "metadata": {},
   "outputs": [
    {
     "name": "stdout",
     "output_type": "stream",
     "text": [
      "_______________________________________________________________________________\n",
      "\n",
      "--Global Objective--\n",
      "________________________________________________________________________________\n",
      "Objective - 112029857040\n",
      "Dataset = IvsQ_binned_29895_0_u\n",
      "datapoints = 172\n",
      "chi2 = 1455.1290536013412\n",
      "Weighted = True\n",
      "Transform = Transform('logY')\n",
      "________________________________________________________________________________\n",
      "Parameters:       ''       \n",
      "________________________________________________________________________________\n",
      "Parameters: 'instrument parameters'\n",
      "<Parameter:    'scale'    , value=0.90759 +/- 0.00281, bounds=[0.85, 1.2]>\n",
      "<Parameter:     'bkg'     , value=9e-06 +/- 9.22e-07, bounds=[1e-09, 9e-06]>\n",
      "<Parameter:'dq - resolution', value=3 (fixed)  , bounds=[-inf, inf]>\n",
      "________________________________________________________________________________\n",
      "Parameters: 'Structure - ' \n",
      "________________________________________________________________________________\n",
      "Parameters:      'Si'      \n",
      "<Parameter: 'Si - thick'  , value=0 (fixed)  , bounds=[-inf, inf]>\n",
      "<Parameter:  'Si - sld'   , value=2.07 (fixed)  , bounds=[-inf, inf]>\n",
      "<Parameter:  'Si - isld'  , value=0 (fixed)  , bounds=[-inf, inf]>\n",
      "<Parameter: 'Si - rough'  , value=0 (fixed)  , bounds=[-inf, inf]>\n",
      "<Parameter:'Si - volfrac solvent', value=0 (fixed)  , bounds=[-inf, inf]>\n",
      "________________________________________________________________________________\n",
      "Parameters:     'SiO2'     \n",
      "<Parameter:'sio2 thickness', value=17.4 (fixed)  , bounds=[2, 30]>\n",
      "<Parameter: 'SiO2 - sld'  , value=3.47 (fixed)  , bounds=[-inf, inf]>\n",
      "<Parameter: 'SiO2 - isld' , value=0 (fixed)  , bounds=[-inf, inf]>\n",
      "<Parameter:'sio2 roughness', value=7 (fixed)  , bounds=[0, 7]>\n",
      "<Parameter:'sio2 solvation', value=0.024 (fixed)  , bounds=[0.0, 0.5]>\n",
      "________________________________________________________________________________\n",
      "Parameters:      'PA2'     \n",
      "<Parameter:  'PA_thick'   , value=129.1 (fixed)  , bounds=[120, 150]>\n",
      "<Parameter:  'PA2 - sld'  , value=10.3 (fixed)  , bounds=[7.2, 9]>\n",
      "<Parameter: 'PA2 - isld'  , value=0 (fixed)  , bounds=[-inf, inf]>\n",
      "<Parameter:  'PA_rough'   , value=9.9 (fixed)  , bounds=[4, 10]>\n",
      "<Parameter:'PA2 - volfrac solvent', value=0 (fixed)  , bounds=[-inf, inf]>\n",
      "________________________________________________________________________________\n",
      "Parameters:     'gold'     \n",
      "<Parameter:'gold - thick' , value=131.5 (fixed)  , bounds=[130, 160]>\n",
      "<Parameter: 'gold - sld'  , value=4.5 (fixed)  , bounds=[-inf, inf]>\n",
      "<Parameter: 'gold - isld' , value=0 (fixed)  , bounds=[-inf, inf]>\n",
      "<Parameter:'gold - rough' , value=5 (fixed)  , bounds=[4, 10]>\n",
      "<Parameter:'gold - volfrac solvent', value=0 (fixed)  , bounds=[-inf, inf]>\n",
      "________________________________________________________________________________\n",
      "Parameters:      'peg'     \n",
      "<Parameter: 'peg - thick' , value=36.4791  +/- 8.6 , bounds=[20, 50]>\n",
      "<Parameter:  'peg - sld'  , value=0.56 (fixed)  , bounds=[-inf, inf]>\n",
      "<Parameter: 'peg - isld'  , value=0 (fixed)  , bounds=[-inf, inf]>\n",
      "<Parameter: 'peg - rough' , value=9.36533 +/- 5.65 , bounds=[3, 10]>\n",
      "<Parameter:'peg - volfrac solvent', value=0.567958 +/- 0.0195, bounds=[0, 1]>\n",
      "________________________________________________________________________________\n",
      "Parameters:      'peg'     \n",
      "<Parameter: 'peg - thick' , value=34.6535  +/- 79  , bounds=[20, 60]>\n",
      "<Parameter:  'peg - sld'  , value=0.56 (fixed)  , bounds=[-inf, inf]>\n",
      "<Parameter: 'peg - isld'  , value=0 (fixed)  , bounds=[-inf, inf]>\n",
      "<Parameter: 'peg - rough' , value=9.79578  +/- 9.1 , bounds=[3, 10]>\n",
      "<Parameter:'peg - volfrac solvent', value=0.999169 +/- 0.238, bounds=[0.8, 1]>\n",
      "________________________________________________________________________________\n",
      "Parameters:       ''       \n",
      "<Parameter:'area per molecule', value=119.983 +/- 22.8 , bounds=[52, 120]>\n",
      "<Parameter:   'b_heads'   , value=0.0006682 (fixed)  , bounds=[-inf, inf]>\n",
      "<Parameter:' - b_heads_imag', value=0 (fixed)  , bounds=[-inf, inf]>\n",
      "<Parameter:   'v_heads'   , value=331 (fixed)  , bounds=[-inf, inf]>\n",
      "<Parameter:'inner_head_thickness', value=10.7532 +/- 67.1 , bounds=[4, 11]>\n",
      "<Parameter:   'b_tails'   , value=-0.00042412 (fixed)  , bounds=[-inf, inf]>\n",
      "<Parameter:' - b_tails_imag', value=0 (fixed)  , bounds=[-inf, inf]>\n",
      "<Parameter:   'v_tails'   , value=886 (fixed)  , bounds=[-inf, inf]>\n",
      "<Parameter:'tail_thickness', value=16.9863 +/- 2.86 , bounds=[10, 17]>\n",
      "<Parameter:' - rough_head_tail', value=10 (fixed)  , bounds=[-inf, inf]>\n",
      "<Parameter:' - rough_fronting_mono', value=10 (fixed)  , bounds=[-inf, inf]>\n",
      "________________________________________________________________________________\n",
      "Parameters:       ''       \n",
      "<Parameter:  'd2o - sld'  , value=6.36 (fixed)  , bounds=[-inf, inf]>\n",
      "<Parameter: 'd2o - isld'  , value=0 (fixed)  , bounds=[-inf, inf]>\n",
      "________________________________________________________________________________\n",
      "Parameters:       ''       \n",
      "<Parameter:  'd2o - sld'  , value=6.36 (fixed)  , bounds=[-inf, inf]>\n",
      "<Parameter: 'd2o - isld'  , value=0 (fixed)  , bounds=[-inf, inf]>\n",
      "________________________________________________________________________________\n",
      "Parameters:       ''       \n",
      "<Parameter:'area per molecule', value=119.983 +/- 22.8 , bounds=[52, 120]>\n",
      "<Parameter:   'b_heads'   , value=0.0006682 (fixed)  , bounds=[-inf, inf]>\n",
      "<Parameter:' - b_heads_imag', value=0 (fixed)  , bounds=[-inf, inf]>\n",
      "<Parameter:   'v_heads'   , value=331 (fixed)  , bounds=[-inf, inf]>\n",
      "<Parameter:'outer_head_thickness', value=10.91 +/- 19.7 , bounds=[4, 11]>\n",
      "<Parameter:   'b_tails'   , value=-0.00042412 (fixed)  , bounds=[-inf, inf]>\n",
      "<Parameter:' - b_tails_imag', value=0 (fixed)  , bounds=[-inf, inf]>\n",
      "<Parameter:   'v_tails'   , value=886 (fixed)  , bounds=[-inf, inf]>\n",
      "<Parameter:'tail_thickness', value=16.9863 +/- 2.86 , bounds=[10, 17]>\n",
      "<Parameter:' - rough_head_tail', value=10 (fixed)  , bounds=[-inf, inf]>\n",
      "<Parameter:' - rough_fronting_mono', value=0 (fixed)  , bounds=[-inf, inf]>\n",
      "________________________________________________________________________________\n",
      "Parameters:       ''       \n",
      "<Parameter:  'd2o - sld'  , value=6.36 (fixed)  , bounds=[-inf, inf]>\n",
      "<Parameter: 'd2o - isld'  , value=0 (fixed)  , bounds=[-inf, inf]>\n",
      "________________________________________________________________________________\n",
      "Parameters:       ''       \n",
      "<Parameter:  'd2o - sld'  , value=6.36 (fixed)  , bounds=[-inf, inf]>\n",
      "<Parameter: 'd2o - isld'  , value=0 (fixed)  , bounds=[-inf, inf]>\n",
      "________________________________________________________________________________\n",
      "Parameters:      'd2o'     \n",
      "<Parameter: 'd2o - thick' , value=0 (fixed)  , bounds=[-inf, inf]>\n",
      "<Parameter:  'd2o - sld'  , value=6.36 (fixed)  , bounds=[-inf, inf]>\n",
      "<Parameter: 'd2o - isld'  , value=0 (fixed)  , bounds=[-inf, inf]>\n",
      "<Parameter:'bilayer/solvent roughness', value=4.79623 +/- 15.3 , bounds=[0, 5]>\n",
      "<Parameter:'d2o - volfrac solvent', value=0 (fixed)  , bounds=[-inf, inf]>\n",
      "\n",
      "\n",
      "________________________________________________________________________________\n",
      "Objective - 112029857616\n",
      "Dataset = IvsQ_binned_29895_0_d\n",
      "datapoints = 171\n",
      "chi2 = 1772.1776049744644\n",
      "Weighted = True\n",
      "Transform = Transform('logY')\n",
      "________________________________________________________________________________\n",
      "Parameters:       ''       \n",
      "________________________________________________________________________________\n",
      "Parameters: 'instrument parameters'\n",
      "<Parameter:    'scale'    , value=0.85 +/- 0.00435, bounds=[0.85, 1.2]>\n",
      "<Parameter:     'bkg'     , value=9e-06 +/- 8.16e-07, bounds=[1e-09, 9e-06]>\n",
      "<Parameter:'dq - resolution', value=3 (fixed)  , bounds=[-inf, inf]>\n",
      "________________________________________________________________________________\n",
      "Parameters: 'Structure - ' \n",
      "________________________________________________________________________________\n",
      "Parameters:      'Si'      \n",
      "<Parameter: 'Si - thick'  , value=0 (fixed)  , bounds=[-inf, inf]>\n",
      "<Parameter:  'Si - sld'   , value=2.07 (fixed)  , bounds=[-inf, inf]>\n",
      "<Parameter:  'Si - isld'  , value=0 (fixed)  , bounds=[-inf, inf]>\n",
      "<Parameter: 'Si - rough'  , value=0 (fixed)  , bounds=[-inf, inf]>\n",
      "<Parameter:'Si - volfrac solvent', value=0 (fixed)  , bounds=[-inf, inf]>\n",
      "________________________________________________________________________________\n",
      "Parameters:     'SiO2'     \n",
      "<Parameter:'sio2 thickness', value=17.4 (fixed)  , bounds=[2, 30]>\n",
      "<Parameter: 'SiO2 - sld'  , value=3.47 (fixed)  , bounds=[-inf, inf]>\n",
      "<Parameter: 'SiO2 - isld' , value=0 (fixed)  , bounds=[-inf, inf]>\n",
      "<Parameter:'sio2 roughness', value=7 (fixed)  , bounds=[0, 7]>\n",
      "<Parameter:'sio2 solvation', value=0.024 (fixed)  , bounds=[0.0, 0.5]>\n",
      "________________________________________________________________________________\n",
      "Parameters:      'PA1'     \n",
      "<Parameter:  'PA_thick'   , value=129.1 (fixed)  , bounds=[120, 150]>\n",
      "<Parameter:  'PA1 - sld'  , value=7.2 (fixed)  , bounds=[9, 10.9]>\n",
      "<Parameter: 'PA1 - isld'  , value=0 (fixed)  , bounds=[-inf, inf]>\n",
      "<Parameter:  'PA_rough'   , value=9.9 (fixed)  , bounds=[4, 10]>\n",
      "<Parameter:'PA1 - volfrac solvent', value=0 (fixed)  , bounds=[-inf, inf]>\n",
      "________________________________________________________________________________\n",
      "Parameters:     'gold'     \n",
      "<Parameter:'gold - thick' , value=131.5 (fixed)  , bounds=[130, 160]>\n",
      "<Parameter: 'gold - sld'  , value=4.5 (fixed)  , bounds=[-inf, inf]>\n",
      "<Parameter: 'gold - isld' , value=0 (fixed)  , bounds=[-inf, inf]>\n",
      "<Parameter:'gold - rough' , value=5 (fixed)  , bounds=[4, 10]>\n",
      "<Parameter:'gold - volfrac solvent', value=0 (fixed)  , bounds=[-inf, inf]>\n",
      "________________________________________________________________________________\n",
      "Parameters:      'peg'     \n",
      "<Parameter: 'peg - thick' , value=36.4791  +/- 8.6 , bounds=[20, 50]>\n",
      "<Parameter:  'peg - sld'  , value=0.56 (fixed)  , bounds=[-inf, inf]>\n",
      "<Parameter: 'peg - isld'  , value=0 (fixed)  , bounds=[-inf, inf]>\n",
      "<Parameter: 'peg - rough' , value=9.36533 +/- 5.65 , bounds=[3, 10]>\n",
      "<Parameter:'peg - volfrac solvent', value=0.567958 +/- 0.0195, bounds=[0, 1]>\n",
      "________________________________________________________________________________\n",
      "Parameters:      'peg'     \n",
      "<Parameter: 'peg - thick' , value=34.6535  +/- 79  , bounds=[20, 60]>\n",
      "<Parameter:  'peg - sld'  , value=0.56 (fixed)  , bounds=[-inf, inf]>\n",
      "<Parameter: 'peg - isld'  , value=0 (fixed)  , bounds=[-inf, inf]>\n",
      "<Parameter: 'peg - rough' , value=9.79578  +/- 9.1 , bounds=[3, 10]>\n",
      "<Parameter:'peg - volfrac solvent', value=0.999169 +/- 0.238, bounds=[0.8, 1]>\n",
      "________________________________________________________________________________\n",
      "Parameters:       ''       \n",
      "<Parameter:'area per molecule', value=119.983 +/- 22.8 , bounds=[52, 120]>\n",
      "<Parameter:   'b_heads'   , value=0.0006682 (fixed)  , bounds=[-inf, inf]>\n",
      "<Parameter:' - b_heads_imag', value=0 (fixed)  , bounds=[-inf, inf]>\n",
      "<Parameter:   'v_heads'   , value=331 (fixed)  , bounds=[-inf, inf]>\n",
      "<Parameter:'inner_head_thickness', value=10.7532 +/- 67.1 , bounds=[4, 11]>\n",
      "<Parameter:   'b_tails'   , value=-0.00042412 (fixed)  , bounds=[-inf, inf]>\n",
      "<Parameter:' - b_tails_imag', value=0 (fixed)  , bounds=[-inf, inf]>\n",
      "<Parameter:   'v_tails'   , value=886 (fixed)  , bounds=[-inf, inf]>\n",
      "<Parameter:'tail_thickness', value=16.9863 +/- 2.86 , bounds=[10, 17]>\n",
      "<Parameter:' - rough_head_tail', value=10 (fixed)  , bounds=[-inf, inf]>\n",
      "<Parameter:' - rough_fronting_mono', value=10 (fixed)  , bounds=[-inf, inf]>\n",
      "________________________________________________________________________________\n",
      "Parameters:       ''       \n",
      "<Parameter:  'd2o - sld'  , value=6.36 (fixed)  , bounds=[-inf, inf]>\n",
      "<Parameter: 'd2o - isld'  , value=0 (fixed)  , bounds=[-inf, inf]>\n",
      "________________________________________________________________________________\n",
      "Parameters:       ''       \n",
      "<Parameter:  'd2o - sld'  , value=6.36 (fixed)  , bounds=[-inf, inf]>\n",
      "<Parameter: 'd2o - isld'  , value=0 (fixed)  , bounds=[-inf, inf]>\n",
      "________________________________________________________________________________\n",
      "Parameters:       ''       \n",
      "<Parameter:'area per molecule', value=119.983 +/- 22.8 , bounds=[52, 120]>\n",
      "<Parameter:   'b_heads'   , value=0.0006682 (fixed)  , bounds=[-inf, inf]>\n",
      "<Parameter:' - b_heads_imag', value=0 (fixed)  , bounds=[-inf, inf]>\n",
      "<Parameter:   'v_heads'   , value=331 (fixed)  , bounds=[-inf, inf]>\n",
      "<Parameter:'outer_head_thickness', value=10.91 +/- 19.7 , bounds=[4, 11]>\n",
      "<Parameter:   'b_tails'   , value=-0.00042412 (fixed)  , bounds=[-inf, inf]>\n",
      "<Parameter:' - b_tails_imag', value=0 (fixed)  , bounds=[-inf, inf]>\n",
      "<Parameter:   'v_tails'   , value=886 (fixed)  , bounds=[-inf, inf]>\n",
      "<Parameter:'tail_thickness', value=16.9863 +/- 2.86 , bounds=[10, 17]>\n",
      "<Parameter:' - rough_head_tail', value=10 (fixed)  , bounds=[-inf, inf]>\n",
      "<Parameter:' - rough_fronting_mono', value=0 (fixed)  , bounds=[-inf, inf]>\n",
      "________________________________________________________________________________\n",
      "Parameters:       ''       \n",
      "<Parameter:  'd2o - sld'  , value=6.36 (fixed)  , bounds=[-inf, inf]>\n",
      "<Parameter: 'd2o - isld'  , value=0 (fixed)  , bounds=[-inf, inf]>\n",
      "________________________________________________________________________________\n",
      "Parameters:       ''       \n",
      "<Parameter:  'd2o - sld'  , value=6.36 (fixed)  , bounds=[-inf, inf]>\n",
      "<Parameter: 'd2o - isld'  , value=0 (fixed)  , bounds=[-inf, inf]>\n",
      "________________________________________________________________________________\n",
      "Parameters:      'd2o'     \n",
      "<Parameter: 'd2o - thick' , value=0 (fixed)  , bounds=[-inf, inf]>\n",
      "<Parameter:  'd2o - sld'  , value=6.36 (fixed)  , bounds=[-inf, inf]>\n",
      "<Parameter: 'd2o - isld'  , value=0 (fixed)  , bounds=[-inf, inf]>\n",
      "<Parameter:'bilayer/solvent roughness', value=4.79623 +/- 15.3 , bounds=[0, 5]>\n",
      "<Parameter:'d2o - volfrac solvent', value=0 (fixed)  , bounds=[-inf, inf]>\n",
      "\n",
      "\n"
     ]
    }
   ],
   "source": [
    "print(global_objective)"
   ]
  },
  {
   "cell_type": "code",
   "execution_count": null,
   "metadata": {},
   "outputs": [],
   "source": []
  }
 ],
 "metadata": {
  "kernelspec": {
   "display_name": "Python 3",
   "language": "python",
   "name": "python3"
  },
  "language_info": {
   "codemirror_mode": {
    "name": "ipython",
    "version": 3
   },
   "file_extension": ".py",
   "mimetype": "text/x-python",
   "name": "python",
   "nbconvert_exporter": "python",
   "pygments_lexer": "ipython3",
   "version": "3.7.4"
  }
 },
 "nbformat": 4,
 "nbformat_minor": 2
}
