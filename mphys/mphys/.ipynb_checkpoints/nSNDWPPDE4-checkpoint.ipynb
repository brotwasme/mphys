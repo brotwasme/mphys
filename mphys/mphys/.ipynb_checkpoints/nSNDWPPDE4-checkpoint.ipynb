{
 "cells": [
  {
   "cell_type": "code",
   "execution_count": 1,
   "metadata": {},
   "outputs": [
    {
     "name": "stdout",
     "output_type": "stream",
     "text": [
      "refnx: 0.1.9\n",
      "scipy: 1.3.0\n",
      "numpy: 1.16.4\n"
     ]
    }
   ],
   "source": [
    "import os.path\n",
    "import numpy as np\n",
    "import matplotlib.pyplot as plt\n",
    "import scipy\n",
    "import refnx\n",
    "from refnx.dataset import ReflectDataset, Data1D\n",
    "from refnx.analysis import Transform, CurveFitter, Objective, Model, Parameter, GlobalObjective\n",
    "from refnx.reflect import SLD, Slab, ReflectModel\n",
    "# from sepObjectiveGO import getObjective as gO\n",
    "# import make_sim_data as msd\n",
    "# import lipidBilayerAsGiven.SLD_maker \n",
    "import data_in as di\n",
    "from protein.LipidLeafletWithProtein_builtOn3 import LipidLeafletWithProtien as LipidLeaflet\n",
    "from protein.protrusion2 import Protrusion\n",
    "\n",
    "from refnx._lib import flatten\n",
    "from refnx._lib import unique as f_unique\n",
    "\n",
    "print('refnx: %s\\nscipy: %s\\nnumpy: %s' % (refnx.version.version,\n",
    "                   scipy.version.version, np.version.version))\n",
    "%matplotlib inline\n",
    "SEED = 12345"
   ]
  },
  {
   "cell_type": "code",
   "execution_count": 2,
   "metadata": {},
   "outputs": [
    {
     "name": "stdout",
     "output_type": "stream",
     "text": [
      "csv\n",
      "cvs-collecting\n",
      "csv\n",
      "cvs-collecting\n",
      "csv\n",
      "cvs-collecting\n"
     ]
    },
    {
     "data": {
      "image/png": "[encoded data removed]",
      "text/plain": [
       "<Figure size 432x288 with 1 Axes>"
      ]
     },
     "metadata": {
      "needs_background": "light"
     },
     "output_type": "display_data"
    }
   ],
   "source": [
    "# dataD2o = Data1D(data=di.data_in(\"lipidBilayerData/54696_97_edit.txt\"))\n",
    "# dataD2o.name=\"d2o\"\n",
    "# dataPmw = Data1D(data=di.data_in(\"lipidBilayerData/54699_00_edit.txt\"))\n",
    "# dataPmw.name=\"pmw\"\n",
    "\n",
    "dataAcmw = Data1D(data=di.data_in(\"protein/54613_14edit.txt\"))\n",
    "dataAcmw.name=\"acm\"\n",
    "dataPmw = Data1D(data=di.data_in(\"protein/54616_17edit.txt\"))\n",
    "dataPmw.name=\"pmw\"\n",
    "dataD2o = Data1D(data=di.data_in(\"protein/10_11_d2o.txt\"))\n",
    "dataD2o.name=\"d2o\"\n",
    "plt.errorbar(dataAcmw.data[0],dataAcmw.data[1],dataAcmw.data[2])\n",
    "plt.errorbar(dataPmw.data[0],dataPmw.data[1],dataPmw.data[2])\n",
    "plt.errorbar(dataD2o.data[0],dataD2o.data[1],dataD2o.data[2])\n",
    "plt.yscale(\"log\")\n",
    "plt.show()"
   ]
  },
  {
   "cell_type": "code",
   "execution_count": 3,
   "metadata": {},
   "outputs": [],
   "source": [
    "name = \"bilayer\"\n",
    "\n",
    "d2o = SLD(6.34, \"D2O\")\n",
    "pmw = SLD(2.35, \"Protein Matched Water\")\n",
    "acmw = SLD(0.00, \"ACMW\")\n",
    "air = SLD(0.00, \"Air\")\n",
    "\n",
    "d2o.real.setp(vary=True, bounds=(5.35, 6.35)) # bounds=(5.9, 6.35))\n",
    "pmw.real.setp(vary=True, bounds=(1.35, 3.35))\n",
    "acmw.real.setp(vary=True, bounds=(-0.56, 1))\n",
    "\n",
    "apm = Parameter(value=101, name='%s - area_per_molecule' % name,\n",
    "                bounds=(100, 200), vary=False)\n",
    "\n",
    "#Define all the neutron b's\n",
    "bc = 0.6646e-4  #Carbon\n",
    "bo = 0.5804e-4  #Oxygen\n",
    "bh = -0.3739e-4 #Hydrogen\n",
    "bp = 0.513e-4   #Phosphorus\n",
    "bn = 0.936e-4   #Nitrogen\n",
    "bd = 0.6671e-4  #Deuterium\n",
    "\n",
    "#Formulae of the molecule sections...\n",
    "CH2 = (1*bc) + (2*bh)\n",
    "CH = (1*bc) + (1*bh)\n",
    "CH3 = (1*bc) + (3*bh)\n",
    "D2O = (2*bd) + (1*bo)\n",
    "H2O = (2*bh) + (1*bo)\n",
    "\n",
    "# Calculate mole fraction of D2O from the bulk SLD..\n",
    "# d2o_molfr = (1/D2O-H2O)*(contrast*27.64)-H2O\n",
    "# wMol = (d2o_molfr * D2O) + ((1-d2o_molfr)*H2O)\n",
    "\n",
    "#sum b's of all the different fragments\n",
    "b_tails = Parameter(value=(28*CH2) + (2*CH) + (2*CH3),\n",
    "                       name='%s - b_tails_real' % name)\n",
    "\n",
    "sum_popc_heads = (8*bo) + (1*bp) + (1*bn) + (2*bc) + (4*CH2) + (3*CH3) + (1*CH)\n",
    "sum_popg_heads = (10*bo) + (1*bp) + (2*bc) + (4*CH2) + (2*CH) + (2*bh)\n",
    "b_heads = Parameter(value=(3*(sum_popc_heads) + (sum_popg_heads))/4,\n",
    "                        name='%s - b_heads_real' % name)\n",
    "\n",
    "#monolayer compositions\n",
    "#sum_m_tails = (34*CH2) + (2*CH3);\n",
    "#sum_m_heads = (1*bn) + (2*CH3) + (Waters_per_headD * wMol);\n",
    "\n",
    "#volumes of each fragment\n",
    "vCH2 = 27.7\n",
    "nCH2 = 30\n",
    "vCH3 = 54.6\n",
    "vm_tails = Parameter(value=(nCH2 * vCH2) + (2 * vCH3),\n",
    "            name='%s - volume_tails' % name) #\n",
    "vm_heads = Parameter(value=331,\n",
    "            name='%s - volume_heads' % name)  #\n",
    "vm_water = Parameter(value=29.7,\n",
    "            name='%s - water_vm' % name)\n",
    "\n",
    "#thickness\n",
    "thickness_tails = Parameter(11, # 6., #value=vm_tails.value/apm.value,\n",
    "            name='%s - thickness_tails' % name,\n",
    "            bounds=(1,30),  #3, #(1-0.75)*vm_tails.value/apm.value,\n",
    "                      #9), #(1+0.75)*vm_tails.value/apm.value),\n",
    "               vary=True)\n",
    "thickness_heads = Parameter(value= 6, #11., #vm_heads.value/apm.value,\n",
    "            name='%s - thickness_heads' % name,\n",
    "            bounds=(1,30),  #  9, #(1-0.75)*vm_heads.value/apm.value,\n",
    "                      # 20), #(1+0.75)*vm_heads.value/apm.value),\n",
    "               vary=True)\n",
    "\n",
    "rough_head_tail = Parameter(value=2,\n",
    "            name='%s - roughs' % name,\n",
    "            bounds=(0,10), vary=True)\n",
    "\n",
    "rough_top = Parameter(value=2,\n",
    "            name='%s - roughs' % name,\n",
    "            bounds=(0,20), vary=True)\n",
    "# rough_bot = rough_top\n",
    "# rough_head_ = Parameter(value=2.0,\n",
    "#             name='%s - rough_bot' % name,\n",
    "#             bounds=(0,10), vary=True)\n",
    "\n",
    "waters_per_head = Parameter(\n",
    "            value=2.8,\n",
    "            name=\"{} - Waters Per Head\".format(name),\n",
    "            bounds=(0, 20), vary=True)\n",
    "\n",
    "waters_per_tail = Parameter(\n",
    "            value=1,\n",
    "            name=\"{} - Waters Per Tail\".format(name),\n",
    "            bounds=(0, 10), vary=True)\n",
    "\n",
    "# b_mscl = Parameter(\n",
    "#             value= ,\n",
    "#             name=\"{} - b_protein_real\".format(name),\n",
    "#             vary=False)\n",
    "\n",
    "vm_mscl = Parameter(\n",
    "            value=74937.5 + 19749,\n",
    "            name=\"{} - volume_protein\".format(name),\n",
    "            vary=False)\n",
    "\n",
    "PLRatio = Parameter(\n",
    "            value= 0.75,\n",
    "            name=\"{} - ratio protein to bilayer\".format(name),\n",
    "            bounds=(0.5, 1),vary=True)\n"
   ]
  },
  {
   "cell_type": "code",
   "execution_count": 4,
   "metadata": {},
   "outputs": [],
   "source": [
    "# apm, b_heads, vm_heads, thickness_heads\n",
    "# b_tails, vm_tails, thickness_tails, rough_head_tail\n",
    "# rough_preceding_mono, head_solvent\n",
    "\n",
    "rough_preceding_solution = Parameter(value=4.6, bounds=(0, 20), vary=True,\n",
    "            name='rough_preceding_solution')\n",
    "\n",
    "# head_solvent_d2o = SLD(6.07, \"D2O in bilayer\")\n",
    "# head_solvent_d2o.real.setp(6.07, vary=True, bounds=(5.35, 6.35))\n",
    "upper_lipid_d2o = LipidLeaflet(apm, b_heads, vm_heads, thickness_heads,\n",
    "    b_tails, vm_tails, thickness_tails, rough_head_tail, rough_preceding_solution,\n",
    "    vm_water, waters_per_head, waters_per_tail,\n",
    "    vm_mscl, PLRatio, d2o, d2o,\n",
    "    reverse_monolayer=False, name=\"upper_lipid_d2o\")\n",
    "\n",
    "lower_lipid_d2o = LipidLeaflet(apm, b_heads, vm_heads, thickness_heads,\n",
    "    b_tails, vm_tails, thickness_tails, rough_head_tail, rough_preceding_solution,\n",
    "    vm_water, waters_per_head, waters_per_tail,\n",
    "    vm_mscl, PLRatio, d2o, d2o,\n",
    "    reverse_monolayer=True, name=\"lower_lipid_d2o\")\n",
    "\n",
    "\n",
    "# head_solvent_pmw = SLD(2.35, \"Protein Matched Water in bilayer\")\n",
    "# head_solvent_pmw.real.setp(2.34, vary=True, bounds=(1.35, 3.35))\n",
    "upper_lipid_pmw = LipidLeaflet(apm, b_heads, vm_heads, thickness_heads,\n",
    "    b_tails, vm_tails, thickness_tails, rough_head_tail, rough_preceding_solution,\n",
    "    vm_water, waters_per_head, waters_per_tail,\n",
    "    vm_mscl, PLRatio, pmw, pmw,\n",
    "    reverse_monolayer=False, name=\"upper_lipid_pmw\")\n",
    "\n",
    "lower_lipid_pmw = LipidLeaflet(apm, b_heads, vm_heads, thickness_heads,\n",
    "    b_tails, vm_tails, thickness_tails, rough_head_tail, rough_preceding_solution,\n",
    "    vm_water, waters_per_head, waters_per_tail,\n",
    "    vm_mscl, PLRatio, pmw, pmw,\n",
    "    reverse_monolayer=True, name=\"lower_lipid_pmw\")\n",
    "\n",
    "\n",
    "upper_lipid_acmw = LipidLeaflet(apm, b_heads, vm_heads, thickness_heads,\n",
    "    b_tails, vm_tails, thickness_tails, rough_head_tail, rough_preceding_solution,\n",
    "    vm_water, waters_per_head, waters_per_tail,\n",
    "    vm_mscl, PLRatio, acmw, acmw,\n",
    "    reverse_monolayer=False, name=\"upper_lipid_acmw\")\n",
    "\n",
    "lower_lipid_acmw = LipidLeaflet(apm, b_heads, vm_heads, thickness_heads,\n",
    "    b_tails, vm_tails, thickness_tails, rough_head_tail, rough_preceding_solution,\n",
    "    vm_water, waters_per_head, waters_per_tail,\n",
    "    vm_mscl, PLRatio, acmw, acmw,\n",
    "    reverse_monolayer=True, name=\"lower_lipid_acmw\")"
   ]
  },
  {
   "cell_type": "code",
   "execution_count": null,
   "metadata": {},
   "outputs": [],
   "source": []
  },
  {
   "cell_type": "code",
   "execution_count": null,
   "metadata": {},
   "outputs": [],
   "source": []
  },
  {
   "cell_type": "code",
   "execution_count": 5,
   "metadata": {
    "scrolled": true
   },
   "outputs": [
    {
     "data": {
      "image/png": "[encoded data removed]",
      "text/plain": [
       "<Figure size 432x288 with 1 Axes>"
      ]
     },
     "metadata": {
      "needs_background": "light"
     },
     "output_type": "display_data"
    },
    {
     "name": "stdout",
     "output_type": "stream",
     "text": [
      "________________________________________________________________________________\n",
      "Parameters: 'Structure - d2o'\n",
      "________________________________________________________________________________\n",
      "Parameters:      'Air'     \n",
      "<Parameter: 'Air - thick' , value=0 (fixed)  , bounds=[-inf, inf]>\n",
      "<Parameter:  'Air - sld'  , value=0 (fixed)  , bounds=[-inf, inf]>\n",
      "<Parameter: 'Air - isld'  , value=0 (fixed)  , bounds=[-inf, inf]>\n",
      "<Parameter: 'Air - rough' , value=0 (fixed)  , bounds=[-inf, inf]>\n",
      "<Parameter:'Air - volfrac solvent', value=0 (fixed)  , bounds=[-inf, inf]>\n",
      "________________________________________________________________________________\n",
      "Parameters:      'D2O'     \n",
      "<Parameter:'thickness_solution', value=14.3          , bounds=[6, 25]>\n",
      "<Parameter:  'D2O - sld'  , value=6.34          , bounds=[5.35, 6.35]>\n",
      "<Parameter: 'D2O - isld'  , value=0 (fixed)  , bounds=[-inf, inf]>\n",
      "<Parameter:'bilayer - roughs', value=2          , bounds=[0, 20]>\n",
      "<Parameter:'D2O - volfrac solvent', value=0 (fixed)  , bounds=[-inf, inf]>\n",
      "________________________________________________________________________________\n",
      "Parameters: 'upper_lipid_d2o'\n",
      "<Parameter:'bilayer - area_per_molecule', value=758.945 (fixed)  , bounds=[100, 200]>\n",
      "<Parameter:'bilayer - b_heads_real', value=0.000629275 (fixed)  , bounds=[-inf, inf]>\n",
      "<Parameter:'upper_lipid_d2o - b_heads_imag', value=0 (fixed)  , bounds=[-inf, inf]>\n",
      "<Parameter:'bilayer - volume_heads', value=331 (fixed)  , bounds=[-inf, inf]>\n",
      "<Parameter:'bilayer - thickness_heads', value=6          , bounds=[1, 30]>\n",
      "<Parameter:'bilayer - b_tails_real', value=-0.00026624 (fixed)  , bounds=[-inf, inf]>\n",
      "<Parameter:'upper_lipid_d2o - b_tails_imag', value=0 (fixed)  , bounds=[-inf, inf]>\n",
      "<Parameter:'bilayer - volume_tails', value=940.2 (fixed)  , bounds=[-inf, inf]>\n",
      "<Parameter:'bilayer - thickness_tails', value=11          , bounds=[1, 30]>\n",
      "<Parameter:'bilayer - roughs', value=2          , bounds=[0, 10]>\n",
      "<Parameter:'rough_preceding_solution', value=4.6          , bounds=[0, 20]>\n",
      "________________________________________________________________________________\n",
      "Parameters:       ''       \n",
      "<Parameter:  'D2O - sld'  , value=6.34          , bounds=[5.35, 6.35]>\n",
      "<Parameter: 'D2O - isld'  , value=0 (fixed)  , bounds=[-inf, inf]>\n",
      "________________________________________________________________________________\n",
      "Parameters:       ''       \n",
      "<Parameter:  'D2O - sld'  , value=6.34          , bounds=[5.35, 6.35]>\n",
      "<Parameter: 'D2O - isld'  , value=0 (fixed)  , bounds=[-inf, inf]>\n",
      "<Parameter:'bilayer - water_vm', value=29.7 (fixed)  , bounds=[-inf, inf]>\n",
      "<Parameter:'bilayer - Waters Per Head', value=2.8          , bounds=[0, 20]>\n",
      "<Parameter:'bilayer - Waters Per Tail', value=1          , bounds=[0, 10]>\n",
      "<Parameter:'bilayer - Waters Per Head', value=2.8          , bounds=[0, 20]>\n",
      "<Parameter:'bilayer - Waters Per Tail', value=1          , bounds=[0, 10]>\n",
      "<Parameter:'bilayer - volume_protein', value=94686.5 (fixed)  , bounds=[-inf, inf]>\n",
      "<Parameter:'bilayer - ratio protein to bilayer', value=0.75          , bounds=[0.5, 1]>\n",
      "________________________________________________________________________________\n",
      "Parameters: 'lower_lipid_d2o'\n",
      "<Parameter:'bilayer - area_per_molecule', value=758.945 (fixed)  , bounds=[100, 200]>\n",
      "<Parameter:'bilayer - b_heads_real', value=0.000629275 (fixed)  , bounds=[-inf, inf]>\n",
      "<Parameter:'lower_lipid_d2o - b_heads_imag', value=0 (fixed)  , bounds=[-inf, inf]>\n",
      "<Parameter:'bilayer - volume_heads', value=331 (fixed)  , bounds=[-inf, inf]>\n",
      "<Parameter:'bilayer - thickness_heads', value=6          , bounds=[1, 30]>\n",
      "<Parameter:'bilayer - b_tails_real', value=-0.00026624 (fixed)  , bounds=[-inf, inf]>\n",
      "<Parameter:'lower_lipid_d2o - b_tails_imag', value=0 (fixed)  , bounds=[-inf, inf]>\n",
      "<Parameter:'bilayer - volume_tails', value=940.2 (fixed)  , bounds=[-inf, inf]>\n",
      "<Parameter:'bilayer - thickness_tails', value=11          , bounds=[1, 30]>\n",
      "<Parameter:'bilayer - roughs', value=2          , bounds=[0, 10]>\n",
      "<Parameter:'rough_preceding_solution', value=4.6          , bounds=[0, 20]>\n",
      "________________________________________________________________________________\n",
      "Parameters:       ''       \n",
      "<Parameter:  'D2O - sld'  , value=6.34          , bounds=[5.35, 6.35]>\n",
      "<Parameter: 'D2O - isld'  , value=0 (fixed)  , bounds=[-inf, inf]>\n",
      "________________________________________________________________________________\n",
      "Parameters:       ''       \n",
      "<Parameter:  'D2O - sld'  , value=6.34          , bounds=[5.35, 6.35]>\n",
      "<Parameter: 'D2O - isld'  , value=0 (fixed)  , bounds=[-inf, inf]>\n",
      "<Parameter:'bilayer - water_vm', value=29.7 (fixed)  , bounds=[-inf, inf]>\n",
      "<Parameter:'bilayer - Waters Per Head', value=2.8          , bounds=[0, 20]>\n",
      "<Parameter:'bilayer - Waters Per Tail', value=1          , bounds=[0, 10]>\n",
      "<Parameter:'bilayer - Waters Per Head', value=2.8          , bounds=[0, 20]>\n",
      "<Parameter:'bilayer - Waters Per Tail', value=1          , bounds=[0, 10]>\n",
      "<Parameter:'bilayer - volume_protein', value=94686.5 (fixed)  , bounds=[-inf, inf]>\n",
      "<Parameter:'bilayer - ratio protein to bilayer', value=0.75          , bounds=[0.5, 1]>\n",
      "________________________________________________________________________________\n",
      "Parameters:      'D2O'     \n",
      "<Parameter:'thickness_solution', value=14.3          , bounds=[6, 25]>\n",
      "<Parameter:  'D2O - sld'  , value=6.34          , bounds=[5.35, 6.35]>\n",
      "<Parameter: 'D2O - isld'  , value=0 (fixed)  , bounds=[-inf, inf]>\n",
      "<Parameter:'rough_preceding_solution', value=4.6          , bounds=[0, 20]>\n",
      "<Parameter:'D2O - volfrac solvent', value=0 (fixed)  , bounds=[-inf, inf]>\n",
      "________________________________________________________________________________\n",
      "Parameters: 'Structure - protein matched water'\n",
      "________________________________________________________________________________\n",
      "Parameters:      'Air'     \n",
      "<Parameter: 'Air - thick' , value=0 (fixed)  , bounds=[-inf, inf]>\n",
      "<Parameter:  'Air - sld'  , value=0 (fixed)  , bounds=[-inf, inf]>\n",
      "<Parameter: 'Air - isld'  , value=0 (fixed)  , bounds=[-inf, inf]>\n",
      "<Parameter: 'Air - rough' , value=0 (fixed)  , bounds=[-inf, inf]>\n",
      "<Parameter:'Air - volfrac solvent', value=0 (fixed)  , bounds=[-inf, inf]>\n",
      "________________________________________________________________________________\n",
      "Parameters: 'Protein Matched Water'\n",
      "<Parameter:'thickness_solution', value=14.3          , bounds=[6, 25]>\n",
      "<Parameter:'Protein Matched Water - sld', value=2.35          , bounds=[1.35, 3.35]>\n",
      "<Parameter:'Protein Matched Water - isld', value=0 (fixed)  , bounds=[-inf, inf]>\n",
      "<Parameter:'bilayer - roughs', value=2          , bounds=[0, 20]>\n",
      "<Parameter:'Protein Matched Water - volfrac solvent', value=0 (fixed)  , bounds=[-inf, inf]>\n",
      "________________________________________________________________________________\n",
      "Parameters: 'upper_lipid_pmw'\n",
      "<Parameter:'bilayer - area_per_molecule', value=758.945 (fixed)  , bounds=[100, 200]>\n",
      "<Parameter:'bilayer - b_heads_real', value=0.000629275 (fixed)  , bounds=[-inf, inf]>\n",
      "<Parameter:'upper_lipid_pmw - b_heads_imag', value=0 (fixed)  , bounds=[-inf, inf]>\n",
      "<Parameter:'bilayer - volume_heads', value=331 (fixed)  , bounds=[-inf, inf]>\n",
      "<Parameter:'bilayer - thickness_heads', value=6          , bounds=[1, 30]>\n",
      "<Parameter:'bilayer - b_tails_real', value=-0.00026624 (fixed)  , bounds=[-inf, inf]>\n",
      "<Parameter:'upper_lipid_pmw - b_tails_imag', value=0 (fixed)  , bounds=[-inf, inf]>\n",
      "<Parameter:'bilayer - volume_tails', value=940.2 (fixed)  , bounds=[-inf, inf]>\n",
      "<Parameter:'bilayer - thickness_tails', value=11          , bounds=[1, 30]>\n",
      "<Parameter:'bilayer - roughs', value=2          , bounds=[0, 10]>\n",
      "<Parameter:'rough_preceding_solution', value=4.6          , bounds=[0, 20]>\n",
      "________________________________________________________________________________\n",
      "Parameters:       ''       \n",
      "<Parameter:'Protein Matched Water - sld', value=2.35          , bounds=[1.35, 3.35]>\n",
      "<Parameter:'Protein Matched Water - isld', value=0 (fixed)  , bounds=[-inf, inf]>\n",
      "________________________________________________________________________________\n",
      "Parameters:       ''       \n",
      "<Parameter:'Protein Matched Water - sld', value=2.35          , bounds=[1.35, 3.35]>\n",
      "<Parameter:'Protein Matched Water - isld', value=0 (fixed)  , bounds=[-inf, inf]>\n",
      "<Parameter:'bilayer - water_vm', value=29.7 (fixed)  , bounds=[-inf, inf]>\n",
      "<Parameter:'bilayer - Waters Per Head', value=2.8          , bounds=[0, 20]>\n",
      "<Parameter:'bilayer - Waters Per Tail', value=1          , bounds=[0, 10]>\n",
      "<Parameter:'bilayer - Waters Per Head', value=2.8          , bounds=[0, 20]>\n",
      "<Parameter:'bilayer - Waters Per Tail', value=1          , bounds=[0, 10]>\n",
      "<Parameter:'bilayer - volume_protein', value=94686.5 (fixed)  , bounds=[-inf, inf]>\n",
      "<Parameter:'bilayer - ratio protein to bilayer', value=0.75          , bounds=[0.5, 1]>\n",
      "________________________________________________________________________________\n",
      "Parameters: 'lower_lipid_pmw'\n",
      "<Parameter:'bilayer - area_per_molecule', value=758.945 (fixed)  , bounds=[100, 200]>\n",
      "<Parameter:'bilayer - b_heads_real', value=0.000629275 (fixed)  , bounds=[-inf, inf]>\n",
      "<Parameter:'lower_lipid_pmw - b_heads_imag', value=0 (fixed)  , bounds=[-inf, inf]>\n",
      "<Parameter:'bilayer - volume_heads', value=331 (fixed)  , bounds=[-inf, inf]>\n",
      "<Parameter:'bilayer - thickness_heads', value=6          , bounds=[1, 30]>\n",
      "<Parameter:'bilayer - b_tails_real', value=-0.00026624 (fixed)  , bounds=[-inf, inf]>\n",
      "<Parameter:'lower_lipid_pmw - b_tails_imag', value=0 (fixed)  , bounds=[-inf, inf]>\n",
      "<Parameter:'bilayer - volume_tails', value=940.2 (fixed)  , bounds=[-inf, inf]>\n",
      "<Parameter:'bilayer - thickness_tails', value=11          , bounds=[1, 30]>\n",
      "<Parameter:'bilayer - roughs', value=2          , bounds=[0, 10]>\n",
      "<Parameter:'rough_preceding_solution', value=4.6          , bounds=[0, 20]>\n",
      "________________________________________________________________________________\n",
      "Parameters:       ''       \n",
      "<Parameter:'Protein Matched Water - sld', value=2.35          , bounds=[1.35, 3.35]>\n",
      "<Parameter:'Protein Matched Water - isld', value=0 (fixed)  , bounds=[-inf, inf]>\n",
      "________________________________________________________________________________\n",
      "Parameters:       ''       \n",
      "<Parameter:'Protein Matched Water - sld', value=2.35          , bounds=[1.35, 3.35]>\n",
      "<Parameter:'Protein Matched Water - isld', value=0 (fixed)  , bounds=[-inf, inf]>\n",
      "<Parameter:'bilayer - water_vm', value=29.7 (fixed)  , bounds=[-inf, inf]>\n",
      "<Parameter:'bilayer - Waters Per Head', value=2.8          , bounds=[0, 20]>\n",
      "<Parameter:'bilayer - Waters Per Tail', value=1          , bounds=[0, 10]>\n",
      "<Parameter:'bilayer - Waters Per Head', value=2.8          , bounds=[0, 20]>\n",
      "<Parameter:'bilayer - Waters Per Tail', value=1          , bounds=[0, 10]>\n",
      "<Parameter:'bilayer - volume_protein', value=94686.5 (fixed)  , bounds=[-inf, inf]>\n",
      "<Parameter:'bilayer - ratio protein to bilayer', value=0.75          , bounds=[0.5, 1]>\n",
      "________________________________________________________________________________\n",
      "Parameters: 'Protein Matched Water'\n",
      "<Parameter:'thickness_solution', value=14.3          , bounds=[6, 25]>\n",
      "<Parameter:'Protein Matched Water - sld', value=2.35          , bounds=[1.35, 3.35]>\n",
      "<Parameter:'Protein Matched Water - isld', value=0 (fixed)  , bounds=[-inf, inf]>\n",
      "<Parameter:'rough_preceding_solution', value=4.6          , bounds=[0, 20]>\n"
     ]
    },
    {
     "name": "stdout",
     "output_type": "stream",
     "text": [
      "<Parameter:'Protein Matched Water - volfrac solvent', value=0 (fixed)  , bounds=[-inf, inf]>\n",
      "________________________________________________________________________________\n",
      "Parameters: 'Structure - ACMW'\n",
      "________________________________________________________________________________\n",
      "Parameters:      'Air'     \n",
      "<Parameter: 'Air - thick' , value=0 (fixed)  , bounds=[-inf, inf]>\n",
      "<Parameter:  'Air - sld'  , value=0 (fixed)  , bounds=[-inf, inf]>\n",
      "<Parameter: 'Air - isld'  , value=0 (fixed)  , bounds=[-inf, inf]>\n",
      "<Parameter: 'Air - rough' , value=0 (fixed)  , bounds=[-inf, inf]>\n",
      "<Parameter:'Air - volfrac solvent', value=0 (fixed)  , bounds=[-inf, inf]>\n",
      "________________________________________________________________________________\n",
      "Parameters:     'ACMW'     \n",
      "<Parameter:'thickness_solution', value=14.3          , bounds=[6, 25]>\n",
      "<Parameter: 'ACMW - sld'  , value=0          , bounds=[-0.56, 1]>\n",
      "<Parameter: 'ACMW - isld' , value=0 (fixed)  , bounds=[-inf, inf]>\n",
      "<Parameter:'bilayer - roughs', value=2          , bounds=[0, 20]>\n",
      "<Parameter:'ACMW - volfrac solvent', value=0 (fixed)  , bounds=[-inf, inf]>\n",
      "________________________________________________________________________________\n",
      "Parameters: 'upper_lipid_acmw'\n",
      "<Parameter:'bilayer - area_per_molecule', value=758.945 (fixed)  , bounds=[100, 200]>\n",
      "<Parameter:'bilayer - b_heads_real', value=0.000629275 (fixed)  , bounds=[-inf, inf]>\n",
      "<Parameter:'upper_lipid_acmw - b_heads_imag', value=0 (fixed)  , bounds=[-inf, inf]>\n",
      "<Parameter:'bilayer - volume_heads', value=331 (fixed)  , bounds=[-inf, inf]>\n",
      "<Parameter:'bilayer - thickness_heads', value=6          , bounds=[1, 30]>\n",
      "<Parameter:'bilayer - b_tails_real', value=-0.00026624 (fixed)  , bounds=[-inf, inf]>\n",
      "<Parameter:'upper_lipid_acmw - b_tails_imag', value=0 (fixed)  , bounds=[-inf, inf]>\n",
      "<Parameter:'bilayer - volume_tails', value=940.2 (fixed)  , bounds=[-inf, inf]>\n",
      "<Parameter:'bilayer - thickness_tails', value=11          , bounds=[1, 30]>\n",
      "<Parameter:'bilayer - roughs', value=2          , bounds=[0, 10]>\n",
      "<Parameter:'rough_preceding_solution', value=4.6          , bounds=[0, 20]>\n",
      "________________________________________________________________________________\n",
      "Parameters:       ''       \n",
      "<Parameter: 'ACMW - sld'  , value=0          , bounds=[-0.56, 1]>\n",
      "<Parameter: 'ACMW - isld' , value=0 (fixed)  , bounds=[-inf, inf]>\n",
      "________________________________________________________________________________\n",
      "Parameters:       ''       \n",
      "<Parameter: 'ACMW - sld'  , value=0          , bounds=[-0.56, 1]>\n",
      "<Parameter: 'ACMW - isld' , value=0 (fixed)  , bounds=[-inf, inf]>\n",
      "<Parameter:'bilayer - water_vm', value=29.7 (fixed)  , bounds=[-inf, inf]>\n",
      "<Parameter:'bilayer - Waters Per Head', value=2.8          , bounds=[0, 20]>\n",
      "<Parameter:'bilayer - Waters Per Tail', value=1          , bounds=[0, 10]>\n",
      "<Parameter:'bilayer - Waters Per Head', value=2.8          , bounds=[0, 20]>\n",
      "<Parameter:'bilayer - Waters Per Tail', value=1          , bounds=[0, 10]>\n",
      "<Parameter:'bilayer - volume_protein', value=94686.5 (fixed)  , bounds=[-inf, inf]>\n",
      "<Parameter:'bilayer - ratio protein to bilayer', value=0.75          , bounds=[0.5, 1]>\n",
      "________________________________________________________________________________\n",
      "Parameters: 'lower_lipid_acmw'\n",
      "<Parameter:'bilayer - area_per_molecule', value=758.945 (fixed)  , bounds=[100, 200]>\n",
      "<Parameter:'bilayer - b_heads_real', value=0.000629275 (fixed)  , bounds=[-inf, inf]>\n",
      "<Parameter:'lower_lipid_acmw - b_heads_imag', value=0 (fixed)  , bounds=[-inf, inf]>\n",
      "<Parameter:'bilayer - volume_heads', value=331 (fixed)  , bounds=[-inf, inf]>\n",
      "<Parameter:'bilayer - thickness_heads', value=6          , bounds=[1, 30]>\n",
      "<Parameter:'bilayer - b_tails_real', value=-0.00026624 (fixed)  , bounds=[-inf, inf]>\n",
      "<Parameter:'lower_lipid_acmw - b_tails_imag', value=0 (fixed)  , bounds=[-inf, inf]>\n",
      "<Parameter:'bilayer - volume_tails', value=940.2 (fixed)  , bounds=[-inf, inf]>\n",
      "<Parameter:'bilayer - thickness_tails', value=11          , bounds=[1, 30]>\n",
      "<Parameter:'bilayer - roughs', value=2          , bounds=[0, 10]>\n",
      "<Parameter:'rough_preceding_solution', value=4.6          , bounds=[0, 20]>\n",
      "________________________________________________________________________________\n",
      "Parameters:       ''       \n",
      "<Parameter: 'ACMW - sld'  , value=0          , bounds=[-0.56, 1]>\n",
      "<Parameter: 'ACMW - isld' , value=0 (fixed)  , bounds=[-inf, inf]>\n",
      "________________________________________________________________________________\n",
      "Parameters:       ''       \n",
      "<Parameter: 'ACMW - sld'  , value=0          , bounds=[-0.56, 1]>\n",
      "<Parameter: 'ACMW - isld' , value=0 (fixed)  , bounds=[-inf, inf]>\n",
      "<Parameter:'bilayer - water_vm', value=29.7 (fixed)  , bounds=[-inf, inf]>\n",
      "<Parameter:'bilayer - Waters Per Head', value=2.8          , bounds=[0, 20]>\n",
      "<Parameter:'bilayer - Waters Per Tail', value=1          , bounds=[0, 10]>\n",
      "<Parameter:'bilayer - Waters Per Head', value=2.8          , bounds=[0, 20]>\n",
      "<Parameter:'bilayer - Waters Per Tail', value=1          , bounds=[0, 10]>\n",
      "<Parameter:'bilayer - volume_protein', value=94686.5 (fixed)  , bounds=[-inf, inf]>\n",
      "<Parameter:'bilayer - ratio protein to bilayer', value=0.75          , bounds=[0.5, 1]>\n",
      "________________________________________________________________________________\n",
      "Parameters:     'ACMW'     \n",
      "<Parameter:'thickness_solution', value=14.3          , bounds=[6, 25]>\n",
      "<Parameter: 'ACMW - sld'  , value=0          , bounds=[-0.56, 1]>\n",
      "<Parameter: 'ACMW - isld' , value=0 (fixed)  , bounds=[-inf, inf]>\n",
      "<Parameter:'rough_preceding_solution', value=4.6          , bounds=[0, 20]>\n",
      "<Parameter:'ACMW - volfrac solvent', value=0 (fixed)  , bounds=[-inf, inf]>\n"
     ]
    }
   ],
   "source": [
    "# to changing to\n",
    "solution_thickness = Parameter(value=14.3, bounds=(6, 25), vary=True,\n",
    "            name='thickness_solution')\n",
    "\n",
    "# rough_preceding_solution = Parameter(value=4.6, bounds=(0, 20), vary=True,\n",
    "#             name='rough_preceding_solution')\n",
    "\n",
    "structure_d2o  = air(0, 0) | d2o(solution_thickness, rough_top)  | upper_lipid_d2o  | lower_lipid_d2o  | d2o(solution_thickness, rough_preceding_solution)\n",
    "structure_pmw  = air(0, 0) | pmw(solution_thickness, rough_top)  | upper_lipid_pmw  | lower_lipid_pmw  | pmw(solution_thickness, rough_preceding_solution)\n",
    "structure_acmw = air(0, 0) | acmw(solution_thickness, rough_top) | upper_lipid_acmw | lower_lipid_acmw | acmw(solution_thickness, rough_preceding_solution)\n",
    "\n",
    "# structure_d2o  = air(0, 0) | d2o(solution_thickness, rough_preceding_solution)  | upper_lipid_d2o  | lower_lipid_d2o  | d2o(solution_thickness, rough_preceding_solution)\n",
    "# structure_pmw  = air(0, 0) | pmw(solution_thickness, rough_preceding_solution)  | upper_lipid_pmw  | lower_lipid_pmw  | pmw(solution_thickness, rough_preceding_solution)\n",
    "# structure_acmw = air(0, 0) | acmw(solution_thickness, rough_preceding_solution) | upper_lipid_acmw | lower_lipid_acmw | acmw(solution_thickness, rough_preceding_solution)\n",
    "\n",
    "structure_d2o.name = \"d2o\"\n",
    "structure_pmw.name = \"protein matched water\"\n",
    "structure_acmw.name = \"ACMW\"\n",
    "\n",
    "plt.plot(*structure_d2o.sld_profile(),label=\"structure_d2o\")\n",
    "plt.ylabel('SLD /$10^{-6} \\AA^{-2}$')\n",
    "plt.xlabel('distance / $\\AA$')\n",
    "plt.plot(*structure_pmw.sld_profile(),label=\"structure_pmw\")\n",
    "plt.ylabel('SLD /$10^{-6} \\AA^{-2}$')\n",
    "plt.xlabel('distance / $\\AA$')\n",
    "plt.plot(*structure_acmw.sld_profile(),label=\"structure_acmw\")\n",
    "plt.ylabel('SLD /$10^{-6} \\AA^{-2}$')\n",
    "plt.xlabel('distance / $\\AA$')\n",
    "plt.show();\n",
    "print(structure_d2o.parameters)\n",
    "print(structure_pmw.parameters)\n",
    "print(structure_acmw.parameters)"
   ]
  },
  {
   "cell_type": "code",
   "execution_count": 6,
   "metadata": {
    "scrolled": true
   },
   "outputs": [],
   "source": [
    "# right_protrusion_d2o.parameters"
   ]
  },
  {
   "cell_type": "code",
   "execution_count": 7,
   "metadata": {
    "scrolled": true
   },
   "outputs": [],
   "source": [
    "# print(structure_acmw.slabs())\n",
    "# print(structure_pmw.slabs())\n",
    "# print(structure_d2o.slabs())"
   ]
  },
  {
   "cell_type": "code",
   "execution_count": 8,
   "metadata": {},
   "outputs": [
    {
     "name": "stdout",
     "output_type": "stream",
     "text": [
      "0.562 0.0655 0.000924\n",
      "1.8e-06 3.02e-06 1.73e-06\n"
     ]
    }
   ],
   "source": [
    "scale=0.5538\n",
    "print(dataD2o.y.max(), dataPmw.y.max(), dataAcmw.y.max())\n",
    "print(dataD2o.y.min(), dataPmw.y.min(), dataAcmw.y.min())\n",
    "model1 = ReflectModel(structure_d2o)\n",
    "model1.scale.setp(scale, vary=False)#0.5, vary=True, bounds=(0.5, 0.6))#0.25, 1)) #1./dataD2o.y.max()\n",
    "if dataD2o.y.min()<0:\n",
    "    d2oUpBound = dataD2o.y.min() * 0.2\n",
    "    d2oLoBound = dataD2o.y.min() * 1.8\n",
    "else:\n",
    "    d2oUpBound = dataD2o.y.min() * 1.8\n",
    "    d2oLoBound = dataD2o.y.min() * 0.2\n",
    "model1.bkg.setp(dataD2o.y.min(),vary=True,bounds=(d2oLoBound, d2oUpBound))\n",
    "\n",
    "model2 = ReflectModel(structure_pmw)\n",
    "model2.scale.setp(scale, vary=False)#0.5, vary=True, bounds=(0.5, 0.6))#0.25, 1))#(1./dataPmw.y.max(), vary=False)\n",
    "if dataPmw.y.min()<0:\n",
    "    pmwUpBound = dataPmw.y.min() * 0.2\n",
    "    pmwLoBound = dataPmw.y.min() * 1.8\n",
    "else:\n",
    "    pmwUpBound = dataPmw.y.min() * 1.8\n",
    "    pmwLoBound = dataPmw.y.min() * 0.2\n",
    "model2.bkg.setp(dataPmw.y.min(),vary=True,bounds=(pmwLoBound, pmwUpBound))\n",
    "\n",
    "model3 = ReflectModel(structure_acmw)\n",
    "model3.scale.setp(scale, vary=False)#0.5, vary=True, bounds=(0.5, 0.6))#0.25, 1)) #1./dataAcmw.y.max(), vary=False)\n",
    "if dataAcmw.y.min()<0:\n",
    "    acmwUpBound = dataAcmw.y.min() * 0.2\n",
    "    acmwLoBound = dataAcmw.y.min() * 1.8\n",
    "else:\n",
    "    acmwUpBound = dataAcmw.y.min() * 1.8\n",
    "    acmwLoBound = dataAcmw.y.min() * 0.2\n",
    "model3.bkg.setp(dataAcmw.y.min(),vary=True,bounds=(acmwLoBound, acmwUpBound))\n",
    "\n",
    "objective1 = Objective(model1, dataD2o, transform=Transform(\"logY\"))\n",
    "objective2 = Objective(model2, dataPmw, transform=Transform(\"logY\"))\n",
    "objective3 = Objective(model3, dataAcmw, transform=Transform(\"logY\"))\n",
    "gobjective = GlobalObjective([objective1,objective2,objective3])"
   ]
  },
  {
   "cell_type": "code",
   "execution_count": 9,
   "metadata": {},
   "outputs": [
    {
     "name": "stdout",
     "output_type": "stream",
     "text": [
      "\n",
      "logp: -31.077228516152875\n",
      "0 bkg: 1.8e-06 [3.6e-07, 3.24e-06] logp: 12.75772026381642\n",
      "1 thickness_solution: 14.3 [6, 25] logp: -2.9444389791664407\n",
      "2 D2O - sld: 6.34 [5.35, 6.35] logp: 0.0\n",
      "3 bilayer - roughs: 2.0 [0, 20] logp: -2.995732273553991\n",
      "4 bilayer - thickness_heads: 6.0 [1, 30] logp: -3.367295829986474\n",
      "5 bilayer - thickness_tails: 11.0 [1, 30] logp: -3.367295829986474\n",
      "6 bilayer - roughs: 2.0 [0, 10] logp: -2.3025850929940455\n",
      "7 rough_preceding_solution: 4.6 [0, 20] logp: -2.995732273553991\n",
      "8 bilayer - Waters Per Head: 2.8 [0, 20] logp: -2.995732273553991\n",
      "9 bilayer - Waters Per Tail: 1.0 [0, 10] logp: -2.3025850929940455\n",
      "10 bilayer - ratio protein to bilayer: 0.75 [0.5, 1] logp: 0.6931471805599453\n",
      "11 bkg: 3.02e-06 [6.040000000000001e-07, 5.436e-06] logp: 12.24025009733176\n",
      "12 Protein Matched Water - sld: 2.35 [1.35, 3.35] logp: -0.6931471805599453\n",
      "13 bkg: 1.73e-06 [3.46e-07, 3.114e-06] logp: 12.79738552020885\n",
      "14 ACMW - sld: 0.0 [-0.56, 1] logp: -0.4446858212614458\n",
      "\n",
      "[Parameter(value=758.9454411764706, name='bilayer - area_per_molecule', vary=False, bounds=Interval(lb=100, ub=200), constraint=None)]\n"
     ]
    }
   ],
   "source": [
    "print(\"\")\n",
    "print(\"logp:\",gobjective.logp())\n",
    "[[print(i,param.name+\":\",param.value, param.bounds,\"logp:\", param.logp())] for i,param in enumerate(gobjective.varying_parameters())];\n",
    "# print\n",
    "# [[print(i,param)] for i,param in enumerate(gobjective.parameters)];# if \"area_per_molecule\" in param.name];\n",
    "# gobjective.parameters\n",
    "print()\n",
    "# [[print(i,param.name)] for i,param in enumerate(gobjective.parameters)];# if \"area\" in param\n",
    "print(list(f_unique(p for p in flatten(gobjective.parameters) if \"area\" in p.name)))"
   ]
  },
  {
   "cell_type": "code",
   "execution_count": 10,
   "metadata": {
    "scrolled": true
   },
   "outputs": [
    {
     "name": "stdout",
     "output_type": "stream",
     "text": [
      "done\n",
      "Wall time: 5min 11s\n"
     ]
    }
   ],
   "source": [
    "%%time\n",
    "choose = 0\n",
    "if choose==0:\n",
    "    fitter = CurveFitter(gobjective)\n",
    "    res = fitter.fit(\"differential_evolution\", target=\"nlpost\")#, seed=SEED)\n",
    "if choose==1:\n",
    "    fitter = CurveFitter(gobjective)\n",
    "    fitter.sample(400)\n",
    "    fitter.reset()\n",
    "    res = fitter.sample(15, nthin=100)\n",
    "if choose==2:\n",
    "    from dynesty import DynamicNestedSampler\n",
    "    from dynesty import plotting as dyplot\n",
    "    from CFitter import CFitter\n",
    "    fitter = CFitter(gobjective)\n",
    "    # DynamicNestedSampler\n",
    "    DNSampler = DynamicNestedSampler(fitter.logl, fitter.priorTransform, fitter.nDim())\n",
    "    DNSampler.run_nested(dlogz_init=0.05) # was 0.01\n",
    "    res1 = DNSampler.results\n",
    "print(\"done\")"
   ]
  },
  {
   "cell_type": "code",
   "execution_count": 11,
   "metadata": {
    "scrolled": true
   },
   "outputs": [
    {
     "name": "stdout",
     "output_type": "stream",
     "text": [
      "________________________________________________________________________________\n",
      "Parameters:       ''       \n",
      "________________________________________________________________________________\n",
      "Parameters: 'instrument parameters'\n",
      "<Parameter:    'scale'    , value=0.5538 (fixed)  , bounds=[-inf, inf]>\n",
      "<Parameter:     'bkg'     , value=1.17985e-06 +/- 2.49e-07, bounds=[3.6e-07, 3.24e-06]>\n",
      "<Parameter:'dq - resolution', value=5 (fixed)  , bounds=[-inf, inf]>\n",
      "________________________________________________________________________________\n",
      "Parameters: 'Structure - d2o'\n",
      "________________________________________________________________________________\n",
      "Parameters:      'Air'     \n",
      "<Parameter: 'Air - thick' , value=0 (fixed)  , bounds=[-inf, inf]>\n",
      "<Parameter:  'Air - sld'  , value=0 (fixed)  , bounds=[-inf, inf]>\n",
      "<Parameter: 'Air - isld'  , value=0 (fixed)  , bounds=[-inf, inf]>\n",
      "<Parameter: 'Air - rough' , value=0 (fixed)  , bounds=[-inf, inf]>\n",
      "<Parameter:'Air - volfrac solvent', value=0 (fixed)  , bounds=[-inf, inf]>\n",
      "________________________________________________________________________________\n",
      "Parameters:      'D2O'     \n",
      "<Parameter:'thickness_solution', value=11.5017 +/- 0.229, bounds=[6, 25]>\n",
      "<Parameter:  'D2O - sld'  , value=6.10168 +/- 0.00243, bounds=[5.35, 6.35]>\n",
      "<Parameter: 'D2O - isld'  , value=0 (fixed)  , bounds=[-inf, inf]>\n",
      "<Parameter:'bilayer - roughs', value=2.91004 +/- 0.756, bounds=[0, 20]>\n",
      "<Parameter:'D2O - volfrac solvent', value=0 (fixed)  , bounds=[-inf, inf]>\n",
      "________________________________________________________________________________\n",
      "Parameters: 'upper_lipid_d2o'\n",
      "<Parameter:'bilayer - area_per_molecule', value=188.944 (fixed)  , bounds=[100, 200]>\n",
      "<Parameter:'bilayer - b_heads_real', value=0.000629275 (fixed)  , bounds=[-inf, inf]>\n",
      "<Parameter:'upper_lipid_d2o - b_heads_imag', value=0 (fixed)  , bounds=[-inf, inf]>\n",
      "<Parameter:'bilayer - volume_heads', value=331 (fixed)  , bounds=[-inf, inf]>\n",
      "<Parameter:'bilayer - thickness_heads', value=1.01709 +/- 0.312, bounds=[1, 30]>\n",
      "<Parameter:'bilayer - b_tails_real', value=-0.00026624 (fixed)  , bounds=[-inf, inf]>\n",
      "<Parameter:'upper_lipid_d2o - b_tails_imag', value=0 (fixed)  , bounds=[-inf, inf]>\n",
      "<Parameter:'bilayer - volume_tails', value=940.2 (fixed)  , bounds=[-inf, inf]>\n",
      "<Parameter:'bilayer - thickness_tails', value=19.9538 +/- 0.383, bounds=[1, 30]>\n",
      "<Parameter:'bilayer - roughs', value=5.96343 +/- 0.799, bounds=[0, 10]>\n",
      "<Parameter:'rough_preceding_solution', value=7.09737 +/- 0.36 , bounds=[0, 20]>\n",
      "________________________________________________________________________________\n",
      "Parameters:       ''       \n",
      "<Parameter:  'D2O - sld'  , value=6.10168 +/- 0.00243, bounds=[5.35, 6.35]>\n",
      "<Parameter: 'D2O - isld'  , value=0 (fixed)  , bounds=[-inf, inf]>\n",
      "________________________________________________________________________________\n",
      "Parameters:       ''       \n",
      "<Parameter:  'D2O - sld'  , value=6.10168 +/- 0.00243, bounds=[5.35, 6.35]>\n",
      "<Parameter: 'D2O - isld'  , value=0 (fixed)  , bounds=[-inf, inf]>\n",
      "<Parameter:'bilayer - water_vm', value=29.7 (fixed)  , bounds=[-inf, inf]>\n",
      "<Parameter:'bilayer - Waters Per Head', value=8.98368 +/- 1.01e+08, bounds=[0, 20]>\n",
      "<Parameter:'bilayer - Waters Per Tail', value=5.75355 +/- 1.01e+08, bounds=[0, 10]>\n",
      "<Parameter:'bilayer - Waters Per Head', value=8.98368 +/- 1.01e+08, bounds=[0, 20]>\n",
      "<Parameter:'bilayer - Waters Per Tail', value=5.75355 +/- 1.01e+08, bounds=[0, 10]>\n",
      "<Parameter:'bilayer - volume_protein', value=94686.5 (fixed)  , bounds=[-inf, inf]>\n",
      "<Parameter:'bilayer - ratio protein to bilayer', value=0.951089 +/- 0.0768, bounds=[0.5, 1]>\n",
      "________________________________________________________________________________\n",
      "Parameters: 'lower_lipid_d2o'\n",
      "<Parameter:'bilayer - area_per_molecule', value=188.944 (fixed)  , bounds=[100, 200]>\n",
      "<Parameter:'bilayer - b_heads_real', value=0.000629275 (fixed)  , bounds=[-inf, inf]>\n",
      "<Parameter:'lower_lipid_d2o - b_heads_imag', value=0 (fixed)  , bounds=[-inf, inf]>\n",
      "<Parameter:'bilayer - volume_heads', value=331 (fixed)  , bounds=[-inf, inf]>\n",
      "<Parameter:'bilayer - thickness_heads', value=1.01709 +/- 0.312, bounds=[1, 30]>\n",
      "<Parameter:'bilayer - b_tails_real', value=-0.00026624 (fixed)  , bounds=[-inf, inf]>\n",
      "<Parameter:'lower_lipid_d2o - b_tails_imag', value=0 (fixed)  , bounds=[-inf, inf]>\n",
      "<Parameter:'bilayer - volume_tails', value=940.2 (fixed)  , bounds=[-inf, inf]>\n",
      "<Parameter:'bilayer - thickness_tails', value=19.9538 +/- 0.383, bounds=[1, 30]>\n",
      "<Parameter:'bilayer - roughs', value=5.96343 +/- 0.799, bounds=[0, 10]>\n",
      "<Parameter:'rough_preceding_solution', value=7.09737 +/- 0.36 , bounds=[0, 20]>\n",
      "________________________________________________________________________________\n",
      "Parameters:       ''       \n",
      "<Parameter:  'D2O - sld'  , value=6.10168 +/- 0.00243, bounds=[5.35, 6.35]>\n",
      "<Parameter: 'D2O - isld'  , value=0 (fixed)  , bounds=[-inf, inf]>\n",
      "________________________________________________________________________________\n",
      "Parameters:       ''       \n",
      "<Parameter:  'D2O - sld'  , value=6.10168 +/- 0.00243, bounds=[5.35, 6.35]>\n",
      "<Parameter: 'D2O - isld'  , value=0 (fixed)  , bounds=[-inf, inf]>\n",
      "<Parameter:'bilayer - water_vm', value=29.7 (fixed)  , bounds=[-inf, inf]>\n",
      "<Parameter:'bilayer - Waters Per Head', value=8.98368 +/- 1.01e+08, bounds=[0, 20]>\n",
      "<Parameter:'bilayer - Waters Per Tail', value=5.75355 +/- 1.01e+08, bounds=[0, 10]>\n",
      "<Parameter:'bilayer - Waters Per Head', value=8.98368 +/- 1.01e+08, bounds=[0, 20]>\n",
      "<Parameter:'bilayer - Waters Per Tail', value=5.75355 +/- 1.01e+08, bounds=[0, 10]>\n",
      "<Parameter:'bilayer - volume_protein', value=94686.5 (fixed)  , bounds=[-inf, inf]>\n",
      "<Parameter:'bilayer - ratio protein to bilayer', value=0.951089 +/- 0.0768, bounds=[0.5, 1]>\n",
      "________________________________________________________________________________\n",
      "Parameters:      'D2O'     \n",
      "<Parameter:'thickness_solution', value=11.5017 +/- 0.229, bounds=[6, 25]>\n",
      "<Parameter:  'D2O - sld'  , value=6.10168 +/- 0.00243, bounds=[5.35, 6.35]>\n",
      "<Parameter: 'D2O - isld'  , value=0 (fixed)  , bounds=[-inf, inf]>\n",
      "<Parameter:'rough_preceding_solution', value=7.09737 +/- 0.36 , bounds=[0, 20]>\n",
      "<Parameter:'D2O - volfrac solvent', value=0 (fixed)  , bounds=[-inf, inf]>\n",
      "________________________________________________________________________________\n",
      "Parameters:       ''       \n",
      "________________________________________________________________________________\n",
      "Parameters: 'instrument parameters'\n",
      "<Parameter:    'scale'    , value=0.5538 (fixed)  , bounds=[-inf, inf]>\n",
      "<Parameter:     'bkg'     , value=3.40257e-06 +/- 8.54e-08, bounds=[6.040000000000001e-07, 5.436e-06]>\n",
      "<Parameter:'dq - resolution', value=5 (fixed)  , bounds=[-inf, inf]>\n",
      "________________________________________________________________________________\n",
      "Parameters: 'Structure - protein matched water'\n",
      "________________________________________________________________________________\n",
      "Parameters:      'Air'     \n",
      "<Parameter: 'Air - thick' , value=0 (fixed)  , bounds=[-inf, inf]>\n",
      "<Parameter:  'Air - sld'  , value=0 (fixed)  , bounds=[-inf, inf]>\n",
      "<Parameter: 'Air - isld'  , value=0 (fixed)  , bounds=[-inf, inf]>\n",
      "<Parameter: 'Air - rough' , value=0 (fixed)  , bounds=[-inf, inf]>\n",
      "<Parameter:'Air - volfrac solvent', value=0 (fixed)  , bounds=[-inf, inf]>\n",
      "________________________________________________________________________________\n",
      "Parameters: 'Protein Matched Water'\n",
      "<Parameter:'thickness_solution', value=11.5017 +/- 0.229, bounds=[6, 25]>\n",
      "<Parameter:'Protein Matched Water - sld', value=1.75856 +/- 0.00595, bounds=[1.35, 3.35]>\n",
      "<Parameter:'Protein Matched Water - isld', value=0 (fixed)  , bounds=[-inf, inf]>\n",
      "<Parameter:'bilayer - roughs', value=2.91004 +/- 0.756, bounds=[0, 20]>\n",
      "<Parameter:'Protein Matched Water - volfrac solvent', value=0 (fixed)  , bounds=[-inf, inf]>\n",
      "________________________________________________________________________________\n",
      "Parameters: 'upper_lipid_pmw'\n",
      "<Parameter:'bilayer - area_per_molecule', value=188.944 (fixed)  , bounds=[100, 200]>\n",
      "<Parameter:'bilayer - b_heads_real', value=0.000629275 (fixed)  , bounds=[-inf, inf]>\n",
      "<Parameter:'upper_lipid_pmw - b_heads_imag', value=0 (fixed)  , bounds=[-inf, inf]>\n",
      "<Parameter:'bilayer - volume_heads', value=331 (fixed)  , bounds=[-inf, inf]>\n",
      "<Parameter:'bilayer - thickness_heads', value=1.01709 +/- 0.312, bounds=[1, 30]>\n",
      "<Parameter:'bilayer - b_tails_real', value=-0.00026624 (fixed)  , bounds=[-inf, inf]>\n",
      "<Parameter:'upper_lipid_pmw - b_tails_imag', value=0 (fixed)  , bounds=[-inf, inf]>\n",
      "<Parameter:'bilayer - volume_tails', value=940.2 (fixed)  , bounds=[-inf, inf]>\n",
      "<Parameter:'bilayer - thickness_tails', value=19.9538 +/- 0.383, bounds=[1, 30]>\n",
      "<Parameter:'bilayer - roughs', value=5.96343 +/- 0.799, bounds=[0, 10]>\n",
      "<Parameter:'rough_preceding_solution', value=7.09737 +/- 0.36 , bounds=[0, 20]>\n",
      "________________________________________________________________________________\n",
      "Parameters:       ''       \n",
      "<Parameter:'Protein Matched Water - sld', value=1.75856 +/- 0.00595, bounds=[1.35, 3.35]>\n",
      "<Parameter:'Protein Matched Water - isld', value=0 (fixed)  , bounds=[-inf, inf]>\n",
      "________________________________________________________________________________\n",
      "Parameters:       ''       \n",
      "<Parameter:'Protein Matched Water - sld', value=1.75856 +/- 0.00595, bounds=[1.35, 3.35]>\n",
      "<Parameter:'Protein Matched Water - isld', value=0 (fixed)  , bounds=[-inf, inf]>\n",
      "<Parameter:'bilayer - water_vm', value=29.7 (fixed)  , bounds=[-inf, inf]>\n",
      "<Parameter:'bilayer - Waters Per Head', value=8.98368 +/- 1.01e+08, bounds=[0, 20]>\n",
      "<Parameter:'bilayer - Waters Per Tail', value=5.75355 +/- 1.01e+08, bounds=[0, 10]>\n",
      "<Parameter:'bilayer - Waters Per Head', value=8.98368 +/- 1.01e+08, bounds=[0, 20]>\n",
      "<Parameter:'bilayer - Waters Per Tail', value=5.75355 +/- 1.01e+08, bounds=[0, 10]>\n",
      "<Parameter:'bilayer - volume_protein', value=94686.5 (fixed)  , bounds=[-inf, inf]>\n",
      "<Parameter:'bilayer - ratio protein to bilayer', value=0.951089 +/- 0.0768, bounds=[0.5, 1]>\n",
      "________________________________________________________________________________\n",
      "Parameters: 'lower_lipid_pmw'\n",
      "<Parameter:'bilayer - area_per_molecule', value=188.944 (fixed)  , bounds=[100, 200]>\n",
      "<Parameter:'bilayer - b_heads_real', value=0.000629275 (fixed)  , bounds=[-inf, inf]>\n",
      "<Parameter:'lower_lipid_pmw - b_heads_imag', value=0 (fixed)  , bounds=[-inf, inf]>\n",
      "<Parameter:'bilayer - volume_heads', value=331 (fixed)  , bounds=[-inf, inf]>\n",
      "<Parameter:'bilayer - thickness_heads', value=1.01709 +/- 0.312, bounds=[1, 30]>\n",
      "<Parameter:'bilayer - b_tails_real', value=-0.00026624 (fixed)  , bounds=[-inf, inf]>\n",
      "<Parameter:'lower_lipid_pmw - b_tails_imag', value=0 (fixed)  , bounds=[-inf, inf]>\n",
      "<Parameter:'bilayer - volume_tails', value=940.2 (fixed)  , bounds=[-inf, inf]>\n",
      "<Parameter:'bilayer - thickness_tails', value=19.9538 +/- 0.383, bounds=[1, 30]>\n",
      "<Parameter:'bilayer - roughs', value=5.96343 +/- 0.799, bounds=[0, 10]>\n",
      "<Parameter:'rough_preceding_solution', value=7.09737 +/- 0.36 , bounds=[0, 20]>\n",
      "________________________________________________________________________________\n",
      "Parameters:       ''       \n",
      "<Parameter:'Protein Matched Water - sld', value=1.75856 +/- 0.00595, bounds=[1.35, 3.35]>\n",
      "<Parameter:'Protein Matched Water - isld', value=0 (fixed)  , bounds=[-inf, inf]>\n",
      "________________________________________________________________________________\n",
      "Parameters:       ''       \n",
      "<Parameter:'Protein Matched Water - sld', value=1.75856 +/- 0.00595, bounds=[1.35, 3.35]>\n",
      "<Parameter:'Protein Matched Water - isld', value=0 (fixed)  , bounds=[-inf, inf]>\n",
      "<Parameter:'bilayer - water_vm', value=29.7 (fixed)  , bounds=[-inf, inf]>\n",
      "<Parameter:'bilayer - Waters Per Head', value=8.98368 +/- 1.01e+08, bounds=[0, 20]>\n",
      "<Parameter:'bilayer - Waters Per Tail', value=5.75355 +/- 1.01e+08, bounds=[0, 10]>\n",
      "<Parameter:'bilayer - Waters Per Head', value=8.98368 +/- 1.01e+08, bounds=[0, 20]>\n",
      "<Parameter:'bilayer - Waters Per Tail', value=5.75355 +/- 1.01e+08, bounds=[0, 10]>\n",
      "<Parameter:'bilayer - volume_protein', value=94686.5 (fixed)  , bounds=[-inf, inf]>\n",
      "<Parameter:'bilayer - ratio protein to bilayer', value=0.951089 +/- 0.0768, bounds=[0.5, 1]>\n",
      "________________________________________________________________________________\n",
      "Parameters: 'Protein Matched Water'\n",
      "<Parameter:'thickness_solution', value=11.5017 +/- 0.229, bounds=[6, 25]>\n",
      "<Parameter:'Protein Matched Water - sld', value=1.75856 +/- 0.00595, bounds=[1.35, 3.35]>\n",
      "<Parameter:'Protein Matched Water - isld', value=0 (fixed)  , bounds=[-inf, inf]>\n",
      "<Parameter:'rough_preceding_solution', value=7.09737 +/- 0.36 , bounds=[0, 20]>\n"
     ]
    },
    {
     "name": "stdout",
     "output_type": "stream",
     "text": [
      "<Parameter:'Protein Matched Water - volfrac solvent', value=0 (fixed)  , bounds=[-inf, inf]>\n",
      "________________________________________________________________________________\n",
      "Parameters:       ''       \n",
      "________________________________________________________________________________\n",
      "Parameters: 'instrument parameters'\n",
      "<Parameter:    'scale'    , value=0.5538 (fixed)  , bounds=[-inf, inf]>\n",
      "<Parameter:     'bkg'     , value=2.35241e-06 +/- 6.19e-08, bounds=[3.46e-07, 3.114e-06]>\n",
      "<Parameter:'dq - resolution', value=5 (fixed)  , bounds=[-inf, inf]>\n",
      "________________________________________________________________________________\n",
      "Parameters: 'Structure - ACMW'\n",
      "________________________________________________________________________________\n",
      "Parameters:      'Air'     \n",
      "<Parameter: 'Air - thick' , value=0 (fixed)  , bounds=[-inf, inf]>\n",
      "<Parameter:  'Air - sld'  , value=0 (fixed)  , bounds=[-inf, inf]>\n",
      "<Parameter: 'Air - isld'  , value=0 (fixed)  , bounds=[-inf, inf]>\n",
      "<Parameter: 'Air - rough' , value=0 (fixed)  , bounds=[-inf, inf]>\n",
      "<Parameter:'Air - volfrac solvent', value=0 (fixed)  , bounds=[-inf, inf]>\n",
      "________________________________________________________________________________\n",
      "Parameters:     'ACMW'     \n",
      "<Parameter:'thickness_solution', value=11.5017 +/- 0.229, bounds=[6, 25]>\n",
      "<Parameter: 'ACMW - sld'  , value=0.425754 +/- 0.0092, bounds=[-0.56, 1]>\n",
      "<Parameter: 'ACMW - isld' , value=0 (fixed)  , bounds=[-inf, inf]>\n",
      "<Parameter:'bilayer - roughs', value=2.91004 +/- 0.756, bounds=[0, 20]>\n",
      "<Parameter:'ACMW - volfrac solvent', value=0 (fixed)  , bounds=[-inf, inf]>\n",
      "________________________________________________________________________________\n",
      "Parameters: 'upper_lipid_acmw'\n",
      "<Parameter:'bilayer - area_per_molecule', value=188.944 (fixed)  , bounds=[100, 200]>\n",
      "<Parameter:'bilayer - b_heads_real', value=0.000629275 (fixed)  , bounds=[-inf, inf]>\n",
      "<Parameter:'upper_lipid_acmw - b_heads_imag', value=0 (fixed)  , bounds=[-inf, inf]>\n",
      "<Parameter:'bilayer - volume_heads', value=331 (fixed)  , bounds=[-inf, inf]>\n",
      "<Parameter:'bilayer - thickness_heads', value=1.01709 +/- 0.312, bounds=[1, 30]>\n",
      "<Parameter:'bilayer - b_tails_real', value=-0.00026624 (fixed)  , bounds=[-inf, inf]>\n",
      "<Parameter:'upper_lipid_acmw - b_tails_imag', value=0 (fixed)  , bounds=[-inf, inf]>\n",
      "<Parameter:'bilayer - volume_tails', value=940.2 (fixed)  , bounds=[-inf, inf]>\n",
      "<Parameter:'bilayer - thickness_tails', value=19.9538 +/- 0.383, bounds=[1, 30]>\n",
      "<Parameter:'bilayer - roughs', value=5.96343 +/- 0.799, bounds=[0, 10]>\n",
      "<Parameter:'rough_preceding_solution', value=7.09737 +/- 0.36 , bounds=[0, 20]>\n",
      "________________________________________________________________________________\n",
      "Parameters:       ''       \n",
      "<Parameter: 'ACMW - sld'  , value=0.425754 +/- 0.0092, bounds=[-0.56, 1]>\n",
      "<Parameter: 'ACMW - isld' , value=0 (fixed)  , bounds=[-inf, inf]>\n",
      "________________________________________________________________________________\n",
      "Parameters:       ''       \n",
      "<Parameter: 'ACMW - sld'  , value=0.425754 +/- 0.0092, bounds=[-0.56, 1]>\n",
      "<Parameter: 'ACMW - isld' , value=0 (fixed)  , bounds=[-inf, inf]>\n",
      "<Parameter:'bilayer - water_vm', value=29.7 (fixed)  , bounds=[-inf, inf]>\n",
      "<Parameter:'bilayer - Waters Per Head', value=8.98368 +/- 1.01e+08, bounds=[0, 20]>\n",
      "<Parameter:'bilayer - Waters Per Tail', value=5.75355 +/- 1.01e+08, bounds=[0, 10]>\n",
      "<Parameter:'bilayer - Waters Per Head', value=8.98368 +/- 1.01e+08, bounds=[0, 20]>\n",
      "<Parameter:'bilayer - Waters Per Tail', value=5.75355 +/- 1.01e+08, bounds=[0, 10]>\n",
      "<Parameter:'bilayer - volume_protein', value=94686.5 (fixed)  , bounds=[-inf, inf]>\n",
      "<Parameter:'bilayer - ratio protein to bilayer', value=0.951089 +/- 0.0768, bounds=[0.5, 1]>\n",
      "________________________________________________________________________________\n",
      "Parameters: 'lower_lipid_acmw'\n",
      "<Parameter:'bilayer - area_per_molecule', value=188.944 (fixed)  , bounds=[100, 200]>\n",
      "<Parameter:'bilayer - b_heads_real', value=0.000629275 (fixed)  , bounds=[-inf, inf]>\n",
      "<Parameter:'lower_lipid_acmw - b_heads_imag', value=0 (fixed)  , bounds=[-inf, inf]>\n",
      "<Parameter:'bilayer - volume_heads', value=331 (fixed)  , bounds=[-inf, inf]>\n",
      "<Parameter:'bilayer - thickness_heads', value=1.01709 +/- 0.312, bounds=[1, 30]>\n",
      "<Parameter:'bilayer - b_tails_real', value=-0.00026624 (fixed)  , bounds=[-inf, inf]>\n",
      "<Parameter:'lower_lipid_acmw - b_tails_imag', value=0 (fixed)  , bounds=[-inf, inf]>\n",
      "<Parameter:'bilayer - volume_tails', value=940.2 (fixed)  , bounds=[-inf, inf]>\n",
      "<Parameter:'bilayer - thickness_tails', value=19.9538 +/- 0.383, bounds=[1, 30]>\n",
      "<Parameter:'bilayer - roughs', value=5.96343 +/- 0.799, bounds=[0, 10]>\n",
      "<Parameter:'rough_preceding_solution', value=7.09737 +/- 0.36 , bounds=[0, 20]>\n",
      "________________________________________________________________________________\n",
      "Parameters:       ''       \n",
      "<Parameter: 'ACMW - sld'  , value=0.425754 +/- 0.0092, bounds=[-0.56, 1]>\n",
      "<Parameter: 'ACMW - isld' , value=0 (fixed)  , bounds=[-inf, inf]>\n",
      "________________________________________________________________________________\n",
      "Parameters:       ''       \n",
      "<Parameter: 'ACMW - sld'  , value=0.425754 +/- 0.0092, bounds=[-0.56, 1]>\n",
      "<Parameter: 'ACMW - isld' , value=0 (fixed)  , bounds=[-inf, inf]>\n",
      "<Parameter:'bilayer - water_vm', value=29.7 (fixed)  , bounds=[-inf, inf]>\n",
      "<Parameter:'bilayer - Waters Per Head', value=8.98368 +/- 1.01e+08, bounds=[0, 20]>\n",
      "<Parameter:'bilayer - Waters Per Tail', value=5.75355 +/- 1.01e+08, bounds=[0, 10]>\n",
      "<Parameter:'bilayer - Waters Per Head', value=8.98368 +/- 1.01e+08, bounds=[0, 20]>\n",
      "<Parameter:'bilayer - Waters Per Tail', value=5.75355 +/- 1.01e+08, bounds=[0, 10]>\n",
      "<Parameter:'bilayer - volume_protein', value=94686.5 (fixed)  , bounds=[-inf, inf]>\n",
      "<Parameter:'bilayer - ratio protein to bilayer', value=0.951089 +/- 0.0768, bounds=[0.5, 1]>\n",
      "________________________________________________________________________________\n",
      "Parameters:     'ACMW'     \n",
      "<Parameter:'thickness_solution', value=11.5017 +/- 0.229, bounds=[6, 25]>\n",
      "<Parameter: 'ACMW - sld'  , value=0.425754 +/- 0.0092, bounds=[-0.56, 1]>\n",
      "<Parameter: 'ACMW - isld' , value=0 (fixed)  , bounds=[-inf, inf]>\n",
      "<Parameter:'rough_preceding_solution', value=7.09737 +/- 0.36 , bounds=[0, 20]>\n",
      "<Parameter:'ACMW - volfrac solvent', value=0 (fixed)  , bounds=[-inf, inf]>\n",
      "<Parameter:     'bkg'     , value=1.17985e-06 +/- 2.49e-07, bounds=[3.6e-07, 3.24e-06]>\n",
      "<Parameter:'thickness_solution', value=11.5017 +/- 0.229, bounds=[6, 25]>\n",
      "<Parameter:  'D2O - sld'  , value=6.10168 +/- 0.00243, bounds=[5.35, 6.35]>\n",
      "<Parameter:'bilayer - roughs', value=2.91004 +/- 0.756, bounds=[0, 20]>\n",
      "<Parameter:'bilayer - thickness_heads', value=1.01709 +/- 0.312, bounds=[1, 30]>\n",
      "<Parameter:'bilayer - thickness_tails', value=19.9538 +/- 0.383, bounds=[1, 30]>\n",
      "<Parameter:'bilayer - roughs', value=5.96343 +/- 0.799, bounds=[0, 10]>\n",
      "<Parameter:'rough_preceding_solution', value=7.09737 +/- 0.36 , bounds=[0, 20]>\n",
      "<Parameter:'bilayer - Waters Per Head', value=8.98368 +/- 1.01e+08, bounds=[0, 20]>\n",
      "<Parameter:'bilayer - Waters Per Tail', value=5.75355 +/- 1.01e+08, bounds=[0, 10]>\n",
      "<Parameter:'bilayer - ratio protein to bilayer', value=0.951089 +/- 0.0768, bounds=[0.5, 1]>\n",
      "<Parameter:     'bkg'     , value=3.40257e-06 +/- 8.54e-08, bounds=[6.040000000000001e-07, 5.436e-06]>\n",
      "<Parameter:'Protein Matched Water - sld', value=1.75856 +/- 0.00595, bounds=[1.35, 3.35]>\n",
      "<Parameter:     'bkg'     , value=2.35241e-06 +/- 6.19e-08, bounds=[3.46e-07, 3.114e-06]>\n",
      "<Parameter: 'ACMW - sld'  , value=0.425754 +/- 0.0092, bounds=[-0.56, 1]>\n"
     ]
    }
   ],
   "source": [
    "# print(gobjective.parameters,\"\\n++++++++++++++++++++++++++++++++++++++++++++++++++++\")\n",
    "\n",
    "[[print(param)] for param in gobjective.parameters]#varying_parameters()]\n",
    "\n",
    "[[print(param)] for param in gobjective.varying_parameters()];"
   ]
  },
  {
   "cell_type": "code",
   "execution_count": 12,
   "metadata": {
    "scrolled": true
   },
   "outputs": [
    {
     "name": "stdout",
     "output_type": "stream",
     "text": [
      "   covar: array([[ 6.17757689e-14,  9.47302949e-09,  2.03856753e-11,\n",
      "         1.72682037e-07, -9.37264132e-09, -2.17201596e-08,\n",
      "        -1.44011454e-08, -2.40460516e-08,  1.32215176e+00,\n",
      "        -1.32215334e+00, -1.36845717e-09,  4.79751841e-15,\n",
      "        -1.55253012e-11,  1.51965580e-16, -8.61630846e-11],\n",
      "       [ 9.47302949e-09,  5.26170942e-02,  1.83726467e-05,\n",
      "         3.97290913e-02, -6.29683196e-03, -4.41481769e-02,\n",
      "        -6.58568344e-02,  6.33539649e-02,  5.81034601e+06,\n",
      "        -5.81032480e+06,  1.53363685e-02,  2.75956565e-09,\n",
      "         1.09550784e-04,  2.78633576e-09,  2.90323308e-04],\n",
      "       [ 2.03856753e-11,  1.83726467e-05,  5.90583469e-06,\n",
      "         7.19577300e-05,  1.81492420e-05, -2.06268168e-05,\n",
      "        -1.16380003e-05,  1.03628622e-05, -4.50697529e+03,\n",
      "         4.50696967e+03, -6.45150267e-06,  3.97466983e-12,\n",
      "         4.38215825e-07, -7.42215455e-13, -7.56126545e-08],\n",
      "       [ 1.72682037e-07,  3.97290913e-02,  7.19577300e-05,\n",
      "         5.71241120e-01, -5.06530948e-03, -1.08848217e-01,\n",
      "        -1.38543770e-01, -7.72574373e-02,  2.15134526e+06,\n",
      "        -2.15134521e+06, -2.99819683e-03,  1.37075841e-08,\n",
      "        -7.37193829e-06, -1.80444597e-10, -1.57914330e-04],\n",
      "       [-9.37264132e-09, -6.29683196e-03,  1.81492420e-05,\n",
      "        -5.06530948e-03,  9.71426682e-02, -8.89768851e-02,\n",
      "        -1.97955132e-01,  7.98204129e-03, -8.62922465e+06,\n",
      "         8.62923038e+06, -1.05560450e-03, -5.07221934e-09,\n",
      "         3.07030620e-04, -4.16962531e-09,  6.79752364e-04],\n",
      "       [-2.17201596e-08, -4.41481769e-02, -2.06268168e-05,\n",
      "        -1.08848217e-01, -8.89768851e-02,  1.46652281e-01,\n",
      "         2.87462625e-01, -5.21806089e-02,  3.26960635e+05,\n",
      "        -3.26986415e+05, -1.27784971e-02,  1.12850400e-09,\n",
      "        -3.14179118e-04,  1.51955181e-09, -8.57388362e-04],\n",
      "       [-1.44011454e-08, -6.58568344e-02, -1.16380003e-05,\n",
      "        -1.38543770e-01, -1.97955132e-01,  2.87462625e-01,\n",
      "         6.37702571e-01, -8.04350295e-02,  2.67386548e+06,\n",
      "        -2.67391167e+06, -1.80613303e-02,  5.49749964e-09,\n",
      "        -4.53576588e-04,  3.85187065e-09, -1.27592465e-03],\n",
      "       [-2.40460516e-08,  6.33539649e-02,  1.03628622e-05,\n",
      "        -7.72574373e-02,  7.98204129e-03, -5.21806089e-02,\n",
      "        -8.04350295e-02,  1.29623688e-01,  9.44730826e+06,\n",
      "        -9.44727464e+06,  2.51892514e-02, -9.21397847e-10,\n",
      "         1.14570221e-04,  1.79957975e-09,  5.09699970e-04],\n",
      "       [ 1.32215176e+00,  5.81034601e+06, -4.50697529e+03,\n",
      "         2.15134526e+06, -8.62922465e+06,  3.26960635e+05,\n",
      "         2.67386548e+06,  9.44730826e+06,  1.01240138e+16,\n",
      "        -1.01240105e+16,  2.68362964e+06,  6.77224509e-02,\n",
      "        -8.36002923e+04,  1.25509748e+00,  5.53935517e+04],\n",
      "       [-1.32215334e+00, -5.81032480e+06,  4.50696967e+03,\n",
      "        -2.15134521e+06,  8.62923038e+06, -3.26986415e+05,\n",
      "        -2.67391167e+06, -9.44727464e+06, -1.01240105e+16,\n",
      "         1.01240072e+16, -2.68362190e+06, -6.77221474e-02,\n",
      "         8.36003343e+04, -1.25509649e+00, -5.53933403e+04],\n",
      "       [-1.36845717e-09,  1.53363685e-02, -6.45150267e-06,\n",
      "        -2.99819683e-03, -1.05560450e-03, -1.27784971e-02,\n",
      "        -1.80613303e-02,  2.51892514e-02,  2.68362964e+06,\n",
      "        -2.68362190e+06,  5.89387313e-03,  3.68369653e-10,\n",
      "         2.19133581e-05,  8.53426075e-10,  1.45261283e-04],\n",
      "       [ 4.79751841e-15,  2.75956565e-09,  3.97466983e-12,\n",
      "         1.37075841e-08, -5.07221934e-09,  1.12850400e-09,\n",
      "         5.49749964e-09, -9.21397847e-10,  6.77224509e-02,\n",
      "        -6.77221474e-02,  3.68369653e-10,  7.29249558e-15,\n",
      "        -3.68219338e-11,  7.45867510e-16,  1.32964614e-11],\n",
      "       [-1.55253012e-11,  1.09550784e-04,  4.38215825e-07,\n",
      "        -7.37193829e-06,  3.07030620e-04, -3.14179118e-04,\n",
      "        -4.53576588e-04,  1.14570221e-04, -8.36002923e+04,\n",
      "         8.36003343e+04,  2.19133581e-05, -3.68219338e-11,\n",
      "         3.54361338e-05,  1.39573558e-11,  7.07604211e-06],\n",
      "       [ 1.51965580e-16,  2.78633576e-09, -7.42215455e-13,\n",
      "        -1.80444597e-10, -4.16962531e-09,  1.51955181e-09,\n",
      "         3.85187065e-09,  1.79957975e-09,  1.25509748e+00,\n",
      "        -1.25509649e+00,  8.53426075e-10,  7.45867510e-16,\n",
      "         1.39573558e-11,  3.83693710e-15, -6.32656957e-11],\n",
      "       [-8.61630846e-11,  2.90323308e-04, -7.56126545e-08,\n",
      "        -1.57914330e-04,  6.79752364e-04, -8.57388362e-04,\n",
      "        -1.27592465e-03,  5.09699970e-04,  5.53935517e+04,\n",
      "        -5.53933403e+04,  1.45261283e-04,  1.32964614e-11,\n",
      "         7.07604211e-06, -6.32656957e-11,  8.46212618e-05]])\n",
      "     fun: -130.84218187114942\n",
      " message: 'Optimization terminated successfully.'\n",
      "    nfev: 34248\n",
      "     nit: 151\n",
      "  stderr: array([2.48547317e-07, 2.29384163e-01, 2.43019232e-03, 7.55804948e-01,\n",
      "       3.11677186e-01, 3.82952061e-01, 7.98562816e-01, 3.60032898e-01,\n",
      "       1.00618158e+08, 1.00618126e+08, 7.67715646e-02, 8.53961099e-08,\n",
      "       5.95282570e-03, 6.19430150e-08, 9.19898156e-03])\n",
      " success: True\n",
      "       x: array([1.17985000e-06, 1.15017477e+01, 6.10167709e+00, 2.91004200e+00,\n",
      "       1.01709091e+00, 1.99537667e+01, 5.96342824e+00, 7.09736664e+00,\n",
      "       8.98368149e+00, 5.75355259e+00, 9.51089071e-01, 3.40257035e-06,\n",
      "       1.75856200e+00, 2.35241471e-06, 4.25754168e-01])\n"
     ]
    }
   ],
   "source": [
    "if choose==2:\n",
    "    print(res1)\n",
    "else:\n",
    "    print(res)\n",
    "# [['bkg', nan],\n",
    "#  ['thickness_solution', nan],\n",
    "#  ['D2O - sld', nan],\n",
    "#  ['rough_preceding_solution', nan],\n",
    "#  ['bilayer - area_per_molecule', nan],\n",
    "#  ['bilayer - thickness_heads', nan],\n",
    "#  ['bilayer - thickness_tails', nan],\n",
    "#  ['bilayer - rough_top', nan],\n",
    "#  ['bilayer - Waters Per Head', nan],\n",
    "#  ['bilayer - Waters Per Tail', nan],\n",
    "#  ['bilayer - ratio protein to bilayer', nan],\n",
    "#  ['bkg', nan],\n",
    "#  ['Protein Matched Water - sld', nan],\n",
    "#  ['bkg', nan],\n",
    "#  ['ACMW - sld', nan]]"
   ]
  },
  {
   "cell_type": "code",
   "execution_count": 13,
   "metadata": {},
   "outputs": [
    {
     "name": "stdout",
     "output_type": "stream",
     "text": [
      "[[ 0.          0.          0.          0.          0.        ]\n",
      " [11.50174771  0.42575417  0.          2.910042    0.        ]\n",
      " [ 1.01709091  4.17699575  0.          7.09736664  0.        ]\n",
      " [19.9537667  -0.16276494  0.          5.96342824  0.        ]\n",
      " [19.9537667  -0.16276494  0.          7.09736664  0.        ]\n",
      " [ 1.01709091  4.17699575  0.          5.96342824  0.        ]\n",
      " [11.50174771  0.42575417  0.          7.09736664  0.        ]]\n"
     ]
    }
   ],
   "source": [
    "print(structure_acmw.slabs())"
   ]
  },
  {
   "cell_type": "code",
   "execution_count": 14,
   "metadata": {},
   "outputs": [
    {
     "name": "stdout",
     "output_type": "stream",
     "text": [
      "[[ 0.          0.          0.          0.          0.        ]\n",
      " [11.50174771  1.758562    0.          2.910042    0.        ]\n",
      " [ 1.01709091  4.19401681  0.          7.09736664  0.        ]\n",
      " [19.9537667  -0.15647212  0.          5.96342824  0.        ]\n",
      " [19.9537667  -0.15647212  0.          7.09736664  0.        ]\n",
      " [ 1.01709091  4.19401681  0.          5.96342824  0.        ]\n",
      " [11.50174771  1.758562    0.          7.09736664  0.        ]]\n"
     ]
    }
   ],
   "source": [
    "print(structure_pmw.slabs())"
   ]
  },
  {
   "cell_type": "code",
   "execution_count": 15,
   "metadata": {
    "scrolled": true
   },
   "outputs": [
    {
     "name": "stdout",
     "output_type": "stream",
     "text": [
      "[[ 0.          0.          0.          0.          0.        ]\n",
      " [11.50174771  6.10167709  0.          2.910042    0.        ]\n",
      " [ 1.01709091  4.24948198  0.          7.09736664  0.        ]\n",
      " [19.9537667  -0.13596622  0.          5.96342824  0.        ]\n",
      " [19.9537667  -0.13596622  0.          7.09736664  0.        ]\n",
      " [ 1.01709091  4.24948198  0.          5.96342824  0.        ]\n",
      " [11.50174771  6.10167709  0.          7.09736664  0.        ]]\n"
     ]
    }
   ],
   "source": [
    "print(structure_d2o.slabs())"
   ]
  },
  {
   "cell_type": "code",
   "execution_count": 16,
   "metadata": {},
   "outputs": [
    {
     "data": {
      "image/png": "[encoded data removed]",
      "text/plain": [
       "<Figure size 432x288 with 1 Axes>"
      ]
     },
     "metadata": {
      "needs_background": "light"
     },
     "output_type": "display_data"
    }
   ],
   "source": [
    "# structure_d2o\n",
    "# structure_pmw\n",
    "plt.plot(*structure_d2o.sld_profile(),label=\"structure_d2o\")\n",
    "# structure_d2o.plot()\n",
    "# plt.ylabel('SLD ($10^{-6} \\AA^{-2})$')\n",
    "# plt.xlabel('distance  $(\\AA)$')\n",
    "\n",
    "plt.plot(*structure_pmw.sld_profile(),label=\"structure_pmw\")\n",
    "# structure_pmw.plot()\n",
    "plt.ylabel('SLD ($10^{-6} \\AA^{-2})$')\n",
    "plt.xlabel('distance  $(\\AA)$')\n",
    "\n",
    "plt.plot(*structure_acmw.sld_profile(),label=\"structure_acmw\")\n",
    "# structure_pmw.plot()\n",
    "plt.ylabel('SLD ($10^{-6} \\AA^{-2})$')\n",
    "plt.xlabel('distance  $(\\AA)$')\n",
    "plt.legend()\n",
    "plt.show();"
   ]
  },
  {
   "cell_type": "code",
   "execution_count": 17,
   "metadata": {},
   "outputs": [
    {
     "data": {
      "image/png": "[encoded data removed]",
      "text/plain": [
       "<Figure size 432x288 with 1 Axes>"
      ]
     },
     "metadata": {
      "needs_background": "light"
     },
     "output_type": "display_data"
    }
   ],
   "source": [
    "if choose==1:\n",
    "    gobjective.plot(samples=300)\n",
    "else:\n",
    "    gobjective.plot()\n",
    "# plt.yscale('log')\n",
    "plt.xlabel('Q')\n",
    "plt.ylabel('Reflectivity')\n",
    "plt.legend();"
   ]
  },
  {
   "cell_type": "code",
   "execution_count": 18,
   "metadata": {},
   "outputs": [
    {
     "data": {
      "image/png": "[encoded data removed]",
      "text/plain": [
       "<Figure size 432x288 with 1 Axes>"
      ]
     },
     "metadata": {
      "needs_background": "light"
     },
     "output_type": "display_data"
    }
   ],
   "source": [
    "if choose==1:\n",
    "    objective1.plot(samples=300)\n",
    "else:\n",
    "    objective1.plot()\n",
    "# plt.yscale('log')\n",
    "plt.xlabel('Q')\n",
    "plt.ylabel('Reflectivity')\n",
    "plt.legend();"
   ]
  },
  {
   "cell_type": "code",
   "execution_count": 19,
   "metadata": {},
   "outputs": [
    {
     "data": {
      "image/png": "[encoded data removed]",
      "text/plain": [
       "<Figure size 432x288 with 1 Axes>"
      ]
     },
     "metadata": {
      "needs_background": "light"
     },
     "output_type": "display_data"
    }
   ],
   "source": [
    "if choose==1:\n",
    "    objective2.plot(samples=300)\n",
    "else:\n",
    "    objective2.plot()\n",
    "# plt.yscale('log')\n",
    "plt.xlabel('Q')\n",
    "plt.ylabel('Reflectivity')\n",
    "plt.legend();"
   ]
  },
  {
   "cell_type": "code",
   "execution_count": 20,
   "metadata": {},
   "outputs": [
    {
     "data": {
      "image/png": "[encoded data removed]",
      "text/plain": [
       "<Figure size 432x288 with 1 Axes>"
      ]
     },
     "metadata": {
      "needs_background": "light"
     },
     "output_type": "display_data"
    }
   ],
   "source": [
    "if choose==1:\n",
    "    objective3.plot(samples=300)\n",
    "else:\n",
    "    objective3.plot()\n",
    "# plt.yscale('log')\n",
    "plt.xlabel('Q')\n",
    "plt.ylabel('Reflectivity')\n",
    "plt.legend();"
   ]
  },
  {
   "cell_type": "code",
   "execution_count": 21,
   "metadata": {},
   "outputs": [
    {
     "name": "stdout",
     "output_type": "stream",
     "text": [
      "model1: d2o <Parameter:    'scale'    , value=0.5538 (fixed)  , bounds=[-inf, inf]> <Parameter:     'bkg'     , value=1.17985e-06 +/- 2.49e-07, bounds=[3.6e-07, 3.24e-06]>\n",
      "model2: pmw <Parameter:    'scale'    , value=0.5538 (fixed)  , bounds=[-inf, inf]> <Parameter:     'bkg'     , value=3.40257e-06 +/- 8.54e-08, bounds=[6.040000000000001e-07, 5.436e-06]>\n",
      "model3: acmw <Parameter:    'scale'    , value=0.5538 (fixed)  , bounds=[-inf, inf]> <Parameter:     'bkg'     , value=2.35241e-06 +/- 6.19e-08, bounds=[3.46e-07, 3.114e-06]>\n"
     ]
    }
   ],
   "source": [
    "print(\"model1: d2o\", model1.scale, model1.bkg)\n",
    "print(\"model2: pmw\", model2.scale, model2.bkg)\n",
    "print(\"model3: acmw\", model3.scale, model3.bkg)"
   ]
  },
  {
   "cell_type": "code",
   "execution_count": 22,
   "metadata": {
    "scrolled": true
   },
   "outputs": [],
   "source": [
    "# print(structure_d2o)"
   ]
  },
  {
   "cell_type": "code",
   "execution_count": 23,
   "metadata": {
    "scrolled": true
   },
   "outputs": [],
   "source": [
    "# print(structure_pmw)"
   ]
  },
  {
   "cell_type": "code",
   "execution_count": 24,
   "metadata": {
    "scrolled": true
   },
   "outputs": [],
   "source": [
    "# print(structure_acmw)"
   ]
  },
  {
   "cell_type": "code",
   "execution_count": 25,
   "metadata": {},
   "outputs": [
    {
     "name": "stdout",
     "output_type": "stream",
     "text": [
      "[[ 0.          0.          0.          0.          0.        ]\n",
      " [11.50174771  6.10167709  0.          2.910042    0.        ]\n",
      " [ 1.01709091  4.24948198  0.          7.09736664  0.        ]\n",
      " [19.9537667  -0.13596622  0.          5.96342824  0.        ]\n",
      " [19.9537667  -0.13596622  0.          7.09736664  0.        ]\n",
      " [ 1.01709091  4.24948198  0.          5.96342824  0.        ]\n",
      " [11.50174771  6.10167709  0.          7.09736664  0.        ]]\n"
     ]
    }
   ],
   "source": [
    "print(structure_d2o.slabs())"
   ]
  },
  {
   "cell_type": "code",
   "execution_count": 26,
   "metadata": {},
   "outputs": [
    {
     "name": "stdout",
     "output_type": "stream",
     "text": [
      "[[ 0.          0.          0.          0.          0.        ]\n",
      " [11.50174771  1.758562    0.          2.910042    0.        ]\n",
      " [ 1.01709091  4.19401681  0.          7.09736664  0.        ]\n",
      " [19.9537667  -0.15647212  0.          5.96342824  0.        ]\n",
      " [19.9537667  -0.15647212  0.          7.09736664  0.        ]\n",
      " [ 1.01709091  4.19401681  0.          5.96342824  0.        ]\n",
      " [11.50174771  1.758562    0.          7.09736664  0.        ]]\n"
     ]
    }
   ],
   "source": [
    "print(structure_pmw.slabs())"
   ]
  },
  {
   "cell_type": "code",
   "execution_count": 27,
   "metadata": {},
   "outputs": [
    {
     "name": "stdout",
     "output_type": "stream",
     "text": [
      "[[ 0.          0.          0.          0.          0.        ]\n",
      " [11.50174771  0.42575417  0.          2.910042    0.        ]\n",
      " [ 1.01709091  4.17699575  0.          7.09736664  0.        ]\n",
      " [19.9537667  -0.16276494  0.          5.96342824  0.        ]\n",
      " [19.9537667  -0.16276494  0.          7.09736664  0.        ]\n",
      " [ 1.01709091  4.17699575  0.          5.96342824  0.        ]\n",
      " [11.50174771  0.42575417  0.          7.09736664  0.        ]]\n"
     ]
    }
   ],
   "source": [
    "print(structure_acmw.slabs())"
   ]
  },
  {
   "cell_type": "code",
   "execution_count": 28,
   "metadata": {},
   "outputs": [],
   "source": [
    "if choose==2:\n",
    "    # span = [(0,5000),(0,1.5),(0,0.4),(-10**3,10**3)] #span=span\n",
    "    fig, axes = dyplot.runplot(res1, color='black', mark_final_live=False,\n",
    "                               logplot=False)"
   ]
  },
  {
   "cell_type": "code",
   "execution_count": 29,
   "metadata": {},
   "outputs": [],
   "source": [
    "if choose==2:\n",
    "    print(\"max(-ln(X)) =\", -min(res1[\"logvol\"])) # -min(res1[\"logvol\"] = max(-ln(X))\n",
    "    print(\"max(logz), evidence =\", max(res1[\"logz\"]))"
   ]
  },
  {
   "cell_type": "code",
   "execution_count": 30,
   "metadata": {
    "scrolled": false
   },
   "outputs": [
    {
     "name": "stdout",
     "output_type": "stream",
     "text": [
      "logp: -31.077228516152875\n",
      "logpost: 130.84218187114942\n",
      "model1: d2o <Parameter:    'scale'    , value=0.5538 (fixed)  , bounds=[-inf, inf]> <Parameter:     'bkg'     , value=1.17985e-06 +/- 2.49e-07, bounds=[3.6e-07, 3.24e-06]>\n",
      "model2: pmw <Parameter:    'scale'    , value=0.5538 (fixed)  , bounds=[-inf, inf]> <Parameter:     'bkg'     , value=3.40257e-06 +/- 8.54e-08, bounds=[6.040000000000001e-07, 5.436e-06]>\n",
      "model3: acmw <Parameter:    'scale'    , value=0.5538 (fixed)  , bounds=[-inf, inf]> <Parameter:     'bkg'     , value=2.35241e-06 +/- 6.19e-08, bounds=[3.46e-07, 3.114e-06]>\n",
      "\n",
      "0 bkg: 1.1798499962496513e-06 [3.6e-07, 3.24e-06]\n",
      "1 thickness_solution: 11.501747705968473 [6, 25]\n",
      "2 D2O - sld: 6.10167708683932 [5.35, 6.35]\n",
      "3 bilayer - roughs: 2.9100419965095963 [0, 20]\n",
      "4 bilayer - thickness_heads: 1.0170909088647822 [1, 30]\n",
      "5 bilayer - thickness_tails: 19.95376670022422 [1, 30]\n",
      "6 bilayer - roughs: 5.963428241111897 [0, 10]\n",
      "7 rough_preceding_solution: 7.097366643314579 [0, 20]\n",
      "8 bilayer - Waters Per Head: 8.983681486292658 [0, 20]\n",
      "9 bilayer - Waters Per Tail: 5.753552592742096 [0, 10]\n",
      "10 bilayer - ratio protein to bilayer: 0.9510890705729647 [0.5, 1]\n",
      "11 bkg: 3.4025703469179305e-06 [6.040000000000001e-07, 5.436e-06]\n",
      "12 Protein Matched Water - sld: 1.7585619973351916 [1.35, 3.35]\n",
      "13 bkg: 2.3524147063125775e-06 [3.46e-07, 3.114e-06]\n",
      "14 ACMW - sld: 0.4257541678261787 [-0.56, 1]\n",
      "\n",
      "[Parameter(value=188.94423452376412, name='bilayer - area_per_molecule', vary=False, bounds=Interval(lb=100, ub=200), constraint=None)]\n"
     ]
    }
   ],
   "source": [
    "#gobjective.varying_parameters()\n",
    "print(\"logp:\",gobjective.logp())\n",
    "print(\"logpost:\",gobjective.logpost())\n",
    "print(\"model1: d2o\", model1.scale, model1.bkg)\n",
    "print(\"model2: pmw\", model2.scale, model2.bkg)\n",
    "print(\"model3: acmw\", model3.scale, model3.bkg)\n",
    "print()\n",
    "[[print(i,param.name+\":\",param.value, param.bounds)] for i,param in enumerate(gobjective.varying_parameters())];\n",
    "print()\n",
    "print(list(f_unique(p for p in flatten(gobjective.parameters) if \"area\" in p.name)))"
   ]
  },
  {
   "cell_type": "code",
   "execution_count": 31,
   "metadata": {},
   "outputs": [
    {
     "name": "stdout",
     "output_type": "stream",
     "text": [
      "(1.911976917677829, -0.1654933336543258) \n",
      " 41.941715218178004 \n",
      " 7924.645276512351 \n",
      " 3097.5091128658464 \n",
      " 427.1176732429974\n"
     ]
    }
   ],
   "source": [
    "print(upper_lipid_d2o.sld_r(),\"\\n\",\n",
    "upper_lipid_d2o.total_thickness(),\"\\n\",\n",
    "upper_lipid_d2o.total_vm(),\"\\n\",\n",
    "upper_lipid_d2o.vm_tail(),\"\\n\",\n",
    "upper_lipid_d2o.vm_head(),)"
   ]
  },
  {
   "cell_type": "markdown",
   "metadata": {},
   "source": [
    "<!-- I believe correct values, leaflet roughness between head and tail is the same as the roughness preceeding the leaflet\\\n",
    "class used is a modified version of the LipidLeaflet class native to refnx, its in the file\\\n",
    "\"protein\" and called \"LipidLeafletWithProtien\"\\\n",
    "volumes of head and tails are indirectly varied by changes in waters per head/tail\\\n",
    "so the tails do not change volume\\\n",
    "0 scale: 0.5521883304658243 [0.5, 0.6]\\\n",
    "1 bkg: 3.8668280301251303e-07 [3.6e-07, 3.24e-06]\\\n",
    "2 thickness_solution: 10.788185214150985 [6, 25]\\\n",
    "3 D2O - sld: 6.120774383877097 [5.35, 6.35]\\\n",
    "4 rough_preceding_solution: 3.939327435493368 [0, 20]\\\n",
    "5 bilayer - area_per_molecule: 149.83843268748353 [60, 150]\\\n",
    "6 bilayer - thickness_heads: 2.2131024442953855 [1, 30]\\\n",
    "7 bilayer - thickness_tails: 19.19114563662231 [1, 30]\\\n",
    "8 bilayer - rough_top: 0.15555337800548585 [0, 10]\\\n",
    "9 bilayer - Waters Per Head: 0.017922237590786594 [0, 20]\\\n",
    "10 bilayer - Waters Per Tail: 0.02927203409960022 [0, 10]\\\n",
    "11 bilayer - ratio protein to bilayer: 0.7498017765068212 [0.25, 0.75]\\\n",
    "12 Protrusion - protrusion thickness: 6.090177488208205 [5, 100]\\\n",
    "13 Protrusion - protrusion roughness: 7.445463122283828 [0, 20]\\\n",
    "14 Protrusion - protrusion volfrac: 0.9963095809664922 [0, 1]\\\n",
    "15 scale: 0.5990025735918081 [0.5, 0.6]\\\n",
    "16 bkg: 3.5880504074107574e-06 [6.040000000000001e-07, 5.436e-06]\\\n",
    "17 Protein Matched Water - sld: 1.757984633375042 [1.35, 3.35]\\\n",
    "18 scale: 0.5907367476195101 [0.5, 0.6]\\\n",
    "19 bkg: 2.831535701386751e-06 [3.46e-07, 3.114e-06]\\\n",
    "20 ACMW - sld: 0.4132210895757328 [-0.56, 1] -->"
   ]
  },
  {
   "cell_type": "code",
   "execution_count": 32,
   "metadata": {
    "scrolled": false
   },
   "outputs": [],
   "source": [
    "if choose==2:\n",
    "    labels = [param.name for param in gobjective.varying_parameters()]\n",
    "\n",
    "    fig, axes = dyplot.traceplot(res1, labels = labels, #truths=np.zeros(fitter.nDim()),\n",
    "                                 show_titles=True, trace_cmap='plasma',\n",
    "                                 quantiles=[0.025, 0.5, 0.975])\n",
    "    fig.tight_layout()"
   ]
  },
  {
   "cell_type": "code",
   "execution_count": 33,
   "metadata": {},
   "outputs": [],
   "source": [
    "if choose==2:\n",
    "    labels = [param.name for param in gobjective.varying_parameters()]\n",
    "\n",
    "    fig, axes = dyplot.cornerpoints(res1, labels = labels#, #truths=np.zeros(fitter.nDim()),\n",
    "                                 #show_titles=True,\n",
    "                                 #trace_cmap='plasma',\n",
    "                                 #quantiles=[0.025, 0.5, 0.975]\n",
    "                                   )\n",
    "    fig.tight_layout()"
   ]
  },
  {
   "cell_type": "code",
   "execution_count": null,
   "metadata": {},
   "outputs": [],
   "source": []
  }
 ],
 "metadata": {
  "kernelspec": {
   "display_name": "Python 3",
   "language": "python",
   "name": "python3"
  },
  "language_info": {
   "codemirror_mode": {
    "name": "ipython",
    "version": 3
   },
   "file_extension": ".py",
   "mimetype": "text/x-python",
   "name": "python",
   "nbconvert_exporter": "python",
   "pygments_lexer": "ipython3",
   "version": "3.7.3"
  }
 },
 "nbformat": 4,
 "nbformat_minor": 2
}
