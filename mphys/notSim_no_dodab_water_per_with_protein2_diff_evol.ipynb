{
 "cells": [
  {
   "cell_type": "code",
   "execution_count": 1,
   "metadata": {},
   "outputs": [
    {
     "name": "stdout",
     "output_type": "stream",
     "text": [
      "refnx: 0.1.9\n",
      "scipy: 1.3.0\n",
      "numpy: 1.16.4\n"
     ]
    }
   ],
   "source": [
    "import os.path\n",
    "import numpy as np\n",
    "import matplotlib.pyplot as plt\n",
    "import scipy\n",
    "import refnx\n",
    "from refnx.dataset import ReflectDataset, Data1D\n",
    "from refnx.analysis import Transform, CurveFitter, Objective, Model, Parameter, GlobalObjective\n",
    "from refnx.reflect import SLD, Slab, ReflectModel\n",
    "# from sepObjectiveGO import getObjective as gO\n",
    "# import make_sim_data as msd\n",
    "# import lipidBilayerAsGiven.SLD_maker \n",
    "import data_in as di\n",
    "from protein.LipidLeafletWithProtein_builtOn2 import LipidLeafletWithProtien as LipidLeaflet\n",
    "\n",
    "\n",
    "print('refnx: %s\\nscipy: %s\\nnumpy: %s' % (refnx.version.version,\n",
    "                   scipy.version.version, np.version.version))\n",
    "%matplotlib inline\n",
    "SEED = 12345"
   ]
  },
  {
   "cell_type": "code",
   "execution_count": 2,
   "metadata": {},
   "outputs": [
    {
     "name": "stdout",
     "output_type": "stream",
     "text": [
      "csv\n",
      "cvs-collecting\n",
      "csv\n",
      "cvs-collecting\n",
      "csv\n",
      "cvs-collecting\n"
     ]
    },
    {
     "data": {
      "image/png": "[encoded data removed]",
      "text/plain": [
       "<Figure size 432x288 with 1 Axes>"
      ]
     },
     "metadata": {
      "needs_background": "light"
     },
     "output_type": "display_data"
    }
   ],
   "source": [
    "# dataD2o = Data1D(data=di.data_in(\"lipidBilayerData/54696_97_edit.txt\"))\n",
    "# dataD2o.name=\"d2o\"\n",
    "# dataPmw = Data1D(data=di.data_in(\"lipidBilayerData/54699_00_edit.txt\"))\n",
    "# dataPmw.name=\"pmw\"\n",
    "\n",
    "dataAcmw = Data1D(data=di.data_in(\"protein/54613_14edit.txt\"))\n",
    "dataAcmw.name=\"acm\"\n",
    "dataPmw = Data1D(data=di.data_in(\"protein/54616_17edit.txt\"))\n",
    "dataPmw.name=\"pmw\"\n",
    "dataD2o = Data1D(data=di.data_in(\"protein/10_11_d2o.txt\"))\n",
    "dataD2o.name=\"d2o\"\n",
    "plt.errorbar(dataAcmw.data[0],dataAcmw.data[1],dataAcmw.data[2])\n",
    "plt.errorbar(dataPmw.data[0],dataPmw.data[1],dataPmw.data[2])\n",
    "plt.errorbar(dataD2o.data[0],dataD2o.data[1],dataD2o.data[2])\n",
    "plt.yscale(\"log\")\n",
    "plt.show()"
   ]
  },
  {
   "cell_type": "code",
   "execution_count": 3,
   "metadata": {},
   "outputs": [],
   "source": [
    "name = \"bilayer\"\n",
    "\n",
    "d2o = SLD(6.07, \"D2O\")\n",
    "pmw = SLD(2.35, \"Protein Matched Water\")\n",
    "acmw = SLD(0.00, \"ACMW\")\n",
    "air = SLD(0.00, \"Air\")\n",
    "\n",
    "d2o.real.setp(vary=True, bounds=(3, 6.35)) # bounds=(5.9, 6.35))\n",
    "pmw.real.setp(vary=True, bounds=(1., 3.))\n",
    "acmw.real.setp(vary=True, bounds=(-1, 1))\n",
    "\n",
    "apm = Parameter(value=75, name='%s - area_per_molecule' % name,\n",
    "                bounds=(60, 150), vary=True)\n",
    "\n",
    "#Define all the neutron b's\n",
    "bc = 0.6646e-4  #Carbon\n",
    "bo = 0.5804e-4  #Oxygen\n",
    "bh = -0.3739e-4 #Hydrogen\n",
    "bp = 0.513e-4   #Phosphorus\n",
    "bn = 0.936e-4   #Nitrogen\n",
    "bd = 0.6671e-4  #Deuterium\n",
    "\n",
    "#Formulae of the molecule sections...\n",
    "CH2 = (1*bc) + (2*bh)\n",
    "CH = (1*bc) + (1*bh)\n",
    "CH3 = (1*bc) + (3*bh)\n",
    "D2O = (2*bd) + (1*bo)\n",
    "H2O = (2*bh) + (1*bo)\n",
    "\n",
    "# Calculate mole fraction of D2O from the bulk SLD..\n",
    "# d2o_molfr = (1/D2O-H2O)*(contrast*27.64)-H2O\n",
    "# wMol = (d2o_molfr * D2O) + ((1-d2o_molfr)*H2O)\n",
    "\n",
    "#sum b's of all the different fragments\n",
    "b_tails = Parameter(value=(28*CH2) + (2*CH) + (2*CH3),\n",
    "                       name='%s - b_tails_real' % name)\n",
    "\n",
    "sum_popc_heads = (8*bo) + (1*bp) + (1*bn) + (2*bc) + (4*CH2) + (3*CH3) + (1*CH)\n",
    "sum_popg_heads = (10*bo) + (1*bp) + (2*bc) + (4*CH2) + (2*CH) + (2*bh)\n",
    "b_heads = Parameter(value=(3*(sum_popc_heads) + (sum_popg_heads))/4,\n",
    "                        name='%s - b_heads_real' % name)\n",
    "\n",
    "#monolayer compositions\n",
    "#sum_m_tails = (34*CH2) + (2*CH3);\n",
    "#sum_m_heads = (1*bn) + (2*CH3) + (Waters_per_headD * wMol);\n",
    "\n",
    "#volumes of each fragment\n",
    "vCH2 = 27.7\n",
    "nCH2 = 30\n",
    "vCH3 = 54.6\n",
    "vm_tails = Parameter(value=(nCH2 * vCH2) + (2 * vCH3),\n",
    "            name='%s - volume_tails' % name) #\n",
    "vm_heads = Parameter(value=331,\n",
    "            name='%s - volume_heads' % name)  #\n",
    "vm_water = Parameter(value=29.7,\n",
    "            name='%s - water_vm' % name)\n",
    "\n",
    "#thickness\n",
    "thickness_tails = Parameter(6., #value=vm_tails.value/apm.value,\n",
    "            name='%s - thickness_tails' % name,\n",
    "            bounds=(3, #(1-0.75)*vm_tails.value/apm.value,\n",
    "                    9), #(1+0.75)*vm_tails.value/apm.value),\n",
    "               vary=True)\n",
    "thickness_heads = Parameter(value= 11., #vm_heads.value/apm.value,\n",
    "            name='%s - thickness_heads' % name,\n",
    "            bounds=(9, #(1-0.75)*vm_heads.value/apm.value,\n",
    "                    20), #(1+0.75)*vm_heads.value/apm.value),\n",
    "               vary=True)\n",
    "\n",
    "rough_top = Parameter(value=2,\n",
    "            name='%s - rough_top' % name,\n",
    "            bounds=(0,10), vary=True)\n",
    "rough_bot = rough_top\n",
    "# rough_bot = Parameter(value=2.0,\n",
    "#             name='%s - rough_bot' % name,\n",
    "#             bounds=(0,10), vary=True)\n",
    "\n",
    "waters_per_head = Parameter(\n",
    "            value=2.8,\n",
    "            name=\"{} - Waters Per Head\".format(name),\n",
    "            bounds=(0, 20), vary=True)\n",
    "\n",
    "waters_per_tail = Parameter(\n",
    "            value=1,\n",
    "            name=\"{} - Waters Per Tail\".format(name),\n",
    "            bounds=(0, 10), vary=True)\n",
    "\n",
    "# b_mscl = Parameter(\n",
    "#             value= ,\n",
    "#             name=\"{} - b_protein_real\".format(name),\n",
    "#             vary=False)\n",
    "\n",
    "vm_mscl = Parameter(\n",
    "            value=19749+74937.5,\n",
    "            name=\"{} - volume_protein\".format(name),\n",
    "            vary=False)\n",
    "\n",
    "PLRatio = Parameter(\n",
    "            value= 0.5,\n",
    "            name=\"{} - ratio protein to bilayer\".format(name),\n",
    "            bounds=(0.25, 0.75),vary=True)\n"
   ]
  },
  {
   "cell_type": "code",
   "execution_count": 4,
   "metadata": {},
   "outputs": [],
   "source": [
    "# apm, b_heads, vm_heads, thickness_heads\n",
    "# b_tails, vm_tails, thickness_tails, rough_head_tail\n",
    "# rough_preceding_mono, head_solvent\n",
    "\n",
    "\n",
    "# head_solvent_d2o = SLD(6.07, \"D2O in bilayer\")\n",
    "# head_solvent_d2o.real.setp(6.07, vary=True, bounds=(5.35, 6.35))\n",
    "upper_lipid_d2o = LipidLeaflet(apm, b_heads, vm_heads, thickness_heads,\n",
    "    b_tails, vm_tails, thickness_tails, rough_top, rough_top,\n",
    "    vm_water, waters_per_head, waters_per_tail,\n",
    "    vm_mscl, PLRatio, d2o, d2o,\n",
    "    reverse_monolayer=False, name=\"upper_lipid_d2o\")\n",
    "\n",
    "lower_lipid_d2o = LipidLeaflet(apm, b_heads, vm_heads, thickness_heads,\n",
    "    b_tails, vm_tails, thickness_tails, rough_top, rough_top,\n",
    "    vm_water, waters_per_head, waters_per_tail,\n",
    "    vm_mscl, PLRatio, d2o, d2o,\n",
    "    reverse_monolayer=True, name=\"lower_lipid_d2o\")\n",
    "\n",
    "\n",
    "# head_solvent_pmw = SLD(2.35, \"Protein Matched Water in bilayer\")\n",
    "# head_solvent_pmw.real.setp(2.34, vary=True, bounds=(1.35, 3.35))\n",
    "upper_lipid_pmw = LipidLeaflet(apm, b_heads, vm_heads, thickness_heads,\n",
    "    b_tails, vm_tails, thickness_tails, rough_bot, rough_bot,\n",
    "    vm_water, waters_per_head, waters_per_tail,\n",
    "    vm_mscl, PLRatio, pmw, pmw,\n",
    "    reverse_monolayer=False, name=\"upper_lipid_pmw\")\n",
    "\n",
    "lower_lipid_pmw = LipidLeaflet(apm, b_heads, vm_heads, thickness_heads,\n",
    "    b_tails, vm_tails, thickness_tails, rough_bot, rough_bot,\n",
    "    vm_water, waters_per_head, waters_per_tail,\n",
    "    vm_mscl, PLRatio, pmw, pmw,\n",
    "    reverse_monolayer=True, name=\"lower_lipid_pmw\")\n",
    "\n",
    "\n",
    "upper_lipid_acmw = LipidLeaflet(apm, b_heads, vm_heads, thickness_heads,\n",
    "    b_tails, vm_tails, thickness_tails, rough_bot, rough_bot,\n",
    "    vm_water, waters_per_head, waters_per_tail,\n",
    "    vm_mscl, PLRatio, acmw, acmw,\n",
    "    reverse_monolayer=False, name=\"upper_lipid_acmw\")\n",
    "\n",
    "lower_lipid_acmw = LipidLeaflet(apm, b_heads, vm_heads, thickness_heads,\n",
    "    b_tails, vm_tails, thickness_tails, rough_bot, rough_bot,\n",
    "    vm_water, waters_per_head, waters_per_tail,\n",
    "    vm_mscl, PLRatio, acmw, acmw,\n",
    "    reverse_monolayer=True, name=\"lower_lipid_acmw\")"
   ]
  },
  {
   "cell_type": "code",
   "execution_count": 5,
   "metadata": {},
   "outputs": [],
   "source": [
    "# name_m = \"mono, dodab\"\n",
    "# APMD = Parameter(value=48, name='%s - area_per_molecule' % name_m,\n",
    "#         bounds=(30,120), vary=True)\n",
    "\n",
    "# # monolayer compositions\n",
    "# m_tails = Parameter(value=(34*CH2) + (2*CH3),\n",
    "#             name='%s - b_tails_real' % name_m)\n",
    "# m_heads = Parameter(value=(1*bn) + (2*CH3),\n",
    "#             name='%s - b_heads_real' % name_m)\n",
    "\n",
    "# # monolayer volumes\n",
    "# vm_m_tails = Parameter(value=vCH2*36,\n",
    "#             name='%s - volume_tails' % name_m)\n",
    "# vm_m_heads = Parameter(value=54.6,\n",
    "#             name='%s - volume_heads' % name_m)\n",
    "\n",
    "# # monolayer thicknesses\n",
    "# tail_thick_m = Parameter(value=vm_m_tails.value / APMD.value,\n",
    "#             name='%s - thickness_tails' % name_m,\n",
    "#             bounds=((1-0.75)*vm_m_tails.value / APMD.value,\n",
    "#                     (1+0.75)*vm_m_tails.value / APMD.value),\n",
    "#                vary=True)\n",
    "# head_thick_m = Parameter(value=vm_m_heads.value / APMD.value,\n",
    "#             name='%s - thickness heads' % name_m,\n",
    "#             bounds=((1-0.75)*vm_m_heads.value / APMD.value,\n",
    "#                     (1+0.75)*vm_m_heads.value / APMD.value),\n",
    "#                vary=True)\n",
    "\n",
    "# roughness_m =  Parameter(value=5.8,\n",
    "#             name='%s - roughness' % name_m,\n",
    "#             bounds=(0,10), vary=True)\n",
    "\n",
    "\n",
    "# water_vm_m = Parameter(value=vm_water,\n",
    "#             name='%s - water_vm' % name_m)\n",
    "# waters_per_head_m = Parameter(\n",
    "#             value=2.8,\n",
    "#             name=\"{} Waters Per Head\".format(name_m),\n",
    "#             vary=True,\n",
    "#             bounds=(1, 20))\n",
    "# waters_per_tail_m = Parameter(\n",
    "#             value=0.,\n",
    "#             name=\"{} Waters Per Tail\".format(name_m),\n",
    "#             vary=False)"
   ]
  },
  {
   "cell_type": "code",
   "execution_count": 6,
   "metadata": {},
   "outputs": [],
   "source": [
    "# m_head_solvent_pmw=SLD(2.35, \"mono, dodab - Protein Matched Water in head\")\n",
    "# m_head_solvent_pmw.real.setp(2.34, vary=True, bounds=(1.35, 3.35))\n",
    "# m_air_in_tail=SLD(0, \"mono, dodab - air in tail\")\n",
    "\n",
    "# dodab_pmw = LipidLeaflet(apm=APMD, b_heads=m_heads, vm_heads=vm_m_heads,\n",
    "#     thickness_heads=head_thick_m, b_tails=m_tails, vm_tails=vm_m_tails,\n",
    "#     thickness_tails=tail_thick_m, rough_head_tail=roughness_m,\n",
    "#     rough_preceding_mono=roughness_m,\n",
    "#     water_vm=vm_water, waters_per_head=waters_per_head_m,\n",
    "#     waters_per_tail=waters_per_tail_m,\n",
    "#     head_solvent=m_head_solvent_pmw, tail_solvent=m_air_in_tail) #mono\n",
    "\n",
    "# m_head_solvent_d2o=SLD(6.07, \"mono, dodab - D2O in head\")\n",
    "# m_head_solvent_d2o.real.setp(6.07, vary=True, bounds=(5.35, 6.35))\n",
    "# dodab_d2o = LipidLeaflet(apm=APMD, b_heads=m_heads, vm_heads=vm_m_heads,\n",
    "#     thickness_heads=head_thick_m, b_tails=m_tails, vm_tails=vm_m_tails,\n",
    "#     thickness_tails=tail_thick_m, rough_head_tail=roughness_m,\n",
    "#     water_vm=vm_water, waters_per_head=waters_per_head_m,\n",
    "#     waters_per_tail=waters_per_tail_m,\n",
    "#     rough_preceding_mono=roughness_m, head_solvent=m_head_solvent_d2o,\n",
    "#                          tail_solvent=m_air_in_tail) #mono"
   ]
  },
  {
   "cell_type": "code",
   "execution_count": 7,
   "metadata": {
    "scrolled": true
   },
   "outputs": [
    {
     "data": {
      "image/png": "[encoded data removed]",
      "text/plain": [
       "<Figure size 432x288 with 1 Axes>"
      ]
     },
     "metadata": {
      "needs_background": "light"
     },
     "output_type": "display_data"
    },
    {
     "name": "stdout",
     "output_type": "stream",
     "text": [
      "________________________________________________________________________________\n",
      "Structure:       d2o      \n",
      "solvent: None\n",
      "reverse structure: False\n",
      "contract: 0\n",
      "\n",
      "________________________________________________________________________________\n",
      "Parameters:      'Air'     \n",
      "<Parameter: 'Air - thick' , value=0 (fixed)  , bounds=[-inf, inf]>\n",
      "<Parameter:  'Air - sld'  , value=0 (fixed)  , bounds=[-inf, inf]>\n",
      "<Parameter: 'Air - isld'  , value=0 (fixed)  , bounds=[-inf, inf]>\n",
      "<Parameter: 'Air - rough' , value=0 (fixed)  , bounds=[-inf, inf]>\n",
      "<Parameter:'Air - volfrac solvent', value=0 (fixed)  , bounds=[-inf, inf]>\n",
      "________________________________________________________________________________\n",
      "Parameters:      'D2O'     \n",
      "<Parameter:'thickness_solution', value=14.3          , bounds=[6, 25]>\n",
      "<Parameter:  'D2O - sld'  , value=6.07          , bounds=[3, 6.35]>\n",
      "<Parameter: 'D2O - isld'  , value=0 (fixed)  , bounds=[-inf, inf]>\n",
      "<Parameter:'rough_preceding_solution', value=4.6          , bounds=[0, 20]>\n",
      "<Parameter:'D2O - volfrac solvent', value=0 (fixed)  , bounds=[-inf, inf]>\n",
      "LipidLeaflet(Parameter(value=75.0, name='bilayer - area_per_molecule', vary=True, bounds=Interval(lb=60, ub=150), constraint=None), SLD([Parameter(value=0.0006292750000000001, name='bilayer - b_heads_real', vary=False, bounds=Interval(lb=-np.inf, ub=np.inf), constraint=None), Parameter(value=0.0, name='upper_lipid_d2o - b_heads_imag', vary=False, bounds=Interval(lb=-np.inf, ub=np.inf), constraint=None)], name=''), Parameter(value=331.0, name='bilayer - volume_heads', vary=False, bounds=Interval(lb=-np.inf, ub=np.inf), constraint=None), Parameter(value=11.0, name='bilayer - thickness_heads', vary=True, bounds=Interval(lb=9, ub=20), constraint=None), SLD([Parameter(value=-0.00026624000000000005, name='bilayer - b_tails_real', vary=False, bounds=Interval(lb=-np.inf, ub=np.inf), constraint=None), Parameter(value=0.0, name='upper_lipid_d2o - b_tails_imag', vary=False, bounds=Interval(lb=-np.inf, ub=np.inf), constraint=None)], name=''), Parameter(value=940.2, name='bilayer - volume_tails', vary=False, bounds=Interval(lb=-np.inf, ub=np.inf), constraint=None), Parameter(value=6.0, name='bilayer - thickness_tails', vary=True, bounds=Interval(lb=3, ub=9), constraint=None), Parameter(value=2.0, name='bilayer - rough_top', vary=True, bounds=Interval(lb=0, ub=10), constraint=None), Parameter(value=2.0, name='bilayer - rough_top', vary=True, bounds=Interval(lb=0, ub=10), constraint=None), head_solvent=SLD([Parameter(value=6.07, name='D2O - sld', vary=True, bounds=Interval(lb=3, ub=6.35), constraint=None), Parameter(value=0.0, name='D2O - isld', vary=False, bounds=Interval(lb=-np.inf, ub=np.inf), constraint=None)], name=''), tail_solvent=SLD([Parameter(value=6.07, name='D2O - sld', vary=True, bounds=Interval(lb=3, ub=6.35), constraint=None), Parameter(value=0.0, name='D2O - isld', vary=False, bounds=Interval(lb=-np.inf, ub=np.inf), constraint=None)], name=''), reverse_monolayer=False, name='upper_lipid_d2o')\n",
      "LipidLeaflet(Parameter(value=75.0, name='bilayer - area_per_molecule', vary=True, bounds=Interval(lb=60, ub=150), constraint=None), SLD([Parameter(value=0.0006292750000000001, name='bilayer - b_heads_real', vary=False, bounds=Interval(lb=-np.inf, ub=np.inf), constraint=None), Parameter(value=0.0, name='lower_lipid_d2o - b_heads_imag', vary=False, bounds=Interval(lb=-np.inf, ub=np.inf), constraint=None)], name=''), Parameter(value=331.0, name='bilayer - volume_heads', vary=False, bounds=Interval(lb=-np.inf, ub=np.inf), constraint=None), Parameter(value=11.0, name='bilayer - thickness_heads', vary=True, bounds=Interval(lb=9, ub=20), constraint=None), SLD([Parameter(value=-0.00026624000000000005, name='bilayer - b_tails_real', vary=False, bounds=Interval(lb=-np.inf, ub=np.inf), constraint=None), Parameter(value=0.0, name='lower_lipid_d2o - b_tails_imag', vary=False, bounds=Interval(lb=-np.inf, ub=np.inf), constraint=None)], name=''), Parameter(value=940.2, name='bilayer - volume_tails', vary=False, bounds=Interval(lb=-np.inf, ub=np.inf), constraint=None), Parameter(value=6.0, name='bilayer - thickness_tails', vary=True, bounds=Interval(lb=3, ub=9), constraint=None), Parameter(value=2.0, name='bilayer - rough_top', vary=True, bounds=Interval(lb=0, ub=10), constraint=None), Parameter(value=2.0, name='bilayer - rough_top', vary=True, bounds=Interval(lb=0, ub=10), constraint=None), head_solvent=SLD([Parameter(value=6.07, name='D2O - sld', vary=True, bounds=Interval(lb=3, ub=6.35), constraint=None), Parameter(value=0.0, name='D2O - isld', vary=False, bounds=Interval(lb=-np.inf, ub=np.inf), constraint=None)], name=''), tail_solvent=SLD([Parameter(value=6.07, name='D2O - sld', vary=True, bounds=Interval(lb=3, ub=6.35), constraint=None), Parameter(value=0.0, name='D2O - isld', vary=False, bounds=Interval(lb=-np.inf, ub=np.inf), constraint=None)], name=''), reverse_monolayer=True, name='lower_lipid_d2o')\n",
      "________________________________________________________________________________\n",
      "Parameters:      'D2O'     \n",
      "<Parameter:'thickness_solution', value=14.3          , bounds=[6, 25]>\n",
      "<Parameter:  'D2O - sld'  , value=6.07          , bounds=[3, 6.35]>\n",
      "<Parameter: 'D2O - isld'  , value=0 (fixed)  , bounds=[-inf, inf]>\n",
      "<Parameter:'rough_preceding_solution', value=4.6          , bounds=[0, 20]>\n",
      "<Parameter:'D2O - volfrac solvent', value=0 (fixed)  , bounds=[-inf, inf]>\n",
      "________________________________________________________________________________\n",
      "Structure: protein matched water\n",
      "solvent: None\n",
      "reverse structure: False\n",
      "contract: 0\n",
      "\n",
      "________________________________________________________________________________\n",
      "Parameters:      'Air'     \n",
      "<Parameter: 'Air - thick' , value=0 (fixed)  , bounds=[-inf, inf]>\n",
      "<Parameter:  'Air - sld'  , value=0 (fixed)  , bounds=[-inf, inf]>\n",
      "<Parameter: 'Air - isld'  , value=0 (fixed)  , bounds=[-inf, inf]>\n",
      "<Parameter: 'Air - rough' , value=0 (fixed)  , bounds=[-inf, inf]>\n",
      "<Parameter:'Air - volfrac solvent', value=0 (fixed)  , bounds=[-inf, inf]>\n",
      "________________________________________________________________________________\n",
      "Parameters: 'Protein Matched Water'\n",
      "<Parameter:'thickness_solution', value=14.3          , bounds=[6, 25]>\n",
      "<Parameter:'Protein Matched Water - sld', value=2.35          , bounds=[1.0, 3.0]>\n",
      "<Parameter:'Protein Matched Water - isld', value=0 (fixed)  , bounds=[-inf, inf]>\n",
      "<Parameter:'rough_preceding_solution', value=4.6          , bounds=[0, 20]>\n",
      "<Parameter:'Protein Matched Water - volfrac solvent', value=0 (fixed)  , bounds=[-inf, inf]>\n",
      "LipidLeaflet(Parameter(value=75.0, name='bilayer - area_per_molecule', vary=True, bounds=Interval(lb=60, ub=150), constraint=None), SLD([Parameter(value=0.0006292750000000001, name='bilayer - b_heads_real', vary=False, bounds=Interval(lb=-np.inf, ub=np.inf), constraint=None), Parameter(value=0.0, name='upper_lipid_pmw - b_heads_imag', vary=False, bounds=Interval(lb=-np.inf, ub=np.inf), constraint=None)], name=''), Parameter(value=331.0, name='bilayer - volume_heads', vary=False, bounds=Interval(lb=-np.inf, ub=np.inf), constraint=None), Parameter(value=11.0, name='bilayer - thickness_heads', vary=True, bounds=Interval(lb=9, ub=20), constraint=None), SLD([Parameter(value=-0.00026624000000000005, name='bilayer - b_tails_real', vary=False, bounds=Interval(lb=-np.inf, ub=np.inf), constraint=None), Parameter(value=0.0, name='upper_lipid_pmw - b_tails_imag', vary=False, bounds=Interval(lb=-np.inf, ub=np.inf), constraint=None)], name=''), Parameter(value=940.2, name='bilayer - volume_tails', vary=False, bounds=Interval(lb=-np.inf, ub=np.inf), constraint=None), Parameter(value=6.0, name='bilayer - thickness_tails', vary=True, bounds=Interval(lb=3, ub=9), constraint=None), Parameter(value=2.0, name='bilayer - rough_top', vary=True, bounds=Interval(lb=0, ub=10), constraint=None), Parameter(value=2.0, name='bilayer - rough_top', vary=True, bounds=Interval(lb=0, ub=10), constraint=None), head_solvent=SLD([Parameter(value=2.35, name='Protein Matched Water - sld', vary=True, bounds=Interval(lb=1.0, ub=3.0), constraint=None), Parameter(value=0.0, name='Protein Matched Water - isld', vary=False, bounds=Interval(lb=-np.inf, ub=np.inf), constraint=None)], name=''), tail_solvent=SLD([Parameter(value=2.35, name='Protein Matched Water - sld', vary=True, bounds=Interval(lb=1.0, ub=3.0), constraint=None), Parameter(value=0.0, name='Protein Matched Water - isld', vary=False, bounds=Interval(lb=-np.inf, ub=np.inf), constraint=None)], name=''), reverse_monolayer=False, name='upper_lipid_pmw')\n",
      "LipidLeaflet(Parameter(value=75.0, name='bilayer - area_per_molecule', vary=True, bounds=Interval(lb=60, ub=150), constraint=None), SLD([Parameter(value=0.0006292750000000001, name='bilayer - b_heads_real', vary=False, bounds=Interval(lb=-np.inf, ub=np.inf), constraint=None), Parameter(value=0.0, name='lower_lipid_pmw - b_heads_imag', vary=False, bounds=Interval(lb=-np.inf, ub=np.inf), constraint=None)], name=''), Parameter(value=331.0, name='bilayer - volume_heads', vary=False, bounds=Interval(lb=-np.inf, ub=np.inf), constraint=None), Parameter(value=11.0, name='bilayer - thickness_heads', vary=True, bounds=Interval(lb=9, ub=20), constraint=None), SLD([Parameter(value=-0.00026624000000000005, name='bilayer - b_tails_real', vary=False, bounds=Interval(lb=-np.inf, ub=np.inf), constraint=None), Parameter(value=0.0, name='lower_lipid_pmw - b_tails_imag', vary=False, bounds=Interval(lb=-np.inf, ub=np.inf), constraint=None)], name=''), Parameter(value=940.2, name='bilayer - volume_tails', vary=False, bounds=Interval(lb=-np.inf, ub=np.inf), constraint=None), Parameter(value=6.0, name='bilayer - thickness_tails', vary=True, bounds=Interval(lb=3, ub=9), constraint=None), Parameter(value=2.0, name='bilayer - rough_top', vary=True, bounds=Interval(lb=0, ub=10), constraint=None), Parameter(value=2.0, name='bilayer - rough_top', vary=True, bounds=Interval(lb=0, ub=10), constraint=None), head_solvent=SLD([Parameter(value=2.35, name='Protein Matched Water - sld', vary=True, bounds=Interval(lb=1.0, ub=3.0), constraint=None), Parameter(value=0.0, name='Protein Matched Water - isld', vary=False, bounds=Interval(lb=-np.inf, ub=np.inf), constraint=None)], name=''), tail_solvent=SLD([Parameter(value=2.35, name='Protein Matched Water - sld', vary=True, bounds=Interval(lb=1.0, ub=3.0), constraint=None), Parameter(value=0.0, name='Protein Matched Water - isld', vary=False, bounds=Interval(lb=-np.inf, ub=np.inf), constraint=None)], name=''), reverse_monolayer=True, name='lower_lipid_pmw')\n",
      "________________________________________________________________________________\n",
      "Parameters: 'Protein Matched Water'\n",
      "<Parameter:'thickness_solution', value=14.3          , bounds=[6, 25]>\n",
      "<Parameter:'Protein Matched Water - sld', value=2.35          , bounds=[1.0, 3.0]>\n",
      "<Parameter:'Protein Matched Water - isld', value=0 (fixed)  , bounds=[-inf, inf]>\n",
      "<Parameter:'rough_preceding_solution', value=4.6          , bounds=[0, 20]>\n"
     ]
    },
    {
     "name": "stdout",
     "output_type": "stream",
     "text": [
      "<Parameter:'Protein Matched Water - volfrac solvent', value=0 (fixed)  , bounds=[-inf, inf]>\n",
      "________________________________________________________________________________\n",
      "Structure:      ACMW      \n",
      "solvent: None\n",
      "reverse structure: False\n",
      "contract: 0\n",
      "\n",
      "________________________________________________________________________________\n",
      "Parameters:      'Air'     \n",
      "<Parameter: 'Air - thick' , value=0 (fixed)  , bounds=[-inf, inf]>\n",
      "<Parameter:  'Air - sld'  , value=0 (fixed)  , bounds=[-inf, inf]>\n",
      "<Parameter: 'Air - isld'  , value=0 (fixed)  , bounds=[-inf, inf]>\n",
      "<Parameter: 'Air - rough' , value=0 (fixed)  , bounds=[-inf, inf]>\n",
      "<Parameter:'Air - volfrac solvent', value=0 (fixed)  , bounds=[-inf, inf]>\n",
      "________________________________________________________________________________\n",
      "Parameters:     'ACMW'     \n",
      "<Parameter:'thickness_solution', value=14.3          , bounds=[6, 25]>\n",
      "<Parameter: 'ACMW - sld'  , value=0          , bounds=[-1, 1]>\n",
      "<Parameter: 'ACMW - isld' , value=0 (fixed)  , bounds=[-inf, inf]>\n",
      "<Parameter:'rough_preceding_solution', value=4.6          , bounds=[0, 20]>\n",
      "<Parameter:'ACMW - volfrac solvent', value=0 (fixed)  , bounds=[-inf, inf]>\n",
      "LipidLeaflet(Parameter(value=75.0, name='bilayer - area_per_molecule', vary=True, bounds=Interval(lb=60, ub=150), constraint=None), SLD([Parameter(value=0.0006292750000000001, name='bilayer - b_heads_real', vary=False, bounds=Interval(lb=-np.inf, ub=np.inf), constraint=None), Parameter(value=0.0, name='upper_lipid_acmw - b_heads_imag', vary=False, bounds=Interval(lb=-np.inf, ub=np.inf), constraint=None)], name=''), Parameter(value=331.0, name='bilayer - volume_heads', vary=False, bounds=Interval(lb=-np.inf, ub=np.inf), constraint=None), Parameter(value=11.0, name='bilayer - thickness_heads', vary=True, bounds=Interval(lb=9, ub=20), constraint=None), SLD([Parameter(value=-0.00026624000000000005, name='bilayer - b_tails_real', vary=False, bounds=Interval(lb=-np.inf, ub=np.inf), constraint=None), Parameter(value=0.0, name='upper_lipid_acmw - b_tails_imag', vary=False, bounds=Interval(lb=-np.inf, ub=np.inf), constraint=None)], name=''), Parameter(value=940.2, name='bilayer - volume_tails', vary=False, bounds=Interval(lb=-np.inf, ub=np.inf), constraint=None), Parameter(value=6.0, name='bilayer - thickness_tails', vary=True, bounds=Interval(lb=3, ub=9), constraint=None), Parameter(value=2.0, name='bilayer - rough_top', vary=True, bounds=Interval(lb=0, ub=10), constraint=None), Parameter(value=2.0, name='bilayer - rough_top', vary=True, bounds=Interval(lb=0, ub=10), constraint=None), head_solvent=SLD([Parameter(value=0.0, name='ACMW - sld', vary=True, bounds=Interval(lb=-1, ub=1), constraint=None), Parameter(value=0.0, name='ACMW - isld', vary=False, bounds=Interval(lb=-np.inf, ub=np.inf), constraint=None)], name=''), tail_solvent=SLD([Parameter(value=0.0, name='ACMW - sld', vary=True, bounds=Interval(lb=-1, ub=1), constraint=None), Parameter(value=0.0, name='ACMW - isld', vary=False, bounds=Interval(lb=-np.inf, ub=np.inf), constraint=None)], name=''), reverse_monolayer=False, name='upper_lipid_acmw')\n",
      "LipidLeaflet(Parameter(value=75.0, name='bilayer - area_per_molecule', vary=True, bounds=Interval(lb=60, ub=150), constraint=None), SLD([Parameter(value=0.0006292750000000001, name='bilayer - b_heads_real', vary=False, bounds=Interval(lb=-np.inf, ub=np.inf), constraint=None), Parameter(value=0.0, name='lower_lipid_acmw - b_heads_imag', vary=False, bounds=Interval(lb=-np.inf, ub=np.inf), constraint=None)], name=''), Parameter(value=331.0, name='bilayer - volume_heads', vary=False, bounds=Interval(lb=-np.inf, ub=np.inf), constraint=None), Parameter(value=11.0, name='bilayer - thickness_heads', vary=True, bounds=Interval(lb=9, ub=20), constraint=None), SLD([Parameter(value=-0.00026624000000000005, name='bilayer - b_tails_real', vary=False, bounds=Interval(lb=-np.inf, ub=np.inf), constraint=None), Parameter(value=0.0, name='lower_lipid_acmw - b_tails_imag', vary=False, bounds=Interval(lb=-np.inf, ub=np.inf), constraint=None)], name=''), Parameter(value=940.2, name='bilayer - volume_tails', vary=False, bounds=Interval(lb=-np.inf, ub=np.inf), constraint=None), Parameter(value=6.0, name='bilayer - thickness_tails', vary=True, bounds=Interval(lb=3, ub=9), constraint=None), Parameter(value=2.0, name='bilayer - rough_top', vary=True, bounds=Interval(lb=0, ub=10), constraint=None), Parameter(value=2.0, name='bilayer - rough_top', vary=True, bounds=Interval(lb=0, ub=10), constraint=None), head_solvent=SLD([Parameter(value=0.0, name='ACMW - sld', vary=True, bounds=Interval(lb=-1, ub=1), constraint=None), Parameter(value=0.0, name='ACMW - isld', vary=False, bounds=Interval(lb=-np.inf, ub=np.inf), constraint=None)], name=''), tail_solvent=SLD([Parameter(value=0.0, name='ACMW - sld', vary=True, bounds=Interval(lb=-1, ub=1), constraint=None), Parameter(value=0.0, name='ACMW - isld', vary=False, bounds=Interval(lb=-np.inf, ub=np.inf), constraint=None)], name=''), reverse_monolayer=True, name='lower_lipid_acmw')\n",
      "________________________________________________________________________________\n",
      "Parameters:     'ACMW'     \n",
      "<Parameter:'thickness_solution', value=14.3          , bounds=[6, 25]>\n",
      "<Parameter: 'ACMW - sld'  , value=0          , bounds=[-1, 1]>\n",
      "<Parameter: 'ACMW - isld' , value=0 (fixed)  , bounds=[-inf, inf]>\n",
      "<Parameter:'rough_preceding_solution', value=4.6          , bounds=[0, 20]>\n",
      "<Parameter:'ACMW - volfrac solvent', value=0 (fixed)  , bounds=[-inf, inf]>\n"
     ]
    }
   ],
   "source": [
    "# structure_d2o = air(0, 0) | dodab_d2o | d2o(0, 0) | upper_lipid_d2o | lower_lipid_d2o | d2o(0, 0)\n",
    "# structure_pmw = air(0, 0) | dodab_pmw | pmw(0, 0) | upper_lipid_pmw | lower_lipid_pmw | pmw(0, 0)\n",
    "# structure_d2o = air(0, 0) | d2o(0, 0) | upper_lipid_d2o | lower_lipid_d2o | d2o(0, 0)\n",
    "# structure_pmw = air(0, 0) | pmw(0, 0) | upper_lipid_pmw | lower_lipid_pmw | pmw(0, 0)\n",
    "#\n",
    "#\n",
    "# solution_thickness = Parameter(value=14.3, bounds=(6, 20), vary=True,\n",
    "#             name='%s - thickness_solution' % name)\n",
    "\n",
    "# rough_preceding_solution = Parameter(value=4.6, bounds=(0, 20), vary=True,\n",
    "#             name='%s - rough_preceding_solution' % name)\n",
    "# \n",
    "# structure_d2o[2].thick=solution_thickness#.setp(14.3, vary=True, bounds=(6, 20))\n",
    "# structure_d2o[2].rough=rough_preceding_solution#.setp(4.6, vary=True, bounds=(3, 20))\n",
    "# structure_pmw[2].thick=solution_thickness\n",
    "# structure_pmw[2].rough=rough_preceding_solution\n",
    "#\n",
    "# structure_d2o[5].thick=solution_thickness\n",
    "# structure_d2o[5].rough=rough_preceding_solution\n",
    "# structure_pmw[5].thick=solution_thickness\n",
    "# structure_pmw[5].rough=rough_preceding_solution\n",
    "\n",
    "# to changing to\n",
    "solution_thickness = Parameter(value=14.3, bounds=(6, 25), vary=True,\n",
    "            name='thickness_solution')\n",
    "\n",
    "rough_preceding_solution = Parameter(value=4.6, bounds=(0, 20), vary=True,\n",
    "            name='rough_preceding_solution')\n",
    "\n",
    "structure_d2o  = air(0, 0) | d2o(solution_thickness, rough_preceding_solution)  | upper_lipid_d2o  | lower_lipid_d2o  | d2o(solution_thickness, rough_preceding_solution)\n",
    "structure_pmw  = air(0, 0) | pmw(solution_thickness, rough_preceding_solution)  | upper_lipid_pmw  | lower_lipid_pmw  | pmw(solution_thickness, rough_preceding_solution)\n",
    "structure_acmw = air(0, 0) | acmw(solution_thickness, rough_preceding_solution) | upper_lipid_acmw | lower_lipid_acmw | acmw(solution_thickness, rough_preceding_solution)\n",
    "\n",
    "structure_d2o.name = \"d2o\"\n",
    "structure_pmw.name = \"protein matched water\"\n",
    "structure_acmw.name = \"ACMW\"\n",
    "\n",
    "plt.plot(*structure_d2o.sld_profile(),label=\"structure_d2o\")\n",
    "plt.ylabel('SLD /$10^{-6} \\AA^{-2}$')\n",
    "plt.xlabel('distance / $\\AA$')\n",
    "plt.plot(*structure_pmw.sld_profile(),label=\"structure_pmw\")\n",
    "plt.ylabel('SLD /$10^{-6} \\AA^{-2}$')\n",
    "plt.xlabel('distance / $\\AA$')\n",
    "plt.plot(*structure_acmw.sld_profile(),label=\"structure_acmw\")\n",
    "plt.ylabel('SLD /$10^{-6} \\AA^{-2}$')\n",
    "plt.xlabel('distance / $\\AA$')\n",
    "plt.show();\n",
    "print(structure_d2o)\n",
    "print(structure_pmw)\n",
    "print(structure_acmw)"
   ]
  },
  {
   "cell_type": "code",
   "execution_count": 8,
   "metadata": {
    "scrolled": true
   },
   "outputs": [
    {
     "name": "stdout",
     "output_type": "stream",
     "text": [
      "[[ 0.00000000e+00  0.00000000e+00  0.00000000e+00  0.00000000e+00\n",
      "   0.00000000e+00]\n",
      " [ 1.43000000e+01  0.00000000e+00  0.00000000e+00  4.60000000e+00\n",
      "   0.00000000e+00]\n",
      " [ 1.10000000e+01  7.34282143e-01  4.95124626e-09  2.00000000e+00\n",
      "   0.00000000e+00]\n",
      " [ 6.00000000e+00  1.21932915e+00 -1.75180685e-09  2.00000000e+00\n",
      "   0.00000000e+00]\n",
      " [ 6.00000000e+00  1.21932915e+00 -1.75180685e-09  2.00000000e+00\n",
      "   0.00000000e+00]\n",
      " [ 1.10000000e+01  7.34282143e-01  4.95124626e-09  2.00000000e+00\n",
      "   0.00000000e+00]\n",
      " [ 1.43000000e+01  0.00000000e+00  0.00000000e+00  4.60000000e+00\n",
      "   0.00000000e+00]]\n",
      "[[ 0.00000000e+00  0.00000000e+00  0.00000000e+00  0.00000000e+00\n",
      "   0.00000000e+00]\n",
      " [ 1.43000000e+01  2.35000000e+00  0.00000000e+00  4.60000000e+00\n",
      "   0.00000000e+00]\n",
      " [ 1.10000000e+01  8.03585557e-01  4.95124626e-09  2.00000000e+00\n",
      "   0.00000000e+00]\n",
      " [ 6.00000000e+00  1.51687456e+00 -1.75180685e-09  2.00000000e+00\n",
      "   0.00000000e+00]\n",
      " [ 6.00000000e+00  1.51687456e+00 -1.75180685e-09  2.00000000e+00\n",
      "   0.00000000e+00]\n",
      " [ 1.10000000e+01  8.03585557e-01  4.95124626e-09  2.00000000e+00\n",
      "   0.00000000e+00]\n",
      " [ 1.43000000e+01  2.35000000e+00  0.00000000e+00  4.60000000e+00\n",
      "   0.00000000e+00]]\n",
      "[[ 0.00000000e+00  0.00000000e+00  0.00000000e+00  0.00000000e+00\n",
      "   0.00000000e+00]\n",
      " [ 1.43000000e+01  6.07000000e+00  0.00000000e+00  4.60000000e+00\n",
      "   0.00000000e+00]\n",
      " [ 1.10000000e+01  9.13291386e-01  4.95124626e-09  2.00000000e+00\n",
      "   0.00000000e+00]\n",
      " [ 6.00000000e+00  1.98788261e+00 -1.75180685e-09  2.00000000e+00\n",
      "   0.00000000e+00]\n",
      " [ 6.00000000e+00  1.98788261e+00 -1.75180685e-09  2.00000000e+00\n",
      "   0.00000000e+00]\n",
      " [ 1.10000000e+01  9.13291386e-01  4.95124626e-09  2.00000000e+00\n",
      "   0.00000000e+00]\n",
      " [ 1.43000000e+01  6.07000000e+00  0.00000000e+00  4.60000000e+00\n",
      "   0.00000000e+00]]\n"
     ]
    }
   ],
   "source": [
    "print(structure_acmw.slabs())\n",
    "print(structure_pmw.slabs())\n",
    "print(structure_d2o.slabs())"
   ]
  },
  {
   "cell_type": "code",
   "execution_count": 9,
   "metadata": {},
   "outputs": [
    {
     "name": "stdout",
     "output_type": "stream",
     "text": [
      "0.562 0.0655 0.000924\n",
      "1.8e-06 3.02e-06 1.73e-06\n"
     ]
    }
   ],
   "source": [
    "print(dataD2o.y.max(), dataPmw.y.max(), dataAcmw.y.max())\n",
    "print(dataD2o.y.min(), dataPmw.y.min(), dataAcmw.y.min())\n",
    "model1 = ReflectModel(structure_d2o)\n",
    "model1.scale.setp(0.5, vary=True, bounds=(0.25, 1)) #1./dataD2o.y.max()\n",
    "if dataD2o.y.min()<0:\n",
    "    d2oUpBound = dataD2o.y.min() * 0.2\n",
    "    d2oLoBound = dataD2o.y.min() * 1.8\n",
    "else:\n",
    "    d2oUpBound = dataD2o.y.min() * 1.8\n",
    "    d2oLoBound = dataD2o.y.min() * 0.2\n",
    "model1.bkg.setp(dataD2o.y.min(),vary=True,bounds=(d2oLoBound, d2oUpBound))\n",
    "\n",
    "model2 = ReflectModel(structure_pmw)\n",
    "model2.scale.setp(0.5, vary=True, bounds=(0.25, 1))#(1./dataPmw.y.max(), vary=False)\n",
    "if dataPmw.y.min()<0:\n",
    "    pmwUpBound = dataPmw.y.min() * 0.2\n",
    "    pmwLoBound = dataPmw.y.min() * 1.8\n",
    "else:\n",
    "    pmwUpBound = dataPmw.y.min() * 1.8\n",
    "    pmwLoBound = dataPmw.y.min() * 0.2\n",
    "model2.bkg.setp(dataPmw.y.min(),vary=True,bounds=(pmwLoBound, pmwUpBound))\n",
    "\n",
    "model3 = ReflectModel(structure_acmw)\n",
    "model3.scale.setp(0.5, vary=True, bounds=(0.25, 1)) #1./dataAcmw.y.max(), vary=False)\n",
    "if dataAcmw.y.min()<0:\n",
    "    acmwUpBound = dataAcmw.y.min() * 0.2\n",
    "    acmwLoBound = dataAcmw.y.min() * 1.8\n",
    "else:\n",
    "    acmwUpBound = dataAcmw.y.min() * 1.8\n",
    "    acmwLoBound = dataAcmw.y.min() * 0.2\n",
    "model3.bkg.setp(dataAcmw.y.min(),vary=True,bounds=(acmwLoBound, acmwUpBound))\n",
    "\n",
    "objective1 = Objective(model1, dataD2o, transform=Transform(\"logY\"))\n",
    "objective2 = Objective(model2, dataPmw, transform=Transform(\"logY\"))\n",
    "objective3 = Objective(model3, dataAcmw, transform=Transform(\"logY\"))\n",
    "gobjective = GlobalObjective([objective1,objective2,objective3])"
   ]
  },
  {
   "cell_type": "code",
   "execution_count": 10,
   "metadata": {
    "scrolled": true
   },
   "outputs": [],
   "source": [
    "choose = 0\n",
    "if choose==0:\n",
    "    fitter = CurveFitter(gobjective)\n",
    "    res = fitter.fit(\"differential_evolution\", target=\"nlpost\")#, seed=SEED)\n",
    "if choose==1:\n",
    "    fitter = CurveFitter(gobjective)\n",
    "    fitter.sample(400)\n",
    "    fitter.reset()\n",
    "    res = fitter.sample(15, nthin=100)\n",
    "if choose==2:\n",
    "    from dynesty import DynamicNestedSampler\n",
    "    from dynesty import plotting as dyplot\n",
    "    from CFitter import CFitter\n",
    "    fitter = CFitter(gobjective)\n",
    "    # DynamicNestedSampler\n",
    "    DNSampler = DynamicNestedSampler(fitter.logl, fitter.priorTransform, fitter.nDim())\n",
    "    DNSampler.run_nested(dlogz_init=0.05) # was 0.01\n",
    "    res1 = DNSampler.results"
   ]
  },
  {
   "cell_type": "code",
   "execution_count": 11,
   "metadata": {},
   "outputs": [
    {
     "name": "stdout",
     "output_type": "stream",
     "text": [
      "   covar: array([[ 2.44196207e-06, -1.86402341e-11,  7.17773253e-05,\n",
      "        -4.38984209e-06,  9.89702689e-05,  3.31563970e+01,\n",
      "         6.24028658e-04, -7.15382186e-04, -3.06498447e-05,\n",
      "         9.93076897e+00,  2.80360673e+01,  1.66076283e-01,\n",
      "         5.87459776e-07,  6.13989228e-12, -2.51059773e-07,\n",
      "         5.31929013e-06, -6.31002218e-13,  6.63911589e-06],\n",
      "       [-1.86402341e-11,  2.09468882e-13,  5.60173179e-08,\n",
      "        -8.57385442e-11, -1.19832416e-07,  7.21539739e-03,\n",
      "         2.26609377e-06, -2.21326629e-06,  7.75577214e-07,\n",
      "         2.16693880e-03,  6.11313591e-03,  3.62691857e-05,\n",
      "         1.71604758e-09,  2.29868663e-14, -7.22778074e-10,\n",
      "        -1.64408320e-09,  8.11906065e-16, -1.54267541e-09],\n",
      "       [ 7.17773253e-05,  5.60173179e-08,  4.05326370e-01,\n",
      "         3.08110296e-04,  2.13785504e-01,  5.78477084e+04,\n",
      "         1.18887038e+01, -1.23047476e+01,  3.75052213e-01,\n",
      "         1.73447993e+04,  4.90797290e+04,  2.91101785e+02,\n",
      "         2.18553541e-03,  3.74655291e-08, -1.20219933e-03,\n",
      "         6.20337253e-03, -1.54828764e-08,  7.45236145e-03],\n",
      "       [-4.38984209e-06, -8.57385442e-11,  3.08110296e-04,\n",
      "         3.50233313e-05,  3.43807156e-04,  3.56745533e+00,\n",
      "         2.51561706e-03, -2.85742629e-03, -2.30698764e-04,\n",
      "         1.06399918e+00,  3.13953942e+00,  1.87469228e-02,\n",
      "         5.72666869e-06,  3.23216072e-12, -2.60472473e-06,\n",
      "         1.52412772e-05, -6.28985072e-12,  1.85784087e-05],\n",
      "       [ 9.89702689e-05, -1.19832416e-07,  2.13785504e-01,\n",
      "         3.43807156e-04,  2.61356024e-01,  3.01330845e+04,\n",
      "         5.64175998e+00, -5.95348966e+00, -3.94572805e-01,\n",
      "         9.03221141e+03,  2.55764116e+04,  1.51696006e+02,\n",
      "         3.79406981e-05,  4.62094280e-09, -2.45018507e-04,\n",
      "         5.92549939e-03, -9.53998618e-09,  6.68298678e-03],\n",
      "       [ 3.31563970e+01,  7.21539739e-03,  5.78477084e+04,\n",
      "         3.56745533e+00,  3.01330845e+04,  9.34490147e+10,\n",
      "         3.86961140e+06, -3.92848974e+06,  7.77339532e+04,\n",
      "         2.80018766e+10,  7.89534897e+10,  4.67690409e+08,\n",
      "        -1.86048992e+03,  1.95586491e-02,  9.66275742e+02,\n",
      "         1.82532488e+03, -5.46836436e-03,  2.42425653e+03],\n",
      "       [ 6.24028658e-04,  2.26609377e-06,  1.18887038e+01,\n",
      "         2.51561706e-03,  5.64175998e+00,  3.86961140e+06,\n",
      "         4.68987392e+02, -4.80901325e+02,  1.36814333e+01,\n",
      "         1.15999335e+06,  3.27469549e+06,  1.94090322e+04,\n",
      "         1.03068285e-01,  1.83814575e-06, -4.81727998e-02,\n",
      "         6.85091090e-02, -6.58195544e-07,  8.13932556e-02],\n",
      "       [-7.15382186e-04, -2.21326629e-06, -1.23047476e+01,\n",
      "        -2.85742629e-03, -5.95348966e+00, -3.92848974e+06,\n",
      "        -4.80901325e+02,  4.93312079e+02, -1.36449853e+01,\n",
      "        -1.17764544e+06, -3.32466120e+06, -1.97053940e+04,\n",
      "        -1.04329403e-01, -1.86627873e-06,  4.90417940e-02,\n",
      "        -7.63807906e-02,  6.75563244e-07, -9.05829558e-02],\n",
      "       [-3.06498447e-05,  7.75577214e-07,  3.75052213e-01,\n",
      "        -2.30698764e-04, -3.94572805e-01,  7.77339532e+04,\n",
      "         1.36814333e+01, -1.36449853e+01,  3.11163664e+00,\n",
      "         2.33139812e+04,  6.58121907e+04,  3.90186382e+02,\n",
      "         5.55009651e-03,  1.04037955e-07, -2.31377984e-03,\n",
      "        -2.50947685e-03, -3.99343231e-09, -1.10265850e-03],\n",
      "       [ 9.93076897e+00,  2.16693880e-03,  1.73447993e+04,\n",
      "         1.06399918e+00,  9.03221141e+03,  2.80018766e+10,\n",
      "         1.15999335e+06, -1.17764544e+06,  2.33139812e+04,\n",
      "         8.39072706e+09,  2.36583172e+10,  1.40142877e+08,\n",
      "        -5.57125652e+02,  5.86267401e-03,  2.89376314e+02,\n",
      "         5.46661416e+02, -1.63926538e-03,  7.26046060e+02],\n",
      "       [ 2.80360673e+01,  6.11313591e-03,  4.90797290e+04,\n",
      "         3.13953942e+00,  2.55764116e+04,  7.89534897e+10,\n",
      "         3.27469549e+06, -3.32466120e+06,  6.58121907e+04,\n",
      "         2.36583172e+10,  6.67065852e+10,  3.95144622e+08,\n",
      "        -1.57098960e+03,  1.65370873e-02,  8.15920280e+02,\n",
      "         1.54381368e+03, -4.62666332e-03,  2.04987004e+03],\n",
      "       [ 1.66076283e-01,  3.62691857e-05,  2.91101785e+02,\n",
      "         1.87469228e-02,  1.51696006e+02,  4.67690409e+08,\n",
      "         1.94090322e+04, -1.97053940e+04,  3.90186382e+02,\n",
      "         1.40142877e+08,  3.95144622e+08,  2.34068795e+06,\n",
      "        -9.30164766e+00,  9.79911292e-05,  4.83108668e+00,\n",
      "         9.14602117e+00, -2.74210013e-05,  1.21434157e+01],\n",
      "       [ 5.87459776e-07,  1.71604758e-09,  2.18553541e-03,\n",
      "         5.72666869e-06,  3.79406981e-05, -1.86048992e+03,\n",
      "         1.03068285e-01, -1.04329403e-01,  5.55009651e-03,\n",
      "        -5.57125652e+02, -1.57098960e+03, -9.30164766e+00,\n",
      "         3.86244023e-03, -1.80708482e-10, -2.17922644e-03,\n",
      "         1.57780729e-04, -3.68413962e-10,  2.35187190e-04],\n",
      "       [ 6.13989228e-12,  2.29868663e-14,  3.74655291e-08,\n",
      "         3.23216072e-12,  4.62094280e-09,  1.95586491e-02,\n",
      "         1.83814575e-06, -1.86627873e-06,  1.04037955e-07,\n",
      "         5.86267401e-03,  1.65370873e-02,  9.79911292e-05,\n",
      "        -1.80708482e-10,  1.83590682e-14,  1.13281652e-10,\n",
      "         1.12651526e-10, -2.65220206e-15,  2.36354724e-10],\n",
      "       [-2.51059773e-07, -7.22778074e-10, -1.20219933e-03,\n",
      "        -2.60472473e-06, -2.45018507e-04,  9.66275742e+02,\n",
      "        -4.81727998e-02,  4.90417940e-02, -2.31377984e-03,\n",
      "         2.89376314e+02,  8.15920280e+02,  4.83108668e+00,\n",
      "        -2.17922644e-03,  1.13281652e-10,  1.26109470e-03,\n",
      "        -1.53859805e-04,  1.87425324e-10, -2.15763440e-04],\n",
      "       [ 5.31929013e-06, -1.64408320e-09,  6.20337253e-03,\n",
      "         1.52412772e-05,  5.92549939e-03,  1.82532488e+03,\n",
      "         6.85091090e-02, -7.63807906e-02, -2.50947685e-03,\n",
      "         5.46661416e+02,  1.54381368e+03,  9.14602117e+00,\n",
      "         1.57780729e-04,  1.12651526e-10, -1.53859805e-04,\n",
      "         3.89755990e-03, -3.38980033e-10,  5.96981688e-03],\n",
      "       [-6.31002218e-13,  8.11906065e-16, -1.54828764e-08,\n",
      "        -6.28985072e-12, -9.53998618e-09, -5.46836436e-03,\n",
      "        -6.58195544e-07,  6.75563244e-07, -3.99343231e-09,\n",
      "        -1.63926538e-03, -4.62666332e-03, -2.74210013e-05,\n",
      "        -3.68413962e-10, -2.65220206e-15,  1.87425324e-10,\n",
      "        -3.38980033e-10,  4.44351855e-15, -2.43461362e-10],\n",
      "       [ 6.63911589e-06, -1.54267541e-09,  7.45236145e-03,\n",
      "         1.85784087e-05,  6.68298678e-03,  2.42425653e+03,\n",
      "         8.13932556e-02, -9.05829558e-02, -1.10265850e-03,\n",
      "         7.26046060e+02,  2.04987004e+03,  1.21434157e+01,\n",
      "         2.35187190e-04,  2.36354724e-10, -2.15763440e-04,\n",
      "         5.96981688e-03, -2.43461362e-10,  9.45760163e-03]])\n",
      "     fun: 287.26530927756124\n",
      " message: 'Optimization terminated successfully.'\n",
      "    nfev: 55407\n",
      "     nit: 204\n",
      "  stderr: array([1.56267785e-03, 4.57677705e-07, 6.36652472e-01, 5.91805131e-03,\n",
      "       5.11229913e-01, 3.05694316e+05, 2.16561167e+01, 2.22106299e+01,\n",
      "       1.76398317e+00, 9.16009119e+04, 2.58276180e+05, 1.52993070e+03,\n",
      "       6.21485336e-02, 1.35495639e-07, 3.55118952e-02, 6.24304405e-02,\n",
      "       6.66597221e-08, 9.72502012e-02])\n",
      " success: True\n",
      "       x: array([ 5.49990847e-01,  1.55913956e-06,  1.13372107e+01,  6.12361899e+00,\n",
      "        4.08639196e+00,  1.49947945e+02,  1.20972282e+01,  8.96319481e+00,\n",
      "        3.26759488e+00,  9.37250762e-02,  2.12632071e-02,  7.49805628e-01,\n",
      "        9.84670242e-01,  4.19201140e-06,  1.49403849e+00,  2.51392716e-01,\n",
      "        2.85956064e-06, -6.03745831e-01])\n"
     ]
    }
   ],
   "source": [
    "if choose==2:\n",
    "    print(res1)\n",
    "else:\n",
    "    print(res)\n",
    "# [['bkg', nan],\n",
    "#  ['thickness_solution', nan],\n",
    "#  ['D2O - sld', nan],\n",
    "#  ['rough_preceding_solution', nan],\n",
    "#  ['bilayer - area_per_molecule', nan],\n",
    "#  ['bilayer - thickness_heads', nan],\n",
    "#  ['bilayer - thickness_tails', nan],\n",
    "#  ['bilayer - rough_top', nan],\n",
    "#  ['bilayer - Waters Per Head', nan],\n",
    "#  ['bilayer - Waters Per Tail', nan],\n",
    "#  ['bilayer - ratio protein to bilayer', nan],\n",
    "#  ['bkg', nan],\n",
    "#  ['Protein Matched Water - sld', nan],\n",
    "#  ['bkg', nan],\n",
    "#  ['ACMW - sld', nan]]"
   ]
  },
  {
   "cell_type": "code",
   "execution_count": 12,
   "metadata": {},
   "outputs": [
    {
     "name": "stdout",
     "output_type": "stream",
     "text": [
      "[[ 0.00000000e+00  0.00000000e+00  0.00000000e+00  0.00000000e+00\n",
      "   0.00000000e+00]\n",
      " [ 1.13372107e+01 -6.03745831e-01  0.00000000e+00  4.08639196e+00\n",
      "   0.00000000e+00]\n",
      " [ 1.20972282e+01  3.21575108e-01  3.36962910e-10  3.26759488e+00\n",
      "   0.00000000e+00]\n",
      " [ 8.96319481e+00  8.52844895e-02  9.97056165e-12  3.26759488e+00\n",
      "   0.00000000e+00]\n",
      " [ 8.96319481e+00  8.52844895e-02  9.97056165e-12  3.26759488e+00\n",
      "   0.00000000e+00]\n",
      " [ 1.20972282e+01  3.21575108e-01  3.36962910e-10  3.26759488e+00\n",
      "   0.00000000e+00]\n",
      " [ 1.13372107e+01 -6.03745831e-01  0.00000000e+00  4.08639196e+00\n",
      "   0.00000000e+00]]\n",
      "[[0.00000000e+00 0.00000000e+00 0.00000000e+00 0.00000000e+00\n",
      "  0.00000000e+00]\n",
      " [1.13372107e+01 1.49403849e+00 0.00000000e+00 4.08639196e+00\n",
      "  0.00000000e+00]\n",
      " [1.20972282e+01 3.32922045e-01 3.36962910e-10 3.26759488e+00\n",
      "  0.00000000e+00]\n",
      " [8.96319481e+00 1.28451100e-01 9.97056165e-12 3.26759488e+00\n",
      "  0.00000000e+00]\n",
      " [8.96319481e+00 1.28451100e-01 9.97056165e-12 3.26759488e+00\n",
      "  0.00000000e+00]\n",
      " [1.20972282e+01 3.32922045e-01 3.36962910e-10 3.26759488e+00\n",
      "  0.00000000e+00]\n",
      " [1.13372107e+01 1.49403849e+00 0.00000000e+00 4.08639196e+00\n",
      "  0.00000000e+00]]\n",
      "[[0.00000000e+00 0.00000000e+00 0.00000000e+00 0.00000000e+00\n",
      "  0.00000000e+00]\n",
      " [1.13372107e+01 6.12361899e+00 0.00000000e+00 4.08639196e+00\n",
      "  0.00000000e+00]\n",
      " [1.20972282e+01 3.57963493e-01 3.36962910e-10 3.26759488e+00\n",
      "  0.00000000e+00]\n",
      " [8.96319481e+00 2.23715087e-01 9.97056165e-12 3.26759488e+00\n",
      "  0.00000000e+00]\n",
      " [8.96319481e+00 2.23715087e-01 9.97056165e-12 3.26759488e+00\n",
      "  0.00000000e+00]\n",
      " [1.20972282e+01 3.57963493e-01 3.36962910e-10 3.26759488e+00\n",
      "  0.00000000e+00]\n",
      " [1.13372107e+01 6.12361899e+00 0.00000000e+00 4.08639196e+00\n",
      "  0.00000000e+00]]\n"
     ]
    }
   ],
   "source": [
    "print(structure_acmw.slabs())\n",
    "print(structure_pmw.slabs())\n",
    "print(structure_d2o.slabs())"
   ]
  },
  {
   "cell_type": "code",
   "execution_count": 13,
   "metadata": {},
   "outputs": [
    {
     "data": {
      "image/png": "[encoded data removed]",
      "text/plain": [
       "<Figure size 432x288 with 1 Axes>"
      ]
     },
     "metadata": {
      "needs_background": "light"
     },
     "output_type": "display_data"
    }
   ],
   "source": [
    "# structure_d2o\n",
    "# structure_pmw\n",
    "plt.plot(*structure_d2o.sld_profile(),label=\"structure_d2o\")\n",
    "# structure_d2o.plot()\n",
    "# plt.ylabel('SLD ($10^{-6} \\AA^{-2})$')\n",
    "# plt.xlabel('distance  $(\\AA)$')\n",
    "\n",
    "plt.plot(*structure_pmw.sld_profile(),label=\"structure_pmw\")\n",
    "# structure_pmw.plot()\n",
    "plt.ylabel('SLD ($10^{-6} \\AA^{-2})$')\n",
    "plt.xlabel('distance  $(\\AA)$')\n",
    "\n",
    "plt.plot(*structure_acmw.sld_profile(),label=\"structure_acmw\")\n",
    "# structure_pmw.plot()\n",
    "plt.ylabel('SLD ($10^{-6} \\AA^{-2})$')\n",
    "plt.xlabel('distance  $(\\AA)$')\n",
    "plt.legend()\n",
    "plt.show();"
   ]
  },
  {
   "cell_type": "code",
   "execution_count": 14,
   "metadata": {},
   "outputs": [
    {
     "data": {
      "image/png": "[encoded data removed]",
      "text/plain": [
       "<Figure size 432x288 with 1 Axes>"
      ]
     },
     "metadata": {
      "needs_background": "light"
     },
     "output_type": "display_data"
    }
   ],
   "source": [
    "if choose==1:\n",
    "    gobjective.plot(samples=300)\n",
    "else:\n",
    "    gobjective.plot()\n",
    "# plt.yscale('log')\n",
    "plt.xlabel('Q')\n",
    "plt.ylabel('Reflectivity')\n",
    "plt.legend();"
   ]
  },
  {
   "cell_type": "code",
   "execution_count": 15,
   "metadata": {},
   "outputs": [
    {
     "data": {
      "image/png": "[encoded data removed]",
      "text/plain": [
       "<Figure size 432x288 with 1 Axes>"
      ]
     },
     "metadata": {
      "needs_background": "light"
     },
     "output_type": "display_data"
    }
   ],
   "source": [
    "if choose==1:\n",
    "    objective1.plot(samples=300)\n",
    "else:\n",
    "    objective1.plot()\n",
    "# plt.yscale('log')\n",
    "plt.xlabel('Q')\n",
    "plt.ylabel('Reflectivity')\n",
    "plt.legend();"
   ]
  },
  {
   "cell_type": "code",
   "execution_count": 16,
   "metadata": {},
   "outputs": [
    {
     "data": {
      "image/png": "[encoded data removed]",
      "text/plain": [
       "<Figure size 432x288 with 1 Axes>"
      ]
     },
     "metadata": {
      "needs_background": "light"
     },
     "output_type": "display_data"
    }
   ],
   "source": [
    "if choose==1:\n",
    "    objective2.plot(samples=300)\n",
    "else:\n",
    "    objective2.plot()\n",
    "# plt.yscale('log')\n",
    "plt.xlabel('Q')\n",
    "plt.ylabel('Reflectivity')\n",
    "plt.legend();"
   ]
  },
  {
   "cell_type": "code",
   "execution_count": 17,
   "metadata": {},
   "outputs": [
    {
     "data": {
      "image/png": "[encoded data removed]",
      "text/plain": [
       "<Figure size 432x288 with 1 Axes>"
      ]
     },
     "metadata": {
      "needs_background": "light"
     },
     "output_type": "display_data"
    }
   ],
   "source": [
    "if choose==1:\n",
    "    objective3.plot(samples=300)\n",
    "else:\n",
    "    objective3.plot()\n",
    "# plt.yscale('log')\n",
    "plt.xlabel('Q')\n",
    "plt.ylabel('Reflectivity')\n",
    "plt.legend();"
   ]
  },
  {
   "cell_type": "code",
   "execution_count": 18,
   "metadata": {},
   "outputs": [
    {
     "name": "stdout",
     "output_type": "stream",
     "text": [
      "model1: d2o <Parameter:    'scale'    , value=0.549991 +/- 0.00156, bounds=[0.25, 1]> <Parameter:     'bkg'     , value=1.55914e-06 +/- 4.58e-07, bounds=[3.6e-07, 3.24e-06]>\n",
      "model2: pmw <Parameter:    'scale'    , value=0.98467 +/- 0.0621, bounds=[0.25, 1]> <Parameter:     'bkg'     , value=4.19201e-06 +/- 1.35e-07, bounds=[6.040000000000001e-07, 5.436e-06]>\n",
      "model3: acmw <Parameter:    'scale'    , value=0.251393 +/- 0.0624, bounds=[0.25, 1]> <Parameter:     'bkg'     , value=2.85956e-06 +/- 6.67e-08, bounds=[3.46e-07, 3.114e-06]>\n"
     ]
    }
   ],
   "source": [
    "print(\"model1: d2o\", model1.scale, model1.bkg)\n",
    "print(\"model2: pmw\", model2.scale, model2.bkg)\n",
    "print(\"model3: acmw\", model3.scale, model3.bkg)"
   ]
  },
  {
   "cell_type": "code",
   "execution_count": 19,
   "metadata": {
    "scrolled": true
   },
   "outputs": [
    {
     "name": "stdout",
     "output_type": "stream",
     "text": [
      "________________________________________________________________________________\n",
      "Structure:       d2o      \n",
      "solvent: None\n",
      "reverse structure: False\n",
      "contract: 0\n",
      "\n",
      "________________________________________________________________________________\n",
      "Parameters:      'Air'     \n",
      "<Parameter: 'Air - thick' , value=0 (fixed)  , bounds=[-inf, inf]>\n",
      "<Parameter:  'Air - sld'  , value=0 (fixed)  , bounds=[-inf, inf]>\n",
      "<Parameter: 'Air - isld'  , value=0 (fixed)  , bounds=[-inf, inf]>\n",
      "<Parameter: 'Air - rough' , value=0 (fixed)  , bounds=[-inf, inf]>\n",
      "<Parameter:'Air - volfrac solvent', value=0 (fixed)  , bounds=[-inf, inf]>\n",
      "________________________________________________________________________________\n",
      "Parameters:      'D2O'     \n",
      "<Parameter:'thickness_solution', value=11.3372 +/- 0.637, bounds=[6, 25]>\n",
      "<Parameter:  'D2O - sld'  , value=6.12362 +/- 0.00592, bounds=[3, 6.35]>\n",
      "<Parameter: 'D2O - isld'  , value=0 (fixed)  , bounds=[-inf, inf]>\n",
      "<Parameter:'rough_preceding_solution', value=4.08639 +/- 0.511, bounds=[0, 20]>\n",
      "<Parameter:'D2O - volfrac solvent', value=0 (fixed)  , bounds=[-inf, inf]>\n",
      "LipidLeaflet(Parameter(value=149.94794453294176, name='bilayer - area_per_molecule', vary=True, bounds=Interval(lb=60, ub=150), constraint=None), SLD([Parameter(value=0.0006292750000000001, name='bilayer - b_heads_real', vary=False, bounds=Interval(lb=-np.inf, ub=np.inf), constraint=None), Parameter(value=0.0, name='upper_lipid_d2o - b_heads_imag', vary=False, bounds=Interval(lb=-np.inf, ub=np.inf), constraint=None)], name=''), Parameter(value=331.0, name='bilayer - volume_heads', vary=False, bounds=Interval(lb=-np.inf, ub=np.inf), constraint=None), Parameter(value=12.09722820010714, name='bilayer - thickness_heads', vary=True, bounds=Interval(lb=9, ub=20), constraint=None), SLD([Parameter(value=-0.00026624000000000005, name='bilayer - b_tails_real', vary=False, bounds=Interval(lb=-np.inf, ub=np.inf), constraint=None), Parameter(value=0.0, name='upper_lipid_d2o - b_tails_imag', vary=False, bounds=Interval(lb=-np.inf, ub=np.inf), constraint=None)], name=''), Parameter(value=940.2, name='bilayer - volume_tails', vary=False, bounds=Interval(lb=-np.inf, ub=np.inf), constraint=None), Parameter(value=8.96319480566827, name='bilayer - thickness_tails', vary=True, bounds=Interval(lb=3, ub=9), constraint=None), Parameter(value=3.2675948824275065, name='bilayer - rough_top', vary=True, bounds=Interval(lb=0, ub=10), constraint=None), Parameter(value=3.2675948824275065, name='bilayer - rough_top', vary=True, bounds=Interval(lb=0, ub=10), constraint=None), head_solvent=SLD([Parameter(value=6.123618993796288, name='D2O - sld', vary=True, bounds=Interval(lb=3, ub=6.35), constraint=None), Parameter(value=0.0, name='D2O - isld', vary=False, bounds=Interval(lb=-np.inf, ub=np.inf), constraint=None)], name=''), tail_solvent=SLD([Parameter(value=6.123618993796288, name='D2O - sld', vary=True, bounds=Interval(lb=3, ub=6.35), constraint=None), Parameter(value=0.0, name='D2O - isld', vary=False, bounds=Interval(lb=-np.inf, ub=np.inf), constraint=None)], name=''), reverse_monolayer=False, name='upper_lipid_d2o')\n",
      "LipidLeaflet(Parameter(value=149.94794453294176, name='bilayer - area_per_molecule', vary=True, bounds=Interval(lb=60, ub=150), constraint=None), SLD([Parameter(value=0.0006292750000000001, name='bilayer - b_heads_real', vary=False, bounds=Interval(lb=-np.inf, ub=np.inf), constraint=None), Parameter(value=0.0, name='lower_lipid_d2o - b_heads_imag', vary=False, bounds=Interval(lb=-np.inf, ub=np.inf), constraint=None)], name=''), Parameter(value=331.0, name='bilayer - volume_heads', vary=False, bounds=Interval(lb=-np.inf, ub=np.inf), constraint=None), Parameter(value=12.09722820010714, name='bilayer - thickness_heads', vary=True, bounds=Interval(lb=9, ub=20), constraint=None), SLD([Parameter(value=-0.00026624000000000005, name='bilayer - b_tails_real', vary=False, bounds=Interval(lb=-np.inf, ub=np.inf), constraint=None), Parameter(value=0.0, name='lower_lipid_d2o - b_tails_imag', vary=False, bounds=Interval(lb=-np.inf, ub=np.inf), constraint=None)], name=''), Parameter(value=940.2, name='bilayer - volume_tails', vary=False, bounds=Interval(lb=-np.inf, ub=np.inf), constraint=None), Parameter(value=8.96319480566827, name='bilayer - thickness_tails', vary=True, bounds=Interval(lb=3, ub=9), constraint=None), Parameter(value=3.2675948824275065, name='bilayer - rough_top', vary=True, bounds=Interval(lb=0, ub=10), constraint=None), Parameter(value=3.2675948824275065, name='bilayer - rough_top', vary=True, bounds=Interval(lb=0, ub=10), constraint=None), head_solvent=SLD([Parameter(value=6.123618993796288, name='D2O - sld', vary=True, bounds=Interval(lb=3, ub=6.35), constraint=None), Parameter(value=0.0, name='D2O - isld', vary=False, bounds=Interval(lb=-np.inf, ub=np.inf), constraint=None)], name=''), tail_solvent=SLD([Parameter(value=6.123618993796288, name='D2O - sld', vary=True, bounds=Interval(lb=3, ub=6.35), constraint=None), Parameter(value=0.0, name='D2O - isld', vary=False, bounds=Interval(lb=-np.inf, ub=np.inf), constraint=None)], name=''), reverse_monolayer=True, name='lower_lipid_d2o')\n",
      "________________________________________________________________________________\n",
      "Parameters:      'D2O'     \n",
      "<Parameter:'thickness_solution', value=11.3372 +/- 0.637, bounds=[6, 25]>\n",
      "<Parameter:  'D2O - sld'  , value=6.12362 +/- 0.00592, bounds=[3, 6.35]>\n",
      "<Parameter: 'D2O - isld'  , value=0 (fixed)  , bounds=[-inf, inf]>\n",
      "<Parameter:'rough_preceding_solution', value=4.08639 +/- 0.511, bounds=[0, 20]>\n",
      "<Parameter:'D2O - volfrac solvent', value=0 (fixed)  , bounds=[-inf, inf]>\n"
     ]
    }
   ],
   "source": [
    "print(structure_d2o)"
   ]
  },
  {
   "cell_type": "code",
   "execution_count": 20,
   "metadata": {
    "scrolled": true
   },
   "outputs": [
    {
     "name": "stdout",
     "output_type": "stream",
     "text": [
      "________________________________________________________________________________\n",
      "Structure: protein matched water\n",
      "solvent: None\n",
      "reverse structure: False\n",
      "contract: 0\n",
      "\n",
      "________________________________________________________________________________\n",
      "Parameters:      'Air'     \n",
      "<Parameter: 'Air - thick' , value=0 (fixed)  , bounds=[-inf, inf]>\n",
      "<Parameter:  'Air - sld'  , value=0 (fixed)  , bounds=[-inf, inf]>\n",
      "<Parameter: 'Air - isld'  , value=0 (fixed)  , bounds=[-inf, inf]>\n",
      "<Parameter: 'Air - rough' , value=0 (fixed)  , bounds=[-inf, inf]>\n",
      "<Parameter:'Air - volfrac solvent', value=0 (fixed)  , bounds=[-inf, inf]>\n",
      "________________________________________________________________________________\n",
      "Parameters: 'Protein Matched Water'\n",
      "<Parameter:'thickness_solution', value=11.3372 +/- 0.637, bounds=[6, 25]>\n",
      "<Parameter:'Protein Matched Water - sld', value=1.49404 +/- 0.0355, bounds=[1.0, 3.0]>\n",
      "<Parameter:'Protein Matched Water - isld', value=0 (fixed)  , bounds=[-inf, inf]>\n",
      "<Parameter:'rough_preceding_solution', value=4.08639 +/- 0.511, bounds=[0, 20]>\n",
      "<Parameter:'Protein Matched Water - volfrac solvent', value=0 (fixed)  , bounds=[-inf, inf]>\n",
      "LipidLeaflet(Parameter(value=149.94794453294176, name='bilayer - area_per_molecule', vary=True, bounds=Interval(lb=60, ub=150), constraint=None), SLD([Parameter(value=0.0006292750000000001, name='bilayer - b_heads_real', vary=False, bounds=Interval(lb=-np.inf, ub=np.inf), constraint=None), Parameter(value=0.0, name='upper_lipid_pmw - b_heads_imag', vary=False, bounds=Interval(lb=-np.inf, ub=np.inf), constraint=None)], name=''), Parameter(value=331.0, name='bilayer - volume_heads', vary=False, bounds=Interval(lb=-np.inf, ub=np.inf), constraint=None), Parameter(value=12.09722820010714, name='bilayer - thickness_heads', vary=True, bounds=Interval(lb=9, ub=20), constraint=None), SLD([Parameter(value=-0.00026624000000000005, name='bilayer - b_tails_real', vary=False, bounds=Interval(lb=-np.inf, ub=np.inf), constraint=None), Parameter(value=0.0, name='upper_lipid_pmw - b_tails_imag', vary=False, bounds=Interval(lb=-np.inf, ub=np.inf), constraint=None)], name=''), Parameter(value=940.2, name='bilayer - volume_tails', vary=False, bounds=Interval(lb=-np.inf, ub=np.inf), constraint=None), Parameter(value=8.96319480566827, name='bilayer - thickness_tails', vary=True, bounds=Interval(lb=3, ub=9), constraint=None), Parameter(value=3.2675948824275065, name='bilayer - rough_top', vary=True, bounds=Interval(lb=0, ub=10), constraint=None), Parameter(value=3.2675948824275065, name='bilayer - rough_top', vary=True, bounds=Interval(lb=0, ub=10), constraint=None), head_solvent=SLD([Parameter(value=1.494038486711849, name='Protein Matched Water - sld', vary=True, bounds=Interval(lb=1.0, ub=3.0), constraint=None), Parameter(value=0.0, name='Protein Matched Water - isld', vary=False, bounds=Interval(lb=-np.inf, ub=np.inf), constraint=None)], name=''), tail_solvent=SLD([Parameter(value=1.494038486711849, name='Protein Matched Water - sld', vary=True, bounds=Interval(lb=1.0, ub=3.0), constraint=None), Parameter(value=0.0, name='Protein Matched Water - isld', vary=False, bounds=Interval(lb=-np.inf, ub=np.inf), constraint=None)], name=''), reverse_monolayer=False, name='upper_lipid_pmw')\n",
      "LipidLeaflet(Parameter(value=149.94794453294176, name='bilayer - area_per_molecule', vary=True, bounds=Interval(lb=60, ub=150), constraint=None), SLD([Parameter(value=0.0006292750000000001, name='bilayer - b_heads_real', vary=False, bounds=Interval(lb=-np.inf, ub=np.inf), constraint=None), Parameter(value=0.0, name='lower_lipid_pmw - b_heads_imag', vary=False, bounds=Interval(lb=-np.inf, ub=np.inf), constraint=None)], name=''), Parameter(value=331.0, name='bilayer - volume_heads', vary=False, bounds=Interval(lb=-np.inf, ub=np.inf), constraint=None), Parameter(value=12.09722820010714, name='bilayer - thickness_heads', vary=True, bounds=Interval(lb=9, ub=20), constraint=None), SLD([Parameter(value=-0.00026624000000000005, name='bilayer - b_tails_real', vary=False, bounds=Interval(lb=-np.inf, ub=np.inf), constraint=None), Parameter(value=0.0, name='lower_lipid_pmw - b_tails_imag', vary=False, bounds=Interval(lb=-np.inf, ub=np.inf), constraint=None)], name=''), Parameter(value=940.2, name='bilayer - volume_tails', vary=False, bounds=Interval(lb=-np.inf, ub=np.inf), constraint=None), Parameter(value=8.96319480566827, name='bilayer - thickness_tails', vary=True, bounds=Interval(lb=3, ub=9), constraint=None), Parameter(value=3.2675948824275065, name='bilayer - rough_top', vary=True, bounds=Interval(lb=0, ub=10), constraint=None), Parameter(value=3.2675948824275065, name='bilayer - rough_top', vary=True, bounds=Interval(lb=0, ub=10), constraint=None), head_solvent=SLD([Parameter(value=1.494038486711849, name='Protein Matched Water - sld', vary=True, bounds=Interval(lb=1.0, ub=3.0), constraint=None), Parameter(value=0.0, name='Protein Matched Water - isld', vary=False, bounds=Interval(lb=-np.inf, ub=np.inf), constraint=None)], name=''), tail_solvent=SLD([Parameter(value=1.494038486711849, name='Protein Matched Water - sld', vary=True, bounds=Interval(lb=1.0, ub=3.0), constraint=None), Parameter(value=0.0, name='Protein Matched Water - isld', vary=False, bounds=Interval(lb=-np.inf, ub=np.inf), constraint=None)], name=''), reverse_monolayer=True, name='lower_lipid_pmw')\n",
      "________________________________________________________________________________\n",
      "Parameters: 'Protein Matched Water'\n",
      "<Parameter:'thickness_solution', value=11.3372 +/- 0.637, bounds=[6, 25]>\n",
      "<Parameter:'Protein Matched Water - sld', value=1.49404 +/- 0.0355, bounds=[1.0, 3.0]>\n",
      "<Parameter:'Protein Matched Water - isld', value=0 (fixed)  , bounds=[-inf, inf]>\n",
      "<Parameter:'rough_preceding_solution', value=4.08639 +/- 0.511, bounds=[0, 20]>\n",
      "<Parameter:'Protein Matched Water - volfrac solvent', value=0 (fixed)  , bounds=[-inf, inf]>\n"
     ]
    }
   ],
   "source": [
    "print(structure_pmw)"
   ]
  },
  {
   "cell_type": "code",
   "execution_count": 21,
   "metadata": {
    "scrolled": true
   },
   "outputs": [
    {
     "name": "stdout",
     "output_type": "stream",
     "text": [
      "________________________________________________________________________________\n",
      "Structure:      ACMW      \n",
      "solvent: None\n",
      "reverse structure: False\n",
      "contract: 0\n",
      "\n",
      "________________________________________________________________________________\n",
      "Parameters:      'Air'     \n",
      "<Parameter: 'Air - thick' , value=0 (fixed)  , bounds=[-inf, inf]>\n",
      "<Parameter:  'Air - sld'  , value=0 (fixed)  , bounds=[-inf, inf]>\n",
      "<Parameter: 'Air - isld'  , value=0 (fixed)  , bounds=[-inf, inf]>\n",
      "<Parameter: 'Air - rough' , value=0 (fixed)  , bounds=[-inf, inf]>\n",
      "<Parameter:'Air - volfrac solvent', value=0 (fixed)  , bounds=[-inf, inf]>\n",
      "________________________________________________________________________________\n",
      "Parameters:     'ACMW'     \n",
      "<Parameter:'thickness_solution', value=11.3372 +/- 0.637, bounds=[6, 25]>\n",
      "<Parameter: 'ACMW - sld'  , value=-0.603746 +/- 0.0973, bounds=[-1, 1]>\n",
      "<Parameter: 'ACMW - isld' , value=0 (fixed)  , bounds=[-inf, inf]>\n",
      "<Parameter:'rough_preceding_solution', value=4.08639 +/- 0.511, bounds=[0, 20]>\n",
      "<Parameter:'ACMW - volfrac solvent', value=0 (fixed)  , bounds=[-inf, inf]>\n",
      "LipidLeaflet(Parameter(value=149.94794453294176, name='bilayer - area_per_molecule', vary=True, bounds=Interval(lb=60, ub=150), constraint=None), SLD([Parameter(value=0.0006292750000000001, name='bilayer - b_heads_real', vary=False, bounds=Interval(lb=-np.inf, ub=np.inf), constraint=None), Parameter(value=0.0, name='upper_lipid_acmw - b_heads_imag', vary=False, bounds=Interval(lb=-np.inf, ub=np.inf), constraint=None)], name=''), Parameter(value=331.0, name='bilayer - volume_heads', vary=False, bounds=Interval(lb=-np.inf, ub=np.inf), constraint=None), Parameter(value=12.09722820010714, name='bilayer - thickness_heads', vary=True, bounds=Interval(lb=9, ub=20), constraint=None), SLD([Parameter(value=-0.00026624000000000005, name='bilayer - b_tails_real', vary=False, bounds=Interval(lb=-np.inf, ub=np.inf), constraint=None), Parameter(value=0.0, name='upper_lipid_acmw - b_tails_imag', vary=False, bounds=Interval(lb=-np.inf, ub=np.inf), constraint=None)], name=''), Parameter(value=940.2, name='bilayer - volume_tails', vary=False, bounds=Interval(lb=-np.inf, ub=np.inf), constraint=None), Parameter(value=8.96319480566827, name='bilayer - thickness_tails', vary=True, bounds=Interval(lb=3, ub=9), constraint=None), Parameter(value=3.2675948824275065, name='bilayer - rough_top', vary=True, bounds=Interval(lb=0, ub=10), constraint=None), Parameter(value=3.2675948824275065, name='bilayer - rough_top', vary=True, bounds=Interval(lb=0, ub=10), constraint=None), head_solvent=SLD([Parameter(value=-0.6037458309615482, name='ACMW - sld', vary=True, bounds=Interval(lb=-1, ub=1), constraint=None), Parameter(value=0.0, name='ACMW - isld', vary=False, bounds=Interval(lb=-np.inf, ub=np.inf), constraint=None)], name=''), tail_solvent=SLD([Parameter(value=-0.6037458309615482, name='ACMW - sld', vary=True, bounds=Interval(lb=-1, ub=1), constraint=None), Parameter(value=0.0, name='ACMW - isld', vary=False, bounds=Interval(lb=-np.inf, ub=np.inf), constraint=None)], name=''), reverse_monolayer=False, name='upper_lipid_acmw')\n",
      "LipidLeaflet(Parameter(value=149.94794453294176, name='bilayer - area_per_molecule', vary=True, bounds=Interval(lb=60, ub=150), constraint=None), SLD([Parameter(value=0.0006292750000000001, name='bilayer - b_heads_real', vary=False, bounds=Interval(lb=-np.inf, ub=np.inf), constraint=None), Parameter(value=0.0, name='lower_lipid_acmw - b_heads_imag', vary=False, bounds=Interval(lb=-np.inf, ub=np.inf), constraint=None)], name=''), Parameter(value=331.0, name='bilayer - volume_heads', vary=False, bounds=Interval(lb=-np.inf, ub=np.inf), constraint=None), Parameter(value=12.09722820010714, name='bilayer - thickness_heads', vary=True, bounds=Interval(lb=9, ub=20), constraint=None), SLD([Parameter(value=-0.00026624000000000005, name='bilayer - b_tails_real', vary=False, bounds=Interval(lb=-np.inf, ub=np.inf), constraint=None), Parameter(value=0.0, name='lower_lipid_acmw - b_tails_imag', vary=False, bounds=Interval(lb=-np.inf, ub=np.inf), constraint=None)], name=''), Parameter(value=940.2, name='bilayer - volume_tails', vary=False, bounds=Interval(lb=-np.inf, ub=np.inf), constraint=None), Parameter(value=8.96319480566827, name='bilayer - thickness_tails', vary=True, bounds=Interval(lb=3, ub=9), constraint=None), Parameter(value=3.2675948824275065, name='bilayer - rough_top', vary=True, bounds=Interval(lb=0, ub=10), constraint=None), Parameter(value=3.2675948824275065, name='bilayer - rough_top', vary=True, bounds=Interval(lb=0, ub=10), constraint=None), head_solvent=SLD([Parameter(value=-0.6037458309615482, name='ACMW - sld', vary=True, bounds=Interval(lb=-1, ub=1), constraint=None), Parameter(value=0.0, name='ACMW - isld', vary=False, bounds=Interval(lb=-np.inf, ub=np.inf), constraint=None)], name=''), tail_solvent=SLD([Parameter(value=-0.6037458309615482, name='ACMW - sld', vary=True, bounds=Interval(lb=-1, ub=1), constraint=None), Parameter(value=0.0, name='ACMW - isld', vary=False, bounds=Interval(lb=-np.inf, ub=np.inf), constraint=None)], name=''), reverse_monolayer=True, name='lower_lipid_acmw')\n",
      "________________________________________________________________________________\n",
      "Parameters:     'ACMW'     \n",
      "<Parameter:'thickness_solution', value=11.3372 +/- 0.637, bounds=[6, 25]>\n",
      "<Parameter: 'ACMW - sld'  , value=-0.603746 +/- 0.0973, bounds=[-1, 1]>\n",
      "<Parameter: 'ACMW - isld' , value=0 (fixed)  , bounds=[-inf, inf]>\n",
      "<Parameter:'rough_preceding_solution', value=4.08639 +/- 0.511, bounds=[0, 20]>\n",
      "<Parameter:'ACMW - volfrac solvent', value=0 (fixed)  , bounds=[-inf, inf]>\n"
     ]
    }
   ],
   "source": [
    "print(structure_acmw)"
   ]
  },
  {
   "cell_type": "code",
   "execution_count": 22,
   "metadata": {},
   "outputs": [
    {
     "name": "stdout",
     "output_type": "stream",
     "text": [
      "[[0.00000000e+00 0.00000000e+00 0.00000000e+00 0.00000000e+00\n",
      "  0.00000000e+00]\n",
      " [1.13372107e+01 6.12361899e+00 0.00000000e+00 4.08639196e+00\n",
      "  0.00000000e+00]\n",
      " [1.20972282e+01 3.57963493e-01 3.36962910e-10 3.26759488e+00\n",
      "  0.00000000e+00]\n",
      " [8.96319481e+00 2.23715087e-01 9.97056165e-12 3.26759488e+00\n",
      "  0.00000000e+00]\n",
      " [8.96319481e+00 2.23715087e-01 9.97056165e-12 3.26759488e+00\n",
      "  0.00000000e+00]\n",
      " [1.20972282e+01 3.57963493e-01 3.36962910e-10 3.26759488e+00\n",
      "  0.00000000e+00]\n",
      " [1.13372107e+01 6.12361899e+00 0.00000000e+00 4.08639196e+00\n",
      "  0.00000000e+00]]\n"
     ]
    }
   ],
   "source": [
    "print(structure_d2o.slabs())"
   ]
  },
  {
   "cell_type": "code",
   "execution_count": 23,
   "metadata": {},
   "outputs": [
    {
     "name": "stdout",
     "output_type": "stream",
     "text": [
      "[[0.00000000e+00 0.00000000e+00 0.00000000e+00 0.00000000e+00\n",
      "  0.00000000e+00]\n",
      " [1.13372107e+01 1.49403849e+00 0.00000000e+00 4.08639196e+00\n",
      "  0.00000000e+00]\n",
      " [1.20972282e+01 3.32922045e-01 3.36962910e-10 3.26759488e+00\n",
      "  0.00000000e+00]\n",
      " [8.96319481e+00 1.28451100e-01 9.97056165e-12 3.26759488e+00\n",
      "  0.00000000e+00]\n",
      " [8.96319481e+00 1.28451100e-01 9.97056165e-12 3.26759488e+00\n",
      "  0.00000000e+00]\n",
      " [1.20972282e+01 3.32922045e-01 3.36962910e-10 3.26759488e+00\n",
      "  0.00000000e+00]\n",
      " [1.13372107e+01 1.49403849e+00 0.00000000e+00 4.08639196e+00\n",
      "  0.00000000e+00]]\n"
     ]
    }
   ],
   "source": [
    "print(structure_pmw.slabs())"
   ]
  },
  {
   "cell_type": "code",
   "execution_count": 24,
   "metadata": {},
   "outputs": [
    {
     "name": "stdout",
     "output_type": "stream",
     "text": [
      "[[ 0.00000000e+00  0.00000000e+00  0.00000000e+00  0.00000000e+00\n",
      "   0.00000000e+00]\n",
      " [ 1.13372107e+01 -6.03745831e-01  0.00000000e+00  4.08639196e+00\n",
      "   0.00000000e+00]\n",
      " [ 1.20972282e+01  3.21575108e-01  3.36962910e-10  3.26759488e+00\n",
      "   0.00000000e+00]\n",
      " [ 8.96319481e+00  8.52844895e-02  9.97056165e-12  3.26759488e+00\n",
      "   0.00000000e+00]\n",
      " [ 8.96319481e+00  8.52844895e-02  9.97056165e-12  3.26759488e+00\n",
      "   0.00000000e+00]\n",
      " [ 1.20972282e+01  3.21575108e-01  3.36962910e-10  3.26759488e+00\n",
      "   0.00000000e+00]\n",
      " [ 1.13372107e+01 -6.03745831e-01  0.00000000e+00  4.08639196e+00\n",
      "   0.00000000e+00]]\n"
     ]
    }
   ],
   "source": [
    "print(structure_acmw.slabs())"
   ]
  },
  {
   "cell_type": "code",
   "execution_count": 25,
   "metadata": {},
   "outputs": [],
   "source": [
    "if choose==2:\n",
    "    # span = [(0,5000),(0,1.5),(0,0.4),(-10**3,10**3)] #span=span\n",
    "    fig, axes = dyplot.runplot(res1, color='black', mark_final_live=False,\n",
    "                               logplot=False)"
   ]
  },
  {
   "cell_type": "code",
   "execution_count": 26,
   "metadata": {},
   "outputs": [],
   "source": [
    "if choose==2:\n",
    "    print(-min(res1[\"logvol\"])) # ?"
   ]
  },
  {
   "cell_type": "code",
   "execution_count": 27,
   "metadata": {},
   "outputs": [
    {
     "data": {
      "text/plain": [
       "[['scale', 0.5499908473551729],\n",
       " ['bkg', 1.5591395551566709e-06],\n",
       " ['thickness_solution', 11.337210677232607],\n",
       " ['D2O - sld', 6.123618993796288],\n",
       " ['rough_preceding_solution', 4.086391960397315],\n",
       " ['bilayer - area_per_molecule', 149.94794453294176],\n",
       " ['bilayer - thickness_heads', 12.09722820010714],\n",
       " ['bilayer - thickness_tails', 8.96319480566827],\n",
       " ['bilayer - rough_top', 3.2675948824275065],\n",
       " ['bilayer - Waters Per Head', 0.09372507617845649],\n",
       " ['bilayer - Waters Per Tail', 0.02126320714510932],\n",
       " ['bilayer - ratio protein to bilayer', 0.7498056281797235],\n",
       " ['scale', 0.9846702418636936],\n",
       " ['bkg', 4.192011403727769e-06],\n",
       " ['Protein Matched Water - sld', 1.494038486711849],\n",
       " ['scale', 0.2513927162226339],\n",
       " ['bkg', 2.859560635421079e-06],\n",
       " ['ACMW - sld', -0.6037458309615482]]"
      ]
     },
     "execution_count": 27,
     "metadata": {},
     "output_type": "execute_result"
    }
   ],
   "source": [
    "#gobjective.varying_parameters()\n",
    "[[param.name,param.value] for param in gobjective.varying_parameters()]"
   ]
  },
  {
   "cell_type": "markdown",
   "metadata": {},
   "source": [
    "I believe correct values, leaflet roughness between head and tail is the same as the roughness preceeding the leaflet\\\n",
    "class used is a modified version of the LipidLeaflet class native to refnx, its in the file\\\n",
    "\"protein\" and called \"LipidLeafletWithProtien\"\\\n",
    "volumes of head and tails are indirectly varied by changes in waters per head/tail\\\n",
    "so the tails do not change volume\\\n",
    "1 'scale',\\\n",
    "2 'bkg',\\\n",
    "3 'mono, dodab - area_per_molecule',\\\n",
    "4 'mono, dodab - thickness heads',\\\n",
    "5 'mono, dodab - thickness_tails',\\\n",
    "6 'mono, dodab - roughness',\\\n",
    "7 'mono, dodab - D2O in head - sld',\\\n",
    "8 'mono, dodab Waters Per Head',\\\n",
    "9 'D2O - sld',\\\n",
    "10 'bilayer - area_per_molecule',\\\n",
    "11 'bilayer - thickness_heads',\\\n",
    "12 'bilayer - thickness_tails',\\\n",
    "13 'bilayer - rough_top',\\\n",
    "14 'D2O in bilayer - sld',\\\n",
    "15 'bilayer Waters Per Head',\\\n",
    "16 'scale',\\\n",
    "17 'bkg',\\\n",
    "18 'mono, dodab - Protein Matched Water in head - sld',\\\n",
    "19 'Protein Matched Water - sld',\\\n",
    "20 'bilayer - rough_bot',\\\n",
    "21 'Protein Matched Water in bilayer - sld'"
   ]
  },
  {
   "cell_type": "code",
   "execution_count": 28,
   "metadata": {
    "scrolled": false
   },
   "outputs": [],
   "source": [
    "if choose==2:\n",
    "    labels = [param.name for param in gobjective.varying_parameters()]\n",
    "\n",
    "    fig, axes = dyplot.traceplot(res1, labels = labels, #truths=np.zeros(fitter.nDim()),\n",
    "                                 show_titles=True, trace_cmap='plasma',\n",
    "                                 quantiles=[0.025, 0.5, 0.975])\n",
    "    fig.tight_layout()"
   ]
  },
  {
   "cell_type": "code",
   "execution_count": 29,
   "metadata": {},
   "outputs": [],
   "source": [
    "if choose==2:\n",
    "    labels = [param.name for param in gobjective.varying_parameters()]\n",
    "\n",
    "    fig, axes = dyplot.cornerpoints(res1, labels = labels#, #truths=np.zeros(fitter.nDim()),\n",
    "                                 #show_titles=True,\n",
    "                                 #trace_cmap='plasma',\n",
    "                                 #quantiles=[0.025, 0.5, 0.975]\n",
    "                                   )\n",
    "    fig.tight_layout()"
   ]
  }
 ],
 "metadata": {
  "kernelspec": {
   "display_name": "Python 3",
   "language": "python",
   "name": "python3"
  },
  "language_info": {
   "codemirror_mode": {
    "name": "ipython",
    "version": 3
   },
   "file_extension": ".py",
   "mimetype": "text/x-python",
   "name": "python",
   "nbconvert_exporter": "python",
   "pygments_lexer": "ipython3",
   "version": "3.7.3"
  }
 },
 "nbformat": 4,
 "nbformat_minor": 2
}
