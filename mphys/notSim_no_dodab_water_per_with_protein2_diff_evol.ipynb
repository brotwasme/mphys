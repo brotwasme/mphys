{
 "cells": [
  {
   "cell_type": "code",
   "execution_count": 1,
   "metadata": {},
   "outputs": [
    {
     "name": "stdout",
     "output_type": "stream",
     "text": [
      "refnx: 0.1.9\n",
      "scipy: 1.3.0\n",
      "numpy: 1.16.4\n"
     ]
    }
   ],
   "source": [
    "import os.path\n",
    "import numpy as np\n",
    "import matplotlib.pyplot as plt\n",
    "import scipy\n",
    "import refnx\n",
    "from refnx.dataset import ReflectDataset, Data1D\n",
    "from refnx.analysis import Transform, CurveFitter, Objective, Model, Parameter, GlobalObjective\n",
    "from refnx.reflect import SLD, Slab, ReflectModel\n",
    "# from sepObjectiveGO import getObjective as gO\n",
    "# import make_sim_data as msd\n",
    "# import lipidBilayerAsGiven.SLD_maker \n",
    "import data_in as di\n",
    "from protein.LipidLeafletWithProtein_builtOn2 import LipidLeafletWithProtien as LipidLeaflet\n",
    "\n",
    "\n",
    "print('refnx: %s\\nscipy: %s\\nnumpy: %s' % (refnx.version.version,\n",
    "                   scipy.version.version, np.version.version))\n",
    "%matplotlib inline\n",
    "SEED = 12345"
   ]
  },
  {
   "cell_type": "code",
   "execution_count": 2,
   "metadata": {},
   "outputs": [
    {
     "name": "stdout",
     "output_type": "stream",
     "text": [
      "csv\n",
      "cvs-collecting\n",
      "csv\n",
      "cvs-collecting\n",
      "csv\n",
      "cvs-collecting\n"
     ]
    },
    {
     "data": {
      "image/png": "[encoded data removed]",
      "text/plain": [
       "<Figure size 432x288 with 1 Axes>"
      ]
     },
     "metadata": {
      "needs_background": "light"
     },
     "output_type": "display_data"
    }
   ],
   "source": [
    "# dataD2o = Data1D(data=di.data_in(\"lipidBilayerData/54696_97_edit.txt\"))\n",
    "# dataD2o.name=\"d2o\"\n",
    "# dataPmw = Data1D(data=di.data_in(\"lipidBilayerData/54699_00_edit.txt\"))\n",
    "# dataPmw.name=\"pmw\"\n",
    "\n",
    "dataAcmw = Data1D(data=di.data_in(\"protein/54613_14edit.txt\"))\n",
    "dataAcmw.name=\"acm\"\n",
    "dataPmw = Data1D(data=di.data_in(\"protein/54616_17edit.txt\"))\n",
    "dataPmw.name=\"pmw\"\n",
    "dataD2o = Data1D(data=di.data_in(\"protein/10_11_d2o.txt\"))\n",
    "dataD2o.name=\"d2o\"\n",
    "plt.errorbar(dataAcmw.data[0],dataAcmw.data[1],dataAcmw.data[2])\n",
    "plt.errorbar(dataPmw.data[0],dataPmw.data[1],dataPmw.data[2])\n",
    "plt.errorbar(dataD2o.data[0],dataD2o.data[1],dataD2o.data[2])\n",
    "plt.yscale(\"log\")\n",
    "plt.show()"
   ]
  },
  {
   "cell_type": "code",
   "execution_count": 3,
   "metadata": {},
   "outputs": [],
   "source": [
    "name = \"bilayer\"\n",
    "\n",
    "d2o = SLD(6.07, \"D2O\")\n",
    "pmw = SLD(2.35, \"Protein Matched Water\")\n",
    "acmw = SLD(0.00, \"ACMW\")\n",
    "air = SLD(0.00, \"Air\")\n",
    "\n",
    "d2o.real.setp(vary=True, bounds=(3, 6.35)) # bounds=(5.9, 6.35))\n",
    "pmw.real.setp(vary=True, bounds=(1., 3.))\n",
    "acmw.real.setp(vary=True, bounds=(-1, 1))\n",
    "\n",
    "apm = Parameter(value=75, name='%s - area_per_molecule' % name,\n",
    "                bounds=(60, 150), vary=True)\n",
    "\n",
    "#Define all the neutron b's\n",
    "bc = 0.6646e-4  #Carbon\n",
    "bo = 0.5804e-4  #Oxygen\n",
    "bh = -0.3739e-4 #Hydrogen\n",
    "bp = 0.513e-4   #Phosphorus\n",
    "bn = 0.936e-4   #Nitrogen\n",
    "bd = 0.6671e-4  #Deuterium\n",
    "\n",
    "#Formulae of the molecule sections...\n",
    "CH2 = (1*bc) + (2*bh)\n",
    "CH = (1*bc) + (1*bh)\n",
    "CH3 = (1*bc) + (3*bh)\n",
    "D2O = (2*bd) + (1*bo)\n",
    "H2O = (2*bh) + (1*bo)\n",
    "\n",
    "# Calculate mole fraction of D2O from the bulk SLD..\n",
    "# d2o_molfr = (1/D2O-H2O)*(contrast*27.64)-H2O\n",
    "# wMol = (d2o_molfr * D2O) + ((1-d2o_molfr)*H2O)\n",
    "\n",
    "#sum b's of all the different fragments\n",
    "b_tails = Parameter(value=(28*CH2) + (2*CH) + (2*CH3),\n",
    "                       name='%s - b_tails_real' % name)\n",
    "\n",
    "sum_popc_heads = (8*bo) + (1*bp) + (1*bn) + (2*bc) + (4*CH2) + (3*CH3) + (1*CH)\n",
    "sum_popg_heads = (10*bo) + (1*bp) + (2*bc) + (4*CH2) + (2*CH) + (2*bh)\n",
    "b_heads = Parameter(value=(3*(sum_popc_heads) + (sum_popg_heads))/4,\n",
    "                        name='%s - b_heads_real' % name)\n",
    "\n",
    "#monolayer compositions\n",
    "#sum_m_tails = (34*CH2) + (2*CH3);\n",
    "#sum_m_heads = (1*bn) + (2*CH3) + (Waters_per_headD * wMol);\n",
    "\n",
    "#volumes of each fragment\n",
    "vCH2 = 27.7\n",
    "nCH2 = 30\n",
    "vCH3 = 54.6\n",
    "vm_tails = Parameter(value=(nCH2 * vCH2) + (2 * vCH3),\n",
    "            name='%s - volume_tails' % name) #\n",
    "vm_heads = Parameter(value=331,\n",
    "            name='%s - volume_heads' % name)  #\n",
    "vm_water = Parameter(value=29.7,\n",
    "            name='%s - water_vm' % name)\n",
    "\n",
    "#thickness\n",
    "thickness_tails = Parameter(6., #value=vm_tails.value/apm.value,\n",
    "            name='%s - thickness_tails' % name,\n",
    "            bounds=(3, #(1-0.75)*vm_tails.value/apm.value,\n",
    "                    9), #(1+0.75)*vm_tails.value/apm.value),\n",
    "               vary=True)\n",
    "thickness_heads = Parameter(value= 11., #vm_heads.value/apm.value,\n",
    "            name='%s - thickness_heads' % name,\n",
    "            bounds=(9, #(1-0.75)*vm_heads.value/apm.value,\n",
    "                    20), #(1+0.75)*vm_heads.value/apm.value),\n",
    "               vary=True)\n",
    "\n",
    "rough_top = Parameter(value=2,\n",
    "            name='%s - rough_top' % name,\n",
    "            bounds=(0,10), vary=True)\n",
    "rough_bot = rough_top\n",
    "# rough_bot = Parameter(value=2.0,\n",
    "#             name='%s - rough_bot' % name,\n",
    "#             bounds=(0,10), vary=True)\n",
    "\n",
    "waters_per_head = Parameter(\n",
    "            value=2.8,\n",
    "            name=\"{} - Waters Per Head\".format(name),\n",
    "            bounds=(5, 20), vary=True)\n",
    "\n",
    "waters_per_tail = Parameter(\n",
    "            value=1,\n",
    "            name=\"{} - Waters Per Tail\".format(name),\n",
    "            bounds=(0, 10), vary=True)\n",
    "\n",
    "# b_mscl = Parameter(\n",
    "#             value= ,\n",
    "#             name=\"{} - b_protein_real\".format(name),\n",
    "#             vary=False)\n",
    "\n",
    "vm_mscl = Parameter(\n",
    "            value=19749+74937.5,\n",
    "            name=\"{} - volume_protein\".format(name),\n",
    "            vary=False)\n",
    "\n",
    "PLRatio = Parameter(\n",
    "            value= 0.5,\n",
    "            name=\"{} - ratio protein to bilayer\".format(name),\n",
    "            bounds=(0.25, 0.75),vary=True)\n"
   ]
  },
  {
   "cell_type": "code",
   "execution_count": 4,
   "metadata": {},
   "outputs": [],
   "source": [
    "# apm, b_heads, vm_heads, thickness_heads\n",
    "# b_tails, vm_tails, thickness_tails, rough_head_tail\n",
    "# rough_preceding_mono, head_solvent\n",
    "\n",
    "\n",
    "# head_solvent_d2o = SLD(6.07, \"D2O in bilayer\")\n",
    "# head_solvent_d2o.real.setp(6.07, vary=True, bounds=(5.35, 6.35))\n",
    "upper_lipid_d2o = LipidLeaflet(apm, b_heads, vm_heads, thickness_heads,\n",
    "    b_tails, vm_tails, thickness_tails, rough_top, rough_top,\n",
    "    vm_water, waters_per_head, waters_per_tail,\n",
    "    vm_mscl, PLRatio, d2o, d2o,\n",
    "    reverse_monolayer=False, name=\"upper_lipid_d2o\")\n",
    "\n",
    "lower_lipid_d2o = LipidLeaflet(apm, b_heads, vm_heads, thickness_heads,\n",
    "    b_tails, vm_tails, thickness_tails, rough_top, rough_top,\n",
    "    vm_water, waters_per_head, waters_per_tail,\n",
    "    vm_mscl, PLRatio, d2o, d2o,\n",
    "    reverse_monolayer=True, name=\"lower_lipid_d2o\")\n",
    "\n",
    "\n",
    "# head_solvent_pmw = SLD(2.35, \"Protein Matched Water in bilayer\")\n",
    "# head_solvent_pmw.real.setp(2.34, vary=True, bounds=(1.35, 3.35))\n",
    "upper_lipid_pmw = LipidLeaflet(apm, b_heads, vm_heads, thickness_heads,\n",
    "    b_tails, vm_tails, thickness_tails, rough_bot, rough_bot,\n",
    "    vm_water, waters_per_head, waters_per_tail,\n",
    "    vm_mscl, PLRatio, pmw, pmw,\n",
    "    reverse_monolayer=False, name=\"upper_lipid_pmw\")\n",
    "\n",
    "lower_lipid_pmw = LipidLeaflet(apm, b_heads, vm_heads, thickness_heads,\n",
    "    b_tails, vm_tails, thickness_tails, rough_bot, rough_bot,\n",
    "    vm_water, waters_per_head, waters_per_tail,\n",
    "    vm_mscl, PLRatio, pmw, pmw,\n",
    "    reverse_monolayer=True, name=\"lower_lipid_pmw\")\n",
    "\n",
    "\n",
    "upper_lipid_acmw = LipidLeaflet(apm, b_heads, vm_heads, thickness_heads,\n",
    "    b_tails, vm_tails, thickness_tails, rough_bot, rough_bot,\n",
    "    vm_water, waters_per_head, waters_per_tail,\n",
    "    vm_mscl, PLRatio, acmw, acmw,\n",
    "    reverse_monolayer=False, name=\"upper_lipid_acmw\")\n",
    "\n",
    "lower_lipid_acmw = LipidLeaflet(apm, b_heads, vm_heads, thickness_heads,\n",
    "    b_tails, vm_tails, thickness_tails, rough_bot, rough_bot,\n",
    "    vm_water, waters_per_head, waters_per_tail,\n",
    "    vm_mscl, PLRatio, acmw, acmw,\n",
    "    reverse_monolayer=True, name=\"lower_lipid_acmw\")"
   ]
  },
  {
   "cell_type": "code",
   "execution_count": 5,
   "metadata": {},
   "outputs": [],
   "source": [
    "# name_m = \"mono, dodab\"\n",
    "# APMD = Parameter(value=48, name='%s - area_per_molecule' % name_m,\n",
    "#         bounds=(30,120), vary=True)\n",
    "\n",
    "# # monolayer compositions\n",
    "# m_tails = Parameter(value=(34*CH2) + (2*CH3),\n",
    "#             name='%s - b_tails_real' % name_m)\n",
    "# m_heads = Parameter(value=(1*bn) + (2*CH3),\n",
    "#             name='%s - b_heads_real' % name_m)\n",
    "\n",
    "# # monolayer volumes\n",
    "# vm_m_tails = Parameter(value=vCH2*36,\n",
    "#             name='%s - volume_tails' % name_m)\n",
    "# vm_m_heads = Parameter(value=54.6,\n",
    "#             name='%s - volume_heads' % name_m)\n",
    "\n",
    "# # monolayer thicknesses\n",
    "# tail_thick_m = Parameter(value=vm_m_tails.value / APMD.value,\n",
    "#             name='%s - thickness_tails' % name_m,\n",
    "#             bounds=((1-0.75)*vm_m_tails.value / APMD.value,\n",
    "#                     (1+0.75)*vm_m_tails.value / APMD.value),\n",
    "#                vary=True)\n",
    "# head_thick_m = Parameter(value=vm_m_heads.value / APMD.value,\n",
    "#             name='%s - thickness heads' % name_m,\n",
    "#             bounds=((1-0.75)*vm_m_heads.value / APMD.value,\n",
    "#                     (1+0.75)*vm_m_heads.value / APMD.value),\n",
    "#                vary=True)\n",
    "\n",
    "# roughness_m =  Parameter(value=5.8,\n",
    "#             name='%s - roughness' % name_m,\n",
    "#             bounds=(0,10), vary=True)\n",
    "\n",
    "\n",
    "# water_vm_m = Parameter(value=vm_water,\n",
    "#             name='%s - water_vm' % name_m)\n",
    "# waters_per_head_m = Parameter(\n",
    "#             value=2.8,\n",
    "#             name=\"{} Waters Per Head\".format(name_m),\n",
    "#             vary=True,\n",
    "#             bounds=(1, 20))\n",
    "# waters_per_tail_m = Parameter(\n",
    "#             value=0.,\n",
    "#             name=\"{} Waters Per Tail\".format(name_m),\n",
    "#             vary=False)"
   ]
  },
  {
   "cell_type": "code",
   "execution_count": 6,
   "metadata": {},
   "outputs": [],
   "source": [
    "# m_head_solvent_pmw=SLD(2.35, \"mono, dodab - Protein Matched Water in head\")\n",
    "# m_head_solvent_pmw.real.setp(2.34, vary=True, bounds=(1.35, 3.35))\n",
    "# m_air_in_tail=SLD(0, \"mono, dodab - air in tail\")\n",
    "\n",
    "# dodab_pmw = LipidLeaflet(apm=APMD, b_heads=m_heads, vm_heads=vm_m_heads,\n",
    "#     thickness_heads=head_thick_m, b_tails=m_tails, vm_tails=vm_m_tails,\n",
    "#     thickness_tails=tail_thick_m, rough_head_tail=roughness_m,\n",
    "#     rough_preceding_mono=roughness_m,\n",
    "#     water_vm=vm_water, waters_per_head=waters_per_head_m,\n",
    "#     waters_per_tail=waters_per_tail_m,\n",
    "#     head_solvent=m_head_solvent_pmw, tail_solvent=m_air_in_tail) #mono\n",
    "\n",
    "# m_head_solvent_d2o=SLD(6.07, \"mono, dodab - D2O in head\")\n",
    "# m_head_solvent_d2o.real.setp(6.07, vary=True, bounds=(5.35, 6.35))\n",
    "# dodab_d2o = LipidLeaflet(apm=APMD, b_heads=m_heads, vm_heads=vm_m_heads,\n",
    "#     thickness_heads=head_thick_m, b_tails=m_tails, vm_tails=vm_m_tails,\n",
    "#     thickness_tails=tail_thick_m, rough_head_tail=roughness_m,\n",
    "#     water_vm=vm_water, waters_per_head=waters_per_head_m,\n",
    "#     waters_per_tail=waters_per_tail_m,\n",
    "#     rough_preceding_mono=roughness_m, head_solvent=m_head_solvent_d2o,\n",
    "#                          tail_solvent=m_air_in_tail) #mono"
   ]
  },
  {
   "cell_type": "code",
   "execution_count": 7,
   "metadata": {
    "scrolled": false
   },
   "outputs": [
    {
     "data": {
      "image/png": "[encoded data removed]",
      "text/plain": [
       "<Figure size 432x288 with 1 Axes>"
      ]
     },
     "metadata": {
      "needs_background": "light"
     },
     "output_type": "display_data"
    },
    {
     "name": "stdout",
     "output_type": "stream",
     "text": [
      "________________________________________________________________________________\n",
      "Structure:       d2o      \n",
      "solvent: None\n",
      "reverse structure: False\n",
      "contract: 0\n",
      "\n",
      "________________________________________________________________________________\n",
      "Parameters:      'Air'     \n",
      "<Parameter: 'Air - thick' , value=0 (fixed)  , bounds=[-inf, inf]>\n",
      "<Parameter:  'Air - sld'  , value=0 (fixed)  , bounds=[-inf, inf]>\n",
      "<Parameter: 'Air - isld'  , value=0 (fixed)  , bounds=[-inf, inf]>\n",
      "<Parameter: 'Air - rough' , value=0 (fixed)  , bounds=[-inf, inf]>\n",
      "<Parameter:'Air - volfrac solvent', value=0 (fixed)  , bounds=[-inf, inf]>\n",
      "________________________________________________________________________________\n",
      "Parameters:      'D2O'     \n",
      "<Parameter:'thickness_solution', value=14.3          , bounds=[6, 25]>\n",
      "<Parameter:  'D2O - sld'  , value=6.07          , bounds=[3, 6.35]>\n",
      "<Parameter: 'D2O - isld'  , value=0 (fixed)  , bounds=[-inf, inf]>\n",
      "<Parameter:'rough_preceding_solution', value=4.6          , bounds=[0, 20]>\n",
      "<Parameter:'D2O - volfrac solvent', value=0 (fixed)  , bounds=[-inf, inf]>\n",
      "LipidLeaflet(Parameter(value=75.0, name='bilayer - area_per_molecule', vary=True, bounds=Interval(lb=60, ub=150), constraint=None), SLD([Parameter(value=0.0006292750000000001, name='bilayer - b_heads_real', vary=False, bounds=Interval(lb=-np.inf, ub=np.inf), constraint=None), Parameter(value=0.0, name='upper_lipid_d2o - b_heads_imag', vary=False, bounds=Interval(lb=-np.inf, ub=np.inf), constraint=None)], name=''), Parameter(value=331.0, name='bilayer - volume_heads', vary=False, bounds=Interval(lb=-np.inf, ub=np.inf), constraint=None), Parameter(value=11.0, name='bilayer - thickness_heads', vary=True, bounds=Interval(lb=9, ub=20), constraint=None), SLD([Parameter(value=-0.00026624000000000005, name='bilayer - b_tails_real', vary=False, bounds=Interval(lb=-np.inf, ub=np.inf), constraint=None), Parameter(value=0.0, name='upper_lipid_d2o - b_tails_imag', vary=False, bounds=Interval(lb=-np.inf, ub=np.inf), constraint=None)], name=''), Parameter(value=940.2, name='bilayer - volume_tails', vary=False, bounds=Interval(lb=-np.inf, ub=np.inf), constraint=None), Parameter(value=6.0, name='bilayer - thickness_tails', vary=True, bounds=Interval(lb=3, ub=9), constraint=None), Parameter(value=2.0, name='bilayer - rough_top', vary=True, bounds=Interval(lb=0, ub=10), constraint=None), Parameter(value=2.0, name='bilayer - rough_top', vary=True, bounds=Interval(lb=0, ub=10), constraint=None), head_solvent=SLD([Parameter(value=6.07, name='D2O - sld', vary=True, bounds=Interval(lb=3, ub=6.35), constraint=None), Parameter(value=0.0, name='D2O - isld', vary=False, bounds=Interval(lb=-np.inf, ub=np.inf), constraint=None)], name=''), tail_solvent=SLD([Parameter(value=6.07, name='D2O - sld', vary=True, bounds=Interval(lb=3, ub=6.35), constraint=None), Parameter(value=0.0, name='D2O - isld', vary=False, bounds=Interval(lb=-np.inf, ub=np.inf), constraint=None)], name=''), reverse_monolayer=False, name='upper_lipid_d2o')\n",
      "LipidLeaflet(Parameter(value=75.0, name='bilayer - area_per_molecule', vary=True, bounds=Interval(lb=60, ub=150), constraint=None), SLD([Parameter(value=0.0006292750000000001, name='bilayer - b_heads_real', vary=False, bounds=Interval(lb=-np.inf, ub=np.inf), constraint=None), Parameter(value=0.0, name='lower_lipid_d2o - b_heads_imag', vary=False, bounds=Interval(lb=-np.inf, ub=np.inf), constraint=None)], name=''), Parameter(value=331.0, name='bilayer - volume_heads', vary=False, bounds=Interval(lb=-np.inf, ub=np.inf), constraint=None), Parameter(value=11.0, name='bilayer - thickness_heads', vary=True, bounds=Interval(lb=9, ub=20), constraint=None), SLD([Parameter(value=-0.00026624000000000005, name='bilayer - b_tails_real', vary=False, bounds=Interval(lb=-np.inf, ub=np.inf), constraint=None), Parameter(value=0.0, name='lower_lipid_d2o - b_tails_imag', vary=False, bounds=Interval(lb=-np.inf, ub=np.inf), constraint=None)], name=''), Parameter(value=940.2, name='bilayer - volume_tails', vary=False, bounds=Interval(lb=-np.inf, ub=np.inf), constraint=None), Parameter(value=6.0, name='bilayer - thickness_tails', vary=True, bounds=Interval(lb=3, ub=9), constraint=None), Parameter(value=2.0, name='bilayer - rough_top', vary=True, bounds=Interval(lb=0, ub=10), constraint=None), Parameter(value=2.0, name='bilayer - rough_top', vary=True, bounds=Interval(lb=0, ub=10), constraint=None), head_solvent=SLD([Parameter(value=6.07, name='D2O - sld', vary=True, bounds=Interval(lb=3, ub=6.35), constraint=None), Parameter(value=0.0, name='D2O - isld', vary=False, bounds=Interval(lb=-np.inf, ub=np.inf), constraint=None)], name=''), tail_solvent=SLD([Parameter(value=6.07, name='D2O - sld', vary=True, bounds=Interval(lb=3, ub=6.35), constraint=None), Parameter(value=0.0, name='D2O - isld', vary=False, bounds=Interval(lb=-np.inf, ub=np.inf), constraint=None)], name=''), reverse_monolayer=True, name='lower_lipid_d2o')\n",
      "________________________________________________________________________________\n",
      "Parameters:      'D2O'     \n",
      "<Parameter:'thickness_solution', value=14.3          , bounds=[6, 25]>\n",
      "<Parameter:  'D2O - sld'  , value=6.07          , bounds=[3, 6.35]>\n",
      "<Parameter: 'D2O - isld'  , value=0 (fixed)  , bounds=[-inf, inf]>\n",
      "<Parameter:'rough_preceding_solution', value=4.6          , bounds=[0, 20]>\n",
      "<Parameter:'D2O - volfrac solvent', value=0 (fixed)  , bounds=[-inf, inf]>\n",
      "________________________________________________________________________________\n",
      "Structure: protein matched water\n",
      "solvent: None\n",
      "reverse structure: False\n",
      "contract: 0\n",
      "\n",
      "________________________________________________________________________________\n",
      "Parameters:      'Air'     \n",
      "<Parameter: 'Air - thick' , value=0 (fixed)  , bounds=[-inf, inf]>\n",
      "<Parameter:  'Air - sld'  , value=0 (fixed)  , bounds=[-inf, inf]>\n",
      "<Parameter: 'Air - isld'  , value=0 (fixed)  , bounds=[-inf, inf]>\n",
      "<Parameter: 'Air - rough' , value=0 (fixed)  , bounds=[-inf, inf]>\n",
      "<Parameter:'Air - volfrac solvent', value=0 (fixed)  , bounds=[-inf, inf]>\n",
      "________________________________________________________________________________\n",
      "Parameters: 'Protein Matched Water'\n",
      "<Parameter:'thickness_solution', value=14.3          , bounds=[6, 25]>\n",
      "<Parameter:'Protein Matched Water - sld', value=2.35          , bounds=[1.0, 3.0]>\n",
      "<Parameter:'Protein Matched Water - isld', value=0 (fixed)  , bounds=[-inf, inf]>\n",
      "<Parameter:'rough_preceding_solution', value=4.6          , bounds=[0, 20]>\n",
      "<Parameter:'Protein Matched Water - volfrac solvent', value=0 (fixed)  , bounds=[-inf, inf]>\n",
      "LipidLeaflet(Parameter(value=75.0, name='bilayer - area_per_molecule', vary=True, bounds=Interval(lb=60, ub=150), constraint=None), SLD([Parameter(value=0.0006292750000000001, name='bilayer - b_heads_real', vary=False, bounds=Interval(lb=-np.inf, ub=np.inf), constraint=None), Parameter(value=0.0, name='upper_lipid_pmw - b_heads_imag', vary=False, bounds=Interval(lb=-np.inf, ub=np.inf), constraint=None)], name=''), Parameter(value=331.0, name='bilayer - volume_heads', vary=False, bounds=Interval(lb=-np.inf, ub=np.inf), constraint=None), Parameter(value=11.0, name='bilayer - thickness_heads', vary=True, bounds=Interval(lb=9, ub=20), constraint=None), SLD([Parameter(value=-0.00026624000000000005, name='bilayer - b_tails_real', vary=False, bounds=Interval(lb=-np.inf, ub=np.inf), constraint=None), Parameter(value=0.0, name='upper_lipid_pmw - b_tails_imag', vary=False, bounds=Interval(lb=-np.inf, ub=np.inf), constraint=None)], name=''), Parameter(value=940.2, name='bilayer - volume_tails', vary=False, bounds=Interval(lb=-np.inf, ub=np.inf), constraint=None), Parameter(value=6.0, name='bilayer - thickness_tails', vary=True, bounds=Interval(lb=3, ub=9), constraint=None), Parameter(value=2.0, name='bilayer - rough_top', vary=True, bounds=Interval(lb=0, ub=10), constraint=None), Parameter(value=2.0, name='bilayer - rough_top', vary=True, bounds=Interval(lb=0, ub=10), constraint=None), head_solvent=SLD([Parameter(value=2.35, name='Protein Matched Water - sld', vary=True, bounds=Interval(lb=1.0, ub=3.0), constraint=None), Parameter(value=0.0, name='Protein Matched Water - isld', vary=False, bounds=Interval(lb=-np.inf, ub=np.inf), constraint=None)], name=''), tail_solvent=SLD([Parameter(value=2.35, name='Protein Matched Water - sld', vary=True, bounds=Interval(lb=1.0, ub=3.0), constraint=None), Parameter(value=0.0, name='Protein Matched Water - isld', vary=False, bounds=Interval(lb=-np.inf, ub=np.inf), constraint=None)], name=''), reverse_monolayer=False, name='upper_lipid_pmw')\n",
      "LipidLeaflet(Parameter(value=75.0, name='bilayer - area_per_molecule', vary=True, bounds=Interval(lb=60, ub=150), constraint=None), SLD([Parameter(value=0.0006292750000000001, name='bilayer - b_heads_real', vary=False, bounds=Interval(lb=-np.inf, ub=np.inf), constraint=None), Parameter(value=0.0, name='lower_lipid_pmw - b_heads_imag', vary=False, bounds=Interval(lb=-np.inf, ub=np.inf), constraint=None)], name=''), Parameter(value=331.0, name='bilayer - volume_heads', vary=False, bounds=Interval(lb=-np.inf, ub=np.inf), constraint=None), Parameter(value=11.0, name='bilayer - thickness_heads', vary=True, bounds=Interval(lb=9, ub=20), constraint=None), SLD([Parameter(value=-0.00026624000000000005, name='bilayer - b_tails_real', vary=False, bounds=Interval(lb=-np.inf, ub=np.inf), constraint=None), Parameter(value=0.0, name='lower_lipid_pmw - b_tails_imag', vary=False, bounds=Interval(lb=-np.inf, ub=np.inf), constraint=None)], name=''), Parameter(value=940.2, name='bilayer - volume_tails', vary=False, bounds=Interval(lb=-np.inf, ub=np.inf), constraint=None), Parameter(value=6.0, name='bilayer - thickness_tails', vary=True, bounds=Interval(lb=3, ub=9), constraint=None), Parameter(value=2.0, name='bilayer - rough_top', vary=True, bounds=Interval(lb=0, ub=10), constraint=None), Parameter(value=2.0, name='bilayer - rough_top', vary=True, bounds=Interval(lb=0, ub=10), constraint=None), head_solvent=SLD([Parameter(value=2.35, name='Protein Matched Water - sld', vary=True, bounds=Interval(lb=1.0, ub=3.0), constraint=None), Parameter(value=0.0, name='Protein Matched Water - isld', vary=False, bounds=Interval(lb=-np.inf, ub=np.inf), constraint=None)], name=''), tail_solvent=SLD([Parameter(value=2.35, name='Protein Matched Water - sld', vary=True, bounds=Interval(lb=1.0, ub=3.0), constraint=None), Parameter(value=0.0, name='Protein Matched Water - isld', vary=False, bounds=Interval(lb=-np.inf, ub=np.inf), constraint=None)], name=''), reverse_monolayer=True, name='lower_lipid_pmw')\n",
      "________________________________________________________________________________\n",
      "Parameters: 'Protein Matched Water'\n",
      "<Parameter:'thickness_solution', value=14.3          , bounds=[6, 25]>\n",
      "<Parameter:'Protein Matched Water - sld', value=2.35          , bounds=[1.0, 3.0]>\n",
      "<Parameter:'Protein Matched Water - isld', value=0 (fixed)  , bounds=[-inf, inf]>\n",
      "<Parameter:'rough_preceding_solution', value=4.6          , bounds=[0, 20]>\n"
     ]
    },
    {
     "name": "stdout",
     "output_type": "stream",
     "text": [
      "<Parameter:'Protein Matched Water - volfrac solvent', value=0 (fixed)  , bounds=[-inf, inf]>\n",
      "________________________________________________________________________________\n",
      "Structure:      ACMW      \n",
      "solvent: None\n",
      "reverse structure: False\n",
      "contract: 0\n",
      "\n",
      "________________________________________________________________________________\n",
      "Parameters:      'Air'     \n",
      "<Parameter: 'Air - thick' , value=0 (fixed)  , bounds=[-inf, inf]>\n",
      "<Parameter:  'Air - sld'  , value=0 (fixed)  , bounds=[-inf, inf]>\n",
      "<Parameter: 'Air - isld'  , value=0 (fixed)  , bounds=[-inf, inf]>\n",
      "<Parameter: 'Air - rough' , value=0 (fixed)  , bounds=[-inf, inf]>\n",
      "<Parameter:'Air - volfrac solvent', value=0 (fixed)  , bounds=[-inf, inf]>\n",
      "________________________________________________________________________________\n",
      "Parameters:     'ACMW'     \n",
      "<Parameter:'thickness_solution', value=14.3          , bounds=[6, 25]>\n",
      "<Parameter: 'ACMW - sld'  , value=0          , bounds=[-1, 1]>\n",
      "<Parameter: 'ACMW - isld' , value=0 (fixed)  , bounds=[-inf, inf]>\n",
      "<Parameter:'rough_preceding_solution', value=4.6          , bounds=[0, 20]>\n",
      "<Parameter:'ACMW - volfrac solvent', value=0 (fixed)  , bounds=[-inf, inf]>\n",
      "LipidLeaflet(Parameter(value=75.0, name='bilayer - area_per_molecule', vary=True, bounds=Interval(lb=60, ub=150), constraint=None), SLD([Parameter(value=0.0006292750000000001, name='bilayer - b_heads_real', vary=False, bounds=Interval(lb=-np.inf, ub=np.inf), constraint=None), Parameter(value=0.0, name='upper_lipid_acmw - b_heads_imag', vary=False, bounds=Interval(lb=-np.inf, ub=np.inf), constraint=None)], name=''), Parameter(value=331.0, name='bilayer - volume_heads', vary=False, bounds=Interval(lb=-np.inf, ub=np.inf), constraint=None), Parameter(value=11.0, name='bilayer - thickness_heads', vary=True, bounds=Interval(lb=9, ub=20), constraint=None), SLD([Parameter(value=-0.00026624000000000005, name='bilayer - b_tails_real', vary=False, bounds=Interval(lb=-np.inf, ub=np.inf), constraint=None), Parameter(value=0.0, name='upper_lipid_acmw - b_tails_imag', vary=False, bounds=Interval(lb=-np.inf, ub=np.inf), constraint=None)], name=''), Parameter(value=940.2, name='bilayer - volume_tails', vary=False, bounds=Interval(lb=-np.inf, ub=np.inf), constraint=None), Parameter(value=6.0, name='bilayer - thickness_tails', vary=True, bounds=Interval(lb=3, ub=9), constraint=None), Parameter(value=2.0, name='bilayer - rough_top', vary=True, bounds=Interval(lb=0, ub=10), constraint=None), Parameter(value=2.0, name='bilayer - rough_top', vary=True, bounds=Interval(lb=0, ub=10), constraint=None), head_solvent=SLD([Parameter(value=0.0, name='ACMW - sld', vary=True, bounds=Interval(lb=-1, ub=1), constraint=None), Parameter(value=0.0, name='ACMW - isld', vary=False, bounds=Interval(lb=-np.inf, ub=np.inf), constraint=None)], name=''), tail_solvent=SLD([Parameter(value=0.0, name='ACMW - sld', vary=True, bounds=Interval(lb=-1, ub=1), constraint=None), Parameter(value=0.0, name='ACMW - isld', vary=False, bounds=Interval(lb=-np.inf, ub=np.inf), constraint=None)], name=''), reverse_monolayer=False, name='upper_lipid_acmw')\n",
      "LipidLeaflet(Parameter(value=75.0, name='bilayer - area_per_molecule', vary=True, bounds=Interval(lb=60, ub=150), constraint=None), SLD([Parameter(value=0.0006292750000000001, name='bilayer - b_heads_real', vary=False, bounds=Interval(lb=-np.inf, ub=np.inf), constraint=None), Parameter(value=0.0, name='lower_lipid_acmw - b_heads_imag', vary=False, bounds=Interval(lb=-np.inf, ub=np.inf), constraint=None)], name=''), Parameter(value=331.0, name='bilayer - volume_heads', vary=False, bounds=Interval(lb=-np.inf, ub=np.inf), constraint=None), Parameter(value=11.0, name='bilayer - thickness_heads', vary=True, bounds=Interval(lb=9, ub=20), constraint=None), SLD([Parameter(value=-0.00026624000000000005, name='bilayer - b_tails_real', vary=False, bounds=Interval(lb=-np.inf, ub=np.inf), constraint=None), Parameter(value=0.0, name='lower_lipid_acmw - b_tails_imag', vary=False, bounds=Interval(lb=-np.inf, ub=np.inf), constraint=None)], name=''), Parameter(value=940.2, name='bilayer - volume_tails', vary=False, bounds=Interval(lb=-np.inf, ub=np.inf), constraint=None), Parameter(value=6.0, name='bilayer - thickness_tails', vary=True, bounds=Interval(lb=3, ub=9), constraint=None), Parameter(value=2.0, name='bilayer - rough_top', vary=True, bounds=Interval(lb=0, ub=10), constraint=None), Parameter(value=2.0, name='bilayer - rough_top', vary=True, bounds=Interval(lb=0, ub=10), constraint=None), head_solvent=SLD([Parameter(value=0.0, name='ACMW - sld', vary=True, bounds=Interval(lb=-1, ub=1), constraint=None), Parameter(value=0.0, name='ACMW - isld', vary=False, bounds=Interval(lb=-np.inf, ub=np.inf), constraint=None)], name=''), tail_solvent=SLD([Parameter(value=0.0, name='ACMW - sld', vary=True, bounds=Interval(lb=-1, ub=1), constraint=None), Parameter(value=0.0, name='ACMW - isld', vary=False, bounds=Interval(lb=-np.inf, ub=np.inf), constraint=None)], name=''), reverse_monolayer=True, name='lower_lipid_acmw')\n",
      "________________________________________________________________________________\n",
      "Parameters:     'ACMW'     \n",
      "<Parameter:'thickness_solution', value=14.3          , bounds=[6, 25]>\n",
      "<Parameter: 'ACMW - sld'  , value=0          , bounds=[-1, 1]>\n",
      "<Parameter: 'ACMW - isld' , value=0 (fixed)  , bounds=[-inf, inf]>\n",
      "<Parameter:'rough_preceding_solution', value=4.6          , bounds=[0, 20]>\n",
      "<Parameter:'ACMW - volfrac solvent', value=0 (fixed)  , bounds=[-inf, inf]>\n"
     ]
    }
   ],
   "source": [
    "# structure_d2o = air(0, 0) | dodab_d2o | d2o(0, 0) | upper_lipid_d2o | lower_lipid_d2o | d2o(0, 0)\n",
    "# structure_pmw = air(0, 0) | dodab_pmw | pmw(0, 0) | upper_lipid_pmw | lower_lipid_pmw | pmw(0, 0)\n",
    "# structure_d2o = air(0, 0) | d2o(0, 0) | upper_lipid_d2o | lower_lipid_d2o | d2o(0, 0)\n",
    "# structure_pmw = air(0, 0) | pmw(0, 0) | upper_lipid_pmw | lower_lipid_pmw | pmw(0, 0)\n",
    "#\n",
    "#\n",
    "# solution_thickness = Parameter(value=14.3, bounds=(6, 20), vary=True,\n",
    "#             name='%s - thickness_solution' % name)\n",
    "\n",
    "# rough_preceding_solution = Parameter(value=4.6, bounds=(0, 20), vary=True,\n",
    "#             name='%s - rough_preceding_solution' % name)\n",
    "# \n",
    "# structure_d2o[2].thick=solution_thickness#.setp(14.3, vary=True, bounds=(6, 20))\n",
    "# structure_d2o[2].rough=rough_preceding_solution#.setp(4.6, vary=True, bounds=(3, 20))\n",
    "# structure_pmw[2].thick=solution_thickness\n",
    "# structure_pmw[2].rough=rough_preceding_solution\n",
    "#\n",
    "# structure_d2o[5].thick=solution_thickness\n",
    "# structure_d2o[5].rough=rough_preceding_solution\n",
    "# structure_pmw[5].thick=solution_thickness\n",
    "# structure_pmw[5].rough=rough_preceding_solution\n",
    "\n",
    "# to changing to\n",
    "solution_thickness = Parameter(value=14.3, bounds=(6, 25), vary=True,\n",
    "            name='thickness_solution')\n",
    "\n",
    "rough_preceding_solution = Parameter(value=4.6, bounds=(0, 20), vary=True,\n",
    "            name='rough_preceding_solution')\n",
    "\n",
    "structure_d2o  = air(0, 0) | d2o(solution_thickness, rough_preceding_solution)  | upper_lipid_d2o  | lower_lipid_d2o  | d2o(solution_thickness, rough_preceding_solution)\n",
    "structure_pmw  = air(0, 0) | pmw(solution_thickness, rough_preceding_solution)  | upper_lipid_pmw  | lower_lipid_pmw  | pmw(solution_thickness, rough_preceding_solution)\n",
    "structure_acmw = air(0, 0) | acmw(solution_thickness, rough_preceding_solution) | upper_lipid_acmw | lower_lipid_acmw | acmw(solution_thickness, rough_preceding_solution)\n",
    "\n",
    "structure_d2o.name = \"d2o\"\n",
    "structure_pmw.name = \"protein matched water\"\n",
    "structure_acmw.name = \"ACMW\"\n",
    "\n",
    "plt.plot(*structure_d2o.sld_profile(),label=\"structure_d2o\")\n",
    "plt.ylabel('SLD /$10^{-6} \\AA^{-2}$')\n",
    "plt.xlabel('distance / $\\AA$')\n",
    "plt.plot(*structure_pmw.sld_profile(),label=\"structure_pmw\")\n",
    "plt.ylabel('SLD /$10^{-6} \\AA^{-2}$')\n",
    "plt.xlabel('distance / $\\AA$')\n",
    "plt.plot(*structure_acmw.sld_profile(),label=\"structure_acmw\")\n",
    "plt.ylabel('SLD /$10^{-6} \\AA^{-2}$')\n",
    "plt.xlabel('distance / $\\AA$')\n",
    "plt.show();\n",
    "print(structure_d2o)\n",
    "print(structure_pmw)\n",
    "print(structure_acmw)"
   ]
  },
  {
   "cell_type": "code",
   "execution_count": 8,
   "metadata": {
    "scrolled": true
   },
   "outputs": [
    {
     "name": "stdout",
     "output_type": "stream",
     "text": [
      "[[ 0.00000000e+00  0.00000000e+00  0.00000000e+00  0.00000000e+00\n",
      "   0.00000000e+00]\n",
      " [ 1.43000000e+01  0.00000000e+00  0.00000000e+00  4.60000000e+00\n",
      "   0.00000000e+00]\n",
      " [ 1.10000000e+01  7.34282143e-01  4.95124626e-09  2.00000000e+00\n",
      "   0.00000000e+00]\n",
      " [ 6.00000000e+00  1.21932915e+00 -1.75180685e-09  2.00000000e+00\n",
      "   0.00000000e+00]\n",
      " [ 6.00000000e+00  1.21932915e+00 -1.75180685e-09  2.00000000e+00\n",
      "   0.00000000e+00]\n",
      " [ 1.10000000e+01  7.34282143e-01  4.95124626e-09  2.00000000e+00\n",
      "   0.00000000e+00]\n",
      " [ 1.43000000e+01  0.00000000e+00  0.00000000e+00  4.60000000e+00\n",
      "   0.00000000e+00]]\n",
      "[[ 0.00000000e+00  0.00000000e+00  0.00000000e+00  0.00000000e+00\n",
      "   0.00000000e+00]\n",
      " [ 1.43000000e+01  2.35000000e+00  0.00000000e+00  4.60000000e+00\n",
      "   0.00000000e+00]\n",
      " [ 1.10000000e+01  8.03585557e-01  4.95124626e-09  2.00000000e+00\n",
      "   0.00000000e+00]\n",
      " [ 6.00000000e+00  1.51687456e+00 -1.75180685e-09  2.00000000e+00\n",
      "   0.00000000e+00]\n",
      " [ 6.00000000e+00  1.51687456e+00 -1.75180685e-09  2.00000000e+00\n",
      "   0.00000000e+00]\n",
      " [ 1.10000000e+01  8.03585557e-01  4.95124626e-09  2.00000000e+00\n",
      "   0.00000000e+00]\n",
      " [ 1.43000000e+01  2.35000000e+00  0.00000000e+00  4.60000000e+00\n",
      "   0.00000000e+00]]\n",
      "[[ 0.00000000e+00  0.00000000e+00  0.00000000e+00  0.00000000e+00\n",
      "   0.00000000e+00]\n",
      " [ 1.43000000e+01  6.07000000e+00  0.00000000e+00  4.60000000e+00\n",
      "   0.00000000e+00]\n",
      " [ 1.10000000e+01  9.13291386e-01  4.95124626e-09  2.00000000e+00\n",
      "   0.00000000e+00]\n",
      " [ 6.00000000e+00  1.98788261e+00 -1.75180685e-09  2.00000000e+00\n",
      "   0.00000000e+00]\n",
      " [ 6.00000000e+00  1.98788261e+00 -1.75180685e-09  2.00000000e+00\n",
      "   0.00000000e+00]\n",
      " [ 1.10000000e+01  9.13291386e-01  4.95124626e-09  2.00000000e+00\n",
      "   0.00000000e+00]\n",
      " [ 1.43000000e+01  6.07000000e+00  0.00000000e+00  4.60000000e+00\n",
      "   0.00000000e+00]]\n"
     ]
    }
   ],
   "source": [
    "print(structure_acmw.slabs())\n",
    "print(structure_pmw.slabs())\n",
    "print(structure_d2o.slabs())"
   ]
  },
  {
   "cell_type": "code",
   "execution_count": 9,
   "metadata": {},
   "outputs": [
    {
     "name": "stdout",
     "output_type": "stream",
     "text": [
      "0.562 0.0655 0.000924\n",
      "1.8e-06 3.02e-06 1.73e-06\n"
     ]
    }
   ],
   "source": [
    "print(dataD2o.y.max(), dataPmw.y.max(), dataAcmw.y.max())\n",
    "print(dataD2o.y.min(), dataPmw.y.min(), dataAcmw.y.min())\n",
    "model1 = ReflectModel(structure_d2o)\n",
    "model1.scale.setp(0.5, vary=True, bounds=(0.25, 1)) #1./dataD2o.y.max()\n",
    "if dataD2o.y.min()<0:\n",
    "    d2oUpBound = dataD2o.y.min() * 0.2\n",
    "    d2oLoBound = dataD2o.y.min() * 1.8\n",
    "else:\n",
    "    d2oUpBound = dataD2o.y.min() * 1.8\n",
    "    d2oLoBound = dataD2o.y.min() * 0.2\n",
    "model1.bkg.setp(dataD2o.y.min(),vary=True,bounds=(d2oLoBound, d2oUpBound))\n",
    "\n",
    "model2 = ReflectModel(structure_pmw)\n",
    "model2.scale.setp(0.5, vary=True, bounds=(0.25, 1))#(1./dataPmw.y.max(), vary=False)\n",
    "if dataPmw.y.min()<0:\n",
    "    pmwUpBound = dataPmw.y.min() * 0.2\n",
    "    pmwLoBound = dataPmw.y.min() * 1.8\n",
    "else:\n",
    "    pmwUpBound = dataPmw.y.min() * 1.8\n",
    "    pmwLoBound = dataPmw.y.min() * 0.2\n",
    "model2.bkg.setp(dataPmw.y.min(),vary=True,bounds=(pmwLoBound, pmwUpBound))\n",
    "\n",
    "model3 = ReflectModel(structure_acmw)\n",
    "model3.scale.setp(0.5, vary=True, bounds=(0.25, 1)) #1./dataAcmw.y.max(), vary=False)\n",
    "if dataAcmw.y.min()<0:\n",
    "    acmwUpBound = dataAcmw.y.min() * 0.2\n",
    "    acmwLoBound = dataAcmw.y.min() * 1.8\n",
    "else:\n",
    "    acmwUpBound = dataAcmw.y.min() * 1.8\n",
    "    acmwLoBound = dataAcmw.y.min() * 0.2\n",
    "model3.bkg.setp(dataAcmw.y.min(),vary=True,bounds=(acmwLoBound, acmwUpBound))\n",
    "\n",
    "objective1 = Objective(model1, dataD2o, transform=Transform(\"logY\"))\n",
    "objective2 = Objective(model2, dataPmw, transform=Transform(\"logY\"))\n",
    "objective3 = Objective(model3, dataAcmw, transform=Transform(\"logY\"))\n",
    "gobjective = GlobalObjective([objective1,objective2,objective3])"
   ]
  },
  {
   "cell_type": "code",
   "execution_count": 10,
   "metadata": {
    "scrolled": true
   },
   "outputs": [],
   "source": [
    "choose = 0\n",
    "if choose==0:\n",
    "    fitter = CurveFitter(gobjective)\n",
    "    res = fitter.fit(\"differential_evolution\", target=\"nlpost\")#, seed=SEED)\n",
    "if choose==1:\n",
    "    fitter = CurveFitter(gobjective)\n",
    "    fitter.sample(400)\n",
    "    fitter.reset()\n",
    "    res = fitter.sample(15, nthin=100)\n",
    "if choose==2:\n",
    "    from dynesty import DynamicNestedSampler\n",
    "    from dynesty import plotting as dyplot\n",
    "    from CFitter import CFitter\n",
    "    fitter = CFitter(gobjective)\n",
    "    # DynamicNestedSampler\n",
    "    DNSampler = DynamicNestedSampler(fitter.logl, fitter.priorTransform, fitter.nDim())\n",
    "    DNSampler.run_nested(dlogz_init=0.05) # was 0.01\n",
    "    res1 = DNSampler.results"
   ]
  },
  {
   "cell_type": "code",
   "execution_count": 12,
   "metadata": {},
   "outputs": [
    {
     "name": "stdout",
     "output_type": "stream",
     "text": [
      "   covar: array([[ 2.46485925e-06, -1.03936071e-11,  3.34401725e-05,\n",
      "        -4.60468866e-06,  5.85848623e-05,  2.98292554e+01,\n",
      "        -6.63660186e-04,  6.26163120e-04,  1.35024123e-05,\n",
      "         1.29190788e+01,  2.51989117e+01,  1.49239500e-01,\n",
      "         1.51104609e-06, -3.01342243e-12, -7.27887560e-07,\n",
      "         4.74378704e-06,  2.02480710e-12,  5.70438222e-06],\n",
      "       [-1.03936071e-11,  3.63568603e-13,  1.31968665e-07,\n",
      "        -1.23084485e-10, -1.54022989e-07,  2.45366064e-02,\n",
      "         3.68204728e-06, -3.67336562e-06,  2.59818041e-06,\n",
      "         1.06458760e-02,  2.07767438e-02,  1.23191629e-04,\n",
      "         2.92370750e-09,  3.52966398e-14, -1.36309632e-09,\n",
      "         1.90694850e-10,  5.62814555e-17,  9.33038977e-10],\n",
      "       [ 3.34401725e-05,  1.31968665e-07,  3.69441666e-01,\n",
      "         2.87553232e-04,  9.57885186e-02, -5.36036684e+04,\n",
      "         8.78787729e+00, -9.14122341e+00,  1.40272416e+00,\n",
      "        -2.31770244e+04, -4.50664898e+04, -2.66545177e+02,\n",
      "         3.21246961e-03,  3.82058199e-08, -1.84768424e-03,\n",
      "         6.28493391e-03, -1.52757279e-08,  7.47297896e-03],\n",
      "       [-4.60468866e-06, -1.23084485e-10,  2.87553232e-04,\n",
      "         3.78224807e-05,  3.19772046e-04, -5.85363163e+01,\n",
      "         1.45565197e-03, -1.77414670e-03, -4.79353398e-04,\n",
      "        -2.53469645e+01, -4.93213995e+01, -2.91997283e-01,\n",
      "         5.48876069e-06,  3.91741714e-12, -2.50818672e-06,\n",
      "         1.46288392e-05, -6.62858184e-12,  1.71332727e-05],\n",
      "       [ 5.85848623e-05, -1.54022989e-07,  9.57885186e-02,\n",
      "         3.19772046e-04,  1.69387040e-01, -5.10816420e+04,\n",
      "         1.65518035e+00, -1.83531671e+00, -9.69270628e-01,\n",
      "        -2.21183850e+04, -4.30754700e+04, -2.55036664e+02,\n",
      "        -5.47265381e-04, -4.50501587e-09,  3.60637573e-05,\n",
      "         3.51894457e-03, -6.18134656e-09,  3.64981425e-03],\n",
      "       [ 2.98292554e+01,  2.45366064e-02, -5.36036684e+04,\n",
      "        -5.85363163e+01, -5.10816420e+04,  8.43339448e+10,\n",
      "        -1.02704155e+06,  1.10858314e+06,  1.31452944e+05,\n",
      "         3.65258060e+10,  7.11795874e+10,  4.21527143e+08,\n",
      "         4.80872960e+02, -9.17455740e-03, -2.32112389e+02,\n",
      "         1.57329007e+03,  3.25758415e-03,  2.05729850e+03],\n",
      "       [-6.63660186e-04,  3.68204728e-06,  8.78787729e+00,\n",
      "         1.45565197e-03,  1.65518035e+00, -1.02704155e+06,\n",
      "         2.50083313e+02, -2.58309425e+02,  3.64809900e+01,\n",
      "        -4.43713680e+05, -8.62478895e+05, -5.09837530e+03,\n",
      "         1.38961740e-01,  1.17211337e-06, -7.13491585e-02,\n",
      "         6.67192976e-02, -4.59796918e-07,  7.85047208e-02],\n",
      "       [ 6.26163120e-04, -3.67336562e-06, -9.14122341e+00,\n",
      "        -1.77414670e-03, -1.83531671e+00,  1.10858314e+06,\n",
      "        -2.58309425e+02,  2.66940460e+02, -3.68904081e+01,\n",
      "         4.78994992e+05,  9.31136491e+05,  5.50465801e+03,\n",
      "        -1.40926087e-01, -1.20021484e-06,  7.26781750e-02,\n",
      "        -7.33820907e-02,  4.76784594e-07, -8.60969131e-02],\n",
      "       [ 1.35024123e-05,  2.59818041e-06,  1.40272416e+00,\n",
      "        -4.79353398e-04, -9.69270628e-01,  1.31452944e+05,\n",
      "         3.64809900e+01, -3.68904081e+01,  1.97576114e+01,\n",
      "         5.71152304e+04,  1.11659711e+05,  6.62751203e+02,\n",
      "         2.24378673e-02,  2.84312574e-07, -1.09665808e-02,\n",
      "         1.28830491e-02, -1.90085334e-08,  2.04697466e-02],\n",
      "       [ 1.29190788e+01,  1.06458760e-02, -2.31770244e+04,\n",
      "        -2.53469645e+01, -2.21183850e+04,  3.65258060e+10,\n",
      "        -4.43713680e+05,  4.78994992e+05,  5.71152304e+04,\n",
      "         1.58196673e+10,  3.08285544e+10,  1.82567448e+08,\n",
      "         2.08753294e+02, -3.96890423e-03, -1.00770819e+02,\n",
      "         6.81752314e+02,  1.40902585e-03,  8.91432964e+02],\n",
      "       [ 2.51989117e+01,  2.07767438e-02, -4.50664898e+04,\n",
      "        -4.93213995e+01, -4.30754700e+04,  7.11795874e+10,\n",
      "        -8.62478895e+05,  9.31136491e+05,  1.11659711e+05,\n",
      "         3.08285544e+10,  6.00771354e+10,  3.55778354e+08,\n",
      "         4.06785954e+02, -7.72787323e-03, -1.96429547e+02,\n",
      "         1.33071563e+03,  2.74253522e-03,  1.73966951e+03],\n",
      "       [ 1.49239500e-01,  1.23191629e-04, -2.66545177e+02,\n",
      "        -2.91997283e-01, -2.55036664e+02,  4.21527143e+08,\n",
      "        -5.09837530e+03,  5.50465801e+03,  6.62751203e+02,\n",
      "         1.82567448e+08,  3.55778354e+08,  2.10692901e+06,\n",
      "         2.41288588e+00, -4.57270031e-05, -1.16529488e+00,\n",
      "         7.88486142e+00,  1.62258360e-05,  1.03074452e+01],\n",
      "       [ 1.51104609e-06,  2.92370750e-09,  3.21246961e-03,\n",
      "         5.48876069e-06, -5.47265381e-04,  4.80872960e+02,\n",
      "         1.38961740e-01, -1.40926087e-01,  2.24378673e-02,\n",
      "         2.08753294e+02,  4.06785954e+02,  2.41288588e+00,\n",
      "         3.63185197e-03,  2.17827046e-10, -2.07173725e-03,\n",
      "         3.09400347e-04, -4.43653109e-10,  4.23585361e-04],\n",
      "       [-3.01342243e-12,  3.52966398e-14,  3.82058199e-08,\n",
      "         3.91741714e-12, -4.50501587e-09, -9.17455740e-03,\n",
      "         1.17211337e-06, -1.20021484e-06,  2.84312574e-07,\n",
      "        -3.96890423e-03, -7.72787323e-03, -4.57270031e-05,\n",
      "         2.17827046e-10,  1.67719276e-14, -1.06111299e-10,\n",
      "        -6.36073376e-11, -2.13243246e-15,  7.70789980e-12],\n",
      "       [-7.27887560e-07, -1.36309632e-09, -1.84768424e-03,\n",
      "        -2.50818672e-06,  3.60637573e-05, -2.32112389e+02,\n",
      "        -7.13491585e-02,  7.26781750e-02, -1.09665808e-02,\n",
      "        -1.00770819e+02, -1.96429547e+02, -1.16529488e+00,\n",
      "        -2.07173725e-03, -1.06111299e-10,  1.21317526e-03,\n",
      "        -2.30188628e-04,  2.32953347e-10, -3.07438375e-04],\n",
      "       [ 4.74378704e-06,  1.90694850e-10,  6.28493391e-03,\n",
      "         1.46288392e-05,  3.51894457e-03,  1.57329007e+03,\n",
      "         6.67192976e-02, -7.33820907e-02,  1.28830491e-02,\n",
      "         6.81752314e+02,  1.33071563e+03,  7.88486142e+00,\n",
      "         3.09400347e-04, -6.36073376e-11, -2.30188628e-04,\n",
      "         3.30677223e-03, -3.24754498e-10,  4.97543329e-03],\n",
      "       [ 2.02480710e-12,  5.62814555e-17, -1.52757279e-08,\n",
      "        -6.62858184e-12, -6.18134656e-09,  3.25758415e-03,\n",
      "        -4.59796918e-07,  4.76784594e-07, -1.90085334e-08,\n",
      "         1.40902585e-03,  2.74253522e-03,  1.62258360e-05,\n",
      "        -4.43653109e-10, -2.13243246e-15,  2.32953347e-10,\n",
      "        -3.24754498e-10,  4.31031969e-15, -2.24198070e-10],\n",
      "       [ 5.70438222e-06,  9.33038977e-10,  7.47297896e-03,\n",
      "         1.71332727e-05,  3.64981425e-03,  2.05729850e+03,\n",
      "         7.85047208e-02, -8.60969131e-02,  2.04697466e-02,\n",
      "         8.91432964e+02,  1.73966951e+03,  1.03074452e+01,\n",
      "         4.23585361e-04,  7.70789980e-12, -3.07438375e-04,\n",
      "         4.97543329e-03, -2.24198070e-10,  7.79860460e-03]])\n",
      "     fun: 323.90252372639446\n",
      " message: 'Optimization terminated successfully.'\n",
      "    nfev: 67017\n",
      "     nit: 247\n",
      "  stderr: array([1.56998702e-03, 6.02966503e-07, 6.07817132e-01, 6.14999843e-03,\n",
      "       4.11566568e-01, 2.90403073e+05, 1.58140227e+01, 1.63383126e+01,\n",
      "       4.44495348e+00, 1.25776259e+05, 2.45106376e+05, 1.45152644e+03,\n",
      "       6.02648486e-02, 1.29506477e-07, 3.48306655e-02, 5.75045409e-02,\n",
      "       6.56530250e-08, 8.83097084e-02])\n",
      " success: True\n",
      "       x: array([ 5.52760575e-01,  1.15437093e-06,  1.12480480e+01,  6.11725989e+00,\n",
      "        4.53126243e+00,  1.49931803e+02,  1.19217639e+01,  8.99860668e+00,\n",
      "        1.29415830e+00,  5.10702395e+00,  2.12844385e-02,  7.49765537e-01,\n",
      "        9.80417219e-01,  4.11657481e-06,  1.50678519e+00,  2.50854603e-01,\n",
      "        2.82253733e-06, -5.82362776e-01])\n"
     ]
    }
   ],
   "source": [
    "if choose==2:\n",
    "    print(res1)\n",
    "else:\n",
    "    print(res)\n",
    "# [['bkg', nan],\n",
    "#  ['thickness_solution', nan],\n",
    "#  ['D2O - sld', nan],\n",
    "#  ['rough_preceding_solution', nan],\n",
    "#  ['bilayer - area_per_molecule', nan],\n",
    "#  ['bilayer - thickness_heads', nan],\n",
    "#  ['bilayer - thickness_tails', nan],\n",
    "#  ['bilayer - rough_top', nan],\n",
    "#  ['bilayer - Waters Per Head', nan],\n",
    "#  ['bilayer - Waters Per Tail', nan],\n",
    "#  ['bilayer - ratio protein to bilayer', nan],\n",
    "#  ['bkg', nan],\n",
    "#  ['Protein Matched Water - sld', nan],\n",
    "#  ['bkg', nan],\n",
    "#  ['ACMW - sld', nan]]"
   ]
  },
  {
   "cell_type": "code",
   "execution_count": 13,
   "metadata": {},
   "outputs": [
    {
     "name": "stdout",
     "output_type": "stream",
     "text": [
      "[[ 0.00000000e+00  0.00000000e+00  0.00000000e+00  0.00000000e+00\n",
      "   0.00000000e+00]\n",
      " [ 1.12480480e+01 -5.82362776e-01  0.00000000e+00  4.53126243e+00\n",
      "   0.00000000e+00]\n",
      " [ 1.19217639e+01  3.54336641e-01  1.13583796e-08  1.29415830e+00\n",
      "   0.00000000e+00]\n",
      " [ 8.99860668e+00  8.54417993e-02  1.00696488e-11  1.29415830e+00\n",
      "   0.00000000e+00]\n",
      " [ 8.99860668e+00  8.54417993e-02  1.00696488e-11  1.29415830e+00\n",
      "   0.00000000e+00]\n",
      " [ 1.19217639e+01  3.54336641e-01  1.13583796e-08  1.29415830e+00\n",
      "   0.00000000e+00]\n",
      " [ 1.12480480e+01 -5.82362776e-01  0.00000000e+00  4.53126243e+00\n",
      "   0.00000000e+00]]\n",
      "[[0.00000000e+00 0.00000000e+00 0.00000000e+00 0.00000000e+00\n",
      "  0.00000000e+00]\n",
      " [1.12480480e+01 1.50678519e+00 0.00000000e+00 4.53126243e+00\n",
      "  0.00000000e+00]\n",
      " [1.19217639e+01 3.70923107e-01 1.13583796e-08 1.29415830e+00\n",
      "  0.00000000e+00]\n",
      " [8.99860668e+00 1.28273025e-01 1.00696488e-11 1.29415830e+00\n",
      "  0.00000000e+00]\n",
      " [8.99860668e+00 1.28273025e-01 1.00696488e-11 1.29415830e+00\n",
      "  0.00000000e+00]\n",
      " [1.19217639e+01 3.70923107e-01 1.13583796e-08 1.29415830e+00\n",
      "  0.00000000e+00]\n",
      " [1.12480480e+01 1.50678519e+00 0.00000000e+00 4.53126243e+00\n",
      "  0.00000000e+00]]\n",
      "[[0.00000000e+00 0.00000000e+00 0.00000000e+00 0.00000000e+00\n",
      "  0.00000000e+00]\n",
      " [1.12480480e+01 6.11725989e+00 0.00000000e+00 4.53126243e+00\n",
      "  0.00000000e+00]\n",
      " [1.19217639e+01 4.07527256e-01 1.13583796e-08 1.29415830e+00\n",
      "  0.00000000e+00]\n",
      " [8.99860668e+00 2.22795907e-01 1.00696488e-11 1.29415830e+00\n",
      "  0.00000000e+00]\n",
      " [8.99860668e+00 2.22795907e-01 1.00696488e-11 1.29415830e+00\n",
      "  0.00000000e+00]\n",
      " [1.19217639e+01 4.07527256e-01 1.13583796e-08 1.29415830e+00\n",
      "  0.00000000e+00]\n",
      " [1.12480480e+01 6.11725989e+00 0.00000000e+00 4.53126243e+00\n",
      "  0.00000000e+00]]\n"
     ]
    }
   ],
   "source": [
    "print(structure_acmw.slabs())\n",
    "print(structure_pmw.slabs())\n",
    "print(structure_d2o.slabs())"
   ]
  },
  {
   "cell_type": "code",
   "execution_count": 14,
   "metadata": {},
   "outputs": [
    {
     "data": {
      "image/png": "[encoded data removed]",
      "text/plain": [
       "<Figure size 432x288 with 1 Axes>"
      ]
     },
     "metadata": {
      "needs_background": "light"
     },
     "output_type": "display_data"
    }
   ],
   "source": [
    "# structure_d2o\n",
    "# structure_pmw\n",
    "plt.plot(*structure_d2o.sld_profile(),label=\"structure_d2o\")\n",
    "# structure_d2o.plot()\n",
    "# plt.ylabel('SLD ($10^{-6} \\AA^{-2})$')\n",
    "# plt.xlabel('distance  $(\\AA)$')\n",
    "\n",
    "plt.plot(*structure_pmw.sld_profile(),label=\"structure_pmw\")\n",
    "# structure_pmw.plot()\n",
    "plt.ylabel('SLD ($10^{-6} \\AA^{-2})$')\n",
    "plt.xlabel('distance  $(\\AA)$')\n",
    "\n",
    "plt.plot(*structure_acmw.sld_profile(),label=\"structure_acmw\")\n",
    "# structure_pmw.plot()\n",
    "plt.ylabel('SLD ($10^{-6} \\AA^{-2})$')\n",
    "plt.xlabel('distance  $(\\AA)$')\n",
    "plt.legend()\n",
    "plt.show();"
   ]
  },
  {
   "cell_type": "code",
   "execution_count": 15,
   "metadata": {},
   "outputs": [
    {
     "data": {
      "image/png": "[encoded data removed]",
      "text/plain": [
       "<Figure size 432x288 with 1 Axes>"
      ]
     },
     "metadata": {
      "needs_background": "light"
     },
     "output_type": "display_data"
    }
   ],
   "source": [
    "if choose==1:\n",
    "    gobjective.plot(samples=300)\n",
    "else:\n",
    "    gobjective.plot()\n",
    "# plt.yscale('log')\n",
    "plt.xlabel('Q')\n",
    "plt.ylabel('Reflectivity')\n",
    "plt.legend();"
   ]
  },
  {
   "cell_type": "code",
   "execution_count": 16,
   "metadata": {},
   "outputs": [
    {
     "data": {
      "image/png": "[encoded data removed]",
      "text/plain": [
       "<Figure size 432x288 with 1 Axes>"
      ]
     },
     "metadata": {
      "needs_background": "light"
     },
     "output_type": "display_data"
    }
   ],
   "source": [
    "if choose==1:\n",
    "    objective1.plot(samples=300)\n",
    "else:\n",
    "    objective1.plot()\n",
    "# plt.yscale('log')\n",
    "plt.xlabel('Q')\n",
    "plt.ylabel('Reflectivity')\n",
    "plt.legend();"
   ]
  },
  {
   "cell_type": "code",
   "execution_count": 17,
   "metadata": {},
   "outputs": [
    {
     "data": {
      "image/png": "[encoded data removed]",
      "text/plain": [
       "<Figure size 432x288 with 1 Axes>"
      ]
     },
     "metadata": {
      "needs_background": "light"
     },
     "output_type": "display_data"
    }
   ],
   "source": [
    "if choose==1:\n",
    "    objective2.plot(samples=300)\n",
    "else:\n",
    "    objective2.plot()\n",
    "# plt.yscale('log')\n",
    "plt.xlabel('Q')\n",
    "plt.ylabel('Reflectivity')\n",
    "plt.legend();"
   ]
  },
  {
   "cell_type": "code",
   "execution_count": 18,
   "metadata": {},
   "outputs": [
    {
     "data": {
      "image/png": "[encoded data removed]",
      "text/plain": [
       "<Figure size 432x288 with 1 Axes>"
      ]
     },
     "metadata": {
      "needs_background": "light"
     },
     "output_type": "display_data"
    }
   ],
   "source": [
    "if choose==1:\n",
    "    objective3.plot(samples=300)\n",
    "else:\n",
    "    objective3.plot()\n",
    "# plt.yscale('log')\n",
    "plt.xlabel('Q')\n",
    "plt.ylabel('Reflectivity')\n",
    "plt.legend();"
   ]
  },
  {
   "cell_type": "code",
   "execution_count": 19,
   "metadata": {},
   "outputs": [
    {
     "name": "stdout",
     "output_type": "stream",
     "text": [
      "model1: d2o <Parameter:    'scale'    , value=0.552761 +/- 0.00157, bounds=[0.25, 1]> <Parameter:     'bkg'     , value=1.15437e-06 +/- 6.03e-07, bounds=[3.6e-07, 3.24e-06]>\n",
      "model2: pmw <Parameter:    'scale'    , value=0.980417 +/- 0.0603, bounds=[0.25, 1]> <Parameter:     'bkg'     , value=4.11657e-06 +/- 1.3e-07, bounds=[6.040000000000001e-07, 5.436e-06]>\n",
      "model3: acmw <Parameter:    'scale'    , value=0.250855 +/- 0.0575, bounds=[0.25, 1]> <Parameter:     'bkg'     , value=2.82254e-06 +/- 6.57e-08, bounds=[3.46e-07, 3.114e-06]>\n"
     ]
    }
   ],
   "source": [
    "print(\"model1: d2o\", model1.scale, model1.bkg)\n",
    "print(\"model2: pmw\", model2.scale, model2.bkg)\n",
    "print(\"model3: acmw\", model3.scale, model3.bkg)"
   ]
  },
  {
   "cell_type": "code",
   "execution_count": 20,
   "metadata": {
    "scrolled": true
   },
   "outputs": [
    {
     "name": "stdout",
     "output_type": "stream",
     "text": [
      "________________________________________________________________________________\n",
      "Structure:       d2o      \n",
      "solvent: None\n",
      "reverse structure: False\n",
      "contract: 0\n",
      "\n",
      "________________________________________________________________________________\n",
      "Parameters:      'Air'     \n",
      "<Parameter: 'Air - thick' , value=0 (fixed)  , bounds=[-inf, inf]>\n",
      "<Parameter:  'Air - sld'  , value=0 (fixed)  , bounds=[-inf, inf]>\n",
      "<Parameter: 'Air - isld'  , value=0 (fixed)  , bounds=[-inf, inf]>\n",
      "<Parameter: 'Air - rough' , value=0 (fixed)  , bounds=[-inf, inf]>\n",
      "<Parameter:'Air - volfrac solvent', value=0 (fixed)  , bounds=[-inf, inf]>\n",
      "________________________________________________________________________________\n",
      "Parameters:      'D2O'     \n",
      "<Parameter:'thickness_solution', value=11.248 +/- 0.608, bounds=[6, 25]>\n",
      "<Parameter:  'D2O - sld'  , value=6.11726 +/- 0.00615, bounds=[3, 6.35]>\n",
      "<Parameter: 'D2O - isld'  , value=0 (fixed)  , bounds=[-inf, inf]>\n",
      "<Parameter:'rough_preceding_solution', value=4.53126 +/- 0.412, bounds=[0, 20]>\n",
      "<Parameter:'D2O - volfrac solvent', value=0 (fixed)  , bounds=[-inf, inf]>\n",
      "LipidLeaflet(Parameter(value=149.9318032204361, name='bilayer - area_per_molecule', vary=True, bounds=Interval(lb=60, ub=150), constraint=None), SLD([Parameter(value=0.0006292750000000001, name='bilayer - b_heads_real', vary=False, bounds=Interval(lb=-np.inf, ub=np.inf), constraint=None), Parameter(value=0.0, name='upper_lipid_d2o - b_heads_imag', vary=False, bounds=Interval(lb=-np.inf, ub=np.inf), constraint=None)], name=''), Parameter(value=331.0, name='bilayer - volume_heads', vary=False, bounds=Interval(lb=-np.inf, ub=np.inf), constraint=None), Parameter(value=11.921763859006374, name='bilayer - thickness_heads', vary=True, bounds=Interval(lb=9, ub=20), constraint=None), SLD([Parameter(value=-0.00026624000000000005, name='bilayer - b_tails_real', vary=False, bounds=Interval(lb=-np.inf, ub=np.inf), constraint=None), Parameter(value=0.0, name='upper_lipid_d2o - b_tails_imag', vary=False, bounds=Interval(lb=-np.inf, ub=np.inf), constraint=None)], name=''), Parameter(value=940.2, name='bilayer - volume_tails', vary=False, bounds=Interval(lb=-np.inf, ub=np.inf), constraint=None), Parameter(value=8.998606676842337, name='bilayer - thickness_tails', vary=True, bounds=Interval(lb=3, ub=9), constraint=None), Parameter(value=1.2941582964361764, name='bilayer - rough_top', vary=True, bounds=Interval(lb=0, ub=10), constraint=None), Parameter(value=1.2941582964361764, name='bilayer - rough_top', vary=True, bounds=Interval(lb=0, ub=10), constraint=None), head_solvent=SLD([Parameter(value=6.1172598862578, name='D2O - sld', vary=True, bounds=Interval(lb=3, ub=6.35), constraint=None), Parameter(value=0.0, name='D2O - isld', vary=False, bounds=Interval(lb=-np.inf, ub=np.inf), constraint=None)], name=''), tail_solvent=SLD([Parameter(value=6.1172598862578, name='D2O - sld', vary=True, bounds=Interval(lb=3, ub=6.35), constraint=None), Parameter(value=0.0, name='D2O - isld', vary=False, bounds=Interval(lb=-np.inf, ub=np.inf), constraint=None)], name=''), reverse_monolayer=False, name='upper_lipid_d2o')\n",
      "LipidLeaflet(Parameter(value=149.9318032204361, name='bilayer - area_per_molecule', vary=True, bounds=Interval(lb=60, ub=150), constraint=None), SLD([Parameter(value=0.0006292750000000001, name='bilayer - b_heads_real', vary=False, bounds=Interval(lb=-np.inf, ub=np.inf), constraint=None), Parameter(value=0.0, name='lower_lipid_d2o - b_heads_imag', vary=False, bounds=Interval(lb=-np.inf, ub=np.inf), constraint=None)], name=''), Parameter(value=331.0, name='bilayer - volume_heads', vary=False, bounds=Interval(lb=-np.inf, ub=np.inf), constraint=None), Parameter(value=11.921763859006374, name='bilayer - thickness_heads', vary=True, bounds=Interval(lb=9, ub=20), constraint=None), SLD([Parameter(value=-0.00026624000000000005, name='bilayer - b_tails_real', vary=False, bounds=Interval(lb=-np.inf, ub=np.inf), constraint=None), Parameter(value=0.0, name='lower_lipid_d2o - b_tails_imag', vary=False, bounds=Interval(lb=-np.inf, ub=np.inf), constraint=None)], name=''), Parameter(value=940.2, name='bilayer - volume_tails', vary=False, bounds=Interval(lb=-np.inf, ub=np.inf), constraint=None), Parameter(value=8.998606676842337, name='bilayer - thickness_tails', vary=True, bounds=Interval(lb=3, ub=9), constraint=None), Parameter(value=1.2941582964361764, name='bilayer - rough_top', vary=True, bounds=Interval(lb=0, ub=10), constraint=None), Parameter(value=1.2941582964361764, name='bilayer - rough_top', vary=True, bounds=Interval(lb=0, ub=10), constraint=None), head_solvent=SLD([Parameter(value=6.1172598862578, name='D2O - sld', vary=True, bounds=Interval(lb=3, ub=6.35), constraint=None), Parameter(value=0.0, name='D2O - isld', vary=False, bounds=Interval(lb=-np.inf, ub=np.inf), constraint=None)], name=''), tail_solvent=SLD([Parameter(value=6.1172598862578, name='D2O - sld', vary=True, bounds=Interval(lb=3, ub=6.35), constraint=None), Parameter(value=0.0, name='D2O - isld', vary=False, bounds=Interval(lb=-np.inf, ub=np.inf), constraint=None)], name=''), reverse_monolayer=True, name='lower_lipid_d2o')\n",
      "________________________________________________________________________________\n",
      "Parameters:      'D2O'     \n",
      "<Parameter:'thickness_solution', value=11.248 +/- 0.608, bounds=[6, 25]>\n",
      "<Parameter:  'D2O - sld'  , value=6.11726 +/- 0.00615, bounds=[3, 6.35]>\n",
      "<Parameter: 'D2O - isld'  , value=0 (fixed)  , bounds=[-inf, inf]>\n",
      "<Parameter:'rough_preceding_solution', value=4.53126 +/- 0.412, bounds=[0, 20]>\n",
      "<Parameter:'D2O - volfrac solvent', value=0 (fixed)  , bounds=[-inf, inf]>\n"
     ]
    }
   ],
   "source": [
    "print(structure_d2o)"
   ]
  },
  {
   "cell_type": "code",
   "execution_count": 21,
   "metadata": {
    "scrolled": true
   },
   "outputs": [
    {
     "name": "stdout",
     "output_type": "stream",
     "text": [
      "________________________________________________________________________________\n",
      "Structure: protein matched water\n",
      "solvent: None\n",
      "reverse structure: False\n",
      "contract: 0\n",
      "\n",
      "________________________________________________________________________________\n",
      "Parameters:      'Air'     \n",
      "<Parameter: 'Air - thick' , value=0 (fixed)  , bounds=[-inf, inf]>\n",
      "<Parameter:  'Air - sld'  , value=0 (fixed)  , bounds=[-inf, inf]>\n",
      "<Parameter: 'Air - isld'  , value=0 (fixed)  , bounds=[-inf, inf]>\n",
      "<Parameter: 'Air - rough' , value=0 (fixed)  , bounds=[-inf, inf]>\n",
      "<Parameter:'Air - volfrac solvent', value=0 (fixed)  , bounds=[-inf, inf]>\n",
      "________________________________________________________________________________\n",
      "Parameters: 'Protein Matched Water'\n",
      "<Parameter:'thickness_solution', value=11.248 +/- 0.608, bounds=[6, 25]>\n",
      "<Parameter:'Protein Matched Water - sld', value=1.50679 +/- 0.0348, bounds=[1.0, 3.0]>\n",
      "<Parameter:'Protein Matched Water - isld', value=0 (fixed)  , bounds=[-inf, inf]>\n",
      "<Parameter:'rough_preceding_solution', value=4.53126 +/- 0.412, bounds=[0, 20]>\n",
      "<Parameter:'Protein Matched Water - volfrac solvent', value=0 (fixed)  , bounds=[-inf, inf]>\n",
      "LipidLeaflet(Parameter(value=149.9318032204361, name='bilayer - area_per_molecule', vary=True, bounds=Interval(lb=60, ub=150), constraint=None), SLD([Parameter(value=0.0006292750000000001, name='bilayer - b_heads_real', vary=False, bounds=Interval(lb=-np.inf, ub=np.inf), constraint=None), Parameter(value=0.0, name='upper_lipid_pmw - b_heads_imag', vary=False, bounds=Interval(lb=-np.inf, ub=np.inf), constraint=None)], name=''), Parameter(value=331.0, name='bilayer - volume_heads', vary=False, bounds=Interval(lb=-np.inf, ub=np.inf), constraint=None), Parameter(value=11.921763859006374, name='bilayer - thickness_heads', vary=True, bounds=Interval(lb=9, ub=20), constraint=None), SLD([Parameter(value=-0.00026624000000000005, name='bilayer - b_tails_real', vary=False, bounds=Interval(lb=-np.inf, ub=np.inf), constraint=None), Parameter(value=0.0, name='upper_lipid_pmw - b_tails_imag', vary=False, bounds=Interval(lb=-np.inf, ub=np.inf), constraint=None)], name=''), Parameter(value=940.2, name='bilayer - volume_tails', vary=False, bounds=Interval(lb=-np.inf, ub=np.inf), constraint=None), Parameter(value=8.998606676842337, name='bilayer - thickness_tails', vary=True, bounds=Interval(lb=3, ub=9), constraint=None), Parameter(value=1.2941582964361764, name='bilayer - rough_top', vary=True, bounds=Interval(lb=0, ub=10), constraint=None), Parameter(value=1.2941582964361764, name='bilayer - rough_top', vary=True, bounds=Interval(lb=0, ub=10), constraint=None), head_solvent=SLD([Parameter(value=1.506785185305021, name='Protein Matched Water - sld', vary=True, bounds=Interval(lb=1.0, ub=3.0), constraint=None), Parameter(value=0.0, name='Protein Matched Water - isld', vary=False, bounds=Interval(lb=-np.inf, ub=np.inf), constraint=None)], name=''), tail_solvent=SLD([Parameter(value=1.506785185305021, name='Protein Matched Water - sld', vary=True, bounds=Interval(lb=1.0, ub=3.0), constraint=None), Parameter(value=0.0, name='Protein Matched Water - isld', vary=False, bounds=Interval(lb=-np.inf, ub=np.inf), constraint=None)], name=''), reverse_monolayer=False, name='upper_lipid_pmw')\n",
      "LipidLeaflet(Parameter(value=149.9318032204361, name='bilayer - area_per_molecule', vary=True, bounds=Interval(lb=60, ub=150), constraint=None), SLD([Parameter(value=0.0006292750000000001, name='bilayer - b_heads_real', vary=False, bounds=Interval(lb=-np.inf, ub=np.inf), constraint=None), Parameter(value=0.0, name='lower_lipid_pmw - b_heads_imag', vary=False, bounds=Interval(lb=-np.inf, ub=np.inf), constraint=None)], name=''), Parameter(value=331.0, name='bilayer - volume_heads', vary=False, bounds=Interval(lb=-np.inf, ub=np.inf), constraint=None), Parameter(value=11.921763859006374, name='bilayer - thickness_heads', vary=True, bounds=Interval(lb=9, ub=20), constraint=None), SLD([Parameter(value=-0.00026624000000000005, name='bilayer - b_tails_real', vary=False, bounds=Interval(lb=-np.inf, ub=np.inf), constraint=None), Parameter(value=0.0, name='lower_lipid_pmw - b_tails_imag', vary=False, bounds=Interval(lb=-np.inf, ub=np.inf), constraint=None)], name=''), Parameter(value=940.2, name='bilayer - volume_tails', vary=False, bounds=Interval(lb=-np.inf, ub=np.inf), constraint=None), Parameter(value=8.998606676842337, name='bilayer - thickness_tails', vary=True, bounds=Interval(lb=3, ub=9), constraint=None), Parameter(value=1.2941582964361764, name='bilayer - rough_top', vary=True, bounds=Interval(lb=0, ub=10), constraint=None), Parameter(value=1.2941582964361764, name='bilayer - rough_top', vary=True, bounds=Interval(lb=0, ub=10), constraint=None), head_solvent=SLD([Parameter(value=1.506785185305021, name='Protein Matched Water - sld', vary=True, bounds=Interval(lb=1.0, ub=3.0), constraint=None), Parameter(value=0.0, name='Protein Matched Water - isld', vary=False, bounds=Interval(lb=-np.inf, ub=np.inf), constraint=None)], name=''), tail_solvent=SLD([Parameter(value=1.506785185305021, name='Protein Matched Water - sld', vary=True, bounds=Interval(lb=1.0, ub=3.0), constraint=None), Parameter(value=0.0, name='Protein Matched Water - isld', vary=False, bounds=Interval(lb=-np.inf, ub=np.inf), constraint=None)], name=''), reverse_monolayer=True, name='lower_lipid_pmw')\n",
      "________________________________________________________________________________\n",
      "Parameters: 'Protein Matched Water'\n",
      "<Parameter:'thickness_solution', value=11.248 +/- 0.608, bounds=[6, 25]>\n",
      "<Parameter:'Protein Matched Water - sld', value=1.50679 +/- 0.0348, bounds=[1.0, 3.0]>\n",
      "<Parameter:'Protein Matched Water - isld', value=0 (fixed)  , bounds=[-inf, inf]>\n",
      "<Parameter:'rough_preceding_solution', value=4.53126 +/- 0.412, bounds=[0, 20]>\n",
      "<Parameter:'Protein Matched Water - volfrac solvent', value=0 (fixed)  , bounds=[-inf, inf]>\n"
     ]
    }
   ],
   "source": [
    "print(structure_pmw)"
   ]
  },
  {
   "cell_type": "code",
   "execution_count": 22,
   "metadata": {
    "scrolled": true
   },
   "outputs": [
    {
     "name": "stdout",
     "output_type": "stream",
     "text": [
      "________________________________________________________________________________\n",
      "Structure:      ACMW      \n",
      "solvent: None\n",
      "reverse structure: False\n",
      "contract: 0\n",
      "\n",
      "________________________________________________________________________________\n",
      "Parameters:      'Air'     \n",
      "<Parameter: 'Air - thick' , value=0 (fixed)  , bounds=[-inf, inf]>\n",
      "<Parameter:  'Air - sld'  , value=0 (fixed)  , bounds=[-inf, inf]>\n",
      "<Parameter: 'Air - isld'  , value=0 (fixed)  , bounds=[-inf, inf]>\n",
      "<Parameter: 'Air - rough' , value=0 (fixed)  , bounds=[-inf, inf]>\n",
      "<Parameter:'Air - volfrac solvent', value=0 (fixed)  , bounds=[-inf, inf]>\n",
      "________________________________________________________________________________\n",
      "Parameters:     'ACMW'     \n",
      "<Parameter:'thickness_solution', value=11.248 +/- 0.608, bounds=[6, 25]>\n",
      "<Parameter: 'ACMW - sld'  , value=-0.582363 +/- 0.0883, bounds=[-1, 1]>\n",
      "<Parameter: 'ACMW - isld' , value=0 (fixed)  , bounds=[-inf, inf]>\n",
      "<Parameter:'rough_preceding_solution', value=4.53126 +/- 0.412, bounds=[0, 20]>\n",
      "<Parameter:'ACMW - volfrac solvent', value=0 (fixed)  , bounds=[-inf, inf]>\n",
      "LipidLeaflet(Parameter(value=149.9318032204361, name='bilayer - area_per_molecule', vary=True, bounds=Interval(lb=60, ub=150), constraint=None), SLD([Parameter(value=0.0006292750000000001, name='bilayer - b_heads_real', vary=False, bounds=Interval(lb=-np.inf, ub=np.inf), constraint=None), Parameter(value=0.0, name='upper_lipid_acmw - b_heads_imag', vary=False, bounds=Interval(lb=-np.inf, ub=np.inf), constraint=None)], name=''), Parameter(value=331.0, name='bilayer - volume_heads', vary=False, bounds=Interval(lb=-np.inf, ub=np.inf), constraint=None), Parameter(value=11.921763859006374, name='bilayer - thickness_heads', vary=True, bounds=Interval(lb=9, ub=20), constraint=None), SLD([Parameter(value=-0.00026624000000000005, name='bilayer - b_tails_real', vary=False, bounds=Interval(lb=-np.inf, ub=np.inf), constraint=None), Parameter(value=0.0, name='upper_lipid_acmw - b_tails_imag', vary=False, bounds=Interval(lb=-np.inf, ub=np.inf), constraint=None)], name=''), Parameter(value=940.2, name='bilayer - volume_tails', vary=False, bounds=Interval(lb=-np.inf, ub=np.inf), constraint=None), Parameter(value=8.998606676842337, name='bilayer - thickness_tails', vary=True, bounds=Interval(lb=3, ub=9), constraint=None), Parameter(value=1.2941582964361764, name='bilayer - rough_top', vary=True, bounds=Interval(lb=0, ub=10), constraint=None), Parameter(value=1.2941582964361764, name='bilayer - rough_top', vary=True, bounds=Interval(lb=0, ub=10), constraint=None), head_solvent=SLD([Parameter(value=-0.5823627763241852, name='ACMW - sld', vary=True, bounds=Interval(lb=-1, ub=1), constraint=None), Parameter(value=0.0, name='ACMW - isld', vary=False, bounds=Interval(lb=-np.inf, ub=np.inf), constraint=None)], name=''), tail_solvent=SLD([Parameter(value=-0.5823627763241852, name='ACMW - sld', vary=True, bounds=Interval(lb=-1, ub=1), constraint=None), Parameter(value=0.0, name='ACMW - isld', vary=False, bounds=Interval(lb=-np.inf, ub=np.inf), constraint=None)], name=''), reverse_monolayer=False, name='upper_lipid_acmw')\n",
      "LipidLeaflet(Parameter(value=149.9318032204361, name='bilayer - area_per_molecule', vary=True, bounds=Interval(lb=60, ub=150), constraint=None), SLD([Parameter(value=0.0006292750000000001, name='bilayer - b_heads_real', vary=False, bounds=Interval(lb=-np.inf, ub=np.inf), constraint=None), Parameter(value=0.0, name='lower_lipid_acmw - b_heads_imag', vary=False, bounds=Interval(lb=-np.inf, ub=np.inf), constraint=None)], name=''), Parameter(value=331.0, name='bilayer - volume_heads', vary=False, bounds=Interval(lb=-np.inf, ub=np.inf), constraint=None), Parameter(value=11.921763859006374, name='bilayer - thickness_heads', vary=True, bounds=Interval(lb=9, ub=20), constraint=None), SLD([Parameter(value=-0.00026624000000000005, name='bilayer - b_tails_real', vary=False, bounds=Interval(lb=-np.inf, ub=np.inf), constraint=None), Parameter(value=0.0, name='lower_lipid_acmw - b_tails_imag', vary=False, bounds=Interval(lb=-np.inf, ub=np.inf), constraint=None)], name=''), Parameter(value=940.2, name='bilayer - volume_tails', vary=False, bounds=Interval(lb=-np.inf, ub=np.inf), constraint=None), Parameter(value=8.998606676842337, name='bilayer - thickness_tails', vary=True, bounds=Interval(lb=3, ub=9), constraint=None), Parameter(value=1.2941582964361764, name='bilayer - rough_top', vary=True, bounds=Interval(lb=0, ub=10), constraint=None), Parameter(value=1.2941582964361764, name='bilayer - rough_top', vary=True, bounds=Interval(lb=0, ub=10), constraint=None), head_solvent=SLD([Parameter(value=-0.5823627763241852, name='ACMW - sld', vary=True, bounds=Interval(lb=-1, ub=1), constraint=None), Parameter(value=0.0, name='ACMW - isld', vary=False, bounds=Interval(lb=-np.inf, ub=np.inf), constraint=None)], name=''), tail_solvent=SLD([Parameter(value=-0.5823627763241852, name='ACMW - sld', vary=True, bounds=Interval(lb=-1, ub=1), constraint=None), Parameter(value=0.0, name='ACMW - isld', vary=False, bounds=Interval(lb=-np.inf, ub=np.inf), constraint=None)], name=''), reverse_monolayer=True, name='lower_lipid_acmw')\n",
      "________________________________________________________________________________\n",
      "Parameters:     'ACMW'     \n",
      "<Parameter:'thickness_solution', value=11.248 +/- 0.608, bounds=[6, 25]>\n",
      "<Parameter: 'ACMW - sld'  , value=-0.582363 +/- 0.0883, bounds=[-1, 1]>\n",
      "<Parameter: 'ACMW - isld' , value=0 (fixed)  , bounds=[-inf, inf]>\n",
      "<Parameter:'rough_preceding_solution', value=4.53126 +/- 0.412, bounds=[0, 20]>\n",
      "<Parameter:'ACMW - volfrac solvent', value=0 (fixed)  , bounds=[-inf, inf]>\n"
     ]
    }
   ],
   "source": [
    "print(structure_acmw)"
   ]
  },
  {
   "cell_type": "code",
   "execution_count": 23,
   "metadata": {},
   "outputs": [
    {
     "name": "stdout",
     "output_type": "stream",
     "text": [
      "[[0.00000000e+00 0.00000000e+00 0.00000000e+00 0.00000000e+00\n",
      "  0.00000000e+00]\n",
      " [1.12480480e+01 6.11725989e+00 0.00000000e+00 4.53126243e+00\n",
      "  0.00000000e+00]\n",
      " [1.19217639e+01 4.07527256e-01 1.13583796e-08 1.29415830e+00\n",
      "  0.00000000e+00]\n",
      " [8.99860668e+00 2.22795907e-01 1.00696488e-11 1.29415830e+00\n",
      "  0.00000000e+00]\n",
      " [8.99860668e+00 2.22795907e-01 1.00696488e-11 1.29415830e+00\n",
      "  0.00000000e+00]\n",
      " [1.19217639e+01 4.07527256e-01 1.13583796e-08 1.29415830e+00\n",
      "  0.00000000e+00]\n",
      " [1.12480480e+01 6.11725989e+00 0.00000000e+00 4.53126243e+00\n",
      "  0.00000000e+00]]\n"
     ]
    }
   ],
   "source": [
    "print(structure_d2o.slabs())"
   ]
  },
  {
   "cell_type": "code",
   "execution_count": 24,
   "metadata": {},
   "outputs": [
    {
     "name": "stdout",
     "output_type": "stream",
     "text": [
      "[[0.00000000e+00 0.00000000e+00 0.00000000e+00 0.00000000e+00\n",
      "  0.00000000e+00]\n",
      " [1.12480480e+01 1.50678519e+00 0.00000000e+00 4.53126243e+00\n",
      "  0.00000000e+00]\n",
      " [1.19217639e+01 3.70923107e-01 1.13583796e-08 1.29415830e+00\n",
      "  0.00000000e+00]\n",
      " [8.99860668e+00 1.28273025e-01 1.00696488e-11 1.29415830e+00\n",
      "  0.00000000e+00]\n",
      " [8.99860668e+00 1.28273025e-01 1.00696488e-11 1.29415830e+00\n",
      "  0.00000000e+00]\n",
      " [1.19217639e+01 3.70923107e-01 1.13583796e-08 1.29415830e+00\n",
      "  0.00000000e+00]\n",
      " [1.12480480e+01 1.50678519e+00 0.00000000e+00 4.53126243e+00\n",
      "  0.00000000e+00]]\n"
     ]
    }
   ],
   "source": [
    "print(structure_pmw.slabs())"
   ]
  },
  {
   "cell_type": "code",
   "execution_count": 25,
   "metadata": {},
   "outputs": [
    {
     "name": "stdout",
     "output_type": "stream",
     "text": [
      "[[ 0.00000000e+00  0.00000000e+00  0.00000000e+00  0.00000000e+00\n",
      "   0.00000000e+00]\n",
      " [ 1.12480480e+01 -5.82362776e-01  0.00000000e+00  4.53126243e+00\n",
      "   0.00000000e+00]\n",
      " [ 1.19217639e+01  3.54336641e-01  1.13583796e-08  1.29415830e+00\n",
      "   0.00000000e+00]\n",
      " [ 8.99860668e+00  8.54417993e-02  1.00696488e-11  1.29415830e+00\n",
      "   0.00000000e+00]\n",
      " [ 8.99860668e+00  8.54417993e-02  1.00696488e-11  1.29415830e+00\n",
      "   0.00000000e+00]\n",
      " [ 1.19217639e+01  3.54336641e-01  1.13583796e-08  1.29415830e+00\n",
      "   0.00000000e+00]\n",
      " [ 1.12480480e+01 -5.82362776e-01  0.00000000e+00  4.53126243e+00\n",
      "   0.00000000e+00]]\n"
     ]
    }
   ],
   "source": [
    "print(structure_acmw.slabs())"
   ]
  },
  {
   "cell_type": "code",
   "execution_count": 26,
   "metadata": {},
   "outputs": [],
   "source": [
    "if choose==2:\n",
    "    # span = [(0,5000),(0,1.5),(0,0.4),(-10**3,10**3)] #span=span\n",
    "    fig, axes = dyplot.runplot(res1, color='black', mark_final_live=False,\n",
    "                               logplot=False)"
   ]
  },
  {
   "cell_type": "code",
   "execution_count": 27,
   "metadata": {},
   "outputs": [],
   "source": [
    "if choose==2:\n",
    "    print(-min(res1[\"logvol\"])) # ?"
   ]
  },
  {
   "cell_type": "code",
   "execution_count": 28,
   "metadata": {},
   "outputs": [
    {
     "data": {
      "text/plain": [
       "[['scale', 0.5527605750435631],\n",
       " ['bkg', 1.15437092805684e-06],\n",
       " ['thickness_solution', 11.248047994612758],\n",
       " ['D2O - sld', 6.1172598862578],\n",
       " ['rough_preceding_solution', 4.5312624282971425],\n",
       " ['bilayer - area_per_molecule', 149.9318032204361],\n",
       " ['bilayer - thickness_heads', 11.921763859006374],\n",
       " ['bilayer - thickness_tails', 8.998606676842337],\n",
       " ['bilayer - rough_top', 1.2941582964361764],\n",
       " ['bilayer - Waters Per Head', 5.1070239511587046],\n",
       " ['bilayer - Waters Per Tail', 0.021284438509442616],\n",
       " ['bilayer - ratio protein to bilayer', 0.7497655370738985],\n",
       " ['scale', 0.9804172192156495],\n",
       " ['bkg', 4.116574807301193e-06],\n",
       " ['Protein Matched Water - sld', 1.506785185305021],\n",
       " ['scale', 0.25085460333713727],\n",
       " ['bkg', 2.8225373300438977e-06],\n",
       " ['ACMW - sld', -0.5823627763241852]]"
      ]
     },
     "execution_count": 28,
     "metadata": {},
     "output_type": "execute_result"
    }
   ],
   "source": [
    "#gobjective.varying_parameters()\n",
    "[[param.name,param.value] for param in gobjective.varying_parameters()]"
   ]
  },
  {
   "cell_type": "markdown",
   "metadata": {},
   "source": [
    "I believe correct values, leaflet roughness between head and tail is the same as the roughness preceeding the leaflet\\\n",
    "class used is a modified version of the LipidLeaflet class native to refnx, its in the file\\\n",
    "\"protein\" and called \"LipidLeafletWithProtien\"\\\n",
    "volumes of head and tails are indirectly varied by changes in waters per head/tail\\\n",
    "so the tails do not change volume\\\n",
    "1 'scale',\\\n",
    "2 'bkg',\\\n",
    "3 'mono, dodab - area_per_molecule',\\\n",
    "4 'mono, dodab - thickness heads',\\\n",
    "5 'mono, dodab - thickness_tails',\\\n",
    "6 'mono, dodab - roughness',\\\n",
    "7 'mono, dodab - D2O in head - sld',\\\n",
    "8 'mono, dodab Waters Per Head',\\\n",
    "9 'D2O - sld',\\\n",
    "10 'bilayer - area_per_molecule',\\\n",
    "11 'bilayer - thickness_heads',\\\n",
    "12 'bilayer - thickness_tails',\\\n",
    "13 'bilayer - rough_top',\\\n",
    "14 'D2O in bilayer - sld',\\\n",
    "15 'bilayer Waters Per Head',\\\n",
    "16 'scale',\\\n",
    "17 'bkg',\\\n",
    "18 'mono, dodab - Protein Matched Water in head - sld',\\\n",
    "19 'Protein Matched Water - sld',\\\n",
    "20 'bilayer - rough_bot',\\\n",
    "21 'Protein Matched Water in bilayer - sld'"
   ]
  },
  {
   "cell_type": "code",
   "execution_count": 29,
   "metadata": {
    "scrolled": false
   },
   "outputs": [],
   "source": [
    "if choose==2:\n",
    "    labels = [param.name for param in gobjective.varying_parameters()]\n",
    "\n",
    "    fig, axes = dyplot.traceplot(res1, labels = labels, #truths=np.zeros(fitter.nDim()),\n",
    "                                 show_titles=True, trace_cmap='plasma',\n",
    "                                 quantiles=[0.025, 0.5, 0.975])\n",
    "    fig.tight_layout()"
   ]
  },
  {
   "cell_type": "code",
   "execution_count": 30,
   "metadata": {},
   "outputs": [],
   "source": [
    "if choose==2:\n",
    "    labels = [param.name for param in gobjective.varying_parameters()]\n",
    "\n",
    "    fig, axes = dyplot.cornerpoints(res1, labels = labels#, #truths=np.zeros(fitter.nDim()),\n",
    "                                 #show_titles=True,\n",
    "                                 #trace_cmap='plasma',\n",
    "                                 #quantiles=[0.025, 0.5, 0.975]\n",
    "                                   )\n",
    "    fig.tight_layout()"
   ]
  }
 ],
 "metadata": {
  "kernelspec": {
   "display_name": "Python 3",
   "language": "python",
   "name": "python3"
  },
  "language_info": {
   "codemirror_mode": {
    "name": "ipython",
    "version": 3
   },
   "file_extension": ".py",
   "mimetype": "text/x-python",
   "name": "python",
   "nbconvert_exporter": "python",
   "pygments_lexer": "ipython3",
   "version": "3.7.3"
  }
 },
 "nbformat": 4,
 "nbformat_minor": 2
}
