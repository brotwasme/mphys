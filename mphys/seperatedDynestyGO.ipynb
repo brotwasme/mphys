{
 "cells": [
  {
   "cell_type": "markdown",
   "metadata": {},
   "source": [
    "all plots of interest for fitting models of 1-4 layers to data of a 3 layer model."
   ]
  },
  {
   "cell_type": "markdown",
   "metadata": {},
   "source": [
    "for each above has no limit on max thickness\\\n",
    "below has a limits of punishish ing the fitting of total thickness > 350 (for the varying slabs)"
   ]
  },
  {
   "cell_type": "code",
   "execution_count": 1,
   "metadata": {},
   "outputs": [
    {
     "name": "stdout",
     "output_type": "stream",
     "text": [
      "refnx: 0.1.9\n",
      "scipy: 1.3.0\n",
      "numpy: 1.16.4\n",
      "refnx: 0.1.9\n",
      "scipy: 1.3.0\n",
      "numpy: 1.16.4\n"
     ]
    }
   ],
   "source": [
    "import os.path\n",
    "import numpy as np\n",
    "import matplotlib.pyplot as plt\n",
    "import scipy\n",
    "import refnx\n",
    "from refnx.dataset import ReflectDataset, Data1D\n",
    "from refnx.analysis import Transform, CurveFitter, Objective, Model, Parameter\n",
    "from refnx.reflect import SLD, Slab, ReflectModel\n",
    "from sepObjectiveGO import getObjective as gO\n",
    "from dynesty import DynamicNestedSampler\n",
    "from dynesty import plotting as dyplot\n",
    "from CFitter import CFitter\n",
    "import make_sim_data as msd\n",
    "print('refnx: %s\\nscipy: %s\\nnumpy: %s' % (refnx.version.version,\n",
    "                   scipy.version.version, np.version.version))\n"
   ]
  },
  {
   "cell_type": "code",
   "execution_count": 2,
   "metadata": {},
   "outputs": [],
   "source": [
    "def aPlotter(res, interestingNo, spacesize, figI):\n",
    "    print(figI)\n",
    "    # no = -1000\n",
    "    # slc = slice(no-1000,no)\n",
    "    useAbleLow=0.1\n",
    "    useAbleHigh=10.\n",
    "    xall=np.linspace(0,spacesize,len(res[\"logz\"]))\n",
    "    print(\"len\",len(res[\"logz\"]), \"space size\", spacesize)\n",
    "    useable=np.transpose(np.array([[x,y] for y,x in zip(res[\"logz\"],xall) if np.exp(y)>useAbleLow and np.exp(y)<=useAbleHigh]))\n",
    "    # print(len(res[\"logz\"]),res[\"logz\"][slc])#summary()\n",
    "    interesting = np.transpose(np.array([[x,y] for y,x in zip(res[\"logz\"],xall) if x>=float(interestingNo)]))#.reshape((2,-2))\n",
    "#     print(\"len 2\", len(interesting[0]), len(interesting), interesting[0,:3])\n",
    "    print(\"logz max: \",max(res[\"logz\"]),\",min: \",min(res[\"logz\"]))\n",
    "    print(\"z max: \",max(np.exp(res[\"logz\"])),\",min: \",min(np.exp(res[\"logz\"])))\n",
    "#     print(res[\"logz\"][:5],interesting[1,:5],useable[1,:5])\n",
    "    # print(\"interesting\")\n",
    "#     xall=np.linspace(0,spacesize,len(res[\"logz\"]))\n",
    "#     xusable=np.linspace(0,spacesize,len(useable))\n",
    "    plt.figure(figI)\n",
    "    figI+=1\n",
    "    if len(useable)>=2:\n",
    "        n_plots = 3\n",
    "    else:\n",
    "        n_plots = 2\n",
    "    plt.subplot(1, n_plots, 1)\n",
    "    plt.plot(xall,res[\"logz\"])\n",
    "    if any([lnz<=0 for lnz in res[\"logz\"]]):\n",
    "        plt.title(\"ln(evidence)\\n not log scaled vs -ln(X)\")\n",
    "        plt.plot(xall, [0 for value in xall], label=\"ln(evidence)=0\", alpha=0.4,linestyle=\"--\")\n",
    "    else:\n",
    "        plt.title(\"ln(evidence)\\n log scaled vs -ln(X)\")\n",
    "        plt.yscale(\"log\")\n",
    "    plt.xlabel(\"-ln(X)\")\n",
    "    plt.ylabel(\"ln(evidence)\")\n",
    "#     plt.figure(figI)\n",
    "#     figI+=1\n",
    "    plt.subplot(1, n_plots, 2)\n",
    "    plt.plot(interesting[0],interesting[1])\n",
    "    plt.title(\"interesting values\\n ln(evidence)\\n\"+r\" vs -ln(X) $\\geq %d$\" % interestingNo)\n",
    "    plt.xlabel(\"-ln(X)\")\n",
    "    plt.ylabel(\"ln(evidence)\")\n",
    "    if len(useable)>=2:\n",
    "        plt.subplot(1, n_plots, 3)\n",
    "        plt.plot(useable[0],useable[1])\n",
    "        plt.title(\"usful values\\n\"+r\"ln(%.3f<evidence $\\leq$ %.3f) vs -ln(X)\"%(useAbleLow,useAbleHigh))\n",
    "        plt.xlabel(\"-ln(X)\")\n",
    "        plt.ylabel(\"ln(evidence)\")\n",
    "    else:\n",
    "        print(\"not enough 'usable' data points\")\n",
    "    print(figI)\n",
    "    plt.tight_layout()\n",
    "    return figI"
   ]
  },
  {
   "cell_type": "code",
   "execution_count": 3,
   "metadata": {},
   "outputs": [],
   "source": [
    "# def min_interesting_lnX(res):\n",
    "#     returns = None\n",
    "# #     returns = min([-lnX for lnX, wt in zip(res[\"logvol\"], np.exp(res['logwt'] - res['logz'][-1])) if wt>0])\n",
    "#     returns = [(-lnX,wt) for lnX, wt in zip(res[\"logvol\"], np.exp(res['logwt'] - res['logz'][-1])) if wt>0.001]\n",
    "#     return returns\n",
    "\n",
    "def min_interesting_lnX(res):\n",
    "    returns = None\n",
    "    for lnX, logz in zip(res[\"logvol\"], res['logz']):\n",
    "        if logz >= 0.:\n",
    "            break\n",
    "        else:\n",
    "            returns = -lnX\n",
    "#     returns = min([-lnX for lnX, wt in zip(res[\"logvol\"], np.exp(res['logwt'] - res['logz'][-1])) if wt>0])\n",
    "    return returns\n",
    "\n",
    "maxLength = 350\n",
    "def logp_extra(model, data=None):\n",
    "    returns = 0\n",
    "    if sum(model.structure.slabs()[1:-1,0])>maxLength:\n",
    "        returns = -np.inf\n",
    "    return returns"
   ]
  },
  {
   "cell_type": "code",
   "execution_count": 4,
   "metadata": {},
   "outputs": [
    {
     "name": "stdout",
     "output_type": "stream",
     "text": [
      "done\n"
     ]
    }
   ],
   "source": [
    "figI = 0\n",
    "# simple structure\n",
    "thicks_true = [10,120,100,130,10]\n",
    "bs_true = [0,5,4.5,5,10]\n",
    "roughs_true = [0,0,0,0,0]\n",
    "# bs = [5,4.5,5]\n",
    "# thicks = [120,100,130]\n",
    "# roughs = [0,0,0]\n",
    "bs = bs_true\n",
    "thicks = thicks_true\n",
    "roughs = roughs_true\n",
    "loss = 1.\n",
    "no_layers = len(bs)\n",
    "# no_layers = len(bs_true)\n",
    "# no_layers = 3\n",
    "layers1 = []\n",
    "layers2 = []\n",
    "names = []\n",
    "#names = ['layer1','layer2']\n",
    "contrast_layer = 1\n",
    "bs_contrast_layer = 6\n",
    "thicks_contrast_layer=Parameter(thicks[contrast_layer],\n",
    "                                \"layer1 thickness\")\n",
    "roughs_contrast_layer=Parameter(roughs[contrast_layer],\n",
    "                                \"layer0/contrast roughness\")\n",
    "for i in range(no_layers):\n",
    "    names.append('layer'+str(i))\n",
    "for i in range(no_layers):\n",
    "    if i != contrast_layer:\n",
    "        sld = SLD(bs[i],name=names[i])\n",
    "        sld = sld(thicks[i],roughs[i])\n",
    "        layers1.append(sld)\n",
    "        layers2.append(sld)\n",
    "    else:\n",
    "        sld1 = SLD(bs[i],name=names[i]+\" contrast a\")\n",
    "        sld1 = sld1(thicks_contrast_layer,roughs_contrast_layer)\n",
    "        sld2 = SLD(bs_contrast_layer,name=names[i]+\" contrast b\")\n",
    "        sld2 = sld2(thicks_contrast_layer,roughs_contrast_layer)\n",
    "        layers1.append(sld1)\n",
    "        layers2.append(sld2)\n",
    "\n",
    "structure1 = layers1[0]\n",
    "for layer in layers1[1:]:\n",
    "    structure1|=layer\n",
    "\n",
    "structure2 = layers2[0]\n",
    "for layer in layers2[1:]:\n",
    "    structure2|=layer\n",
    "print(\"done\")"
   ]
  },
  {
   "cell_type": "code",
   "execution_count": 5,
   "metadata": {
    "scrolled": false
   },
   "outputs": [
    {
     "name": "stdout",
     "output_type": "stream",
     "text": [
      "done\n"
     ]
    },
    {
     "data": {
      "image/png": "[encoded data removed]",
      "text/plain": [
       "<Figure size 684x432 with 1 Axes>"
      ]
     },
     "metadata": {
      "needs_background": "light"
     },
     "output_type": "display_data"
    },
    {
     "data": {
      "image/png": "[encoded data removed]",
      "text/plain": [
       "<Figure size 684x432 with 1 Axes>"
      ]
     },
     "metadata": {
      "needs_background": "light"
     },
     "output_type": "display_data"
    }
   ],
   "source": [
    "%matplotlib inline\n",
    "plt.rcParams['figure.figsize'] = [9.5, 6]\n",
    "plt.figure(figI)\n",
    "figI+=1\n",
    "plt.plot(*structure1.sld_profile())\n",
    "plt.ylabel('SLD /$10^{-6} \\AA^{-2}$')\n",
    "plt.xlabel('distance / $\\AA$');\n",
    "\n",
    "plt.figure(figI)\n",
    "figI+=1\n",
    "plt.plot(*structure2.sld_profile())\n",
    "plt.ylabel('SLD /$10^{-6} \\AA^{-2}$')\n",
    "plt.xlabel('distance / $\\AA$');\n",
    "print(\"done\")"
   ]
  },
  {
   "cell_type": "code",
   "execution_count": 6,
   "metadata": {},
   "outputs": [],
   "source": [
    "resolution = 5.\n",
    "model1 = ReflectModel(structure1, bkg=3e-6, dq=resolution)\n",
    "model2 = ReflectModel(structure2, bkg=3e-6, dq=resolution)"
   ]
  },
  {
   "cell_type": "code",
   "execution_count": 7,
   "metadata": {},
   "outputs": [
    {
     "name": "stdout",
     "output_type": "stream",
     "text": [
      "csv\n",
      "cvs-collecting\n",
      "out  [3.47819830e+02 8.77904741e+01 3.20810699e+03 9.49732939e-37\n",
      " 1.65307010e-05] \n",
      "var:  [[1.76447440e+01 1.39762075e+02 1.90993913e+00 2.55098590e+04\n",
      "  6.99628049e-05]\n",
      " [1.39762075e+02 1.10704093e+03 1.51284720e+01 2.01610925e+05\n",
      "  5.54070662e-04]\n",
      " [1.90993913e+00 1.51284720e+01 2.06742813e-01 2.73481708e+03\n",
      "  7.56735044e-06]\n",
      " [2.55098590e+04 2.01610925e+05 2.73481708e+03 2.55670288e+08\n",
      "  1.48331018e-01]\n",
      " [6.99628049e-05 5.54070662e-04 7.56735044e-06 1.48331018e-01\n",
      "  2.92147690e-10]]\n",
      "csv\n",
      "cvs-collecting\n",
      "out  [3.47819830e+02 8.77904741e+01 3.20810699e+03 9.49732939e-37\n",
      " 1.65307010e-05] \n",
      "var:  [[1.76447440e+01 1.39762075e+02 1.90993913e+00 2.55098590e+04\n",
      "  6.99628049e-05]\n",
      " [1.39762075e+02 1.10704093e+03 1.51284720e+01 2.01610925e+05\n",
      "  5.54070662e-04]\n",
      " [1.90993913e+00 1.51284720e+01 2.06742813e-01 2.73481708e+03\n",
      "  7.56735044e-06]\n",
      " [2.55098590e+04 2.01610925e+05 2.73481708e+03 2.55670288e+08\n",
      "  1.48331018e-01]\n",
      " [6.99628049e-05 5.54070662e-04 7.56735044e-06 1.48331018e-01\n",
      "  2.92147690e-10]]\n"
     ]
    },
    {
     "data": {
      "text/plain": [
       "<ErrorbarContainer object of 3 artists>"
      ]
     },
     "execution_count": 7,
     "metadata": {},
     "output_type": "execute_result"
    },
    {
     "data": {
      "image/png": "[encoded data removed]",
      "text/plain": [
       "<Figure size 684x432 with 1 Axes>"
      ]
     },
     "metadata": {
      "needs_background": "light"
     },
     "output_type": "display_data"
    },
    {
     "data": {
      "image/png": "[encoded data removed]",
      "text/plain": [
       "<Figure size 684x432 with 1 Axes>"
      ]
     },
     "metadata": {
      "needs_background": "light"
     },
     "output_type": "display_data"
    }
   ],
   "source": [
    "q = np.linspace(0.005, 0.3, 70)# was 1001 no 70\n",
    "plt.figure(figI)\n",
    "figI+=1\n",
    "R1 = model1(q, x_err=resolution)\n",
    "plt.plot(q, R1)\n",
    "plt.xlabel('Q')\n",
    "plt.ylabel('Reflectivity')\n",
    "plt.yscale('log')\n",
    "sim_dR1 = msd.main(sim_q=q,sim_R=R1)*10\n",
    "plt.errorbar(q,R1,sim_dR1, alpha=0.4)\n",
    "\n",
    "q = np.linspace(0.005, 0.3, 70)# was 1001 no 70\n",
    "plt.figure(figI)\n",
    "figI+=1\n",
    "R2 = model2(q, x_err=resolution)\n",
    "plt.plot(q, R2)\n",
    "plt.xlabel('Q')\n",
    "plt.ylabel('Reflectivity')\n",
    "plt.yscale('log')\n",
    "sim_dR2 = msd.main(sim_q=q,sim_R=R2)*10\n",
    "plt.errorbar(q,R2,sim_dR2, alpha=0.4)"
   ]
  },
  {
   "cell_type": "code",
   "execution_count": 8,
   "metadata": {},
   "outputs": [],
   "source": [
    "data = [Data1D(data= (q,R1,sim_dR1)),Data1D(data= (q,R2,sim_dR2))]"
   ]
  },
  {
   "cell_type": "code",
   "execution_count": 9,
   "metadata": {},
   "outputs": [],
   "source": [
    "# # from sepObjective import getObjective as gO\n",
    "# objective = gO(data, 3)\n",
    "# # from CFitter import CFitter\n",
    "# # def ex\n",
    "# fitter = CFitter(objective)\n",
    "# # from dynesty import DynamicNestedSampler\n",
    "# DNSampler = DynamicNestedSampler(fitter.logl, fitter.priorTransform, fitter.nDim())\n",
    "# DNSampler.run_nested(dlogz_init=0.01)\n",
    "# res = DNSampler.results # 07:18 mins\n"
   ]
  },
  {
   "cell_type": "code",
   "execution_count": 10,
   "metadata": {},
   "outputs": [],
   "source": [
    "# res.summary()"
   ]
  },
  {
   "cell_type": "markdown",
   "metadata": {},
   "source": [
    "summary() doesnt seem useable for dynamic sampling.\\\n",
    "MultiEllipsoidSamplerSamples conditioned on the union of multiple (possibly overlapping) ellipsoids used to bound the set of live points."
   ]
  },
  {
   "cell_type": "code",
   "execution_count": null,
   "metadata": {},
   "outputs": [],
   "source": []
  },
  {
   "cell_type": "markdown",
   "metadata": {},
   "source": [
    "calculation is taking ln(z) = ln(evidence) and taking the exponent"
   ]
  },
  {
   "cell_type": "code",
   "execution_count": 11,
   "metadata": {},
   "outputs": [],
   "source": [
    "# fig, ax = objective.plot()\n",
    "# figI+=1\n",
    "# plt.figure(figI)\n",
    "# figI+=1\n",
    "# plt.plot(*structure.sld_profile())\n",
    "# plt.ylabel('SLD /$10^{-6} \\AA^{-2}$')\n",
    "# plt.xlabel('distance / $\\AA$');"
   ]
  },
  {
   "cell_type": "code",
   "execution_count": 12,
   "metadata": {},
   "outputs": [],
   "source": [
    "# span = [(0,5000),(0,1.5),(0,0.4),(10**0,10**1)]\n",
    "# fig, axes = dyplot.runplot(res,span=span, color='black', mark_final_live=False,\n",
    "#                            logplot=False)\n",
    "# fig.tight_layout()"
   ]
  },
  {
   "cell_type": "code",
   "execution_count": 13,
   "metadata": {},
   "outputs": [],
   "source": [
    "# figI = aPlotter(res, 19, 35, figI)"
   ]
  },
  {
   "cell_type": "code",
   "execution_count": 14,
   "metadata": {},
   "outputs": [],
   "source": [
    "# fig, axes = dyplot.traceplot(res, truths=np.zeros(fitter.nDim()),\n",
    "#                              show_titles=True, trace_cmap='plasma',\n",
    "#                              quantiles=None,\n",
    "#                            logplot=False)\n",
    "# fig.tight_layout()"
   ]
  },
  {
   "cell_type": "code",
   "execution_count": null,
   "metadata": {},
   "outputs": [],
   "source": []
  },
  {
   "cell_type": "markdown",
   "metadata": {},
   "source": [
    "## 1 layered"
   ]
  },
  {
   "cell_type": "code",
   "execution_count": null,
   "metadata": {
    "scrolled": true
   },
   "outputs": [
    {
     "name": "stdout",
     "output_type": "stream",
     "text": [
      "GlobalObjective and 2 structures\n"
     ]
    },
    {
     "name": "stderr",
     "output_type": "stream",
     "text": [
      "5809it [02:34, 50.93it/s, batch: 0 | bound: 22 | nc: 3 | ncall: 32657 | eff(%): 17.520 | loglstar:   -inf < -5100.892 <    inf | logz: -5116.905 +/-  0.246 | dlogz: 251.503 >  0.050]  "
     ]
    }
   ],
   "source": [
    "objective1, structure11, structure12 = gO(data, 1, both=True, globalObjective=True) # was 06:09 now 0:36\n",
    "fitter = CFitter(objective1)\n",
    "DNSampler = DynamicNestedSampler(fitter.logl, fitter.priorTransform, fitter.nDim())\n",
    "DNSampler.run_nested(dlogz_init=0.05) # was 0.01\n",
    "res11 = DNSampler.results\n",
    "\n",
    "objective2, structure21, structure22 = gO(data, 1,\n",
    "                 logpExtra=logp_extra, both=True, globalObjective=True)\n",
    "fitter = CFitter(objective2)\n",
    "DNSampler = DynamicNestedSampler(fitter.logl, fitter.priorTransform, fitter.nDim())\n",
    "DNSampler.run_nested(dlogz_init=0.05) # was 0.01\n",
    "res12 = DNSampler.results"
   ]
  },
  {
   "cell_type": "markdown",
   "metadata": {},
   "source": [
    "previous\\\n",
    "21713it [04:36, 78.66it/s, batch: 9 | bound: 66 | nc: 1 | ncall: 64560 | eff(%): 33.632 | loglstar: -1811.602 < -1805.361 < -1805.882 | logz: -1818.340 +/-  0.211 | stop:  0.955]\\\n",
    "pre previous\\\n",
    "25968it [06:09, 70.27it/s, batch: 10 | bound: 81 | nc: 1 | ncall: 75806 | eff(%): 34.256 | loglstar: -44363.849 < -44357.543 < -44357.955 | logz: -44375.162 +/-  0.250 | stop:  0.975] "
   ]
  },
  {
   "cell_type": "code",
   "execution_count": null,
   "metadata": {},
   "outputs": [],
   "source": [
    "fig, ax = objective1.plot()\n",
    "figI+=1\n",
    "plt.figure(figI)\n",
    "figI+=1\n",
    "plt.plot(*structure11.sld_profile())\n",
    "plt.ylabel('SLD /$10^{-6} \\AA^{-2}$')\n",
    "plt.xlabel('distance / $\\AA$');\n",
    "plt.figure(figI)\n",
    "figI+=1\n",
    "plt.plot(*structure12.sld_profile())\n",
    "plt.ylabel('SLD /$10^{-6} \\AA^{-2}$')\n",
    "plt.xlabel('distance / $\\AA$');\n",
    "\n",
    "fig, ax = objective2.plot()\n",
    "figI+=1\n",
    "plt.figure(figI)\n",
    "figI+=1\n",
    "plt.plot(*structure21.sld_profile())\n",
    "plt.ylabel('SLD /$10^{-6} \\AA^{-2}$')\n",
    "plt.xlabel('distance / $\\AA$');\n",
    "plt.figure(figI)\n",
    "figI+=1\n",
    "plt.plot(*structure22.sld_profile())\n",
    "plt.ylabel('SLD /$10^{-6} \\AA^{-2}$')\n",
    "plt.xlabel('distance / $\\AA$');"
   ]
  },
  {
   "cell_type": "markdown",
   "metadata": {},
   "source": [
    "previous failed, fitting two at once"
   ]
  },
  {
   "cell_type": "code",
   "execution_count": null,
   "metadata": {
    "scrolled": false
   },
   "outputs": [],
   "source": [
    "fig, ax = objective1.plot()\n",
    "figI+=1\n",
    "plt.figure(figI)\n",
    "figI+=1\n",
    "plt.plot(*structure11.sld_profile())\n",
    "plt.ylabel('SLD /$10^{-6} \\AA^{-2}$')\n",
    "plt.xlabel('distance / $\\AA$');\n",
    "plt.figure(figI)\n",
    "figI+=1\n",
    "plt.plot(*structure12.sld_profile())\n",
    "plt.ylabel('SLD /$10^{-6} \\AA^{-2}$')\n",
    "plt.xlabel('distance / $\\AA$');\n",
    "\n",
    "fig, ax = objective2.plot()\n",
    "figI+=1\n",
    "plt.figure(figI)\n",
    "figI+=1\n",
    "plt.plot(*structure21.sld_profile())\n",
    "plt.ylabel('SLD /$10^{-6} \\AA^{-2}$')\n",
    "plt.xlabel('distance / $\\AA$');\n",
    "plt.figure(figI)\n",
    "figI+=1\n",
    "plt.plot(*structure22.sld_profile())\n",
    "plt.ylabel('SLD /$10^{-6} \\AA^{-2}$')\n",
    "plt.xlabel('distance / $\\AA$');"
   ]
  },
  {
   "cell_type": "code",
   "execution_count": null,
   "metadata": {},
   "outputs": [],
   "source": [
    "span = [(0,5000),(0,1.5),(0,0.4),(-10**1,10**1)]\n",
    "fig, axes = dyplot.runplot(res11,span=span, color='black', mark_final_live=False,\n",
    "                           logplot=False)\n",
    "fig.tight_layout()\n",
    "\n",
    "span = [(0,5000),(0,1.5),(0,0.4),(-10**1,10**1)]\n",
    "fig, axes = dyplot.runplot(res12,span=span, color='black', mark_final_live=False,\n",
    "                           logplot=False)\n",
    "fig.tight_layout()"
   ]
  },
  {
   "cell_type": "code",
   "execution_count": null,
   "metadata": {},
   "outputs": [],
   "source": [
    "print(\"limit for interesting values from ln(evidence) >= 0\")\n",
    "figI = aPlotter(res11, min_interesting_lnX(res11), -min(res11[\"logvol\"]), figI)\n",
    "\n",
    "figI = aPlotter(res12, min_interesting_lnX(res12), -min(res12[\"logvol\"]), figI)"
   ]
  },
  {
   "cell_type": "code",
   "execution_count": null,
   "metadata": {},
   "outputs": [],
   "source": [
    "print(-min(res11[\"logvol\"]))"
   ]
  },
  {
   "cell_type": "code",
   "execution_count": null,
   "metadata": {},
   "outputs": [],
   "source": [
    "fig, axes = dyplot.traceplot(res11, #truths=np.zeros(fitter.nDim()),\n",
    "                             show_titles=True, trace_cmap='plasma',\n",
    "                             quantiles=None)\n",
    "fig.tight_layout()\n",
    "\n",
    "fig, axes = dyplot.traceplot(res12, #truths=np.zeros(fitter.nDim()),\n",
    "                             show_titles=True, trace_cmap='plasma',\n",
    "                             quantiles=None)\n",
    "fig.tight_layout()"
   ]
  },
  {
   "cell_type": "markdown",
   "metadata": {},
   "source": [
    "## 2 layered"
   ]
  },
  {
   "cell_type": "code",
   "execution_count": null,
   "metadata": {},
   "outputs": [],
   "source": [
    "objective1, structure11, structure12 = gO(data, 2, both=True, globalObjective=True) # was 06:09 now 0:36\n",
    "fitter = CFitter(objective1)\n",
    "DNSampler = DynamicNestedSampler(fitter.logl, fitter.priorTransform, fitter.nDim())\n",
    "DNSampler.run_nested(dlogz_init=0.05) # was 0.01\n",
    "res21 = DNSampler.results\n",
    "\n",
    "objective2, structure21, structure22 = gO(data, 2,\n",
    "                 logpExtra=logp_extra, both=True, globalObjective=True)\n",
    "fitter = CFitter(objective2)\n",
    "DNSampler = DynamicNestedSampler(fitter.logl, fitter.priorTransform, fitter.nDim())\n",
    "DNSampler.run_nested(dlogz_init=0.05) # was 0.01\n",
    "res22 = DNSampler.results\n"
   ]
  },
  {
   "cell_type": "markdown",
   "metadata": {},
   "source": [
    "previous\\\n",
    "24152it [05:21, 75.10it/s, batch: 9 | bound: 79 | nc: 2 | ncall: 76847 | eff(%): 31.429 | loglstar: 78.380 < 85.912 < 85.243 | logz: 72.686 +/-  0.202 | stop:  0.836] \\\n",
    "pre previous\\\n",
    "24744it [05:20, 77.20it/s, batch: 8 | bound: 74 | nc: 1 | ncall: 70332 | eff(%): 35.182 | loglstar: 1241.354 < 1247.885 < 1247.372 | logz: 1228.828 +/-  0.255 | stop:  0.951]"
   ]
  },
  {
   "cell_type": "code",
   "execution_count": null,
   "metadata": {
    "scrolled": false
   },
   "outputs": [],
   "source": [
    "fig, ax = objective1.plot()\n",
    "figI+=1\n",
    "plt.figure(figI)\n",
    "figI+=1\n",
    "plt.plot(*structure11.sld_profile())\n",
    "plt.ylabel('SLD /$10^{-6} \\AA^{-2}$')\n",
    "plt.xlabel('distance / $\\AA$');\n",
    "plt.figure(figI)\n",
    "figI+=1\n",
    "plt.plot(*structure12.sld_profile())\n",
    "plt.ylabel('SLD /$10^{-6} \\AA^{-2}$')\n",
    "plt.xlabel('distance / $\\AA$');\n",
    "\n",
    "fig, ax = objective2.plot()\n",
    "figI+=1\n",
    "plt.figure(figI)\n",
    "figI+=1\n",
    "plt.plot(*structure21.sld_profile())\n",
    "plt.ylabel('SLD /$10^{-6} \\AA^{-2}$')\n",
    "plt.xlabel('distance / $\\AA$');\n",
    "plt.figure(figI)\n",
    "figI+=1\n",
    "plt.plot(*structure22.sld_profile())\n",
    "plt.ylabel('SLD /$10^{-6} \\AA^{-2}$')\n",
    "plt.xlabel('distance / $\\AA$');"
   ]
  },
  {
   "cell_type": "code",
   "execution_count": null,
   "metadata": {
    "scrolled": false
   },
   "outputs": [],
   "source": [
    "span = [(0,5000),(0,1.5),(0,0.4),(10**0,10**10)]\n",
    "fig, axes = dyplot.runplot(res21,span=span, color='black', mark_final_live=False,\n",
    "                           logplot=False)\n",
    "fig.tight_layout()\n",
    "\n",
    "span = [(0,5000),(0,1.5),(0,0.4),(10**0,10**10)]\n",
    "fig, axes = dyplot.runplot(res22,span=span, color='black', mark_final_live=False,\n",
    "                           logplot=False)\n",
    "fig.tight_layout()"
   ]
  },
  {
   "cell_type": "code",
   "execution_count": null,
   "metadata": {},
   "outputs": [],
   "source": [
    "# print(min_interesting_lnX(res22),min_interesting_itr_lnX(res22))"
   ]
  },
  {
   "cell_type": "code",
   "execution_count": null,
   "metadata": {},
   "outputs": [],
   "source": [
    "print(\"limit for interesting values from ln(evidence) >= 0\")\n",
    "\n",
    "figI = aPlotter(res21, min_interesting_lnX(res21), -min(res22[\"logvol\"]), figI)\n",
    "\n",
    "figI = aPlotter(res22, min_interesting_lnX(res22), -min(res22[\"logvol\"]), figI)"
   ]
  },
  {
   "cell_type": "code",
   "execution_count": null,
   "metadata": {
    "scrolled": true
   },
   "outputs": [],
   "source": [
    "fig, axes = dyplot.traceplot(res21, #truths=np.zeros(fitter.nDim()),\n",
    "                             show_titles=True, trace_cmap='plasma',\n",
    "                             quantiles=None)\n",
    "fig.tight_layout()\n",
    "\n",
    "fig, axes = dyplot.traceplot(res22, #truths=np.zeros(fitter.nDim()),\n",
    "                             show_titles=True, trace_cmap='plasma',\n",
    "                             quantiles=None)\n",
    "fig.tight_layout()"
   ]
  },
  {
   "cell_type": "markdown",
   "metadata": {},
   "source": [
    "## 3 layered"
   ]
  },
  {
   "cell_type": "code",
   "execution_count": null,
   "metadata": {},
   "outputs": [],
   "source": [
    "objective1, structure11, structure12 = gO(data, 3, both=True, globalObjective=True) # was 06:09 now 0:36\n",
    "fitter = CFitter(objective1)\n",
    "DNSampler = DynamicNestedSampler(fitter.logl, fitter.priorTransform, fitter.nDim())\n",
    "DNSampler.run_nested(dlogz_init=0.05) # was 0.01\n",
    "res31 = DNSampler.results\n",
    "\n",
    "objective2, structure21, structure22 = gO(data, 3,\n",
    "                 logpExtra=logp_extra, both=True, globalObjective=True)\n",
    "fitter = CFitter(objective2)\n",
    "DNSampler = DynamicNestedSampler(fitter.logl, fitter.priorTransform, fitter.nDim())\n",
    "DNSampler.run_nested(dlogz_init=0.05) # was 0.01\n",
    "res32 = DNSampler.results"
   ]
  },
  {
   "cell_type": "markdown",
   "metadata": {},
   "source": [
    "previous\\\n",
    "28609it [09:55, 48.06it/s, batch: 8 | bound: 189 | nc: 17 | ncall: 192219 | eff(%): 14.884 | loglstar: 100.123 < 108.366 < 108.319 | logz: 91.440 +/-  0.226 | stop:  0.901]\\\n",
    "pre previous\\\n",
    "29853it [08:20, 59.62it/s, batch: 8 | bound: 162 | nc: 5 | ncall: 145942 | eff(%): 20.455 | loglstar: 1542.518 < 1550.310 < 1548.441 | logz: 1525.116 +/-  0.291 | stop:  0.868]"
   ]
  },
  {
   "cell_type": "code",
   "execution_count": null,
   "metadata": {
    "scrolled": false
   },
   "outputs": [],
   "source": [
    "fig, ax = objective1.plot()\n",
    "figI+=1\n",
    "plt.figure(figI)\n",
    "figI+=1\n",
    "plt.plot(*structure11.sld_profile())\n",
    "plt.ylabel('SLD /$10^{-6} \\AA^{-2}$')\n",
    "plt.xlabel('distance / $\\AA$');\n",
    "plt.figure(figI)\n",
    "figI+=1\n",
    "plt.plot(*structure12.sld_profile())\n",
    "plt.ylabel('SLD /$10^{-6} \\AA^{-2}$')\n",
    "plt.xlabel('distance / $\\AA$');\n",
    "\n",
    "fig, ax = objective2.plot()\n",
    "figI+=1\n",
    "plt.figure(figI)\n",
    "figI+=1\n",
    "plt.plot(*structure21.sld_profile())\n",
    "plt.ylabel('SLD /$10^{-6} \\AA^{-2}$')\n",
    "plt.xlabel('distance / $\\AA$');\n",
    "plt.figure(figI)\n",
    "figI+=1\n",
    "plt.plot(*structure22.sld_profile())\n",
    "plt.ylabel('SLD /$10^{-6} \\AA^{-2}$')\n",
    "plt.xlabel('distance / $\\AA$');"
   ]
  },
  {
   "cell_type": "code",
   "execution_count": null,
   "metadata": {},
   "outputs": [],
   "source": [
    "span = [(0,5000),(0,1.5),(0,0.4),(10**0,10**10)]\n",
    "fig, axes = dyplot.runplot(res31,span=span, color='black', mark_final_live=False,\n",
    "                           logplot=False)\n",
    "fig.tight_layout()\n",
    "\n",
    "span = [(0,5000),(0,1.5),(0,0.4),(10**0,10**10)]\n",
    "fig, axes = dyplot.runplot(res32,span=span, color='black', mark_final_live=False,\n",
    "                           logplot=False)\n",
    "fig.tight_layout()"
   ]
  },
  {
   "cell_type": "code",
   "execution_count": null,
   "metadata": {},
   "outputs": [],
   "source": [
    "print(\"limit for interesting values from ln(evidence) >= 0\")\n",
    "\n",
    "figI = aPlotter(res31, min_interesting_lnX(res31), -min(res31[\"logvol\"]), figI)\n",
    "\n",
    "figI = aPlotter(res32, min_interesting_lnX(res31), -min(res32[\"logvol\"]), figI)"
   ]
  },
  {
   "cell_type": "code",
   "execution_count": null,
   "metadata": {
    "scrolled": false
   },
   "outputs": [],
   "source": [
    "fig, axes = dyplot.traceplot(res31,# truths=np.zeros(fitter.nDim()),\n",
    "                             show_titles=True, trace_cmap='plasma',\n",
    "                             quantiles=None)\n",
    "fig.tight_layout()\n",
    "\n",
    "fig, axes = dyplot.traceplot(res32,# truths=np.zeros(fitter.nDim()),\n",
    "                             show_titles=True, trace_cmap='plasma',\n",
    "                             quantiles=None)\n",
    "fig.tight_layout()"
   ]
  },
  {
   "cell_type": "markdown",
   "metadata": {},
   "source": [
    "## 4 layered"
   ]
  },
  {
   "cell_type": "code",
   "execution_count": null,
   "metadata": {
    "scrolled": false
   },
   "outputs": [],
   "source": [
    "objective1, structure11, structure12 = gO(data, 4, both=True, globalObjective=True) # was 06:09 now 0:36\n",
    "fitter = CFitter(objective1)\n",
    "DNSampler = DynamicNestedSampler(fitter.logl, fitter.priorTransform, fitter.nDim())\n",
    "DNSampler.run_nested(dlogz_init=0.05) # was 0.01\n",
    "res41 = DNSampler.results\n",
    "\n",
    "objective2, structure21, structure22 = gO(data, 4,\n",
    "                 logpExtra=logp_extra, both=True, globalObjective=True)\n",
    "fitter = CFitter(objective2)\n",
    "DNSampler = DynamicNestedSampler(fitter.logl, fitter.priorTransform, fitter.nDim())\n",
    "DNSampler.run_nested(dlogz_init=0.05) # was 0.01\n",
    "res42 = DNSampler.results"
   ]
  },
  {
   "cell_type": "markdown",
   "metadata": {},
   "source": [
    "previous\\\n",
    "23525it [3:44:24,  1.75it/s, batch: 7 | bound: 6692 | nc: 2 | ncall: 5965849 | eff(%):  0.394 | loglstar: 99.513 < 108.013 < 105.725 | logz: 89.845 +/-  0.233 | stop:  0.930]\\\n",
    "pre previous\\\n",
    "28647it [3:31:10,  2.26it/s, batch: 7 | bound: 4789 | nc: 46 | ncall: 4527187 | eff(%):  0.633 | loglstar: 1542.404 < 1550.302 < 1547.665 | logz: 1522.275 +/-  0.307 | stop:  0.953]  "
   ]
  },
  {
   "cell_type": "code",
   "execution_count": null,
   "metadata": {},
   "outputs": [],
   "source": [
    "fig, ax = objective1.plot()\n",
    "figI+=1\n",
    "plt.figure(figI)\n",
    "figI+=1\n",
    "plt.plot(*structure11.sld_profile())\n",
    "plt.ylabel('SLD /$10^{-6} \\AA^{-2}$')\n",
    "plt.xlabel('distance / $\\AA$');\n",
    "plt.figure(figI)\n",
    "figI+=1\n",
    "plt.plot(*structure12.sld_profile())\n",
    "plt.ylabel('SLD /$10^{-6} \\AA^{-2}$')\n",
    "plt.xlabel('distance / $\\AA$');\n",
    "\n",
    "fig, ax = objective2.plot()\n",
    "figI+=1\n",
    "plt.figure(figI)\n",
    "figI+=1\n",
    "plt.plot(*structure21.sld_profile())\n",
    "plt.ylabel('SLD /$10^{-6} \\AA^{-2}$')\n",
    "plt.xlabel('distance / $\\AA$');\n",
    "plt.figure(figI)\n",
    "figI+=1\n",
    "plt.plot(*structure22.sld_profile())\n",
    "plt.ylabel('SLD /$10^{-6} \\AA^{-2}$')\n",
    "plt.xlabel('distance / $\\AA$');"
   ]
  },
  {
   "cell_type": "code",
   "execution_count": null,
   "metadata": {
    "scrolled": true
   },
   "outputs": [],
   "source": [
    "span = [(0,5000),(0,1.5),(0,0.4),(10**0,10**2)]\n",
    "fig, axes = dyplot.runplot(res41,span=span, color='black', mark_final_live=False,\n",
    "                           logplot=False)\n",
    "fig.tight_layout()\n",
    "\n",
    "span = [(0,5000),(0,1.5),(0,0.4),(10**0,10**2)]\n",
    "fig, axes = dyplot.runplot(res42,span=span, color='black', mark_final_live=False,\n",
    "                           logplot=False)\n",
    "fig.tight_layout()"
   ]
  },
  {
   "cell_type": "code",
   "execution_count": null,
   "metadata": {},
   "outputs": [],
   "source": [
    "print(\"limit for interesting values from ln(evidence) >= 0\")\n",
    "\n",
    "figI = aPlotter(res41, min_interesting_lnX(res41), -min(res41[\"logvol\"]), figI)\n",
    "\n",
    "figI = aPlotter(res42, min_interesting_lnX(res42), -min(res42[\"logvol\"]), figI)"
   ]
  },
  {
   "cell_type": "code",
   "execution_count": null,
   "metadata": {
    "scrolled": false
   },
   "outputs": [],
   "source": [
    "fig, axes = dyplot.traceplot(res41,# truths=np.zeros(fitter.nDim()),\n",
    "                             show_titles=True, trace_cmap='plasma',\n",
    "                             quantiles=None)\n",
    "fig.tight_layout()\n",
    "\n",
    "fig, axes = dyplot.traceplot(res42,# truths=np.zeros(fitter.nDim()),\n",
    "                             show_titles=True, trace_cmap='plasma',\n",
    "                             quantiles=None)\n",
    "fig.tight_layout()"
   ]
  },
  {
   "cell_type": "code",
   "execution_count": null,
   "metadata": {},
   "outputs": [],
   "source": []
  }
 ],
 "metadata": {
  "kernelspec": {
   "display_name": "Python 3",
   "language": "python",
   "name": "python3"
  },
  "language_info": {
   "codemirror_mode": {
    "name": "ipython",
    "version": 3
   },
   "file_extension": ".py",
   "mimetype": "text/x-python",
   "name": "python",
   "nbconvert_exporter": "python",
   "pygments_lexer": "ipython3",
   "version": "3.7.3"
  }
 },
 "nbformat": 4,
 "nbformat_minor": 2
}
