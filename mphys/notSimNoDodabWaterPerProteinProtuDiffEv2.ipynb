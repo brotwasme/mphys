{
 "cells": [
  {
   "cell_type": "code",
   "execution_count": 1,
   "metadata": {},
   "outputs": [
    {
     "name": "stdout",
     "output_type": "stream",
     "text": [
      "refnx: 0.1.9\n",
      "scipy: 1.3.0\n",
      "numpy: 1.16.4\n"
     ]
    }
   ],
   "source": [
    "import os.path\n",
    "import numpy as np\n",
    "import matplotlib.pyplot as plt\n",
    "import scipy\n",
    "import refnx\n",
    "from refnx.dataset import ReflectDataset, Data1D\n",
    "from refnx.analysis import Transform, CurveFitter, Objective, Model, Parameter, GlobalObjective\n",
    "from refnx.reflect import SLD, Slab, ReflectModel\n",
    "# from sepObjectiveGO import getObjective as gO\n",
    "# import make_sim_data as msd\n",
    "# import lipidBilayerAsGiven.SLD_maker \n",
    "import data_in as di\n",
    "from protein.LipidLeafletWithProtein_builtOn3 import LipidLeafletWithProtien as LipidLeaflet\n",
    "from protein.protrusion2 import Protrusion\n",
    "\n",
    "from refnx._lib import flatten\n",
    "from refnx._lib import unique as f_unique\n",
    "\n",
    "print('refnx: %s\\nscipy: %s\\nnumpy: %s' % (refnx.version.version,\n",
    "                   scipy.version.version, np.version.version))\n",
    "%matplotlib inline\n",
    "SEED = 12345"
   ]
  },
  {
   "cell_type": "code",
   "execution_count": 2,
   "metadata": {},
   "outputs": [
    {
     "name": "stdout",
     "output_type": "stream",
     "text": [
      "csv\n",
      "cvs-collecting\n",
      "csv\n",
      "cvs-collecting\n",
      "csv\n",
      "cvs-collecting\n"
     ]
    },
    {
     "data": {
      "image/png": "[encoded data removed]",
      "text/plain": [
       "<Figure size 432x288 with 1 Axes>"
      ]
     },
     "metadata": {
      "needs_background": "light"
     },
     "output_type": "display_data"
    }
   ],
   "source": [
    "# dataD2o = Data1D(data=di.data_in(\"lipidBilayerData/54696_97_edit.txt\"))\n",
    "# dataD2o.name=\"d2o\"\n",
    "# dataPmw = Data1D(data=di.data_in(\"lipidBilayerData/54699_00_edit.txt\"))\n",
    "# dataPmw.name=\"pmw\"\n",
    "\n",
    "dataAcmw = Data1D(data=di.data_in(\"protein/54613_14edit.txt\"))\n",
    "dataAcmw.name=\"acm\"\n",
    "dataPmw = Data1D(data=di.data_in(\"protein/54616_17edit.txt\"))\n",
    "dataPmw.name=\"pmw\"\n",
    "dataD2o = Data1D(data=di.data_in(\"protein/10_11_d2o.txt\"))\n",
    "dataD2o.name=\"d2o\"\n",
    "plt.errorbar(dataAcmw.data[0],dataAcmw.data[1],dataAcmw.data[2])\n",
    "plt.errorbar(dataPmw.data[0],dataPmw.data[1],dataPmw.data[2])\n",
    "plt.errorbar(dataD2o.data[0],dataD2o.data[1],dataD2o.data[2])\n",
    "plt.yscale(\"log\")\n",
    "plt.show()"
   ]
  },
  {
   "cell_type": "code",
   "execution_count": 3,
   "metadata": {},
   "outputs": [],
   "source": [
    "name = \"bilayer\"\n",
    "\n",
    "d2o = SLD(6.34, \"D2O\")\n",
    "pmw = SLD(2.35, \"Protein Matched Water\")\n",
    "acmw = SLD(0.00, \"ACMW\")\n",
    "air = SLD(0.00, \"Air\")\n",
    "\n",
    "d2o.real.setp(vary=True, bounds=(5.35, 6.35)) # bounds=(5.9, 6.35))\n",
    "pmw.real.setp(vary=True, bounds=(1.35, 3.35))\n",
    "acmw.real.setp(vary=True, bounds=(-0.56, 1))\n",
    "\n",
    "apm = Parameter(value=101, name='%s - area_per_molecule' % name,\n",
    "                bounds=(100, 150), vary=True)\n",
    "\n",
    "#Define all the neutron b's\n",
    "bc = 0.6646e-4  #Carbon\n",
    "bo = 0.5804e-4  #Oxygen\n",
    "bh = -0.3739e-4 #Hydrogen\n",
    "bp = 0.513e-4   #Phosphorus\n",
    "bn = 0.936e-4   #Nitrogen\n",
    "bd = 0.6671e-4  #Deuterium\n",
    "\n",
    "#Formulae of the molecule sections...\n",
    "CH2 = (1*bc) + (2*bh)\n",
    "CH = (1*bc) + (1*bh)\n",
    "CH3 = (1*bc) + (3*bh)\n",
    "D2O = (2*bd) + (1*bo)\n",
    "H2O = (2*bh) + (1*bo)\n",
    "\n",
    "# Calculate mole fraction of D2O from the bulk SLD..\n",
    "# d2o_molfr = (1/D2O-H2O)*(contrast*27.64)-H2O\n",
    "# wMol = (d2o_molfr * D2O) + ((1-d2o_molfr)*H2O)\n",
    "\n",
    "#sum b's of all the different fragments\n",
    "b_tails = Parameter(value=(28*CH2) + (2*CH) + (2*CH3),\n",
    "                       name='%s - b_tails_real' % name)\n",
    "\n",
    "sum_popc_heads = (8*bo) + (1*bp) + (1*bn) + (2*bc) + (4*CH2) + (3*CH3) + (1*CH)\n",
    "sum_popg_heads = (10*bo) + (1*bp) + (2*bc) + (4*CH2) + (2*CH) + (2*bh)\n",
    "b_heads = Parameter(value=(3*(sum_popc_heads) + (sum_popg_heads))/4,\n",
    "                        name='%s - b_heads_real' % name)\n",
    "\n",
    "#monolayer compositions\n",
    "#sum_m_tails = (34*CH2) + (2*CH3);\n",
    "#sum_m_heads = (1*bn) + (2*CH3) + (Waters_per_headD * wMol);\n",
    "\n",
    "#volumes of each fragment\n",
    "vCH2 = 27.7\n",
    "nCH2 = 30\n",
    "vCH3 = 54.6\n",
    "vm_tails = Parameter(value=(nCH2 * vCH2) + (2 * vCH3),\n",
    "            name='%s - volume_tails' % name) #\n",
    "vm_heads = Parameter(value=331,\n",
    "            name='%s - volume_heads' % name)  #\n",
    "vm_water = Parameter(value=29.7,\n",
    "            name='%s - water_vm' % name)\n",
    "\n",
    "#thickness\n",
    "thickness_tails = Parameter(11, # 6., #value=vm_tails.value/apm.value,\n",
    "            name='%s - thickness_tails' % name,\n",
    "            bounds=(1,30),  #3, #(1-0.75)*vm_tails.value/apm.value,\n",
    "                      #9), #(1+0.75)*vm_tails.value/apm.value),\n",
    "               vary=True)\n",
    "thickness_heads = Parameter(value= 6, #11., #vm_heads.value/apm.value,\n",
    "            name='%s - thickness_heads' % name,\n",
    "            bounds=(1,30),  #  9, #(1-0.75)*vm_heads.value/apm.value,\n",
    "                      # 20), #(1+0.75)*vm_heads.value/apm.value),\n",
    "               vary=True)\n",
    "\n",
    "rough_top = Parameter(value=2,\n",
    "            name='%s - roughs' % name,\n",
    "            bounds=(0,10), vary=True)\n",
    "rough_bot = rough_top\n",
    "# rough_bot = Parameter(value=2.0,\n",
    "#             name='%s - rough_bot' % name,\n",
    "#             bounds=(0,10), vary=True)\n",
    "\n",
    "waters_per_head = Parameter(\n",
    "            value=2.8,\n",
    "            name=\"{} - Waters Per Head\".format(name),\n",
    "            bounds=(0, 20), vary=True)\n",
    "\n",
    "waters_per_tail = Parameter(\n",
    "            value=1,\n",
    "            name=\"{} - Waters Per Tail\".format(name),\n",
    "            bounds=(0, 10), vary=True)\n",
    "\n",
    "# b_mscl = Parameter(\n",
    "#             value= ,\n",
    "#             name=\"{} - b_protein_real\".format(name),\n",
    "#             vary=False)\n",
    "\n",
    "vm_mscl = Parameter(\n",
    "            value=74937.5, # + 19749\n",
    "            name=\"{} - volume_protein\".format(name),\n",
    "            vary=False)\n",
    "\n",
    "PLRatio = Parameter(\n",
    "            value= 0.75,\n",
    "            name=\"{} - ratio protein to bilayer\".format(name),\n",
    "            bounds=(0.5, 1),vary=True)\n",
    "\n",
    "namePro = \"Protrusion\"\n",
    "vol_protrusion = Parameter(\n",
    "            value= 19749,\n",
    "            name=\"{} - protien volume\".format(namePro),\n",
    "            vary=False)\n",
    "\n",
    "protrusion_thick = Parameter(\n",
    "            value= 20,\n",
    "            name=\"{} - protrusion thickness\".format(namePro),\n",
    "            bounds=(5, 100),vary=True)\n",
    "\n",
    "protrusion_rough = Parameter(\n",
    "            value= 2,\n",
    "            name=\"{} - protrusion roughness\".format(namePro),\n",
    "            bounds=(0, 20),vary=True)\n",
    "\n",
    "protrusion_volfrac = Parameter(\n",
    "            value= 0.5,\n",
    "            name=\"{} - protrusion volfrac\".format(namePro),\n",
    "            bounds=(0, 1),vary=True)\n"
   ]
  },
  {
   "cell_type": "code",
   "execution_count": 4,
   "metadata": {},
   "outputs": [],
   "source": [
    "# apm, b_heads, vm_heads, thickness_heads\n",
    "# b_tails, vm_tails, thickness_tails, rough_head_tail\n",
    "# rough_preceding_mono, head_solvent\n",
    "\n",
    "\n",
    "# head_solvent_d2o = SLD(6.07, \"D2O in bilayer\")\n",
    "# head_solvent_d2o.real.setp(6.07, vary=True, bounds=(5.35, 6.35))\n",
    "upper_lipid_d2o = LipidLeaflet(apm, b_heads, vm_heads, thickness_heads,\n",
    "    b_tails, vm_tails, thickness_tails, rough_top, rough_top,\n",
    "    vm_water, waters_per_head, waters_per_tail,\n",
    "    vm_mscl, PLRatio, d2o, d2o,\n",
    "    reverse_monolayer=False, name=\"upper_lipid_d2o\")\n",
    "\n",
    "lower_lipid_d2o = LipidLeaflet(apm, b_heads, vm_heads, thickness_heads,\n",
    "    b_tails, vm_tails, thickness_tails, rough_top, rough_top,\n",
    "    vm_water, waters_per_head, waters_per_tail,\n",
    "    vm_mscl, PLRatio, d2o, d2o,\n",
    "    reverse_monolayer=True, name=\"lower_lipid_d2o\")\n",
    "\n",
    "right_protrusion_d2o = Protrusion(thick=protrusion_thick,\n",
    "    rough=protrusion_rough, vol_protein=vol_protrusion,\n",
    "    PLratio=PLRatio, solventSLD=d2o,  name=namePro+\" d2o\",\n",
    "    vfsolv=protrusion_volfrac)\n",
    "\n",
    "\n",
    "# head_solvent_pmw = SLD(2.35, \"Protein Matched Water in bilayer\")\n",
    "# head_solvent_pmw.real.setp(2.34, vary=True, bounds=(1.35, 3.35))\n",
    "upper_lipid_pmw = LipidLeaflet(apm, b_heads, vm_heads, thickness_heads,\n",
    "    b_tails, vm_tails, thickness_tails, rough_bot, rough_bot,\n",
    "    vm_water, waters_per_head, waters_per_tail,\n",
    "    vm_mscl, PLRatio, pmw, pmw,\n",
    "    reverse_monolayer=False, name=\"upper_lipid_pmw\")\n",
    "\n",
    "lower_lipid_pmw = LipidLeaflet(apm, b_heads, vm_heads, thickness_heads,\n",
    "    b_tails, vm_tails, thickness_tails, rough_bot, rough_bot,\n",
    "    vm_water, waters_per_head, waters_per_tail,\n",
    "    vm_mscl, PLRatio, pmw, pmw,\n",
    "    reverse_monolayer=True, name=\"lower_lipid_pmw\")\n",
    "\n",
    "right_protrusion_pmw = Protrusion(thick=protrusion_thick,\n",
    "    rough=protrusion_rough, vol_protein=vol_protrusion,\n",
    "    PLratio=PLRatio, solventSLD=pmw,  name=namePro+\" pmw\",\n",
    "    vfsolv=protrusion_volfrac)\n",
    "\n",
    "\n",
    "upper_lipid_acmw = LipidLeaflet(apm, b_heads, vm_heads, thickness_heads,\n",
    "    b_tails, vm_tails, thickness_tails, rough_bot, rough_bot,\n",
    "    vm_water, waters_per_head, waters_per_tail,\n",
    "    vm_mscl, PLRatio, acmw, acmw,\n",
    "    reverse_monolayer=False, name=\"upper_lipid_acmw\")\n",
    "\n",
    "lower_lipid_acmw = LipidLeaflet(apm, b_heads, vm_heads, thickness_heads,\n",
    "    b_tails, vm_tails, thickness_tails, rough_bot, rough_bot,\n",
    "    vm_water, waters_per_head, waters_per_tail,\n",
    "    vm_mscl, PLRatio, acmw, acmw,\n",
    "    reverse_monolayer=True, name=\"lower_lipid_acmw\")\n",
    "\n",
    "right_protrusion_acmw = Protrusion(thick=protrusion_thick,\n",
    "    rough=protrusion_rough, vol_protein=vol_protrusion,\n",
    "    PLratio=PLRatio, solventSLD=acmw,  name=namePro+\" acmw\",\n",
    "    vfsolv=protrusion_volfrac)"
   ]
  },
  {
   "cell_type": "code",
   "execution_count": 5,
   "metadata": {},
   "outputs": [],
   "source": [
    "# name_m = \"mono, dodab\"\n",
    "# APMD = Parameter(value=48, name='%s - area_per_molecule' % name_m,\n",
    "#         bounds=(30,120), vary=True)\n",
    "\n",
    "# # monolayer compositions\n",
    "# m_tails = Parameter(value=(34*CH2) + (2*CH3),\n",
    "#             name='%s - b_tails_real' % name_m)\n",
    "# m_heads = Parameter(value=(1*bn) + (2*CH3),\n",
    "#             name='%s - b_heads_real' % name_m)\n",
    "\n",
    "# # monolayer volumes\n",
    "# vm_m_tails = Parameter(value=vCH2*36,\n",
    "#             name='%s - volume_tails' % name_m)\n",
    "# vm_m_heads = Parameter(value=54.6,\n",
    "#             name='%s - volume_heads' % name_m)\n",
    "\n",
    "# # monolayer thicknesses\n",
    "# tail_thick_m = Parameter(value=vm_m_tails.value / APMD.value,\n",
    "#             name='%s - thickness_tails' % name_m,\n",
    "#             bounds=((1-0.75)*vm_m_tails.value / APMD.value,\n",
    "#                     (1+0.75)*vm_m_tails.value / APMD.value),\n",
    "#                vary=True)\n",
    "# head_thick_m = Parameter(value=vm_m_heads.value / APMD.value,\n",
    "#             name='%s - thickness heads' % name_m,\n",
    "#             bounds=((1-0.75)*vm_m_heads.value / APMD.value,\n",
    "#                     (1+0.75)*vm_m_heads.value / APMD.value),\n",
    "#                vary=True)\n",
    "\n",
    "# roughness_m =  Parameter(value=5.8,\n",
    "#             name='%s - roughness' % name_m,\n",
    "#             bounds=(0,10), vary=True)\n",
    "\n",
    "\n",
    "# water_vm_m = Parameter(value=vm_water,\n",
    "#             name='%s - water_vm' % name_m)\n",
    "# waters_per_head_m = Parameter(\n",
    "#             value=2.8,\n",
    "#             name=\"{} Waters Per Head\".format(name_m),\n",
    "#             vary=True,\n",
    "#             bounds=(1, 20))\n",
    "# waters_per_tail_m = Parameter(\n",
    "#             value=0.,\n",
    "#             name=\"{} Waters Per Tail\".format(name_m),\n",
    "#             vary=False)"
   ]
  },
  {
   "cell_type": "code",
   "execution_count": 6,
   "metadata": {},
   "outputs": [],
   "source": [
    "# m_head_solvent_pmw=SLD(2.35, \"mono, dodab - Protein Matched Water in head\")\n",
    "# m_head_solvent_pmw.real.setp(2.34, vary=True, bounds=(1.35, 3.35))\n",
    "# m_air_in_tail=SLD(0, \"mono, dodab - air in tail\")\n",
    "\n",
    "# dodab_pmw = LipidLeaflet(apm=APMD, b_heads=m_heads, vm_heads=vm_m_heads,\n",
    "#     thickness_heads=head_thick_m, b_tails=m_tails, vm_tails=vm_m_tails,\n",
    "#     thickness_tails=tail_thick_m, rough_head_tail=roughness_m,\n",
    "#     rough_preceding_mono=roughness_m,\n",
    "#     water_vm=vm_water, waters_per_head=waters_per_head_m,\n",
    "#     waters_per_tail=waters_per_tail_m,\n",
    "#     head_solvent=m_head_solvent_pmw, tail_solvent=m_air_in_tail) #mono\n",
    "\n",
    "# m_head_solvent_d2o=SLD(6.07, \"mono, dodab - D2O in head\")\n",
    "# m_head_solvent_d2o.real.setp(6.07, vary=True, bounds=(5.35, 6.35))\n",
    "# dodab_d2o = LipidLeaflet(apm=APMD, b_heads=m_heads, vm_heads=vm_m_heads,\n",
    "#     thickness_heads=head_thick_m, b_tails=m_tails, vm_tails=vm_m_tails,\n",
    "#     thickness_tails=tail_thick_m, rough_head_tail=roughness_m,\n",
    "#     water_vm=vm_water, waters_per_head=waters_per_head_m,\n",
    "#     waters_per_tail=waters_per_tail_m,\n",
    "#     rough_preceding_mono=roughness_m, head_solvent=m_head_solvent_d2o,\n",
    "#                          tail_solvent=m_air_in_tail) #mono"
   ]
  },
  {
   "cell_type": "code",
   "execution_count": 7,
   "metadata": {
    "scrolled": true
   },
   "outputs": [
    {
     "data": {
      "image/png": "[encoded data removed]",
      "text/plain": [
       "<Figure size 432x288 with 1 Axes>"
      ]
     },
     "metadata": {
      "needs_background": "light"
     },
     "output_type": "display_data"
    },
    {
     "name": "stdout",
     "output_type": "stream",
     "text": [
      "________________________________________________________________________________\n",
      "Parameters: 'Structure - d2o'\n",
      "________________________________________________________________________________\n",
      "Parameters:      'Air'     \n",
      "<Parameter: 'Air - thick' , value=0 (fixed)  , bounds=[-inf, inf]>\n",
      "<Parameter:  'Air - sld'  , value=0 (fixed)  , bounds=[-inf, inf]>\n",
      "<Parameter: 'Air - isld'  , value=0 (fixed)  , bounds=[-inf, inf]>\n",
      "<Parameter: 'Air - rough' , value=0 (fixed)  , bounds=[-inf, inf]>\n",
      "<Parameter:'Air - volfrac solvent', value=0 (fixed)  , bounds=[-inf, inf]>\n",
      "________________________________________________________________________________\n",
      "Parameters:      'D2O'     \n",
      "<Parameter:'thickness_solution', value=14.3          , bounds=[6, 25]>\n",
      "<Parameter:  'D2O - sld'  , value=6.34          , bounds=[5.35, 6.35]>\n",
      "<Parameter: 'D2O - isld'  , value=0 (fixed)  , bounds=[-inf, inf]>\n",
      "<Parameter:'rough_preceding_solution', value=4.6          , bounds=[0, 20]>\n",
      "<Parameter:'D2O - volfrac solvent', value=0 (fixed)  , bounds=[-inf, inf]>\n",
      "________________________________________________________________________________\n",
      "Parameters: 'upper_lipid_d2o'\n",
      "<Parameter:'bilayer - area_per_molecule', value=609.539          , bounds=[100, 150]>\n",
      "<Parameter:'bilayer - b_heads_real', value=0.000629275 (fixed)  , bounds=[-inf, inf]>\n",
      "<Parameter:'upper_lipid_d2o - b_heads_imag', value=0 (fixed)  , bounds=[-inf, inf]>\n",
      "<Parameter:'bilayer - volume_heads', value=331 (fixed)  , bounds=[-inf, inf]>\n",
      "<Parameter:'bilayer - thickness_heads', value=6          , bounds=[1, 30]>\n",
      "<Parameter:'bilayer - b_tails_real', value=-0.00026624 (fixed)  , bounds=[-inf, inf]>\n",
      "<Parameter:'upper_lipid_d2o - b_tails_imag', value=0 (fixed)  , bounds=[-inf, inf]>\n",
      "<Parameter:'bilayer - volume_tails', value=940.2 (fixed)  , bounds=[-inf, inf]>\n",
      "<Parameter:'bilayer - thickness_tails', value=11          , bounds=[1, 30]>\n",
      "<Parameter:'bilayer - roughs', value=2          , bounds=[0, 10]>\n",
      "<Parameter:'bilayer - roughs', value=2          , bounds=[0, 10]>\n",
      "________________________________________________________________________________\n",
      "Parameters:       ''       \n",
      "<Parameter:  'D2O - sld'  , value=6.34          , bounds=[5.35, 6.35]>\n",
      "<Parameter: 'D2O - isld'  , value=0 (fixed)  , bounds=[-inf, inf]>\n",
      "________________________________________________________________________________\n",
      "Parameters:       ''       \n",
      "<Parameter:  'D2O - sld'  , value=6.34          , bounds=[5.35, 6.35]>\n",
      "<Parameter: 'D2O - isld'  , value=0 (fixed)  , bounds=[-inf, inf]>\n",
      "<Parameter:'bilayer - water_vm', value=29.7 (fixed)  , bounds=[-inf, inf]>\n",
      "<Parameter:'bilayer - Waters Per Head', value=2.8          , bounds=[0, 20]>\n",
      "<Parameter:'bilayer - Waters Per Tail', value=1          , bounds=[0, 10]>\n",
      "<Parameter:'bilayer - Waters Per Head', value=2.8          , bounds=[0, 20]>\n",
      "<Parameter:'bilayer - Waters Per Tail', value=1          , bounds=[0, 10]>\n",
      "<Parameter:'bilayer - volume_protein', value=74937.5 (fixed)  , bounds=[-inf, inf]>\n",
      "<Parameter:'bilayer - ratio protein to bilayer', value=0.75          , bounds=[0.5, 1]>\n",
      "________________________________________________________________________________\n",
      "Parameters: 'lower_lipid_d2o'\n",
      "<Parameter:'bilayer - area_per_molecule', value=609.539          , bounds=[100, 150]>\n",
      "<Parameter:'bilayer - b_heads_real', value=0.000629275 (fixed)  , bounds=[-inf, inf]>\n",
      "<Parameter:'lower_lipid_d2o - b_heads_imag', value=0 (fixed)  , bounds=[-inf, inf]>\n",
      "<Parameter:'bilayer - volume_heads', value=331 (fixed)  , bounds=[-inf, inf]>\n",
      "<Parameter:'bilayer - thickness_heads', value=6          , bounds=[1, 30]>\n",
      "<Parameter:'bilayer - b_tails_real', value=-0.00026624 (fixed)  , bounds=[-inf, inf]>\n",
      "<Parameter:'lower_lipid_d2o - b_tails_imag', value=0 (fixed)  , bounds=[-inf, inf]>\n",
      "<Parameter:'bilayer - volume_tails', value=940.2 (fixed)  , bounds=[-inf, inf]>\n",
      "<Parameter:'bilayer - thickness_tails', value=11          , bounds=[1, 30]>\n",
      "<Parameter:'bilayer - roughs', value=2          , bounds=[0, 10]>\n",
      "<Parameter:'bilayer - roughs', value=2          , bounds=[0, 10]>\n",
      "________________________________________________________________________________\n",
      "Parameters:       ''       \n",
      "<Parameter:  'D2O - sld'  , value=6.34          , bounds=[5.35, 6.35]>\n",
      "<Parameter: 'D2O - isld'  , value=0 (fixed)  , bounds=[-inf, inf]>\n",
      "________________________________________________________________________________\n",
      "Parameters:       ''       \n",
      "<Parameter:  'D2O - sld'  , value=6.34          , bounds=[5.35, 6.35]>\n",
      "<Parameter: 'D2O - isld'  , value=0 (fixed)  , bounds=[-inf, inf]>\n",
      "<Parameter:'bilayer - water_vm', value=29.7 (fixed)  , bounds=[-inf, inf]>\n",
      "<Parameter:'bilayer - Waters Per Head', value=2.8          , bounds=[0, 20]>\n",
      "<Parameter:'bilayer - Waters Per Tail', value=1          , bounds=[0, 10]>\n",
      "<Parameter:'bilayer - Waters Per Head', value=2.8          , bounds=[0, 20]>\n",
      "<Parameter:'bilayer - Waters Per Tail', value=1          , bounds=[0, 10]>\n",
      "<Parameter:'bilayer - volume_protein', value=74937.5 (fixed)  , bounds=[-inf, inf]>\n",
      "<Parameter:'bilayer - ratio protein to bilayer', value=0.75          , bounds=[0.5, 1]>\n",
      "________________________________________________________________________________\n",
      "Parameters: 'Protrusion d2o'\n",
      "<Parameter:'Protrusion - protrusion thickness', value=20          , bounds=[5, 100]>\n",
      "<Parameter:'Protrusion - protrusion roughness', value=2          , bounds=[0, 20]>\n",
      "<Parameter:'Protrusion - protien volume', value=19749 (fixed)  , bounds=[-inf, inf]>\n",
      "<Parameter:'Protrusion - protrusion volfrac', value=0.5          , bounds=[0, 1]>\n",
      "________________________________________________________________________________\n",
      "Parameters:      'D2O'     \n",
      "<Parameter:'thickness_solution', value=14.3          , bounds=[6, 25]>\n",
      "<Parameter:  'D2O - sld'  , value=6.34          , bounds=[5.35, 6.35]>\n",
      "<Parameter: 'D2O - isld'  , value=0 (fixed)  , bounds=[-inf, inf]>\n",
      "<Parameter:'rough_preceding_solution', value=4.6          , bounds=[0, 20]>\n",
      "<Parameter:'D2O - volfrac solvent', value=0 (fixed)  , bounds=[-inf, inf]>\n",
      "________________________________________________________________________________\n",
      "Parameters: 'Structure - protein matched water'\n",
      "________________________________________________________________________________\n",
      "Parameters:      'Air'     \n",
      "<Parameter: 'Air - thick' , value=0 (fixed)  , bounds=[-inf, inf]>\n",
      "<Parameter:  'Air - sld'  , value=0 (fixed)  , bounds=[-inf, inf]>\n",
      "<Parameter: 'Air - isld'  , value=0 (fixed)  , bounds=[-inf, inf]>\n",
      "<Parameter: 'Air - rough' , value=0 (fixed)  , bounds=[-inf, inf]>\n",
      "<Parameter:'Air - volfrac solvent', value=0 (fixed)  , bounds=[-inf, inf]>\n",
      "________________________________________________________________________________\n",
      "Parameters: 'Protein Matched Water'\n",
      "<Parameter:'thickness_solution', value=14.3          , bounds=[6, 25]>\n",
      "<Parameter:'Protein Matched Water - sld', value=2.35          , bounds=[1.35, 3.35]>\n",
      "<Parameter:'Protein Matched Water - isld', value=0 (fixed)  , bounds=[-inf, inf]>\n",
      "<Parameter:'rough_preceding_solution', value=4.6          , bounds=[0, 20]>\n",
      "<Parameter:'Protein Matched Water - volfrac solvent', value=0 (fixed)  , bounds=[-inf, inf]>\n",
      "________________________________________________________________________________\n",
      "Parameters: 'upper_lipid_pmw'\n",
      "<Parameter:'bilayer - area_per_molecule', value=609.539          , bounds=[100, 150]>\n",
      "<Parameter:'bilayer - b_heads_real', value=0.000629275 (fixed)  , bounds=[-inf, inf]>\n",
      "<Parameter:'upper_lipid_pmw - b_heads_imag', value=0 (fixed)  , bounds=[-inf, inf]>\n",
      "<Parameter:'bilayer - volume_heads', value=331 (fixed)  , bounds=[-inf, inf]>\n",
      "<Parameter:'bilayer - thickness_heads', value=6          , bounds=[1, 30]>\n",
      "<Parameter:'bilayer - b_tails_real', value=-0.00026624 (fixed)  , bounds=[-inf, inf]>\n",
      "<Parameter:'upper_lipid_pmw - b_tails_imag', value=0 (fixed)  , bounds=[-inf, inf]>\n",
      "<Parameter:'bilayer - volume_tails', value=940.2 (fixed)  , bounds=[-inf, inf]>\n",
      "<Parameter:'bilayer - thickness_tails', value=11          , bounds=[1, 30]>\n",
      "<Parameter:'bilayer - roughs', value=2          , bounds=[0, 10]>\n",
      "<Parameter:'bilayer - roughs', value=2          , bounds=[0, 10]>\n",
      "________________________________________________________________________________\n",
      "Parameters:       ''       \n",
      "<Parameter:'Protein Matched Water - sld', value=2.35          , bounds=[1.35, 3.35]>\n",
      "<Parameter:'Protein Matched Water - isld', value=0 (fixed)  , bounds=[-inf, inf]>\n",
      "________________________________________________________________________________\n",
      "Parameters:       ''       \n",
      "<Parameter:'Protein Matched Water - sld', value=2.35          , bounds=[1.35, 3.35]>\n",
      "<Parameter:'Protein Matched Water - isld', value=0 (fixed)  , bounds=[-inf, inf]>\n",
      "<Parameter:'bilayer - water_vm', value=29.7 (fixed)  , bounds=[-inf, inf]>\n",
      "<Parameter:'bilayer - Waters Per Head', value=2.8          , bounds=[0, 20]>\n",
      "<Parameter:'bilayer - Waters Per Tail', value=1          , bounds=[0, 10]>\n",
      "<Parameter:'bilayer - Waters Per Head', value=2.8          , bounds=[0, 20]>\n",
      "<Parameter:'bilayer - Waters Per Tail', value=1          , bounds=[0, 10]>\n",
      "<Parameter:'bilayer - volume_protein', value=74937.5 (fixed)  , bounds=[-inf, inf]>\n",
      "<Parameter:'bilayer - ratio protein to bilayer', value=0.75          , bounds=[0.5, 1]>\n",
      "________________________________________________________________________________\n",
      "Parameters: 'lower_lipid_pmw'\n",
      "<Parameter:'bilayer - area_per_molecule', value=609.539          , bounds=[100, 150]>\n",
      "<Parameter:'bilayer - b_heads_real', value=0.000629275 (fixed)  , bounds=[-inf, inf]>\n",
      "<Parameter:'lower_lipid_pmw - b_heads_imag', value=0 (fixed)  , bounds=[-inf, inf]>\n",
      "<Parameter:'bilayer - volume_heads', value=331 (fixed)  , bounds=[-inf, inf]>\n",
      "<Parameter:'bilayer - thickness_heads', value=6          , bounds=[1, 30]>\n",
      "<Parameter:'bilayer - b_tails_real', value=-0.00026624 (fixed)  , bounds=[-inf, inf]>\n",
      "<Parameter:'lower_lipid_pmw - b_tails_imag', value=0 (fixed)  , bounds=[-inf, inf]>\n",
      "<Parameter:'bilayer - volume_tails', value=940.2 (fixed)  , bounds=[-inf, inf]>\n",
      "<Parameter:'bilayer - thickness_tails', value=11          , bounds=[1, 30]>\n",
      "<Parameter:'bilayer - roughs', value=2          , bounds=[0, 10]>\n",
      "<Parameter:'bilayer - roughs', value=2          , bounds=[0, 10]>\n",
      "________________________________________________________________________________\n",
      "Parameters:       ''       \n",
      "<Parameter:'Protein Matched Water - sld', value=2.35          , bounds=[1.35, 3.35]>\n",
      "<Parameter:'Protein Matched Water - isld', value=0 (fixed)  , bounds=[-inf, inf]>\n",
      "________________________________________________________________________________\n",
      "Parameters:       ''       \n",
      "<Parameter:'Protein Matched Water - sld', value=2.35          , bounds=[1.35, 3.35]>\n",
      "<Parameter:'Protein Matched Water - isld', value=0 (fixed)  , bounds=[-inf, inf]>\n",
      "<Parameter:'bilayer - water_vm', value=29.7 (fixed)  , bounds=[-inf, inf]>\n",
      "<Parameter:'bilayer - Waters Per Head', value=2.8          , bounds=[0, 20]>\n",
      "<Parameter:'bilayer - Waters Per Tail', value=1          , bounds=[0, 10]>\n",
      "<Parameter:'bilayer - Waters Per Head', value=2.8          , bounds=[0, 20]>\n",
      "<Parameter:'bilayer - Waters Per Tail', value=1          , bounds=[0, 10]>\n",
      "<Parameter:'bilayer - volume_protein', value=74937.5 (fixed)  , bounds=[-inf, inf]>\n",
      "<Parameter:'bilayer - ratio protein to bilayer', value=0.75          , bounds=[0.5, 1]>\n",
      "________________________________________________________________________________\n",
      "Parameters: 'Protrusion pmw'\n",
      "<Parameter:'Protrusion - protrusion thickness', value=20          , bounds=[5, 100]>\n",
      "<Parameter:'Protrusion - protrusion roughness', value=2          , bounds=[0, 20]>\n",
      "<Parameter:'Protrusion - protien volume', value=19749 (fixed)  , bounds=[-inf, inf]>\n",
      "<Parameter:'Protrusion - protrusion volfrac', value=0.5          , bounds=[0, 1]>\n",
      "________________________________________________________________________________\n",
      "Parameters: 'Protein Matched Water'\n",
      "<Parameter:'thickness_solution', value=14.3          , bounds=[6, 25]>\n",
      "<Parameter:'Protein Matched Water - sld', value=2.35          , bounds=[1.35, 3.35]>\n",
      "<Parameter:'Protein Matched Water - isld', value=0 (fixed)  , bounds=[-inf, inf]>\n",
      "<Parameter:'rough_preceding_solution', value=4.6          , bounds=[0, 20]>\n"
     ]
    },
    {
     "name": "stdout",
     "output_type": "stream",
     "text": [
      "<Parameter:'Protein Matched Water - volfrac solvent', value=0 (fixed)  , bounds=[-inf, inf]>\n",
      "________________________________________________________________________________\n",
      "Parameters: 'Structure - ACMW'\n",
      "________________________________________________________________________________\n",
      "Parameters:      'Air'     \n",
      "<Parameter: 'Air - thick' , value=0 (fixed)  , bounds=[-inf, inf]>\n",
      "<Parameter:  'Air - sld'  , value=0 (fixed)  , bounds=[-inf, inf]>\n",
      "<Parameter: 'Air - isld'  , value=0 (fixed)  , bounds=[-inf, inf]>\n",
      "<Parameter: 'Air - rough' , value=0 (fixed)  , bounds=[-inf, inf]>\n",
      "<Parameter:'Air - volfrac solvent', value=0 (fixed)  , bounds=[-inf, inf]>\n",
      "________________________________________________________________________________\n",
      "Parameters:     'ACMW'     \n",
      "<Parameter:'thickness_solution', value=14.3          , bounds=[6, 25]>\n",
      "<Parameter: 'ACMW - sld'  , value=0          , bounds=[-0.56, 1]>\n",
      "<Parameter: 'ACMW - isld' , value=0 (fixed)  , bounds=[-inf, inf]>\n",
      "<Parameter:'rough_preceding_solution', value=4.6          , bounds=[0, 20]>\n",
      "<Parameter:'ACMW - volfrac solvent', value=0 (fixed)  , bounds=[-inf, inf]>\n",
      "________________________________________________________________________________\n",
      "Parameters: 'upper_lipid_acmw'\n",
      "<Parameter:'bilayer - area_per_molecule', value=609.539          , bounds=[100, 150]>\n",
      "<Parameter:'bilayer - b_heads_real', value=0.000629275 (fixed)  , bounds=[-inf, inf]>\n",
      "<Parameter:'upper_lipid_acmw - b_heads_imag', value=0 (fixed)  , bounds=[-inf, inf]>\n",
      "<Parameter:'bilayer - volume_heads', value=331 (fixed)  , bounds=[-inf, inf]>\n",
      "<Parameter:'bilayer - thickness_heads', value=6          , bounds=[1, 30]>\n",
      "<Parameter:'bilayer - b_tails_real', value=-0.00026624 (fixed)  , bounds=[-inf, inf]>\n",
      "<Parameter:'upper_lipid_acmw - b_tails_imag', value=0 (fixed)  , bounds=[-inf, inf]>\n",
      "<Parameter:'bilayer - volume_tails', value=940.2 (fixed)  , bounds=[-inf, inf]>\n",
      "<Parameter:'bilayer - thickness_tails', value=11          , bounds=[1, 30]>\n",
      "<Parameter:'bilayer - roughs', value=2          , bounds=[0, 10]>\n",
      "<Parameter:'bilayer - roughs', value=2          , bounds=[0, 10]>\n",
      "________________________________________________________________________________\n",
      "Parameters:       ''       \n",
      "<Parameter: 'ACMW - sld'  , value=0          , bounds=[-0.56, 1]>\n",
      "<Parameter: 'ACMW - isld' , value=0 (fixed)  , bounds=[-inf, inf]>\n",
      "________________________________________________________________________________\n",
      "Parameters:       ''       \n",
      "<Parameter: 'ACMW - sld'  , value=0          , bounds=[-0.56, 1]>\n",
      "<Parameter: 'ACMW - isld' , value=0 (fixed)  , bounds=[-inf, inf]>\n",
      "<Parameter:'bilayer - water_vm', value=29.7 (fixed)  , bounds=[-inf, inf]>\n",
      "<Parameter:'bilayer - Waters Per Head', value=2.8          , bounds=[0, 20]>\n",
      "<Parameter:'bilayer - Waters Per Tail', value=1          , bounds=[0, 10]>\n",
      "<Parameter:'bilayer - Waters Per Head', value=2.8          , bounds=[0, 20]>\n",
      "<Parameter:'bilayer - Waters Per Tail', value=1          , bounds=[0, 10]>\n",
      "<Parameter:'bilayer - volume_protein', value=74937.5 (fixed)  , bounds=[-inf, inf]>\n",
      "<Parameter:'bilayer - ratio protein to bilayer', value=0.75          , bounds=[0.5, 1]>\n",
      "________________________________________________________________________________\n",
      "Parameters: 'lower_lipid_acmw'\n",
      "<Parameter:'bilayer - area_per_molecule', value=609.539          , bounds=[100, 150]>\n",
      "<Parameter:'bilayer - b_heads_real', value=0.000629275 (fixed)  , bounds=[-inf, inf]>\n",
      "<Parameter:'lower_lipid_acmw - b_heads_imag', value=0 (fixed)  , bounds=[-inf, inf]>\n",
      "<Parameter:'bilayer - volume_heads', value=331 (fixed)  , bounds=[-inf, inf]>\n",
      "<Parameter:'bilayer - thickness_heads', value=6          , bounds=[1, 30]>\n",
      "<Parameter:'bilayer - b_tails_real', value=-0.00026624 (fixed)  , bounds=[-inf, inf]>\n",
      "<Parameter:'lower_lipid_acmw - b_tails_imag', value=0 (fixed)  , bounds=[-inf, inf]>\n",
      "<Parameter:'bilayer - volume_tails', value=940.2 (fixed)  , bounds=[-inf, inf]>\n",
      "<Parameter:'bilayer - thickness_tails', value=11          , bounds=[1, 30]>\n",
      "<Parameter:'bilayer - roughs', value=2          , bounds=[0, 10]>\n",
      "<Parameter:'bilayer - roughs', value=2          , bounds=[0, 10]>\n",
      "________________________________________________________________________________\n",
      "Parameters:       ''       \n",
      "<Parameter: 'ACMW - sld'  , value=0          , bounds=[-0.56, 1]>\n",
      "<Parameter: 'ACMW - isld' , value=0 (fixed)  , bounds=[-inf, inf]>\n",
      "________________________________________________________________________________\n",
      "Parameters:       ''       \n",
      "<Parameter: 'ACMW - sld'  , value=0          , bounds=[-0.56, 1]>\n",
      "<Parameter: 'ACMW - isld' , value=0 (fixed)  , bounds=[-inf, inf]>\n",
      "<Parameter:'bilayer - water_vm', value=29.7 (fixed)  , bounds=[-inf, inf]>\n",
      "<Parameter:'bilayer - Waters Per Head', value=2.8          , bounds=[0, 20]>\n",
      "<Parameter:'bilayer - Waters Per Tail', value=1          , bounds=[0, 10]>\n",
      "<Parameter:'bilayer - Waters Per Head', value=2.8          , bounds=[0, 20]>\n",
      "<Parameter:'bilayer - Waters Per Tail', value=1          , bounds=[0, 10]>\n",
      "<Parameter:'bilayer - volume_protein', value=74937.5 (fixed)  , bounds=[-inf, inf]>\n",
      "<Parameter:'bilayer - ratio protein to bilayer', value=0.75          , bounds=[0.5, 1]>\n",
      "________________________________________________________________________________\n",
      "Parameters: 'Protrusion acmw'\n",
      "<Parameter:'Protrusion - protrusion thickness', value=20          , bounds=[5, 100]>\n",
      "<Parameter:'Protrusion - protrusion roughness', value=2          , bounds=[0, 20]>\n",
      "<Parameter:'Protrusion - protien volume', value=19749 (fixed)  , bounds=[-inf, inf]>\n",
      "<Parameter:'Protrusion - protrusion volfrac', value=0.5          , bounds=[0, 1]>\n",
      "________________________________________________________________________________\n",
      "Parameters:     'ACMW'     \n",
      "<Parameter:'thickness_solution', value=14.3          , bounds=[6, 25]>\n",
      "<Parameter: 'ACMW - sld'  , value=0          , bounds=[-0.56, 1]>\n",
      "<Parameter: 'ACMW - isld' , value=0 (fixed)  , bounds=[-inf, inf]>\n",
      "<Parameter:'rough_preceding_solution', value=4.6          , bounds=[0, 20]>\n",
      "<Parameter:'ACMW - volfrac solvent', value=0 (fixed)  , bounds=[-inf, inf]>\n"
     ]
    }
   ],
   "source": [
    "# structure_d2o = air(0, 0) | dodab_d2o | d2o(0, 0) | upper_lipid_d2o | lower_lipid_d2o | d2o(0, 0)\n",
    "# structure_pmw = air(0, 0) | dodab_pmw | pmw(0, 0) | upper_lipid_pmw | lower_lipid_pmw | pmw(0, 0)\n",
    "# structure_d2o = air(0, 0) | d2o(0, 0) | upper_lipid_d2o | lower_lipid_d2o | d2o(0, 0)\n",
    "# structure_pmw = air(0, 0) | pmw(0, 0) | upper_lipid_pmw | lower_lipid_pmw | pmw(0, 0)\n",
    "#\n",
    "#\n",
    "# solution_thickness = Parameter(value=14.3, bounds=(6, 20), vary=True,\n",
    "#             name='%s - thickness_solution' % name)\n",
    "\n",
    "# rough_preceding_solution = Parameter(value=4.6, bounds=(0, 20), vary=True,\n",
    "#             name='%s - rough_preceding_solution' % name)\n",
    "# \n",
    "# structure_d2o[2].thick=solution_thickness#.setp(14.3, vary=True, bounds=(6, 20))\n",
    "# structure_d2o[2].rough=rough_preceding_solution#.setp(4.6, vary=True, bounds=(3, 20))\n",
    "# structure_pmw[2].thick=solution_thickness\n",
    "# structure_pmw[2].rough=rough_preceding_solution\n",
    "#\n",
    "# structure_d2o[5].thick=solution_thickness\n",
    "# structure_d2o[5].rough=rough_preceding_solution\n",
    "# structure_pmw[5].thick=solution_thickness\n",
    "# structure_pmw[5].rough=rough_preceding_solution\n",
    "\n",
    "# to changing to\n",
    "solution_thickness = Parameter(value=14.3, bounds=(6, 25), vary=True,\n",
    "            name='thickness_solution')\n",
    "\n",
    "rough_preceding_solution = Parameter(value=4.6, bounds=(0, 20), vary=True,\n",
    "            name='rough_preceding_solution')\n",
    "\n",
    "structure_d2o  = air(0, 0) | d2o(solution_thickness, rough_preceding_solution)  | upper_lipid_d2o  | lower_lipid_d2o  | right_protrusion_d2o  | d2o(solution_thickness, rough_preceding_solution)\n",
    "structure_pmw  = air(0, 0) | pmw(solution_thickness, rough_preceding_solution)  | upper_lipid_pmw  | lower_lipid_pmw  | right_protrusion_pmw  | pmw(solution_thickness, rough_preceding_solution)\n",
    "structure_acmw = air(0, 0) | acmw(solution_thickness, rough_preceding_solution) | upper_lipid_acmw | lower_lipid_acmw | right_protrusion_acmw | acmw(solution_thickness, rough_preceding_solution)\n",
    "\n",
    "# structure_d2o  = air(0, 0) | d2o(solution_thickness, rough_preceding_solution)  | upper_lipid_d2o  | lower_lipid_d2o  | d2o(solution_thickness, rough_preceding_solution)\n",
    "# structure_pmw  = air(0, 0) | pmw(solution_thickness, rough_preceding_solution)  | upper_lipid_pmw  | lower_lipid_pmw  | pmw(solution_thickness, rough_preceding_solution)\n",
    "# structure_acmw = air(0, 0) | acmw(solution_thickness, rough_preceding_solution) | upper_lipid_acmw | lower_lipid_acmw | acmw(solution_thickness, rough_preceding_solution)\n",
    "\n",
    "structure_d2o.name = \"d2o\"\n",
    "structure_pmw.name = \"protein matched water\"\n",
    "structure_acmw.name = \"ACMW\"\n",
    "\n",
    "plt.plot(*structure_d2o.sld_profile(),label=\"structure_d2o\")\n",
    "plt.ylabel('SLD /$10^{-6} \\AA^{-2}$')\n",
    "plt.xlabel('distance / $\\AA$')\n",
    "plt.plot(*structure_pmw.sld_profile(),label=\"structure_pmw\")\n",
    "plt.ylabel('SLD /$10^{-6} \\AA^{-2}$')\n",
    "plt.xlabel('distance / $\\AA$')\n",
    "plt.plot(*structure_acmw.sld_profile(),label=\"structure_acmw\")\n",
    "plt.ylabel('SLD /$10^{-6} \\AA^{-2}$')\n",
    "plt.xlabel('distance / $\\AA$')\n",
    "plt.show();\n",
    "print(structure_d2o.parameters)\n",
    "print(structure_pmw.parameters)\n",
    "print(structure_acmw.parameters)"
   ]
  },
  {
   "cell_type": "code",
   "execution_count": 8,
   "metadata": {
    "scrolled": true
   },
   "outputs": [
    {
     "data": {
      "text/plain": [
       "Parameters(data=[Parameter(value=20.0, name='Protrusion - protrusion thickness', vary=True, bounds=Interval(lb=5, ub=100), constraint=None), Parameter(value=2.0, name='Protrusion - protrusion roughness', vary=True, bounds=Interval(lb=0, ub=20), constraint=None), Parameter(value=19749.0, name='Protrusion - protien volume', vary=False, bounds=Interval(lb=-np.inf, ub=np.inf), constraint=None), Parameter(value=0.5, name='Protrusion - protrusion volfrac', vary=True, bounds=Interval(lb=0, ub=1), constraint=None)], name='Protrusion d2o')"
      ]
     },
     "execution_count": 8,
     "metadata": {},
     "output_type": "execute_result"
    }
   ],
   "source": [
    "right_protrusion_d2o.parameters"
   ]
  },
  {
   "cell_type": "code",
   "execution_count": 9,
   "metadata": {
    "scrolled": true
   },
   "outputs": [],
   "source": [
    "# print(structure_acmw.slabs())\n",
    "# print(structure_pmw.slabs())\n",
    "# print(structure_d2o.slabs())"
   ]
  },
  {
   "cell_type": "code",
   "execution_count": 10,
   "metadata": {},
   "outputs": [
    {
     "name": "stdout",
     "output_type": "stream",
     "text": [
      "0.562 0.0655 0.000924\n",
      "1.8e-06 3.02e-06 1.73e-06\n"
     ]
    }
   ],
   "source": [
    "scale = 0.5538\n",
    "print(dataD2o.y.max(), dataPmw.y.max(), dataAcmw.y.max())\n",
    "print(dataD2o.y.min(), dataPmw.y.min(), dataAcmw.y.min())\n",
    "model1 = ReflectModel(structure_d2o)\n",
    "model1.scale.setp(scale, vary=False) # 0.5, vary=True, bounds=(0.5, 0.6))#0.25, 1)) #1./dataD2o.y.max()\n",
    "if dataD2o.y.min()<0:\n",
    "    d2oUpBound = dataD2o.y.min() * 0.2\n",
    "    d2oLoBound = dataD2o.y.min() * 1.8\n",
    "else:\n",
    "    d2oUpBound = dataD2o.y.min() * 1.8\n",
    "    d2oLoBound = dataD2o.y.min() * 0.2\n",
    "model1.bkg.setp(dataD2o.y.min(),vary=True,bounds=(d2oLoBound, d2oUpBound))\n",
    "\n",
    "model2 = ReflectModel(structure_pmw)\n",
    "model2.scale.setp(scale, vary=False) #0.5, vary=True, bounds=(0.5, 0.6))#0.25, 1))#(1./dataPmw.y.max(), vary=False)\n",
    "if dataPmw.y.min()<0:\n",
    "    pmwUpBound = dataPmw.y.min() * 0.2\n",
    "    pmwLoBound = dataPmw.y.min() * 1.8\n",
    "else:\n",
    "    pmwUpBound = dataPmw.y.min() * 1.8\n",
    "    pmwLoBound = dataPmw.y.min() * 0.2\n",
    "model2.bkg.setp(dataPmw.y.min(),vary=True,bounds=(pmwLoBound, pmwUpBound))\n",
    "\n",
    "model3 = ReflectModel(structure_acmw)\n",
    "model3.scale.setp(scale, vary=False) #0.5, vary=True, bounds=(0.5, 0.6))#0.25, 1)) #1./dataAcmw.y.max(), vary=False)\n",
    "if dataAcmw.y.min()<0:\n",
    "    acmwUpBound = dataAcmw.y.min() * 0.2\n",
    "    acmwLoBound = dataAcmw.y.min() * 1.8\n",
    "else:\n",
    "    acmwUpBound = dataAcmw.y.min() * 1.8\n",
    "    acmwLoBound = dataAcmw.y.min() * 0.2\n",
    "model3.bkg.setp(dataAcmw.y.min(),vary=True,bounds=(acmwLoBound, acmwUpBound))\n",
    "\n",
    "objective1 = Objective(model1, dataD2o, transform=Transform(\"logY\"))\n",
    "objective2 = Objective(model2, dataPmw, transform=Transform(\"logY\"))\n",
    "objective3 = Objective(model3, dataAcmw, transform=Transform(\"logY\"))\n",
    "gobjective = GlobalObjective([objective1,objective2,objective3])"
   ]
  },
  {
   "cell_type": "code",
   "execution_count": 11,
   "metadata": {},
   "outputs": [
    {
     "name": "stdout",
     "output_type": "stream",
     "text": [
      "\n",
      "logp: -inf\n",
      "0 bkg: 1.8e-06 [3.6e-07, 3.24e-06] logp: 12.75772026381642\n",
      "1 thickness_solution: 14.3 [6, 25] logp: -2.9444389791664407\n",
      "2 D2O - sld: 6.34 [5.35, 6.35] logp: 0.0\n",
      "3 rough_preceding_solution: 4.6 [0, 20] logp: -2.995732273553991\n",
      "4 bilayer - area_per_molecule: 609.5392647058824 [100, 150] logp: -inf\n",
      "5 bilayer - thickness_heads: 6.0 [1, 30] logp: -3.367295829986474\n",
      "6 bilayer - thickness_tails: 11.0 [1, 30] logp: -3.367295829986474\n",
      "7 bilayer - roughs: 2.0 [0, 10] logp: -2.3025850929940455\n",
      "8 bilayer - Waters Per Head: 2.8 [0, 20] logp: -2.995732273553991\n",
      "9 bilayer - Waters Per Tail: 1.0 [0, 10] logp: -2.3025850929940455\n",
      "10 bilayer - ratio protein to bilayer: 0.75 [0.5, 1] logp: 0.6931471805599453\n",
      "11 Protrusion - protrusion thickness: 20.0 [5, 100] logp: -4.553876891600541\n",
      "12 Protrusion - protrusion roughness: 2.0 [0, 20] logp: -2.995732273553991\n",
      "13 Protrusion - protrusion volfrac: 0.5 [0, 1] logp: 0.0\n",
      "14 bkg: 3.02e-06 [6.040000000000001e-07, 5.436e-06] logp: 12.24025009733176\n",
      "15 Protein Matched Water - sld: 2.35 [1.35, 3.35] logp: -0.6931471805599453\n",
      "16 bkg: 1.73e-06 [3.46e-07, 3.114e-06] logp: 12.79738552020885\n",
      "17 ACMW - sld: 0.0 [-0.56, 1] logp: -0.4446858212614458\n"
     ]
    }
   ],
   "source": [
    "print(\"\")\n",
    "print(\"logp:\",gobjective.logp())\n",
    "[[print(i,param.name+\":\",param.value, param.bounds,\"logp:\", param.logp())] for i,param in enumerate(gobjective.varying_parameters())];\n"
   ]
  },
  {
   "cell_type": "code",
   "execution_count": 12,
   "metadata": {
    "scrolled": true
   },
   "outputs": [
    {
     "name": "stdout",
     "output_type": "stream",
     "text": [
      "done\n",
      "Wall time: 11min 55s\n"
     ]
    }
   ],
   "source": [
    "%%time\n",
    "choose = 0\n",
    "if choose==0:\n",
    "    fitter = CurveFitter(gobjective)\n",
    "    res = fitter.fit(\"differential_evolution\", target=\"nlpost\")#, seed=SEED)\n",
    "if choose==1:\n",
    "    fitter = CurveFitter(gobjective)\n",
    "    fitter.sample(400)\n",
    "    fitter.reset()\n",
    "    res = fitter.sample(15, nthin=100)\n",
    "if choose==2:\n",
    "    from dynesty import DynamicNestedSampler\n",
    "    from dynesty import plotting as dyplot\n",
    "    from CFitter import CFitter\n",
    "    fitter = CFitter(gobjective)\n",
    "    # DynamicNestedSampler\n",
    "    DNSampler = DynamicNestedSampler(fitter.logl, fitter.priorTransform, fitter.nDim())\n",
    "    DNSampler.run_nested(dlogz_init=0.05) # was 0.01\n",
    "    res1 = DNSampler.results\n",
    "print(\"done\")"
   ]
  },
  {
   "cell_type": "code",
   "execution_count": 13,
   "metadata": {
    "scrolled": false
   },
   "outputs": [
    {
     "name": "stdout",
     "output_type": "stream",
     "text": [
      "<Parameter:     'bkg'     , value=1.51274e-06 +/- 3.63e-07, bounds=[3.6e-07, 3.24e-06]>\n",
      "<Parameter:'thickness_solution', value=11.1398 +/- 0.514, bounds=[6, 25]>\n",
      "<Parameter:  'D2O - sld'  , value=6.10782 +/- 0.00578, bounds=[5.35, 6.35]>\n",
      "<Parameter:'rough_preceding_solution', value=3.78517 +/- 2.04 , bounds=[0, 20]>\n",
      "<Parameter:'bilayer - area_per_molecule', value=119.277 +/- 1.59e-07, bounds=[100, 150]>\n",
      "<Parameter:'bilayer - thickness_heads', value=1.00392 +/- 1.64 , bounds=[1, 30]>\n",
      "<Parameter:'bilayer - thickness_tails', value=20.141 +/- 1.35 , bounds=[1, 30]>\n",
      "<Parameter:'bilayer - roughs', value=5.92215 +/- 1.47 , bounds=[0, 10]>\n",
      "<Parameter:'bilayer - Waters Per Head', value=19.4598 +/- 1.1e+03, bounds=[0, 20]>\n",
      "<Parameter:'bilayer - Waters Per Tail', value=0.138108 +/- 1.06e+03, bounds=[0, 10]>\n",
      "<Parameter:'bilayer - ratio protein to bilayer', value=0.974037 +/- 0.33 , bounds=[0.5, 1]>\n",
      "<Parameter:'Protrusion - protrusion thickness', value=8.67889 +/- 54.1 , bounds=[5, 100]>\n",
      "<Parameter:'Protrusion - protrusion roughness', value=8.72702 +/- 3.06 , bounds=[0, 20]>\n",
      "<Parameter:'Protrusion - protrusion volfrac', value=0.0348709  +/- 14  , bounds=[0, 1]>\n",
      "<Parameter:     'bkg'     , value=3.32753e-06 +/- 9.33e-08, bounds=[6.040000000000001e-07, 5.436e-06]>\n",
      "<Parameter:'Protein Matched Water - sld', value=1.75257 +/- 0.00619, bounds=[1.35, 3.35]>\n",
      "<Parameter:     'bkg'     , value=2.20064e-06 +/- 8.26e-08, bounds=[3.46e-07, 3.114e-06]>\n",
      "<Parameter: 'ACMW - sld'  , value=0.390728 +/- 0.0132, bounds=[-0.56, 1]>\n"
     ]
    }
   ],
   "source": [
    "# print(gobjective.parameters,\"\\n++++++++++++++++++++++++++++++++++++++++++++++++++++\")\n",
    "\n",
    "# [[print(param)] for param in gobjective.parameters]#varying_parameters()]\n",
    "\n",
    "[[print(param)] for param in gobjective.varying_parameters()];"
   ]
  },
  {
   "cell_type": "code",
   "execution_count": 14,
   "metadata": {},
   "outputs": [
    {
     "name": "stdout",
     "output_type": "stream",
     "text": [
      "   covar: array([[ 1.31914849e-13, -2.70090202e-08,  1.34032884e-10,\n",
      "         5.30081243e-07, -1.72914505e-14,  3.04678458e-07,\n",
      "        -2.70187367e-07, -1.74589186e-07,  1.24184467e-04,\n",
      "         1.15702542e-04,  3.92075863e-08, -1.23079063e-05,\n",
      "         5.17420211e-07, -1.51539373e-06,  1.27845425e-14,\n",
      "        -4.16175353e-11,  1.01678123e-14, -3.25226378e-10],\n",
      "       [-2.70090202e-08,  2.63782856e-01,  1.21406149e-04,\n",
      "        -4.10732268e-01,  7.92033860e-08, -5.69356720e-01,\n",
      "         3.52745671e-01,  3.14248226e-01, -5.46408471e+02,\n",
      "        -5.28480583e+02, -1.63166073e-01,  1.26499411e+01,\n",
      "        -1.31011504e+00,  6.51804029e+00, -1.47376173e-08,\n",
      "         5.38191500e-04, -1.99931525e-08,  3.91354799e-03],\n",
      "       [ 1.34032884e-10,  1.21406149e-04,  3.33714843e-05,\n",
      "         2.01463211e-03, -8.88670880e-12,  1.13515926e-03,\n",
      "        -1.02255226e-03, -1.57784753e-03,  7.30948794e-02,\n",
      "         4.85346846e-02,  1.91270100e-05, -3.47084776e-02,\n",
      "         1.65844725e-03,  2.37811580e-03,  1.59548149e-11,\n",
      "         1.36120413e-06, -2.33099255e-12, -1.41645024e-06],\n",
      "       [ 5.30081243e-07, -4.10732268e-01,  2.01463211e-03,\n",
      "         4.17930713e+00, -1.62649672e-07,  3.02848873e+00,\n",
      "        -2.57335919e+00, -2.65004612e+00,  1.16819439e+03,\n",
      "         1.08204232e+03,  3.57937700e-01, -1.02691135e+02,\n",
      "         5.00969717e+00, -1.24398453e+01,  6.08651111e-08,\n",
      "        -6.52939138e-04,  6.71664026e-08, -3.37322535e-03],\n",
      "       [-1.72914505e-14,  7.92033860e-08, -8.88670880e-12,\n",
      "        -1.62649672e-07,  2.53248887e-14, -1.92730592e-07,\n",
      "         1.28664871e-07,  1.05178039e-07, -1.75492915e-04,\n",
      "        -1.69109095e-04, -5.24913569e-08,  4.72099228e-06,\n",
      "        -4.35948597e-07,  2.12149088e-06, -5.62525178e-15,\n",
      "         1.63854095e-10, -6.85784416e-15,  1.21897148e-09],\n",
      "       [ 3.04678458e-07, -5.69356720e-01,  1.13515926e-03,\n",
      "         3.02848873e+00, -1.92730592e-07,  2.67825722e+00,\n",
      "        -2.08300775e+00, -2.07593960e+00,  1.36258357e+03,\n",
      "         1.28395584e+03,  4.13988587e-01, -8.34144964e+01,\n",
      "         4.80092463e+00, -1.52657649e+01,  5.45380294e-08,\n",
      "        -8.10452847e-04,  7.21267674e-08, -5.71673572e-03],\n",
      "       [-2.70187367e-07,  3.52745671e-01, -1.02255226e-03,\n",
      "        -2.57335919e+00,  1.28664871e-07, -2.08300775e+00,\n",
      "         1.82142451e+00,  1.75007590e+00, -9.22928746e+02,\n",
      "        -8.61157070e+02, -2.81213697e-01,  6.99391290e+01,\n",
      "        -3.61548383e+00,  1.13426169e+01, -3.78590079e-08,\n",
      "         6.92946394e-04, -4.65032716e-08,  3.45273782e-03],\n",
      "       [-1.74589186e-07,  3.14248226e-01, -1.57784753e-03,\n",
      "        -2.65004612e+00,  1.05178039e-07, -2.07593960e+00,\n",
      "         1.75007590e+00,  2.17478975e+00, -7.55202249e+02,\n",
      "        -6.97026137e+02, -2.27352268e-01,  6.47916368e+01,\n",
      "        -3.37151910e+00,  7.27133803e+00, -2.07325387e-08,\n",
      "         6.23938012e-04, -3.17322666e-08,  2.56601592e-03],\n",
      "       [ 1.24184467e-04, -5.46408471e+02,  7.30948794e-02,\n",
      "         1.16819439e+03, -1.75492915e-04,  1.36258357e+03,\n",
      "        -9.22928746e+02, -7.55202249e+02,  1.21754458e+06,\n",
      "         1.17204083e+06,  3.64284049e+02, -3.39405852e+04,\n",
      "         3.05751520e+03, -1.47505708e+04,  3.95581398e-05,\n",
      "        -1.14514293e+00,  4.81121702e-05, -8.35175919e+00],\n",
      "       [ 1.15702542e-04, -5.28480583e+02,  4.85346846e-02,\n",
      "         1.08204232e+03, -1.69109095e-04,  1.28395584e+03,\n",
      "        -8.61157070e+02, -6.97026137e+02,  1.17204083e+06,\n",
      "         1.12944382e+06,  3.50579223e+02, -3.15447602e+04,\n",
      "         2.90917478e+03, -1.42251069e+04,  3.75682363e-05,\n",
      "        -1.10034583e+00,  4.56986229e-05, -8.15290436e+00],\n",
      "       [ 3.92075863e-08, -1.63166073e-01,  1.91270100e-05,\n",
      "         3.57937700e-01, -5.24913569e-08,  4.13988587e-01,\n",
      "        -2.81213697e-01, -2.27352268e-01,  3.64284049e+02,\n",
      "         3.50579223e+02,  1.09115935e-01, -1.04535781e+01,\n",
      "         9.21657049e-01, -4.41550463e+00,  1.20338445e-08,\n",
      "        -3.32060852e-04,  1.46998388e-08, -2.45870945e-03],\n",
      "       [-1.23079063e-05,  1.26499411e+01, -3.47084776e-02,\n",
      "        -1.02691135e+02,  4.72099228e-06, -8.34144964e+01,\n",
      "         6.99391290e+01,  6.47916368e+01, -3.39405852e+04,\n",
      "        -3.15447602e+04, -1.04535781e+01,  2.92222964e+03,\n",
      "        -1.41393677e+02,  4.00851842e+02, -1.76311291e-06,\n",
      "         1.83757322e-02, -2.19723526e-06,  9.22488994e-02],\n",
      "       [ 5.17420211e-07, -1.31011504e+00,  1.65844725e-03,\n",
      "         5.00969717e+00, -4.35948597e-07,  4.80092463e+00,\n",
      "        -3.61548383e+00, -3.37151910e+00,  3.05751520e+03,\n",
      "         2.90917478e+03,  9.21657049e-01, -1.41393677e+02,\n",
      "         9.38887643e+00, -3.59581161e+01,  1.11437874e-07,\n",
      "        -2.66206589e-03,  1.38864226e-07, -1.76101410e-02],\n",
      "       [-1.51539373e-06,  6.51804029e+00,  2.37811580e-03,\n",
      "        -1.24398453e+01,  2.12149088e-06, -1.52657649e+01,\n",
      "         1.13426169e+01,  7.27133803e+00, -1.47505708e+04,\n",
      "        -1.42251069e+04, -4.41550463e+00,  4.00851842e+02,\n",
      "        -3.59581161e+01,  1.94637278e+02, -4.72586166e-07,\n",
      "         1.55150903e-02, -5.46861194e-07,  1.05923161e-01],\n",
      "       [ 1.27845425e-14, -1.47376173e-08,  1.59548149e-11,\n",
      "         6.08651111e-08, -5.62525178e-15,  5.45380294e-08,\n",
      "        -3.78590079e-08, -2.07325387e-08,  3.95581398e-05,\n",
      "         3.75682363e-05,  1.20338445e-08, -1.76311291e-06,\n",
      "         1.11437874e-07, -4.72586166e-07,  8.71182634e-15,\n",
      "        -4.09841848e-11,  3.01726977e-15, -1.19564156e-10],\n",
      "       [-4.16175353e-11,  5.38191500e-04,  1.36120413e-06,\n",
      "        -6.52939138e-04,  1.63854095e-10, -8.10452847e-04,\n",
      "         6.92946394e-04,  6.23938012e-04, -1.14514293e+00,\n",
      "        -1.10034583e+00, -3.32060852e-04,  1.83757322e-02,\n",
      "        -2.66206589e-03,  1.55150903e-02, -4.09841848e-11,\n",
      "         3.83363702e-05,  3.08869773e-11,  2.04077095e-05],\n",
      "       [ 1.01678123e-14, -1.99931525e-08, -2.33099255e-12,\n",
      "         6.71664026e-08, -6.85784416e-15,  7.21267674e-08,\n",
      "        -4.65032716e-08, -3.17322666e-08,  4.81121702e-05,\n",
      "         4.56986229e-05,  1.46998388e-08, -2.19723526e-06,\n",
      "         1.38864226e-07, -5.46861194e-07,  3.01726977e-15,\n",
      "         3.08869773e-11,  6.83006480e-15, -1.87619069e-10],\n",
      "       [-3.25226378e-10,  3.91354799e-03, -1.41645024e-06,\n",
      "        -3.37322535e-03,  1.21897148e-09, -5.71673572e-03,\n",
      "         3.45273782e-03,  2.56601592e-03, -8.35175919e+00,\n",
      "        -8.15290436e+00, -2.45870945e-03,  9.22488994e-02,\n",
      "        -1.76101410e-02,  1.05923161e-01, -1.19564156e-10,\n",
      "         2.04077095e-05, -1.87619069e-10,  1.73251883e-04]])\n",
      "     fun: -74.88639542986682\n",
      " message: 'Optimization terminated successfully.'\n",
      "    nfev: 55407\n",
      "     nit: 204\n",
      "  stderr: array([3.63200838e-07, 5.13597952e-01, 5.77680572e-03, 2.04433538e+00,\n",
      "       1.59137955e-07, 1.63653818e+00, 1.34960161e+00, 1.47471684e+00,\n",
      "       1.10342403e+03, 1.06275294e+03, 3.30327012e-01, 5.40576510e+01,\n",
      "       3.06412735e+00, 1.39512465e+01, 9.33371648e-08, 6.19163712e-03,\n",
      "       8.26442061e-08, 1.31625181e-02])\n",
      " success: True\n",
      "       x: array([1.51274446e-06, 1.11397592e+01, 6.10781983e+00, 3.78517096e+00,\n",
      "       1.19277325e+02, 1.00391960e+00, 2.01410308e+01, 5.92215211e+00,\n",
      "       1.94598095e+01, 1.38107604e-01, 9.74037016e-01, 8.67888626e+00,\n",
      "       8.72701556e+00, 3.48709492e-02, 3.32753140e-06, 1.75257245e+00,\n",
      "       2.20064046e-06, 3.90727517e-01])\n"
     ]
    }
   ],
   "source": [
    "if choose==2:\n",
    "    print(res1)\n",
    "else:\n",
    "    print(res)\n",
    "# [['bkg', nan],\n",
    "#  ['thickness_solution', nan],\n",
    "#  ['D2O - sld', nan],\n",
    "#  ['rough_preceding_solution', nan],\n",
    "#  ['bilayer - area_per_molecule', nan],\n",
    "#  ['bilayer - thickness_heads', nan],\n",
    "#  ['bilayer - thickness_tails', nan],\n",
    "#  ['bilayer - rough_top', nan],\n",
    "#  ['bilayer - Waters Per Head', nan],\n",
    "#  ['bilayer - Waters Per Tail', nan],\n",
    "#  ['bilayer - ratio protein to bilayer', nan],\n",
    "#  ['bkg', nan],\n",
    "#  ['Protein Matched Water - sld', nan],\n",
    "#  ['bkg', nan],\n",
    "#  ['ACMW - sld', nan]]"
   ]
  },
  {
   "cell_type": "code",
   "execution_count": 15,
   "metadata": {},
   "outputs": [
    {
     "name": "stdout",
     "output_type": "stream",
     "text": [
      "[[ 0.00000000e+00  0.00000000e+00  0.00000000e+00  0.00000000e+00\n",
      "   0.00000000e+00]\n",
      " [ 1.11397592e+01  3.90727517e-01  0.00000000e+00  3.78517096e+00\n",
      "   0.00000000e+00]\n",
      " [ 1.00391960e+00  5.54384568e+00 -2.10876375e-07  5.92215211e+00\n",
      "   0.00000000e+00]\n",
      " [ 2.01410308e+01 -7.19700697e-02  2.47020944e-11  5.92215211e+00\n",
      "   0.00000000e+00]\n",
      " [ 2.01410308e+01 -7.19700697e-02  2.47020944e-11  5.92215211e+00\n",
      "   0.00000000e+00]\n",
      " [ 1.00391960e+00  5.54384568e+00 -2.10876375e-07  5.92215211e+00\n",
      "   0.00000000e+00]\n",
      " [ 8.67888626e+00  3.80936986e-01  0.00000000e+00  8.72701556e+00\n",
      "   3.48709492e-02]\n",
      " [ 1.11397592e+01  3.90727517e-01  0.00000000e+00  3.78517096e+00\n",
      "   0.00000000e+00]]\n",
      "[[ 0.00000000e+00  0.00000000e+00  0.00000000e+00  0.00000000e+00\n",
      "   0.00000000e+00]\n",
      " [ 1.11397592e+01  1.75257245e+00  0.00000000e+00  3.78517096e+00\n",
      "   0.00000000e+00]\n",
      " [ 1.00391960e+00  5.58569868e+00 -2.10876375e-07  5.92215211e+00\n",
      "   0.00000000e+00]\n",
      " [ 2.01410308e+01 -6.78999028e-02  2.47020944e-11  5.92215211e+00\n",
      "   0.00000000e+00]\n",
      " [ 2.01410308e+01 -6.78999028e-02  2.47020944e-11  5.92215211e+00\n",
      "   0.00000000e+00]\n",
      " [ 1.00391960e+00  5.58569868e+00 -2.10876375e-07  5.92215211e+00\n",
      "   0.00000000e+00]\n",
      " [ 8.67888626e+00  1.70865734e+00  0.00000000e+00  8.72701556e+00\n",
      "   3.48709492e-02]\n",
      " [ 1.11397592e+01  1.75257245e+00  0.00000000e+00  3.78517096e+00\n",
      "   0.00000000e+00]]\n",
      "[[ 0.00000000e+00  0.00000000e+00  0.00000000e+00  0.00000000e+00\n",
      "   0.00000000e+00]\n",
      " [ 1.11397592e+01  6.10781983e+00  0.00000000e+00  3.78517096e+00\n",
      "   0.00000000e+00]\n",
      " [ 1.00391960e+00  5.71954665e+00 -2.10876375e-07  5.92215211e+00\n",
      "   0.00000000e+00]\n",
      " [ 2.01410308e+01 -5.48833081e-02  2.47020944e-11  5.92215211e+00\n",
      "   0.00000000e+00]\n",
      " [ 2.01410308e+01 -5.48833081e-02  2.47020944e-11  5.92215211e+00\n",
      "   0.00000000e+00]\n",
      " [ 1.00391960e+00  5.71954665e+00 -2.10876375e-07  5.92215211e+00\n",
      "   0.00000000e+00]\n",
      " [ 8.67888626e+00  5.95477260e+00  0.00000000e+00  8.72701556e+00\n",
      "   3.48709492e-02]\n",
      " [ 1.11397592e+01  6.10781983e+00  0.00000000e+00  3.78517096e+00\n",
      "   0.00000000e+00]]\n"
     ]
    }
   ],
   "source": [
    "print(structure_acmw.slabs())\n",
    "print(structure_pmw.slabs())\n",
    "print(structure_d2o.slabs())"
   ]
  },
  {
   "cell_type": "code",
   "execution_count": 16,
   "metadata": {},
   "outputs": [
    {
     "data": {
      "image/png": "[encoded data removed]",
      "text/plain": [
       "<Figure size 432x288 with 1 Axes>"
      ]
     },
     "metadata": {
      "needs_background": "light"
     },
     "output_type": "display_data"
    }
   ],
   "source": [
    "# structure_d2o\n",
    "# structure_pmw\n",
    "plt.plot(*structure_d2o.sld_profile(),label=\"structure_d2o\")\n",
    "# structure_d2o.plot()\n",
    "# plt.ylabel('SLD ($10^{-6} \\AA^{-2})$')\n",
    "# plt.xlabel('distance  $(\\AA)$')\n",
    "\n",
    "plt.plot(*structure_pmw.sld_profile(),label=\"structure_pmw\")\n",
    "# structure_pmw.plot()\n",
    "plt.ylabel('SLD ($10^{-6} \\AA^{-2})$')\n",
    "plt.xlabel('distance  $(\\AA)$')\n",
    "\n",
    "plt.plot(*structure_acmw.sld_profile(),label=\"structure_acmw\")\n",
    "# structure_pmw.plot()\n",
    "plt.ylabel('SLD ($10^{-6} \\AA^{-2})$')\n",
    "plt.xlabel('distance  $(\\AA)$')\n",
    "plt.legend()\n",
    "plt.show();"
   ]
  },
  {
   "cell_type": "code",
   "execution_count": 17,
   "metadata": {},
   "outputs": [
    {
     "data": {
      "image/png": "[encoded data removed]",
      "text/plain": [
       "<Figure size 432x288 with 1 Axes>"
      ]
     },
     "metadata": {
      "needs_background": "light"
     },
     "output_type": "display_data"
    }
   ],
   "source": [
    "if choose==1:\n",
    "    gobjective.plot(samples=300)\n",
    "else:\n",
    "    gobjective.plot()\n",
    "# plt.yscale('log')\n",
    "plt.xlabel('Q')\n",
    "plt.ylabel('Reflectivity')\n",
    "plt.legend();"
   ]
  },
  {
   "cell_type": "code",
   "execution_count": 18,
   "metadata": {},
   "outputs": [
    {
     "data": {
      "image/png": "[encoded data removed]",
      "text/plain": [
       "<Figure size 432x288 with 1 Axes>"
      ]
     },
     "metadata": {
      "needs_background": "light"
     },
     "output_type": "display_data"
    }
   ],
   "source": [
    "if choose==1:\n",
    "    objective1.plot(samples=300)\n",
    "else:\n",
    "    objective1.plot()\n",
    "# plt.yscale('log')\n",
    "plt.xlabel('Q')\n",
    "plt.ylabel('Reflectivity')\n",
    "plt.legend();"
   ]
  },
  {
   "cell_type": "code",
   "execution_count": 19,
   "metadata": {},
   "outputs": [
    {
     "data": {
      "image/png": "[encoded data removed]",
      "text/plain": [
       "<Figure size 432x288 with 1 Axes>"
      ]
     },
     "metadata": {
      "needs_background": "light"
     },
     "output_type": "display_data"
    }
   ],
   "source": [
    "if choose==1:\n",
    "    objective2.plot(samples=300)\n",
    "else:\n",
    "    objective2.plot()\n",
    "# plt.yscale('log')\n",
    "plt.xlabel('Q')\n",
    "plt.ylabel('Reflectivity')\n",
    "plt.legend();"
   ]
  },
  {
   "cell_type": "code",
   "execution_count": 20,
   "metadata": {},
   "outputs": [
    {
     "data": {
      "image/png": "[encoded data removed]",
      "text/plain": [
       "<Figure size 432x288 with 1 Axes>"
      ]
     },
     "metadata": {
      "needs_background": "light"
     },
     "output_type": "display_data"
    }
   ],
   "source": [
    "if choose==1:\n",
    "    objective3.plot(samples=300)\n",
    "else:\n",
    "    objective3.plot()\n",
    "# plt.yscale('log')\n",
    "plt.xlabel('Q')\n",
    "plt.ylabel('Reflectivity')\n",
    "plt.legend();"
   ]
  },
  {
   "cell_type": "code",
   "execution_count": 21,
   "metadata": {},
   "outputs": [
    {
     "name": "stdout",
     "output_type": "stream",
     "text": [
      "model1: d2o <Parameter:    'scale'    , value=0.5538 (fixed)  , bounds=[-inf, inf]> <Parameter:     'bkg'     , value=1.51274e-06 +/- 3.63e-07, bounds=[3.6e-07, 3.24e-06]>\n",
      "model2: pmw <Parameter:    'scale'    , value=0.5538 (fixed)  , bounds=[-inf, inf]> <Parameter:     'bkg'     , value=3.32753e-06 +/- 9.33e-08, bounds=[6.040000000000001e-07, 5.436e-06]>\n",
      "model3: acmw <Parameter:    'scale'    , value=0.5538 (fixed)  , bounds=[-inf, inf]> <Parameter:     'bkg'     , value=2.20064e-06 +/- 8.26e-08, bounds=[3.46e-07, 3.114e-06]>\n"
     ]
    }
   ],
   "source": [
    "print(\"model1: d2o\", model1.scale, model1.bkg)\n",
    "print(\"model2: pmw\", model2.scale, model2.bkg)\n",
    "print(\"model3: acmw\", model3.scale, model3.bkg)"
   ]
  },
  {
   "cell_type": "code",
   "execution_count": 22,
   "metadata": {
    "scrolled": true
   },
   "outputs": [],
   "source": [
    "# print(structure_d2o)"
   ]
  },
  {
   "cell_type": "code",
   "execution_count": 23,
   "metadata": {
    "scrolled": true
   },
   "outputs": [],
   "source": [
    "# print(structure_pmw)"
   ]
  },
  {
   "cell_type": "code",
   "execution_count": 24,
   "metadata": {
    "scrolled": true
   },
   "outputs": [],
   "source": [
    "# print(structure_acmw)"
   ]
  },
  {
   "cell_type": "code",
   "execution_count": 25,
   "metadata": {},
   "outputs": [
    {
     "name": "stdout",
     "output_type": "stream",
     "text": [
      "[[ 0.00000000e+00  0.00000000e+00  0.00000000e+00  0.00000000e+00\n",
      "   0.00000000e+00]\n",
      " [ 1.11397592e+01  6.10781983e+00  0.00000000e+00  3.78517096e+00\n",
      "   0.00000000e+00]\n",
      " [ 1.00391960e+00  5.71954665e+00 -2.10876375e-07  5.92215211e+00\n",
      "   0.00000000e+00]\n",
      " [ 2.01410308e+01 -5.48833081e-02  2.47020944e-11  5.92215211e+00\n",
      "   0.00000000e+00]\n",
      " [ 2.01410308e+01 -5.48833081e-02  2.47020944e-11  5.92215211e+00\n",
      "   0.00000000e+00]\n",
      " [ 1.00391960e+00  5.71954665e+00 -2.10876375e-07  5.92215211e+00\n",
      "   0.00000000e+00]\n",
      " [ 8.67888626e+00  5.95477260e+00  0.00000000e+00  8.72701556e+00\n",
      "   3.48709492e-02]\n",
      " [ 1.11397592e+01  6.10781983e+00  0.00000000e+00  3.78517096e+00\n",
      "   0.00000000e+00]]\n"
     ]
    }
   ],
   "source": [
    "print(structure_d2o.slabs())"
   ]
  },
  {
   "cell_type": "code",
   "execution_count": 26,
   "metadata": {},
   "outputs": [
    {
     "name": "stdout",
     "output_type": "stream",
     "text": [
      "[[ 0.00000000e+00  0.00000000e+00  0.00000000e+00  0.00000000e+00\n",
      "   0.00000000e+00]\n",
      " [ 1.11397592e+01  1.75257245e+00  0.00000000e+00  3.78517096e+00\n",
      "   0.00000000e+00]\n",
      " [ 1.00391960e+00  5.58569868e+00 -2.10876375e-07  5.92215211e+00\n",
      "   0.00000000e+00]\n",
      " [ 2.01410308e+01 -6.78999028e-02  2.47020944e-11  5.92215211e+00\n",
      "   0.00000000e+00]\n",
      " [ 2.01410308e+01 -6.78999028e-02  2.47020944e-11  5.92215211e+00\n",
      "   0.00000000e+00]\n",
      " [ 1.00391960e+00  5.58569868e+00 -2.10876375e-07  5.92215211e+00\n",
      "   0.00000000e+00]\n",
      " [ 8.67888626e+00  1.70865734e+00  0.00000000e+00  8.72701556e+00\n",
      "   3.48709492e-02]\n",
      " [ 1.11397592e+01  1.75257245e+00  0.00000000e+00  3.78517096e+00\n",
      "   0.00000000e+00]]\n"
     ]
    }
   ],
   "source": [
    "print(structure_pmw.slabs())"
   ]
  },
  {
   "cell_type": "code",
   "execution_count": 27,
   "metadata": {},
   "outputs": [
    {
     "name": "stdout",
     "output_type": "stream",
     "text": [
      "[[ 0.00000000e+00  0.00000000e+00  0.00000000e+00  0.00000000e+00\n",
      "   0.00000000e+00]\n",
      " [ 1.11397592e+01  3.90727517e-01  0.00000000e+00  3.78517096e+00\n",
      "   0.00000000e+00]\n",
      " [ 1.00391960e+00  5.54384568e+00 -2.10876375e-07  5.92215211e+00\n",
      "   0.00000000e+00]\n",
      " [ 2.01410308e+01 -7.19700697e-02  2.47020944e-11  5.92215211e+00\n",
      "   0.00000000e+00]\n",
      " [ 2.01410308e+01 -7.19700697e-02  2.47020944e-11  5.92215211e+00\n",
      "   0.00000000e+00]\n",
      " [ 1.00391960e+00  5.54384568e+00 -2.10876375e-07  5.92215211e+00\n",
      "   0.00000000e+00]\n",
      " [ 8.67888626e+00  3.80936986e-01  0.00000000e+00  8.72701556e+00\n",
      "   3.48709492e-02]\n",
      " [ 1.11397592e+01  3.90727517e-01  0.00000000e+00  3.78517096e+00\n",
      "   0.00000000e+00]]\n"
     ]
    }
   ],
   "source": [
    "print(structure_acmw.slabs())"
   ]
  },
  {
   "cell_type": "code",
   "execution_count": 28,
   "metadata": {},
   "outputs": [],
   "source": [
    "if choose==2:\n",
    "    # span = [(0,5000),(0,1.5),(0,0.4),(-10**3,10**3)] #span=span\n",
    "    fig, axes = dyplot.runplot(res1, color='black', mark_final_live=False,\n",
    "                               logplot=False)"
   ]
  },
  {
   "cell_type": "code",
   "execution_count": 29,
   "metadata": {},
   "outputs": [],
   "source": [
    "if choose==2:\n",
    "    print(\"max(-ln(X)) =\", -min(res1[\"logvol\"])) # -min(res1[\"logvol\"] = max(-ln(X))\n",
    "    print(\"max(logz), evidence =\", max(res1[\"logz\"]))"
   ]
  },
  {
   "cell_type": "code",
   "execution_count": 30,
   "metadata": {},
   "outputs": [
    {
     "name": "stdout",
     "output_type": "stream",
     "text": [
      "model1: d2o <Parameter:    'scale'    , value=0.5538 (fixed)  , bounds=[-inf, inf]> <Parameter:     'bkg'     , value=1.51274e-06 +/- 3.63e-07, bounds=[3.6e-07, 3.24e-06]>\n",
      "model2: pmw <Parameter:    'scale'    , value=0.5538 (fixed)  , bounds=[-inf, inf]> <Parameter:     'bkg'     , value=3.32753e-06 +/- 9.33e-08, bounds=[6.040000000000001e-07, 5.436e-06]>\n",
      "model3: acmw <Parameter:    'scale'    , value=0.5538 (fixed)  , bounds=[-inf, inf]> <Parameter:     'bkg'     , value=2.20064e-06 +/- 8.26e-08, bounds=[3.46e-07, 3.114e-06]>\n",
      "0 bkg: 1.5127444618966676e-06 [3.6e-07, 3.24e-06]\n",
      "1 thickness_solution: 11.139759184593196 [6, 25]\n",
      "2 D2O - sld: 6.107819832561563 [5.35, 6.35]\n",
      "3 rough_preceding_solution: 3.7851709551739052 [0, 20]\n",
      "4 bilayer - area_per_molecule: 118.23033489237058 [100, 150]\n",
      "5 bilayer - thickness_heads: 1.0039196014745073 [1, 30]\n",
      "6 bilayer - thickness_tails: 20.14103079899459 [1, 30]\n",
      "7 bilayer - roughs: 5.922152114337889 [0, 10]\n",
      "8 bilayer - Waters Per Head: 19.459809533446002 [0, 20]\n",
      "9 bilayer - Waters Per Tail: 0.13810760390928412 [0, 10]\n",
      "10 bilayer - ratio protein to bilayer: 0.9740370164401084 [0.5, 1]\n",
      "11 Protrusion - protrusion thickness: 8.678886258582324 [5, 100]\n",
      "12 Protrusion - protrusion roughness: 8.727015555562867 [0, 20]\n",
      "13 Protrusion - protrusion volfrac: 0.034870949195937084 [0, 1]\n",
      "14 bkg: 3.327531397026347e-06 [6.040000000000001e-07, 5.436e-06]\n",
      "15 Protein Matched Water - sld: 1.7525724547707535 [1.35, 3.35]\n",
      "16 bkg: 2.200640463005773e-06 [3.46e-07, 3.114e-06]\n",
      "17 ACMW - sld: 0.39072751737617384 [-0.56, 1]\n"
     ]
    }
   ],
   "source": [
    "#gobjective.varying_parameters()\n",
    "print(\"model1: d2o\", model1.scale, model1.bkg)\n",
    "print(\"model2: pmw\", model2.scale, model2.bkg)\n",
    "print(\"model3: acmw\", model3.scale, model3.bkg)\n",
    "[[print(i,param.name+\":\",param.value, param.bounds)] for i,param in enumerate(gobjective.varying_parameters())];"
   ]
  },
  {
   "cell_type": "markdown",
   "metadata": {},
   "source": [
    "I believe correct values, leaflet roughness between head and tail is the same as the roughness preceeding the leaflet\\\n",
    "class used is a modified version of the LipidLeaflet class native to refnx, its in the file\\\n",
    "\"protein\" and called \"LipidLeafletWithProtien\"\\\n",
    "volumes of head and tails are indirectly varied by changes in waters per head/tail\\\n",
    "so the tails do not change volume\\\n",
    "0 scale: 0.5521883304658243 [0.5, 0.6]\\\n",
    "1 bkg: 3.8668280301251303e-07 [3.6e-07, 3.24e-06]\\\n",
    "2 thickness_solution: 10.788185214150985 [6, 25]\\\n",
    "3 D2O - sld: 6.120774383877097 [5.35, 6.35]\\\n",
    "4 rough_preceding_solution: 3.939327435493368 [0, 20]\\\n",
    "5 bilayer - area_per_molecule: 149.83843268748353 [60, 150]\\\n",
    "6 bilayer - thickness_heads: 2.2131024442953855 [1, 30]\\\n",
    "7 bilayer - thickness_tails: 19.19114563662231 [1, 30]\\\n",
    "8 bilayer - rough_top: 0.15555337800548585 [0, 10]\\\n",
    "9 bilayer - Waters Per Head: 0.017922237590786594 [0, 20]\\\n",
    "10 bilayer - Waters Per Tail: 0.02927203409960022 [0, 10]\\\n",
    "11 bilayer - ratio protein to bilayer: 0.7498017765068212 [0.25, 0.75]\\\n",
    "12 Protrusion - protrusion thickness: 6.090177488208205 [5, 100]\\\n",
    "13 Protrusion - protrusion roughness: 7.445463122283828 [0, 20]\\\n",
    "14 Protrusion - protrusion volfrac: 0.9963095809664922 [0, 1]\\\n",
    "15 scale: 0.5990025735918081 [0.5, 0.6]\\\n",
    "16 bkg: 3.5880504074107574e-06 [6.040000000000001e-07, 5.436e-06]\\\n",
    "17 Protein Matched Water - sld: 1.757984633375042 [1.35, 3.35]\\\n",
    "18 scale: 0.5907367476195101 [0.5, 0.6]\\\n",
    "19 bkg: 2.831535701386751e-06 [3.46e-07, 3.114e-06]\\\n",
    "20 ACMW - sld: 0.4132210895757328 [-0.56, 1]"
   ]
  },
  {
   "cell_type": "code",
   "execution_count": 31,
   "metadata": {
    "scrolled": false
   },
   "outputs": [],
   "source": [
    "if choose==2:\n",
    "    labels = [param.name for param in gobjective.varying_parameters()]\n",
    "\n",
    "    fig, axes = dyplot.traceplot(res1, labels = labels, #truths=np.zeros(fitter.nDim()),\n",
    "                                 show_titles=True, trace_cmap='plasma',\n",
    "                                 quantiles=[0.025, 0.5, 0.975])\n",
    "    fig.tight_layout()"
   ]
  },
  {
   "cell_type": "code",
   "execution_count": 32,
   "metadata": {},
   "outputs": [],
   "source": [
    "if choose==2:\n",
    "    labels = [param.name for param in gobjective.varying_parameters()]\n",
    "\n",
    "    fig, axes = dyplot.cornerpoints(res1, labels = labels#, #truths=np.zeros(fitter.nDim()),\n",
    "                                 #show_titles=True,\n",
    "                                 #trace_cmap='plasma',\n",
    "                                 #quantiles=[0.025, 0.5, 0.975]\n",
    "                                   )\n",
    "    fig.tight_layout()"
   ]
  },
  {
   "cell_type": "code",
   "execution_count": null,
   "metadata": {},
   "outputs": [],
   "source": []
  }
 ],
 "metadata": {
  "kernelspec": {
   "display_name": "Python 3",
   "language": "python",
   "name": "python3"
  },
  "language_info": {
   "codemirror_mode": {
    "name": "ipython",
    "version": 3
   },
   "file_extension": ".py",
   "mimetype": "text/x-python",
   "name": "python",
   "nbconvert_exporter": "python",
   "pygments_lexer": "ipython3",
   "version": "3.7.3"
  }
 },
 "nbformat": 4,
 "nbformat_minor": 2
}
