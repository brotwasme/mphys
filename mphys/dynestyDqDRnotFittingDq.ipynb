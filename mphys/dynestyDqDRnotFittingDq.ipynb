{
 "cells": [
  {
   "cell_type": "markdown",
   "metadata": {},
   "source": [
    "Contour plot of ln(evidence) for loss against number of layers\\\n",
    "for limited and not limited thickness"
   ]
  },
  {
   "cell_type": "markdown",
   "metadata": {},
   "source": [
    "ploting ln(evidence) for changes in $Dq/q$ vs $\\lambda$, with $\\lambda$ scaleing dR"
   ]
  },
  {
   "cell_type": "code",
   "execution_count": 1,
   "metadata": {},
   "outputs": [
    {
     "name": "stdout",
     "output_type": "stream",
     "text": [
      "refnx: 0.1.9\n",
      "scipy: 1.3.0\n",
      "numpy: 1.16.4\n",
      "refnx: 0.1.9\n",
      "scipy: 1.3.0\n",
      "numpy: 1.16.4\n"
     ]
    }
   ],
   "source": [
    "import os.path\n",
    "import numpy as np\n",
    "import matplotlib.pyplot as plt\n",
    "import scipy\n",
    "import refnx\n",
    "from refnx.dataset import ReflectDataset, Data1D\n",
    "from refnx.analysis import Transform, CurveFitter, Objective, Model, Parameter\n",
    "from refnx.reflect import SLD, Slab, ReflectModel\n",
    "from sepObjective import getObjective as gO\n",
    "from dynesty import DynamicNestedSampler\n",
    "from dynesty import plotting as dyplot\n",
    "from CFitter import CFitter\n",
    "import make_sim_data as msd\n",
    "print('refnx: %s\\nscipy: %s\\nnumpy: %s' % (refnx.version.version,\n",
    "                   scipy.version.version, np.version.version))\n"
   ]
  },
  {
   "cell_type": "code",
   "execution_count": 2,
   "metadata": {},
   "outputs": [],
   "source": [
    "def aPlotter(res, interestingNo, spacesize, figI):\n",
    "    print(figI)\n",
    "    # no = -1000\n",
    "    # slc = slice(no-1000,no)\n",
    "    useAbleLow=0.1\n",
    "    useAbleHigh=10.\n",
    "    xall=np.linspace(0,spacesize,len(res[\"logz\"]))\n",
    "    print(\"len\",len(res[\"logz\"]), \"space size\", spacesize)\n",
    "    useable=np.transpose(np.array([[x,y] for y,x in zip(res[\"logz\"],xall) if np.exp(y)>useAbleLow and np.exp(y)<=useAbleHigh]))\n",
    "    # print(len(res[\"logz\"]),res[\"logz\"][slc])#summary()\n",
    "    interesting = np.transpose(np.array([[x,y] for y,x in zip(res[\"logz\"],xall) if x>=float(interestingNo)]))#.reshape((2,-2))\n",
    "    print(\"len 2\", len(interesting[0]), len(interesting), interesting[0,:3])\n",
    "    print(\"logz max: \",max(res[\"logz\"]),\",min: \",min(res[\"logz\"]))\n",
    "    print(\"z max: \",max(np.exp(res[\"logz\"])),\",min: \",min(np.exp(res[\"logz\"])))\n",
    "#     print(res[\"logz\"][:5],interesting[1,:5],useable[1,:5])\n",
    "    # print(\"interesting\")\n",
    "#     xall=np.linspace(0,spacesize,len(res[\"logz\"]))\n",
    "#     xusable=np.linspace(0,spacesize,len(useable))\n",
    "    plt.figure(figI)\n",
    "    figI+=1\n",
    "    plt.plot(xall,res[\"logz\"])\n",
    "    plt.title(\"ln(evidence) log scaled vs -ln(X)\")\n",
    "    # plt.yscale(\"log\")\n",
    "    plt.figure(figI)\n",
    "    figI+=1\n",
    "    plt.plot(interesting[0],interesting[1])\n",
    "    plt.title(r\"interesting values ln(evidence)  vs -ln(X) $\\geq %d$\" % interestingNo)\n",
    "    if len(useable)>=2:\n",
    "        plt.figure(figI)\n",
    "        figI+=1\n",
    "        plt.plot(useable[0],useable[1])\n",
    "        plt.title(r\"usful values ln(%.3f<evidence $\\leq$ %.3f)  vs -ln(X)\"%(useAbleLow,useAbleHigh))\n",
    "    print(figI)\n",
    "    return figI"
   ]
  },
  {
   "cell_type": "code",
   "execution_count": 3,
   "metadata": {},
   "outputs": [
    {
     "name": "stdout",
     "output_type": "stream",
     "text": [
      "done\n"
     ]
    }
   ],
   "source": [
    "figI = 0\n",
    "# simple structure\n",
    "thicks_true = [10,120,100,130,10]\n",
    "bs_true = [0,5,4.5,5,10]\n",
    "roughs_true = [0,0,0,0,0]\n",
    "# bs = [5,4.5,5]\n",
    "# thicks = [120,100,130]\n",
    "# roughs = [0,0,0]\n",
    "bs = bs_true\n",
    "thicks = thicks_true\n",
    "roughs = roughs_true\n",
    "loss = 1.\n",
    "no_layers = len(bs)\n",
    "no_layers = len(bs_true)\n",
    "# no_layers = 3\n",
    "layers = []\n",
    "names = []\n",
    "#names = ['layer1','layer2']\n",
    "for i in range(no_layers):\n",
    "    names.append('layer'+str(i))\n",
    "for i in range(no_layers):\n",
    "        sld = SLD(bs[i],name=names[i])\n",
    "        layers.append(sld(thicks[i],roughs[i]))\n",
    "structure = layers[0]\n",
    "for layer in layers[1:]:\n",
    "    structure|=layer\n",
    "print(\"done\")"
   ]
  },
  {
   "cell_type": "code",
   "execution_count": 4,
   "metadata": {},
   "outputs": [
    {
     "name": "stdout",
     "output_type": "stream",
     "text": [
      "done\n"
     ]
    },
    {
     "data": {
      "image/png": "[encoded data removed]",
      "text/plain": [
       "<Figure size 684x432 with 1 Axes>"
      ]
     },
     "metadata": {
      "needs_background": "light"
     },
     "output_type": "display_data"
    }
   ],
   "source": [
    "%matplotlib inline\n",
    "plt.rcParams['figure.figsize'] = [9.5, 6]\n",
    "#notebook\n",
    "plt.figure(figI)\n",
    "figI+=1\n",
    "plt.plot(*structure.sld_profile())\n",
    "plt.ylabel('SLD /$10^{-6} \\AA^{-2}$')\n",
    "plt.xlabel('distance / $\\AA$');\n",
    "print(\"done\")"
   ]
  },
  {
   "cell_type": "code",
   "execution_count": 5,
   "metadata": {},
   "outputs": [],
   "source": [
    "resolution = 5.\n",
    "model = ReflectModel(structure, bkg=3e-6, dq=resolution)"
   ]
  },
  {
   "cell_type": "code",
   "execution_count": 6,
   "metadata": {},
   "outputs": [
    {
     "name": "stdout",
     "output_type": "stream",
     "text": [
      "csv\n",
      "cvs-collecting\n",
      "out  [3.47819830e+02 8.77904741e+01 3.20810699e+03 9.49732939e-37\n",
      " 1.65307010e-05] \n",
      "var:  [[1.76447440e+01 1.39762075e+02 1.90993913e+00 2.55098590e+04\n",
      "  6.99628049e-05]\n",
      " [1.39762075e+02 1.10704093e+03 1.51284720e+01 2.01610925e+05\n",
      "  5.54070662e-04]\n",
      " [1.90993913e+00 1.51284720e+01 2.06742813e-01 2.73481708e+03\n",
      "  7.56735044e-06]\n",
      " [2.55098590e+04 2.01610925e+05 2.73481708e+03 2.55670288e+08\n",
      "  1.48331018e-01]\n",
      " [6.99628049e-05 5.54070662e-04 7.56735044e-06 1.48331018e-01\n",
      "  2.92147690e-10]]\n"
     ]
    },
    {
     "data": {
      "text/plain": [
       "<ErrorbarContainer object of 3 artists>"
      ]
     },
     "execution_count": 6,
     "metadata": {},
     "output_type": "execute_result"
    },
    {
     "data": {
      "image/png": "[encoded data removed]",
      "text/plain": [
       "<Figure size 684x432 with 1 Axes>"
      ]
     },
     "metadata": {
      "needs_background": "light"
     },
     "output_type": "display_data"
    }
   ],
   "source": [
    "q = np.linspace(0.005, 0.3, 70)\n",
    "plt.figure(figI)\n",
    "figI+=1\n",
    "R = model(q, x_err=resolution)\n",
    "plt.plot(q, R)\n",
    "plt.xlabel('Q')\n",
    "plt.ylabel('Reflectivity')\n",
    "plt.yscale('log')\n",
    "#Q, R(Q), sig_Q, sig_R =\n",
    "import make_sim_data as msd\n",
    "sim_dR = msd.main(sim_q=q,sim_R=R)*10\n",
    "R = model(q, x_err=resolution)\n",
    "plt.errorbar(q,R,sim_dR, alpha=0.4)"
   ]
  },
  {
   "cell_type": "code",
   "execution_count": 7,
   "metadata": {},
   "outputs": [],
   "source": [
    "data = Data1D(data= (q,R,sim_dR))"
   ]
  },
  {
   "cell_type": "code",
   "execution_count": null,
   "metadata": {},
   "outputs": [],
   "source": [
    "maxLength = 350\n",
    "def logp_extra(model, data=None):\n",
    "    returns = 0\n",
    "    if sum(model.structure.slabs()[1:-1,0])>maxLength:\n",
    "        returns = -np.inf\n",
    "    return returns"
   ]
  },
  {
   "cell_type": "code",
   "execution_count": 9,
   "metadata": {
    "scrolled": true
   },
   "outputs": [
    {
     "name": "stdout",
     "output_type": "stream",
     "text": [
      "csv\n",
      "cvs-collecting\n",
      "out  [3.47819830e+02 8.77904741e+01 3.20810699e+03 9.49732939e-37\n",
      " 1.65307010e-05] \n",
      "var:  [[1.76447440e+01 1.39762075e+02 1.90993913e+00 2.55098590e+04\n",
      "  6.99628049e-05]\n",
      " [1.39762075e+02 1.10704093e+03 1.51284720e+01 2.01610925e+05\n",
      "  5.54070662e-04]\n",
      " [1.90993913e+00 1.51284720e+01 2.06742813e-01 2.73481708e+03\n",
      "  7.56735044e-06]\n",
      " [2.55098590e+04 2.01610925e+05 2.73481708e+03 2.55670288e+08\n",
      "  1.48331018e-01]\n",
      " [6.99628049e-05 5.54070662e-04 7.56735044e-06 1.48331018e-01\n",
      "  2.92147690e-10]]\n",
      "dRScaleBy: 5 resolution: 1.0\n"
     ]
    },
    {
     "name": "stderr",
     "output_type": "stream",
     "text": [
      "28784it [07:29, 64.02it/s, batch: 8 | bound: 152 | nc: 5 | ncall: 139213 | eff(%): 20.676 | loglstar: -870.196 < -862.024 < -864.038 | logz: -886.259 +/-  0.283 | stop:  0.950]        \n"
     ]
    },
    {
     "name": "stdout",
     "output_type": "stream",
     "text": [
      "thickness limited lnEvidence: -886.2338759719516\n"
     ]
    },
    {
     "name": "stderr",
     "output_type": "stream",
     "text": [
      "34433it [08:30, 67.48it/s, batch: 8 | bound: 198 | nc: 1 | ncall: 173773 | eff(%): 19.815 | loglstar: -870.312 < -861.714 < -861.770 | logz: -886.373 +/-  0.284 | stop:  0.913]        \n"
     ]
    },
    {
     "name": "stdout",
     "output_type": "stream",
     "text": [
      "lnEvidence: -886.3654858783067\n",
      "csv\n",
      "cvs-collecting\n",
      "out  [3.47819830e+02 8.77904741e+01 3.20810699e+03 9.49732939e-37\n",
      " 1.65307010e-05] \n",
      "var:  [[1.76447440e+01 1.39762075e+02 1.90993913e+00 2.55098590e+04\n",
      "  6.99628049e-05]\n",
      " [1.39762075e+02 1.10704093e+03 1.51284720e+01 2.01610925e+05\n",
      "  5.54070662e-04]\n",
      " [1.90993913e+00 1.51284720e+01 2.06742813e-01 2.73481708e+03\n",
      "  7.56735044e-06]\n",
      " [2.55098590e+04 2.01610925e+05 2.73481708e+03 2.55670288e+08\n",
      "  1.48331018e-01]\n",
      " [6.99628049e-05 5.54070662e-04 7.56735044e-06 1.48331018e-01\n",
      "  2.92147690e-10]]\n",
      "dRScaleBy: 5 resolution: 3.0\n"
     ]
    },
    {
     "name": "stderr",
     "output_type": "stream",
     "text": [
      "34441it [07:39, 74.97it/s, batch: 9 | bound: 162 | nc: 1 | ncall: 144239 | eff(%): 23.878 | loglstar: -243.503 < -235.189 < -235.213 | logz: -256.814 +/-  0.266 | stop:  0.938]         \n"
     ]
    },
    {
     "name": "stdout",
     "output_type": "stream",
     "text": [
      "thickness limited lnEvidence: -256.8224918348395\n"
     ]
    },
    {
     "name": "stderr",
     "output_type": "stream",
     "text": [
      "24240it [05:21, 75.37it/s, batch: 7 | bound: 108 | nc: 1 | ncall: 101282 | eff(%): 23.933 | loglstar: -242.707 < -235.286 < -236.421 | logz: -256.919 +/-  0.267 | stop:  0.991]        \n"
     ]
    },
    {
     "name": "stdout",
     "output_type": "stream",
     "text": [
      "lnEvidence: -256.92328393233277\n",
      "csv\n",
      "cvs-collecting\n",
      "out  [3.47819830e+02 8.77904741e+01 3.20810699e+03 9.49732939e-37\n",
      " 1.65307010e-05] \n",
      "var:  [[1.76447440e+01 1.39762075e+02 1.90993913e+00 2.55098590e+04\n",
      "  6.99628049e-05]\n",
      " [1.39762075e+02 1.10704093e+03 1.51284720e+01 2.01610925e+05\n",
      "  5.54070662e-04]\n",
      " [1.90993913e+00 1.51284720e+01 2.06742813e-01 2.73481708e+03\n",
      "  7.56735044e-06]\n",
      " [2.55098590e+04 2.01610925e+05 2.73481708e+03 2.55670288e+08\n",
      "  1.48331018e-01]\n",
      " [6.99628049e-05 5.54070662e-04 7.56735044e-06 1.48331018e-01\n",
      "  2.92147690e-10]]\n",
      "dRScaleBy: 5 resolution: 7.0\n"
     ]
    },
    {
     "name": "stderr",
     "output_type": "stream",
     "text": [
      "31835it [29:28, 18.00it/s, batch: 7 | bound: 824 | nc: 9 | ncall: 706064 | eff(%):  4.509 | loglstar: -42.966 < -34.386 < -34.541 | logz: -61.058 +/-  0.296 | stop:  0.952]            \n"
     ]
    },
    {
     "name": "stdout",
     "output_type": "stream",
     "text": [
      "thickness limited lnEvidence: -61.03303894872692\n"
     ]
    },
    {
     "name": "stderr",
     "output_type": "stream",
     "text": [
      "35760it [17:50, 33.41it/s, batch: 8 | bound: 434 | nc: 1 | ncall: 399367 | eff(%):  8.954 | loglstar: -43.771 < -34.734 < -36.504 | logz: -61.037 +/-  0.291 | stop:  0.958]             \n"
     ]
    },
    {
     "name": "stdout",
     "output_type": "stream",
     "text": [
      "lnEvidence: -61.02068196011918\n",
      "csv\n",
      "cvs-collecting\n",
      "out  [3.47819830e+02 8.77904741e+01 3.20810699e+03 9.49732939e-37\n",
      " 1.65307010e-05] \n",
      "var:  [[1.76447440e+01 1.39762075e+02 1.90993913e+00 2.55098590e+04\n",
      "  6.99628049e-05]\n",
      " [1.39762075e+02 1.10704093e+03 1.51284720e+01 2.01610925e+05\n",
      "  5.54070662e-04]\n",
      " [1.90993913e+00 1.51284720e+01 2.06742813e-01 2.73481708e+03\n",
      "  7.56735044e-06]\n",
      " [2.55098590e+04 2.01610925e+05 2.73481708e+03 2.55670288e+08\n",
      "  1.48331018e-01]\n",
      " [6.99628049e-05 5.54070662e-04 7.56735044e-06 1.48331018e-01\n",
      "  2.92147690e-10]]\n",
      "dRScaleBy: 5 resolution: 9.0\n"
     ]
    },
    {
     "name": "stderr",
     "output_type": "stream",
     "text": [
      "34298it [08:28, 67.51it/s, batch: 7 | bound: 161 | nc: 1 | ncall: 140830 | eff(%): 24.354 | loglstar: -661.480 < -652.960 < -653.058 | logz: -682.628 +/-  0.315 | stop:  0.983]        \n"
     ]
    },
    {
     "name": "stdout",
     "output_type": "stream",
     "text": [
      "thickness limited lnEvidence: -682.6266779760213\n"
     ]
    },
    {
     "name": "stderr",
     "output_type": "stream",
     "text": [
      "33794it [5:48:20,  1.62it/s, batch: 7 | bound: 12171 | nc: 3 | ncall: 9185455 | eff(%):  0.368 | loglstar: -661.692 < -652.968 < -653.088 | logz: -681.481 +/-  0.308 | stop:  0.933]             \n"
     ]
    },
    {
     "name": "stdout",
     "output_type": "stream",
     "text": [
      "lnEvidence: -681.4610409074794\n",
      "csv\n",
      "cvs-collecting\n",
      "out  [3.47819830e+02 8.77904741e+01 3.20810699e+03 9.49732939e-37\n",
      " 1.65307010e-05] \n",
      "var:  [[1.76447440e+01 1.39762075e+02 1.90993913e+00 2.55098590e+04\n",
      "  6.99628049e-05]\n",
      " [1.39762075e+02 1.10704093e+03 1.51284720e+01 2.01610925e+05\n",
      "  5.54070662e-04]\n",
      " [1.90993913e+00 1.51284720e+01 2.06742813e-01 2.73481708e+03\n",
      "  7.56735044e-06]\n",
      " [2.55098590e+04 2.01610925e+05 2.73481708e+03 2.55670288e+08\n",
      "  1.48331018e-01]\n",
      " [6.99628049e-05 5.54070662e-04 7.56735044e-06 1.48331018e-01\n",
      "  2.92147690e-10]]\n",
      "dRScaleBy: 10 resolution: 1.0\n"
     ]
    },
    {
     "name": "stderr",
     "output_type": "stream",
     "text": [
      "30693it [09:04, 56.36it/s, batch: 8 | bound: 163 | nc: 1 | ncall: 148717 | eff(%): 20.639 | loglstar: -161.824 < -153.213 < -153.366 | logz: -173.079 +/-  0.248 | stop:  0.940]      \n"
     ]
    },
    {
     "name": "stdout",
     "output_type": "stream",
     "text": [
      "thickness limited lnEvidence: -173.0746737843894\n"
     ]
    },
    {
     "name": "stderr",
     "output_type": "stream",
     "text": [
      "31918it [09:20, 56.96it/s, batch: 8 | bound: 167 | nc: 5 | ncall: 152462 | eff(%): 20.935 | loglstar: -161.783 < -153.202 < -153.265 | logz: -173.092 +/-  0.248 | stop:  0.906]      \n"
     ]
    },
    {
     "name": "stdout",
     "output_type": "stream",
     "text": [
      "lnEvidence: -173.05969495127744\n",
      "csv\n",
      "cvs-collecting\n",
      "out  [3.47819830e+02 8.77904741e+01 3.20810699e+03 9.49732939e-37\n",
      " 1.65307010e-05] \n",
      "var:  [[1.76447440e+01 1.39762075e+02 1.90993913e+00 2.55098590e+04\n",
      "  6.99628049e-05]\n",
      " [1.39762075e+02 1.10704093e+03 1.51284720e+01 2.01610925e+05\n",
      "  5.54070662e-04]\n",
      " [1.90993913e+00 1.51284720e+01 2.06742813e-01 2.73481708e+03\n",
      "  7.56735044e-06]\n",
      " [2.55098590e+04 2.01610925e+05 2.73481708e+03 2.55670288e+08\n",
      "  1.48331018e-01]\n",
      " [6.99628049e-05 5.54070662e-04 7.56735044e-06 1.48331018e-01\n",
      "  2.92147690e-10]]\n",
      "dRScaleBy: 10 resolution: 3.0\n"
     ]
    },
    {
     "name": "stderr",
     "output_type": "stream",
     "text": [
      "22095it [06:35, 55.90it/s, batch: 7 | bound: 104 | nc: 7 | ncall: 104977 | eff(%): 21.047 | loglstar: -0.245 <  7.208 <  5.190 | logz: -10.291 +/-  0.236 | stop:  0.930]             \n"
     ]
    },
    {
     "name": "stdout",
     "output_type": "stream",
     "text": [
      "thickness limited lnEvidence: -10.302971524391873\n"
     ]
    },
    {
     "name": "stderr",
     "output_type": "stream",
     "text": [
      "22171it [06:55, 53.41it/s, batch: 7 | bound: 103 | nc: 2 | ncall: 107125 | eff(%): 20.696 | loglstar: -0.372 <  7.151 <  5.305 | logz: -10.496 +/-  0.236 | stop:  0.922]             \n"
     ]
    },
    {
     "name": "stdout",
     "output_type": "stream",
     "text": [
      "lnEvidence: -10.485837192186086\n",
      "csv\n",
      "cvs-collecting\n",
      "out  [3.47819830e+02 8.77904741e+01 3.20810699e+03 9.49732939e-37\n",
      " 1.65307010e-05] \n",
      "var:  [[1.76447440e+01 1.39762075e+02 1.90993913e+00 2.55098590e+04\n",
      "  6.99628049e-05]\n",
      " [1.39762075e+02 1.10704093e+03 1.51284720e+01 2.01610925e+05\n",
      "  5.54070662e-04]\n",
      " [1.90993913e+00 1.51284720e+01 2.06742813e-01 2.73481708e+03\n",
      "  7.56735044e-06]\n",
      " [2.55098590e+04 2.01610925e+05 2.73481708e+03 2.55670288e+08\n",
      "  1.48331018e-01]\n",
      " [6.99628049e-05 5.54070662e-04 7.56735044e-06 1.48331018e-01\n",
      "  2.92147690e-10]]\n",
      "dRScaleBy: 10 resolution: 7.0\n"
     ]
    },
    {
     "name": "stderr",
     "output_type": "stream",
     "text": [
      "25065it [1:02:28,  6.69it/s, batch: 7 | bound: 1754 | nc: 6050 | ncall: 1709800 | eff(%):  1.466 | loglstar: 53.761 < 61.808 < 60.042 | logz: 40.872 +/-  0.256 | stop:  0.895]       \n"
     ]
    },
    {
     "name": "stdout",
     "output_type": "stream",
     "text": [
      "thickness limited lnEvidence: 40.878851270732426\n"
     ]
    },
    {
     "name": "stderr",
     "output_type": "stream",
     "text": [
      "33061it [58:14,  9.46it/s, batch: 8 | bound: 1620 | nc: 34 | ncall: 1466949 | eff(%):  2.254 | loglstar: 53.408 < 62.266 < 62.151 | logz: 40.792 +/-  0.256 | stop:  0.843]           \n"
     ]
    },
    {
     "name": "stdout",
     "output_type": "stream",
     "text": [
      "lnEvidence: 40.75223150230152\n",
      "csv\n",
      "cvs-collecting\n",
      "out  [3.47819830e+02 8.77904741e+01 3.20810699e+03 9.49732939e-37\n",
      " 1.65307010e-05] \n",
      "var:  [[1.76447440e+01 1.39762075e+02 1.90993913e+00 2.55098590e+04\n",
      "  6.99628049e-05]\n",
      " [1.39762075e+02 1.10704093e+03 1.51284720e+01 2.01610925e+05\n",
      "  5.54070662e-04]\n",
      " [1.90993913e+00 1.51284720e+01 2.06742813e-01 2.73481708e+03\n",
      "  7.56735044e-06]\n",
      " [2.55098590e+04 2.01610925e+05 2.73481708e+03 2.55670288e+08\n",
      "  1.48331018e-01]\n",
      " [6.99628049e-05 5.54070662e-04 7.56735044e-06 1.48331018e-01\n",
      "  2.92147690e-10]]\n",
      "dRScaleBy: 10 resolution: 9.0\n"
     ]
    },
    {
     "name": "stderr",
     "output_type": "stream",
     "text": [
      "30570it [54:15,  9.39it/s, batch: 7 | bound: 1669 | nc: 1 | ncall: 1299662 | eff(%):  2.352 | loglstar: -101.872 < -91.391 < -91.635 | logz: -114.423 +/-  0.262 | stop:  0.987]         \n"
     ]
    },
    {
     "name": "stdout",
     "output_type": "stream",
     "text": [
      "thickness limited lnEvidence: -114.4072512583621\n"
     ]
    },
    {
     "name": "stderr",
     "output_type": "stream",
     "text": [
      "31411it [1:57:23,  4.46it/s, batch: 6 | bound: 3622 | nc: 2 | ncall: 2954587 | eff(%):  1.063 | loglstar: -101.996 < -91.372 < -91.538 | logz: -114.714 +/-  0.264 | stop:  0.862]       \n"
     ]
    },
    {
     "name": "stdout",
     "output_type": "stream",
     "text": [
      "lnEvidence: -114.68229572753494\n",
      "csv\n",
      "cvs-collecting\n",
      "out  [3.47819830e+02 8.77904741e+01 3.20810699e+03 9.49732939e-37\n",
      " 1.65307010e-05] \n",
      "var:  [[1.76447440e+01 1.39762075e+02 1.90993913e+00 2.55098590e+04\n",
      "  6.99628049e-05]\n",
      " [1.39762075e+02 1.10704093e+03 1.51284720e+01 2.01610925e+05\n",
      "  5.54070662e-04]\n",
      " [1.90993913e+00 1.51284720e+01 2.06742813e-01 2.73481708e+03\n",
      "  7.56735044e-06]\n",
      " [2.55098590e+04 2.01610925e+05 2.73481708e+03 2.55670288e+08\n",
      "  1.48331018e-01]\n",
      " [6.99628049e-05 5.54070662e-04 7.56735044e-06 1.48331018e-01\n",
      "  2.92147690e-10]]\n",
      "dRScaleBy: 15 resolution: 1.0\n"
     ]
    },
    {
     "name": "stderr",
     "output_type": "stream",
     "text": [
      "22614it [05:44, 65.59it/s, batch: 7 | bound: 119 | nc: 3 | ncall: 118245 | eff(%): 19.125 | loglstar: -49.810 < -41.638 < -43.462 | logz: -58.694 +/-  0.226 | stop:  0.826]         \n"
     ]
    },
    {
     "name": "stdout",
     "output_type": "stream",
     "text": [
      "thickness limited lnEvidence: -58.64780510695973\n"
     ]
    },
    {
     "name": "stderr",
     "output_type": "stream",
     "text": [
      "29739it [07:10, 69.09it/s, batch: 8 | bound: 161 | nc: 7 | ncall: 148458 | eff(%): 20.032 | loglstar: -50.222 < -41.401 < -41.499 | logz: -58.442 +/-  0.224 | stop:  0.933]         \n"
     ]
    },
    {
     "name": "stdout",
     "output_type": "stream",
     "text": [
      "lnEvidence: -58.44818983219997\n",
      "csv\n",
      "cvs-collecting\n",
      "out  [3.47819830e+02 8.77904741e+01 3.20810699e+03 9.49732939e-37\n",
      " 1.65307010e-05] \n",
      "var:  [[1.76447440e+01 1.39762075e+02 1.90993913e+00 2.55098590e+04\n",
      "  6.99628049e-05]\n",
      " [1.39762075e+02 1.10704093e+03 1.51284720e+01 2.01610925e+05\n",
      "  5.54070662e-04]\n",
      " [1.90993913e+00 1.51284720e+01 2.06742813e-01 2.73481708e+03\n",
      "  7.56735044e-06]\n",
      " [2.55098590e+04 2.01610925e+05 2.73481708e+03 2.55670288e+08\n",
      "  1.48331018e-01]\n",
      " [6.99628049e-05 5.54070662e-04 7.56735044e-06 1.48331018e-01\n",
      "  2.92147690e-10]]\n",
      "dRScaleBy: 15 resolution: 3.0\n"
     ]
    },
    {
     "name": "stderr",
     "output_type": "stream",
     "text": [
      "27774it [06:47, 68.20it/s, batch: 8 | bound: 141 | nc: 2 | ncall: 140228 | eff(%): 19.806 | loglstar: 24.716 < 32.881 < 32.801 | logz: 17.455 +/-  0.214 | stop:  0.976]             \n"
     ]
    },
    {
     "name": "stdout",
     "output_type": "stream",
     "text": [
      "thickness limited lnEvidence: 17.468412975171937\n"
     ]
    },
    {
     "name": "stderr",
     "output_type": "stream",
     "text": [
      "29057it [06:50, 70.71it/s, batch: 8 | bound: 147 | nc: 21 | ncall: 141720 | eff(%): 20.503 | loglstar: 24.575 < 32.887 < 32.837 | logz: 17.368 +/-  0.216 | stop:  0.992]             \n"
     ]
    },
    {
     "name": "stdout",
     "output_type": "stream",
     "text": [
      "lnEvidence: 17.37091701476931\n",
      "csv\n",
      "cvs-collecting\n",
      "out  [3.47819830e+02 8.77904741e+01 3.20810699e+03 9.49732939e-37\n",
      " 1.65307010e-05] \n",
      "var:  [[1.76447440e+01 1.39762075e+02 1.90993913e+00 2.55098590e+04\n",
      "  6.99628049e-05]\n",
      " [1.39762075e+02 1.10704093e+03 1.51284720e+01 2.01610925e+05\n",
      "  5.54070662e-04]\n",
      " [1.90993913e+00 1.51284720e+01 2.06742813e-01 2.73481708e+03\n",
      "  7.56735044e-06]\n",
      " [2.55098590e+04 2.01610925e+05 2.73481708e+03 2.55670288e+08\n",
      "  1.48331018e-01]\n",
      " [6.99628049e-05 5.54070662e-04 7.56735044e-06 1.48331018e-01\n",
      "  2.92147690e-10]]\n",
      "dRScaleBy: 15 resolution: 7.0\n"
     ]
    },
    {
     "name": "stderr",
     "output_type": "stream",
     "text": [
      "31415it [1:09:14,  7.56it/s, batch: 7 | bound: 2126 | nc: 1 | ncall: 1906051 | eff(%):  1.648 | loglstar: 50.264 < 60.753 < 60.577 | logz: 42.357 +/-  0.222 | stop:  0.790]         \n"
     ]
    },
    {
     "name": "stdout",
     "output_type": "stream",
     "text": [
      "thickness limited lnEvidence: 42.341773042336406\n"
     ]
    },
    {
     "name": "stderr",
     "output_type": "stream",
     "text": [
      "26237it [41:56, 10.43it/s, batch: 7 | bound: 1203 | nc: 12 | ncall: 1086113 | eff(%):  2.416 | loglstar: 50.316 < 60.384 < 58.180 | logz: 42.456 +/-  0.220 | stop:  0.895]          \n"
     ]
    },
    {
     "name": "stdout",
     "output_type": "stream",
     "text": [
      "lnEvidence: 42.5108219989175\n",
      "csv\n",
      "cvs-collecting\n",
      "out  [3.47819830e+02 8.77904741e+01 3.20810699e+03 9.49732939e-37\n",
      " 1.65307010e-05] \n",
      "var:  [[1.76447440e+01 1.39762075e+02 1.90993913e+00 2.55098590e+04\n",
      "  6.99628049e-05]\n",
      " [1.39762075e+02 1.10704093e+03 1.51284720e+01 2.01610925e+05\n",
      "  5.54070662e-04]\n",
      " [1.90993913e+00 1.51284720e+01 2.06742813e-01 2.73481708e+03\n",
      "  7.56735044e-06]\n",
      " [2.55098590e+04 2.01610925e+05 2.73481708e+03 2.55670288e+08\n",
      "  1.48331018e-01]\n",
      " [6.99628049e-05 5.54070662e-04 7.56735044e-06 1.48331018e-01\n",
      "  2.92147690e-10]]\n",
      "dRScaleBy: 15 resolution: 9.0\n"
     ]
    },
    {
     "name": "stderr",
     "output_type": "stream",
     "text": [
      "30836it [1:24:53,  6.05it/s, batch: 8 | bound: 3107 | nc: 4 | ncall: 2376460 | eff(%):  1.298 | loglstar: -16.564 < -7.371 < -10.466 | logz: -26.086 +/-  0.232 | stop:  0.993]            \n"
     ]
    },
    {
     "name": "stdout",
     "output_type": "stream",
     "text": [
      "thickness limited lnEvidence: -26.07731100106868\n"
     ]
    },
    {
     "name": "stderr",
     "output_type": "stream",
     "text": [
      "21616it [05:06, 70.45it/s, batch: 7 | bound: 85 | nc: 7 | ncall: 86150 | eff(%): 25.091 | loglstar: -15.954 < -6.949 < -9.950 | logz: -26.815 +/-  0.244 | stop:  0.824]             \n"
     ]
    },
    {
     "name": "stdout",
     "output_type": "stream",
     "text": [
      "lnEvidence: -26.765799975725457\n",
      "csv\n",
      "cvs-collecting\n",
      "out  [3.47819830e+02 8.77904741e+01 3.20810699e+03 9.49732939e-37\n",
      " 1.65307010e-05] \n",
      "var:  [[1.76447440e+01 1.39762075e+02 1.90993913e+00 2.55098590e+04\n",
      "  6.99628049e-05]\n",
      " [1.39762075e+02 1.10704093e+03 1.51284720e+01 2.01610925e+05\n",
      "  5.54070662e-04]\n",
      " [1.90993913e+00 1.51284720e+01 2.06742813e-01 2.73481708e+03\n",
      "  7.56735044e-06]\n",
      " [2.55098590e+04 2.01610925e+05 2.73481708e+03 2.55670288e+08\n",
      "  1.48331018e-01]\n",
      " [6.99628049e-05 5.54070662e-04 7.56735044e-06 1.48331018e-01\n",
      "  2.92147690e-10]]\n",
      "dRScaleBy: 20 resolution: 1.0\n"
     ]
    },
    {
     "name": "stderr",
     "output_type": "stream",
     "text": [
      "26181it [06:34, 66.32it/s, batch: 8 | bound: 142 | nc: 9 | ncall: 137694 | eff(%): 19.014 | loglstar: -21.362 < -12.494 < -12.636 | logz: -27.733 +/-  0.208 | stop:  0.976]        \n"
     ]
    },
    {
     "name": "stdout",
     "output_type": "stream",
     "text": [
      "thickness limited lnEvidence: -27.701438332130166\n"
     ]
    },
    {
     "name": "stderr",
     "output_type": "stream",
     "text": [
      "23010it [05:57, 64.43it/s, batch: 8 | bound: 125 | nc: 2 | ncall: 120718 | eff(%): 19.061 | loglstar: -21.184 < -12.769 < -14.396 | logz: -27.849 +/-  0.209 | stop:  0.904]        \n"
     ]
    },
    {
     "name": "stdout",
     "output_type": "stream",
     "text": [
      "lnEvidence: -27.847024452945774\n",
      "csv\n",
      "cvs-collecting\n",
      "out  [3.47819830e+02 8.77904741e+01 3.20810699e+03 9.49732939e-37\n",
      " 1.65307010e-05] \n",
      "var:  [[1.76447440e+01 1.39762075e+02 1.90993913e+00 2.55098590e+04\n",
      "  6.99628049e-05]\n",
      " [1.39762075e+02 1.10704093e+03 1.51284720e+01 2.01610925e+05\n",
      "  5.54070662e-04]\n",
      " [1.90993913e+00 1.51284720e+01 2.06742813e-01 2.73481708e+03\n",
      "  7.56735044e-06]\n",
      " [2.55098590e+04 2.01610925e+05 2.73481708e+03 2.55670288e+08\n",
      "  1.48331018e-01]\n",
      " [6.99628049e-05 5.54070662e-04 7.56735044e-06 1.48331018e-01\n",
      "  2.92147690e-10]]\n",
      "dRScaleBy: 20 resolution: 3.0\n"
     ]
    },
    {
     "name": "stderr",
     "output_type": "stream",
     "text": [
      "28040it [06:49, 68.50it/s, batch: 8 | bound: 150 | nc: 6 | ncall: 139439 | eff(%): 20.109 | loglstar: 23.184 < 31.613 < 31.556 | logz: 17.906 +/-  0.197 | stop:  0.899]           \n"
     ]
    },
    {
     "name": "stdout",
     "output_type": "stream",
     "text": [
      "thickness limited lnEvidence: 17.923427521647163\n"
     ]
    },
    {
     "name": "stderr",
     "output_type": "stream",
     "text": [
      "25504it [06:44, 63.11it/s, batch: 9 | bound: 134 | nc: 3 | ncall: 127247 | eff(%): 20.043 | loglstar: 23.063 < 31.486 < 30.396 | logz: 17.806 +/-  0.198 | stop:  0.908]            \n"
     ]
    },
    {
     "name": "stdout",
     "output_type": "stream",
     "text": [
      "lnEvidence: 17.7413881949897\n",
      "csv\n",
      "cvs-collecting\n",
      "out  [3.47819830e+02 8.77904741e+01 3.20810699e+03 9.49732939e-37\n",
      " 1.65307010e-05] \n",
      "var:  [[1.76447440e+01 1.39762075e+02 1.90993913e+00 2.55098590e+04\n",
      "  6.99628049e-05]\n",
      " [1.39762075e+02 1.10704093e+03 1.51284720e+01 2.01610925e+05\n",
      "  5.54070662e-04]\n",
      " [1.90993913e+00 1.51284720e+01 2.06742813e-01 2.73481708e+03\n",
      "  7.56735044e-06]\n",
      " [2.55098590e+04 2.01610925e+05 2.73481708e+03 2.55670288e+08\n",
      "  1.48331018e-01]\n",
      " [6.99628049e-05 5.54070662e-04 7.56735044e-06 1.48331018e-01\n",
      "  2.92147690e-10]]\n",
      "dRScaleBy: 20 resolution: 7.0\n"
     ]
    },
    {
     "name": "stderr",
     "output_type": "stream",
     "text": [
      "29782it [36:56, 13.44it/s, batch: 7 | bound: 1135 | nc: 2 | ncall: 976764 | eff(%):  3.049 | loglstar: 38.664 < 50.007 < 49.837 | logz: 34.362 +/-  0.193 | stop:  0.859]            \n"
     ]
    },
    {
     "name": "stdout",
     "output_type": "stream",
     "text": [
      "thickness limited lnEvidence: 34.37910322948846\n"
     ]
    },
    {
     "name": "stderr",
     "output_type": "stream",
     "text": [
      "28629it [25:50, 18.46it/s, batch: 7 | bound: 738 | nc: 1 | ncall: 660722 | eff(%):  4.333 | loglstar: 38.730 < 48.828 < 46.248 | logz: 34.542 +/-  0.184 | stop:  0.950]             \n"
     ]
    },
    {
     "name": "stdout",
     "output_type": "stream",
     "text": [
      "lnEvidence: 34.524598968004895\n",
      "csv\n",
      "cvs-collecting\n",
      "out  [3.47819830e+02 8.77904741e+01 3.20810699e+03 9.49732939e-37\n",
      " 1.65307010e-05] \n",
      "var:  [[1.76447440e+01 1.39762075e+02 1.90993913e+00 2.55098590e+04\n",
      "  6.99628049e-05]\n",
      " [1.39762075e+02 1.10704093e+03 1.51284720e+01 2.01610925e+05\n",
      "  5.54070662e-04]\n",
      " [1.90993913e+00 1.51284720e+01 2.06742813e-01 2.73481708e+03\n",
      "  7.56735044e-06]\n",
      " [2.55098590e+04 2.01610925e+05 2.73481708e+03 2.55670288e+08\n",
      "  1.48331018e-01]\n",
      " [6.99628049e-05 5.54070662e-04 7.56735044e-06 1.48331018e-01\n",
      "  2.92147690e-10]]\n",
      "dRScaleBy: 20 resolution: 9.0\n"
     ]
    },
    {
     "name": "stderr",
     "output_type": "stream",
     "text": [
      "21991it [05:09, 71.00it/s, batch: 7 | bound: 91 | nc: 3 | ncall: 90629 | eff(%): 24.265 | loglstar:  4.092 < 11.739 < 10.137 | logz: -4.690 +/-  0.223 | stop:  0.915]              \n"
     ]
    },
    {
     "name": "stdout",
     "output_type": "stream",
     "text": [
      "thickness limited lnEvidence: -4.680316380923956\n"
     ]
    },
    {
     "name": "stderr",
     "output_type": "stream",
     "text": [
      "21417it [05:12, 68.57it/s, batch: 7 | bound: 93 | nc: 9 | ncall: 92226 | eff(%): 23.222 | loglstar:  4.238 < 11.777 <  9.966 | logz: -4.473 +/-  0.221 | stop:  0.958]              \n"
     ]
    },
    {
     "name": "stdout",
     "output_type": "stream",
     "text": [
      "lnEvidence: -4.491294767664335\n"
     ]
    }
   ],
   "source": [
    "resolutions = [1.,3.,7.,9.]\n",
    "dRScaleBys = [5,10,15,20]\n",
    "# lnPosts = []\n",
    "# lnPostss = []\n",
    "lnEvidence1 = []\n",
    "lnEvidence2 = []\n",
    "figI=1\n",
    "# resolution = 5.\n",
    "for dRScaleBy in dRScaleBys:\n",
    "#     datas=[]\n",
    "    for resolution in resolutions:\n",
    "        model = ReflectModel(structure, bkg=3e-6, dq=resolution)\n",
    "        q = np.linspace(0.005, 0.3, 70)# was 1001\n",
    "#         plt.figure(figI)\n",
    "        R = model(q, x_err=resolution)\n",
    "#         plt.plot(q, R)\n",
    "#         plt.xlabel('Q')\n",
    "#         plt.ylabel('Reflectivity')\n",
    "#         plt.yscale('log')\n",
    "#         plt.title('dR scaled by '+str(dRScaleBy)+' dq '+str(resolution))\n",
    "        #Q, R(Q), sig_Q, sig_R =\n",
    "        sim_dR = msd.main(sim_q=q,sim_R=R)*dRScaleBy\n",
    "#         R = model(q, x_err=resolution)\n",
    "#         plt.errorbar(q,R,sim_dR, alpha=0.4)\n",
    "        data = Data1D(data= (q,R,sim_dR))\n",
    "        print(\"dRScaleBy:\",dRScaleBy,\"resolution:\",resolution)\n",
    "\n",
    "        objective = gO(data, 3, logpExtra=logp_extra)\n",
    "        fitter = CFitter(objective)\n",
    "        DNSampler = DynamicNestedSampler(fitter.logl, fitter.priorTransform, fitter.nDim()) #1:01:10 or 28:46 time\n",
    "        DNSampler.run_nested(dlogz_init=0.05)# was 0.01\n",
    "        result = DNSampler.results\n",
    "        lnEvidence = result[\"logz\"][-1]\n",
    "        print(\"thickness limited lnEvidence:\",lnEvidence)\n",
    "        lnEvidence1.append(lnEvidence)\n",
    "\n",
    "        objective = gO(data, 3)\n",
    "        fitter = CFitter(objective)\n",
    "        DNSampler = DynamicNestedSampler(fitter.logl, fitter.priorTransform, fitter.nDim()) #1:01:10 or 28:46 time\n",
    "        DNSampler.run_nested(dlogz_init=0.05)# was 0.01\n",
    "        result = DNSampler.results\n",
    "        lnEvidence = result[\"logz\"][-1]\n",
    "        print(\"lnEvidence:\",lnEvidence)\n",
    "        lnEvidence2.append(lnEvidence)\n",
    "#         print(lnPost)\n",
    "#         lnPosts.append(lnPost)"
   ]
  },
  {
   "cell_type": "code",
   "execution_count": 11,
   "metadata": {},
   "outputs": [],
   "source": [
    "f=open(\"dDqDR2Dupdated.txt\",\"w+\")\n",
    "f.write(\"limited max thickness ln(evidence):\\n\")\n",
    "for lnEvidence in lnEvidence1:\n",
    "    f.write(str(lnEvidence)+\"\\n\")\n",
    "f.write(\"\\nnot limited max thickness ln(evidence):\\n\")\n",
    "for lnEvidence in lnEvidence2:\n",
    "    f.write(str(lnEvidence)+\"\\n\")\n",
    "f.close()"
   ]
  },
  {
   "cell_type": "markdown",
   "metadata": {},
   "source": [
    "26499it [24:55, 17.72it/s, batch: 7 | bound: 706 | nc: 8 | ncall: 646207 | eff(%):  4.101 | loglstar: -202.191 < -195.105 < -197.037 | logz: -220.134 +/-  0.292 | stop:  0.952]         \n",
    "-220.11328681456592\n",
    "\n",
    "28379it [08:30, 55.62it/s, batch: 8 | bound: 181 | nc: 6 | ncall: 161880 | eff(%): 17.531 | loglstar: 1000.415 < 1008.232 < 1007.220 | logz: 982.787 +/-  0.292 | stop:  0.987]          \n",
    "982.7887810159078\n",
    "\n",
    "32388it [24:41, 21.86it/s, batch: 8 | bound: 716 | nc: 6 | ncall: 590509 | eff(%):  5.485 | loglstar: 1075.286 < 1083.785 < 1081.905 | logz: 1055.241 +/-  0.310 | stop:  0.996]         \n",
    "1055.2684365805314\n",
    "\n",
    "30559it [4:44:11,  1.79it/s, batch: 7 | bound: 9951 | nc: 9 | ncall: 7637451 | eff(%):  0.400 | loglstar: -123.375 < -115.445 < -116.614 | logz: -146.484 +/-  0.325 | stop:  0.954]            \n",
    "-146.47705209627895\n",
    "\n",
    "30163it [13:24, 37.49it/s, batch: 8 | bound: 316 | nc: 3 | ncall: 287583 | eff(%): 10.488 | loglstar: -202.911 < -195.011 < -196.521 | logz: -220.609 +/-  0.294 | stop:  0.896]         \n",
    "-220.60610280345477\n",
    "\n",
    "28286it [08:12, 57.44it/s, batch: 8 | bound: 173 | nc: 3 | ncall: 156091 | eff(%): 18.121 | loglstar: 1000.488 < 1008.240 < 1007.316 | logz: 982.981 +/-  0.291 | stop:  0.962]          \n",
    "982.9960603373407\n",
    "\n",
    "28828it [11:10, 42.98it/s, batch: 7 | bound: 262 | nc: 13 | ncall: 232396 | eff(%): 12.405 | loglstar: 1075.951 < 1083.723 < 1081.587 | logz: 1055.021 +/-  0.312 | stop:  0.982]         \n",
    "1055.0312970246378\n",
    "\n",
    "27767it [30:19, 15.26it/s, batch: 6 | bound: 879 | nc: 7 | ncall: 707327 | eff(%):  3.926 | loglstar: -122.960 < -115.814 < -118.256 | logz: -146.916 +/-  0.329 | stop:  0.958]          \n",
    "-146.91675261007052\n",
    "\n",
    "29402it [08:33, 57.22it/s, batch: 8 | bound: 177 | nc: 4 | ncall: 157628 | eff(%): 18.653 | loglstar: -202.548 < -195.020 < -196.058 | logz: -220.605 +/-  0.294 | stop:  0.979]         \n",
    "-220.6032067872486\n",
    "\n",
    "30570it [08:33, 59.56it/s, batch: 8 | bound: 171 | nc: 2 | ncall: 151998 | eff(%): 20.112 | loglstar: 1000.298 < 1008.302 < 1007.287 | logz: 982.565 +/-  0.294 | stop:  0.917]          \n",
    "982.54792841728\n",
    "\n",
    "31217it [10:50, 48.03it/s, batch: 8 | bound: 245 | nc: 2 | ncall: 221857 | eff(%): 14.071 | loglstar: 1075.649 < 1083.508 < 1081.140 | logz: 1054.841 +/-  0.312 | stop:  0.874]         \n",
    "1054.832846010915\n",
    "\n",
    "31648it [3:08:55,  2.79it/s, batch: 8 | bound: 7087 | nc: 4 | ncall: 5426582 | eff(%):  0.583 | loglstar: -123.704 < -115.501 < -117.517 | logz: -146.624 +/-  0.325 | stop:  0.911]            \n",
    "-146.635041601231\n",
    "\n",
    "27858it [13:01, 35.64it/s, batch: 8 | bound: 313 | nc: 2 | ncall: 286177 | eff(%):  9.735 | loglstar: -202.557 < -195.077 < -195.935 | logz: -220.541 +/-  0.294 | stop:  0.950]         \n",
    "-220.51950736917618\n",
    "\n",
    "29685it [08:45, 56.49it/s, batch: 8 | bound: 186 | nc: 1 | ncall: 167036 | eff(%): 17.772 | loglstar: 1000.284 < 1008.179 < 1006.634 | logz: 982.917 +/-  0.291 | stop:  0.947]\n",
    "982.9139570644866\n",
    "\n",
    "32599it [08:38, 62.89it/s, batch: 8 | bound: 175 | nc: 11 | ncall: 153989 | eff(%): 21.170 | loglstar: 1075.323 < 1083.736 < 1081.824 | logz: 1054.970 +/-  0.311 | stop:  0.858]\n",
    "1054.9575362870723\n",
    "\n",
    "33744it [2:08:35,  4.37it/s, batch: 8 | bound: 4335 | nc: 1 | ncall: 3416253 | eff(%):  0.988 | loglstar: -123.740 < -115.761 < -117.602 | logz: -147.612 +/-  0.332 | stop:  0.821]\n",
    "-147.6220194411551"
   ]
  },
  {
   "cell_type": "markdown",
   "metadata": {},
   "source": [
    "17"
   ]
  },
  {
   "cell_type": "markdown",
   "metadata": {},
   "source": [
    "-220.11328681456592, 982.7887810159078, 1055.2684365805314, -146.47705209627895, -220.60610280345477, 982.9960603373407, 1055.0312970246378, -146.91675261007052, -220.6032067872486, 982.54792841728, 1054.832846010915, -146.635041601231, -220.51950736917618, 982.9139570644866, 1054.9575362870723, -147.6220194411551"
   ]
  },
  {
   "cell_type": "code",
   "execution_count": 20,
   "metadata": {},
   "outputs": [
    {
     "name": "stdout",
     "output_type": "stream",
     "text": [
      "thickness limited ln(Evidence): [-886.2338759719516, -256.8224918348395, -61.03303894872692, -682.6266779760213, -173.0746737843894, -10.302971524391873, 40.878851270732426, -114.4072512583621, -58.64780510695973, 17.468412975171937, 42.341773042336406, -26.07731100106868, -27.701438332130166, 17.923427521647163, 34.37910322948846, -4.680316380923956]\n",
      "not thickness limited ln(Evidence): [-886.3654858783067, -256.92328393233277, -61.02068196011918, -681.4610409074794, -173.05969495127744, -10.485837192186086, 40.75223150230152, -114.68229572753494, -58.44818983219997, 17.37091701476931, 42.5108219989175, -26.765799975725457, -27.847024452945774, 17.7413881949897, 34.524598968004895, -4.491294767664335]\n"
     ]
    },
    {
     "data": {
      "image/png": "[encoded data removed]",
      "text/plain": [
       "<Figure size 684x432 with 2 Axes>"
      ]
     },
     "metadata": {
      "needs_background": "light"
     },
     "output_type": "display_data"
    },
    {
     "data": {
      "image/png": "[encoded data removed]",
      "text/plain": [
       "<Figure size 684x432 with 2 Axes>"
      ]
     },
     "metadata": {
      "needs_background": "light"
     },
     "output_type": "display_data"
    },
    {
     "name": "stdout",
     "output_type": "stream",
     "text": [
      "Wall time: 628 ms\n"
     ]
    }
   ],
   "source": [
    "%%time\n",
    "\n",
    "ha_s = [\"left\", \"center\", \"center\", \"right\"]\n",
    "\n",
    "print(\"thickness limited ln(Evidence):\",lnEvidence1)\n",
    "print(\"not thickness limited ln(Evidence):\",lnEvidence2)\n",
    "\n",
    "zs= np.array(lnEvidence1).reshape(len(resolutions), len(dRScaleBys)).transpose()\n",
    "plt.figure(figI)\n",
    "figI+=1\n",
    "plt.contour(dRScaleBys,resolutions,zs,alpha=0.5);\n",
    "plt.contourf(dRScaleBys,resolutions,zs,alpha=0.3);\n",
    "plt.colorbar();\n",
    "for i in range(len(dRScaleBys)):\n",
    "    for j in range(len(resolutions)):\n",
    "        plt.scatter(dRScaleBys[i],resolutions[j],c=\"red\",marker=\"x\");\n",
    "        ha = ha_s[i]\n",
    "        plt.annotate(zs[j][i],(dRScaleBys[i],resolutions[j]),\n",
    "                    horizontalalignment=ha, fontsize=\"small\", verticalalignment='bottom')\n",
    "# for x in dRScaleBys:\n",
    "#     for y in resolutions:\n",
    "#         plt.scatter(x,y,c=\"red\",marker=\"x\");\n",
    "plt.ylabel(\"dq\");\n",
    "plt.xlabel(\"dR scaled by\");\n",
    "plt.title(\"thickness limited contour plot of ln(evidence) for dq vs dR scaled by\");\n",
    "plt.tight_layout();\n",
    "plt.show();\n",
    "#--------\n",
    "\n",
    "zs= np.array(lnEvidence2).reshape(len(resolutions), len(dRScaleBys)).transpose()\n",
    "plt.figure(figI)\n",
    "figI+=1\n",
    "plt.contour(dRScaleBys,resolutions,zs,alpha=0.5);\n",
    "plt.contourf(dRScaleBys,resolutions,zs,alpha=0.3);\n",
    "plt.colorbar();\n",
    "for i in range(len(dRScaleBys)):\n",
    "    for j in range(len(resolutions)):\n",
    "        plt.scatter(dRScaleBys[i],resolutions[j],c=\"red\",marker=\"x\");\n",
    "        ha = ha_s[i]\n",
    "        plt.annotate(zs[j][i],(dRScaleBys[i],resolutions[j]),\n",
    "                    horizontalalignment=ha, fontsize=\"small\", verticalalignment='bottom')\n",
    "# for x in dRScaleBys:\n",
    "#     for y in resolutions:\n",
    "#         plt.scatter(x,y,c=\"red\",marker=\"x\");\n",
    "plt.ylabel(\"dq\");\n",
    "plt.xlabel(\"dR scaled by\");\n",
    "plt.title(\"not thickness limited contour plot of ln(evidence) for dq vs dR scaled by\");\n",
    "plt.tight_layout();\n",
    "plt.show();"
   ]
  },
  {
   "cell_type": "markdown",
   "metadata": {},
   "source": [
    "thickness limited ln(Evidence): [-886.2338759719516, -256.8224918348395, -61.03303894872692, -682.6266779760213, -173.0746737843894, -10.302971524391873, 40.878851270732426, -114.4072512583621, -58.64780510695973, 17.468412975171937, 42.341773042336406, -26.07731100106868, -27.701438332130166, 17.923427521647163, 34.37910322948846, -4.680316380923956]\n",
    "not thickness limited ln(Evidence): [-886.3654858783067, -256.92328393233277, -61.02068196011918, -681.4610409074794, -173.05969495127744, -10.485837192186086, 40.75223150230152, -114.68229572753494, -58.44818983219997, 17.37091701476931, 42.5108219989175, -26.765799975725457, -27.847024452945774, 17.7413881949897, 34.524598968004895, -4.491294767664335]"
   ]
  },
  {
   "cell_type": "code",
   "execution_count": null,
   "metadata": {},
   "outputs": [],
   "source": [
    "# for objective1,objective2 in zip(objectives1,objectives2):\n",
    "#     plt.figure(figI)\n",
    "#     figI+=1\n",
    "\n",
    "#     plt.subplot(2,2,1).set_title(\"data plotted for limited max thickness\")\n",
    "#     fig, ax = objective1.plot()\n",
    "#     plt.subplot(2,2,2).set_title(\"structure plotted for limited max thickness\")\n",
    "#     plt.plot(*objective1.model.structure.sld_profile())\n",
    "#     plt.ylabel('SLD /$10^{-6} \\AA^{-2}$')\n",
    "#     plt.xlabel('distance / $\\AA$');\n",
    "\n",
    "#     plt.subplot(2,2,3).set_title(\"data plotted for limited max thickness\")\n",
    "#     fig, ax = objective2.plot()\n",
    "#     plt.subplot(2,2,4).set_title(\"structure plotted for limited max thickness\")\n",
    "#     plt.plot(*objective2.model.structure.sld_profile())\n",
    "#     plt.ylabel('SLD /$10^{-6} \\AA^{-2}$')\n",
    "#     plt.xlabel('distance / $\\AA$');\n"
   ]
  }
 ],
 "metadata": {
  "kernelspec": {
   "display_name": "Python 3",
   "language": "python",
   "name": "python3"
  },
  "language_info": {
   "codemirror_mode": {
    "name": "ipython",
    "version": 3
   },
   "file_extension": ".py",
   "mimetype": "text/x-python",
   "name": "python",
   "nbconvert_exporter": "python",
   "pygments_lexer": "ipython3",
   "version": "3.7.3"
  }
 },
 "nbformat": 4,
 "nbformat_minor": 2
}
